{
 "cells": [
  {
   "cell_type": "markdown",
   "metadata": {},
   "source": [
    "# logit 计量模型分析"
   ]
  },
  {
   "cell_type": "code",
   "execution_count": 29,
   "metadata": {},
   "outputs": [],
   "source": [
    "import pandas as pd\n",
    "import statsmodels.api as sm\n",
    "from summary3 import summary_col #这是自己改写的summary函数"
   ]
  },
  {
   "cell_type": "code",
   "execution_count": 77,
   "metadata": {},
   "outputs": [],
   "source": [
    "data = pd.read_excel('./爆款数据.xlsx')"
   ]
  },
  {
   "cell_type": "code",
   "execution_count": 78,
   "metadata": {},
   "outputs": [],
   "source": [
    "data.columns = ['shopName','items','salesNum30d','collectNum','price','y']\n",
    "# data['shopItems'] = data['shopName'].astype('str') +'-'+ data['items']"
   ]
  },
  {
   "cell_type": "code",
   "execution_count": 79,
   "metadata": {},
   "outputs": [],
   "source": [
    "data = pd.get_dummies(data,columns=['shopName','items'],drop_first=True)\n",
    "# data = pd.get_dummies(data,columns=['shopItems'],drop_first=True)"
   ]
  },
  {
   "cell_type": "code",
   "execution_count": 80,
   "metadata": {},
   "outputs": [],
   "source": [
    "y = data['y']\n",
    "X = data.drop(['y'],axis=1)"
   ]
  },
  {
   "cell_type": "code",
   "execution_count": 81,
   "metadata": {},
   "outputs": [
    {
     "name": "stdout",
     "output_type": "stream",
     "text": [
      "Optimization terminated successfully.\n",
      "         Current function value: 0.127906\n",
      "         Iterations 12\n"
     ]
    }
   ],
   "source": [
    "# X = sm.add_constant(X)\n",
    "logit_model = sm.Logit(y,X)\n",
    "logit_res = logit_model.fit()"
   ]
  },
  {
   "cell_type": "code",
   "execution_count": 82,
   "metadata": {},
   "outputs": [
    {
     "data": {
      "text/html": [
       "<table class=\"simpletable\">\n",
       "<caption>Logit Regression Results</caption>\n",
       "<tr>\n",
       "  <th>Dep. Variable:</th>         <td>y</td>        <th>  No. Observations:  </th>  <td>   280</td>  \n",
       "</tr>\n",
       "<tr>\n",
       "  <th>Model:</th>               <td>Logit</td>      <th>  Df Residuals:      </th>  <td>   269</td>  \n",
       "</tr>\n",
       "<tr>\n",
       "  <th>Method:</th>               <td>MLE</td>       <th>  Df Model:          </th>  <td>    10</td>  \n",
       "</tr>\n",
       "<tr>\n",
       "  <th>Date:</th>          <td>Tue, 02 Jul 2019</td> <th>  Pseudo R-squ.:     </th>  <td>0.8153</td>  \n",
       "</tr>\n",
       "<tr>\n",
       "  <th>Time:</th>              <td>14:52:04</td>     <th>  Log-Likelihood:    </th> <td> -35.814</td> \n",
       "</tr>\n",
       "<tr>\n",
       "  <th>converged:</th>           <td>True</td>       <th>  LL-Null:           </th> <td> -193.90</td> \n",
       "</tr>\n",
       "<tr>\n",
       "  <th> </th>                      <td> </td>        <th>  LLR p-value:       </th> <td>5.879e-62</td>\n",
       "</tr>\n",
       "</table>\n",
       "<table class=\"simpletable\">\n",
       "<tr>\n",
       "       <td></td>          <th>coef</th>     <th>std err</th>      <th>z</th>      <th>P>|z|</th>  <th>[0.025</th>    <th>0.975]</th>  \n",
       "</tr>\n",
       "<tr>\n",
       "  <th>salesNum30d</th> <td>    0.0086</td> <td>    0.002</td> <td>    5.475</td> <td> 0.000</td> <td>    0.006</td> <td>    0.012</td>\n",
       "</tr>\n",
       "<tr>\n",
       "  <th>collectNum</th>  <td>    0.0002</td> <td> 8.09e-05</td> <td>    2.628</td> <td> 0.009</td> <td> 5.41e-05</td> <td>    0.000</td>\n",
       "</tr>\n",
       "<tr>\n",
       "  <th>price</th>       <td>-7.178e-05</td> <td> 4.58e-05</td> <td>   -1.567</td> <td> 0.117</td> <td>   -0.000</td> <td>  1.8e-05</td>\n",
       "</tr>\n",
       "<tr>\n",
       "  <th>shopName_2</th>  <td>   -3.7303</td> <td>    1.122</td> <td>   -3.325</td> <td> 0.001</td> <td>   -5.929</td> <td>   -1.531</td>\n",
       "</tr>\n",
       "<tr>\n",
       "  <th>shopName_3</th>  <td>   -6.0624</td> <td>    1.498</td> <td>   -4.046</td> <td> 0.000</td> <td>   -8.999</td> <td>   -3.126</td>\n",
       "</tr>\n",
       "<tr>\n",
       "  <th>shopName_4</th>  <td>   -5.7516</td> <td>    1.430</td> <td>   -4.023</td> <td> 0.000</td> <td>   -8.554</td> <td>   -2.949</td>\n",
       "</tr>\n",
       "<tr>\n",
       "  <th>shopName_5</th>  <td>  -11.8079</td> <td>    2.760</td> <td>   -4.279</td> <td> 0.000</td> <td>  -17.217</td> <td>   -6.399</td>\n",
       "</tr>\n",
       "<tr>\n",
       "  <th>items_半身裙</th>   <td>    0.0062</td> <td>    0.806</td> <td>    0.008</td> <td> 0.994</td> <td>   -1.575</td> <td>    1.587</td>\n",
       "</tr>\n",
       "<tr>\n",
       "  <th>items_卫衣/绒衫</th> <td>   -1.2326</td> <td>    0.887</td> <td>   -1.390</td> <td> 0.164</td> <td>   -2.970</td> <td>    0.505</td>\n",
       "</tr>\n",
       "<tr>\n",
       "  <th>items_衬衫</th>    <td>   -3.9664</td> <td>    1.582</td> <td>   -2.507</td> <td> 0.012</td> <td>   -7.067</td> <td>   -0.866</td>\n",
       "</tr>\n",
       "<tr>\n",
       "  <th>items_连衣裙</th>   <td>    0.3426</td> <td>    1.101</td> <td>    0.311</td> <td> 0.756</td> <td>   -1.816</td> <td>    2.501</td>\n",
       "</tr>\n",
       "</table><br/><br/>Possibly complete quasi-separation: A fraction 0.34 of observations can be<br/>perfectly predicted. This might indicate that there is complete<br/>quasi-separation. In this case some parameters will not be identified."
      ],
      "text/plain": [
       "<class 'statsmodels.iolib.summary.Summary'>\n",
       "\"\"\"\n",
       "                           Logit Regression Results                           \n",
       "==============================================================================\n",
       "Dep. Variable:                      y   No. Observations:                  280\n",
       "Model:                          Logit   Df Residuals:                      269\n",
       "Method:                           MLE   Df Model:                           10\n",
       "Date:                Tue, 02 Jul 2019   Pseudo R-squ.:                  0.8153\n",
       "Time:                        14:52:04   Log-Likelihood:                -35.814\n",
       "converged:                       True   LL-Null:                       -193.90\n",
       "                                        LLR p-value:                 5.879e-62\n",
       "===============================================================================\n",
       "                  coef    std err          z      P>|z|      [0.025      0.975]\n",
       "-------------------------------------------------------------------------------\n",
       "salesNum30d     0.0086      0.002      5.475      0.000       0.006       0.012\n",
       "collectNum      0.0002   8.09e-05      2.628      0.009    5.41e-05       0.000\n",
       "price       -7.178e-05   4.58e-05     -1.567      0.117      -0.000     1.8e-05\n",
       "shopName_2     -3.7303      1.122     -3.325      0.001      -5.929      -1.531\n",
       "shopName_3     -6.0624      1.498     -4.046      0.000      -8.999      -3.126\n",
       "shopName_4     -5.7516      1.430     -4.023      0.000      -8.554      -2.949\n",
       "shopName_5    -11.8079      2.760     -4.279      0.000     -17.217      -6.399\n",
       "items_半身裙       0.0062      0.806      0.008      0.994      -1.575       1.587\n",
       "items_卫衣/绒衫    -1.2326      0.887     -1.390      0.164      -2.970       0.505\n",
       "items_衬衫       -3.9664      1.582     -2.507      0.012      -7.067      -0.866\n",
       "items_连衣裙       0.3426      1.101      0.311      0.756      -1.816       2.501\n",
       "===============================================================================\n",
       "\n",
       "Possibly complete quasi-separation: A fraction 0.34 of observations can be\n",
       "perfectly predicted. This might indicate that there is complete\n",
       "quasi-separation. In this case some parameters will not be identified.\n",
       "\"\"\""
      ]
     },
     "execution_count": 82,
     "metadata": {},
     "output_type": "execute_result"
    }
   ],
   "source": [
    "logit_res.summary()"
   ]
  },
  {
   "cell_type": "code",
   "execution_count": 40,
   "metadata": {},
   "outputs": [
    {
     "name": "stdout",
     "output_type": "stream",
     "text": [
      "\n",
      "===============================\n",
      "\t Results Summary                           \n",
      "---------------------------------------\n",
      "                                 y     \n",
      "---------------------------------------\n",
      "salesNum30d                 0.0086***  \n",
      "                            (5.4746)   \n",
      "collectNum                  0.0002***  \n",
      "                            (2.6282)   \n",
      "price                       -0.0001    \n",
      "                            (-1.5666)  \n",
      "shopName_2                  -3.7303*** \n",
      "                            (-3.3245)  \n",
      "shopName_3                  -6.0624*** \n",
      "                            (-4.0462)  \n",
      "shopName_4                  -5.7516*** \n",
      "                            (-4.0226)  \n",
      "shopName_5                  -11.8079***\n",
      "                            (-4.2788)  \n",
      "items_半身裙                   0.0062     \n",
      "                            (0.0076)   \n",
      "items_卫衣/绒衫                 -1.2326    \n",
      "                            (-1.3904)  \n",
      "items_衬衫                    -3.9664**  \n",
      "                            (-2.5073)  \n",
      "items_连衣裙                   0.3426     \n",
      "                            (0.3111)   \n",
      "---------------------------------------\n",
      "Model:                            Logit\n",
      "No. Observations:                 280  \n",
      "Pseudo R-squared:                 0.815\n",
      "-------------------------------\n",
      "note:                          \n",
      "\t t statistics in parentheses. \n",
      "\t * p<.1, ** p<.05, ***p<.01   \n",
      "===============================\n",
      "\n"
     ]
    }
   ],
   "source": [
    "print(summary_col(logit_res).as_text())#.to_excel('./logit_res.xlsx')"
   ]
  },
  {
   "cell_type": "code",
   "execution_count": 202,
   "metadata": {},
   "outputs": [
    {
     "data": {
      "text/html": [
       "<div>\n",
       "<style scoped>\n",
       "    .dataframe tbody tr th:only-of-type {\n",
       "        vertical-align: middle;\n",
       "    }\n",
       "\n",
       "    .dataframe tbody tr th {\n",
       "        vertical-align: top;\n",
       "    }\n",
       "\n",
       "    .dataframe thead th {\n",
       "        text-align: right;\n",
       "    }\n",
       "</style>\n",
       "<table border=\"1\" class=\"dataframe\">\n",
       "  <thead>\n",
       "    <tr style=\"text-align: right;\">\n",
       "      <th></th>\n",
       "      <th>salesNum30d</th>\n",
       "      <th>collectNum</th>\n",
       "    </tr>\n",
       "    <tr>\n",
       "      <th>shopName</th>\n",
       "      <th></th>\n",
       "      <th></th>\n",
       "    </tr>\n",
       "  </thead>\n",
       "  <tbody>\n",
       "    <tr>\n",
       "      <th>1</th>\n",
       "      <td>4950.645161</td>\n",
       "      <td>1008.193548</td>\n",
       "    </tr>\n",
       "    <tr>\n",
       "      <th>2</th>\n",
       "      <td>1592.517241</td>\n",
       "      <td>17193.413793</td>\n",
       "    </tr>\n",
       "    <tr>\n",
       "      <th>3</th>\n",
       "      <td>1965.810811</td>\n",
       "      <td>43119.216216</td>\n",
       "    </tr>\n",
       "    <tr>\n",
       "      <th>4</th>\n",
       "      <td>1549.500000</td>\n",
       "      <td>34807.909091</td>\n",
       "    </tr>\n",
       "    <tr>\n",
       "      <th>5</th>\n",
       "      <td>3347.230769</td>\n",
       "      <td>33994.115385</td>\n",
       "    </tr>\n",
       "  </tbody>\n",
       "</table>\n",
       "</div>"
      ],
      "text/plain": [
       "          salesNum30d    collectNum\n",
       "shopName                           \n",
       "1         4950.645161   1008.193548\n",
       "2         1592.517241  17193.413793\n",
       "3         1965.810811  43119.216216\n",
       "4         1549.500000  34807.909091\n",
       "5         3347.230769  33994.115385"
      ]
     },
     "execution_count": 202,
     "metadata": {},
     "output_type": "execute_result"
    }
   ],
   "source": [
    "data = pd.read_excel('./爆款数据.xlsx')\n",
    "data.columns = ['shopName','items','salesNum30d','collectNum','price','y']\n",
    "mean = data[y==1].groupby('shopName')[['salesNum30d','collectNum']].mean()\n",
    "mean"
   ]
  },
  {
   "cell_type": "code",
   "execution_count": 204,
   "metadata": {},
   "outputs": [],
   "source": [
    "mean.to_excel('./mean_salesNum30d_collectNum.xlsx')"
   ]
  },
  {
   "cell_type": "markdown",
   "metadata": {},
   "source": [
    "# RF、xgboost模型"
   ]
  },
  {
   "cell_type": "code",
   "execution_count": 205,
   "metadata": {},
   "outputs": [],
   "source": [
    "data = pd.get_dummies(data,columns=['shopName','items'])\n",
    "y = data['y']\n",
    "X = data.drop(['y'],axis=1)"
   ]
  },
  {
   "cell_type": "code",
   "execution_count": 206,
   "metadata": {},
   "outputs": [],
   "source": [
    "from sklearn.metrics import log_loss,accuracy_score,confusion_matrix,classification_report\n",
    "import itertools\n",
    "import matplotlib.pyplot as plt\n",
    "%matplotlib inline"
   ]
  },
  {
   "cell_type": "code",
   "execution_count": 207,
   "metadata": {},
   "outputs": [],
   "source": [
    "def plot_confusion_matrix(cm, classes,\n",
    "                          normalize=False,\n",
    "                          title='Confusion matrix',\n",
    "                          cmap=plt.cm.Blues):\n",
    "    \"\"\"\n",
    "    This function prints and plots the confusion matrix.\n",
    "    Normalization can be applied by setting `normalize=True`.\n",
    "    \"\"\"\n",
    "    if normalize:\n",
    "        cm = cm.astype('float') / cm.sum(axis=1)[:, np.newaxis]\n",
    "\n",
    "    plt.figure(figsize=(6,4),dpi=120)\n",
    "    plt.imshow(cm, interpolation='nearest', cmap=cmap)\n",
    "    plt.title(title)\n",
    "    plt.colorbar()\n",
    "    tick_marks = np.arange(len(classes))\n",
    "    plt.xticks(tick_marks, classes, rotation=45)\n",
    "    plt.yticks(tick_marks, classes)\n",
    "\n",
    "    fmt = '.2f' if normalize else 'd'\n",
    "    thresh = cm.max() / 2.\n",
    "    for i, j in itertools.product(range(cm.shape[0]), range(cm.shape[1])):\n",
    "        plt.text(j, i, format(cm[i, j], fmt),\n",
    "                 horizontalalignment=\"center\",\n",
    "                 color=\"white\" if cm[i, j] > thresh else \"black\")\n",
    "\n",
    "    plt.tight_layout()\n",
    "    plt.ylabel('True label')\n",
    "    plt.xlabel('Predicted label')\n",
    "    return plt\n",
    "\n",
    "def eval_info(model,y_true,y_pred,y_pred_prob,cm):\n",
    "    \n",
    "    print(\"------%s classification_report------\\n\" % model.__class__.__name__,\n",
    "          classification_report(y_true,y_pred))\n",
    "    \n",
    "    logloss = log_loss(y_true,y_pred_prob)\n",
    "    accuracy = accuracy_score(y_true,y_pred)\n",
    "    \n",
    "    print(\"-----the best model eval info-----\\n\",\n",
    "            \"logloss:{}\\n\".format(logloss),\n",
    "            \"accuracy:{}\\n\".format(accuracy)\n",
    "         )\n",
    "    plot_confusion_matrix(cm, classes=y_true.unique())"
   ]
  },
  {
   "cell_type": "code",
   "execution_count": 211,
   "metadata": {},
   "outputs": [],
   "source": [
    "from sklearn.model_selection import train_test_split,StratifiedKFold\n",
    "from sklearn.model_selection import GridSearchCV\n",
    "\n",
    "from sklearn.ensemble import RandomForestClassifier\n",
    "from sklearn.linear_model import LogisticRegression"
   ]
  },
  {
   "cell_type": "code",
   "execution_count": 212,
   "metadata": {},
   "outputs": [],
   "source": [
    "train_x,test_x,train_y,test_y = train_test_split(X,y)\n",
    "sfk = StratifiedKFold(n_splits=3,shuffle=True)"
   ]
  },
  {
   "cell_type": "code",
   "execution_count": 224,
   "metadata": {},
   "outputs": [
    {
     "name": "stdout",
     "output_type": "stream",
     "text": [
      " best score: 0.952381 \n",
      " best model: RandomForestClassifier(bootstrap=True, class_weight=None, criterion='entropy',\n",
      "            max_depth=8, max_features='auto', max_leaf_nodes=None,\n",
      "            min_impurity_decrease=0.0, min_impurity_split=None,\n",
      "            min_samples_leaf=1, min_samples_split=2,\n",
      "            min_weight_fraction_leaf=0.0, n_estimators=60, n_jobs=-1,\n",
      "            oob_score=False, random_state=666, verbose=0, warm_start=False)\n",
      "------RandomForestClassifier classification_report------\n",
      "              precision    recall  f1-score   support\n",
      "\n",
      "          0       0.97      1.00      0.99        36\n",
      "          1       1.00      0.97      0.99        34\n",
      "\n",
      "avg / total       0.99      0.99      0.99        70\n",
      "\n",
      "-----the best model eval info-----\n",
      " logloss:0.1526151346844907\n",
      " accuracy:0.9857142857142858\n",
      "\n",
      "train_score: 1.0 \n",
      " test_score: 0.9857142857142858\n"
     ]
    },
    {
     "data": {
      "image/png": "[encoded data removed]",
      "text/plain": [
       "<Figure size 720x480 with 2 Axes>"
      ]
     },
     "metadata": {
      "needs_background": "light"
     },
     "output_type": "display_data"
    }
   ],
   "source": [
    "param_grid = {\n",
    "            'criterion':['entropy'],\n",
    "            'n_estimators':[60],\n",
    "#             'max_features':[\"sqrt\"],\n",
    "            'max_depth':[8],\n",
    "#              \"min_samples_split\":[], # 样本量不大不需管\n",
    "#               \"min_samples_leaf\":[], # 样本量不大不需管\n",
    "#             \"max_leaf_nodes\":[13,15,20],\n",
    "#             'min_impurity_decrease':[0],\n",
    "            'class_weight':[None],\n",
    "            'n_jobs':[-1],\n",
    "            'random_state':[666],\n",
    "             }\n",
    "\n",
    "\n",
    "RF = GridSearchCV(RandomForestClassifier(),param_grid,cv=sfk,scoring='accuracy')\n",
    "RF.fit(train_x,train_y)\n",
    "\n",
    "print(\" best score: %f \\n best model: %s\" % (RF.best_score_, RF.best_estimator_))\n",
    "\n",
    "\n",
    "RF_best = RF.best_estimator_\n",
    "\n",
    "y_pred =RF_best.predict(test_x)\n",
    "y_pred_prob = RF_best.predict_proba(test_x)\n",
    "\n",
    "train_score = RF_best.score(train_x,train_y)\n",
    "test_score = RF_best.score(test_x,test_y)\n",
    "\n",
    "cm = confusion_matrix(test_y,y_pred)\n",
    "\n",
    "eval_info(RF_best,test_y,y_pred,y_pred_prob,cm)\n",
    "print( \"train_score:\",train_score,\"\\n\",\"test_score:\",test_score)"
   ]
  },
  {
   "cell_type": "code",
   "execution_count": 220,
   "metadata": {},
   "outputs": [],
   "source": [
    "import xgboost as xgb"
   ]
  },
  {
   "cell_type": "code",
   "execution_count": 254,
   "metadata": {},
   "outputs": [
    {
     "name": "stderr",
     "output_type": "stream",
     "text": [
      "F:\\Anaconda3\\lib\\site-packages\\xgboost\\core.py:587: FutureWarning: Series.base is deprecated and will be removed in a future version\n",
      "  if getattr(data, 'base', None) is not None and \\\n"
     ]
    },
    {
     "name": "stdout",
     "output_type": "stream",
     "text": [
      "[0]\ttrain-logloss:0.651699\ttrain-error:0.028571\ttest-logloss:0.655295\ttest-error:0.057143\n",
      "Multiple eval metrics have been passed: 'test-error' will be used for early stopping.\n",
      "\n",
      "Will train until test-error hasn't improved in 600 rounds.\n",
      "[10]\ttrain-logloss:0.380645\ttrain-error:0.02381\ttest-logloss:0.395689\ttest-error:0.042857\n",
      "[20]\ttrain-logloss:0.241114\ttrain-error:0.019048\ttest-logloss:0.253241\ttest-error:0.014286\n",
      "[30]\ttrain-logloss:0.163773\ttrain-error:0.009524\ttest-logloss:0.176767\ttest-error:0.014286\n",
      "[40]\ttrain-logloss:0.117843\ttrain-error:0.009524\ttest-logloss:0.137421\ttest-error:0.014286\n",
      "[50]\ttrain-logloss:0.084725\ttrain-error:0.004762\ttest-logloss:0.114759\ttest-error:0.014286\n",
      "[60]\ttrain-logloss:0.064144\ttrain-error:0\ttest-logloss:0.10261\ttest-error:0.028571\n",
      "[70]\ttrain-logloss:0.050585\ttrain-error:0\ttest-logloss:0.095636\ttest-error:0.028571\n",
      "[80]\ttrain-logloss:0.042027\ttrain-error:0\ttest-logloss:0.090846\ttest-error:0.028571\n",
      "[90]\ttrain-logloss:0.036198\ttrain-error:0\ttest-logloss:0.089447\ttest-error:0.028571\n",
      "[100]\ttrain-logloss:0.031964\ttrain-error:0\ttest-logloss:0.089647\ttest-error:0.028571\n",
      "[110]\ttrain-logloss:0.028858\ttrain-error:0\ttest-logloss:0.091597\ttest-error:0.028571\n",
      "[120]\ttrain-logloss:0.027067\ttrain-error:0\ttest-logloss:0.093466\ttest-error:0.042857\n",
      "[130]\ttrain-logloss:0.025539\ttrain-error:0\ttest-logloss:0.097653\ttest-error:0.042857\n",
      "[140]\ttrain-logloss:0.024577\ttrain-error:0\ttest-logloss:0.098275\ttest-error:0.042857\n",
      "[150]\ttrain-logloss:0.023889\ttrain-error:0\ttest-logloss:0.097946\ttest-error:0.042857\n",
      "[160]\ttrain-logloss:0.023331\ttrain-error:0\ttest-logloss:0.098347\ttest-error:0.042857\n",
      "[170]\ttrain-logloss:0.022875\ttrain-error:0\ttest-logloss:0.097974\ttest-error:0.042857\n",
      "[180]\ttrain-logloss:0.022493\ttrain-error:0\ttest-logloss:0.09776\ttest-error:0.042857\n",
      "[190]\ttrain-logloss:0.022135\ttrain-error:0\ttest-logloss:0.09815\ttest-error:0.042857\n",
      "[200]\ttrain-logloss:0.021777\ttrain-error:0\ttest-logloss:0.097883\ttest-error:0.042857\n",
      "[210]\ttrain-logloss:0.021462\ttrain-error:0\ttest-logloss:0.097905\ttest-error:0.042857\n",
      "[220]\ttrain-logloss:0.021184\ttrain-error:0\ttest-logloss:0.097724\ttest-error:0.042857\n",
      "[230]\ttrain-logloss:0.020957\ttrain-error:0\ttest-logloss:0.097624\ttest-error:0.042857\n",
      "[240]\ttrain-logloss:0.020777\ttrain-error:0\ttest-logloss:0.097403\ttest-error:0.042857\n",
      "[250]\ttrain-logloss:0.020617\ttrain-error:0\ttest-logloss:0.097718\ttest-error:0.042857\n",
      "[260]\ttrain-logloss:0.020479\ttrain-error:0\ttest-logloss:0.09751\ttest-error:0.042857\n",
      "[270]\ttrain-logloss:0.020336\ttrain-error:0\ttest-logloss:0.09747\ttest-error:0.042857\n",
      "[280]\ttrain-logloss:0.020206\ttrain-error:0\ttest-logloss:0.097859\ttest-error:0.042857\n",
      "[290]\ttrain-logloss:0.020079\ttrain-error:0\ttest-logloss:0.097898\ttest-error:0.042857\n",
      "[300]\ttrain-logloss:0.019929\ttrain-error:0\ttest-logloss:0.098047\ttest-error:0.042857\n",
      "[310]\ttrain-logloss:0.019793\ttrain-error:0\ttest-logloss:0.098495\ttest-error:0.042857\n",
      "[320]\ttrain-logloss:0.019659\ttrain-error:0\ttest-logloss:0.099012\ttest-error:0.042857\n",
      "[330]\ttrain-logloss:0.019523\ttrain-error:0\ttest-logloss:0.098916\ttest-error:0.042857\n",
      "[340]\ttrain-logloss:0.019394\ttrain-error:0\ttest-logloss:0.09891\ttest-error:0.042857\n",
      "[350]\ttrain-logloss:0.019271\ttrain-error:0\ttest-logloss:0.09912\ttest-error:0.042857\n",
      "[360]\ttrain-logloss:0.019157\ttrain-error:0\ttest-logloss:0.099076\ttest-error:0.042857\n",
      "[370]\ttrain-logloss:0.019027\ttrain-error:0\ttest-logloss:0.099087\ttest-error:0.042857\n",
      "[380]\ttrain-logloss:0.01892\ttrain-error:0\ttest-logloss:0.099124\ttest-error:0.042857\n",
      "[390]\ttrain-logloss:0.018807\ttrain-error:0\ttest-logloss:0.098908\ttest-error:0.042857\n",
      "[400]\ttrain-logloss:0.018685\ttrain-error:0\ttest-logloss:0.098866\ttest-error:0.042857\n",
      "[410]\ttrain-logloss:0.018584\ttrain-error:0\ttest-logloss:0.098872\ttest-error:0.042857\n",
      "[420]\ttrain-logloss:0.018473\ttrain-error:0\ttest-logloss:0.098992\ttest-error:0.042857\n",
      "[430]\ttrain-logloss:0.018385\ttrain-error:0\ttest-logloss:0.099132\ttest-error:0.042857\n",
      "[440]\ttrain-logloss:0.01829\ttrain-error:0\ttest-logloss:0.099221\ttest-error:0.042857\n",
      "[450]\ttrain-logloss:0.018197\ttrain-error:0\ttest-logloss:0.099158\ttest-error:0.042857\n",
      "[460]\ttrain-logloss:0.018117\ttrain-error:0\ttest-logloss:0.099272\ttest-error:0.042857\n",
      "[470]\ttrain-logloss:0.018055\ttrain-error:0\ttest-logloss:0.09905\ttest-error:0.042857\n",
      "[480]\ttrain-logloss:0.017998\ttrain-error:0\ttest-logloss:0.099122\ttest-error:0.042857\n",
      "[490]\ttrain-logloss:0.017944\ttrain-error:0\ttest-logloss:0.098963\ttest-error:0.042857\n",
      "[500]\ttrain-logloss:0.017896\ttrain-error:0\ttest-logloss:0.098851\ttest-error:0.042857\n",
      "[510]\ttrain-logloss:0.01785\ttrain-error:0\ttest-logloss:0.099071\ttest-error:0.042857\n",
      "[520]\ttrain-logloss:0.017807\ttrain-error:0\ttest-logloss:0.09904\ttest-error:0.042857\n",
      "[530]\ttrain-logloss:0.017767\ttrain-error:0\ttest-logloss:0.099043\ttest-error:0.042857\n",
      "[540]\ttrain-logloss:0.017729\ttrain-error:0\ttest-logloss:0.099102\ttest-error:0.042857\n",
      "[550]\ttrain-logloss:0.017693\ttrain-error:0\ttest-logloss:0.099111\ttest-error:0.042857\n",
      "[560]\ttrain-logloss:0.01766\ttrain-error:0\ttest-logloss:0.099287\ttest-error:0.042857\n",
      "[570]\ttrain-logloss:0.017628\ttrain-error:0\ttest-logloss:0.099348\ttest-error:0.042857\n",
      "[580]\ttrain-logloss:0.017597\ttrain-error:0\ttest-logloss:0.099173\ttest-error:0.042857\n",
      "[590]\ttrain-logloss:0.017566\ttrain-error:0\ttest-logloss:0.099196\ttest-error:0.042857\n",
      "[600]\ttrain-logloss:0.017537\ttrain-error:0\ttest-logloss:0.099009\ttest-error:0.042857\n",
      "[610]\ttrain-logloss:0.017508\ttrain-error:0\ttest-logloss:0.099079\ttest-error:0.042857\n",
      "[620]\ttrain-logloss:0.01748\ttrain-error:0\ttest-logloss:0.098946\ttest-error:0.042857\n",
      "Stopping. Best iteration:\n",
      "[20]\ttrain-logloss:0.241114\ttrain-error:0.019048\ttest-logloss:0.253241\ttest-error:0.014286\n",
      "\n",
      "------Booster classification_report------\n",
      "              precision    recall  f1-score   support\n",
      "\n",
      "          0       1.00      0.97      0.99        36\n",
      "          1       0.97      1.00      0.99        34\n",
      "\n",
      "avg / total       0.99      0.99      0.99        70\n",
      "\n",
      "-----the best model eval info-----\n",
      " logloss:0.25324095700468335\n",
      " accuracy:0.9857142857142858\n",
      "\n"
     ]
    },
    {
     "data": {
      "image/png": "[encoded data removed]",
      "text/plain": [
       "<Figure size 720x480 with 2 Axes>"
      ]
     },
     "metadata": {
      "needs_background": "light"
     },
     "output_type": "display_data"
    }
   ],
   "source": [
    "dtrain = xgb.DMatrix(train_x,label=train_y)\n",
    "dtest = xgb.DMatrix(test_x,label=test_y)\n",
    "\n",
    "\n",
    "params = {\n",
    "            'booster':'gbtree',\n",
    "            'objective':'binary:logistic',\n",
    "#             'scale_pos_weight': float(len(train_y)-sum(train_y))/float(sum(train_y)),\n",
    "            'eval_metric': ['logloss','error'],\n",
    "#             'gamma':0.,\n",
    "            'max_depth':8,\n",
    "#             'alpha':0.5,\n",
    "#             'lambda':1.5,\n",
    "#             'subsample':0.7,\n",
    "#             'colsample_bytree':0.8,\n",
    "#             'min_child_weight':6, \n",
    "            'eta': 0.05,\n",
    "            'seed':666,\n",
    "            'silent':1,\n",
    "            'missing':-1,\n",
    "        }\n",
    "\n",
    "\n",
    "\n",
    "xgb_model = xgb.train(params,dtrain,num_boost_round=800,early_stopping_rounds=600,\n",
    "                       evals=[(dtrain,'train'),(dtest,'test')],verbose_eval=10)\n",
    "\n",
    "y_pred_prob = xgb_model.predict(dtest,ntree_limit=xgb_model.best_ntree_limit)\n",
    "y_pred = np.where(y_pred_prob>0.5,1,0)\n",
    "\n",
    "cm = confusion_matrix(test_y,y_pred)\n",
    "\n",
    "eval_info(xgb_model,test_y,y_pred,y_pred_prob,cm)"
   ]
  },
  {
   "cell_type": "code",
   "execution_count": 256,
   "metadata": {},
   "outputs": [
    {
     "data": {
      "text/plain": [
       "<matplotlib.axes._subplots.AxesSubplot at 0x20984cdbcc0>"
      ]
     },
     "execution_count": 256,
     "metadata": {},
     "output_type": "execute_result"
    },
    {
     "data": {
      "image/png": "[encoded data removed]",
      "text/plain": [
       "<Figure size 1080x864 with 1 Axes>"
      ]
     },
     "metadata": {
      "needs_background": "light"
     },
     "output_type": "display_data"
    }
   ],
   "source": [
    "fig,ax=plt.subplots(figsize=(15,12))\n",
    "xgb.plot_tree(xgb_model,ax=ax)"
   ]
  }
 ],
 "metadata": {
  "kernelspec": {
   "display_name": "Python 3",
   "language": "python",
   "name": "python3"
  },
  "language_info": {
   "codemirror_mode": {
    "name": "ipython",
    "version": 3
   },
   "file_extension": ".py",
   "mimetype": "text/x-python",
   "name": "python",
   "nbconvert_exporter": "python",
   "pygments_lexer": "ipython3",
   "version": "3.6.8"
  },
  "nbTranslate": {
   "displayLangs": [
    "*"
   ],
   "hotkey": "alt-t",
   "langInMainMenu": true,
   "sourceLang": "en",
   "targetLang": "fr",
   "useGoogleTranslate": true
  },
  "toc": {
   "base_numbering": 1,
   "nav_menu": {},
   "number_sections": true,
   "sideBar": true,
   "skip_h1_title": false,
   "title_cell": "Table of Contents",
   "title_sidebar": "Contents",
   "toc_cell": false,
   "toc_position": {},
   "toc_section_display": true,
   "toc_window_display": false
  },
  "varInspector": {
   "cols": {
    "lenName": 16,
    "lenType": 16,
    "lenVar": 40
   },
   "kernels_config": {
    "python": {
     "delete_cmd_postfix": "",
     "delete_cmd_prefix": "del ",
     "library": "var_list.py",
     "varRefreshCmd": "print(var_dic_list())"
    },
    "r": {
     "delete_cmd_postfix": ") ",
     "delete_cmd_prefix": "rm(",
     "library": "var_list.r",
     "varRefreshCmd": "cat(var_dic_list()) "
    }
   },
   "types_to_exclude": [
    "module",
    "function",
    "builtin_function_or_method",
    "instance",
    "_Feature"
   ],
   "window_display": false
  }
 },
 "nbformat": 4,
 "nbformat_minor": 2
}
