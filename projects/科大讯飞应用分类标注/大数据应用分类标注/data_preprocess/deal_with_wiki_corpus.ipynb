{
 "cells": [
  {
   "cell_type": "markdown",
   "metadata": {},
   "source": [
    "# wikicorpus"
   ]
  },
  {
   "cell_type": "code",
   "execution_count": 1,
   "metadata": {},
   "outputs": [
    {
     "name": "stderr",
     "output_type": "stream",
     "text": [
      "F:\\Anaconda3\\lib\\site-packages\\gensim\\utils.py:1197: UserWarning: detected Windows; aliasing chunkize to chunkize_serial\n",
      "  warnings.warn(\"detected Windows; aliasing chunkize to chunkize_serial\")\n"
     ]
    }
   ],
   "source": [
    "from gensim.corpora import WikiCorpus\n",
    "import logging\n",
    "\n",
    "program = os.path.basename(sys.argv[0])\n",
    "logger = logging.getLogger(program)\n",
    "logging.basicConfig(format='%(asctime)s: %(levelname)s: %(message)s')\n",
    "logging.root.setLevel(level=logging.INFO)\n",
    "logger.info(\"running %s\" % ' '.join(sys.argv))"
   ]
  },
  {
   "cell_type": "code",
   "execution_count": 2,
   "metadata": {},
   "outputs": [
    {
     "name": "stderr",
     "output_type": "stream",
     "text": [
      "2019-07-08 23:04:15,557: INFO: adding document #0 to Dictionary(0 unique tokens: [])\n",
      "2019-07-08 23:04:55,386: INFO: discarding 599161 tokens: [('母子因此結怨', 1), ('每個道有一個政治中心', 1), ('每年又', 1), ('每懷君親', 1), ('比例很高', 1), ('比較完整的管理體制', 1), ('民族信仰有木葉山崇拜', 1), ('決定了皇帝的巡狩制', 1), ('沒有朝廷和部落首領的允許', 1), ('河北省霸縣', 1)]...\n",
      "2019-07-08 23:04:55,388: INFO: keeping 2000000 tokens which were in no less than 0 and no more than 10000 (=100.0%) documents\n",
      "2019-07-08 23:04:58,436: INFO: resulting dictionary: Dictionary(2000000 unique tokens: ['academic', 'albany', 'align', 'also', 'an']...)\n",
      "2019-07-08 23:04:58,559: INFO: adding document #10000 to Dictionary(2000000 unique tokens: ['academic', 'albany', 'align', 'also', 'an']...)\n",
      "2019-07-08 23:05:32,420: INFO: discarding 1741321 tokens: [('要求联合国撤销驻朝鲜半岛联军', 1), ('认为普选并非解决一切问题的方法', 1), ('认为此举违反了国际法', 1), ('贵州暴雨成灾', 1), ('费德勒最终以', 1), ('较早前报导', 1), ('辆凌志ls', 1), ('这是两国两年来最高层级的对话', 1), ('进军四强', 1), ('造成七二水災', 1)]...\n",
      "2019-07-08 23:05:32,422: INFO: keeping 2000000 tokens which were in no less than 0 and no more than 20000 (=100.0%) documents\n",
      "2019-07-08 23:05:35,705: INFO: resulting dictionary: Dictionary(2000000 unique tokens: ['academic', 'albany', 'align', 'also', 'an']...)\n",
      "2019-07-08 23:05:35,904: INFO: adding document #20000 to Dictionary(2000000 unique tokens: ['academic', 'albany', 'align', 'also', 'an']...)\n",
      "2019-07-08 23:06:06,258: INFO: discarding 1496187 tokens: [('向地球传回了超过', 1), ('喷气推进实验室行星图片集', 1), ('在通过特洛伊沙地时', 1), ('多项火星计划被取消或推迟', 1), ('官方正式名称火星探测漫游者', 1), ('对火星这颗红色行星进行详细考察', 1), ('居里号漫游车被取消', 1), ('屬於希爾達族小行星', 1), ('岁女孩索菲', 1), ('并分析其物质成份', 1)]...\n",
      "2019-07-08 23:06:06,259: INFO: keeping 2000000 tokens which were in no less than 0 and no more than 30000 (=100.0%) documents\n",
      "2019-07-08 23:06:09,520: INFO: resulting dictionary: Dictionary(2000000 unique tokens: ['academic', 'albany', 'align', 'also', 'an']...)\n",
      "2019-07-08 23:06:09,677: INFO: adding document #30000 to Dictionary(2000000 unique tokens: ['academic', 'albany', 'align', 'also', 'an']...)\n",
      "2019-07-08 23:06:40,105: INFO: discarding 1381117 tokens: [('棘頭動物門', 1), ('植物界則擁有', 1), ('植物界的為', 1), ('植物門', 1), ('沒有刺絲胞', 1), ('無維管束系統', 1), ('無肉莖', 1), ('無體腔', 1), ('現存動物門', 1), ('環口動物門', 1)]...\n",
      "2019-07-08 23:06:40,106: INFO: keeping 2000000 tokens which were in no less than 0 and no more than 40000 (=100.0%) documents\n",
      "2019-07-08 23:06:43,337: INFO: resulting dictionary: Dictionary(2000000 unique tokens: ['academic', 'albany', 'align', 'also', 'an']...)\n",
      "2019-07-08 23:06:43,485: INFO: adding document #40000 to Dictionary(2000000 unique tokens: ['academic', 'albany', 'align', 'also', 'an']...)\n",
      "2019-07-08 23:07:14,936: INFO: discarding 1277983 tokens: [('內懷險躁', 1), ('全国有一百九十郡', 1), ('全长两千七百余公里', 1), ('全长四千多里', 1), ('八月坐船游江都', 1), ('公主不许', 1), ('公主遣使告知始毕', 1), ('六亲不认', 1), ('六品御女', 1), ('六子李愔生母', 1)]...\n",
      "2019-07-08 23:07:14,937: INFO: keeping 2000000 tokens which were in no less than 0 and no more than 50000 (=100.0%) documents\n",
      "2019-07-08 23:07:18,128: INFO: resulting dictionary: Dictionary(2000000 unique tokens: ['academic', 'albany', 'align', 'also', 'an']...)\n",
      "2019-07-08 23:07:18,277: INFO: adding document #50000 to Dictionary(2000000 unique tokens: ['academic', 'albany', 'align', 'also', 'an']...)\n",
      "2019-07-08 23:07:49,398: INFO: discarding 1179302 tokens: [('章学诚相貌不佳', 1), ('章学诚還批評袁枚', 1), ('章學誠一生精力都用于講學', 1), ('章學誠一生頗自負', 1), ('章學誠年譜', 1), ('章學誠提出', 1), ('章學誠是', 1), ('章學誠的史論及其影響', 1), ('章學誠的生平及其思想', 1), ('章學誠的知識論', 1)]...\n",
      "2019-07-08 23:07:49,398: INFO: keeping 2000000 tokens which were in no less than 0 and no more than 60000 (=100.0%) documents\n",
      "2019-07-08 23:07:52,616: INFO: resulting dictionary: Dictionary(2000000 unique tokens: ['academic', 'albany', 'align', 'also', 'an']...)\n",
      "2019-07-08 23:07:52,754: INFO: adding document #60000 to Dictionary(2000000 unique tokens: ['academic', 'albany', 'align', 'also', 'an']...)\n",
      "2019-07-08 23:08:23,120: INFO: discarding 1140177 tokens: [('中越战争爆發', 1), ('中非共和国爆发政变', 1), ('人全部丧身', 1), ('人得救', 1), ('令天文台需發出十號颶風信號約', 1), ('以及內衣寫真女星', 1), ('伊拉克总统巴克尔辞职', 1), ('伊朗人質危機爆發', 1), ('伊朗宗教领袖霍梅尼下令释放', 1), ('伊萬傑琳', 1)]...\n",
      "2019-07-08 23:08:23,121: INFO: keeping 2000000 tokens which were in no less than 0 and no more than 70000 (=100.0%) documents\n",
      "2019-07-08 23:08:26,335: INFO: resulting dictionary: Dictionary(2000000 unique tokens: ['academic', 'albany', 'align', 'also', 'an']...)\n",
      "2019-07-08 23:08:26,468: INFO: adding document #70000 to Dictionary(2000000 unique tokens: ['academic', 'albany', 'align', 'also', 'an']...)\n",
      "2019-07-08 23:08:56,382: INFO: discarding 1067115 tokens: [('在进入电影圈之前', 1), ('在高中时二人并不出众', 1), ('夜行骇传', 1), ('大部分背景资料基于', 1), ('她们均是公开的跨性别女性', 1), ('如果你看部电影', 1), ('安迪和拉娜', 1), ('安迪在波士顿的爱默生学院学习', 1), ('少林牛仔', 1), ('就读并毕业', 1)]...\n",
      "2019-07-08 23:08:56,383: INFO: keeping 2000000 tokens which were in no less than 0 and no more than 80000 (=100.0%) documents\n",
      "2019-07-08 23:08:59,613: INFO: resulting dictionary: Dictionary(2000000 unique tokens: ['academic', 'albany', 'align', 'also', 'an']...)\n",
      "2019-07-08 23:08:59,762: INFO: adding document #80000 to Dictionary(2000000 unique tokens: ['academic', 'albany', 'align', 'also', 'an']...)\n",
      "2019-07-08 23:09:28,742: INFO: discarding 1024520 tokens: [('主畜鬼王', 1), ('主疾鬼王', 1), ('主祀地藏的廟宇', 1), ('主禍鬼王', 1), ('主禽鬼王', 1), ('主耗鬼王', 1), ('主要的有三種過失', 1), ('主財鬼王', 1), ('主險鬼王', 1), ('主食鬼王', 1)]...\n",
      "2019-07-08 23:09:28,743: INFO: keeping 2000000 tokens which were in no less than 0 and no more than 90000 (=100.0%) documents\n",
      "2019-07-08 23:09:31,969: INFO: resulting dictionary: Dictionary(2000000 unique tokens: ['academic', 'albany', 'align', 'also', 'an']...)\n",
      "2019-07-08 23:09:32,094: INFO: adding document #90000 to Dictionary(2000000 unique tokens: ['academic', 'albany', 'align', 'also', 'an']...)\n",
      "2019-07-08 23:10:01,725: INFO: discarding 978082 tokens: [('科學通報', 1), ('精亏髓亡', 1), ('精髓的产生又与脏腑的功能相联系', 1), ('經絡的相關研究', 1), ('經絡系統像是', 1), ('经络图的示例', 1), ('经络的记载详见于', 1), ('经脉的分支为', 1), ('络脉', 1), ('美联社的', 1)]...\n",
      "2019-07-08 23:10:01,726: INFO: keeping 2000000 tokens which were in no less than 0 and no more than 100000 (=100.0%) documents\n",
      "2019-07-08 23:10:04,893: INFO: resulting dictionary: Dictionary(2000000 unique tokens: ['academic', 'albany', 'align', 'also', 'an']...)\n",
      "2019-07-08 23:10:05,019: INFO: adding document #100000 to Dictionary(2000000 unique tokens: ['academic', 'albany', 'align', 'also', 'an']...)\n",
      "2019-07-08 23:10:45,423: INFO: discarding 957733 tokens: [('迎六宫家人留止内房', 1), ('郭太后只得取玺绶给郭芝', 1), ('郭太后废曹芳诏令', 1), ('郭芝再给司马师', 1), ('郭芝对曹芳说', 1), ('長子司馬師受命總攬朝政', 1), ('陈喆伦', 1), ('隔离郭太后', 1), ('非若昌邑始征', 1), ('魏书四', 1)]...\n",
      "2019-07-08 23:10:45,424: INFO: keeping 2000000 tokens which were in no less than 0 and no more than 110000 (=100.0%) documents\n",
      "2019-07-08 23:10:48,629: INFO: resulting dictionary: Dictionary(2000000 unique tokens: ['academic', 'albany', 'align', 'also', 'an']...)\n",
      "2019-07-08 23:10:48,752: INFO: adding document #110000 to Dictionary(2000000 unique tokens: ['academic', 'albany', 'align', 'also', 'an']...)\n",
      "2019-07-08 23:11:21,894: INFO: discarding 926069 tokens: [('立法院在廣州復會', 1), ('立法院第一屆第三期第一次會議', 1), ('第一到四冊', 1), ('第四屆聯合國大會在美國紐約開幕', 1), ('終致於', 1), ('經國大三讀通過', 1), ('經濟等因素不如日本軍', 1), ('經過幾年小型戰鬥', 1), ('縣設地方法院', 1), ('美国總統尼克森訪問中國大陸', 1)]...\n",
      "2019-07-08 23:11:21,895: INFO: keeping 2000000 tokens which were in no less than 0 and no more than 120000 (=100.0%) documents\n",
      "2019-07-08 23:11:25,028: INFO: resulting dictionary: Dictionary(2000000 unique tokens: ['academic', 'albany', 'align', 'also', 'an']...)\n",
      "2019-07-08 23:11:25,151: INFO: adding document #120000 to Dictionary(2000000 unique tokens: ['academic', 'albany', 'align', 'also', 'an']...)\n",
      "2019-07-08 23:11:59,486: INFO: discarding 974004 tokens: [('关羽的将士知道了', 1), ('关羽皆为所挫', 1), ('兵人練習', 1), ('兵馬前後相從', 1), ('其中一名主要女性角色名為', 1), ('其兄呂琮承襲侯位', 1), ('其功績是多次成功抵擋曹操的南征', 1), ('其姊夫鄧當是孫策親信', 1), ('其左右文臣對孫權說狼子不可養', 1), ('其弟呂睦嗣任', 1)]...\n",
      "2019-07-08 23:11:59,488: INFO: keeping 2000000 tokens which were in no less than 0 and no more than 130000 (=100.0%) documents\n",
      "2019-07-08 23:12:02,833: INFO: resulting dictionary: Dictionary(2000000 unique tokens: ['academic', 'albany', 'align', 'also', 'an']...)\n",
      "2019-07-08 23:12:03,008: INFO: adding document #130000 to Dictionary(2000000 unique tokens: ['academic', 'albany', 'align', 'also', 'an']...)\n"
     ]
    },
    {
     "name": "stderr",
     "output_type": "stream",
     "text": [
      "2019-07-08 23:12:37,133: INFO: discarding 934051 tokens: [('包括在香港會議展覽中心舉行', 1), ('包括王韜', 1), ('包攬總冠軍', 1), ('包爾騰主教', 1), ('北翼課室大樓外觀', 1), ('升學及就業輔導學會', 1), ('協助抗戰', 1), ('協助設計及提供專業意見', 1), ('協助防務工作', 1), ('南京臨時政府司法總長', 1)]...\n",
      "2019-07-08 23:12:37,134: INFO: keeping 2000000 tokens which were in no less than 0 and no more than 140000 (=100.0%) documents\n",
      "2019-07-08 23:12:40,296: INFO: resulting dictionary: Dictionary(2000000 unique tokens: ['academic', 'albany', 'align', 'also', 'an']...)\n",
      "2019-07-08 23:12:40,430: INFO: adding document #140000 to Dictionary(2000000 unique tokens: ['academic', 'albany', 'align', 'also', 'an']...)\n",
      "2019-07-08 23:13:14,396: INFO: discarding 932452 tokens: [('運用物料清單', 1), ('需求分别加以处理', 1), ('非独立', 1), ('bizony撰', 1), ('klushino', 1), ('一个集体农庄庄员家庭', 1), ('业余时间学习飞行', 1), ('个城市授予他荣誉市民称号', 1), ('为支持其他理论', 1), ('为纪念加加林航天', 1)]...\n",
      "2019-07-08 23:13:14,398: INFO: keeping 2000000 tokens which were in no less than 0 and no more than 150000 (=100.0%) documents\n",
      "2019-07-08 23:13:17,580: INFO: resulting dictionary: Dictionary(2000000 unique tokens: ['academic', 'albany', 'align', 'also', 'an']...)\n",
      "2019-07-08 23:13:17,721: INFO: adding document #150000 to Dictionary(2000000 unique tokens: ['academic', 'albany', 'align', 'also', 'an']...)\n",
      "2019-07-08 23:13:52,445: INFO: discarding 922568 tokens: [('星盤是當時最先進的儀器', 1), ('是為南門客星', 1), ('月球和當時所知五大行星的運動表', 1), ('月球和行星的變動', 1), ('東昇和西沒', 1), ('概述托勒密', 1), ('正確的解釋食', 1), ('死者數千人', 1), ('法札里製作出現存最古老的星盤', 1), ('法甘尼修改的值包括黃赤交角', 1)]...\n",
      "2019-07-08 23:13:52,446: INFO: keeping 2000000 tokens which were in no less than 0 and no more than 160000 (=100.0%) documents\n",
      "2019-07-08 23:13:55,676: INFO: resulting dictionary: Dictionary(2000000 unique tokens: ['academic', 'albany', 'align', 'also', 'an']...)\n",
      "2019-07-08 23:13:55,823: INFO: adding document #160000 to Dictionary(2000000 unique tokens: ['academic', 'albany', 'align', 'also', 'an']...)\n",
      "2019-07-08 23:14:28,129: INFO: discarding 801587 tokens: [('麥美倫可謂是', 1), ('麥美倫在', 1), ('麥美倫在世的最後一個月時', 1), ('麥美倫在御林軍團中服役', 1), ('麥美倫夫婦育有一子三女', 1), ('麥美倫對此事一筆擦去', 1), ('麥美倫對經濟採取一國保守主義', 1), ('麥美倫已拉攏美', 1), ('麥美倫幽默地回應', 1), ('麥美倫後來在', 1)]...\n",
      "2019-07-08 23:14:28,130: INFO: keeping 2000000 tokens which were in no less than 0 and no more than 170000 (=100.0%) documents\n",
      "2019-07-08 23:14:31,270: INFO: resulting dictionary: Dictionary(2000000 unique tokens: ['academic', 'albany', 'align', 'also', 'an']...)\n",
      "2019-07-08 23:14:31,417: INFO: adding document #170000 to Dictionary(2000000 unique tokens: ['academic', 'albany', 'align', 'also', 'an']...)\n",
      "2019-07-08 23:15:06,887: INFO: discarding 845425 tokens: [('孫大雨早於', 1), ('定名曰tales', 1), ('宽松地诠释', 1), ('宾夕法尼亚大学在线电子文档', 1), ('富有变化', 1), ('富有德国浪漫主义精神', 1), ('导致他杀死了深爱他的无辜的妻子', 1), ('将它们统称为莎士比亚问题剧', 1), ('将腐败统治的破坏性结果戏剧化', 1), ('尤其是哈姆雷特', 1)]...\n",
      "2019-07-08 23:15:06,889: INFO: keeping 2000000 tokens which were in no less than 0 and no more than 180000 (=100.0%) documents\n",
      "2019-07-08 23:15:10,060: INFO: resulting dictionary: Dictionary(2000000 unique tokens: ['academic', 'albany', 'align', 'also', 'an']...)\n",
      "2019-07-08 23:15:10,196: INFO: adding document #180000 to Dictionary(2000000 unique tokens: ['academic', 'albany', 'align', 'also', 'an']...)\n",
      "2019-07-08 23:18:19,316: INFO: discarding 787772 tokens: [('科豐路站', 1), ('穗東街道的東基和西基', 1), ('紅衛站', 1), ('经省人委批复同意', 1), ('芳村区则辖有是一个农业公社', 1), ('茶滘', 1), ('荔湾区的石井公社为芳村区', 1), ('荔聯街道的筆崗社區', 1), ('萝岗二个公社划出', 1), ('萝岗等公社', 1)]...\n",
      "2019-07-08 23:18:19,317: INFO: keeping 2000000 tokens which were in no less than 0 and no more than 190000 (=100.0%) documents\n",
      "2019-07-08 23:18:22,438: INFO: resulting dictionary: Dictionary(2000000 unique tokens: ['academic', 'albany', 'align', 'also', 'an']...)\n",
      "2019-07-08 23:18:22,563: INFO: adding document #190000 to Dictionary(2000000 unique tokens: ['academic', 'albany', 'align', 'also', 'an']...)\n",
      "2019-07-08 23:19:06,380: INFO: discarding 787509 tokens: [('例如將其罪行歸之於對天使', 1), ('包括口交', 1), ('即鸡奸者', 1), ('可是在天使要睡觉的时候', 1), ('同样被认为不道德', 1), ('在語意上是不同的', 1), ('如果能在城市里找到', 1), ('如柏拉图所推崇', 1), ('威脅等手段', 1), ('它是一种临时性的性罪行', 1)]...\n",
      "2019-07-08 23:19:06,381: INFO: keeping 2000000 tokens which were in no less than 0 and no more than 200000 (=100.0%) documents\n",
      "2019-07-08 23:19:09,509: INFO: resulting dictionary: Dictionary(2000000 unique tokens: ['academic', 'albany', 'align', 'also', 'an']...)\n",
      "2019-07-08 23:19:09,634: INFO: adding document #200000 to Dictionary(2000000 unique tokens: ['academic', 'albany', 'align', 'also', 'an']...)\n",
      "2019-07-08 23:20:10,909: INFO: discarding 745795 tokens: [('便可宣佈亨利和凱瑟琳的婚姻無效', 1), ('克倫威爾指稱安', 1), ('克倫威爾被亨利八世任命代其職務', 1), ('克蘭麥繼續得寵', 1), ('入繼大統', 1), ('入繼英格蘭王位', 1), ('其中四人活至成年', 1), ('其後珍王后懷孕', 1), ('决裂羅馬教廷', 1), ('凱瑟琳更興訟挑戰離婚的決定', 1)]...\n",
      "2019-07-08 23:20:10,910: INFO: keeping 2000000 tokens which were in no less than 0 and no more than 210000 (=100.0%) documents\n",
      "2019-07-08 23:20:14,050: INFO: resulting dictionary: Dictionary(2000000 unique tokens: ['academic', 'albany', 'align', 'also', 'an']...)\n",
      "2019-07-08 23:20:14,182: INFO: adding document #210000 to Dictionary(2000000 unique tokens: ['academic', 'albany', 'align', 'also', 'an']...)\n",
      "2019-07-08 23:20:53,908: INFO: discarding 710777 tokens: [('年二兒子', 1), ('年加入地產商齊氏威奈公司', 1), ('年即將完工之際', 1), ('年取得哈佛大学建築學碩士學位', 1), ('年完工的約翰', 1), ('年日本萬國博覽會中華民國館', 1), ('年是最辛苦的', 1), ('年法國建築學院金獎', 1), ('年由里根总统颁予的国家艺术勋章', 1), ('年第五屆普利兹克奖', 1)]...\n",
      "2019-07-08 23:20:53,910: INFO: keeping 2000000 tokens which were in no less than 0 and no more than 220000 (=100.0%) documents\n",
      "2019-07-08 23:20:56,986: INFO: resulting dictionary: Dictionary(2000000 unique tokens: ['academic', 'albany', 'align', 'also', 'an']...)\n",
      "2019-07-08 23:20:57,127: INFO: adding document #220000 to Dictionary(2000000 unique tokens: ['academic', 'albany', 'align', 'also', 'an']...)\n",
      "2019-07-08 23:21:41,141: INFO: discarding 853461 tokens: [('棋子不妨临水着', 1), ('此公辅器也', 1), ('此夜芭蕉雨', 1), ('每造其庐', 1), ('江头潮已平', 1), ('淮间', 1), ('清深趣有余', 1), ('清谈终日而去', 1), ('满地和烟雨', 1), ('然吾志之所适', 1)]...\n",
      "2019-07-08 23:21:41,142: INFO: keeping 2000000 tokens which were in no less than 0 and no more than 230000 (=100.0%) documents\n",
      "2019-07-08 23:21:44,314: INFO: resulting dictionary: Dictionary(2000000 unique tokens: ['academic', 'albany', 'align', 'also', 'an']...)\n",
      "2019-07-08 23:21:44,474: INFO: adding document #230000 to Dictionary(2000000 unique tokens: ['academic', 'albany', 'align', 'also', 'an']...)\n",
      "2019-07-08 23:22:27,738: INFO: discarding 773130 tokens: [('cyrtocrinida', 1), ('cystoporida', 1), ('cytherocopina', 1), ('cytosporella', 1), ('dalmanellidina', 1), ('darwinulocopina', 1), ('delthyridina', 1), ('dendroceratida', 1), ('dendrochirotida', 1), ('dendrogastrida', 1)]...\n",
      "2019-07-08 23:22:27,739: INFO: keeping 2000000 tokens which were in no less than 0 and no more than 240000 (=100.0%) documents\n",
      "2019-07-08 23:22:30,857: INFO: resulting dictionary: Dictionary(2000000 unique tokens: ['academic', 'albany', 'align', 'also', 'an']...)\n",
      "2019-07-08 23:22:31,008: INFO: adding document #240000 to Dictionary(2000000 unique tokens: ['academic', 'albany', 'align', 'also', 'an']...)\n",
      "2019-07-08 23:23:17,991: INFO: discarding 839514 tokens: [('或其子孫的角度', 1), ('或是返家避難', 1), ('或未經公開審判程序', 1), ('或申請者不是合法的賠償權利人', 1), ('或者是殖民地呢', 1), ('戰勝者', 1), ('戰後初期台灣流行一句俗話', 1), ('戰後的台灣另流行一首俗諺', 1), ('戰後的台灣流行一首打油詩', 1), ('戰後臺灣人對於來自對岸的文化', 1)]...\n",
      "2019-07-08 23:23:17,992: INFO: keeping 2000000 tokens which were in no less than 0 and no more than 250000 (=100.0%) documents\n",
      "2019-07-08 23:23:21,150: INFO: resulting dictionary: Dictionary(2000000 unique tokens: ['academic', 'albany', 'align', 'also', 'an']...)\n",
      "2019-07-08 23:23:21,291: INFO: adding document #250000 to Dictionary(2000000 unique tokens: ['academic', 'albany', 'align', 'also', 'an']...)\n",
      "2019-07-08 23:24:02,102: INFO: discarding 843128 tokens: [('成员国需要满足一系列严格的标准', 1), ('所以在芬兰兑换欧元时', 1), ('所以没有在', 1), ('所以该汇率没有更早确定', 1), ('所有的欧元硬币的正面都是相同的', 1), ('所确定的', 1), ('拉脫維亞拉特', 1), ('指定应该用黄色打印在蓝色背景上', 1), ('按照当时汇率计算', 1), ('接受欧元是他们入盟协议的一部分', 1)]...\n",
      "2019-07-08 23:24:02,104: INFO: keeping 2000000 tokens which were in no less than 0 and no more than 260000 (=100.0%) documents\n",
      "2019-07-08 23:24:05,264: INFO: resulting dictionary: Dictionary(2000000 unique tokens: ['academic', 'albany', 'align', 'also', 'an']...)\n"
     ]
    },
    {
     "name": "stderr",
     "output_type": "stream",
     "text": [
      "2019-07-08 23:24:05,406: INFO: adding document #260000 to Dictionary(2000000 unique tokens: ['academic', 'albany', 'align', 'also', 'an']...)\n",
      "2019-07-08 23:24:46,419: INFO: discarding 837509 tokens: [('幾何與人形圖案的繩紋陶器', 1), ('废安阳县并入荡阴县', 1), ('废相州', 1), ('廉颇攻魏房子', 1), ('建成区现有市政道路', 1), ('建设重心逐渐东移', 1), ('张金鉴', 1), ('归郑州铁路局管辖', 1), ('形成北起邯郸', 1), ('形成十字型交通骨架', 1)]...\n",
      "2019-07-08 23:24:46,420: INFO: keeping 2000000 tokens which were in no less than 0 and no more than 270000 (=100.0%) documents\n",
      "2019-07-08 23:24:49,637: INFO: resulting dictionary: Dictionary(2000000 unique tokens: ['academic', 'albany', 'align', 'also', 'an']...)\n",
      "2019-07-08 23:24:49,781: INFO: adding document #270000 to Dictionary(2000000 unique tokens: ['academic', 'albany', 'align', 'also', 'an']...)\n",
      "2019-07-08 23:25:30,986: INFO: discarding 771600 tokens: [('来自朝鲜韩国称为韓裔', 1), ('查克玛人', 1), ('概念并存在多个土生民族', 1), ('汉族为区内主体民族', 1), ('汉族为自治区内最大少数民族', 1), ('澳美新大陆的国家或地区', 1), ('美洲的玻利维亚等国虽然也有', 1), ('而将強迫之定为大和族的一支', 1), ('而说', 1), ('自治区内主体民族为藏族', 1)]...\n",
      "2019-07-08 23:25:30,987: INFO: keeping 2000000 tokens which were in no less than 0 and no more than 280000 (=100.0%) documents\n",
      "2019-07-08 23:25:34,124: INFO: resulting dictionary: Dictionary(2000000 unique tokens: ['academic', 'albany', 'align', 'also', 'an']...)\n",
      "2019-07-08 23:25:34,246: INFO: adding document #280000 to Dictionary(2000000 unique tokens: ['academic', 'albany', 'align', 'also', 'an']...)\n",
      "2019-07-08 23:26:09,043: INFO: discarding 666711 tokens: [('相對論質量會變重', 1), ('真空中的光速都等于', 1), ('真空介电常数', 1), ('真空光速独立于参考系', 1), ('磁场与电场的统一', 1), ('磁場會消失', 1), ('空间坐标之间的变换关系的', 1), ('符合牛顿力学定律', 1), ('等式左右两边平方', 1), ('等速運動的物體帶在身上的時鐘', 1)]...\n",
      "2019-07-08 23:26:09,044: INFO: keeping 2000000 tokens which were in no less than 0 and no more than 290000 (=100.0%) documents\n",
      "2019-07-08 23:26:12,159: INFO: resulting dictionary: Dictionary(2000000 unique tokens: ['academic', 'albany', 'align', 'also', 'an']...)\n",
      "2019-07-08 23:26:12,284: INFO: adding document #290000 to Dictionary(2000000 unique tokens: ['academic', 'albany', 'align', 'also', 'an']...)\n",
      "2019-07-08 23:26:51,317: INFO: discarding 731187 tokens: [('南天齊天大聖', 1), ('南平市光泽县鸾凤乡饶坪村', 1), ('南海龙王敖钦送一顶凤翅紫金冠', 1), ('历经八九载', 1), ('历经八十一难', 1), ('原著借鉴了唐代名僧', 1), ('原著描述', 1), ('又偷吃蟠桃', 1), ('又叫孫行者', 1), ('及孙悟空形象的改编', 1)]...\n",
      "2019-07-08 23:26:51,319: INFO: keeping 2000000 tokens which were in no less than 0 and no more than 300000 (=100.0%) documents\n",
      "2019-07-08 23:26:54,448: INFO: resulting dictionary: Dictionary(2000000 unique tokens: ['academic', 'albany', 'align', 'also', 'an']...)\n",
      "2019-07-08 23:26:54,575: INFO: adding document #300000 to Dictionary(2000000 unique tokens: ['academic', 'albany', 'align', 'also', 'an']...)\n",
      "2019-07-08 23:27:34,018: INFO: discarding 709666 tokens: [('戲院於加州洛杉磯開幕', 1), ('挪威海军舰队', 1), ('智利裔美國男演員', 1), ('正式关闭个人服务', 1), ('泰国诗琳通公主迎来', 1), ('泰國公主', 1), ('澳大利亞一級方程式賽車手', 1), ('澳門法律界人士', 1), ('社工日', 1), ('童話故事作家', 1)]...\n",
      "2019-07-08 23:27:34,019: INFO: keeping 2000000 tokens which were in no less than 0 and no more than 310000 (=100.0%) documents\n",
      "2019-07-08 23:27:37,134: INFO: resulting dictionary: Dictionary(2000000 unique tokens: ['academic', 'albany', 'align', 'also', 'an']...)\n",
      "2019-07-08 23:27:37,259: INFO: adding document #310000 to Dictionary(2000000 unique tokens: ['academic', 'albany', 'align', 'also', 'an']...)\n",
      "2019-07-08 23:28:20,849: INFO: discarding 778126 tokens: [('赛普蒂米乌斯', 1), ('赫伦尼乌斯', 1), ('迪亚杜门尼安', 1), ('這是羅馬帝國歷代皇帝一覽表', 1), ('重新统一帝国', 1), ('阿勒克图斯', 1), ('阿尔拜努斯', 1), ('雷加里安努斯', 1), ('马克奥里略', 1), ('不是十六大代表', 1)]...\n",
      "2019-07-08 23:28:20,850: INFO: keeping 2000000 tokens which were in no less than 0 and no more than 320000 (=100.0%) documents\n",
      "2019-07-08 23:28:24,010: INFO: resulting dictionary: Dictionary(2000000 unique tokens: ['academic', 'albany', 'align', 'also', 'an']...)\n",
      "2019-07-08 23:28:24,137: INFO: adding document #320000 to Dictionary(2000000 unique tokens: ['academic', 'albany', 'align', 'also', 'an']...)\n",
      "2019-07-08 23:29:05,059: INFO: discarding 755081 tokens: [('忽必烈行汉法', 1), ('或直接以該區域內的主要區塊', 1), ('改成大元大蒙古國', 1), ('改称金帐', 1), ('斡兒答王朝', 1), ('是亞洲次區域', 1), ('柔然也被认为是由鮮卑民族所建立', 1), ('由西伯利亞和俄羅斯遠東組成', 1), ('白帐在', 1), ('称汗称霸', 1)]...\n",
      "2019-07-08 23:29:05,061: INFO: keeping 2000000 tokens which were in no less than 0 and no more than 330000 (=100.0%) documents\n",
      "2019-07-08 23:29:08,206: INFO: resulting dictionary: Dictionary(2000000 unique tokens: ['academic', 'albany', 'align', 'also', 'an']...)\n",
      "2019-07-08 23:29:08,333: INFO: adding document #330000 to Dictionary(2000000 unique tokens: ['academic', 'albany', 'align', 'also', 'an']...)\n",
      "2019-07-08 23:29:54,951: INFO: discarding 709587 tokens: [('他定居美國', 1), ('他寫完了初版的博士論文', 1), ('他專注於引力問題', 1), ('他已是最重要的理論物理學者之一', 1), ('他并沒有返回德國', 1), ('他愛上了溫特勒的女兒瑪莉', 1), ('他應用玻色', 1), ('他成功通過瑞士', 1), ('他成為反猶太團體的眼中釘', 1), ('他找到大學同學马塞尔', 1)]...\n",
      "2019-07-08 23:29:54,953: INFO: keeping 2000000 tokens which were in no less than 0 and no more than 340000 (=100.0%) documents\n",
      "2019-07-08 23:29:58,124: INFO: resulting dictionary: Dictionary(2000000 unique tokens: ['academic', 'albany', 'align', 'also', 'an']...)\n",
      "2019-07-08 23:29:58,242: INFO: adding document #340000 to Dictionary(2000000 unique tokens: ['academic', 'albany', 'align', 'also', 'an']...)\n",
      "2019-07-08 23:30:07,001: INFO: finished iterating over Wikipedia corpus of 342093 documents with 78510009 positions (total 3316208 articles, 92798572 positions before pruning articles shorter than 50 words)\n",
      "2019-07-08 23:30:07,172: INFO: built Dictionary(2148468 unique tokens: ['academic', 'albany', 'align', 'also', 'an']...) from 342093 documents (total 78510009 corpus positions)\n"
     ]
    }
   ],
   "source": [
    "wiki = WikiCorpus(\"F:\\corpus\\zhwiki-latest-pages-articles.xml.bz2\",lemmatize=False,dictionary={})\n",
    "\n",
    "output_file = open(\"F:/corpus/zhwiki-latest-pages-articles.txt\",mode='w',encoding='utf8')"
   ]
  },
  {
   "cell_type": "code",
   "execution_count": 6,
   "metadata": {},
   "outputs": [
    {
     "name": "stderr",
     "output_type": "stream",
     "text": [
      "2019-07-09 00:15:42,513: INFO: finished iterating over Wikipedia corpus of 342093 documents with 78510009 positions (total 3316208 articles, 92798572 positions before pruning articles shorter than 50 words)\n"
     ]
    }
   ],
   "source": [
    "for text in wiki.get_texts(): # text:list\n",
    "    line = ' '.join(text)+'\\n'\n",
    "    output_file.write(line)\n",
    "output_file.close()"
   ]
  },
  {
   "cell_type": "markdown",
   "metadata": {},
   "source": [
    "# opencc"
   ]
  },
  {
   "cell_type": "code",
   "execution_count": 16,
   "metadata": {},
   "outputs": [],
   "source": [
    "# % pip install opencc-python-reimplemented\n",
    "from opencc import OpenCC"
   ]
  },
  {
   "cell_type": "code",
   "execution_count": 19,
   "metadata": {},
   "outputs": [],
   "source": [
    "with open(\"F:/corpus/zhwiki-latest-pages-articles.txt\",'r',encoding='utf8') as f:\n",
    "    contents = f.read()\n",
    "opcc = OpenCC('t2s')\n",
    "# opcc.set_conversion('t2s')\n",
    "with open(\"F:/corpus/zhwiki-corpus-simplified.txt\",'w',encoding='utf8') as f:\n",
    "    simplified_contents = opcc.convert(contents)\n",
    "    f.write(simplified_contents)"
   ]
  },
  {
   "cell_type": "markdown",
   "metadata": {},
   "source": [
    "# cut words"
   ]
  },
  {
   "cell_type": "code",
   "execution_count": 2,
   "metadata": {},
   "outputs": [],
   "source": [
    "import jieba"
   ]
  },
  {
   "cell_type": "code",
   "execution_count": 9,
   "metadata": {},
   "outputs": [],
   "source": [
    "with open(\"F:/corpus/zhwiki-corpus-cut.txt\",'a+',encoding='utf8') as target_f:\n",
    "    with open(\"F:/corpus/zhwiki-corpus-simplified.txt\",'r',encoding='utf8') as f:\n",
    "        oneline = f.readline()\n",
    "        while oneline:\n",
    "            cut_line = ' '.join(jieba.cut(oneline))\n",
    "            target_f.write(cut_line)\n",
    "            oneline = f.readline()"
   ]
  },
  {
   "cell_type": "markdown",
   "metadata": {},
   "source": [
    "# word2vec\n",
    "format: words separated by space"
   ]
  },
  {
   "cell_type": "code",
   "execution_count": 6,
   "metadata": {},
   "outputs": [],
   "source": [
    "from gensim.models import Word2Vec\n",
    "from gensim.models.word2vec import LineSentence\n",
    "import multiprocessing"
   ]
  },
  {
   "cell_type": "code",
   "execution_count": 32,
   "metadata": {},
   "outputs": [],
   "source": [
    "source_f = \"F:/corpus/zhwiki-corpus-cut.txt\"\n",
    "# sg=0:CBOW sg=1:n-grams\n",
    "model = Word2Vec(LineSentence(source_f),size=400,window=10,min_count=5,sg=1,workers=multiprocessing.cpu_count())\n",
    "model.save(\"F:/corpus/zhwiki-corpus-w2v.model\")\n",
    "model.wv.save_word2vec_format(\"F:/corpus/zhwiki-corpus-w2v.vector\",binary=False)"
   ]
  },
  {
   "cell_type": "code",
   "execution_count": 45,
   "metadata": {},
   "outputs": [
    {
     "data": {
      "text/plain": [
       "[('应用程式', 0.628695011138916),\n",
       " ('store', 0.61826092004776),\n",
       " ('imessage', 0.6082308292388916),\n",
       " ('乐豆', 0.6040283441543579),\n",
       " ('smartglass', 0.6037741899490356),\n",
       " ('viber', 0.6010624170303345),\n",
       " ('bluestacks', 0.6006314754486084),\n",
       " ('飞充', 0.5973106622695923),\n",
       " ('kakaotalk', 0.5928614139556885),\n",
       " ('onedrive', 0.58928382396698)]"
      ]
     },
     "execution_count": 45,
     "metadata": {},
     "output_type": "execute_result"
    }
   ],
   "source": [
    "# Word2Vec.load(\"F:/corpus/zhwiki-corpus-w2v.model\")\n",
    "# Word2Vec.load_word2vec_format(\"F:/corpus/zhwiki-corpus-w2v.vector\")"
   ]
  },
  {
   "cell_type": "markdown",
   "metadata": {},
   "source": [
    "# FastText\n",
    "format: words list"
   ]
  },
  {
   "cell_type": "code",
   "execution_count": 18,
   "metadata": {},
   "outputs": [],
   "source": [
    "from gensim.models import FastText\n",
    "# import smart_open"
   ]
  },
  {
   "cell_type": "code",
   "execution_count": null,
   "metadata": {},
   "outputs": [],
   "source": [
    "# >>> from gensim.utils import tokenize\n",
    "# >>> from gensim import utils\n",
    "# >>>\n",
    "# >>>\n",
    "# >>> class MyIter(object):\n",
    "# ...     def __iter__(self):\n",
    "# ...         path = datapath('crime-and-punishment.txt')\n",
    "# ...         with utils.open(path, 'r', encoding='utf-8') as fin:\n",
    "# ...             for line in fin:\n",
    "# ...                 yield list(tokenize(line))"
   ]
  },
  {
   "cell_type": "code",
   "execution_count": 31,
   "metadata": {},
   "outputs": [
    {
     "name": "stderr",
     "output_type": "stream",
     "text": [
      "F:\\Anaconda3\\lib\\site-packages\\smart_open\\smart_open_lib.py:398: UserWarning: This function is deprecated, use smart_open.open instead. See the migration notes for details: https://github.com/RaRe-Technologies/smart_open/blob/master/README.rst#migrating-to-the-new-open-function\n",
      "  'See the migration notes for details: %s' % _MIGRATION_NOTES_URL\n"
     ]
    }
   ],
   "source": [
    "source_f = \"F:/corpus/zhwiki-corpus-cut.txt\" # 每一行是一篇文章，以空格分好了词\n",
    "# f_iter = smart_open.open(source_f,encoding='utf8') # No\n",
    "class f_iter(object):\n",
    "    def __iter__(self):\n",
    "        with open(source_f,'r',encoding='utf8') as f:\n",
    "            for line in f:\n",
    "                yield line.split()  # [word,word,...]\n",
    "\n",
    "model = FastText(size=400,window=10,min_count=5,sg=1,word_ngrams=1,workers=multiprocessing.cpu_count())\n",
    "model.build_vocab(sentences=f_iter())\n",
    "total_examples = model.corpus_count\n",
    "model.train(sentences=f_iter(),total_examples=total_examples,epochs=model.epochs)\n",
    "model.save(\"F:/corpus/zhwiki-corpus-fasttext.model\")"
   ]
  }
 ],
 "metadata": {
  "kernelspec": {
   "display_name": "Python 3",
   "language": "python",
   "name": "python3"
  },
  "language_info": {
   "codemirror_mode": {
    "name": "ipython",
    "version": 3
   },
   "file_extension": ".py",
   "mimetype": "text/x-python",
   "name": "python",
   "nbconvert_exporter": "python",
   "pygments_lexer": "ipython3",
   "version": "3.6.8"
  },
  "nbTranslate": {
   "displayLangs": [
    "*"
   ],
   "hotkey": "alt-t",
   "langInMainMenu": true,
   "sourceLang": "en",
   "targetLang": "fr",
   "useGoogleTranslate": true
  },
  "toc": {
   "base_numbering": 1,
   "nav_menu": {},
   "number_sections": true,
   "sideBar": true,
   "skip_h1_title": false,
   "title_cell": "Table of Contents",
   "title_sidebar": "Contents",
   "toc_cell": false,
   "toc_position": {},
   "toc_section_display": true,
   "toc_window_display": true
  },
  "varInspector": {
   "cols": {
    "lenName": 16,
    "lenType": 16,
    "lenVar": 40
   },
   "kernels_config": {
    "python": {
     "delete_cmd_postfix": "",
     "delete_cmd_prefix": "del ",
     "library": "var_list.py",
     "varRefreshCmd": "print(var_dic_list())"
    },
    "r": {
     "delete_cmd_postfix": ") ",
     "delete_cmd_prefix": "rm(",
     "library": "var_list.r",
     "varRefreshCmd": "cat(var_dic_list()) "
    }
   },
   "types_to_exclude": [
    "module",
    "function",
    "builtin_function_or_method",
    "instance",
    "_Feature"
   ],
   "window_display": false
  }
 },
 "nbformat": 4,
 "nbformat_minor": 2
}
