{
 "cells": [
  {
   "cell_type": "markdown",
   "metadata": {},
   "source": [
    "# load packages"
   ]
  },
  {
   "cell_type": "code",
   "execution_count": 50,
   "metadata": {},
   "outputs": [],
   "source": [
    "import pandas as pd\n",
    "import numpy as np\n",
    "import pickle as pkl"
   ]
  },
  {
   "cell_type": "markdown",
   "metadata": {},
   "source": [
    "# load data"
   ]
  },
  {
   "cell_type": "markdown",
   "metadata": {},
   "source": [
    "## id_name"
   ]
  },
  {
   "cell_type": "code",
   "execution_count": 51,
   "metadata": {},
   "outputs": [
    {
     "name": "stderr",
     "output_type": "stream",
     "text": [
      "F:\\Anaconda3\\lib\\site-packages\\ipykernel_launcher.py:1: ParserWarning: Falling back to the 'python' engine because the 'c' engine does not support regex separators (separators > 1 char and different from '\\s+' are interpreted as regex); you can avoid this warning by specifying engine='python'.\n",
      "  \"\"\"Entry point for launching an IPython kernel.\n"
     ]
    },
    {
     "data": {
      "text/html": [
       "<div>\n",
       "<style scoped>\n",
       "    .dataframe tbody tr th:only-of-type {\n",
       "        vertical-align: middle;\n",
       "    }\n",
       "\n",
       "    .dataframe tbody tr th {\n",
       "        vertical-align: top;\n",
       "    }\n",
       "\n",
       "    .dataframe thead th {\n",
       "        text-align: right;\n",
       "    }\n",
       "</style>\n",
       "<table border=\"1\" class=\"dataframe\">\n",
       "  <thead>\n",
       "    <tr style=\"text-align: right;\">\n",
       "      <th></th>\n",
       "      <th>app_id</th>\n",
       "      <th>app_label</th>\n",
       "    </tr>\n",
       "  </thead>\n",
       "  <tbody>\n",
       "    <tr>\n",
       "      <th>0</th>\n",
       "      <td>1401</td>\n",
       "      <td>便捷生活</td>\n",
       "    </tr>\n",
       "    <tr>\n",
       "      <th>1</th>\n",
       "      <td>1402</td>\n",
       "      <td>游戏</td>\n",
       "    </tr>\n",
       "    <tr>\n",
       "      <th>2</th>\n",
       "      <td>1403</td>\n",
       "      <td>通讯社交</td>\n",
       "    </tr>\n",
       "    <tr>\n",
       "      <th>3</th>\n",
       "      <td>1404</td>\n",
       "      <td>阅读</td>\n",
       "    </tr>\n",
       "    <tr>\n",
       "      <th>4</th>\n",
       "      <td>1405</td>\n",
       "      <td>工作求职</td>\n",
       "    </tr>\n",
       "  </tbody>\n",
       "</table>\n",
       "</div>"
      ],
      "text/plain": [
       "  app_id app_label\n",
       "0   1401      便捷生活\n",
       "1   1402        游戏\n",
       "2   1403      通讯社交\n",
       "3   1404        阅读\n",
       "4   1405      工作求职"
      ]
     },
     "execution_count": 51,
     "metadata": {},
     "output_type": "execute_result"
    }
   ],
   "source": [
    "apptype_id_name = pd.read_csv('../apptype_id_name.txt',header=None,sep='\\\\t',encoding='utf8',names=['app_id','app_label'])\n",
    "apptype_id_name['app_id'] = apptype_id_name['app_id'].astype('str')\n",
    "apptype_id_name.head()"
   ]
  },
  {
   "cell_type": "code",
   "execution_count": 52,
   "metadata": {},
   "outputs": [],
   "source": [
    "# apptype_id_name['app_id'].value_counts()\n",
    "primary_id = apptype_id_name[apptype_id_name['app_id'].apply(lambda x: len(x)<=4)]\n",
    "secondary_id = apptype_id_name[apptype_id_name['app_id'].apply(lambda x: len(x)>4)]\n",
    "del apptype_id_name"
   ]
  },
  {
   "cell_type": "code",
   "execution_count": 53,
   "metadata": {},
   "outputs": [],
   "source": [
    "primary_id = primary_id.rename(columns={'app_id':'primary_id'})\n",
    "secondary_id['primary_id'] = secondary_id['app_id'].str.slice(0,4)"
   ]
  },
  {
   "cell_type": "code",
   "execution_count": 54,
   "metadata": {},
   "outputs": [],
   "source": [
    "id_label = primary_id.merge(secondary_id,on='primary_id',how='outer')"
   ]
  },
  {
   "cell_type": "code",
   "execution_count": 55,
   "metadata": {},
   "outputs": [
    {
     "data": {
      "text/html": [
       "<div>\n",
       "<style scoped>\n",
       "    .dataframe tbody tr th:only-of-type {\n",
       "        vertical-align: middle;\n",
       "    }\n",
       "\n",
       "    .dataframe tbody tr th {\n",
       "        vertical-align: top;\n",
       "    }\n",
       "\n",
       "    .dataframe thead th {\n",
       "        text-align: right;\n",
       "    }\n",
       "</style>\n",
       "<table border=\"1\" class=\"dataframe\">\n",
       "  <thead>\n",
       "    <tr style=\"text-align: right;\">\n",
       "      <th></th>\n",
       "      <th></th>\n",
       "      <th>app_id</th>\n",
       "      <th>app_label_y</th>\n",
       "    </tr>\n",
       "    <tr>\n",
       "      <th>primary_id</th>\n",
       "      <th>app_label_x</th>\n",
       "      <th></th>\n",
       "      <th></th>\n",
       "    </tr>\n",
       "  </thead>\n",
       "  <tbody>\n",
       "    <tr>\n",
       "      <th rowspan=\"5\" valign=\"top\">1401</th>\n",
       "      <th>便捷生活</th>\n",
       "      <td>140101</td>\n",
       "      <td>打车</td>\n",
       "    </tr>\n",
       "    <tr>\n",
       "      <th>便捷生活</th>\n",
       "      <td>140102</td>\n",
       "      <td>地图导航</td>\n",
       "    </tr>\n",
       "    <tr>\n",
       "      <th>便捷生活</th>\n",
       "      <td>140103</td>\n",
       "      <td>免费WIFI</td>\n",
       "    </tr>\n",
       "    <tr>\n",
       "      <th>便捷生活</th>\n",
       "      <td>140104</td>\n",
       "      <td>租车</td>\n",
       "    </tr>\n",
       "    <tr>\n",
       "      <th>便捷生活</th>\n",
       "      <td>140105</td>\n",
       "      <td>代驾</td>\n",
       "    </tr>\n",
       "  </tbody>\n",
       "</table>\n",
       "</div>"
      ],
      "text/plain": [
       "                        app_id app_label_y\n",
       "primary_id app_label_x                    \n",
       "1401       便捷生活         140101          打车\n",
       "           便捷生活         140102        地图导航\n",
       "           便捷生活         140103      免费WIFI\n",
       "           便捷生活         140104          租车\n",
       "           便捷生活         140105          代驾"
      ]
     },
     "execution_count": 55,
     "metadata": {},
     "output_type": "execute_result"
    }
   ],
   "source": [
    "id_label = id_label.set_index(['primary_id','app_label_x'])\n",
    "id_label.head()"
   ]
  },
  {
   "cell_type": "code",
   "execution_count": 56,
   "metadata": {},
   "outputs": [
    {
     "data": {
      "text/html": [
       "<div>\n",
       "<style scoped>\n",
       "    .dataframe tbody tr th:only-of-type {\n",
       "        vertical-align: middle;\n",
       "    }\n",
       "\n",
       "    .dataframe tbody tr th {\n",
       "        vertical-align: top;\n",
       "    }\n",
       "\n",
       "    .dataframe thead th {\n",
       "        text-align: right;\n",
       "    }\n",
       "</style>\n",
       "<table border=\"1\" class=\"dataframe\">\n",
       "  <thead>\n",
       "    <tr style=\"text-align: right;\">\n",
       "      <th></th>\n",
       "      <th></th>\n",
       "      <th>app_id</th>\n",
       "      <th>app_label_y</th>\n",
       "    </tr>\n",
       "    <tr>\n",
       "      <th>primary_id</th>\n",
       "      <th>app_label_x</th>\n",
       "      <th></th>\n",
       "      <th></th>\n",
       "    </tr>\n",
       "  </thead>\n",
       "  <tbody>\n",
       "    <tr>\n",
       "      <th>1402</th>\n",
       "      <th>游戏</th>\n",
       "      <td>140208</td>\n",
       "      <td>音乐</td>\n",
       "    </tr>\n",
       "    <tr>\n",
       "      <th>1406</th>\n",
       "      <th>影音娱乐</th>\n",
       "      <td>140603</td>\n",
       "      <td>音乐</td>\n",
       "    </tr>\n",
       "  </tbody>\n",
       "</table>\n",
       "</div>"
      ],
      "text/plain": [
       "                        app_id app_label_y\n",
       "primary_id app_label_x                    \n",
       "1402       游戏           140208          音乐\n",
       "1406       影音娱乐         140603          音乐"
      ]
     },
     "execution_count": 56,
     "metadata": {},
     "output_type": "execute_result"
    }
   ],
   "source": [
    "# id_label['app_label_y'].value_counts(dropna=False)\n",
    "id_label[id_label['app_label_y']=='音乐']"
   ]
  },
  {
   "cell_type": "code",
   "execution_count": 57,
   "metadata": {},
   "outputs": [
    {
     "data": {
      "text/plain": [
       "{0: '140101',\n",
       " 1: '140102',\n",
       " 2: '140103',\n",
       " 3: '140104',\n",
       " 4: '140105',\n",
       " 5: '140106',\n",
       " 6: '140107',\n",
       " 7: '140108',\n",
       " 8: '140109',\n",
       " 9: '140110',\n",
       " 10: '140111',\n",
       " 11: '140112',\n",
       " 12: '140113',\n",
       " 13: '140114',\n",
       " 14: '140201',\n",
       " 15: '140202',\n",
       " 16: '140203',\n",
       " 17: '140204',\n",
       " 18: '140205',\n",
       " 19: '140206',\n",
       " 20: '140207',\n",
       " 21: '140208',\n",
       " 22: '140209',\n",
       " 23: '140210',\n",
       " 24: '140211',\n",
       " 25: '140212',\n",
       " 26: '140213',\n",
       " 27: '140214',\n",
       " 28: '140301',\n",
       " 29: '140302',\n",
       " 30: '140303',\n",
       " 31: '140304',\n",
       " 32: '140305',\n",
       " 33: '140306',\n",
       " 34: '140307',\n",
       " 35: '140308',\n",
       " 36: '140401',\n",
       " 37: '140402',\n",
       " 38: '140403',\n",
       " 39: '140404',\n",
       " 40: '140405',\n",
       " 41: '140406',\n",
       " 42: '140407',\n",
       " 43: '140408',\n",
       " 44: '140410',\n",
       " 45: '140411',\n",
       " 46: '140412',\n",
       " 47: '140501',\n",
       " 48: '140502',\n",
       " 49: '140601',\n",
       " 50: '140602',\n",
       " 51: '140603',\n",
       " 52: '140604',\n",
       " 53: '140605',\n",
       " 54: '140606',\n",
       " 55: '140607',\n",
       " 56: '140701',\n",
       " 57: '140702',\n",
       " 58: '140703',\n",
       " 59: '140704',\n",
       " 60: '140705',\n",
       " 61: '140706',\n",
       " 62: '140707',\n",
       " 63: '140708',\n",
       " 64: '140709',\n",
       " 65: '140801',\n",
       " 66: '140802',\n",
       " 67: '140803',\n",
       " 68: '140804',\n",
       " 69: '140805',\n",
       " 70: '140806',\n",
       " 71: '140808',\n",
       " 72: '140809',\n",
       " 73: '140810',\n",
       " 74: '140901',\n",
       " 75: '141001',\n",
       " 76: '141101',\n",
       " 77: '141201',\n",
       " 78: '141202',\n",
       " 79: '141203',\n",
       " 80: '141205',\n",
       " 81: '141206',\n",
       " 82: '141207',\n",
       " 83: '141301',\n",
       " 84: '141302',\n",
       " 85: '141303',\n",
       " 86: '141401',\n",
       " 87: '141501',\n",
       " 88: '141502',\n",
       " 89: '141503',\n",
       " 90: '141701',\n",
       " 91: '141702',\n",
       " 92: '141703',\n",
       " 93: '141801',\n",
       " 94: '141802',\n",
       " 95: '141901',\n",
       " 96: '141902',\n",
       " 97: '142001',\n",
       " 98: '142101',\n",
       " 99: '142102',\n",
       " 100: '142103',\n",
       " 101: '142104',\n",
       " 102: '142105',\n",
       " 103: '142106',\n",
       " 104: '142107',\n",
       " 105: '142201',\n",
       " 106: '142202',\n",
       " 107: '142203',\n",
       " 108: '142204',\n",
       " 109: '142205',\n",
       " 110: '142301',\n",
       " 111: '142302',\n",
       " 112: '142303',\n",
       " 113: '142304',\n",
       " 114: '142305',\n",
       " 115: '142306',\n",
       " 116: '142307',\n",
       " 117: '142308',\n",
       " 118: '142309',\n",
       " 119: '142401',\n",
       " 120: '142402',\n",
       " 121: '142403',\n",
       " 122: '142501',\n",
       " 123: '142601',\n",
       " 124: '142602',\n",
       " 125: '142701'}"
      ]
     },
     "execution_count": 57,
     "metadata": {},
     "output_type": "execute_result"
    }
   ],
   "source": [
    "label_num,unique_id = id_label['app_id'].factorize()\n",
    "id_dict = dict(zip(label_num,unique_id))\n",
    "id_dict"
   ]
  },
  {
   "cell_type": "markdown",
   "metadata": {},
   "source": [
    "## train_data"
   ]
  },
  {
   "cell_type": "code",
   "execution_count": 58,
   "metadata": {},
   "outputs": [
    {
     "name": "stderr",
     "output_type": "stream",
     "text": [
      "F:\\Anaconda3\\lib\\site-packages\\ipykernel_launcher.py:1: ParserWarning: Falling back to the 'python' engine because the 'c' engine does not support regex separators (separators > 1 char and different from '\\s+' are interpreted as regex); you can avoid this warning by specifying engine='python'.\n",
      "  \"\"\"Entry point for launching an IPython kernel.\n"
     ]
    },
    {
     "data": {
      "text/html": [
       "<div>\n",
       "<style scoped>\n",
       "    .dataframe tbody tr th:only-of-type {\n",
       "        vertical-align: middle;\n",
       "    }\n",
       "\n",
       "    .dataframe tbody tr th {\n",
       "        vertical-align: top;\n",
       "    }\n",
       "\n",
       "    .dataframe thead th {\n",
       "        text-align: right;\n",
       "    }\n",
       "</style>\n",
       "<table border=\"1\" class=\"dataframe\">\n",
       "  <thead>\n",
       "    <tr style=\"text-align: right;\">\n",
       "      <th></th>\n",
       "      <th>app_name</th>\n",
       "      <th>app_id</th>\n",
       "      <th>app_desc</th>\n",
       "    </tr>\n",
       "  </thead>\n",
       "  <tbody>\n",
       "    <tr>\n",
       "      <th>0</th>\n",
       "      <td>00000777CE5B5AA5C1AC94DB8EABE0AC</td>\n",
       "      <td>140203</td>\n",
       "      <td>《游戏王座》使用说明书成分由怪兽卡、魔法卡、陷阱卡合计数千张卡牌以及刺激性、耐久性玩法组成。...</td>\n",
       "    </tr>\n",
       "    <tr>\n",
       "      <th>1</th>\n",
       "      <td>0000DEC36E15C27DBFC64AB8208C4B37</td>\n",
       "      <td>140206</td>\n",
       "      <td>更稳定、更优质，邀您一起。</td>\n",
       "    </tr>\n",
       "    <tr>\n",
       "      <th>2</th>\n",
       "      <td>0001791406307B1D1CE2BC64A830B7C7</td>\n",
       "      <td>142106</td>\n",
       "      <td>《小钱袋》是一款免费网络版记帐软件，适用于个人记帐、家庭记帐、团队记帐，全程帮您安全记录您财...</td>\n",
       "    </tr>\n",
       "    <tr>\n",
       "      <th>3</th>\n",
       "      <td>0002F14825B9CA01653325EEFD69D790</td>\n",
       "      <td>142701</td>\n",
       "      <td>领先的周易服务平台高人汇，汇聚算命大师、风水大师、占卜大师、手相大师、起名大师、算命先生、面...</td>\n",
       "    </tr>\n",
       "    <tr>\n",
       "      <th>4</th>\n",
       "      <td>000419D79365331F89399E5F38A91B05</td>\n",
       "      <td>140901</td>\n",
       "      <td>平行空间是一款极简、免费的黑科技双开助手；您可以在平行空间双开微信微博、陌陌、映客、yy等应...</td>\n",
       "    </tr>\n",
       "  </tbody>\n",
       "</table>\n",
       "</div>"
      ],
      "text/plain": [
       "                           app_name  app_id  \\\n",
       "0  00000777CE5B5AA5C1AC94DB8EABE0AC  140203   \n",
       "1  0000DEC36E15C27DBFC64AB8208C4B37  140206   \n",
       "2  0001791406307B1D1CE2BC64A830B7C7  142106   \n",
       "3  0002F14825B9CA01653325EEFD69D790  142701   \n",
       "4  000419D79365331F89399E5F38A91B05  140901   \n",
       "\n",
       "                                            app_desc  \n",
       "0  《游戏王座》使用说明书成分由怪兽卡、魔法卡、陷阱卡合计数千张卡牌以及刺激性、耐久性玩法组成。...  \n",
       "1                                      更稳定、更优质，邀您一起。  \n",
       "2  《小钱袋》是一款免费网络版记帐软件，适用于个人记帐、家庭记帐、团队记帐，全程帮您安全记录您财...  \n",
       "3  领先的周易服务平台高人汇，汇聚算命大师、风水大师、占卜大师、手相大师、起名大师、算命先生、面...  \n",
       "4  平行空间是一款极简、免费的黑科技双开助手；您可以在平行空间双开微信微博、陌陌、映客、yy等应...  "
      ]
     },
     "execution_count": 58,
     "metadata": {},
     "output_type": "execute_result"
    }
   ],
   "source": [
    "apptype_train = pd.read_csv('../apptype_train.dat',header=None,sep='\\\\t',encoding='utf8',names=['app_name','app_id','app_desc'])\n",
    "apptype_train.head()"
   ]
  },
  {
   "cell_type": "markdown",
   "metadata": {},
   "source": [
    "## split app_id"
   ]
  },
  {
   "cell_type": "code",
   "execution_count": 59,
   "metadata": {},
   "outputs": [
    {
     "data": {
      "text/html": [
       "<div>\n",
       "<style scoped>\n",
       "    .dataframe tbody tr th:only-of-type {\n",
       "        vertical-align: middle;\n",
       "    }\n",
       "\n",
       "    .dataframe tbody tr th {\n",
       "        vertical-align: top;\n",
       "    }\n",
       "\n",
       "    .dataframe thead th {\n",
       "        text-align: right;\n",
       "    }\n",
       "</style>\n",
       "<table border=\"1\" class=\"dataframe\">\n",
       "  <thead>\n",
       "    <tr style=\"text-align: right;\">\n",
       "      <th></th>\n",
       "      <th>app_id</th>\n",
       "      <th>app_id_</th>\n",
       "    </tr>\n",
       "  </thead>\n",
       "  <tbody>\n",
       "    <tr>\n",
       "      <th>0</th>\n",
       "      <td>140203</td>\n",
       "      <td>None</td>\n",
       "    </tr>\n",
       "    <tr>\n",
       "      <th>1</th>\n",
       "      <td>140206</td>\n",
       "      <td>None</td>\n",
       "    </tr>\n",
       "    <tr>\n",
       "      <th>2</th>\n",
       "      <td>142106</td>\n",
       "      <td>None</td>\n",
       "    </tr>\n",
       "    <tr>\n",
       "      <th>3</th>\n",
       "      <td>142701</td>\n",
       "      <td>None</td>\n",
       "    </tr>\n",
       "    <tr>\n",
       "      <th>4</th>\n",
       "      <td>140901</td>\n",
       "      <td>None</td>\n",
       "    </tr>\n",
       "  </tbody>\n",
       "</table>\n",
       "</div>"
      ],
      "text/plain": [
       "   app_id app_id_\n",
       "0  140203    None\n",
       "1  140206    None\n",
       "2  142106    None\n",
       "3  142701    None\n",
       "4  140901    None"
      ]
     },
     "execution_count": 59,
     "metadata": {},
     "output_type": "execute_result"
    }
   ],
   "source": [
    "app_id = apptype_train['app_id'].str.split('|',expand=True)\n",
    "app_id.columns = ['app_id','app_id_']\n",
    "app_id.head()"
   ]
  },
  {
   "cell_type": "code",
   "execution_count": 60,
   "metadata": {},
   "outputs": [
    {
     "data": {
      "text/html": [
       "<div>\n",
       "<style scoped>\n",
       "    .dataframe tbody tr th:only-of-type {\n",
       "        vertical-align: middle;\n",
       "    }\n",
       "\n",
       "    .dataframe tbody tr th {\n",
       "        vertical-align: top;\n",
       "    }\n",
       "\n",
       "    .dataframe thead th {\n",
       "        text-align: right;\n",
       "    }\n",
       "</style>\n",
       "<table border=\"1\" class=\"dataframe\">\n",
       "  <thead>\n",
       "    <tr style=\"text-align: right;\">\n",
       "      <th></th>\n",
       "      <th>app_name</th>\n",
       "      <th>app_desc</th>\n",
       "      <th>app_id</th>\n",
       "      <th>app_id_</th>\n",
       "    </tr>\n",
       "  </thead>\n",
       "  <tbody>\n",
       "    <tr>\n",
       "      <th>0</th>\n",
       "      <td>00000777CE5B5AA5C1AC94DB8EABE0AC</td>\n",
       "      <td>《游戏王座》使用说明书成分由怪兽卡、魔法卡、陷阱卡合计数千张卡牌以及刺激性、耐久性玩法组成。...</td>\n",
       "      <td>140203</td>\n",
       "      <td>None</td>\n",
       "    </tr>\n",
       "    <tr>\n",
       "      <th>1</th>\n",
       "      <td>0000DEC36E15C27DBFC64AB8208C4B37</td>\n",
       "      <td>更稳定、更优质，邀您一起。</td>\n",
       "      <td>140206</td>\n",
       "      <td>None</td>\n",
       "    </tr>\n",
       "    <tr>\n",
       "      <th>2</th>\n",
       "      <td>0001791406307B1D1CE2BC64A830B7C7</td>\n",
       "      <td>《小钱袋》是一款免费网络版记帐软件，适用于个人记帐、家庭记帐、团队记帐，全程帮您安全记录您财...</td>\n",
       "      <td>142106</td>\n",
       "      <td>None</td>\n",
       "    </tr>\n",
       "    <tr>\n",
       "      <th>3</th>\n",
       "      <td>0002F14825B9CA01653325EEFD69D790</td>\n",
       "      <td>领先的周易服务平台高人汇，汇聚算命大师、风水大师、占卜大师、手相大师、起名大师、算命先生、面...</td>\n",
       "      <td>142701</td>\n",
       "      <td>None</td>\n",
       "    </tr>\n",
       "    <tr>\n",
       "      <th>4</th>\n",
       "      <td>000419D79365331F89399E5F38A91B05</td>\n",
       "      <td>平行空间是一款极简、免费的黑科技双开助手；您可以在平行空间双开微信微博、陌陌、映客、yy等应...</td>\n",
       "      <td>140901</td>\n",
       "      <td>None</td>\n",
       "    </tr>\n",
       "  </tbody>\n",
       "</table>\n",
       "</div>"
      ],
      "text/plain": [
       "                           app_name  \\\n",
       "0  00000777CE5B5AA5C1AC94DB8EABE0AC   \n",
       "1  0000DEC36E15C27DBFC64AB8208C4B37   \n",
       "2  0001791406307B1D1CE2BC64A830B7C7   \n",
       "3  0002F14825B9CA01653325EEFD69D790   \n",
       "4  000419D79365331F89399E5F38A91B05   \n",
       "\n",
       "                                            app_desc  app_id app_id_  \n",
       "0  《游戏王座》使用说明书成分由怪兽卡、魔法卡、陷阱卡合计数千张卡牌以及刺激性、耐久性玩法组成。...  140203    None  \n",
       "1                                      更稳定、更优质，邀您一起。  140206    None  \n",
       "2  《小钱袋》是一款免费网络版记帐软件，适用于个人记帐、家庭记帐、团队记帐，全程帮您安全记录您财...  142106    None  \n",
       "3  领先的周易服务平台高人汇，汇聚算命大师、风水大师、占卜大师、手相大师、起名大师、算命先生、面...  142701    None  \n",
       "4  平行空间是一款极简、免费的黑科技双开助手；您可以在平行空间双开微信微博、陌陌、映客、yy等应...  140901    None  "
      ]
     },
     "execution_count": 60,
     "metadata": {},
     "output_type": "execute_result"
    }
   ],
   "source": [
    "apptype_train = pd.concat([apptype_train.drop('app_id',axis=1),app_id],axis=1)\n",
    "apptype_train.head()"
   ]
  },
  {
   "cell_type": "code",
   "execution_count": 61,
   "metadata": {},
   "outputs": [
    {
     "data": {
      "text/html": [
       "<div>\n",
       "<style scoped>\n",
       "    .dataframe tbody tr th:only-of-type {\n",
       "        vertical-align: middle;\n",
       "    }\n",
       "\n",
       "    .dataframe tbody tr th {\n",
       "        vertical-align: top;\n",
       "    }\n",
       "\n",
       "    .dataframe thead th {\n",
       "        text-align: right;\n",
       "    }\n",
       "</style>\n",
       "<table border=\"1\" class=\"dataframe\">\n",
       "  <thead>\n",
       "    <tr style=\"text-align: right;\">\n",
       "      <th></th>\n",
       "      <th>app_name</th>\n",
       "      <th>app_desc</th>\n",
       "      <th>app_id</th>\n",
       "    </tr>\n",
       "  </thead>\n",
       "  <tbody>\n",
       "    <tr>\n",
       "      <th>0</th>\n",
       "      <td>00000777CE5B5AA5C1AC94DB8EABE0AC</td>\n",
       "      <td>《游戏王座》使用说明书成分由怪兽卡、魔法卡、陷阱卡合计数千张卡牌以及刺激性、耐久性玩法组成。...</td>\n",
       "      <td>140203</td>\n",
       "    </tr>\n",
       "    <tr>\n",
       "      <th>1</th>\n",
       "      <td>0000DEC36E15C27DBFC64AB8208C4B37</td>\n",
       "      <td>更稳定、更优质，邀您一起。</td>\n",
       "      <td>140206</td>\n",
       "    </tr>\n",
       "    <tr>\n",
       "      <th>2</th>\n",
       "      <td>0001791406307B1D1CE2BC64A830B7C7</td>\n",
       "      <td>《小钱袋》是一款免费网络版记帐软件，适用于个人记帐、家庭记帐、团队记帐，全程帮您安全记录您财...</td>\n",
       "      <td>142106</td>\n",
       "    </tr>\n",
       "    <tr>\n",
       "      <th>3</th>\n",
       "      <td>0002F14825B9CA01653325EEFD69D790</td>\n",
       "      <td>领先的周易服务平台高人汇，汇聚算命大师、风水大师、占卜大师、手相大师、起名大师、算命先生、面...</td>\n",
       "      <td>142701</td>\n",
       "    </tr>\n",
       "    <tr>\n",
       "      <th>4</th>\n",
       "      <td>000419D79365331F89399E5F38A91B05</td>\n",
       "      <td>平行空间是一款极简、免费的黑科技双开助手；您可以在平行空间双开微信微博、陌陌、映客、yy等应...</td>\n",
       "      <td>140901</td>\n",
       "    </tr>\n",
       "  </tbody>\n",
       "</table>\n",
       "</div>"
      ],
      "text/plain": [
       "                           app_name  \\\n",
       "0  00000777CE5B5AA5C1AC94DB8EABE0AC   \n",
       "1  0000DEC36E15C27DBFC64AB8208C4B37   \n",
       "2  0001791406307B1D1CE2BC64A830B7C7   \n",
       "3  0002F14825B9CA01653325EEFD69D790   \n",
       "4  000419D79365331F89399E5F38A91B05   \n",
       "\n",
       "                                            app_desc  app_id  \n",
       "0  《游戏王座》使用说明书成分由怪兽卡、魔法卡、陷阱卡合计数千张卡牌以及刺激性、耐久性玩法组成。...  140203  \n",
       "1                                      更稳定、更优质，邀您一起。  140206  \n",
       "2  《小钱袋》是一款免费网络版记帐软件，适用于个人记帐、家庭记帐、团队记帐，全程帮您安全记录您财...  142106  \n",
       "3  领先的周易服务平台高人汇，汇聚算命大师、风水大师、占卜大师、手相大师、起名大师、算命先生、面...  142701  \n",
       "4  平行空间是一款极简、免费的黑科技双开助手；您可以在平行空间双开微信微博、陌陌、映客、yy等应...  140901  "
      ]
     },
     "execution_count": 61,
     "metadata": {},
     "output_type": "execute_result"
    }
   ],
   "source": [
    "apptype_train = pd.DataFrame(np.vstack((apptype_train[['app_name','app_desc','app_id']].values,\n",
    "                                 apptype_train[['app_name','app_desc','app_id_']].dropna().values)),\n",
    "                                  columns=['app_name','app_desc','app_id'])\n",
    "apptype_train.head()"
   ]
  },
  {
   "cell_type": "markdown",
   "metadata": {},
   "source": [
    "## drop useless app_desc"
   ]
  },
  {
   "cell_type": "code",
   "execution_count": 62,
   "metadata": {},
   "outputs": [],
   "source": [
    "apptype_train = apptype_train[apptype_train['app_desc'].apply(lambda x:len(x)>=4)] \n",
    "\n",
    "apptype_train = apptype_train[apptype_train['app_desc']!='更稳定、更优质，邀您一起。'] # test中有\n",
    "apptype_train = apptype_train[apptype_train['app_desc']!='部分小错误，整体。'] # test中有\n",
    "apptype_train = apptype_train[apptype_train['app_desc']!='了一些BUG。'] # test中有\n",
    "apptype_train = apptype_train[apptype_train['app_desc']!='该应用内部中，暂不提供下载'] # test中有\n",
    "\n",
    "apptype_train['app_desc'] = apptype_train['app_desc'].str.replace('了一些BUG。','')\n",
    "apptype_train['app_desc'] = apptype_train['app_desc'].str.replace('部分小错误，整体。','')\n",
    "apptype_train['app_desc'] = apptype_train['app_desc'].str.replace('更稳定、更优质，邀您一起。','')\n",
    "apptype_train['app_desc'] = apptype_train['app_desc'].str.replace('部分。','')\n",
    "apptype_train['app_desc'] = apptype_train['app_desc'].str.replace('提升体验，修复部分问题。','')\n",
    "apptype_train['app_desc'] = apptype_train['app_desc'].str.replace('更新内容修复','')\n",
    "apptype_train['app_desc'] = apptype_train['app_desc'].str.replace('修复','')\n",
    "apptype_train['app_desc'] = apptype_train['app_desc'].str.replace('BUG','')\n",
    "apptype_train['app_desc'] = apptype_train['app_desc'].str.replace('和错误','')\n",
    "apptype_train['app_desc'] = apptype_train['app_desc'].str.replace('优化体验，增强稳定性。','')"
   ]
  },
  {
   "cell_type": "code",
   "execution_count": 63,
   "metadata": {},
   "outputs": [
    {
     "data": {
      "text/plain": [
       "(1670, 3)"
      ]
     },
     "execution_count": 63,
     "metadata": {},
     "output_type": "execute_result"
    }
   ],
   "source": [
    "app_desc30 = apptype_train[apptype_train['app_desc'].apply(len)<30]\n",
    "app_desc30.shape"
   ]
  },
  {
   "cell_type": "code",
   "execution_count": 64,
   "metadata": {},
   "outputs": [
    {
     "data": {
      "text/plain": [
       "(30875, 3)"
      ]
     },
     "execution_count": 64,
     "metadata": {},
     "output_type": "execute_result"
    }
   ],
   "source": [
    "drop_index = [72,306,404,571,1271,2153,2568,3132,3186,5141,6182,6197,6329,6492,\n",
    "                6906,7956,8069,8195,8780,10426,10511,11535,12831,14140,14307,14455,\n",
    "                14679,15551,16969,17848,17892,18675,19209,19740,20631,22638,23259,\n",
    "                23695,25316,27006,27516,27584,28360,28488,29967,29982]\n",
    "\n",
    "# app_desc30[1600:1650]\n",
    "apptype_train = apptype_train.drop(index=drop_index)\n",
    "apptype_train.shape"
   ]
  },
  {
   "cell_type": "markdown",
   "metadata": {},
   "source": [
    "## app_id ==> label"
   ]
  },
  {
   "cell_type": "code",
   "execution_count": 65,
   "metadata": {},
   "outputs": [],
   "source": [
    "dict_id = {}\n",
    "for k,v in id_dict.items():\n",
    "    dict_id[v] = k\n",
    "apptype_train['label'] = apptype_train['app_id'].replace(dict_id)\n",
    "apptype_train.drop('app_id',axis=1,inplace=True)"
   ]
  },
  {
   "cell_type": "code",
   "execution_count": 66,
   "metadata": {},
   "outputs": [],
   "source": [
    "# apptype_train[apptype_train['app_desc'].apply(lambda x:len(x)<4)]"
   ]
  },
  {
   "cell_type": "markdown",
   "metadata": {},
   "source": [
    "## test_data"
   ]
  },
  {
   "cell_type": "code",
   "execution_count": 67,
   "metadata": {},
   "outputs": [
    {
     "name": "stderr",
     "output_type": "stream",
     "text": [
      "F:\\Anaconda3\\lib\\site-packages\\ipykernel_launcher.py:1: ParserWarning: Falling back to the 'python' engine because the 'c' engine does not support regex separators (separators > 1 char and different from '\\s+' are interpreted as regex); you can avoid this warning by specifying engine='python'.\n",
      "  \"\"\"Entry point for launching an IPython kernel.\n"
     ]
    },
    {
     "data": {
      "text/html": [
       "<div>\n",
       "<style scoped>\n",
       "    .dataframe tbody tr th:only-of-type {\n",
       "        vertical-align: middle;\n",
       "    }\n",
       "\n",
       "    .dataframe tbody tr th {\n",
       "        vertical-align: top;\n",
       "    }\n",
       "\n",
       "    .dataframe thead th {\n",
       "        text-align: right;\n",
       "    }\n",
       "</style>\n",
       "<table border=\"1\" class=\"dataframe\">\n",
       "  <thead>\n",
       "    <tr style=\"text-align: right;\">\n",
       "      <th></th>\n",
       "      <th>app_name</th>\n",
       "      <th>app_desc</th>\n",
       "    </tr>\n",
       "  </thead>\n",
       "  <tbody>\n",
       "    <tr>\n",
       "      <th>0</th>\n",
       "      <td>BB29DA6F8167CFC99E0853741C4EB17B</td>\n",
       "      <td>注意]游戏需要在设备上自己的歌曲注意]音乐赛车是一个音乐改编的赛车游戏，你用你自己的音乐比赛...</td>\n",
       "    </tr>\n",
       "    <tr>\n",
       "      <th>1</th>\n",
       "      <td>BB2A78EA7AD4945EAF6E38997F6139A3</td>\n",
       "      <td>定位试衣到家是一款基于地理位置，提供试衣到家专属购物体验的互联网平台。购物流程客户在试衣到家...</td>\n",
       "    </tr>\n",
       "    <tr>\n",
       "      <th>2</th>\n",
       "      <td>BB2B1604CFA079C289FECF927DFBCE89</td>\n",
       "      <td>想念一个人,就说出来。记得要下载安卓锁屏才可正常显示锁屏效果哦~更新内容更稳定、更优质，邀您...</td>\n",
       "    </tr>\n",
       "    <tr>\n",
       "      <th>3</th>\n",
       "      <td>BB2C7BD0B0623644183DAD08A89E1D90</td>\n",
       "      <td>闽通宝手机客户端是基于移动互联网的，以公众出行服务为基础，贯彻绿色出行，低碳生活的理念，为出...</td>\n",
       "    </tr>\n",
       "    <tr>\n",
       "      <th>4</th>\n",
       "      <td>BB2E1A8F56158E483D7461E930E6332F</td>\n",
       "      <td>风靡全球的DIY照片桌面，干净、流畅，启动提速100，瞬间提升手机性能；更是一亿用户的共同选...</td>\n",
       "    </tr>\n",
       "  </tbody>\n",
       "</table>\n",
       "</div>"
      ],
      "text/plain": [
       "                           app_name  \\\n",
       "0  BB29DA6F8167CFC99E0853741C4EB17B   \n",
       "1  BB2A78EA7AD4945EAF6E38997F6139A3   \n",
       "2  BB2B1604CFA079C289FECF927DFBCE89   \n",
       "3  BB2C7BD0B0623644183DAD08A89E1D90   \n",
       "4  BB2E1A8F56158E483D7461E930E6332F   \n",
       "\n",
       "                                            app_desc  \n",
       "0  注意]游戏需要在设备上自己的歌曲注意]音乐赛车是一个音乐改编的赛车游戏，你用你自己的音乐比赛...  \n",
       "1  定位试衣到家是一款基于地理位置，提供试衣到家专属购物体验的互联网平台。购物流程客户在试衣到家...  \n",
       "2  想念一个人,就说出来。记得要下载安卓锁屏才可正常显示锁屏效果哦~更新内容更稳定、更优质，邀您...  \n",
       "3  闽通宝手机客户端是基于移动互联网的，以公众出行服务为基础，贯彻绿色出行，低碳生活的理念，为出...  \n",
       "4  风靡全球的DIY照片桌面，干净、流畅，启动提速100，瞬间提升手机性能；更是一亿用户的共同选...  "
      ]
     },
     "execution_count": 67,
     "metadata": {},
     "output_type": "execute_result"
    }
   ],
   "source": [
    "apptype_test = pd.read_csv('../app_desc.dat',header=None,sep='\\\\t',encoding='utf8',names=['app_name','app_desc'])\n",
    "apptype_test.head()"
   ]
  },
  {
   "cell_type": "code",
   "execution_count": 68,
   "metadata": {},
   "outputs": [
    {
     "data": {
      "text/html": [
       "<div>\n",
       "<style scoped>\n",
       "    .dataframe tbody tr th:only-of-type {\n",
       "        vertical-align: middle;\n",
       "    }\n",
       "\n",
       "    .dataframe tbody tr th {\n",
       "        vertical-align: top;\n",
       "    }\n",
       "\n",
       "    .dataframe thead th {\n",
       "        text-align: right;\n",
       "    }\n",
       "</style>\n",
       "<table border=\"1\" class=\"dataframe\">\n",
       "  <thead>\n",
       "    <tr style=\"text-align: right;\">\n",
       "      <th></th>\n",
       "      <th>app_name</th>\n",
       "      <th>app_desc</th>\n",
       "    </tr>\n",
       "  </thead>\n",
       "  <tbody>\n",
       "    <tr>\n",
       "      <th>10660</th>\n",
       "      <td>FD980DC9275D72749015E42DF1D6E531</td>\n",
       "      <td>\"二，</td>\n",
       "    </tr>\n",
       "    <tr>\n",
       "      <th>13393</th>\n",
       "      <td>064BD72AD58055D27DC60A0D1E81B7E4</td>\n",
       "      <td>实时美颜</td>\n",
       "    </tr>\n",
       "    <tr>\n",
       "      <th>20860</th>\n",
       "      <td>1A58C51F9FC2354ED9C821DE9879F0F4</td>\n",
       "      <td>一、</td>\n",
       "    </tr>\n",
       "    <tr>\n",
       "      <th>27350</th>\n",
       "      <td>2BA90EBBD28A7AE20A7CA17077DCA6E8</td>\n",
       "      <td>详细描述</td>\n",
       "    </tr>\n",
       "    <tr>\n",
       "      <th>30971</th>\n",
       "      <td>359312689984EAF2EE54D6FF48B20DF0</td>\n",
       "      <td>指导单位</td>\n",
       "    </tr>\n",
       "    <tr>\n",
       "      <th>32835</th>\n",
       "      <td>3AA368B37AFA234F35DA3DDE84E2986D</td>\n",
       "      <td>重要信息</td>\n",
       "    </tr>\n",
       "    <tr>\n",
       "      <th>37528</th>\n",
       "      <td>47424E78ACC2B554A8D2FEC3606119B1</td>\n",
       "      <td>应用介绍</td>\n",
       "    </tr>\n",
       "    <tr>\n",
       "      <th>40539</th>\n",
       "      <td>4F35F932FD78C2423F049EF53E8140C3</td>\n",
       "      <td>应用介绍</td>\n",
       "    </tr>\n",
       "    <tr>\n",
       "      <th>58471</th>\n",
       "      <td>7FFF8A6AA1504DE5F173CB36718CB66D</td>\n",
       "      <td>应用描述</td>\n",
       "    </tr>\n",
       "    <tr>\n",
       "      <th>70424</th>\n",
       "      <td>A03FB8D125761066E5CB0CE2C9506F57</td>\n",
       "      <td>一、</td>\n",
       "    </tr>\n",
       "    <tr>\n",
       "      <th>71623</th>\n",
       "      <td>A36CBB6145673284DDE4AE0F34028061</td>\n",
       "      <td>功能唯美</td>\n",
       "    </tr>\n",
       "    <tr>\n",
       "      <th>75231</th>\n",
       "      <td>AD72AD89054BB3A622234545E16193BF</td>\n",
       "      <td>指导单位</td>\n",
       "    </tr>\n",
       "    <tr>\n",
       "      <th>76535</th>\n",
       "      <td>B102124DD5E240EE69ABD50CA2C52AF4</td>\n",
       "      <td>实时美颜</td>\n",
       "    </tr>\n",
       "    <tr>\n",
       "      <th>92112</th>\n",
       "      <td>DB1B0E40CADE9F2057CB106FB68A4C5A</td>\n",
       "      <td>一、</td>\n",
       "    </tr>\n",
       "    <tr>\n",
       "      <th>93986</th>\n",
       "      <td>E001A30B4059459BBE63DD67FC883BEA</td>\n",
       "      <td>关于丸子</td>\n",
       "    </tr>\n",
       "    <tr>\n",
       "      <th>99224</th>\n",
       "      <td>EE43E34E737AC8124710225B87E07717</td>\n",
       "      <td>实时美颜</td>\n",
       "    </tr>\n",
       "  </tbody>\n",
       "</table>\n",
       "</div>"
      ],
      "text/plain": [
       "                               app_name app_desc\n",
       "10660  FD980DC9275D72749015E42DF1D6E531      \"二，\n",
       "13393  064BD72AD58055D27DC60A0D1E81B7E4     实时美颜\n",
       "20860  1A58C51F9FC2354ED9C821DE9879F0F4       一、\n",
       "27350  2BA90EBBD28A7AE20A7CA17077DCA6E8     详细描述\n",
       "30971  359312689984EAF2EE54D6FF48B20DF0     指导单位\n",
       "32835  3AA368B37AFA234F35DA3DDE84E2986D     重要信息\n",
       "37528  47424E78ACC2B554A8D2FEC3606119B1     应用介绍\n",
       "40539  4F35F932FD78C2423F049EF53E8140C3     应用介绍\n",
       "58471  7FFF8A6AA1504DE5F173CB36718CB66D     应用描述\n",
       "70424  A03FB8D125761066E5CB0CE2C9506F57       一、\n",
       "71623  A36CBB6145673284DDE4AE0F34028061     功能唯美\n",
       "75231  AD72AD89054BB3A622234545E16193BF     指导单位\n",
       "76535  B102124DD5E240EE69ABD50CA2C52AF4     实时美颜\n",
       "92112  DB1B0E40CADE9F2057CB106FB68A4C5A       一、\n",
       "93986  E001A30B4059459BBE63DD67FC883BEA     关于丸子\n",
       "99224  EE43E34E737AC8124710225B87E07717     实时美颜"
      ]
     },
     "execution_count": 68,
     "metadata": {},
     "output_type": "execute_result"
    }
   ],
   "source": [
    "apptype_test[apptype_test['app_desc'].apply(lambda x:len(x)<5)]"
   ]
  },
  {
   "cell_type": "markdown",
   "metadata": {},
   "source": [
    "## train_data+test_data"
   ]
  },
  {
   "cell_type": "code",
   "execution_count": 69,
   "metadata": {},
   "outputs": [
    {
     "data": {
      "text/html": [
       "<div>\n",
       "<style scoped>\n",
       "    .dataframe tbody tr th:only-of-type {\n",
       "        vertical-align: middle;\n",
       "    }\n",
       "\n",
       "    .dataframe tbody tr th {\n",
       "        vertical-align: top;\n",
       "    }\n",
       "\n",
       "    .dataframe thead th {\n",
       "        text-align: right;\n",
       "    }\n",
       "</style>\n",
       "<table border=\"1\" class=\"dataframe\">\n",
       "  <thead>\n",
       "    <tr style=\"text-align: right;\">\n",
       "      <th></th>\n",
       "      <th>app_name</th>\n",
       "      <th>app_desc</th>\n",
       "      <th>label</th>\n",
       "    </tr>\n",
       "  </thead>\n",
       "  <tbody>\n",
       "    <tr>\n",
       "      <th>0</th>\n",
       "      <td>00000777CE5B5AA5C1AC94DB8EABE0AC</td>\n",
       "      <td>《游戏王座》使用说明书成分由怪兽卡、魔法卡、陷阱卡合计数千张卡牌以及刺激性、耐久性玩法组成。...</td>\n",
       "      <td>16.0</td>\n",
       "    </tr>\n",
       "    <tr>\n",
       "      <th>1</th>\n",
       "      <td>0001791406307B1D1CE2BC64A830B7C7</td>\n",
       "      <td>《小钱袋》是一款免费网络版记帐软件，适用于个人记帐、家庭记帐、团队记帐，全程帮您安全记录您财...</td>\n",
       "      <td>103.0</td>\n",
       "    </tr>\n",
       "    <tr>\n",
       "      <th>2</th>\n",
       "      <td>0002F14825B9CA01653325EEFD69D790</td>\n",
       "      <td>领先的周易服务平台高人汇，汇聚算命大师、风水大师、占卜大师、手相大师、起名大师、算命先生、面...</td>\n",
       "      <td>125.0</td>\n",
       "    </tr>\n",
       "    <tr>\n",
       "      <th>3</th>\n",
       "      <td>000419D79365331F89399E5F38A91B05</td>\n",
       "      <td>平行空间是一款极简、免费的黑科技双开助手；您可以在平行空间双开微信微博、陌陌、映客、yy等应...</td>\n",
       "      <td>74.0</td>\n",
       "    </tr>\n",
       "    <tr>\n",
       "      <th>4</th>\n",
       "      <td>0004749ACB5303DD2820CD4EE503E44D</td>\n",
       "      <td>和教育全国版是中国移动面向中小学师生和家长推出的一款集在线教育学习及家校互动沟通为一体的应用...</td>\n",
       "      <td>56.0</td>\n",
       "    </tr>\n",
       "  </tbody>\n",
       "</table>\n",
       "</div>"
      ],
      "text/plain": [
       "                           app_name  \\\n",
       "0  00000777CE5B5AA5C1AC94DB8EABE0AC   \n",
       "1  0001791406307B1D1CE2BC64A830B7C7   \n",
       "2  0002F14825B9CA01653325EEFD69D790   \n",
       "3  000419D79365331F89399E5F38A91B05   \n",
       "4  0004749ACB5303DD2820CD4EE503E44D   \n",
       "\n",
       "                                            app_desc  label  \n",
       "0  《游戏王座》使用说明书成分由怪兽卡、魔法卡、陷阱卡合计数千张卡牌以及刺激性、耐久性玩法组成。...   16.0  \n",
       "1  《小钱袋》是一款免费网络版记帐软件，适用于个人记帐、家庭记帐、团队记帐，全程帮您安全记录您财...  103.0  \n",
       "2  领先的周易服务平台高人汇，汇聚算命大师、风水大师、占卜大师、手相大师、起名大师、算命先生、面...  125.0  \n",
       "3  平行空间是一款极简、免费的黑科技双开助手；您可以在平行空间双开微信微博、陌陌、映客、yy等应...   74.0  \n",
       "4  和教育全国版是中国移动面向中小学师生和家长推出的一款集在线教育学习及家校互动沟通为一体的应用...   56.0  "
      ]
     },
     "execution_count": 69,
     "metadata": {},
     "output_type": "execute_result"
    }
   ],
   "source": [
    "train_test_data = pd.concat([apptype_train,apptype_test],sort=False)\n",
    "train_test_data = train_test_data.reset_index(drop=True)\n",
    "train_test_data.at[0,'app_desc'] = train_test_data['app_desc'][0][:229]\n",
    "train_test_data.head()"
   ]
  },
  {
   "cell_type": "markdown",
   "metadata": {},
   "source": [
    "# opencc\n",
    "繁体->简体"
   ]
  },
  {
   "cell_type": "code",
   "execution_count": 74,
   "metadata": {},
   "outputs": [],
   "source": [
    "from opencc import OpenCC\n",
    "opcc = OpenCC('t2s')\n",
    "\n",
    "app_desc = []\n",
    "for desc in train_test_data['app_desc']:\n",
    "    app_desc.append(opcc.convert(str(desc)))\n",
    "train_test_data['app_desc'] = app_desc"
   ]
  },
  {
   "cell_type": "code",
   "execution_count": 71,
   "metadata": {},
   "outputs": [],
   "source": [
    "# train_test_data['app_desc'][130873]"
   ]
  },
  {
   "cell_type": "markdown",
   "metadata": {},
   "source": [
    "# translate\n",
    "日文->中文"
   ]
  },
  {
   "cell_type": "code",
   "execution_count": 95,
   "metadata": {},
   "outputs": [
    {
     "ename": "MaxRetryError",
     "evalue": "HTTPConnectionPool(host='127.0.0.1', port=13052): Max retries exceeded with url: /session/eff6c501a3777234c14cbe2b69b3d08e/url (Caused by NewConnectionError('<urllib3.connection.HTTPConnection object at 0x00000192CF845898>: Failed to establish a new connection: [WinError 10061] 由于目标计算机积极拒绝，无法连接。',))",
     "output_type": "error",
     "traceback": [
      "\u001b[1;31m---------------------------------------------------------------------------\u001b[0m",
      "\u001b[1;31mConnectionRefusedError\u001b[0m                    Traceback (most recent call last)",
      "\u001b[1;32mF:\\Anaconda3\\lib\\site-packages\\urllib3\\connection.py\u001b[0m in \u001b[0;36m_new_conn\u001b[1;34m(self)\u001b[0m\n\u001b[0;32m    158\u001b[0m             conn = connection.create_connection(\n\u001b[1;32m--> 159\u001b[1;33m                 (self._dns_host, self.port), self.timeout, **extra_kw)\n\u001b[0m\u001b[0;32m    160\u001b[0m \u001b[1;33m\u001b[0m\u001b[0m\n",
      "\u001b[1;32mF:\\Anaconda3\\lib\\site-packages\\urllib3\\util\\connection.py\u001b[0m in \u001b[0;36mcreate_connection\u001b[1;34m(address, timeout, source_address, socket_options)\u001b[0m\n\u001b[0;32m     79\u001b[0m     \u001b[1;32mif\u001b[0m \u001b[0merr\u001b[0m \u001b[1;32mis\u001b[0m \u001b[1;32mnot\u001b[0m \u001b[1;32mNone\u001b[0m\u001b[1;33m:\u001b[0m\u001b[1;33m\u001b[0m\u001b[1;33m\u001b[0m\u001b[0m\n\u001b[1;32m---> 80\u001b[1;33m         \u001b[1;32mraise\u001b[0m \u001b[0merr\u001b[0m\u001b[1;33m\u001b[0m\u001b[1;33m\u001b[0m\u001b[0m\n\u001b[0m\u001b[0;32m     81\u001b[0m \u001b[1;33m\u001b[0m\u001b[0m\n",
      "\u001b[1;32mF:\\Anaconda3\\lib\\site-packages\\urllib3\\util\\connection.py\u001b[0m in \u001b[0;36mcreate_connection\u001b[1;34m(address, timeout, source_address, socket_options)\u001b[0m\n\u001b[0;32m     69\u001b[0m                 \u001b[0msock\u001b[0m\u001b[1;33m.\u001b[0m\u001b[0mbind\u001b[0m\u001b[1;33m(\u001b[0m\u001b[0msource_address\u001b[0m\u001b[1;33m)\u001b[0m\u001b[1;33m\u001b[0m\u001b[1;33m\u001b[0m\u001b[0m\n\u001b[1;32m---> 70\u001b[1;33m             \u001b[0msock\u001b[0m\u001b[1;33m.\u001b[0m\u001b[0mconnect\u001b[0m\u001b[1;33m(\u001b[0m\u001b[0msa\u001b[0m\u001b[1;33m)\u001b[0m\u001b[1;33m\u001b[0m\u001b[1;33m\u001b[0m\u001b[0m\n\u001b[0m\u001b[0;32m     71\u001b[0m             \u001b[1;32mreturn\u001b[0m \u001b[0msock\u001b[0m\u001b[1;33m\u001b[0m\u001b[1;33m\u001b[0m\u001b[0m\n",
      "\u001b[1;31mConnectionRefusedError\u001b[0m: [WinError 10061] 由于目标计算机积极拒绝，无法连接。",
      "\nDuring handling of the above exception, another exception occurred:\n",
      "\u001b[1;31mNewConnectionError\u001b[0m                        Traceback (most recent call last)",
      "\u001b[1;32mF:\\Anaconda3\\lib\\site-packages\\urllib3\\connectionpool.py\u001b[0m in \u001b[0;36murlopen\u001b[1;34m(self, method, url, body, headers, retries, redirect, assert_same_host, timeout, pool_timeout, release_conn, chunked, body_pos, **response_kw)\u001b[0m\n\u001b[0;32m    599\u001b[0m                                                   \u001b[0mbody\u001b[0m\u001b[1;33m=\u001b[0m\u001b[0mbody\u001b[0m\u001b[1;33m,\u001b[0m \u001b[0mheaders\u001b[0m\u001b[1;33m=\u001b[0m\u001b[0mheaders\u001b[0m\u001b[1;33m,\u001b[0m\u001b[1;33m\u001b[0m\u001b[1;33m\u001b[0m\u001b[0m\n\u001b[1;32m--> 600\u001b[1;33m                                                   chunked=chunked)\n\u001b[0m\u001b[0;32m    601\u001b[0m \u001b[1;33m\u001b[0m\u001b[0m\n",
      "\u001b[1;32mF:\\Anaconda3\\lib\\site-packages\\urllib3\\connectionpool.py\u001b[0m in \u001b[0;36m_make_request\u001b[1;34m(self, conn, method, url, timeout, chunked, **httplib_request_kw)\u001b[0m\n\u001b[0;32m    353\u001b[0m         \u001b[1;32melse\u001b[0m\u001b[1;33m:\u001b[0m\u001b[1;33m\u001b[0m\u001b[1;33m\u001b[0m\u001b[0m\n\u001b[1;32m--> 354\u001b[1;33m             \u001b[0mconn\u001b[0m\u001b[1;33m.\u001b[0m\u001b[0mrequest\u001b[0m\u001b[1;33m(\u001b[0m\u001b[0mmethod\u001b[0m\u001b[1;33m,\u001b[0m \u001b[0murl\u001b[0m\u001b[1;33m,\u001b[0m \u001b[1;33m**\u001b[0m\u001b[0mhttplib_request_kw\u001b[0m\u001b[1;33m)\u001b[0m\u001b[1;33m\u001b[0m\u001b[1;33m\u001b[0m\u001b[0m\n\u001b[0m\u001b[0;32m    355\u001b[0m \u001b[1;33m\u001b[0m\u001b[0m\n",
      "\u001b[1;32mF:\\Anaconda3\\lib\\http\\client.py\u001b[0m in \u001b[0;36mrequest\u001b[1;34m(self, method, url, body, headers, encode_chunked)\u001b[0m\n\u001b[0;32m   1238\u001b[0m         \u001b[1;34m\"\"\"Send a complete request to the server.\"\"\"\u001b[0m\u001b[1;33m\u001b[0m\u001b[1;33m\u001b[0m\u001b[0m\n\u001b[1;32m-> 1239\u001b[1;33m         \u001b[0mself\u001b[0m\u001b[1;33m.\u001b[0m\u001b[0m_send_request\u001b[0m\u001b[1;33m(\u001b[0m\u001b[0mmethod\u001b[0m\u001b[1;33m,\u001b[0m \u001b[0murl\u001b[0m\u001b[1;33m,\u001b[0m \u001b[0mbody\u001b[0m\u001b[1;33m,\u001b[0m \u001b[0mheaders\u001b[0m\u001b[1;33m,\u001b[0m \u001b[0mencode_chunked\u001b[0m\u001b[1;33m)\u001b[0m\u001b[1;33m\u001b[0m\u001b[1;33m\u001b[0m\u001b[0m\n\u001b[0m\u001b[0;32m   1240\u001b[0m \u001b[1;33m\u001b[0m\u001b[0m\n",
      "\u001b[1;32mF:\\Anaconda3\\lib\\http\\client.py\u001b[0m in \u001b[0;36m_send_request\u001b[1;34m(self, method, url, body, headers, encode_chunked)\u001b[0m\n\u001b[0;32m   1284\u001b[0m             \u001b[0mbody\u001b[0m \u001b[1;33m=\u001b[0m \u001b[0m_encode\u001b[0m\u001b[1;33m(\u001b[0m\u001b[0mbody\u001b[0m\u001b[1;33m,\u001b[0m \u001b[1;34m'body'\u001b[0m\u001b[1;33m)\u001b[0m\u001b[1;33m\u001b[0m\u001b[1;33m\u001b[0m\u001b[0m\n\u001b[1;32m-> 1285\u001b[1;33m         \u001b[0mself\u001b[0m\u001b[1;33m.\u001b[0m\u001b[0mendheaders\u001b[0m\u001b[1;33m(\u001b[0m\u001b[0mbody\u001b[0m\u001b[1;33m,\u001b[0m \u001b[0mencode_chunked\u001b[0m\u001b[1;33m=\u001b[0m\u001b[0mencode_chunked\u001b[0m\u001b[1;33m)\u001b[0m\u001b[1;33m\u001b[0m\u001b[1;33m\u001b[0m\u001b[0m\n\u001b[0m\u001b[0;32m   1286\u001b[0m \u001b[1;33m\u001b[0m\u001b[0m\n",
      "\u001b[1;32mF:\\Anaconda3\\lib\\http\\client.py\u001b[0m in \u001b[0;36mendheaders\u001b[1;34m(self, message_body, encode_chunked)\u001b[0m\n\u001b[0;32m   1233\u001b[0m             \u001b[1;32mraise\u001b[0m \u001b[0mCannotSendHeader\u001b[0m\u001b[1;33m(\u001b[0m\u001b[1;33m)\u001b[0m\u001b[1;33m\u001b[0m\u001b[1;33m\u001b[0m\u001b[0m\n\u001b[1;32m-> 1234\u001b[1;33m         \u001b[0mself\u001b[0m\u001b[1;33m.\u001b[0m\u001b[0m_send_output\u001b[0m\u001b[1;33m(\u001b[0m\u001b[0mmessage_body\u001b[0m\u001b[1;33m,\u001b[0m \u001b[0mencode_chunked\u001b[0m\u001b[1;33m=\u001b[0m\u001b[0mencode_chunked\u001b[0m\u001b[1;33m)\u001b[0m\u001b[1;33m\u001b[0m\u001b[1;33m\u001b[0m\u001b[0m\n\u001b[0m\u001b[0;32m   1235\u001b[0m \u001b[1;33m\u001b[0m\u001b[0m\n",
      "\u001b[1;32mF:\\Anaconda3\\lib\\http\\client.py\u001b[0m in \u001b[0;36m_send_output\u001b[1;34m(self, message_body, encode_chunked)\u001b[0m\n\u001b[0;32m   1025\u001b[0m         \u001b[1;32mdel\u001b[0m \u001b[0mself\u001b[0m\u001b[1;33m.\u001b[0m\u001b[0m_buffer\u001b[0m\u001b[1;33m[\u001b[0m\u001b[1;33m:\u001b[0m\u001b[1;33m]\u001b[0m\u001b[1;33m\u001b[0m\u001b[1;33m\u001b[0m\u001b[0m\n\u001b[1;32m-> 1026\u001b[1;33m         \u001b[0mself\u001b[0m\u001b[1;33m.\u001b[0m\u001b[0msend\u001b[0m\u001b[1;33m(\u001b[0m\u001b[0mmsg\u001b[0m\u001b[1;33m)\u001b[0m\u001b[1;33m\u001b[0m\u001b[1;33m\u001b[0m\u001b[0m\n\u001b[0m\u001b[0;32m   1027\u001b[0m \u001b[1;33m\u001b[0m\u001b[0m\n",
      "\u001b[1;32mF:\\Anaconda3\\lib\\http\\client.py\u001b[0m in \u001b[0;36msend\u001b[1;34m(self, data)\u001b[0m\n\u001b[0;32m    963\u001b[0m             \u001b[1;32mif\u001b[0m \u001b[0mself\u001b[0m\u001b[1;33m.\u001b[0m\u001b[0mauto_open\u001b[0m\u001b[1;33m:\u001b[0m\u001b[1;33m\u001b[0m\u001b[1;33m\u001b[0m\u001b[0m\n\u001b[1;32m--> 964\u001b[1;33m                 \u001b[0mself\u001b[0m\u001b[1;33m.\u001b[0m\u001b[0mconnect\u001b[0m\u001b[1;33m(\u001b[0m\u001b[1;33m)\u001b[0m\u001b[1;33m\u001b[0m\u001b[1;33m\u001b[0m\u001b[0m\n\u001b[0m\u001b[0;32m    965\u001b[0m             \u001b[1;32melse\u001b[0m\u001b[1;33m:\u001b[0m\u001b[1;33m\u001b[0m\u001b[1;33m\u001b[0m\u001b[0m\n",
      "\u001b[1;32mF:\\Anaconda3\\lib\\site-packages\\urllib3\\connection.py\u001b[0m in \u001b[0;36mconnect\u001b[1;34m(self)\u001b[0m\n\u001b[0;32m    180\u001b[0m     \u001b[1;32mdef\u001b[0m \u001b[0mconnect\u001b[0m\u001b[1;33m(\u001b[0m\u001b[0mself\u001b[0m\u001b[1;33m)\u001b[0m\u001b[1;33m:\u001b[0m\u001b[1;33m\u001b[0m\u001b[1;33m\u001b[0m\u001b[0m\n\u001b[1;32m--> 181\u001b[1;33m         \u001b[0mconn\u001b[0m \u001b[1;33m=\u001b[0m \u001b[0mself\u001b[0m\u001b[1;33m.\u001b[0m\u001b[0m_new_conn\u001b[0m\u001b[1;33m(\u001b[0m\u001b[1;33m)\u001b[0m\u001b[1;33m\u001b[0m\u001b[1;33m\u001b[0m\u001b[0m\n\u001b[0m\u001b[0;32m    182\u001b[0m         \u001b[0mself\u001b[0m\u001b[1;33m.\u001b[0m\u001b[0m_prepare_conn\u001b[0m\u001b[1;33m(\u001b[0m\u001b[0mconn\u001b[0m\u001b[1;33m)\u001b[0m\u001b[1;33m\u001b[0m\u001b[1;33m\u001b[0m\u001b[0m\n",
      "\u001b[1;32mF:\\Anaconda3\\lib\\site-packages\\urllib3\\connection.py\u001b[0m in \u001b[0;36m_new_conn\u001b[1;34m(self)\u001b[0m\n\u001b[0;32m    167\u001b[0m             raise NewConnectionError(\n\u001b[1;32m--> 168\u001b[1;33m                 self, \"Failed to establish a new connection: %s\" % e)\n\u001b[0m\u001b[0;32m    169\u001b[0m \u001b[1;33m\u001b[0m\u001b[0m\n",
      "\u001b[1;31mNewConnectionError\u001b[0m: <urllib3.connection.HTTPConnection object at 0x00000192CF845898>: Failed to establish a new connection: [WinError 10061] 由于目标计算机积极拒绝，无法连接。",
      "\nDuring handling of the above exception, another exception occurred:\n",
      "\u001b[1;31mMaxRetryError\u001b[0m                             Traceback (most recent call last)",
      "\u001b[1;32m<ipython-input-95-bd770b36d23b>\u001b[0m in \u001b[0;36m<module>\u001b[1;34m\u001b[0m\n\u001b[0;32m      1\u001b[0m \u001b[1;32mfrom\u001b[0m \u001b[0mgoogle_translate\u001b[0m \u001b[1;32mimport\u001b[0m \u001b[0mgoogle_translate\u001b[0m\u001b[1;33m\u001b[0m\u001b[1;33m\u001b[0m\u001b[0m\n\u001b[0;32m      2\u001b[0m \u001b[1;33m\u001b[0m\u001b[0m\n\u001b[1;32m----> 3\u001b[1;33m \u001b[0mzh_desc\u001b[0m \u001b[1;33m=\u001b[0m \u001b[0mgoogle_translate\u001b[0m\u001b[1;33m(\u001b[0m\u001b[0mtrain_test_data\u001b[0m\u001b[1;33m[\u001b[0m\u001b[1;34m'app_desc'\u001b[0m\u001b[1;33m]\u001b[0m\u001b[1;33m)\u001b[0m\u001b[1;33m\u001b[0m\u001b[1;33m\u001b[0m\u001b[0m\n\u001b[0m\u001b[0;32m      4\u001b[0m \u001b[1;31m# train_test_data['app_desc'] = zh_desc\u001b[0m\u001b[1;33m\u001b[0m\u001b[1;33m\u001b[0m\u001b[1;33m\u001b[0m\u001b[0m\n",
      "\u001b[1;32mD:\\学习笔记与项目实践\\studynotes\\Python\\科大讯飞应用分类标注\\大数据应用分类标注\\data_preprocess\\google_translate.py\u001b[0m in \u001b[0;36mgoogle_translate\u001b[1;34m(text, driver, from_lang, to_lang)\u001b[0m\n\u001b[0;32m     18\u001b[0m \u001b[1;32mdef\u001b[0m \u001b[0mgoogle_translate\u001b[0m\u001b[1;33m(\u001b[0m\u001b[0mtext\u001b[0m\u001b[1;33m,\u001b[0m\u001b[0mdriver\u001b[0m\u001b[1;33m=\u001b[0m\u001b[0mdriver\u001b[0m\u001b[1;33m,\u001b[0m\u001b[0mfrom_lang\u001b[0m\u001b[1;33m=\u001b[0m\u001b[1;34m'ja'\u001b[0m\u001b[1;33m,\u001b[0m\u001b[0mto_lang\u001b[0m\u001b[1;33m=\u001b[0m\u001b[1;34m'zh-CN'\u001b[0m\u001b[1;33m)\u001b[0m\u001b[1;33m:\u001b[0m\u001b[1;33m\u001b[0m\u001b[1;33m\u001b[0m\u001b[0m\n\u001b[0;32m     19\u001b[0m         \u001b[0mAC\u001b[0m \u001b[1;33m=\u001b[0m  \u001b[0mActionChains\u001b[0m\u001b[1;33m(\u001b[0m\u001b[0mdriver\u001b[0m\u001b[1;33m)\u001b[0m\u001b[1;33m\u001b[0m\u001b[1;33m\u001b[0m\u001b[0m\n\u001b[1;32m---> 20\u001b[1;33m         \u001b[0mdriver\u001b[0m\u001b[1;33m.\u001b[0m\u001b[0mget\u001b[0m\u001b[1;33m(\u001b[0m\u001b[1;34m\"https://translate.google.cn\"\u001b[0m\u001b[1;33m)\u001b[0m\u001b[1;33m\u001b[0m\u001b[1;33m\u001b[0m\u001b[0m\n\u001b[0m\u001b[0;32m     21\u001b[0m         \u001b[1;32mtry\u001b[0m\u001b[1;33m:\u001b[0m\u001b[1;33m\u001b[0m\u001b[1;33m\u001b[0m\u001b[0m\n\u001b[0;32m     22\u001b[0m                 \u001b[1;31m# 选择输入语言\u001b[0m\u001b[1;33m\u001b[0m\u001b[1;33m\u001b[0m\u001b[1;33m\u001b[0m\u001b[0m\n",
      "\u001b[1;32mF:\\Anaconda3\\lib\\site-packages\\selenium\\webdriver\\remote\\webdriver.py\u001b[0m in \u001b[0;36mget\u001b[1;34m(self, url)\u001b[0m\n\u001b[0;32m    331\u001b[0m         \u001b[0mLoads\u001b[0m \u001b[0ma\u001b[0m \u001b[0mweb\u001b[0m \u001b[0mpage\u001b[0m \u001b[1;32min\u001b[0m \u001b[0mthe\u001b[0m \u001b[0mcurrent\u001b[0m \u001b[0mbrowser\u001b[0m \u001b[0msession\u001b[0m\u001b[1;33m.\u001b[0m\u001b[1;33m\u001b[0m\u001b[1;33m\u001b[0m\u001b[0m\n\u001b[0;32m    332\u001b[0m         \"\"\"\n\u001b[1;32m--> 333\u001b[1;33m         \u001b[0mself\u001b[0m\u001b[1;33m.\u001b[0m\u001b[0mexecute\u001b[0m\u001b[1;33m(\u001b[0m\u001b[0mCommand\u001b[0m\u001b[1;33m.\u001b[0m\u001b[0mGET\u001b[0m\u001b[1;33m,\u001b[0m \u001b[1;33m{\u001b[0m\u001b[1;34m'url'\u001b[0m\u001b[1;33m:\u001b[0m \u001b[0murl\u001b[0m\u001b[1;33m}\u001b[0m\u001b[1;33m)\u001b[0m\u001b[1;33m\u001b[0m\u001b[1;33m\u001b[0m\u001b[0m\n\u001b[0m\u001b[0;32m    334\u001b[0m \u001b[1;33m\u001b[0m\u001b[0m\n\u001b[0;32m    335\u001b[0m     \u001b[1;33m@\u001b[0m\u001b[0mproperty\u001b[0m\u001b[1;33m\u001b[0m\u001b[1;33m\u001b[0m\u001b[0m\n",
      "\u001b[1;32mF:\\Anaconda3\\lib\\site-packages\\selenium\\webdriver\\remote\\webdriver.py\u001b[0m in \u001b[0;36mexecute\u001b[1;34m(self, driver_command, params)\u001b[0m\n\u001b[0;32m    317\u001b[0m \u001b[1;33m\u001b[0m\u001b[0m\n\u001b[0;32m    318\u001b[0m         \u001b[0mparams\u001b[0m \u001b[1;33m=\u001b[0m \u001b[0mself\u001b[0m\u001b[1;33m.\u001b[0m\u001b[0m_wrap_value\u001b[0m\u001b[1;33m(\u001b[0m\u001b[0mparams\u001b[0m\u001b[1;33m)\u001b[0m\u001b[1;33m\u001b[0m\u001b[1;33m\u001b[0m\u001b[0m\n\u001b[1;32m--> 319\u001b[1;33m         \u001b[0mresponse\u001b[0m \u001b[1;33m=\u001b[0m \u001b[0mself\u001b[0m\u001b[1;33m.\u001b[0m\u001b[0mcommand_executor\u001b[0m\u001b[1;33m.\u001b[0m\u001b[0mexecute\u001b[0m\u001b[1;33m(\u001b[0m\u001b[0mdriver_command\u001b[0m\u001b[1;33m,\u001b[0m \u001b[0mparams\u001b[0m\u001b[1;33m)\u001b[0m\u001b[1;33m\u001b[0m\u001b[1;33m\u001b[0m\u001b[0m\n\u001b[0m\u001b[0;32m    320\u001b[0m         \u001b[1;32mif\u001b[0m \u001b[0mresponse\u001b[0m\u001b[1;33m:\u001b[0m\u001b[1;33m\u001b[0m\u001b[1;33m\u001b[0m\u001b[0m\n\u001b[0;32m    321\u001b[0m             \u001b[0mself\u001b[0m\u001b[1;33m.\u001b[0m\u001b[0merror_handler\u001b[0m\u001b[1;33m.\u001b[0m\u001b[0mcheck_response\u001b[0m\u001b[1;33m(\u001b[0m\u001b[0mresponse\u001b[0m\u001b[1;33m)\u001b[0m\u001b[1;33m\u001b[0m\u001b[1;33m\u001b[0m\u001b[0m\n",
      "\u001b[1;32mF:\\Anaconda3\\lib\\site-packages\\selenium\\webdriver\\remote\\remote_connection.py\u001b[0m in \u001b[0;36mexecute\u001b[1;34m(self, command, params)\u001b[0m\n\u001b[0;32m    372\u001b[0m         \u001b[0mdata\u001b[0m \u001b[1;33m=\u001b[0m \u001b[0mutils\u001b[0m\u001b[1;33m.\u001b[0m\u001b[0mdump_json\u001b[0m\u001b[1;33m(\u001b[0m\u001b[0mparams\u001b[0m\u001b[1;33m)\u001b[0m\u001b[1;33m\u001b[0m\u001b[1;33m\u001b[0m\u001b[0m\n\u001b[0;32m    373\u001b[0m         \u001b[0murl\u001b[0m \u001b[1;33m=\u001b[0m \u001b[1;34m'%s%s'\u001b[0m \u001b[1;33m%\u001b[0m \u001b[1;33m(\u001b[0m\u001b[0mself\u001b[0m\u001b[1;33m.\u001b[0m\u001b[0m_url\u001b[0m\u001b[1;33m,\u001b[0m \u001b[0mpath\u001b[0m\u001b[1;33m)\u001b[0m\u001b[1;33m\u001b[0m\u001b[1;33m\u001b[0m\u001b[0m\n\u001b[1;32m--> 374\u001b[1;33m         \u001b[1;32mreturn\u001b[0m \u001b[0mself\u001b[0m\u001b[1;33m.\u001b[0m\u001b[0m_request\u001b[0m\u001b[1;33m(\u001b[0m\u001b[0mcommand_info\u001b[0m\u001b[1;33m[\u001b[0m\u001b[1;36m0\u001b[0m\u001b[1;33m]\u001b[0m\u001b[1;33m,\u001b[0m \u001b[0murl\u001b[0m\u001b[1;33m,\u001b[0m \u001b[0mbody\u001b[0m\u001b[1;33m=\u001b[0m\u001b[0mdata\u001b[0m\u001b[1;33m)\u001b[0m\u001b[1;33m\u001b[0m\u001b[1;33m\u001b[0m\u001b[0m\n\u001b[0m\u001b[0;32m    375\u001b[0m \u001b[1;33m\u001b[0m\u001b[0m\n\u001b[0;32m    376\u001b[0m     \u001b[1;32mdef\u001b[0m \u001b[0m_request\u001b[0m\u001b[1;33m(\u001b[0m\u001b[0mself\u001b[0m\u001b[1;33m,\u001b[0m \u001b[0mmethod\u001b[0m\u001b[1;33m,\u001b[0m \u001b[0murl\u001b[0m\u001b[1;33m,\u001b[0m \u001b[0mbody\u001b[0m\u001b[1;33m=\u001b[0m\u001b[1;32mNone\u001b[0m\u001b[1;33m)\u001b[0m\u001b[1;33m:\u001b[0m\u001b[1;33m\u001b[0m\u001b[1;33m\u001b[0m\u001b[0m\n",
      "\u001b[1;32mF:\\Anaconda3\\lib\\site-packages\\selenium\\webdriver\\remote\\remote_connection.py\u001b[0m in \u001b[0;36m_request\u001b[1;34m(self, method, url, body)\u001b[0m\n\u001b[0;32m    395\u001b[0m \u001b[1;33m\u001b[0m\u001b[0m\n\u001b[0;32m    396\u001b[0m         \u001b[1;32mif\u001b[0m \u001b[0mself\u001b[0m\u001b[1;33m.\u001b[0m\u001b[0mkeep_alive\u001b[0m\u001b[1;33m:\u001b[0m\u001b[1;33m\u001b[0m\u001b[1;33m\u001b[0m\u001b[0m\n\u001b[1;32m--> 397\u001b[1;33m             \u001b[0mresp\u001b[0m \u001b[1;33m=\u001b[0m \u001b[0mself\u001b[0m\u001b[1;33m.\u001b[0m\u001b[0m_conn\u001b[0m\u001b[1;33m.\u001b[0m\u001b[0mrequest\u001b[0m\u001b[1;33m(\u001b[0m\u001b[0mmethod\u001b[0m\u001b[1;33m,\u001b[0m \u001b[0murl\u001b[0m\u001b[1;33m,\u001b[0m \u001b[0mbody\u001b[0m\u001b[1;33m=\u001b[0m\u001b[0mbody\u001b[0m\u001b[1;33m,\u001b[0m \u001b[0mheaders\u001b[0m\u001b[1;33m=\u001b[0m\u001b[0mheaders\u001b[0m\u001b[1;33m)\u001b[0m\u001b[1;33m\u001b[0m\u001b[1;33m\u001b[0m\u001b[0m\n\u001b[0m\u001b[0;32m    398\u001b[0m \u001b[1;33m\u001b[0m\u001b[0m\n\u001b[0;32m    399\u001b[0m             \u001b[0mstatuscode\u001b[0m \u001b[1;33m=\u001b[0m \u001b[0mresp\u001b[0m\u001b[1;33m.\u001b[0m\u001b[0mstatus\u001b[0m\u001b[1;33m\u001b[0m\u001b[1;33m\u001b[0m\u001b[0m\n",
      "\u001b[1;32mF:\\Anaconda3\\lib\\site-packages\\urllib3\\request.py\u001b[0m in \u001b[0;36mrequest\u001b[1;34m(self, method, url, fields, headers, **urlopen_kw)\u001b[0m\n\u001b[0;32m     70\u001b[0m             return self.request_encode_body(method, url, fields=fields,\n\u001b[0;32m     71\u001b[0m                                             \u001b[0mheaders\u001b[0m\u001b[1;33m=\u001b[0m\u001b[0mheaders\u001b[0m\u001b[1;33m,\u001b[0m\u001b[1;33m\u001b[0m\u001b[1;33m\u001b[0m\u001b[0m\n\u001b[1;32m---> 72\u001b[1;33m                                             **urlopen_kw)\n\u001b[0m\u001b[0;32m     73\u001b[0m \u001b[1;33m\u001b[0m\u001b[0m\n\u001b[0;32m     74\u001b[0m     def request_encode_url(self, method, url, fields=None, headers=None,\n",
      "\u001b[1;32mF:\\Anaconda3\\lib\\site-packages\\urllib3\\request.py\u001b[0m in \u001b[0;36mrequest_encode_body\u001b[1;34m(self, method, url, fields, headers, encode_multipart, multipart_boundary, **urlopen_kw)\u001b[0m\n\u001b[0;32m    148\u001b[0m         \u001b[0mextra_kw\u001b[0m\u001b[1;33m.\u001b[0m\u001b[0mupdate\u001b[0m\u001b[1;33m(\u001b[0m\u001b[0murlopen_kw\u001b[0m\u001b[1;33m)\u001b[0m\u001b[1;33m\u001b[0m\u001b[1;33m\u001b[0m\u001b[0m\n\u001b[0;32m    149\u001b[0m \u001b[1;33m\u001b[0m\u001b[0m\n\u001b[1;32m--> 150\u001b[1;33m         \u001b[1;32mreturn\u001b[0m \u001b[0mself\u001b[0m\u001b[1;33m.\u001b[0m\u001b[0murlopen\u001b[0m\u001b[1;33m(\u001b[0m\u001b[0mmethod\u001b[0m\u001b[1;33m,\u001b[0m \u001b[0murl\u001b[0m\u001b[1;33m,\u001b[0m \u001b[1;33m**\u001b[0m\u001b[0mextra_kw\u001b[0m\u001b[1;33m)\u001b[0m\u001b[1;33m\u001b[0m\u001b[1;33m\u001b[0m\u001b[0m\n\u001b[0m",
      "\u001b[1;32mF:\\Anaconda3\\lib\\site-packages\\urllib3\\poolmanager.py\u001b[0m in \u001b[0;36murlopen\u001b[1;34m(self, method, url, redirect, **kw)\u001b[0m\n\u001b[0;32m    322\u001b[0m             \u001b[0mresponse\u001b[0m \u001b[1;33m=\u001b[0m \u001b[0mconn\u001b[0m\u001b[1;33m.\u001b[0m\u001b[0murlopen\u001b[0m\u001b[1;33m(\u001b[0m\u001b[0mmethod\u001b[0m\u001b[1;33m,\u001b[0m \u001b[0murl\u001b[0m\u001b[1;33m,\u001b[0m \u001b[1;33m**\u001b[0m\u001b[0mkw\u001b[0m\u001b[1;33m)\u001b[0m\u001b[1;33m\u001b[0m\u001b[1;33m\u001b[0m\u001b[0m\n\u001b[0;32m    323\u001b[0m         \u001b[1;32melse\u001b[0m\u001b[1;33m:\u001b[0m\u001b[1;33m\u001b[0m\u001b[1;33m\u001b[0m\u001b[0m\n\u001b[1;32m--> 324\u001b[1;33m             \u001b[0mresponse\u001b[0m \u001b[1;33m=\u001b[0m \u001b[0mconn\u001b[0m\u001b[1;33m.\u001b[0m\u001b[0murlopen\u001b[0m\u001b[1;33m(\u001b[0m\u001b[0mmethod\u001b[0m\u001b[1;33m,\u001b[0m \u001b[0mu\u001b[0m\u001b[1;33m.\u001b[0m\u001b[0mrequest_uri\u001b[0m\u001b[1;33m,\u001b[0m \u001b[1;33m**\u001b[0m\u001b[0mkw\u001b[0m\u001b[1;33m)\u001b[0m\u001b[1;33m\u001b[0m\u001b[1;33m\u001b[0m\u001b[0m\n\u001b[0m\u001b[0;32m    325\u001b[0m \u001b[1;33m\u001b[0m\u001b[0m\n\u001b[0;32m    326\u001b[0m         \u001b[0mredirect_location\u001b[0m \u001b[1;33m=\u001b[0m \u001b[0mredirect\u001b[0m \u001b[1;32mand\u001b[0m \u001b[0mresponse\u001b[0m\u001b[1;33m.\u001b[0m\u001b[0mget_redirect_location\u001b[0m\u001b[1;33m(\u001b[0m\u001b[1;33m)\u001b[0m\u001b[1;33m\u001b[0m\u001b[1;33m\u001b[0m\u001b[0m\n",
      "\u001b[1;32mF:\\Anaconda3\\lib\\site-packages\\urllib3\\connectionpool.py\u001b[0m in \u001b[0;36murlopen\u001b[1;34m(self, method, url, body, headers, retries, redirect, assert_same_host, timeout, pool_timeout, release_conn, chunked, body_pos, **response_kw)\u001b[0m\n\u001b[0;32m    665\u001b[0m                                 \u001b[0mtimeout\u001b[0m\u001b[1;33m=\u001b[0m\u001b[0mtimeout\u001b[0m\u001b[1;33m,\u001b[0m \u001b[0mpool_timeout\u001b[0m\u001b[1;33m=\u001b[0m\u001b[0mpool_timeout\u001b[0m\u001b[1;33m,\u001b[0m\u001b[1;33m\u001b[0m\u001b[1;33m\u001b[0m\u001b[0m\n\u001b[0;32m    666\u001b[0m                                 \u001b[0mrelease_conn\u001b[0m\u001b[1;33m=\u001b[0m\u001b[0mrelease_conn\u001b[0m\u001b[1;33m,\u001b[0m \u001b[0mbody_pos\u001b[0m\u001b[1;33m=\u001b[0m\u001b[0mbody_pos\u001b[0m\u001b[1;33m,\u001b[0m\u001b[1;33m\u001b[0m\u001b[1;33m\u001b[0m\u001b[0m\n\u001b[1;32m--> 667\u001b[1;33m                                 **response_kw)\n\u001b[0m\u001b[0;32m    668\u001b[0m \u001b[1;33m\u001b[0m\u001b[0m\n\u001b[0;32m    669\u001b[0m         \u001b[1;32mdef\u001b[0m \u001b[0mdrain_and_release_conn\u001b[0m\u001b[1;33m(\u001b[0m\u001b[0mresponse\u001b[0m\u001b[1;33m)\u001b[0m\u001b[1;33m:\u001b[0m\u001b[1;33m\u001b[0m\u001b[1;33m\u001b[0m\u001b[0m\n",
      "\u001b[1;32mF:\\Anaconda3\\lib\\site-packages\\urllib3\\connectionpool.py\u001b[0m in \u001b[0;36murlopen\u001b[1;34m(self, method, url, body, headers, retries, redirect, assert_same_host, timeout, pool_timeout, release_conn, chunked, body_pos, **response_kw)\u001b[0m\n\u001b[0;32m    665\u001b[0m                                 \u001b[0mtimeout\u001b[0m\u001b[1;33m=\u001b[0m\u001b[0mtimeout\u001b[0m\u001b[1;33m,\u001b[0m \u001b[0mpool_timeout\u001b[0m\u001b[1;33m=\u001b[0m\u001b[0mpool_timeout\u001b[0m\u001b[1;33m,\u001b[0m\u001b[1;33m\u001b[0m\u001b[1;33m\u001b[0m\u001b[0m\n\u001b[0;32m    666\u001b[0m                                 \u001b[0mrelease_conn\u001b[0m\u001b[1;33m=\u001b[0m\u001b[0mrelease_conn\u001b[0m\u001b[1;33m,\u001b[0m \u001b[0mbody_pos\u001b[0m\u001b[1;33m=\u001b[0m\u001b[0mbody_pos\u001b[0m\u001b[1;33m,\u001b[0m\u001b[1;33m\u001b[0m\u001b[1;33m\u001b[0m\u001b[0m\n\u001b[1;32m--> 667\u001b[1;33m                                 **response_kw)\n\u001b[0m\u001b[0;32m    668\u001b[0m \u001b[1;33m\u001b[0m\u001b[0m\n\u001b[0;32m    669\u001b[0m         \u001b[1;32mdef\u001b[0m \u001b[0mdrain_and_release_conn\u001b[0m\u001b[1;33m(\u001b[0m\u001b[0mresponse\u001b[0m\u001b[1;33m)\u001b[0m\u001b[1;33m:\u001b[0m\u001b[1;33m\u001b[0m\u001b[1;33m\u001b[0m\u001b[0m\n",
      "\u001b[1;32mF:\\Anaconda3\\lib\\site-packages\\urllib3\\connectionpool.py\u001b[0m in \u001b[0;36murlopen\u001b[1;34m(self, method, url, body, headers, retries, redirect, assert_same_host, timeout, pool_timeout, release_conn, chunked, body_pos, **response_kw)\u001b[0m\n\u001b[0;32m    665\u001b[0m                                 \u001b[0mtimeout\u001b[0m\u001b[1;33m=\u001b[0m\u001b[0mtimeout\u001b[0m\u001b[1;33m,\u001b[0m \u001b[0mpool_timeout\u001b[0m\u001b[1;33m=\u001b[0m\u001b[0mpool_timeout\u001b[0m\u001b[1;33m,\u001b[0m\u001b[1;33m\u001b[0m\u001b[1;33m\u001b[0m\u001b[0m\n\u001b[0;32m    666\u001b[0m                                 \u001b[0mrelease_conn\u001b[0m\u001b[1;33m=\u001b[0m\u001b[0mrelease_conn\u001b[0m\u001b[1;33m,\u001b[0m \u001b[0mbody_pos\u001b[0m\u001b[1;33m=\u001b[0m\u001b[0mbody_pos\u001b[0m\u001b[1;33m,\u001b[0m\u001b[1;33m\u001b[0m\u001b[1;33m\u001b[0m\u001b[0m\n\u001b[1;32m--> 667\u001b[1;33m                                 **response_kw)\n\u001b[0m\u001b[0;32m    668\u001b[0m \u001b[1;33m\u001b[0m\u001b[0m\n\u001b[0;32m    669\u001b[0m         \u001b[1;32mdef\u001b[0m \u001b[0mdrain_and_release_conn\u001b[0m\u001b[1;33m(\u001b[0m\u001b[0mresponse\u001b[0m\u001b[1;33m)\u001b[0m\u001b[1;33m:\u001b[0m\u001b[1;33m\u001b[0m\u001b[1;33m\u001b[0m\u001b[0m\n",
      "\u001b[1;32mF:\\Anaconda3\\lib\\site-packages\\urllib3\\connectionpool.py\u001b[0m in \u001b[0;36murlopen\u001b[1;34m(self, method, url, body, headers, retries, redirect, assert_same_host, timeout, pool_timeout, release_conn, chunked, body_pos, **response_kw)\u001b[0m\n\u001b[0;32m    636\u001b[0m \u001b[1;33m\u001b[0m\u001b[0m\n\u001b[0;32m    637\u001b[0m             retries = retries.increment(method, url, error=e, _pool=self,\n\u001b[1;32m--> 638\u001b[1;33m                                         _stacktrace=sys.exc_info()[2])\n\u001b[0m\u001b[0;32m    639\u001b[0m             \u001b[0mretries\u001b[0m\u001b[1;33m.\u001b[0m\u001b[0msleep\u001b[0m\u001b[1;33m(\u001b[0m\u001b[1;33m)\u001b[0m\u001b[1;33m\u001b[0m\u001b[1;33m\u001b[0m\u001b[0m\n\u001b[0;32m    640\u001b[0m \u001b[1;33m\u001b[0m\u001b[0m\n",
      "\u001b[1;32mF:\\Anaconda3\\lib\\site-packages\\urllib3\\util\\retry.py\u001b[0m in \u001b[0;36mincrement\u001b[1;34m(self, method, url, response, error, _pool, _stacktrace)\u001b[0m\n\u001b[0;32m    397\u001b[0m \u001b[1;33m\u001b[0m\u001b[0m\n\u001b[0;32m    398\u001b[0m         \u001b[1;32mif\u001b[0m \u001b[0mnew_retry\u001b[0m\u001b[1;33m.\u001b[0m\u001b[0mis_exhausted\u001b[0m\u001b[1;33m(\u001b[0m\u001b[1;33m)\u001b[0m\u001b[1;33m:\u001b[0m\u001b[1;33m\u001b[0m\u001b[1;33m\u001b[0m\u001b[0m\n\u001b[1;32m--> 399\u001b[1;33m             \u001b[1;32mraise\u001b[0m \u001b[0mMaxRetryError\u001b[0m\u001b[1;33m(\u001b[0m\u001b[0m_pool\u001b[0m\u001b[1;33m,\u001b[0m \u001b[0murl\u001b[0m\u001b[1;33m,\u001b[0m \u001b[0merror\u001b[0m \u001b[1;32mor\u001b[0m \u001b[0mResponseError\u001b[0m\u001b[1;33m(\u001b[0m\u001b[0mcause\u001b[0m\u001b[1;33m)\u001b[0m\u001b[1;33m)\u001b[0m\u001b[1;33m\u001b[0m\u001b[1;33m\u001b[0m\u001b[0m\n\u001b[0m\u001b[0;32m    400\u001b[0m \u001b[1;33m\u001b[0m\u001b[0m\n\u001b[0;32m    401\u001b[0m         \u001b[0mlog\u001b[0m\u001b[1;33m.\u001b[0m\u001b[0mdebug\u001b[0m\u001b[1;33m(\u001b[0m\u001b[1;34m\"Incremented Retry for (url='%s'): %r\"\u001b[0m\u001b[1;33m,\u001b[0m \u001b[0murl\u001b[0m\u001b[1;33m,\u001b[0m \u001b[0mnew_retry\u001b[0m\u001b[1;33m)\u001b[0m\u001b[1;33m\u001b[0m\u001b[1;33m\u001b[0m\u001b[0m\n",
      "\u001b[1;31mMaxRetryError\u001b[0m: HTTPConnectionPool(host='127.0.0.1', port=13052): Max retries exceeded with url: /session/eff6c501a3777234c14cbe2b69b3d08e/url (Caused by NewConnectionError('<urllib3.connection.HTTPConnection object at 0x00000192CF845898>: Failed to establish a new connection: [WinError 10061] 由于目标计算机积极拒绝，无法连接。',))"
     ]
    }
   ],
   "source": [
    "from google_translate import google_translate\n",
    "\n",
    "zh_desc = google_translate(train_test_data['app_desc'])\n",
    "# train_test_data['app_desc'] = zh_desc"
   ]
  },
  {
   "cell_type": "markdown",
   "metadata": {},
   "source": [
    "# app_desc->word2vec"
   ]
  },
  {
   "cell_type": "markdown",
   "metadata": {},
   "source": [
    "## 去掉标点符号"
   ]
  },
  {
   "cell_type": "code",
   "execution_count": 36,
   "metadata": {},
   "outputs": [],
   "source": [
    "import re\n",
    "import string\n",
    "punctuations = string.punctuation + \"、。“ ”《 》，：；？! * — （ ）￥·‘’〈〉…＜＞＠＃＄％︿＆※＊＋～｜［］「」｛｝▼◆■☆★\"\n",
    "regex = re.compile('[{}]'.format(re.escape(punctuations)))\n",
    "train_test_data['app_desc'] = train_test_data['app_desc'].str.replace(regex,' ')"
   ]
  },
  {
   "cell_type": "code",
   "execution_count": 37,
   "metadata": {},
   "outputs": [
    {
     "data": {
      "text/html": [
       "<div>\n",
       "<style scoped>\n",
       "    .dataframe tbody tr th:only-of-type {\n",
       "        vertical-align: middle;\n",
       "    }\n",
       "\n",
       "    .dataframe tbody tr th {\n",
       "        vertical-align: top;\n",
       "    }\n",
       "\n",
       "    .dataframe thead th {\n",
       "        text-align: right;\n",
       "    }\n",
       "</style>\n",
       "<table border=\"1\" class=\"dataframe\">\n",
       "  <thead>\n",
       "    <tr style=\"text-align: right;\">\n",
       "      <th></th>\n",
       "      <th>app_name</th>\n",
       "      <th>app_desc</th>\n",
       "      <th>label</th>\n",
       "    </tr>\n",
       "  </thead>\n",
       "  <tbody>\n",
       "    <tr>\n",
       "      <th>0</th>\n",
       "      <td>00000777CE5B5AA5C1AC94DB8EABE0AC</td>\n",
       "      <td>游戏王座 使用说明书成分由怪兽卡 魔法卡 陷阱卡合计数千张卡牌以及刺激性 耐久性玩法组成 ...</td>\n",
       "      <td>16.0</td>\n",
       "    </tr>\n",
       "    <tr>\n",
       "      <th>1</th>\n",
       "      <td>0001791406307B1D1CE2BC64A830B7C7</td>\n",
       "      <td>小钱袋 是一款免费网络版记帐软件 适用于个人记帐 家庭记帐 团队记帐 全程帮您安全记录您财...</td>\n",
       "      <td>103.0</td>\n",
       "    </tr>\n",
       "    <tr>\n",
       "      <th>2</th>\n",
       "      <td>0002F14825B9CA01653325EEFD69D790</td>\n",
       "      <td>领先的周易服务平台高人汇 汇聚算命大师 风水大师 占卜大师 手相大师 起名大师 算命先生 面...</td>\n",
       "      <td>125.0</td>\n",
       "    </tr>\n",
       "    <tr>\n",
       "      <th>3</th>\n",
       "      <td>000419D79365331F89399E5F38A91B05</td>\n",
       "      <td>平行空间是一款极简 免费的黑科技双开助手 您可以在平行空间双开微信微博 陌陌 映客 yy等应...</td>\n",
       "      <td>74.0</td>\n",
       "    </tr>\n",
       "    <tr>\n",
       "      <th>4</th>\n",
       "      <td>0004749ACB5303DD2820CD4EE503E44D</td>\n",
       "      <td>和教育全国版是中国移动面向中小学师生和家长推出的一款集在线教育学习及家校互动沟通为一体的应用...</td>\n",
       "      <td>56.0</td>\n",
       "    </tr>\n",
       "  </tbody>\n",
       "</table>\n",
       "</div>"
      ],
      "text/plain": [
       "                           app_name  \\\n",
       "0  00000777CE5B5AA5C1AC94DB8EABE0AC   \n",
       "1  0001791406307B1D1CE2BC64A830B7C7   \n",
       "2  0002F14825B9CA01653325EEFD69D790   \n",
       "3  000419D79365331F89399E5F38A91B05   \n",
       "4  0004749ACB5303DD2820CD4EE503E44D   \n",
       "\n",
       "                                            app_desc  label  \n",
       "0   游戏王座 使用说明书成分由怪兽卡 魔法卡 陷阱卡合计数千张卡牌以及刺激性 耐久性玩法组成 ...   16.0  \n",
       "1   小钱袋 是一款免费网络版记帐软件 适用于个人记帐 家庭记帐 团队记帐 全程帮您安全记录您财...  103.0  \n",
       "2  领先的周易服务平台高人汇 汇聚算命大师 风水大师 占卜大师 手相大师 起名大师 算命先生 面...  125.0  \n",
       "3  平行空间是一款极简 免费的黑科技双开助手 您可以在平行空间双开微信微博 陌陌 映客 yy等应...   74.0  \n",
       "4  和教育全国版是中国移动面向中小学师生和家长推出的一款集在线教育学习及家校互动沟通为一体的应用...   56.0  "
      ]
     },
     "execution_count": 37,
     "metadata": {},
     "output_type": "execute_result"
    }
   ],
   "source": [
    "train_test_data.head()"
   ]
  },
  {
   "cell_type": "markdown",
   "metadata": {},
   "source": [
    "## 分词\n",
    "这里因为要训练词向量，词汇越多越好，分词的时候暂不进行去停"
   ]
  },
  {
   "cell_type": "code",
   "execution_count": 38,
   "metadata": {},
   "outputs": [],
   "source": [
    "import jieba\n",
    "import jieba.analyse"
   ]
  },
  {
   "cell_type": "code",
   "execution_count": 39,
   "metadata": {},
   "outputs": [
    {
     "name": "stderr",
     "output_type": "stream",
     "text": [
      "Building prefix dict from the default dictionary ...\n",
      "Loading model from cache C:\\Users\\win10\\AppData\\Local\\Temp\\jieba.cache\n",
      "Loading model cost 0.802 seconds.\n",
      "Prefix dict has been built succesfully.\n"
     ]
    }
   ],
   "source": [
    "with open('./appdict.txt','r',encoding='utf8') as f:\n",
    "    suggest_words = f.read().split()\n",
    "    for word in suggest_words:\n",
    "        jieba.suggest_freq(word,tune=True)\n",
    "\n",
    "# '/'.join(jieba.cut(train_test_data['app_desc'][1]))"
   ]
  },
  {
   "cell_type": "code",
   "execution_count": 40,
   "metadata": {},
   "outputs": [],
   "source": [
    "cut_app_desc = []\n",
    "for desc in  train_test_data['app_desc']:\n",
    "    cut_app_desc.append(' '.join(jieba.cut(desc)).replace(' ,',''))"
   ]
  },
  {
   "cell_type": "code",
   "execution_count": 41,
   "metadata": {},
   "outputs": [
    {
     "data": {
      "text/html": [
       "<div>\n",
       "<style scoped>\n",
       "    .dataframe tbody tr th:only-of-type {\n",
       "        vertical-align: middle;\n",
       "    }\n",
       "\n",
       "    .dataframe tbody tr th {\n",
       "        vertical-align: top;\n",
       "    }\n",
       "\n",
       "    .dataframe thead th {\n",
       "        text-align: right;\n",
       "    }\n",
       "</style>\n",
       "<table border=\"1\" class=\"dataframe\">\n",
       "  <thead>\n",
       "    <tr style=\"text-align: right;\">\n",
       "      <th></th>\n",
       "      <th>app_name</th>\n",
       "      <th>app_desc</th>\n",
       "      <th>label</th>\n",
       "    </tr>\n",
       "  </thead>\n",
       "  <tbody>\n",
       "    <tr>\n",
       "      <th>0</th>\n",
       "      <td>00000777CE5B5AA5C1AC94DB8EABE0AC</td>\n",
       "      <td>游戏王座   使用 说明书 成分 由 怪兽卡   魔法卡   陷阱卡 合计 数千张 卡牌...</td>\n",
       "      <td>16.0</td>\n",
       "    </tr>\n",
       "    <tr>\n",
       "      <th>1</th>\n",
       "      <td>0001791406307B1D1CE2BC64A830B7C7</td>\n",
       "      <td>小钱袋   是 一款 免费 网络版 记帐 软件   适用 于 个人 记帐   家庭 记帐...</td>\n",
       "      <td>103.0</td>\n",
       "    </tr>\n",
       "    <tr>\n",
       "      <th>2</th>\n",
       "      <td>0002F14825B9CA01653325EEFD69D790</td>\n",
       "      <td>领先 的 周易 服务平台 高人汇   汇聚 算命 大师   风水 大师   占卜 大师   ...</td>\n",
       "      <td>125.0</td>\n",
       "    </tr>\n",
       "    <tr>\n",
       "      <th>3</th>\n",
       "      <td>000419D79365331F89399E5F38A91B05</td>\n",
       "      <td>平行 空间 是 一款 极简   免费 的 黑 科技 双开 助手   您 可以 在 平行 空间...</td>\n",
       "      <td>74.0</td>\n",
       "    </tr>\n",
       "    <tr>\n",
       "      <th>4</th>\n",
       "      <td>0004749ACB5303DD2820CD4EE503E44D</td>\n",
       "      <td>和 教育 全国 版 是 中国移动 面向 中小学 师生 和 家长 推出 的 一款 集 在线教育...</td>\n",
       "      <td>56.0</td>\n",
       "    </tr>\n",
       "  </tbody>\n",
       "</table>\n",
       "</div>"
      ],
      "text/plain": [
       "                           app_name  \\\n",
       "0  00000777CE5B5AA5C1AC94DB8EABE0AC   \n",
       "1  0001791406307B1D1CE2BC64A830B7C7   \n",
       "2  0002F14825B9CA01653325EEFD69D790   \n",
       "3  000419D79365331F89399E5F38A91B05   \n",
       "4  0004749ACB5303DD2820CD4EE503E44D   \n",
       "\n",
       "                                            app_desc  label  \n",
       "0    游戏王座   使用 说明书 成分 由 怪兽卡   魔法卡   陷阱卡 合计 数千张 卡牌...   16.0  \n",
       "1    小钱袋   是 一款 免费 网络版 记帐 软件   适用 于 个人 记帐   家庭 记帐...  103.0  \n",
       "2  领先 的 周易 服务平台 高人汇   汇聚 算命 大师   风水 大师   占卜 大师   ...  125.0  \n",
       "3  平行 空间 是 一款 极简   免费 的 黑 科技 双开 助手   您 可以 在 平行 空间...   74.0  \n",
       "4  和 教育 全国 版 是 中国移动 面向 中小学 师生 和 家长 推出 的 一款 集 在线教育...   56.0  "
      ]
     },
     "execution_count": 41,
     "metadata": {},
     "output_type": "execute_result"
    }
   ],
   "source": [
    "train_test_data['app_desc'] = cut_app_desc\n",
    "train_test_data.head()"
   ]
  },
  {
   "cell_type": "code",
   "execution_count": 42,
   "metadata": {},
   "outputs": [],
   "source": [
    "train_test_data = train_test_data.dropna(subset=['app_desc'])\n",
    "train_test_data.to_csv('./train_test_data.csv',index=False) # space separate"
   ]
  },
  {
   "cell_type": "markdown",
   "metadata": {},
   "source": [
    "## train wv"
   ]
  },
  {
   "cell_type": "markdown",
   "metadata": {},
   "source": [
    "### Word2Vec"
   ]
  },
  {
   "cell_type": "code",
   "execution_count": 119,
   "metadata": {},
   "outputs": [
    {
     "name": "stderr",
     "output_type": "stream",
     "text": [
      "F:\\Anaconda3\\lib\\site-packages\\gensim\\utils.py:1197: UserWarning: detected Windows; aliasing chunkize to chunkize_serial\n",
      "  warnings.warn(\"detected Windows; aliasing chunkize to chunkize_serial\")\n"
     ]
    }
   ],
   "source": [
    "# frogensimsim.models import KeyedVectors\n",
    "# model = KeyedVectors.load_word2vec_format('F:/corpus/zhwiki-corpus-w2v.vector')\n",
    "from gensim.models import Word2Vec\n",
    "from gensim.models.word2vec import LineSentence\n",
    "import multiprocessing"
   ]
  },
  {
   "cell_type": "code",
   "execution_count": 120,
   "metadata": {},
   "outputs": [
    {
     "name": "stderr",
     "output_type": "stream",
     "text": [
      "F:\\Anaconda3\\lib\\site-packages\\smart_open\\smart_open_lib.py:398: UserWarning: This function is deprecated, use smart_open.open instead. See the migration notes for details: https://github.com/RaRe-Technologies/smart_open/blob/master/README.rst#migrating-to-the-new-open-function\n",
      "  'See the migration notes for details: %s' % _MIGRATION_NOTES_URL\n"
     ]
    }
   ],
   "source": [
    "with open('./app_desc.txt','w',encoding='utf8') as f:\n",
    "    for desc in train_test_data['app_desc']:\n",
    "        f.write(desc+'\\n')\n",
    "# # sg=0:CBOW sg=1:n-grams\n",
    "model = Word2Vec(LineSentence('./app_desc.txt'),size=400,window=10,min_count=1,sg=1,workers=multiprocessing.cpu_count())"
   ]
  },
  {
   "cell_type": "code",
   "execution_count": 121,
   "metadata": {},
   "outputs": [],
   "source": [
    "model.save('./app_desc.model')"
   ]
  },
  {
   "cell_type": "markdown",
   "metadata": {},
   "source": [
    "### FastText"
   ]
  },
  {
   "cell_type": "code",
   "execution_count": 1,
   "metadata": {},
   "outputs": [
    {
     "name": "stderr",
     "output_type": "stream",
     "text": [
      "F:\\Anaconda3\\lib\\site-packages\\gensim\\utils.py:1197: UserWarning: detected Windows; aliasing chunkize to chunkize_serial\n",
      "  warnings.warn(\"detected Windows; aliasing chunkize to chunkize_serial\")\n"
     ]
    }
   ],
   "source": [
    "from gensim.models import FastText"
   ]
  },
  {
   "cell_type": "code",
   "execution_count": 2,
   "metadata": {},
   "outputs": [
    {
     "name": "stderr",
     "output_type": "stream",
     "text": [
      "F:\\Anaconda3\\lib\\site-packages\\smart_open\\smart_open_lib.py:398: UserWarning: This function is deprecated, use smart_open.open instead. See the migration notes for details: https://github.com/RaRe-Technologies/smart_open/blob/master/README.rst#migrating-to-the-new-open-function\n",
      "  'See the migration notes for details: %s' % _MIGRATION_NOTES_URL\n"
     ]
    }
   ],
   "source": [
    "model = FastText.load('F:/corpus/zhwiki-corpus-fasttext.model')"
   ]
  },
  {
   "cell_type": "code",
   "execution_count": 38,
   "metadata": {},
   "outputs": [
    {
     "data": {
      "text/html": [
       "<div>\n",
       "<style scoped>\n",
       "    .dataframe tbody tr th:only-of-type {\n",
       "        vertical-align: middle;\n",
       "    }\n",
       "\n",
       "    .dataframe tbody tr th {\n",
       "        vertical-align: top;\n",
       "    }\n",
       "\n",
       "    .dataframe thead th {\n",
       "        text-align: right;\n",
       "    }\n",
       "</style>\n",
       "<table border=\"1\" class=\"dataframe\">\n",
       "  <thead>\n",
       "    <tr style=\"text-align: right;\">\n",
       "      <th></th>\n",
       "      <th>app_name</th>\n",
       "      <th>app_desc</th>\n",
       "      <th>label</th>\n",
       "    </tr>\n",
       "  </thead>\n",
       "  <tbody>\n",
       "    <tr>\n",
       "      <th>12643</th>\n",
       "      <td>4F6489DC1A5A42E6A09AC67228C6A6C6</td>\n",
       "      <td>◆ ア ン サ ー な ら 「 话 せ な か っ た こ と 」 「 も っ と 话 し ...</td>\n",
       "      <td>56.0</td>\n",
       "    </tr>\n",
       "    <tr>\n",
       "      <th>20010</th>\n",
       "      <td>7D6E38DFCEB4341E1C9BDF033566B584</td>\n",
       "      <td>★ 利用 数 700 万人 突破 ★ ☆ GooglePly 无料 位 获得 ☆ 地震 台风...</td>\n",
       "      <td>74.0</td>\n",
       "    </tr>\n",
       "    <tr>\n",
       "      <th>124464</th>\n",
       "      <td>DEEA81F44F0A806674F9B3E2F991FDEC</td>\n",
       "      <td>「 端末 と ア プ リ の 履 歴 」 の 権 限 に つ い て iSPEED ア プ ...</td>\n",
       "      <td>NaN</td>\n",
       "    </tr>\n",
       "  </tbody>\n",
       "</table>\n",
       "</div>"
      ],
      "text/plain": [
       "                                app_name  \\\n",
       "12643   4F6489DC1A5A42E6A09AC67228C6A6C6   \n",
       "20010   7D6E38DFCEB4341E1C9BDF033566B584   \n",
       "124464  DEEA81F44F0A806674F9B3E2F991FDEC   \n",
       "\n",
       "                                                 app_desc  label  \n",
       "12643   ◆ ア ン サ ー な ら 「 话 せ な か っ た こ と 」 「 も っ と 话 し ...   56.0  \n",
       "20010   ★ 利用 数 700 万人 突破 ★ ☆ GooglePly 无料 位 获得 ☆ 地震 台风...   74.0  \n",
       "124464  「 端末 と ア プ リ の 履 歴 」 の 権 限 に つ い て iSPEED ア プ ...    NaN  "
      ]
     },
     "execution_count": 38,
     "metadata": {},
     "output_type": "execute_result"
    }
   ],
   "source": [
    "# model.wv.index2word.index('欧几里得')\n",
    "# model.wv.word_vec('欧几里得')\n",
    "# model.wv.vectors[0]\n",
    "train_test_data[train_test_data['app_desc'].apply(lambda x:len(x.split()))>2000]"
   ]
  },
  {
   "cell_type": "code",
   "execution_count": 40,
   "metadata": {},
   "outputs": [
    {
     "data": {
      "text/plain": [
       "'◆ ア ン サ ー な ら 「 话 せ な か っ た こ と 」 「 も っ と 话 し た い こ と 」 全部 话 せ ま す ◆ に も 言 え な い 恋 の 悩 み 相谈 か ら 热中 し て い る 趣味 の 话 ま で カ テ ゴ リ に 分 か れ て い る か ら 幅 広 く な ん で も 话 せ ま す ・ 匿名 だ か ら 安心 し て 本音 で 话 せ ま す ・ 利用 は す べ て 无料 で 累计 ☆ レ ビ ュ ー 000 件 以上 の 満 足度 ・ 写真 投稿 で コ ー デ ィ ネ ー ト ア ド バ イ ス ボ イ ス 机能 で ラ ジ オ 配信 动画 机能 で お 料理 実 况 な ど 色 々 な コ ミ ュ ニ ケ ー シ ョ ン を 楽 し め ま す 気 に な る 话题 を つ け た ら ど ん ど ん 気 軽 に コ メ ン ト し よ う ◆ ア ン サ ー を 使 う と ど う な る の 日常生活 も ち ょ っ と 楽 し く な り ま す ・ 困 っ て い る 人 の 话 を 闻 い て あ げ て 力 に な れ ま す ・ 大势 の 人 に 励 ま し て も ら っ て 勇 気 が で ま す ・ み ん な に は 言 え な い 内绪 の 相谈 を す る と 背中 を 押 し て く れ ま す ・ 友达 が 盛 り が っ て い る 话题 に も つ い て い け る よ う に な り ま す ・ マ ン ネ リ 解消 デ ー ト を 教 わ っ て 彼女 と 円 満 に ご せ ま す ・ 先辈 マ マ か ら の 励 ま し で 出产 前 の 不安 を 解消 で き ま す ◆ こ ん な 人 に オ ス ス メ ・ 大好 き な 漫画 の 话题 で 盛 り が り た い ・ ど う や っ た ら れ た 人 と 复 縁 で き る の ・ 简 単 な お つ ま み レ シ ピ が 知 り た い ・ 话题 の ニ ュ ー ス を 彻底 议论 し た い ・ か の 役 に ち た い ・ と に か く 今 か と 笑 い た い ・ 辛 く て 眠 れ な い か ら か 相手 し て 欲 し い ・ デ ー ト に う コ ー デ ィ ネ ー ト っ て な に ・ 居酒 屋 バ イ ト っ て 実 际 ど う ・ 失恋 の 悩 み 闻 い て ほ し い ・ ・ ・ ・ 新米 マ マ の 悩 み を 闻 い て も ら い た い ・ ・ ・ ・ 浮 気 さ れ て て 辛 い ・ ス マ ホ ゲ ー ム で も っ と 强 く な る 方法 を 知 り た い ・ 私 の 书 い た ポ エ ム か に み て ほ し い ・ 今日 の ご は ん の 献立 を に す る か 相谈 し た い ・ 会社 の 愚痴 を 闻 い て 欲 し い ・ ボ カ ロ 歌 っ て み た か ら 聴 い て 欲 し い ・ 好 き な キ ャ ラ の イ ラ ス ト を 绍介 し た い ・ コ ス メ や フ ァ ッ シ ョ ン の 话 で 女子 力 を ア ッ プ し た い ・ 学校 ま で の 通学 时间 に だ れ か と し ゃ べ り た い ・ 部活 の 愚痴 を 话 し た い ・ 耻 ず か し い 过去 を 暴露 し た い ・ 芸能 ニ ュ ー ス に つ い て 话 し た い ・ 分 で 作 っ た ご 饭 の 写真 て も ら い た い ・ ク ラ ス や 会社 の メ ン バ ー に 苦手 な 人 が い る ・ グ ル メ 好 き な 人 と お 话 し た い ・ 好 き な バ ン ド の 好 き な 曲 に つ い て 语 り た い ・ フ リ マ ア プ リ の 使 い を 相谈 し た い ・ 仕事 の 悩 み か に 相谈 し た い ・ ・ ・ 就活 っ て ど う や れ ば い い の ・ 彼氏 か ら ず っ と リ プ ラ イ が な い ・ 结婚 し た い の に 彼氏 が い な い ・ LINE で 読 ス ル ー さ れ て ツ ラ イ ・ ス ト レ ス で 毎 日 胃 が 痛 い ・ ・ ・ ・ み ん な と 一绪 に テ レ ビ を み な が ら 実 况 し た い ・ オ ス ス メ の ブ ラ ン ド や 激安 な 穴场 通贩 が 知 り た い ・ 育 児 子育 て の 悩 み を の マ マ に も 相谈 し た い ・ テ ル ミ ー や ヤ フ ー 知 恵 袋 ガ ー ル ズ ト ー ク で も 相谈 し て る ・ 保 険 や お 金 の こ と が も っ と 相谈 し た い ・ 片思 い の の こ と 相谈 し た い ・ 友达 づ く り に 悩 み 中 ・ ・ ・ ・ 子育 で や 妊娠 中 の 疑问 や 悩 み を 话 せ る 人 が い な い ・ 亲 と 仲直 り が し た い ・ 一人 暮 ら し が さ み し い ・ メ ル カ リ や フ リ ル な ど の ア プ リ の 使 い が 分 か ら な い ・ LINEQ の 使 い が 分 か ら な い ・ ◆ こ ん な ス ポ ッ ト が あ っ た よ ・ 明日 の デ ー ト は ど ん な 服装 が い い で す か コ ー デ を 写真 で 投稿 ・ さ っ き ジ ュ ー ス が た っ た 感动 を 共有 さ せ て く れ ・ 将来 の 梦 を 亲 に 纳得 し て も ら え る 方法 一绪 に 考 え て 下 さ い ・ 精神病 を 患 っ て い る 人 い ま す か ・ 旦 さ ん の お 弁 の お か ず は 何入 れ て る ・ ア ン サ ー ラ ジ オ 生 放送 で す ・ 眠 れ な い の で ま で し ゃ べ り ま せ ん か ・ 今期 の ア ニ メ に つ い て 语 ろ う ・ 妊娠 中 っ て イ ラ イ ラ し て な の ・ か ま っ て く れ る 人 集合 〜 〜 〜 ・ 姑 が 胜手 に 家 に 入 っ て い る の は お か し い よ ね ・ 今日 上司 に 怒 ら れ た の で だ れ か 励 ま し て く だ さ い ・ 男 っ て 女 の ど ん な 仕草 に キ ュ ン と す る ・ あ な た の 运势 を 占 い ま す ・ 今 の 日本 の 政治 に つ い て ど う 思 い ま す か ・ 今日 の 晩 御饭 な に が い い か な ・ 会社 で 悪 口 を 言 わ れ て い る か も し れ な い ・ 芸能 人 の ゴ シ ッ プ 教 え て ・ ヶ 月 い く ら 贮金 し ま す か ・ お す す め ア プ リ ゲ ー ム が 知 り た い ん だ が ・ ・ ・ ・ と に か く 今 か と 话 し た い ・ 私 の 歌 ど う で す か 音声 で カ ラ オ ケ ♪ ・ 内绪 だ け ど 実 は 同性爱 で す ・ 不伦 っ て あ り で す か ・ 私 の 颜何点 で す か 写真 投稿 ・ 彼女 に 言 っ て 欲 し い ボ イ ス を 言 い ま す 音声 で 再现 ♪ ・ 今 デ ー ト 中 な ん だ け ど ど う や っ て 告白 し よ う ・ う ち の 犬 の 鸣 き 声 変 わ っ て ま せ ん か 动画 投稿 ・ ボ イ ス で 私 に 告白 し て く だ さ い ・ 勉强 に 集中 す る に は ど う し た ら い い で す か ・ 进 撃 の 巨人 が 好 き な 人 语 ろ う ・ モ ン ス ト 强 く な り た い 人 集合 ◆ AndroidWer に も 対 応 ・ AndroidWer か ら 音声 入力 を つ か っ て コ メ ン ト で き る か ら さ ら に 気 軽 で す ・ コ メ ン ト を AndroidWer で 确认 で き る か ら 手间 が 少 な い ・ よ く 使 う あ い づ ち を ワ ン タ ッ チ で 返信 で き る の で 隙间 时间 に も コ メ ン ト で き ま す ◆ 过去 に 开 催 さ れ た イ ベ ン ト コ ラ ボ レ ー シ ョ ン ・ 大人 気 雑 志 モ デ ル が ア ン サ ー で お 悩 み 相谈 ・ お 手 軽 レ シ ピ 绍介 ・ ニ コ ニ コ 动画 で 人 気 の 歌 い 手 が み ん な に 质问 ・ 人 気 Youtuber が 动画 の お 题 を 募集 ・ 人 気 マ ン ガ の キ ャ ラ ク タ ー が み ん な の お 悩 み に 回答 ・ 似颜絵 师 さ ん が あ な た の 颜 を 分 で 书 く よ ・ 占 い 师 が あ な た の 手相 を 占 う よ ・ ご 当地 キ ャ ラ が お す す め ス ポ ッ ト 绍介 な ど な ど 今后 も さ ま ざ ま な 取 り 组 み を 计画 中 ♪ ◆ 想 谈 回答 说话 说 ◆ 分成 两类 任何人 爱 不说 连谈 爱好 激情 烦恼 商量 说 各种各样 事情 • 讲 真实 意图 信心 匿名 • 所有 使用 免费 总 ☆ 条 评论 2000 余 满意 张贴 协调 意见 照片 语音 功能 无线 传递 视频 功能 菜 解说 享受 多种 沟通 方式 越来越 随意 评论 找到 一个 话题 担心 ◆ 发生 使用 答案 一个 有趣 一点 日常生活 middot 麻烦 发现 有人 提出 一种 力量 听到 人们 故事 • 记者 问 鼓励 人 勇气 每个 人 回来 时 秘密 协商 说 middot 保持 这样的话 题 朋友 提高 middot 友好 度过 矫饰 消除 约会 教导 • 高层 妈妈 鼓励 下 消除 以前 出生 焦虑 ◆ 推荐 游客 middot 想 爱 卡通 主题 推向 高潮 一个 人 分手 回来 得到 middot 简单 小吃 食谱 想 知道 深入 讨论 专题 新闻 有人 想 帮助 想 反正 现在 网友 调侃 希望 有人 合作伙伴 睡觉 这是 痛苦 第一次 协调 约会 见面 母鹿 酒馆 字节 middot 麻烦 心碎 问要 Novice 我要 听 麻烦 妈妈 • 这件 事是 痛苦 想 知道 变得 更强 方式 Sumhogemu 写 一首 诗 希望 看到 有人 想 咨询 处理 今天 米 通 菜单 想 听 公司 投诉 middot Vocloid 我要 听 想 唱 middot 想 介绍 最 喜欢 人物 插图 想 女性 力量 说起 化妆品 时装 想 交谈 通勤 时间 上学 想 谈谈 课外活动 母狗 middot 想 揭露 可耻 过去 middot 想 讲 一下 娱乐 新闻 自制 大米 照片 我要 有没有 好心人 类 公司 成员 美食 爱好者 想 谈谈 想 谈谈 最 喜欢 乐队 喜爱 歌曲 middot 跳蚤市场 想 咨询 下 使用 应用 进程 中 麻烦 工作 想 谈 人 伊可 找 工作 有没有 回答 太多 男朋友 • 我要 结婚 有没有 男朋友 middot 行是 痛苦 阅读 应力 肚子 天天 疼 一起 看电视 播放 播放 一个 人 middot 推荐 品牌 想 知道 折扣 鲜为人知 点 邮购 育儿 麻烦 养育 妈妈 咨询 告诉 和雅虎 问答 咨询 女孩 说话 钱 想 咨询 middot 想 咨询 单恋 事 middot 朋友 制造 麻烦 一定 人 讲 怀孕 问题 忧虑 照顾 孩子 家长 甘心 独居 孤独 middot Merukri 使用 褶边 知道 应用 进程 LINEQ 使用 情况 知道 ◆ 地方 • 好 明天 衣服 约会 邮 协和 客机 照片 分享 兴奋 汁 前段时间 撞 一下 考虑 未来 梦想 一起 方式 获得 安慰 父 middot 有没有 人患 精神病 丈夫 午餐 配菜 放 安 萨尔 电台 说话 直到 早上 睡觉 谈谈 动画 当前 财年 怀孕 期间 不耐烦 课程 middot 卡马 〜 津市 人设 奇怪 母亲 法 家里 私自 今天 请 鼓励 生气 老板 • 筠 女人 男人 动作 middot 算命 财富 看待 今天 日本 政治 middot 今天 晚餐 知道 是否 好处 已 唾弃 公司 告诉 名人 八卦 确定 月 积蓄 middot 推荐 想 知道 应用 进程 游戏 反正 现在 想 谈 人 歌 卡拉 OK 声音 ♪ middot 保密 实际上 同性恋 middot 请问 事是 脸上 意义 照片 帖子 说 想 说 声音 转载 声音 ♪ 现在 认 拍拖 狗叫 改变 影视 后期 请 供认 声音 middot 集中精力 学习 巨人 谈论 喜欢 游行 middot Monsuto 我要 坚强 人设 ◆ 支持 Android 磨损 • 使用 来自 AndroidWer 语音输入 更是 随意 注释 少 些 麻烦 注释 AndroidWer 确认 使用 反向 信道 反馈 触摸 一个 按钮 回答 间隙 时间 发表 评论 ◆ 过去 事件 举行 协作 middot 流行 担心 协商 杂志 模特 答案 middot 简单 食谱 介绍 middot 微笑 流行 歌手 视频 middot 视频 流行 YouTube 用户 大量 招兵买马 主题 人气 卡通人物 回答 后顾之忧 Portrit 艺术家 先生 写 脸 一分钟 算命先生 占卜 手掌 middot 当地 性格 推荐 景点 计划 ♪ 未来 举措 更新 内容 新版 变化 い つ も ア ン サ ー を ご 利用 い た だ き あ り が と う ご ざ い ま す ア ン サ ー が 新 し く な り ま し た 更新 内容 は 以下 の と お り で す 终了 し た ス ポ ッ ト で は プ ロ フ ィ ー ル を 更新 し な い よ う に し ま し た こ れ ま で は に 最新版 の プ ロ フ ィ ー ル 内容 を 表示 し て い ま し た が 终了 し た ス ポ ッ ト に つ い て は 终了 时 の プ ロ フ ィ ー ル に 固定 す る よ う に し ま し た 过去 に 参加 し た ス ポ ッ ト に 表示 さ れ る プ ロ フ ィ ー ル 内容 に よ っ て 现在 が 特定 さ れ な い よ う に な り 投稿 し や す く な り ま し た 细 か な 不具 合 を 修正 し ま し た ご 不明 点 改善 し て ほ し い 点 な ど は ヘ ル プ を ご 确认 の う え お 问 い 合 わ せ く だ さ い 了解'"
      ]
     },
     "execution_count": 40,
     "metadata": {},
     "output_type": "execute_result"
    }
   ],
   "source": [
    "train_test_data['app_desc'][12643]"
   ]
  },
  {
   "cell_type": "markdown",
   "metadata": {},
   "source": [
    "# remove stop_words\n",
    "去停后部分为空"
   ]
  },
  {
   "cell_type": "code",
   "execution_count": 9,
   "metadata": {},
   "outputs": [],
   "source": [
    "train_test_data = pd.read_csv('./train_test_data.csv')"
   ]
  },
  {
   "cell_type": "code",
   "execution_count": 14,
   "metadata": {},
   "outputs": [],
   "source": [
    "stop_words = [word.strip('\\n') for word in open('./stopwords.txt','r',encoding='utf8')]\n",
    "desc_remove_stopwords = []\n",
    "for desc in train_test_data['app_desc']:\n",
    "    desc = [w for w in desc.split() if w not in stop_words]\n",
    "    desc_remove_stopwords.append(' '.join(desc))"
   ]
  },
  {
   "cell_type": "code",
   "execution_count": 15,
   "metadata": {},
   "outputs": [],
   "source": [
    "train_test_data['app_desc'] = desc_remove_stopwords"
   ]
  },
  {
   "cell_type": "code",
   "execution_count": 16,
   "metadata": {},
   "outputs": [],
   "source": [
    "train_test_data.to_csv('./train_test_data_remove_stopwords.csv',index=False) # str"
   ]
  },
  {
   "cell_type": "markdown",
   "metadata": {},
   "source": [
    "# extract keywords\n",
    "提取后更多为空"
   ]
  },
  {
   "cell_type": "code",
   "execution_count": 52,
   "metadata": {},
   "outputs": [],
   "source": [
    "train_test_data = pd.read_csv('./train_test_data_remove_stopwords.csv')\n",
    "train_test_data.loc[:,'app_desc'] = train_test_data['app_desc'].fillna('')"
   ]
  },
  {
   "cell_type": "code",
   "execution_count": 55,
   "metadata": {},
   "outputs": [],
   "source": [
    "# jieba.analyse.set_idf_path()\n",
    "# jieba.analyse.extract_tags(train_test_data['app_desc'][2], topK=20, withWeight=True)\n",
    "desc_key_words = []\n",
    "for desc in train_test_data['app_desc']:\n",
    "    desc_key_words.append(jieba.analyse.textrank(desc,topK=10))"
   ]
  },
  {
   "cell_type": "code",
   "execution_count": 56,
   "metadata": {},
   "outputs": [],
   "source": [
    "train_test_data['app_desc'] = list(map(''.join,desc_key_words))"
   ]
  },
  {
   "cell_type": "code",
   "execution_count": 57,
   "metadata": {},
   "outputs": [],
   "source": [
    "train_test_data.to_csv('./train_test_data_keywords.csv',index=False) #str"
   ]
  },
  {
   "cell_type": "markdown",
   "metadata": {},
   "source": [
    "# build models"
   ]
  },
  {
   "cell_type": "markdown",
   "metadata": {},
   "source": [
    "## prepare data"
   ]
  },
  {
   "cell_type": "code",
   "execution_count": 2,
   "metadata": {},
   "outputs": [],
   "source": [
    "from gensim.models import Word2Vec\n",
    "wiki_model = Word2Vec.load('../corpus/zhwiki-corpus-w2v.model')\n",
    "app_model = Word2Vec.load('../corpus/app_desc.model')"
   ]
  },
  {
   "cell_type": "code",
   "execution_count": 11,
   "metadata": {},
   "outputs": [],
   "source": [
    "train_test_data = pd.read_csv('./train_test_data_remove_stopwords.csv')\n",
    "# train_test_data = pd.read_csv('./train_test_data.csv')\n",
    "train_test_data.loc[:,'app_desc'] = train_test_data['app_desc'].fillna('')"
   ]
  },
  {
   "cell_type": "code",
   "execution_count": 3,
   "metadata": {},
   "outputs": [
    {
     "data": {
      "text/plain": [
       "30875"
      ]
     },
     "execution_count": 3,
     "metadata": {},
     "output_type": "execute_result"
    }
   ],
   "source": [
    "train_num = sum(train_test_data['label'].notnull())\n",
    "train_num"
   ]
  },
  {
   "cell_type": "code",
   "execution_count": 7,
   "metadata": {},
   "outputs": [],
   "source": [
    "# from sklearn.model_selection import train_test_split\n",
    "# train_test_data[:train_num].to_csv('./train_data.csv',index=False)\n",
    "# train_test_data[train_num:].to_csv('./test_data.csv',index=False)\n",
    "\n",
    "# train_train,train_valid = train_test_split(train_test_data[:train_num])\n",
    "# train_train.to_csv('./train_train.csv',index=False)\n",
    "# train_valid.to_csv('./train_valid.csv',index=False)"
   ]
  },
  {
   "cell_type": "code",
   "execution_count": 5,
   "metadata": {},
   "outputs": [],
   "source": [
    "# app_model_vocab = {}\n",
    "# for k,v in app_model.wv.vocab.items():\n",
    "#     if k in app_model_vocab:\n",
    "#         app_model_vocab[k] += app_model.wv.vocab[k].count\n",
    "#     else:\n",
    "#         app_model_vocab[k] = app_model.wv.vocab[k].count\n",
    "\n",
    "\n",
    "def w2v_features(text=train_test_data['app_desc'],w2v_model=wiki_model,w2v_model_=app_model,res='mean'):\n",
    "    max_len = text.apply(lambda x: len(x.split())).max()\n",
    "    app_desc_wv = []\n",
    "    for desc in text:\n",
    "        desc_wv = []\n",
    "        if desc.split()==[]:\n",
    "            wv = np.zeros(400)\n",
    "            desc_wv.append(wv)\n",
    "        else:\n",
    "            for word in desc.split():\n",
    "                if word in w2v_model.wv.vocab:\n",
    "                    wv = w2v_model.wv.get_vector(word)\n",
    "                else:\n",
    "                    try:\n",
    "                        wv = w2v_model_.wv.get_vector(word)\n",
    "                    except:\n",
    "                        most_similar_word = w2v_model.most_similar(word)[0][0]\n",
    "                        wv = w2v_model.wv.get_vector(word)\n",
    "                desc_wv.append(wv)\n",
    "                \n",
    "        if res=='mean':\n",
    "            desc_wv = np.vstack(desc_wv)\n",
    "            desc_wv = np.mean(desc_wv,axis=0)\n",
    "            app_desc_wv.append(desc_wv)\n",
    "        elif res=='sum':\n",
    "            desc_wv = np.vstack(desc_wv)\n",
    "            desc_wv = np.sum(desc_wv,axis=0)\n",
    "            app_desc_wv.append(desc_wv)\n",
    "#         elif res=='concat':\n",
    "#             desc_wv = np.hstack(desc_wv+[np.zeros((max_len-len(desc_wv))*400)])\n",
    "#             app_desc_wv.append(desc_wv)\n",
    "            \n",
    "    app_desc_wv = np.vstack(app_desc_wv)\n",
    "    return app_desc_wv"
   ]
  },
  {
   "cell_type": "code",
   "execution_count": 6,
   "metadata": {},
   "outputs": [],
   "source": [
    "w2v_features = w2v_features(res='sum')"
   ]
  },
  {
   "cell_type": "code",
   "execution_count": 7,
   "metadata": {},
   "outputs": [],
   "source": [
    "from sklearn.model_selection import train_test_split\n",
    "# from sklearn.feature_extraction.text import CountVectorizer,TfidfVectorizer\n",
    "# BOW = CountVectorizer()\n",
    "# X = BOW.fit_transform(train_test_data['app_desc'].values[:train_num])\n",
    "# test_X = BOW.transform(train_test_data['app_desc'].values[train_num:])\n",
    "# TFIDF = TfidfVectorizer()\n",
    "# X = TFIDF.fit_transform(train_test_data['app_desc'][:train_num])\n",
    "# test_X = TFIDF.transform(train_test_data['app_desc'][train_num:])\n",
    "\n",
    "X = w2v_features[:train_num]\n",
    "y = train_test_data['label'].values[:train_num]\n",
    "train_x,test_x,train_y,test_y = train_test_split(X,y)"
   ]
  },
  {
   "cell_type": "markdown",
   "metadata": {},
   "source": [
    "## logit regression"
   ]
  },
  {
   "cell_type": "code",
   "execution_count": 10,
   "metadata": {},
   "outputs": [],
   "source": [
    "from sklearn.linear_model import LogisticRegression\n",
    "# from sklearn.multiclass import OneVsRestClassifier\n",
    "from sklearn.metrics import accuracy_score,f1_score\n",
    "# from scipy.sparse import csr_matrix"
   ]
  },
  {
   "cell_type": "code",
   "execution_count": 14,
   "metadata": {},
   "outputs": [],
   "source": [
    "# lr_model = LogisticRegression(penalty='l1',C=3,n_jobs=-1,solver='liblinear') #'newton-cg'l2, 'saga' and 'lbfgs'l2\n",
    "lr_model = LogisticRegression(penalty='l2',C=3,n_jobs=-1,solver='newton-cg')\n",
    "lr_model.fit(train_x,train_y)\n",
    "\n",
    "y_pred = lr_model.predict(test_x)\n",
    "\n",
    "train_score = lr_model.score(train_x,train_y)\n",
    "test_score = lr_model.score(test_x,test_y)\n",
    "acc = accuracy_score(test_y,y_pred)\n",
    "f1 = f1_score(test_y,y_pred,average='micro')\n",
    "\n",
    "print(\"train_score:\",train_score,\"\\n\",\"test_score:\",test_score)\n",
    "print('acc:',acc,'\\n','f1:',f1)"
   ]
  },
  {
   "cell_type": "markdown",
   "metadata": {},
   "source": [
    "## SVC"
   ]
  },
  {
   "cell_type": "code",
   "execution_count": 14,
   "metadata": {},
   "outputs": [],
   "source": [
    "from sklearn.svm import SVC"
   ]
  },
  {
   "cell_type": "code",
   "execution_count": null,
   "metadata": {},
   "outputs": [],
   "source": [
    "svc_model = SVC(C=3,kernel='linear')\n",
    "svc_model.fit(train_x,train_y)\n",
    "\n",
    "y_pred = svc_model.predict(test_x)\n",
    "\n",
    "train_score = svc_model.score(train_x,train_y)\n",
    "test_score = svc_model.score(test_x,test_y)\n",
    "acc = accuracy_score(test_y,y_pred)\n",
    "f1 = f1_score(test_y,y_pred,average='micro')\n",
    "\n",
    "print(\"train_score:\",train_score,\"\\n\",\"test_score:\",test_score)\n",
    "print('acc:',acc,'\\n','f1:',f1)"
   ]
  },
  {
   "cell_type": "code",
   "execution_count": 71,
   "metadata": {},
   "outputs": [],
   "source": [
    "with open ('./svc_model.pkl','wb') as f:\n",
    "    pkl.dump(svc_model,f)"
   ]
  },
  {
   "cell_type": "markdown",
   "metadata": {},
   "source": [
    "## NB"
   ]
  },
  {
   "cell_type": "code",
   "execution_count": 8,
   "metadata": {},
   "outputs": [],
   "source": [
    "from sklearn.naive_bayes import MultinomialNB,BernoulliNB,GaussianNB"
   ]
  },
  {
   "cell_type": "code",
   "execution_count": 11,
   "metadata": {},
   "outputs": [
    {
     "name": "stdout",
     "output_type": "stream",
     "text": [
      "train_score: 0.4749956814648471 \n",
      " test_score: 0.437491903096256\n",
      "acc: 0.437491903096256 \n",
      " f1: 0.437491903096256\n"
     ]
    }
   ],
   "source": [
    "nb_model = BernoulliNB()\n",
    "# nb_model = MultinomialNB()\n",
    "# nb_model = GaussianNB()\n",
    "nb_model.fit(train_x,train_y)\n",
    "\n",
    "y_pred = nb_model.predict(test_x)\n",
    "\n",
    "train_score = nb_model.score(train_x,train_y)\n",
    "test_score = nb_model.score(test_x,test_y)\n",
    "acc = accuracy_score(test_y,y_pred)\n",
    "f1 = f1_score(test_y,y_pred,average='micro')\n",
    "\n",
    "print(\"train_score:\",train_score,\"\\n\",\"test_score:\",test_score)\n",
    "print('acc:',acc,'\\n','f1:',f1)"
   ]
  },
  {
   "cell_type": "markdown",
   "metadata": {},
   "source": [
    "## RF"
   ]
  },
  {
   "cell_type": "code",
   "execution_count": 47,
   "metadata": {},
   "outputs": [],
   "source": [
    "from sklearn.ensemble import RandomForestClassifier"
   ]
  },
  {
   "cell_type": "code",
   "execution_count": 48,
   "metadata": {},
   "outputs": [
    {
     "name": "stdout",
     "output_type": "stream",
     "text": [
      "train_score: 0.3493263085161513 \n",
      " test_score: 0.3316491773545796\n",
      "acc: 0.3316491773545796 \n",
      " f1: 0.3316491773545796\n"
     ]
    }
   ],
   "source": [
    "rf_model = RandomForestClassifier(n_estimators=500,max_depth=6,max_features=0.8,n_jobs=-1)\n",
    "rf_model.fit(train_x,train_y)\n",
    "\n",
    "y_pred = rf_model.predict(test_x)\n",
    "\n",
    "train_score = rf_model.score(train_x,train_y)\n",
    "test_score = rf_model.score(test_x,test_y)\n",
    "acc = accuracy_score(test_y,y_pred)\n",
    "f1 = f1_score(test_y,y_pred,average='micro')\n",
    "\n",
    "print(\"train_score:\",train_score,\"\\n\",\"test_score:\",test_score)\n",
    "print('acc:',acc,'\\n','f1:',f1)"
   ]
  },
  {
   "cell_type": "markdown",
   "metadata": {},
   "source": [
    "## lgb"
   ]
  },
  {
   "cell_type": "code",
   "execution_count": 12,
   "metadata": {},
   "outputs": [],
   "source": [
    "import lightgbm as lgb"
   ]
  },
  {
   "cell_type": "markdown",
   "metadata": {},
   "source": [
    "### train"
   ]
  },
  {
   "cell_type": "code",
   "execution_count": 13,
   "metadata": {
    "scrolled": true
   },
   "outputs": [
    {
     "name": "stdout",
     "output_type": "stream",
     "text": [
      "Training until validation scores don't improve for 500 rounds.\n",
      "[10]\ttraining's multi_logloss: 3.23533\ttraining's multi_error: 0.757903\tvalid_1's multi_logloss: 3.42492\tvalid_1's multi_error: 0.7694\n",
      "[20]\ttraining's multi_logloss: 2.79187\ttraining's multi_error: 0.613491\tvalid_1's multi_logloss: 3.08048\tvalid_1's multi_error: 0.657598\n",
      "[30]\ttraining's multi_logloss: 2.48629\ttraining's multi_error: 0.548799\tvalid_1's multi_logloss: 2.85355\tvalid_1's multi_error: 0.610183\n",
      "[40]\ttraining's multi_logloss: 2.25671\ttraining's multi_error: 0.504707\tvalid_1's multi_logloss: 2.68874\tvalid_1's multi_error: 0.581293\n",
      "[50]\ttraining's multi_logloss: 2.07667\ttraining's multi_error: 0.468647\tvalid_1's multi_logloss: 2.5645\tvalid_1's multi_error: 0.560435\n",
      "[60]\ttraining's multi_logloss: 1.93204\ttraining's multi_error: 0.43872\tvalid_1's multi_logloss: 2.46805\tvalid_1's multi_error: 0.54476\n",
      "[70]\ttraining's multi_logloss: 1.81325\ttraining's multi_error: 0.413284\tvalid_1's multi_logloss: 2.39182\tvalid_1's multi_error: 0.533359\n",
      "[80]\ttraining's multi_logloss: 1.71377\ttraining's multi_error: 0.392382\tvalid_1's multi_logloss: 2.33083\tvalid_1's multi_error: 0.524679\n",
      "[90]\ttraining's multi_logloss: 1.62877\ttraining's multi_error: 0.373683\tvalid_1's multi_logloss: 2.28073\tvalid_1's multi_error: 0.518331\n",
      "[100]\ttraining's multi_logloss: 1.55551\ttraining's multi_error: 0.358654\tvalid_1's multi_logloss: 2.23887\tvalid_1's multi_error: 0.515611\n",
      "[110]\ttraining's multi_logloss: 1.49131\ttraining's multi_error: 0.344187\tvalid_1's multi_logloss: 2.20371\tvalid_1's multi_error: 0.512372\n",
      "[120]\ttraining's multi_logloss: 1.43502\ttraining's multi_error: 0.330713\tvalid_1's multi_logloss: 2.17435\tvalid_1's multi_error: 0.51004\n",
      "[130]\ttraining's multi_logloss: 1.38514\ttraining's multi_error: 0.319615\tvalid_1's multi_logloss: 2.14921\tvalid_1's multi_error: 0.505506\n",
      "[140]\ttraining's multi_logloss: 1.34032\ttraining's multi_error: 0.308689\tvalid_1's multi_logloss: 2.12739\tvalid_1's multi_error: 0.502526\n",
      "[150]\ttraining's multi_logloss: 1.30027\ttraining's multi_error: 0.299965\tvalid_1's multi_logloss: 2.1089\tvalid_1's multi_error: 0.499028\n",
      "[160]\ttraining's multi_logloss: 1.26441\ttraining's multi_error: 0.292926\tvalid_1's multi_logloss: 2.09331\tvalid_1's multi_error: 0.496437\n",
      "[170]\ttraining's multi_logloss: 1.23239\ttraining's multi_error: 0.285498\tvalid_1's multi_logloss: 2.07973\tvalid_1's multi_error: 0.494883\n",
      "[180]\ttraining's multi_logloss: 1.20379\ttraining's multi_error: 0.279366\tvalid_1's multi_logloss: 2.06857\tvalid_1's multi_error: 0.492162\n",
      "[190]\ttraining's multi_logloss: 1.17837\ttraining's multi_error: 0.273147\tvalid_1's multi_logloss: 2.05861\tvalid_1's multi_error: 0.490219\n",
      "[200]\ttraining's multi_logloss: 1.15534\ttraining's multi_error: 0.268008\tvalid_1's multi_logloss: 2.05026\tvalid_1's multi_error: 0.489701\n",
      "[210]\ttraining's multi_logloss: 1.13424\ttraining's multi_error: 0.263387\tvalid_1's multi_logloss: 2.04273\tvalid_1's multi_error: 0.487887\n",
      "[220]\ttraining's multi_logloss: 1.11494\ttraining's multi_error: 0.258032\tvalid_1's multi_logloss: 2.03646\tvalid_1's multi_error: 0.486851\n",
      "[230]\ttraining's multi_logloss: 1.09733\ttraining's multi_error: 0.254232\tvalid_1's multi_logloss: 2.03058\tvalid_1's multi_error: 0.485814\n",
      "[240]\ttraining's multi_logloss: 1.08116\ttraining's multi_error: 0.25013\tvalid_1's multi_logloss: 2.02559\tvalid_1's multi_error: 0.485685\n",
      "[250]\ttraining's multi_logloss: 1.06618\ttraining's multi_error: 0.246157\tvalid_1's multi_logloss: 2.02129\tvalid_1's multi_error: 0.485296\n",
      "[260]\ttraining's multi_logloss: 1.05218\ttraining's multi_error: 0.241924\tvalid_1's multi_logloss: 2.01746\tvalid_1's multi_error: 0.484907\n",
      "[270]\ttraining's multi_logloss: 1.03932\ttraining's multi_error: 0.238945\tvalid_1's multi_logloss: 2.01388\tvalid_1's multi_error: 0.483871\n",
      "[280]\ttraining's multi_logloss: 1.02748\ttraining's multi_error: 0.235576\tvalid_1's multi_logloss: 2.01074\tvalid_1's multi_error: 0.483612\n",
      "[290]\ttraining's multi_logloss: 1.01638\ttraining's multi_error: 0.232467\tvalid_1's multi_logloss: 2.00822\tvalid_1's multi_error: 0.483871\n",
      "[300]\ttraining's multi_logloss: 1.00608\ttraining's multi_error: 0.229746\tvalid_1's multi_logloss: 2.00533\tvalid_1's multi_error: 0.483612\n",
      "[310]\ttraining's multi_logloss: 0.996651\ttraining's multi_error: 0.227544\tvalid_1's multi_logloss: 2.00293\tvalid_1's multi_error: 0.483482\n",
      "[320]\ttraining's multi_logloss: 0.98764\ttraining's multi_error: 0.224737\tvalid_1's multi_logloss: 2.00076\tvalid_1's multi_error: 0.482835\n",
      "[330]\ttraining's multi_logloss: 0.979482\ttraining's multi_error: 0.222189\tvalid_1's multi_logloss: 1.99887\tvalid_1's multi_error: 0.481669\n",
      "[340]\ttraining's multi_logloss: 0.971977\ttraining's multi_error: 0.219813\tvalid_1's multi_logloss: 1.99729\tvalid_1's multi_error: 0.481798\n",
      "[350]\ttraining's multi_logloss: 0.965237\ttraining's multi_error: 0.217913\tvalid_1's multi_logloss: 1.99598\tvalid_1's multi_error: 0.482446\n",
      "[360]\ttraining's multi_logloss: 0.958889\ttraining's multi_error: 0.216229\tvalid_1's multi_logloss: 1.99479\tvalid_1's multi_error: 0.481539\n",
      "[370]\ttraining's multi_logloss: 0.953009\ttraining's multi_error: 0.214243\tvalid_1's multi_logloss: 1.99349\tvalid_1's multi_error: 0.480114\n",
      "[380]\ttraining's multi_logloss: 0.94739\ttraining's multi_error: 0.212904\tvalid_1's multi_logloss: 1.99234\tvalid_1's multi_error: 0.480244\n",
      "[390]\ttraining's multi_logloss: 0.942193\ttraining's multi_error: 0.21096\tvalid_1's multi_logloss: 1.99108\tvalid_1's multi_error: 0.479984\n",
      "[400]\ttraining's multi_logloss: 0.937293\ttraining's multi_error: 0.209492\tvalid_1's multi_logloss: 1.99009\tvalid_1's multi_error: 0.479984\n",
      "[410]\ttraining's multi_logloss: 0.932758\ttraining's multi_error: 0.207894\tvalid_1's multi_logloss: 1.9893\tvalid_1's multi_error: 0.479984\n",
      "[420]\ttraining's multi_logloss: 0.928526\ttraining's multi_error: 0.206556\tvalid_1's multi_logloss: 1.98862\tvalid_1's multi_error: 0.479984\n",
      "[430]\ttraining's multi_logloss: 0.924534\ttraining's multi_error: 0.205174\tvalid_1's multi_logloss: 1.98797\tvalid_1's multi_error: 0.479596\n",
      "[440]\ttraining's multi_logloss: 0.920673\ttraining's multi_error: 0.203964\tvalid_1's multi_logloss: 1.9872\tvalid_1's multi_error: 0.478818\n",
      "[450]\ttraining's multi_logloss: 0.917061\ttraining's multi_error: 0.202755\tvalid_1's multi_logloss: 1.98647\tvalid_1's multi_error: 0.479207\n",
      "[460]\ttraining's multi_logloss: 0.913563\ttraining's multi_error: 0.201373\tvalid_1's multi_logloss: 1.98566\tvalid_1's multi_error: 0.479466\n",
      "[470]\ttraining's multi_logloss: 0.910373\ttraining's multi_error: 0.200121\tvalid_1's multi_logloss: 1.98522\tvalid_1's multi_error: 0.479596\n",
      "[480]\ttraining's multi_logloss: 0.907352\ttraining's multi_error: 0.199084\tvalid_1's multi_logloss: 1.98472\tvalid_1's multi_error: 0.479855\n",
      "[490]\ttraining's multi_logloss: 0.904397\ttraining's multi_error: 0.198264\tvalid_1's multi_logloss: 1.98429\tvalid_1's multi_error: 0.480114\n",
      "[500]\ttraining's multi_logloss: 0.901565\ttraining's multi_error: 0.197184\tvalid_1's multi_logloss: 1.98381\tvalid_1's multi_error: 0.480114\n",
      "[510]\ttraining's multi_logloss: 0.898874\ttraining's multi_error: 0.19645\tvalid_1's multi_logloss: 1.98326\tvalid_1's multi_error: 0.479855\n",
      "[520]\ttraining's multi_logloss: 0.896292\ttraining's multi_error: 0.195586\tvalid_1's multi_logloss: 1.98291\tvalid_1's multi_error: 0.480503\n",
      "[530]\ttraining's multi_logloss: 0.893832\ttraining's multi_error: 0.194939\tvalid_1's multi_logloss: 1.9826\tvalid_1's multi_error: 0.480503\n",
      "[540]\ttraining's multi_logloss: 0.891576\ttraining's multi_error: 0.194464\tvalid_1's multi_logloss: 1.98236\tvalid_1's multi_error: 0.480244\n",
      "[550]\ttraining's multi_logloss: 0.889509\ttraining's multi_error: 0.193643\tvalid_1's multi_logloss: 1.98211\tvalid_1's multi_error: 0.480244\n",
      "[560]\ttraining's multi_logloss: 0.887521\ttraining's multi_error: 0.19265\tvalid_1's multi_logloss: 1.9818\tvalid_1's multi_error: 0.479725\n",
      "[570]\ttraining's multi_logloss: 0.885608\ttraining's multi_error: 0.192002\tvalid_1's multi_logloss: 1.9816\tvalid_1's multi_error: 0.479725\n",
      "[580]\ttraining's multi_logloss: 0.883702\ttraining's multi_error: 0.191441\tvalid_1's multi_logloss: 1.98147\tvalid_1's multi_error: 0.479596\n",
      "[590]\ttraining's multi_logloss: 0.881901\ttraining's multi_error: 0.191009\tvalid_1's multi_logloss: 1.98133\tvalid_1's multi_error: 0.479596\n"
     ]
    },
    {
     "name": "stdout",
     "output_type": "stream",
     "text": [
      "[600]\ttraining's multi_logloss: 0.880197\ttraining's multi_error: 0.190491\tvalid_1's multi_logloss: 1.98117\tvalid_1's multi_error: 0.479337\n",
      "[610]\ttraining's multi_logloss: 0.878414\ttraining's multi_error: 0.189886\tvalid_1's multi_logloss: 1.98098\tvalid_1's multi_error: 0.478818\n",
      "[620]\ttraining's multi_logloss: 0.87683\ttraining's multi_error: 0.189065\tvalid_1's multi_logloss: 1.9809\tvalid_1's multi_error: 0.478171\n",
      "[630]\ttraining's multi_logloss: 0.875181\ttraining's multi_error: 0.18872\tvalid_1's multi_logloss: 1.98081\tvalid_1's multi_error: 0.478948\n",
      "[640]\ttraining's multi_logloss: 0.873656\ttraining's multi_error: 0.187899\tvalid_1's multi_logloss: 1.98078\tvalid_1's multi_error: 0.479207\n",
      "[650]\ttraining's multi_logloss: 0.872063\ttraining's multi_error: 0.187381\tvalid_1's multi_logloss: 1.98063\tvalid_1's multi_error: 0.479078\n",
      "[660]\ttraining's multi_logloss: 0.870603\ttraining's multi_error: 0.187208\tvalid_1's multi_logloss: 1.98049\tvalid_1's multi_error: 0.479596\n",
      "[670]\ttraining's multi_logloss: 0.869209\ttraining's multi_error: 0.186431\tvalid_1's multi_logloss: 1.98041\tvalid_1's multi_error: 0.479466\n",
      "[680]\ttraining's multi_logloss: 0.867924\ttraining's multi_error: 0.185827\tvalid_1's multi_logloss: 1.98042\tvalid_1's multi_error: 0.478948\n",
      "[690]\ttraining's multi_logloss: 0.86663\ttraining's multi_error: 0.185438\tvalid_1's multi_logloss: 1.98022\tvalid_1's multi_error: 0.478818\n",
      "[700]\ttraining's multi_logloss: 0.865366\ttraining's multi_error: 0.185136\tvalid_1's multi_logloss: 1.98009\tvalid_1's multi_error: 0.47843\n",
      "[710]\ttraining's multi_logloss: 0.864242\ttraining's multi_error: 0.185006\tvalid_1's multi_logloss: 1.98002\tvalid_1's multi_error: 0.478171\n",
      "[720]\ttraining's multi_logloss: 0.863043\ttraining's multi_error: 0.184617\tvalid_1's multi_logloss: 1.9799\tvalid_1's multi_error: 0.477912\n",
      "[730]\ttraining's multi_logloss: 0.861859\ttraining's multi_error: 0.184229\tvalid_1's multi_logloss: 1.97977\tvalid_1's multi_error: 0.477393\n",
      "[740]\ttraining's multi_logloss: 0.860729\ttraining's multi_error: 0.184013\tvalid_1's multi_logloss: 1.97965\tvalid_1's multi_error: 0.477393\n",
      "[750]\ttraining's multi_logloss: 0.859631\ttraining's multi_error: 0.183495\tvalid_1's multi_logloss: 1.97962\tvalid_1's multi_error: 0.477264\n",
      "[760]\ttraining's multi_logloss: 0.858528\ttraining's multi_error: 0.183106\tvalid_1's multi_logloss: 1.97955\tvalid_1's multi_error: 0.477134\n",
      "[770]\ttraining's multi_logloss: 0.857473\ttraining's multi_error: 0.182933\tvalid_1's multi_logloss: 1.97947\tvalid_1's multi_error: 0.477653\n",
      "[780]\ttraining's multi_logloss: 0.856484\ttraining's multi_error: 0.182544\tvalid_1's multi_logloss: 1.97946\tvalid_1's multi_error: 0.477653\n",
      "[790]\ttraining's multi_logloss: 0.855473\ttraining's multi_error: 0.182113\tvalid_1's multi_logloss: 1.97944\tvalid_1's multi_error: 0.477134\n",
      "[800]\ttraining's multi_logloss: 0.854461\ttraining's multi_error: 0.181594\tvalid_1's multi_logloss: 1.97948\tvalid_1's multi_error: 0.477134\n",
      "[810]\ttraining's multi_logloss: 0.85344\ttraining's multi_error: 0.181076\tvalid_1's multi_logloss: 1.97947\tvalid_1's multi_error: 0.476875\n",
      "[820]\ttraining's multi_logloss: 0.852388\ttraining's multi_error: 0.180774\tvalid_1's multi_logloss: 1.97944\tvalid_1's multi_error: 0.476875\n",
      "[830]\ttraining's multi_logloss: 0.851356\ttraining's multi_error: 0.180169\tvalid_1's multi_logloss: 1.97952\tvalid_1's multi_error: 0.477134\n",
      "[840]\ttraining's multi_logloss: 0.850341\ttraining's multi_error: 0.180126\tvalid_1's multi_logloss: 1.97955\tvalid_1's multi_error: 0.477523\n",
      "[850]\ttraining's multi_logloss: 0.849344\ttraining's multi_error: 0.179781\tvalid_1's multi_logloss: 1.97952\tvalid_1's multi_error: 0.477264\n",
      "[860]\ttraining's multi_logloss: 0.848322\ttraining's multi_error: 0.179219\tvalid_1's multi_logloss: 1.97949\tvalid_1's multi_error: 0.477134\n",
      "[870]\ttraining's multi_logloss: 0.847312\ttraining's multi_error: 0.178787\tvalid_1's multi_logloss: 1.9795\tvalid_1's multi_error: 0.477134\n",
      "[880]\ttraining's multi_logloss: 0.846348\ttraining's multi_error: 0.178399\tvalid_1's multi_logloss: 1.97953\tvalid_1's multi_error: 0.477264\n",
      "[890]\ttraining's multi_logloss: 0.845586\ttraining's multi_error: 0.178356\tvalid_1's multi_logloss: 1.97956\tvalid_1's multi_error: 0.477523\n",
      "[900]\ttraining's multi_logloss: 0.844817\ttraining's multi_error: 0.178096\tvalid_1's multi_logloss: 1.97952\tvalid_1's multi_error: 0.477134\n",
      "[910]\ttraining's multi_logloss: 0.843964\ttraining's multi_error: 0.177794\tvalid_1's multi_logloss: 1.9795\tvalid_1's multi_error: 0.477134\n",
      "[920]\ttraining's multi_logloss: 0.843099\ttraining's multi_error: 0.177578\tvalid_1's multi_logloss: 1.97956\tvalid_1's multi_error: 0.477523\n",
      "[930]\ttraining's multi_logloss: 0.842309\ttraining's multi_error: 0.177103\tvalid_1's multi_logloss: 1.97953\tvalid_1's multi_error: 0.477523\n",
      "[940]\ttraining's multi_logloss: 0.841596\ttraining's multi_error: 0.176714\tvalid_1's multi_logloss: 1.97952\tvalid_1's multi_error: 0.477134\n",
      "[950]\ttraining's multi_logloss: 0.840965\ttraining's multi_error: 0.176542\tvalid_1's multi_logloss: 1.97957\tvalid_1's multi_error: 0.477393\n",
      "[960]\ttraining's multi_logloss: 0.840298\ttraining's multi_error: 0.176196\tvalid_1's multi_logloss: 1.97957\tvalid_1's multi_error: 0.477653\n",
      "[970]\ttraining's multi_logloss: 0.839627\ttraining's multi_error: 0.175894\tvalid_1's multi_logloss: 1.9796\tvalid_1's multi_error: 0.477653\n",
      "[980]\ttraining's multi_logloss: 0.838953\ttraining's multi_error: 0.175635\tvalid_1's multi_logloss: 1.97955\tvalid_1's multi_error: 0.477523\n",
      "[990]\ttraining's multi_logloss: 0.838336\ttraining's multi_error: 0.175635\tvalid_1's multi_logloss: 1.97952\tvalid_1's multi_error: 0.477523\n",
      "[1000]\ttraining's multi_logloss: 0.837697\ttraining's multi_error: 0.175289\tvalid_1's multi_logloss: 1.97953\tvalid_1's multi_error: 0.476875\n",
      "Did not meet early stopping. Best iteration is:\n",
      "[1000]\ttraining's multi_logloss: 0.837697\ttraining's multi_error: 0.175289\tvalid_1's multi_logloss: 1.97953\tvalid_1's multi_error: 0.476875\n"
     ]
    }
   ],
   "source": [
    "dtrain = lgb.Dataset(train_x,label=train_y) # free_raw_data=True\n",
    "dtest = lgb.Dataset(test_x,label=test_y)\n",
    "\n",
    "params = {\n",
    "            'boosting':'gbdt',\n",
    "#             'device_type':'gpu',\n",
    "            'objective':'multiclass',\n",
    "            'num_class':126,\n",
    "#             'num_iterations':100,\n",
    "            'metric': ['multi_error','multi_logloss'],\n",
    "#             'min_gain_to_split':0. #'gamma'\n",
    "            'max_depth':6,\n",
    "            'lambda_l1':12, #'alpha'\n",
    "            'lambda_l2':15, # 'lambda'\n",
    "            'bagging_fraction':0.7,#'subsample'\n",
    "            'feature_fraction':0.8,#'colsample_bytree'\n",
    "#             'num_leaves':31,\n",
    "            'learning_rate': 0.05, #eta\n",
    "            'seed':666,\n",
    "#             'silent':1,\n",
    "            'missing':-1,\n",
    "#             'early_stopping_round':\n",
    "        }\n",
    "\n",
    "lgb_model = lgb.train(params,dtrain,num_boost_round=1000,valid_sets=[dtrain,dtest],\n",
    "                      early_stopping_rounds=500,#keep_training_booster = True,\n",
    "                      verbose_eval=10)\n",
    "\n",
    "# y_pred_prob = lgb_model.predict(dtest,ntree_limit=lgb_model.best_ntree_limit)\n",
    "# y_pred = np.argmax(y_pred_prob,axis=1)"
   ]
  },
  {
   "cell_type": "code",
   "execution_count": 31,
   "metadata": {},
   "outputs": [
    {
     "data": {
      "text/plain": [
       "<lightgbm.basic.Booster at 0x239298d2470>"
      ]
     },
     "execution_count": 31,
     "metadata": {},
     "output_type": "execute_result"
    }
   ],
   "source": [
    "lgb_model.save_model('./lgb_model.model')"
   ]
  },
  {
   "cell_type": "markdown",
   "metadata": {},
   "source": [
    "### predict"
   ]
  },
  {
   "cell_type": "code",
   "execution_count": 49,
   "metadata": {},
   "outputs": [],
   "source": [
    "test_data = app_desc_wv[train_num:]\n",
    "y_pred_prob = lgb_model.predict(test_data,num_iteration=lgb_model.best_iteration)\n",
    "y_pred = np.argmax(y_pred_prob,axis=1)\n",
    "\n",
    "sub_df = train_test_data[train_num:]\n",
    "sub_df['label'] = y_pred\n",
    "sub_df.loc[:,'label'] = sub_df['label'].replace(id_dict)\n",
    "sub_df.insert(2,'label1',sub_df['label'].str.slice(0,4))\n",
    "\n",
    "sub_df = sub_df[['app_name','label1','label']]\n",
    "sub_df.columns = ['id','label1','label2']\n",
    "sub_df.to_csv('./lgb_predict.csv',index=False)"
   ]
  },
  {
   "cell_type": "markdown",
   "metadata": {},
   "source": [
    "## xgb"
   ]
  },
  {
   "cell_type": "code",
   "execution_count": 27,
   "metadata": {},
   "outputs": [],
   "source": [
    "import xgboost as xgb"
   ]
  },
  {
   "cell_type": "markdown",
   "metadata": {},
   "source": [
    "### train"
   ]
  },
  {
   "cell_type": "code",
   "execution_count": 28,
   "metadata": {},
   "outputs": [
    {
     "name": "stdout",
     "output_type": "stream",
     "text": [
      "[0]\ttrain-mlogloss:4.36931\ttrain-merror:0.687338\tvalid-mlogloss:4.39042\tvalid-merror:0.694131\n",
      "Multiple eval metrics have been passed: 'valid-merror' will be used for early stopping.\n",
      "\n",
      "Will train until valid-merror hasn't improved in 500 rounds.\n",
      "[10]\ttrain-mlogloss:3.06063\ttrain-merror:0.564044\tvalid-mlogloss:3.25217\tvalid-merror:0.605907\n",
      "[20]\ttrain-mlogloss:2.54638\ttrain-merror:0.517274\tvalid-mlogloss:2.84135\tvalid-merror:0.579091\n",
      "[30]\ttrain-mlogloss:2.24252\ttrain-merror:0.48549\tvalid-mlogloss:2.61346\tvalid-merror:0.561083\n",
      "[40]\ttrain-mlogloss:2.03578\ttrain-merror:0.456944\tvalid-mlogloss:2.4708\tvalid-merror:0.546573\n",
      "[50]\ttrain-mlogloss:1.8817\ttrain-merror:0.431508\tvalid-mlogloss:2.37164\tvalid-merror:0.537116\n",
      "[60]\ttrain-mlogloss:1.76127\ttrain-merror:0.411081\tvalid-mlogloss:2.29899\tvalid-merror:0.529732\n",
      "[70]\ttrain-mlogloss:1.663\ttrain-merror:0.391043\tvalid-mlogloss:2.24428\tvalid-merror:0.522607\n",
      "[80]\ttrain-mlogloss:1.58111\ttrain-merror:0.374935\tvalid-mlogloss:2.20083\tvalid-merror:0.519497\n",
      "[90]\ttrain-mlogloss:1.51117\ttrain-merror:0.361159\tvalid-mlogloss:2.16597\tvalid-merror:0.516129\n",
      "[100]\ttrain-mlogloss:1.45022\ttrain-merror:0.348203\tvalid-mlogloss:2.13853\tvalid-merror:0.514056\n",
      "[110]\ttrain-mlogloss:1.39712\ttrain-merror:0.337105\tvalid-mlogloss:2.11492\tvalid-merror:0.510558\n",
      "[120]\ttrain-mlogloss:1.35089\ttrain-merror:0.326006\tvalid-mlogloss:2.09631\tvalid-merror:0.507708\n",
      "[130]\ttrain-mlogloss:1.31037\ttrain-merror:0.317283\tvalid-mlogloss:2.08071\tvalid-merror:0.508486\n",
      "[140]\ttrain-mlogloss:1.2751\ttrain-merror:0.308127\tvalid-mlogloss:2.0679\tvalid-merror:0.505635\n",
      "[150]\ttrain-mlogloss:1.24322\ttrain-merror:0.299231\tvalid-mlogloss:2.05624\tvalid-merror:0.504081\n",
      "[160]\ttrain-mlogloss:1.21493\ttrain-merror:0.29176\tvalid-mlogloss:2.04686\tvalid-merror:0.503044\n",
      "[170]\ttrain-mlogloss:1.1889\ttrain-merror:0.285585\tvalid-mlogloss:2.03883\tvalid-merror:0.50136\n",
      "[180]\ttrain-mlogloss:1.1659\ttrain-merror:0.278977\tvalid-mlogloss:2.03208\tvalid-merror:0.499547\n",
      "[190]\ttrain-mlogloss:1.14486\ttrain-merror:0.272888\tvalid-mlogloss:2.02637\tvalid-merror:0.499676\n",
      "[200]\ttrain-mlogloss:1.12513\ttrain-merror:0.267447\tvalid-mlogloss:2.02082\tvalid-merror:0.499287\n",
      "[210]\ttrain-mlogloss:1.10804\ttrain-merror:0.262999\tvalid-mlogloss:2.01609\tvalid-merror:0.497215\n",
      "[220]\ttrain-mlogloss:1.09185\ttrain-merror:0.257989\tvalid-mlogloss:2.01252\tvalid-merror:0.498122\n",
      "[230]\ttrain-mlogloss:1.07644\ttrain-merror:0.253196\tvalid-mlogloss:2.00888\tvalid-merror:0.497603\n",
      "[240]\ttrain-mlogloss:1.0618\ttrain-merror:0.248877\tvalid-mlogloss:2.00578\tvalid-merror:0.497992\n",
      "[250]\ttrain-mlogloss:1.04856\ttrain-merror:0.244343\tvalid-mlogloss:2.00325\tvalid-merror:0.496956\n",
      "[260]\ttrain-mlogloss:1.03631\ttrain-merror:0.241406\tvalid-mlogloss:2.00057\tvalid-merror:0.496567\n",
      "[270]\ttrain-mlogloss:1.0242\ttrain-merror:0.237822\tvalid-mlogloss:1.99794\tvalid-merror:0.495401\n",
      "[280]\ttrain-mlogloss:1.01316\ttrain-merror:0.234367\tvalid-mlogloss:1.99576\tvalid-merror:0.495271\n",
      "[290]\ttrain-mlogloss:1.00243\ttrain-merror:0.231387\tvalid-mlogloss:1.99395\tvalid-merror:0.494753\n",
      "[300]\ttrain-mlogloss:0.992101\ttrain-merror:0.227932\tvalid-mlogloss:1.99243\tvalid-merror:0.493846\n",
      "[310]\ttrain-mlogloss:0.982436\ttrain-merror:0.225428\tvalid-mlogloss:1.99116\tvalid-merror:0.494105\n",
      "[320]\ttrain-mlogloss:0.973406\ttrain-merror:0.22288\tvalid-mlogloss:1.99012\tvalid-merror:0.493717\n",
      "[330]\ttrain-mlogloss:0.96433\ttrain-merror:0.220504\tvalid-mlogloss:1.98846\tvalid-merror:0.493846\n",
      "[340]\ttrain-mlogloss:0.956178\ttrain-merror:0.217395\tvalid-mlogloss:1.98719\tvalid-merror:0.494494\n",
      "[350]\ttrain-mlogloss:0.948234\ttrain-merror:0.215495\tvalid-mlogloss:1.98592\tvalid-merror:0.493717\n",
      "[360]\ttrain-mlogloss:0.940338\ttrain-merror:0.212558\tvalid-mlogloss:1.98468\tvalid-merror:0.492421\n",
      "[370]\ttrain-mlogloss:0.933264\ttrain-merror:0.209881\tvalid-mlogloss:1.98382\tvalid-merror:0.491774\n",
      "[380]\ttrain-mlogloss:0.925994\ttrain-merror:0.208067\tvalid-mlogloss:1.983\tvalid-merror:0.490478\n",
      "[390]\ttrain-mlogloss:0.919349\ttrain-merror:0.20634\tvalid-mlogloss:1.98224\tvalid-merror:0.490867\n",
      "[400]\ttrain-mlogloss:0.912708\ttrain-merror:0.204569\tvalid-mlogloss:1.98194\tvalid-merror:0.490867\n",
      "[410]\ttrain-mlogloss:0.906325\ttrain-merror:0.202712\tvalid-mlogloss:1.98119\tvalid-merror:0.490478\n",
      "[420]\ttrain-mlogloss:0.900602\ttrain-merror:0.20133\tvalid-mlogloss:1.98067\tvalid-merror:0.490348\n",
      "[430]\ttrain-mlogloss:0.895192\ttrain-merror:0.199862\tvalid-mlogloss:1.98042\tvalid-merror:0.490089\n",
      "[440]\ttrain-mlogloss:0.889475\ttrain-merror:0.198264\tvalid-mlogloss:1.97972\tvalid-merror:0.489442\n",
      "[450]\ttrain-mlogloss:0.884179\ttrain-merror:0.196061\tvalid-mlogloss:1.97934\tvalid-merror:0.489442\n",
      "[460]\ttrain-mlogloss:0.879401\ttrain-merror:0.194939\tvalid-mlogloss:1.97868\tvalid-merror:0.488794\n",
      "[470]\ttrain-mlogloss:0.874665\ttrain-merror:0.192909\tvalid-mlogloss:1.97825\tvalid-merror:0.488276\n",
      "[480]\ttrain-mlogloss:0.870399\ttrain-merror:0.191613\tvalid-mlogloss:1.97796\tvalid-merror:0.487757\n",
      "[490]\ttrain-mlogloss:0.865885\ttrain-merror:0.190836\tvalid-mlogloss:1.97759\tvalid-merror:0.487369\n",
      "[500]\ttrain-mlogloss:0.861316\ttrain-merror:0.189022\tvalid-mlogloss:1.97743\tvalid-merror:0.488017\n",
      "[510]\ttrain-mlogloss:0.856881\ttrain-merror:0.187424\tvalid-mlogloss:1.97716\tvalid-merror:0.487498\n",
      "[520]\ttrain-mlogloss:0.852902\ttrain-merror:0.185783\tvalid-mlogloss:1.97678\tvalid-merror:0.487239\n",
      "[530]\ttrain-mlogloss:0.848749\ttrain-merror:0.184488\tvalid-mlogloss:1.97668\tvalid-merror:0.487498\n",
      "[540]\ttrain-mlogloss:0.845096\ttrain-merror:0.183192\tvalid-mlogloss:1.9766\tvalid-merror:0.487887\n",
      "[550]\ttrain-mlogloss:0.841081\ttrain-merror:0.182199\tvalid-mlogloss:1.97626\tvalid-merror:0.487628\n",
      "[560]\ttrain-mlogloss:0.837398\ttrain-merror:0.18099\tvalid-mlogloss:1.97616\tvalid-merror:0.48711\n",
      "[570]\ttrain-mlogloss:0.833405\ttrain-merror:0.179953\tvalid-mlogloss:1.9759\tvalid-merror:0.487369\n",
      "[580]\ttrain-mlogloss:0.829891\ttrain-merror:0.178787\tvalid-mlogloss:1.97564\tvalid-merror:0.487628\n",
      "[590]\ttrain-mlogloss:0.82656\ttrain-merror:0.178183\tvalid-mlogloss:1.9755\tvalid-merror:0.487757\n",
      "[600]\ttrain-mlogloss:0.823401\ttrain-merror:0.177103\tvalid-mlogloss:1.9754\tvalid-merror:0.488146\n",
      "[610]\ttrain-mlogloss:0.820139\ttrain-merror:0.176067\tvalid-mlogloss:1.97558\tvalid-merror:0.487628\n",
      "[620]\ttrain-mlogloss:0.81682\ttrain-merror:0.175289\tvalid-mlogloss:1.97544\tvalid-merror:0.488276\n",
      "[630]\ttrain-mlogloss:0.813618\ttrain-merror:0.174123\tvalid-mlogloss:1.97525\tvalid-merror:0.487887\n",
      "[640]\ttrain-mlogloss:0.810744\ttrain-merror:0.173216\tvalid-mlogloss:1.97506\tvalid-merror:0.488017\n",
      "[650]\ttrain-mlogloss:0.80802\ttrain-merror:0.172482\tvalid-mlogloss:1.97485\tvalid-merror:0.487628\n",
      "[660]\ttrain-mlogloss:0.805427\ttrain-merror:0.171705\tvalid-mlogloss:1.97469\tvalid-merror:0.487498\n",
      "[670]\ttrain-mlogloss:0.802869\ttrain-merror:0.1711\tvalid-mlogloss:1.97489\tvalid-merror:0.487887\n",
      "[680]\ttrain-mlogloss:0.800229\ttrain-merror:0.170409\tvalid-mlogloss:1.97475\tvalid-merror:0.487369\n",
      "[690]\ttrain-mlogloss:0.797596\ttrain-merror:0.170064\tvalid-mlogloss:1.97454\tvalid-merror:0.487369\n",
      "[700]\ttrain-mlogloss:0.795164\ttrain-merror:0.16933\tvalid-mlogloss:1.97452\tvalid-merror:0.487239\n",
      "[710]\ttrain-mlogloss:0.792731\ttrain-merror:0.168293\tvalid-mlogloss:1.97463\tvalid-merror:0.487498\n",
      "[720]\ttrain-mlogloss:0.790387\ttrain-merror:0.167818\tvalid-mlogloss:1.97422\tvalid-merror:0.487369\n",
      "[730]\ttrain-mlogloss:0.788029\ttrain-merror:0.166739\tvalid-mlogloss:1.9739\tvalid-merror:0.487369\n",
      "[740]\ttrain-mlogloss:0.785615\ttrain-merror:0.166393\tvalid-mlogloss:1.97349\tvalid-merror:0.48711\n",
      "[750]\ttrain-mlogloss:0.783252\ttrain-merror:0.165529\tvalid-mlogloss:1.97374\tvalid-merror:0.486332\n"
     ]
    },
    {
     "ename": "KeyboardInterrupt",
     "evalue": "",
     "output_type": "error",
     "traceback": [
      "\u001b[0;31m---------------------------------------------------------------------------\u001b[0m",
      "\u001b[0;31mKeyboardInterrupt\u001b[0m                         Traceback (most recent call last)",
      "\u001b[0;32m<ipython-input-28-8fb0fbc80ae7>\u001b[0m in \u001b[0;36m<module>\u001b[0;34m()\u001b[0m\n\u001b[1;32m     30\u001b[0m \u001b[0;34m\u001b[0m\u001b[0m\n\u001b[1;32m     31\u001b[0m xgb_model = xgb.train(params,dtrain,num_boost_round=1000,early_stopping_rounds=500,\n\u001b[0;32m---> 32\u001b[0;31m                        evals=[(dtrain,'train'),(dtest,'valid')],verbose_eval=10)#xgb_model=xgb_trained_model)\n\u001b[0m",
      "\u001b[0;32m~/anaconda3/lib/python3.6/site-packages/xgboost/training.py\u001b[0m in \u001b[0;36mtrain\u001b[0;34m(params, dtrain, num_boost_round, evals, obj, feval, maximize, early_stopping_rounds, evals_result, verbose_eval, xgb_model, callbacks, learning_rates)\u001b[0m\n\u001b[1;32m    214\u001b[0m                            \u001b[0mevals\u001b[0m\u001b[0;34m=\u001b[0m\u001b[0mevals\u001b[0m\u001b[0;34m,\u001b[0m\u001b[0;34m\u001b[0m\u001b[0;34m\u001b[0m\u001b[0m\n\u001b[1;32m    215\u001b[0m                            \u001b[0mobj\u001b[0m\u001b[0;34m=\u001b[0m\u001b[0mobj\u001b[0m\u001b[0;34m,\u001b[0m \u001b[0mfeval\u001b[0m\u001b[0;34m=\u001b[0m\u001b[0mfeval\u001b[0m\u001b[0;34m,\u001b[0m\u001b[0;34m\u001b[0m\u001b[0;34m\u001b[0m\u001b[0m\n\u001b[0;32m--> 216\u001b[0;31m                            xgb_model=xgb_model, callbacks=callbacks)\n\u001b[0m\u001b[1;32m    217\u001b[0m \u001b[0;34m\u001b[0m\u001b[0m\n\u001b[1;32m    218\u001b[0m \u001b[0;34m\u001b[0m\u001b[0m\n",
      "\u001b[0;32m~/anaconda3/lib/python3.6/site-packages/xgboost/training.py\u001b[0m in \u001b[0;36m_train_internal\u001b[0;34m(params, dtrain, num_boost_round, evals, obj, feval, xgb_model, callbacks)\u001b[0m\n\u001b[1;32m     72\u001b[0m         \u001b[0;31m# Skip the first update if it is a recovery step.\u001b[0m\u001b[0;34m\u001b[0m\u001b[0;34m\u001b[0m\u001b[0;34m\u001b[0m\u001b[0m\n\u001b[1;32m     73\u001b[0m         \u001b[0;32mif\u001b[0m \u001b[0mversion\u001b[0m \u001b[0;34m%\u001b[0m \u001b[0;36m2\u001b[0m \u001b[0;34m==\u001b[0m \u001b[0;36m0\u001b[0m\u001b[0;34m:\u001b[0m\u001b[0;34m\u001b[0m\u001b[0;34m\u001b[0m\u001b[0m\n\u001b[0;32m---> 74\u001b[0;31m             \u001b[0mbst\u001b[0m\u001b[0;34m.\u001b[0m\u001b[0mupdate\u001b[0m\u001b[0;34m(\u001b[0m\u001b[0mdtrain\u001b[0m\u001b[0;34m,\u001b[0m \u001b[0mi\u001b[0m\u001b[0;34m,\u001b[0m \u001b[0mobj\u001b[0m\u001b[0;34m)\u001b[0m\u001b[0;34m\u001b[0m\u001b[0;34m\u001b[0m\u001b[0m\n\u001b[0m\u001b[1;32m     75\u001b[0m             \u001b[0mbst\u001b[0m\u001b[0;34m.\u001b[0m\u001b[0msave_rabit_checkpoint\u001b[0m\u001b[0;34m(\u001b[0m\u001b[0;34m)\u001b[0m\u001b[0;34m\u001b[0m\u001b[0;34m\u001b[0m\u001b[0m\n\u001b[1;32m     76\u001b[0m             \u001b[0mversion\u001b[0m \u001b[0;34m+=\u001b[0m \u001b[0;36m1\u001b[0m\u001b[0;34m\u001b[0m\u001b[0;34m\u001b[0m\u001b[0m\n",
      "\u001b[0;32m~/anaconda3/lib/python3.6/site-packages/xgboost/core.py\u001b[0m in \u001b[0;36mupdate\u001b[0;34m(self, dtrain, iteration, fobj)\u001b[0m\n\u001b[1;32m   1107\u001b[0m         \u001b[0;32mif\u001b[0m \u001b[0mfobj\u001b[0m \u001b[0;32mis\u001b[0m \u001b[0;32mNone\u001b[0m\u001b[0;34m:\u001b[0m\u001b[0;34m\u001b[0m\u001b[0;34m\u001b[0m\u001b[0m\n\u001b[1;32m   1108\u001b[0m             _check_call(_LIB.XGBoosterUpdateOneIter(self.handle, ctypes.c_int(iteration),\n\u001b[0;32m-> 1109\u001b[0;31m                                                     dtrain.handle))\n\u001b[0m\u001b[1;32m   1110\u001b[0m         \u001b[0;32melse\u001b[0m\u001b[0;34m:\u001b[0m\u001b[0;34m\u001b[0m\u001b[0;34m\u001b[0m\u001b[0m\n\u001b[1;32m   1111\u001b[0m             \u001b[0mpred\u001b[0m \u001b[0;34m=\u001b[0m \u001b[0mself\u001b[0m\u001b[0;34m.\u001b[0m\u001b[0mpredict\u001b[0m\u001b[0;34m(\u001b[0m\u001b[0mdtrain\u001b[0m\u001b[0;34m)\u001b[0m\u001b[0;34m\u001b[0m\u001b[0;34m\u001b[0m\u001b[0m\n",
      "\u001b[0;31mKeyboardInterrupt\u001b[0m: "
     ]
    }
   ],
   "source": [
    "dtrain = xgb.DMatrix(train_x,label=train_y)\n",
    "dtest = xgb.DMatrix(test_x,label=test_y)\n",
    "\n",
    "params = {\n",
    "            'booster':'gbtree',\n",
    "            'tree_method':'gpu_hist',\n",
    "            'objective':'multi:softprob',\n",
    "            'num_class':126,\n",
    "#             'scale_pos_weight': float(len(train_y)-sum(train_y))/float(sum(train_y)),\n",
    "            'eval_metric': ['mlogloss','merror'],\n",
    "            'gamma':0.,\n",
    "            'max_depth':6,\n",
    "            'alpha':15,\n",
    "            'lambda':20,\n",
    "            'subsample':0.7,\n",
    "            'colsample_bytree':0.8,\n",
    "#             'min_child_weight':6, \n",
    "            'eta': 0.1,\n",
    "            'seed':666,\n",
    "            'silent':1,\n",
    "            'missing':-1,\n",
    "        }\n",
    "# xgb_cv = xgb.cv(params, dtrain, \n",
    "#            num_boost_round=1000, \n",
    "#            nfold=3, stratified=True,#folds=sfk\n",
    "#            metrics='auc', maximize=True, \n",
    "#            early_stopping_rounds=500, \n",
    "#            as_pandas=True, verbose_eval=1, \n",
    "#            show_stdv=False, seed=0, shuffle=True)\n",
    "\n",
    "xgb_model = xgb.train(params,dtrain,num_boost_round=1000,early_stopping_rounds=500,\n",
    "                       evals=[(dtrain,'train'),(dtest,'valid')],verbose_eval=10)#xgb_model=xgb_trained_model)"
   ]
  },
  {
   "cell_type": "code",
   "execution_count": null,
   "metadata": {},
   "outputs": [],
   "source": []
  }
 ],
 "metadata": {
  "kernelspec": {
   "display_name": "Python 3",
   "language": "python",
   "name": "python3"
  },
  "language_info": {
   "codemirror_mode": {
    "name": "ipython",
    "version": 3
   },
   "file_extension": ".py",
   "mimetype": "text/x-python",
   "name": "python",
   "nbconvert_exporter": "python",
   "pygments_lexer": "ipython3",
   "version": "3.6.8"
  },
  "nbTranslate": {
   "displayLangs": [
    "*"
   ],
   "hotkey": "alt-t",
   "langInMainMenu": true,
   "sourceLang": "en",
   "targetLang": "fr",
   "useGoogleTranslate": true
  },
  "toc": {
   "base_numbering": 1,
   "nav_menu": {},
   "number_sections": true,
   "sideBar": true,
   "skip_h1_title": false,
   "title_cell": "Table of Contents",
   "title_sidebar": "Contents",
   "toc_cell": false,
   "toc_position": {
    "height": "calc(100% - 180px)",
    "left": "10px",
    "top": "150px",
    "width": "307.2px"
   },
   "toc_section_display": true,
   "toc_window_display": true
  },
  "varInspector": {
   "cols": {
    "lenName": 16,
    "lenType": 16,
    "lenVar": 40
   },
   "kernels_config": {
    "python": {
     "delete_cmd_postfix": "",
     "delete_cmd_prefix": "del ",
     "library": "var_list.py",
     "varRefreshCmd": "print(var_dic_list())"
    },
    "r": {
     "delete_cmd_postfix": ") ",
     "delete_cmd_prefix": "rm(",
     "library": "var_list.r",
     "varRefreshCmd": "cat(var_dic_list()) "
    }
   },
   "types_to_exclude": [
    "module",
    "function",
    "builtin_function_or_method",
    "instance",
    "_Feature"
   ],
   "window_display": false
  }
 },
 "nbformat": 4,
 "nbformat_minor": 2
}
