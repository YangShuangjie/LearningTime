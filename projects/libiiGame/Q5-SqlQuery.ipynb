{
 "cells": [
  {
   "cell_type": "markdown",
   "metadata": {},
   "source": [
    "# 1)"
   ]
  },
  {
   "cell_type": "code",
   "execution_count": 1,
   "metadata": {},
   "outputs": [],
   "source": [
    "import sqlite3"
   ]
  },
  {
   "cell_type": "code",
   "execution_count": 2,
   "metadata": {},
   "outputs": [],
   "source": [
    "conn = sqlite3.connect('test.db')\n",
    "cursor = conn.cursor()"
   ]
  },
  {
   "cell_type": "code",
   "execution_count": 3,
   "metadata": {},
   "outputs": [],
   "source": [
    "# 创建table_a\n",
    "cursor.execute(\n",
    "    \"\"\"\n",
    "    CREATE TABLE IF NOT EXISTS table_a (\n",
    "        uid BIGINT PRIMARY KEY,\n",
    "        install_time DATETIME,\n",
    "        last_login_time DATETIME);\n",
    "    \"\"\")\n",
    "\n",
    "# 插入数据\n",
    "cursor.execute(\n",
    "    \"\"\"\n",
    "    INSERT INTO table_a \n",
    "    VALUES\n",
    "        (10001, '2018-04-15 22:10:32', '2018-06-30 20:56:01'),\n",
    "        (10002, '2018-05-01 14:32:08', '2018-08-05 16:43:44'),\n",
    "        (10003, '2018-05-10 10:03:55', '2018-08-15 12:12:23'),\n",
    "        (10004, '2018-05-20 21:32:43', '2018-08-31 04:56:00'),\n",
    "        (10005, '2018-05-30 23:11:45', '2018-07-15 23:22:12');\n",
    "    \"\"\"\n",
    "    )\n",
    "\n",
    "# 创建table_b\n",
    "cursor.execute(\n",
    "    \"\"\"\n",
    "    CREATE TABLE IF NOT EXISTS table_b(\n",
    "        uid BIGINT,\n",
    "        pay_time DATETIME,\n",
    "        money DOUBLE);\n",
    "    \"\"\"\n",
    "    )\n",
    "\n",
    "# 插入数据\n",
    "cursor.execute(\n",
    "    \"\"\"\n",
    "    INSERT INTO table_b\n",
    "    VALUES\n",
    "        (10001, '2018-05-10 22:10:32', 6),\n",
    "        (10001, '2018-06-06 23:11:45', 10),\n",
    "        (10003, '2018-08-10 14:32:08', 30),\n",
    "        (10003, '2018-07-12 23:22:12', 30),\n",
    "        (10004, '2018-08-10 12:12:23', 30),\n",
    "        (10004, '2018-08-10 12:12:25', 30);\n",
    "    \"\"\"\n",
    "    )\n",
    "\n",
    "conn.commit()"
   ]
  },
  {
   "cell_type": "code",
   "execution_count": 4,
   "metadata": {},
   "outputs": [
    {
     "data": {
      "text/plain": [
       "[(3, 2, 3, 90.0)]"
      ]
     },
     "execution_count": 4,
     "metadata": {},
     "output_type": "execute_result"
    }
   ],
   "source": [
    "datas = cursor.execute(\n",
    "            \"\"\"\n",
    "            SELECT \n",
    "              COUNT(a.uid) AS 用户总人数, \n",
    "              COUNT(DISTINCT c.uid) AS 付费总人数,\n",
    "              COUNT(*) AS 付费总次数,\n",
    "              SUM(money) AS 付费总金额\n",
    "            FROM\n",
    "            (\n",
    "              (SELECT * FROM table_a\n",
    "              WHERE\n",
    "                DATE(install_time) BETWEEN '2018-05-01' AND '2018-05-30'\n",
    "                AND \n",
    "                DATE(last_login_time) >= '2018-08-05'\n",
    "              ) a\n",
    "              INNER JOIN\n",
    "              (SELECT * FROM table_b\n",
    "              WHERE\n",
    "                DATE(pay_time) >= '2018-08-05'\n",
    "              ) b\n",
    "              ON a.uid=b.uid\n",
    "            ) c\n",
    "            \"\"\"\n",
    "        )\n",
    "\n",
    "datas.fetchall()"
   ]
  },
  {
   "cell_type": "markdown",
   "metadata": {},
   "source": [
    "# 2)"
   ]
  },
  {
   "cell_type": "code",
   "execution_count": 5,
   "metadata": {},
   "outputs": [],
   "source": [
    "# 创建 PropUse 表\n",
    "cursor.execute(\n",
    "    \"\"\"\n",
    "    CREATE TABLE IF NOT EXISTS PropUse (\n",
    "        UserID BIGINT,\n",
    "        Dates DATETIME);\n",
    "    \"\"\")\n",
    "\n",
    "# 插入数据\n",
    "cursor.execute(\n",
    "    \"\"\"\n",
    "    INSERT INTO PropUse\n",
    "    VALUES\n",
    "        (10001, '2018-06-01 22:10:32'),\n",
    "        (10002, '2018-06-01 14:32:08'),\n",
    "        (10003, '2018-08-01 10:03:55'),\n",
    "        (10004, '2018-06-01 21:32:43'),\n",
    "        (10005, '2018-06-02 23:11:45');\n",
    "    \"\"\"\n",
    "    )\n",
    "\n",
    "# 创建Payment 表\n",
    "cursor.execute(\n",
    "    \"\"\"\n",
    "    CREATE TABLE IF NOT EXISTS Payment(\n",
    "        UserID BIGINT,\n",
    "        Dates DATETIME);\n",
    "    \"\"\"\n",
    "    )\n",
    "\n",
    "# 插入数据\n",
    "cursor.execute(\n",
    "    \"\"\"\n",
    "    INSERT INTO Payment\n",
    "    VALUES\n",
    "        (10001, '2018-06-01 22:10:32'),\n",
    "        (10002, '2018-06-01 23:11:45'),\n",
    "        (10003, '2018-08-10 14:32:08'),\n",
    "        (10043, '2018-06-01 12:12:23'),\n",
    "        (10071, '2018-06-02 12:12:25');\n",
    "    \"\"\"\n",
    "    )\n",
    "\n",
    "conn.commit()"
   ]
  },
  {
   "cell_type": "code",
   "execution_count": 8,
   "metadata": {},
   "outputs": [
    {
     "data": {
      "text/plain": [
       "[(10004, '2018-06-01'), (10005, '2018-06-02')]"
      ]
     },
     "execution_count": 8,
     "metadata": {},
     "output_type": "execute_result"
    }
   ],
   "source": [
    "datas = cursor.execute(\n",
    "            \"\"\"\n",
    "            SELECT UserID,DATE(Dates) FROM PropUse\n",
    "            WHERE \n",
    "                DATE(Dates) BETWEEN '2018-06-01' AND '2018-06-30'\n",
    "            EXCEPT\n",
    "            SELECT UserID,DATE(Dates) FROM Payment\n",
    "            WHERE\n",
    "              DATE(Dates) BETWEEN '2018-06-01' AND '2018-06-30'\n",
    "            \"\"\"\n",
    "        )\n",
    "datas.fetchall()"
   ]
  },
  {
   "cell_type": "code",
   "execution_count": 9,
   "metadata": {},
   "outputs": [],
   "source": [
    "cursor.close()\n",
    "conn.close()"
   ]
  }
 ],
 "metadata": {
  "file_extension": ".py",
  "kernelspec": {
   "display_name": "Python 3",
   "language": "python",
   "name": "python3"
  },
  "language_info": {
   "codemirror_mode": {
    "name": "ipython",
    "version": 3
   },
   "file_extension": ".py",
   "mimetype": "text/x-python",
   "name": "python",
   "nbconvert_exporter": "python",
   "pygments_lexer": "ipython3",
   "version": "3.7.3"
  },
  "mimetype": "text/x-python",
  "name": "python",
  "npconvert_exporter": "python",
  "pygments_lexer": "ipython3",
  "toc": {
   "base_numbering": 1,
   "nav_menu": {},
   "number_sections": true,
   "sideBar": true,
   "skip_h1_title": false,
   "title_cell": "Table of Contents",
   "title_sidebar": "Contents",
   "toc_cell": false,
   "toc_position": {},
   "toc_section_display": true,
   "toc_window_display": false
  },
  "version": 3
 },
 "nbformat": 4,
 "nbformat_minor": 2
}
