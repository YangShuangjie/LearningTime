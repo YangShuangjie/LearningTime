{
 "cells": [
  {
   "cell_type": "code",
   "execution_count": 2,
   "metadata": {},
   "outputs": [],
   "source": [
    "import numpy as np"
   ]
  },
  {
   "cell_type": "code",
   "execution_count": 42,
   "metadata": {},
   "outputs": [
    {
     "data": {
      "text/plain": [
       "array(['green', 'green', 'purple', 'purple', 'purple', 'green', 'green',\n",
       "       'green', 'purple', 'green'], dtype='<U6')"
      ]
     },
     "execution_count": 42,
     "metadata": {},
     "output_type": "execute_result"
    }
   ],
   "source": [
    "humans_with_hats = np.random.choice(['purple','green'],10)\n",
    "humans_with_hats"
   ]
  },
  {
   "cell_type": "code",
   "execution_count": 43,
   "metadata": {},
   "outputs": [
    {
     "name": "stdout",
     "output_type": "stream",
     "text": [
      "human0 => hat_color: green  reply: green\n",
      "human1 => hat_color: green  reply: green\n",
      "human2 => hat_color: purple  reply: purple\n",
      "human3 => hat_color: purple  reply: purple\n",
      "human4 => hat_color: purple  reply: purple\n",
      "human5 => hat_color: green  reply: green\n",
      "human6 => hat_color: green  reply: green\n",
      "human7 => hat_color: green  reply: green\n",
      "human8 => hat_color: purple  reply: purple\n",
      "human9 => hat_color: green  reply: green\n"
     ]
    }
   ],
   "source": [
    "def others_reply(first_reply_color,i=1):\n",
    "    while i<10:\n",
    "        green_hats_num_after = sum(humans_with_hats[i+1:]==first_reply_color)\n",
    "        green_hats_num_before = sum(humans_with_hats[1:i]==first_reply_color)\n",
    "        if first_reply_color=='green':\n",
    "            reply_color = 'purple'\n",
    "            if (green_hats_num_after+green_hats_num_before) % 2 ==1:\n",
    "                print(f'human{i} => hat_color: {humans_with_hats[i]}  reply: {reply_color}')\n",
    "            else:\n",
    "                print(f'human{i} => hat_color: {humans_with_hats[i]}  reply: {first_reply_color}')\n",
    "        \n",
    "        elif first_reply_color == 'purple':\n",
    "            reply_color = 'green'\n",
    "            if (green_hats_num_after+green_hats_num_before) % 2 ==1:\n",
    "                print(f'human{i} => hat_color: {humans_with_hats[i]}  reply: {reply_color}')\n",
    "            else:\n",
    "                print(f'human{i} => hat_color: {humans_with_hats[i]}  reply: {first_reply_color}')            \n",
    "        \n",
    "        return others_reply(first_reply_color,i+1)\n",
    "\n",
    "def humans_reply():\n",
    "    green_hats_num = sum(humans_with_hats[1:]=='green')\n",
    "    if green_hats_num % 2 == 1:\n",
    "        first_reply_color = 'green'\n",
    "        print(f'human{0} => hat_color: {humans_with_hats[0]}  reply: green')\n",
    "        others_reply(first_reply_color,i=1)\n",
    "    else:\n",
    "        first_reply_color = 'purple'\n",
    "        print(f\"human{0} => hat_color: {humans_with_hats[0]}  reply: purple\")\n",
    "        others_reply(first_reply_color,i=1)\n",
    "\n",
    "\n",
    "humans_reply()"
   ]
  },
  {
   "cell_type": "code",
   "execution_count": 45,
   "metadata": {},
   "outputs": [
    {
     "name": "stdout",
     "output_type": "stream",
     "text": [
      "human0 => hat_color: green  reply: green color\n",
      "human1 => hat_color: green  reply: green\n",
      "human2 => hat_color: purple  reply: purple color\n",
      "human3 => hat_color: purple  reply: purple color\n",
      "human4 => hat_color: purple  reply: purple\n",
      "human5 => hat_color: green  reply: green color\n",
      "human6 => hat_color: green  reply: green color\n",
      "human7 => hat_color: green  reply: green\n",
      "human8 => hat_color: purple  reply: purple\n",
      "human9 => hat_color: green  reply: green\n"
     ]
    }
   ],
   "source": [
    "\n",
    "def others_reply(pre_reply_color,i=1):\n",
    "\n",
    "    is_same_color = (len(pre_reply_color.split())==2)\n",
    "    \n",
    "    if i==9:\n",
    "        if is_same_color:\n",
    "            last_human_hat_color = pre_reply_color.split()[0]\n",
    "            print(f'human{i} => hat_color: {humans_with_hats[i]}  reply: {last_human_hat_color}')\n",
    "        else:\n",
    "            if pre_reply_color=='green':\n",
    "                last_human_hat_color = 'purple'\n",
    "            elif pre_reply_color == 'purple':\n",
    "                last_human_hat_color = 'green'\n",
    "            print(f'human{i} => hat_color: {humans_with_hats[i]}  reply: {last_human_hat_color}')\n",
    "\n",
    "\n",
    "    while i<9:\n",
    "        if is_same_color:\n",
    "            current_human_hat_color = pre_reply_color.split()[0]\n",
    "            if humans_with_hats[i+1]==current_human_hat_color:\n",
    "                reply_color = current_human_hat_color + ' color'\n",
    "            else:\n",
    "                reply_color = current_human_hat_color\n",
    "            \n",
    "            print(f'human{i} => hat_color: {humans_with_hats[i]}  reply: {reply_color}')\n",
    "        \n",
    "        else:\n",
    "            if pre_reply_color=='green':\n",
    "                current_human_hat_color = 'purple'\n",
    "            elif pre_reply_color=='purple':\n",
    "                current_human_hat_color = 'green'\n",
    "            \n",
    "            if humans_with_hats[i+1]==current_human_hat_color:\n",
    "                reply_color = current_human_hat_color + ' color'\n",
    "            else:\n",
    "                reply_color = current_human_hat_color\n",
    "\n",
    "            print(f'human{i} => hat_color: {humans_with_hats[i]}  reply: {reply_color}')\n",
    "            \n",
    "    return others_reply(pre_reply_color=reply_color,i=i+1)\n",
    "        \n",
    "\n",
    "def humans_reply():\n",
    "    if humans_with_hats[1]=='green':\n",
    "        print(f'human{0} => hat_color: {humans_with_hats[0]}  reply: green color')\n",
    "        first_reply_color = 'green color'\n",
    "        others_reply(first_reply_color,i=1)\n",
    "    else:\n",
    "        print(f\"human{0} => hat_color: {humans_with_hats[0]}  reply: purple color\")\n",
    "        first_reply_color = 'purple color'        \n",
    "        others_reply(first_reply_color,i=1)\n",
    "\n",
    "\n",
    "humans_reply()"
   ]
  },
  {
   "cell_type": "code",
   "execution_count": null,
   "metadata": {},
   "outputs": [],
   "source": []
  }
 ],
 "metadata": {
  "file_extension": ".py",
  "kernelspec": {
   "display_name": "Python 3",
   "language": "python",
   "name": "python3"
  },
  "language_info": {
   "codemirror_mode": {
    "name": "ipython",
    "version": 3
   },
   "file_extension": ".py",
   "mimetype": "text/x-python",
   "name": "python",
   "nbconvert_exporter": "python",
   "pygments_lexer": "ipython3",
   "version": "3.7.3"
  },
  "mimetype": "text/x-python",
  "name": "python",
  "npconvert_exporter": "python",
  "pygments_lexer": "ipython3",
  "toc": {
   "base_numbering": 1,
   "nav_menu": {},
   "number_sections": true,
   "sideBar": true,
   "skip_h1_title": false,
   "title_cell": "Table of Contents",
   "title_sidebar": "Contents",
   "toc_cell": false,
   "toc_position": {},
   "toc_section_display": true,
   "toc_window_display": false
  },
  "version": 3
 },
 "nbformat": 4,
 "nbformat_minor": 2
}
