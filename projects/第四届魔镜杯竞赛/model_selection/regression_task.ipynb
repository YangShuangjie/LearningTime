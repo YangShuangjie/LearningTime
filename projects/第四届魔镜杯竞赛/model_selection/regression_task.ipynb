{
 "cells": [
  {
   "cell_type": "markdown",
   "metadata": {},
   "source": [
    "# load data "
   ]
  },
  {
   "cell_type": "code",
   "execution_count": 1,
   "metadata": {},
   "outputs": [],
   "source": [
    "import matplotlib.pyplot as plt\n",
    "%matplotlib inline\n",
    "from jupyterthemes import jtplot\n",
    "jtplot.style(theme='gruvboxd')\n",
    "jtplot.style(context='talk', fscale=1.4, spines=False, gridlines='--')\n",
    "jtplot.style(ticks=True, grid=False, figsize=(6.5, 5))\n",
    "\n",
    "import pandas as pd\n",
    "import numpy as np\n",
    "import pickle"
   ]
  },
  {
   "cell_type": "code",
   "execution_count": 2,
   "metadata": {},
   "outputs": [],
   "source": [
    "date_cols = ['reg_mon','auditing_date','due_date']#,'repay_date']\n",
    "train_xy = pd.read_csv(\"../data_preprocess/train_set_nobehavior.csv\",parse_dates = date_cols)\n",
    "\n",
    "train_xy.loc[:,date_cols] = train_xy[date_cols].apply(lambda s: [t.timestamp() for t in s] )"
   ]
  },
  {
   "cell_type": "code",
   "execution_count": 3,
   "metadata": {},
   "outputs": [
    {
     "data": {
      "text/html": [
       "<div>\n",
       "<style scoped>\n",
       "    .dataframe tbody tr th:only-of-type {\n",
       "        vertical-align: middle;\n",
       "    }\n",
       "\n",
       "    .dataframe tbody tr th {\n",
       "        vertical-align: top;\n",
       "    }\n",
       "\n",
       "    .dataframe thead th {\n",
       "        text-align: right;\n",
       "    }\n",
       "</style>\n",
       "<table border=\"1\" class=\"dataframe\">\n",
       "  <thead>\n",
       "    <tr style=\"text-align: right;\">\n",
       "      <th></th>\n",
       "      <th>repay_date</th>\n",
       "      <th>repay_amt</th>\n",
       "      <th>repay_date_delta</th>\n",
       "      <th>y</th>\n",
       "    </tr>\n",
       "  </thead>\n",
       "  <tbody>\n",
       "    <tr>\n",
       "      <th>0</th>\n",
       "      <td>2019-01-11</td>\n",
       "      <td>634.1695</td>\n",
       "      <td>25.0</td>\n",
       "      <td>0</td>\n",
       "    </tr>\n",
       "    <tr>\n",
       "      <th>1</th>\n",
       "      <td>2018-11-04</td>\n",
       "      <td>927.0431</td>\n",
       "      <td>30.0</td>\n",
       "      <td>0</td>\n",
       "    </tr>\n",
       "    <tr>\n",
       "      <th>2</th>\n",
       "      <td>2018-07-06</td>\n",
       "      <td>509.3960</td>\n",
       "      <td>30.0</td>\n",
       "      <td>0</td>\n",
       "    </tr>\n",
       "    <tr>\n",
       "      <th>3</th>\n",
       "      <td>2019-01-08</td>\n",
       "      <td>634.1695</td>\n",
       "      <td>31.0</td>\n",
       "      <td>0</td>\n",
       "    </tr>\n",
       "    <tr>\n",
       "      <th>4</th>\n",
       "      <td>2018-02-11</td>\n",
       "      <td>1013.0686</td>\n",
       "      <td>28.0</td>\n",
       "      <td>0</td>\n",
       "    </tr>\n",
       "  </tbody>\n",
       "</table>\n",
       "</div>"
      ],
      "text/plain": [
       "   repay_date  repay_amt  repay_date_delta  y\n",
       "0  2019-01-11   634.1695              25.0  0\n",
       "1  2018-11-04   927.0431              30.0  0\n",
       "2  2018-07-06   509.3960              30.0  0\n",
       "3  2019-01-08   634.1695              31.0  0\n",
       "4  2018-02-11  1013.0686              28.0  0"
      ]
     },
     "execution_count": 3,
     "metadata": {},
     "output_type": "execute_result"
    }
   ],
   "source": [
    "train_xy['repay_amt'].fillna(0,inplace=True)\n",
    "train_xy['repay_date_delta'].fillna(40,inplace=True)\n",
    "train_xy[['repay_date','repay_amt','repay_date_delta','y']].head()\n",
    "# (train_xy['due_amt']==train_xy['repay_amt']).value_counts()"
   ]
  },
  {
   "cell_type": "code",
   "execution_count": 4,
   "metadata": {},
   "outputs": [],
   "source": [
    "# X = train_xy.drop(['reg_mon','auditing_date','due_date','repay_date','behavior_time','repay_amt','y1'],axis=1)\n",
    "X = train_xy.drop(['repay_date','repay_amt','y','repay_date_delta'],axis=1)\n",
    "y = train_xy[\"repay_date_delta\"]\n",
    "\n",
    "label = train_xy['y']"
   ]
  },
  {
   "cell_type": "code",
   "execution_count": 5,
   "metadata": {},
   "outputs": [],
   "source": [
    "from sklearn.model_selection import train_test_split\n",
    "from sklearn.model_selection import StratifiedKFold\n",
    "\n",
    "train_x,test_x,train_y,test_y = train_test_split(X,y,stratify=label)\n",
    "sfk = StratifiedKFold(n_splits=3,shuffle=True,random_state=111)"
   ]
  },
  {
   "cell_type": "markdown",
   "metadata": {},
   "source": [
    "# define metrics"
   ]
  },
  {
   "cell_type": "code",
   "execution_count": 6,
   "metadata": {},
   "outputs": [],
   "source": [
    "from sklearn.metrics import mean_squared_error,mean_absolute_error,explained_variance_score,r2_score"
   ]
  },
  {
   "cell_type": "code",
   "execution_count": 7,
   "metadata": {},
   "outputs": [],
   "source": [
    "def eval_info(model,y_true,y_pred):\n",
    "    rmse = np.sqrt(mean_squared_error(y_true,y_pred))\n",
    "    mae = mean_absolute_error(y_true,y_pred)\n",
    "    evs = explained_variance_score(y_true,y_pred)\n",
    "    r2 = r2_score(y_true,y_pred)\n",
    "    \n",
    "    print(\"-----the best model eval info-----\\n\",\n",
    "            \"RMSE:{}\\n\".format(rmse),\n",
    "            \"MAE:{}\\n\".format(mae),\n",
    "            \"evs:{}\\n\".format(evs),\n",
    "            \"R2:{}\\n\".format(r2)\n",
    "         )\n",
    "    "
   ]
  },
  {
   "cell_type": "markdown",
   "metadata": {},
   "source": [
    "# single model"
   ]
  },
  {
   "cell_type": "markdown",
   "metadata": {},
   "source": [
    "## Ridge Regression"
   ]
  },
  {
   "cell_type": "code",
   "execution_count": 8,
   "metadata": {
    "deletable": false,
    "editable": false,
    "run_control": {
     "frozen": true
    }
   },
   "outputs": [],
   "source": [
    "from sklearn.linear_model import Ridge\n",
    "from sklearn.model_selection import GridSearchCV"
   ]
  },
  {
   "cell_type": "markdown",
   "metadata": {},
   "source": [
    "### train"
   ]
  },
  {
   "cell_type": "code",
   "execution_count": null,
   "metadata": {
    "deletable": false,
    "editable": false,
    "run_control": {
     "frozen": true
    },
    "scrolled": true
   },
   "outputs": [
    {
     "name": "stderr",
     "output_type": "stream",
     "text": [
      "F:\\Anaconda3\\lib\\site-packages\\sklearn\\linear_model\\ridge.py:112: LinAlgWarning: scipy.linalg.solve\n",
      "Ill-conditioned matrix detected. Result is not guaranteed to be accurate.\n",
      "Reciprocal condition number2.272083e-23\n",
      "  overwrite_a=True).T\n",
      "F:\\Anaconda3\\lib\\site-packages\\sklearn\\linear_model\\ridge.py:112: LinAlgWarning: scipy.linalg.solve\n",
      "Ill-conditioned matrix detected. Result is not guaranteed to be accurate.\n",
      "Reciprocal condition number2.274504e-23\n",
      "  overwrite_a=True).T\n",
      "F:\\Anaconda3\\lib\\site-packages\\sklearn\\linear_model\\ridge.py:112: LinAlgWarning: scipy.linalg.solve\n",
      "Ill-conditioned matrix detected. Result is not guaranteed to be accurate.\n",
      "Reciprocal condition number2.267744e-23\n",
      "  overwrite_a=True).T\n",
      "F:\\Anaconda3\\lib\\site-packages\\sklearn\\linear_model\\ridge.py:112: LinAlgWarning: scipy.linalg.solve\n",
      "Ill-conditioned matrix detected. Result is not guaranteed to be accurate.\n",
      "Reciprocal condition number2.272024e-22\n",
      "  overwrite_a=True).T\n",
      "F:\\Anaconda3\\lib\\site-packages\\sklearn\\linear_model\\ridge.py:112: LinAlgWarning: scipy.linalg.solve\n",
      "Ill-conditioned matrix detected. Result is not guaranteed to be accurate.\n",
      "Reciprocal condition number2.274444e-22\n",
      "  overwrite_a=True).T\n",
      "F:\\Anaconda3\\lib\\site-packages\\sklearn\\linear_model\\ridge.py:112: LinAlgWarning: scipy.linalg.solve\n",
      "Ill-conditioned matrix detected. Result is not guaranteed to be accurate.\n",
      "Reciprocal condition number2.267684e-22\n",
      "  overwrite_a=True).T\n",
      "F:\\Anaconda3\\lib\\site-packages\\sklearn\\linear_model\\ridge.py:112: LinAlgWarning: scipy.linalg.solve\n",
      "Ill-conditioned matrix detected. Result is not guaranteed to be accurate.\n",
      "Reciprocal condition number1.136028e-22\n",
      "  overwrite_a=True).T\n",
      "F:\\Anaconda3\\lib\\site-packages\\sklearn\\linear_model\\ridge.py:112: LinAlgWarning: scipy.linalg.solve\n",
      "Ill-conditioned matrix detected. Result is not guaranteed to be accurate.\n",
      "Reciprocal condition number1.137239e-22\n",
      "  overwrite_a=True).T\n",
      "F:\\Anaconda3\\lib\\site-packages\\sklearn\\linear_model\\ridge.py:112: LinAlgWarning: scipy.linalg.solve\n",
      "Ill-conditioned matrix detected. Result is not guaranteed to be accurate.\n",
      "Reciprocal condition number1.133859e-22\n",
      "  overwrite_a=True).T\n",
      "F:\\Anaconda3\\lib\\site-packages\\sklearn\\linear_model\\ridge.py:112: LinAlgWarning: scipy.linalg.solve\n",
      "Ill-conditioned matrix detected. Result is not guaranteed to be accurate.\n",
      "Reciprocal condition number1.514268e-22\n",
      "  overwrite_a=True).T\n"
     ]
    },
    {
     "name": "stdout",
     "output_type": "stream",
     "text": [
      " best score: -65.192346 \n",
      " best model: Ridge(alpha=0.1, copy_X=True, fit_intercept=True, max_iter=None,\n",
      "   normalize=False, random_state=666, solver='auto', tol=0.001)\n",
      "-----the best model eval info-----\n",
      " RMSE:8.0946771955855\n",
      " MAE:5.262003681229823\n",
      " evs:0.035214200927843886\n",
      " R2:0.03521279174570535\n",
      "\n",
      "model_score: 0.03521279174570535\n",
      "ridge model parameters shape: (69,) \n",
      " count of non-zero elements: 67\n"
     ]
    }
   ],
   "source": [
    "param_grid =  {\n",
    "            'alpha':[0.01,0.1,0.05],\n",
    "#             'max_iter':[350],\n",
    "            'normalize':[False,True],\n",
    "            'random_state':[666],      \n",
    "}\n",
    "\n",
    "Ridge = GridSearchCV(Ridge(),param_grid,cv=sfk,scoring='neg_mean_squared_error')\n",
    "Ridge.fit(train_x,train_y)\n",
    "\n",
    "print(\" best score: %f \\n best model: %s\" % (Ridge.best_score_, Ridge.best_estimator_))\n",
    "\n",
    "Ridge_best = Ridge.best_estimator_\n",
    "y_pred =Ridge_best.predict(test_x)\n",
    "\n",
    "model_score = Ridge_best.score(test_x,test_y)\n",
    "\n",
    "eval_info(Ridge_best,test_y,y_pred)\n",
    "\n",
    "print(\"model_score:\",model_score)\n",
    "\n",
    "print(\"ridge model parameters shape:\",Ridge_best.coef_.shape,\"\\n\",\n",
    "     \"count of non-zero elements:\",np.count_nonzero(Ridge_best.coef_))"
   ]
  },
  {
   "cell_type": "markdown",
   "metadata": {},
   "source": [
    "### save"
   ]
  },
  {
   "cell_type": "code",
   "execution_count": null,
   "metadata": {
    "deletable": false,
    "editable": false,
    "run_control": {
     "frozen": true
    }
   },
   "outputs": [
    {
     "name": "stderr",
     "output_type": "stream",
     "text": [
      "F:\\Anaconda3\\lib\\site-packages\\sklearn\\cross_validation.py:41: DeprecationWarning: This module was deprecated in version 0.18 in favor of the model_selection module into which all the refactored classes and functions are moved. Also note that the interface of the new CV iterators are different from that of this module. This module will be removed in 0.20.\n",
      "  \"This module will be removed in 0.20.\", DeprecationWarning)\n",
      "F:\\Anaconda3\\lib\\site-packages\\sklearn\\linear_model\\ridge.py:112: LinAlgWarning: scipy.linalg.solve\n",
      "Ill-conditioned matrix detected. Result is not guaranteed to be accurate.\n",
      "Reciprocal condition number2.930763e-22\n",
      "  overwrite_a=True).T\n",
      "F:\\Anaconda3\\lib\\site-packages\\sklearn\\linear_model\\ridge.py:112: LinAlgWarning: scipy.linalg.solve\n",
      "Ill-conditioned matrix detected. Result is not guaranteed to be accurate.\n",
      "Reciprocal condition number1.209246e-22\n",
      "  overwrite_a=True).T\n",
      "F:\\Anaconda3\\lib\\site-packages\\sklearn\\linear_model\\ridge.py:112: LinAlgWarning: scipy.linalg.solve\n",
      "Ill-conditioned matrix detected. Result is not guaranteed to be accurate.\n",
      "Reciprocal condition number1.140904e-22\n",
      "  overwrite_a=True).T\n",
      "F:\\Anaconda3\\lib\\site-packages\\sklearn\\linear_model\\ridge.py:112: LinAlgWarning: scipy.linalg.solve\n",
      "Ill-conditioned matrix detected. Result is not guaranteed to be accurate.\n",
      "Reciprocal condition number1.221410e-22\n",
      "  overwrite_a=True).T\n",
      "F:\\Anaconda3\\lib\\site-packages\\sklearn\\linear_model\\ridge.py:112: LinAlgWarning: scipy.linalg.solve\n",
      "Ill-conditioned matrix detected. Result is not guaranteed to be accurate.\n",
      "Reciprocal condition number2.119705e-22\n",
      "  overwrite_a=True).T\n"
     ]
    },
    {
     "name": "stdout",
     "output_type": "stream",
     "text": [
      "mse [-60.20938693 -56.69560705 -62.40126526 -68.40808488 -87.37110052]\n"
     ]
    }
   ],
   "source": [
    "# save model\n",
    "with open(\"../save_models/Ridge.txt\",'wb') as f:\n",
    "    pickle.dump(Ridge_best,f)\n",
    "\n",
    "# cross-validation\n",
    "from sklearn.cross_validation import cross_val_score\n",
    "Ridge_cv_mse = cross_val_score(Ridge_best,X,y,cv=5,scoring=\"neg_mean_squared_error\")\n",
    "print(\"mse\",Ridge_cv_mse)"
   ]
  },
  {
   "cell_type": "markdown",
   "metadata": {},
   "source": [
    "### predict"
   ]
  },
  {
   "cell_type": "code",
   "execution_count": 71,
   "metadata": {
    "deletable": false,
    "editable": false,
    "run_control": {
     "frozen": true
    },
    "scrolled": true
   },
   "outputs": [
    {
     "name": "stdout",
     "output_type": "stream",
     "text": [
      "0    7900\n",
      "1    2100\n",
      "dtype: int64\n"
     ]
    }
   ],
   "source": [
    "# predict\n",
    "test_all = pd.read_csv(\"./another data/test_all_clean.csv\",index_col=['cust_group','cust_id'])\n",
    "y_pred = LR_best.predict(test_all)\n",
    "y_pred_prob = LR_best.predict_proba(test_all)[:,1]\n",
    "\n",
    "print(pd.Series(y_pred).value_counts())\n",
    "pred_result = pd.Series(y_pred_prob,index=test_all.index.get_level_values(level=1),name=\"pred_prob\")\n",
    "pred_result.index.name = \"cust_id\"\n",
    "pred_result.sort_index().to_csv(\"./predict/pred_result_LR.csv\",header=True)"
   ]
  },
  {
   "cell_type": "markdown",
   "metadata": {},
   "source": [
    "## Lasso Regression"
   ]
  },
  {
   "cell_type": "code",
   "execution_count": null,
   "metadata": {
    "deletable": false,
    "editable": false,
    "run_control": {
     "frozen": true
    }
   },
   "outputs": [],
   "source": [
    "from sklearn.linear_model import Lasso\n",
    "from sklearn.model_selection import GridSearchCV"
   ]
  },
  {
   "cell_type": "markdown",
   "metadata": {},
   "source": [
    "### train"
   ]
  },
  {
   "cell_type": "code",
   "execution_count": null,
   "metadata": {
    "deletable": false,
    "editable": false,
    "run_control": {
     "frozen": true
    }
   },
   "outputs": [
    {
     "name": "stderr",
     "output_type": "stream",
     "text": [
      "F:\\Anaconda3\\lib\\site-packages\\sklearn\\linear_model\\coordinate_descent.py:491: ConvergenceWarning: Objective did not converge. You might want to increase the number of iterations. Fitting data with very small alpha may cause precision problems.\n",
      "  ConvergenceWarning)\n",
      "F:\\Anaconda3\\lib\\site-packages\\sklearn\\linear_model\\coordinate_descent.py:491: ConvergenceWarning: Objective did not converge. You might want to increase the number of iterations. Fitting data with very small alpha may cause precision problems.\n",
      "  ConvergenceWarning)\n",
      "F:\\Anaconda3\\lib\\site-packages\\sklearn\\linear_model\\coordinate_descent.py:491: ConvergenceWarning: Objective did not converge. You might want to increase the number of iterations. Fitting data with very small alpha may cause precision problems.\n",
      "  ConvergenceWarning)\n",
      "F:\\Anaconda3\\lib\\site-packages\\sklearn\\linear_model\\coordinate_descent.py:491: ConvergenceWarning: Objective did not converge. You might want to increase the number of iterations. Fitting data with very small alpha may cause precision problems.\n",
      "  ConvergenceWarning)\n",
      "F:\\Anaconda3\\lib\\site-packages\\sklearn\\linear_model\\coordinate_descent.py:491: ConvergenceWarning: Objective did not converge. You might want to increase the number of iterations. Fitting data with very small alpha may cause precision problems.\n",
      "  ConvergenceWarning)\n",
      "F:\\Anaconda3\\lib\\site-packages\\sklearn\\linear_model\\coordinate_descent.py:491: ConvergenceWarning: Objective did not converge. You might want to increase the number of iterations. Fitting data with very small alpha may cause precision problems.\n",
      "  ConvergenceWarning)\n",
      "F:\\Anaconda3\\lib\\site-packages\\sklearn\\linear_model\\coordinate_descent.py:491: ConvergenceWarning: Objective did not converge. You might want to increase the number of iterations. Fitting data with very small alpha may cause precision problems.\n",
      "  ConvergenceWarning)\n",
      "F:\\Anaconda3\\lib\\site-packages\\sklearn\\linear_model\\coordinate_descent.py:491: ConvergenceWarning: Objective did not converge. You might want to increase the number of iterations. Fitting data with very small alpha may cause precision problems.\n",
      "  ConvergenceWarning)\n",
      "F:\\Anaconda3\\lib\\site-packages\\sklearn\\linear_model\\coordinate_descent.py:491: ConvergenceWarning: Objective did not converge. You might want to increase the number of iterations. Fitting data with very small alpha may cause precision problems.\n",
      "  ConvergenceWarning)\n",
      "F:\\Anaconda3\\lib\\site-packages\\sklearn\\linear_model\\coordinate_descent.py:491: ConvergenceWarning: Objective did not converge. You might want to increase the number of iterations. Fitting data with very small alpha may cause precision problems.\n",
      "  ConvergenceWarning)\n"
     ]
    },
    {
     "name": "stdout",
     "output_type": "stream",
     "text": [
      " best score: -65.524395 \n",
      " best model: Lasso(alpha=0.01, copy_X=True, fit_intercept=True, max_iter=1000,\n",
      "   normalize=False, positive=False, precompute=False, random_state=666,\n",
      "   selection='cyclic', tol=0.0001, warm_start=False)\n",
      "-----the best model eval info-----\n",
      " RMSE:8.115536845086618\n",
      " MAE:5.31308284016237\n",
      " evs:0.030236287146416463\n",
      " R2:0.030233951125701153\n",
      "\n",
      "model_score: 0.030233951125701153\n",
      "Lasso model parameters shape: (69,) \n",
      " count of non-zero elements: 29\n"
     ]
    }
   ],
   "source": [
    "param_grid =  {\n",
    "            'alpha':[0.01,0.1,0.05],\n",
    "#             'max_iter':[350],\n",
    "            'normalize':[False],\n",
    "            'positive':[False],\n",
    "            'random_state':[666],      \n",
    "}\n",
    "\n",
    "Lasso = GridSearchCV(Lasso(),param_grid,cv=sfk,scoring='neg_mean_squared_error')\n",
    "Lasso.fit(train_x,train_y)\n",
    "\n",
    "print(\" best score: %f \\n best model: %s\" % (Lasso.best_score_, Lasso.best_estimator_))\n",
    "\n",
    "Lasso_best = Lasso.best_estimator_\n",
    "y_pred =Lasso_best.predict(test_x)\n",
    "\n",
    "model_score = Lasso_best.score(test_x,test_y)\n",
    "\n",
    "eval_info(Lasso_best,test_y,y_pred)\n",
    "\n",
    "print(\"model_score:\",model_score)\n",
    "\n",
    "print(\"Lasso model parameters shape:\",Lasso_best.coef_.shape,\"\\n\",\n",
    "     \"count of non-zero elements:\",np.count_nonzero(Lasso_best.coef_))"
   ]
  },
  {
   "cell_type": "markdown",
   "metadata": {},
   "source": [
    "### save"
   ]
  },
  {
   "cell_type": "code",
   "execution_count": null,
   "metadata": {
    "deletable": false,
    "editable": false,
    "run_control": {
     "frozen": true
    }
   },
   "outputs": [
    {
     "name": "stderr",
     "output_type": "stream",
     "text": [
      "F:\\Anaconda3\\lib\\site-packages\\sklearn\\linear_model\\coordinate_descent.py:491: ConvergenceWarning: Objective did not converge. You might want to increase the number of iterations. Fitting data with very small alpha may cause precision problems.\n",
      "  ConvergenceWarning)\n",
      "F:\\Anaconda3\\lib\\site-packages\\sklearn\\linear_model\\coordinate_descent.py:491: ConvergenceWarning: Objective did not converge. You might want to increase the number of iterations. Fitting data with very small alpha may cause precision problems.\n",
      "  ConvergenceWarning)\n",
      "F:\\Anaconda3\\lib\\site-packages\\sklearn\\linear_model\\coordinate_descent.py:491: ConvergenceWarning: Objective did not converge. You might want to increase the number of iterations. Fitting data with very small alpha may cause precision problems.\n",
      "  ConvergenceWarning)\n",
      "F:\\Anaconda3\\lib\\site-packages\\sklearn\\linear_model\\coordinate_descent.py:491: ConvergenceWarning: Objective did not converge. You might want to increase the number of iterations. Fitting data with very small alpha may cause precision problems.\n",
      "  ConvergenceWarning)\n",
      "F:\\Anaconda3\\lib\\site-packages\\sklearn\\linear_model\\coordinate_descent.py:491: ConvergenceWarning: Objective did not converge. You might want to increase the number of iterations. Fitting data with very small alpha may cause precision problems.\n",
      "  ConvergenceWarning)\n"
     ]
    },
    {
     "name": "stdout",
     "output_type": "stream",
     "text": [
      "mse [-60.19509678 -57.05453651 -62.75714284 -68.76275562 -87.61997556]\n"
     ]
    }
   ],
   "source": [
    "# save model\n",
    "with open(\"../save_models/Lasso.txt\",'wb') as f:\n",
    "    pickle.dump(Lasso_best,f)\n",
    "\n",
    "# cross-validation\n",
    "from sklearn.cross_validation import cross_val_score\n",
    "Lasso_cv_mse = cross_val_score(Lasso_best,X,y,cv=5,scoring=\"neg_mean_squared_error\")\n",
    "print(\"mse\",Lasso_cv_mse)"
   ]
  },
  {
   "cell_type": "markdown",
   "metadata": {},
   "source": [
    "### predict"
   ]
  },
  {
   "cell_type": "markdown",
   "metadata": {},
   "source": [
    "## ElasticNet"
   ]
  },
  {
   "cell_type": "code",
   "execution_count": null,
   "metadata": {
    "deletable": false,
    "editable": false,
    "run_control": {
     "frozen": true
    }
   },
   "outputs": [],
   "source": [
    "from sklearn.linear_model import ElasticNet\n",
    "from sklearn.model_selection import GridSearchCV"
   ]
  },
  {
   "cell_type": "markdown",
   "metadata": {},
   "source": [
    "### train"
   ]
  },
  {
   "cell_type": "code",
   "execution_count": null,
   "metadata": {
    "deletable": false,
    "editable": false,
    "run_control": {
     "frozen": true
    },
    "scrolled": true
   },
   "outputs": [
    {
     "name": "stderr",
     "output_type": "stream",
     "text": [
      "F:\\Anaconda3\\lib\\site-packages\\sklearn\\linear_model\\coordinate_descent.py:491: ConvergenceWarning: Objective did not converge. You might want to increase the number of iterations. Fitting data with very small alpha may cause precision problems.\n",
      "  ConvergenceWarning)\n",
      "F:\\Anaconda3\\lib\\site-packages\\sklearn\\linear_model\\coordinate_descent.py:491: ConvergenceWarning: Objective did not converge. You might want to increase the number of iterations. Fitting data with very small alpha may cause precision problems.\n",
      "  ConvergenceWarning)\n",
      "F:\\Anaconda3\\lib\\site-packages\\sklearn\\linear_model\\coordinate_descent.py:491: ConvergenceWarning: Objective did not converge. You might want to increase the number of iterations. Fitting data with very small alpha may cause precision problems.\n",
      "  ConvergenceWarning)\n",
      "F:\\Anaconda3\\lib\\site-packages\\sklearn\\linear_model\\coordinate_descent.py:491: ConvergenceWarning: Objective did not converge. You might want to increase the number of iterations. Fitting data with very small alpha may cause precision problems.\n",
      "  ConvergenceWarning)\n",
      "F:\\Anaconda3\\lib\\site-packages\\sklearn\\linear_model\\coordinate_descent.py:491: ConvergenceWarning: Objective did not converge. You might want to increase the number of iterations. Fitting data with very small alpha may cause precision problems.\n",
      "  ConvergenceWarning)\n",
      "F:\\Anaconda3\\lib\\site-packages\\sklearn\\linear_model\\coordinate_descent.py:491: ConvergenceWarning: Objective did not converge. You might want to increase the number of iterations. Fitting data with very small alpha may cause precision problems.\n",
      "  ConvergenceWarning)\n",
      "F:\\Anaconda3\\lib\\site-packages\\sklearn\\linear_model\\coordinate_descent.py:491: ConvergenceWarning: Objective did not converge. You might want to increase the number of iterations. Fitting data with very small alpha may cause precision problems.\n",
      "  ConvergenceWarning)\n",
      "F:\\Anaconda3\\lib\\site-packages\\sklearn\\linear_model\\coordinate_descent.py:491: ConvergenceWarning: Objective did not converge. You might want to increase the number of iterations. Fitting data with very small alpha may cause precision problems.\n",
      "  ConvergenceWarning)\n",
      "F:\\Anaconda3\\lib\\site-packages\\sklearn\\linear_model\\coordinate_descent.py:491: ConvergenceWarning: Objective did not converge. You might want to increase the number of iterations. Fitting data with very small alpha may cause precision problems.\n",
      "  ConvergenceWarning)\n",
      "F:\\Anaconda3\\lib\\site-packages\\sklearn\\linear_model\\coordinate_descent.py:491: ConvergenceWarning: Objective did not converge. You might want to increase the number of iterations. Fitting data with very small alpha may cause precision problems.\n",
      "  ConvergenceWarning)\n",
      "F:\\Anaconda3\\lib\\site-packages\\sklearn\\linear_model\\coordinate_descent.py:491: ConvergenceWarning: Objective did not converge. You might want to increase the number of iterations. Fitting data with very small alpha may cause precision problems.\n",
      "  ConvergenceWarning)\n",
      "F:\\Anaconda3\\lib\\site-packages\\sklearn\\linear_model\\coordinate_descent.py:491: ConvergenceWarning: Objective did not converge. You might want to increase the number of iterations. Fitting data with very small alpha may cause precision problems.\n",
      "  ConvergenceWarning)\n",
      "F:\\Anaconda3\\lib\\site-packages\\sklearn\\linear_model\\coordinate_descent.py:491: ConvergenceWarning: Objective did not converge. You might want to increase the number of iterations. Fitting data with very small alpha may cause precision problems.\n",
      "  ConvergenceWarning)\n",
      "F:\\Anaconda3\\lib\\site-packages\\sklearn\\linear_model\\coordinate_descent.py:491: ConvergenceWarning: Objective did not converge. You might want to increase the number of iterations. Fitting data with very small alpha may cause precision problems.\n",
      "  ConvergenceWarning)\n",
      "F:\\Anaconda3\\lib\\site-packages\\sklearn\\linear_model\\coordinate_descent.py:491: ConvergenceWarning: Objective did not converge. You might want to increase the number of iterations. Fitting data with very small alpha may cause precision problems.\n",
      "  ConvergenceWarning)\n",
      "F:\\Anaconda3\\lib\\site-packages\\sklearn\\linear_model\\coordinate_descent.py:491: ConvergenceWarning: Objective did not converge. You might want to increase the number of iterations. Fitting data with very small alpha may cause precision problems.\n",
      "  ConvergenceWarning)\n",
      "F:\\Anaconda3\\lib\\site-packages\\sklearn\\linear_model\\coordinate_descent.py:491: ConvergenceWarning: Objective did not converge. You might want to increase the number of iterations. Fitting data with very small alpha may cause precision problems.\n",
      "  ConvergenceWarning)\n",
      "F:\\Anaconda3\\lib\\site-packages\\sklearn\\linear_model\\coordinate_descent.py:491: ConvergenceWarning: Objective did not converge. You might want to increase the number of iterations. Fitting data with very small alpha may cause precision problems.\n",
      "  ConvergenceWarning)\n",
      "F:\\Anaconda3\\lib\\site-packages\\sklearn\\linear_model\\coordinate_descent.py:491: ConvergenceWarning: Objective did not converge. You might want to increase the number of iterations. Fitting data with very small alpha may cause precision problems.\n",
      "  ConvergenceWarning)\n",
      "F:\\Anaconda3\\lib\\site-packages\\sklearn\\linear_model\\coordinate_descent.py:491: ConvergenceWarning: Objective did not converge. You might want to increase the number of iterations. Fitting data with very small alpha may cause precision problems.\n",
      "  ConvergenceWarning)\n",
      "F:\\Anaconda3\\lib\\site-packages\\sklearn\\linear_model\\coordinate_descent.py:491: ConvergenceWarning: Objective did not converge. You might want to increase the number of iterations. Fitting data with very small alpha may cause precision problems.\n",
      "  ConvergenceWarning)\n",
      "F:\\Anaconda3\\lib\\site-packages\\sklearn\\linear_model\\coordinate_descent.py:491: ConvergenceWarning: Objective did not converge. You might want to increase the number of iterations. Fitting data with very small alpha may cause precision problems.\n",
      "  ConvergenceWarning)\n",
      "F:\\Anaconda3\\lib\\site-packages\\sklearn\\linear_model\\coordinate_descent.py:491: ConvergenceWarning: Objective did not converge. You might want to increase the number of iterations. Fitting data with very small alpha may cause precision problems.\n",
      "  ConvergenceWarning)\n",
      "F:\\Anaconda3\\lib\\site-packages\\sklearn\\linear_model\\coordinate_descent.py:491: ConvergenceWarning: Objective did not converge. You might want to increase the number of iterations. Fitting data with very small alpha may cause precision problems.\n",
      "  ConvergenceWarning)\n",
      "F:\\Anaconda3\\lib\\site-packages\\sklearn\\linear_model\\coordinate_descent.py:491: ConvergenceWarning: Objective did not converge. You might want to increase the number of iterations. Fitting data with very small alpha may cause precision problems.\n",
      "  ConvergenceWarning)\n",
      "F:\\Anaconda3\\lib\\site-packages\\sklearn\\linear_model\\coordinate_descent.py:491: ConvergenceWarning: Objective did not converge. You might want to increase the number of iterations. Fitting data with very small alpha may cause precision problems.\n",
      "  ConvergenceWarning)\n",
      "F:\\Anaconda3\\lib\\site-packages\\sklearn\\linear_model\\coordinate_descent.py:491: ConvergenceWarning: Objective did not converge. You might want to increase the number of iterations. Fitting data with very small alpha may cause precision problems.\n",
      "  ConvergenceWarning)\n",
      "F:\\Anaconda3\\lib\\site-packages\\sklearn\\linear_model\\coordinate_descent.py:491: ConvergenceWarning: Objective did not converge. You might want to increase the number of iterations. Fitting data with very small alpha may cause precision problems.\n",
      "  ConvergenceWarning)\n"
     ]
    },
    {
     "name": "stdout",
     "output_type": "stream",
     "text": [
      " best score: -65.498574 \n",
      " best model: ElasticNet(alpha=0.01, copy_X=True, fit_intercept=True, l1_ratio=0.4,\n",
      "      max_iter=1000, normalize=False, positive=False, precompute=False,\n",
      "      random_state=666, selection='cyclic', tol=0.0001, warm_start=False)\n",
      "-----the best model eval info-----\n",
      " RMSE:8.113619301291553\n",
      " MAE:5.311252280353336\n",
      " evs:0.030694424241311857\n",
      " R2:0.030692170764195836\n",
      "\n",
      "model_score: 0.030692170764195836\n",
      "ElasticNet model parameters shape: (69,) \n",
      " count of non-zero elements: 42\n"
     ]
    }
   ],
   "source": [
    "param_grid =  {\n",
    "            'alpha':[0.01,0.1,0.05],\n",
    "            'l1_ratio':[0.5,0.4,0.6],\n",
    "#             'normalize':[False],\n",
    "            'random_state':[666],      \n",
    "}\n",
    "\n",
    "ElasticNet = GridSearchCV(ElasticNet(),param_grid,cv=sfk,scoring='neg_mean_squared_error')\n",
    "ElasticNet.fit(train_x,train_y)\n",
    "\n",
    "print(\" best score: %f \\n best model: %s\" % (ElasticNet.best_score_, ElasticNet.best_estimator_))\n",
    "\n",
    "ElasticNet_best = ElasticNet.best_estimator_\n",
    "y_pred =ElasticNet_best.predict(test_x)\n",
    "\n",
    "model_score = ElasticNet_best.score(test_x,test_y)\n",
    "\n",
    "eval_info(ElasticNet_best,test_y,y_pred)\n",
    "\n",
    "print(\"model_score:\",model_score)\n",
    "\n",
    "print(\"ElasticNet model parameters shape:\",ElasticNet_best.coef_.shape,\"\\n\",\n",
    "     \"count of non-zero elements:\",np.count_nonzero(ElasticNet_best.coef_))"
   ]
  },
  {
   "cell_type": "markdown",
   "metadata": {},
   "source": [
    "### save"
   ]
  },
  {
   "cell_type": "code",
   "execution_count": null,
   "metadata": {
    "deletable": false,
    "editable": false,
    "run_control": {
     "frozen": true
    }
   },
   "outputs": [
    {
     "name": "stderr",
     "output_type": "stream",
     "text": [
      "F:\\Anaconda3\\lib\\site-packages\\sklearn\\linear_model\\coordinate_descent.py:491: ConvergenceWarning: Objective did not converge. You might want to increase the number of iterations. Fitting data with very small alpha may cause precision problems.\n",
      "  ConvergenceWarning)\n",
      "F:\\Anaconda3\\lib\\site-packages\\sklearn\\linear_model\\coordinate_descent.py:491: ConvergenceWarning: Objective did not converge. You might want to increase the number of iterations. Fitting data with very small alpha may cause precision problems.\n",
      "  ConvergenceWarning)\n",
      "F:\\Anaconda3\\lib\\site-packages\\sklearn\\linear_model\\coordinate_descent.py:491: ConvergenceWarning: Objective did not converge. You might want to increase the number of iterations. Fitting data with very small alpha may cause precision problems.\n",
      "  ConvergenceWarning)\n",
      "F:\\Anaconda3\\lib\\site-packages\\sklearn\\linear_model\\coordinate_descent.py:491: ConvergenceWarning: Objective did not converge. You might want to increase the number of iterations. Fitting data with very small alpha may cause precision problems.\n",
      "  ConvergenceWarning)\n",
      "F:\\Anaconda3\\lib\\site-packages\\sklearn\\linear_model\\coordinate_descent.py:491: ConvergenceWarning: Objective did not converge. You might want to increase the number of iterations. Fitting data with very small alpha may cause precision problems.\n",
      "  ConvergenceWarning)\n"
     ]
    },
    {
     "name": "stdout",
     "output_type": "stream",
     "text": [
      "mse [-60.15594042 -57.02771266 -62.73085505 -68.73341374 -87.59144254]\n"
     ]
    }
   ],
   "source": [
    "# save model\n",
    "with open(\"../save_models/ElasticNet.txt\",'wb') as f:\n",
    "    pickle.dump(ElasticNet_best,f)\n",
    "\n",
    "# cross-validation\n",
    "from sklearn.cross_validation import cross_val_score\n",
    "ElasticNet_cv_mse = cross_val_score(ElasticNet_best,X,y,cv=5,scoring=\"neg_mean_squared_error\")\n",
    "print(\"mse\",ElasticNet_cv_mse)"
   ]
  },
  {
   "cell_type": "markdown",
   "metadata": {},
   "source": [
    "### predict"
   ]
  },
  {
   "cell_type": "markdown",
   "metadata": {},
   "source": [
    "## Decision Tree"
   ]
  },
  {
   "cell_type": "code",
   "execution_count": null,
   "metadata": {
    "deletable": false,
    "editable": false,
    "run_control": {
     "frozen": true
    }
   },
   "outputs": [],
   "source": [
    "from sklearn.tree import DecisionTreeRegressor\n",
    "from sklearn.model_selection import GridSearchCV"
   ]
  },
  {
   "cell_type": "markdown",
   "metadata": {},
   "source": [
    "### train"
   ]
  },
  {
   "cell_type": "code",
   "execution_count": null,
   "metadata": {
    "deletable": false,
    "editable": false,
    "run_control": {
     "frozen": true
    },
    "scrolled": true
   },
   "outputs": [
    {
     "name": "stdout",
     "output_type": "stream",
     "text": [
      " best score: -64.814318 \n",
      " best model: DecisionTreeRegressor(criterion='mse', max_depth=8, max_features=0.6,\n",
      "           max_leaf_nodes=None, min_impurity_decrease=0.0,\n",
      "           min_impurity_split=None, min_samples_leaf=1,\n",
      "           min_samples_split=2, min_weight_fraction_leaf=0.0,\n",
      "           presort=False, random_state=666, splitter='best')\n",
      "-----the best model eval info-----\n",
      " RMSE:8.062899629897997\n",
      " MAE:5.215416854478628\n",
      " evs:0.0427767155355917\n",
      " R2:0.0427729227756074\n",
      "\n",
      "model_score: 0.0427729227756074\n"
     ]
    }
   ],
   "source": [
    "param_grid = {\"criterion\":['mse'],\n",
    "               \"max_depth\":[6,8,10],\n",
    "                'max_features':[0.9,0.6,0.5],\n",
    "#               \"min_impurity_decrease\":[0],\n",
    "#              \"min_samples_split\":[2],\n",
    "#               \"min_samples_leaf\":[1], # 样本量不大不需管\n",
    "#               \"max_leaf_nodes\":[19],\n",
    "#               'min_weight_fraction_leaf':[0.04],\n",
    "              'random_state':[666],\n",
    "             }\n",
    "DTR = GridSearchCV(DecisionTreeRegressor(),param_grid,cv=sfk,scoring='neg_mean_squared_error')\n",
    "DTR.fit(train_x,train_y)\n",
    "\n",
    "\n",
    "print(\" best score: %f \\n best model: %s\" % (DTR.best_score_, DTR.best_estimator_))\n",
    "\n",
    "DTR_best = DTR.best_estimator_\n",
    "y_pred =DTR_best.predict(test_x)\n",
    "\n",
    "model_score = DTR_best.score(test_x,test_y)\n",
    "\n",
    "eval_info(DTR_best,test_y,y_pred)\n",
    "\n",
    "print(\"model_score:\",model_score)"
   ]
  },
  {
   "cell_type": "markdown",
   "metadata": {},
   "source": [
    "### save"
   ]
  },
  {
   "cell_type": "code",
   "execution_count": null,
   "metadata": {
    "deletable": false,
    "editable": false,
    "run_control": {
     "frozen": true
    }
   },
   "outputs": [
    {
     "name": "stdout",
     "output_type": "stream",
     "text": [
      "mse [-52.08488686 -56.62781555 -62.26406619 -68.76635275 -91.47848138]\n"
     ]
    }
   ],
   "source": [
    "# save model\n",
    "with open(\"../save_models/DTR.txt\",'wb') as f:\n",
    "    pickle.dump(DTR_best,f)\n",
    "\n",
    "# cross-validation\n",
    "from sklearn.cross_validation import cross_val_score\n",
    "DTR_cv_mse = cross_val_score(DTR_best,X,y,cv=5,scoring=\"neg_mean_squared_error\")\n",
    "print(\"mse\",DTR_cv_mse)"
   ]
  },
  {
   "cell_type": "markdown",
   "metadata": {},
   "source": [
    "### predict"
   ]
  },
  {
   "cell_type": "code",
   "execution_count": 75,
   "metadata": {
    "deletable": false,
    "editable": false,
    "run_control": {
     "frozen": true
    }
   },
   "outputs": [
    {
     "name": "stdout",
     "output_type": "stream",
     "text": [
      "0    6513\n",
      "1    3487\n",
      "dtype: int64\n"
     ]
    }
   ],
   "source": [
    "# predict\n",
    "test_all = pd.read_csv(\"./another data/test_all_clean.csv\",index_col=['cust_group','cust_id'])\n",
    "y_pred = DT_best.predict(test_all)\n",
    "y_pred_prob = DT_best.predict_proba(test_all)[:,1]\n",
    "\n",
    "print(pd.Series(y_pred).value_counts())\n",
    "pred_result = pd.Series(y_pred_prob,index=test_all.index.get_level_values(level=1),name=\"pred_prob\")\n",
    "pred_result.index.name = \"cust_id\"\n",
    "pred_result.sort_index().to_csv(\"./predict/pred_result_DT.csv\",header=True)"
   ]
  },
  {
   "cell_type": "markdown",
   "metadata": {},
   "source": [
    "## random forest"
   ]
  },
  {
   "cell_type": "code",
   "execution_count": null,
   "metadata": {},
   "outputs": [
    {
     "name": "stderr",
     "output_type": "stream",
     "text": [
      "F:\\Anaconda3\\lib\\site-packages\\sklearn\\ensemble\\weight_boosting.py:29: DeprecationWarning: numpy.core.umath_tests is an internal NumPy module and should not be imported. It will be removed in a future NumPy release.\n",
      "  from numpy.core.umath_tests import inner1d\n"
     ]
    }
   ],
   "source": [
    "from sklearn.ensemble import RandomForestRegressor\n",
    "from sklearn.model_selection import GridSearchCV"
   ]
  },
  {
   "cell_type": "markdown",
   "metadata": {},
   "source": [
    "### train"
   ]
  },
  {
   "cell_type": "code",
   "execution_count": null,
   "metadata": {},
   "outputs": [],
   "source": [
    "param_grid = {\n",
    "            'criterion':['mse'],\n",
    "            'n_estimators':[140,100],\n",
    "#             'max_features':[\"sqrt\"],\n",
    "            'max_depth':[6,5,4],\n",
    "#              \"min_samples_split\":[], # 样本量不大不需管\n",
    "#               \"min_samples_leaf\":[], # 样本量不大不需管\n",
    "#             \"max_leaf_nodes\":[13,15,20],\n",
    "#             'min_impurity_decrease':[0],\n",
    "#             'n_jobs':[-1],\n",
    "            'random_state':[666],\n",
    "             }\n",
    "\n",
    "\n",
    "RFR = GridSearchCV(RandomForestRegressor(),param_grid,cv=sfk,scoring='neg_mean_squared_error')\n",
    "RFR.fit(train_x,train_y)\n",
    "\n",
    "print(\" best score: %f \\n best model: %s\" % (RFR.best_score_, RFR.best_estimator_))\n",
    "\n",
    "\n",
    "RFR_best = RFR.best_estimator_\n",
    "y_pred =RFR_best.predict(test_x)\n",
    "\n",
    "model_score = RFR_best.score(test_x,test_y)\n",
    "\n",
    "eval_info(RFR_best,test_y,y_pred)\n",
    "\n",
    "print(\"model_score:\",model_score)"
   ]
  },
  {
   "cell_type": "markdown",
   "metadata": {},
   "source": [
    "### save"
   ]
  },
  {
   "cell_type": "code",
   "execution_count": null,
   "metadata": {},
   "outputs": [],
   "source": [
    "# save model\n",
    "with open(\"../save_models/RFR.txt\",'wb') as f:\n",
    "    pickle.dump(RFR_best,f)\n",
    "\n",
    "# cross-validation\n",
    "from sklearn.cross_validation import cross_val_score\n",
    "RFR_cv_mse = cross_val_score(RFR_best,X,y,cv=5,scoring=\"neg_mean_squared_error\")\n",
    "print(\"mse\",RFR_cv_mse)"
   ]
  },
  {
   "cell_type": "markdown",
   "metadata": {},
   "source": [
    "### predict"
   ]
  },
  {
   "cell_type": "code",
   "execution_count": 78,
   "metadata": {
    "deletable": false,
    "editable": false,
    "run_control": {
     "frozen": true
    }
   },
   "outputs": [
    {
     "name": "stdout",
     "output_type": "stream",
     "text": [
      "0    7957\n",
      "1    2043\n",
      "dtype: int64\n"
     ]
    }
   ],
   "source": [
    "# predict\n",
    "test_all = pd.read_csv(\"./another data/test_all_clean.csv\",index_col=['cust_group','cust_id'])\n",
    "y_pred = RF_best.predict(test_all)\n",
    "y_pred_prob = RF_best.predict_proba(test_all)[:,1]\n",
    "\n",
    "print(pd.Series(y_pred).value_counts())\n",
    "pred_result = pd.Series(y_pred_prob,index=test_all.index.get_level_values(level=1),name=\"pred_prob\")\n",
    "pred_result.index.name = \"cust_id\"\n",
    "pred_result.sort_index().to_csv(\"./predict/pred_result_RF.csv\",header=True)"
   ]
  },
  {
   "cell_type": "markdown",
   "metadata": {},
   "source": [
    "## extra tree"
   ]
  },
  {
   "cell_type": "code",
   "execution_count": null,
   "metadata": {
    "deletable": false,
    "editable": false,
    "run_control": {
     "frozen": true
    }
   },
   "outputs": [],
   "source": [
    "from sklearn.ensemble import ExtraTreesRegressor\n",
    "from sklearn.model_selection import GridSearchCV"
   ]
  },
  {
   "cell_type": "markdown",
   "metadata": {},
   "source": [
    "### train"
   ]
  },
  {
   "cell_type": "code",
   "execution_count": null,
   "metadata": {
    "deletable": false,
    "editable": false,
    "run_control": {
     "frozen": true
    }
   },
   "outputs": [],
   "source": [
    "param_grid = {\n",
    "            'criterion':['mse'],\n",
    "            'n_estimators':[80,70,60],\n",
    "#             'max_features':[\"sqrt\"],\n",
    "            'max_depth':[7,8,9],\n",
    "#              \"min_samples_split\":[], # 样本量不大不需管\n",
    "#               \"min_samples_leaf\":[], # 样本量不大不需管\n",
    "#             \"max_leaf_nodes\":[13,15,20],\n",
    "#             'min_impurity_decrease':[0],\n",
    "#             'n_jobs':[-1],\n",
    "            'random_state':[666],\n",
    "             }\n",
    "\n",
    "\n",
    "ETR = GridSearchCV(ExtraTreesRegressor(),param_grid,cv=sfk,scoring='neg_mean_squared_error')\n",
    "ETR.fit(train_x,train_y)\n",
    "\n",
    "print(\" best score: %f \\n best model: %s\" % (ETR.best_score_, ETR.best_estimator_))\n",
    "\n",
    "\n",
    "ETR_best = ETR.best_estimator_\n",
    "y_pred =ETR_best.predict(test_x)\n",
    "\n",
    "model_score = ETR_best.score(test_x,test_y)\n",
    "\n",
    "eval_info(ETR_best,test_y,y_pred)\n",
    "\n",
    "print(\"model_score:\",model_score)"
   ]
  },
  {
   "cell_type": "markdown",
   "metadata": {},
   "source": [
    "### save"
   ]
  },
  {
   "cell_type": "code",
   "execution_count": null,
   "metadata": {
    "deletable": false,
    "editable": false,
    "run_control": {
     "frozen": true
    }
   },
   "outputs": [],
   "source": [
    "# save model\n",
    "with open(\"../save_models/ETR.txt\",'wb') as f:\n",
    "    pickle.dump(ETR_best,f)\n",
    "\n",
    "# cross-validation\n",
    "from sklearn.cross_validation import cross_val_score\n",
    "ETR_cv_mse = cross_val_score(ETR_best,X,y,cv=5,scoring=\"neg_mean_squared_error\")\n",
    "print(\"mse\",ETR_cv_mse)"
   ]
  },
  {
   "cell_type": "markdown",
   "metadata": {},
   "source": [
    "### predict"
   ]
  },
  {
   "cell_type": "code",
   "execution_count": 81,
   "metadata": {
    "deletable": false,
    "editable": false,
    "run_control": {
     "frozen": true
    }
   },
   "outputs": [
    {
     "name": "stdout",
     "output_type": "stream",
     "text": [
      "0    7964\n",
      "1    2036\n",
      "dtype: int64\n"
     ]
    }
   ],
   "source": [
    "# predict\n",
    "test_all = pd.read_csv(\"./another data/test_all_clean.csv\",index_col=['cust_group','cust_id'])\n",
    "y_pred = ET_best.predict(test_all)\n",
    "y_pred_prob = ET_best.predict_proba(test_all)[:,1]\n",
    "\n",
    "print(pd.Series(y_pred).value_counts())\n",
    "pred_result = pd.Series(y_pred_prob,index=test_all.index.get_level_values(level=1),name=\"pred_prob\")\n",
    "pred_result.index.name = \"cust_id\"\n",
    "pred_result.sort_index().to_csv(\"./predict/pred_result_ET.csv\",header=True)"
   ]
  },
  {
   "cell_type": "markdown",
   "metadata": {},
   "source": [
    "## xgb-sklearn"
   ]
  },
  {
   "cell_type": "code",
   "execution_count": 8,
   "metadata": {},
   "outputs": [],
   "source": [
    "from xgboost.sklearn import XGBRegressor\n",
    "from sklearn.model_selection import GridSearchCV"
   ]
  },
  {
   "cell_type": "markdown",
   "metadata": {},
   "source": [
    "### train"
   ]
  },
  {
   "cell_type": "code",
   "execution_count": 9,
   "metadata": {
    "scrolled": true
   },
   "outputs": [
    {
     "name": "stderr",
     "output_type": "stream",
     "text": [
      "F:\\Anaconda3\\lib\\site-packages\\xgboost\\core.py:587: FutureWarning: Series.base is deprecated and will be removed in a future version\n",
      "  if getattr(data, 'base', None) is not None and \\\n",
      "F:\\Anaconda3\\lib\\site-packages\\xgboost\\core.py:587: FutureWarning: Series.base is deprecated and will be removed in a future version\n",
      "  if getattr(data, 'base', None) is not None and \\\n",
      "F:\\Anaconda3\\lib\\site-packages\\xgboost\\core.py:587: FutureWarning: Series.base is deprecated and will be removed in a future version\n",
      "  if getattr(data, 'base', None) is not None and \\\n",
      "F:\\Anaconda3\\lib\\site-packages\\xgboost\\core.py:587: FutureWarning: Series.base is deprecated and will be removed in a future version\n",
      "  if getattr(data, 'base', None) is not None and \\\n",
      "F:\\Anaconda3\\lib\\site-packages\\xgboost\\core.py:587: FutureWarning: Series.base is deprecated and will be removed in a future version\n",
      "  if getattr(data, 'base', None) is not None and \\\n",
      "F:\\Anaconda3\\lib\\site-packages\\xgboost\\core.py:587: FutureWarning: Series.base is deprecated and will be removed in a future version\n",
      "  if getattr(data, 'base', None) is not None and \\\n",
      "F:\\Anaconda3\\lib\\site-packages\\xgboost\\core.py:587: FutureWarning: Series.base is deprecated and will be removed in a future version\n",
      "  if getattr(data, 'base', None) is not None and \\\n",
      "F:\\Anaconda3\\lib\\site-packages\\xgboost\\core.py:587: FutureWarning: Series.base is deprecated and will be removed in a future version\n",
      "  if getattr(data, 'base', None) is not None and \\\n",
      "F:\\Anaconda3\\lib\\site-packages\\xgboost\\core.py:587: FutureWarning: Series.base is deprecated and will be removed in a future version\n",
      "  if getattr(data, 'base', None) is not None and \\\n",
      "F:\\Anaconda3\\lib\\site-packages\\xgboost\\core.py:587: FutureWarning: Series.base is deprecated and will be removed in a future version\n",
      "  if getattr(data, 'base', None) is not None and \\\n",
      "F:\\Anaconda3\\lib\\site-packages\\xgboost\\core.py:587: FutureWarning: Series.base is deprecated and will be removed in a future version\n",
      "  if getattr(data, 'base', None) is not None and \\\n",
      "F:\\Anaconda3\\lib\\site-packages\\xgboost\\core.py:587: FutureWarning: Series.base is deprecated and will be removed in a future version\n",
      "  if getattr(data, 'base', None) is not None and \\\n",
      "F:\\Anaconda3\\lib\\site-packages\\xgboost\\core.py:587: FutureWarning: Series.base is deprecated and will be removed in a future version\n",
      "  if getattr(data, 'base', None) is not None and \\\n",
      "F:\\Anaconda3\\lib\\site-packages\\xgboost\\core.py:587: FutureWarning: Series.base is deprecated and will be removed in a future version\n",
      "  if getattr(data, 'base', None) is not None and \\\n",
      "F:\\Anaconda3\\lib\\site-packages\\xgboost\\core.py:587: FutureWarning: Series.base is deprecated and will be removed in a future version\n",
      "  if getattr(data, 'base', None) is not None and \\\n",
      "F:\\Anaconda3\\lib\\site-packages\\xgboost\\core.py:587: FutureWarning: Series.base is deprecated and will be removed in a future version\n",
      "  if getattr(data, 'base', None) is not None and \\\n",
      "F:\\Anaconda3\\lib\\site-packages\\xgboost\\core.py:587: FutureWarning: Series.base is deprecated and will be removed in a future version\n",
      "  if getattr(data, 'base', None) is not None and \\\n",
      "F:\\Anaconda3\\lib\\site-packages\\xgboost\\core.py:587: FutureWarning: Series.base is deprecated and will be removed in a future version\n",
      "  if getattr(data, 'base', None) is not None and \\\n",
      "F:\\Anaconda3\\lib\\site-packages\\xgboost\\core.py:587: FutureWarning: Series.base is deprecated and will be removed in a future version\n",
      "  if getattr(data, 'base', None) is not None and \\\n",
      "F:\\Anaconda3\\lib\\site-packages\\xgboost\\core.py:587: FutureWarning: Series.base is deprecated and will be removed in a future version\n",
      "  if getattr(data, 'base', None) is not None and \\\n",
      "F:\\Anaconda3\\lib\\site-packages\\xgboost\\core.py:587: FutureWarning: Series.base is deprecated and will be removed in a future version\n",
      "  if getattr(data, 'base', None) is not None and \\\n",
      "F:\\Anaconda3\\lib\\site-packages\\xgboost\\core.py:587: FutureWarning: Series.base is deprecated and will be removed in a future version\n",
      "  if getattr(data, 'base', None) is not None and \\\n",
      "F:\\Anaconda3\\lib\\site-packages\\xgboost\\core.py:587: FutureWarning: Series.base is deprecated and will be removed in a future version\n",
      "  if getattr(data, 'base', None) is not None and \\\n",
      "F:\\Anaconda3\\lib\\site-packages\\xgboost\\core.py:587: FutureWarning: Series.base is deprecated and will be removed in a future version\n",
      "  if getattr(data, 'base', None) is not None and \\\n",
      "F:\\Anaconda3\\lib\\site-packages\\xgboost\\core.py:587: FutureWarning: Series.base is deprecated and will be removed in a future version\n",
      "  if getattr(data, 'base', None) is not None and \\\n",
      "F:\\Anaconda3\\lib\\site-packages\\xgboost\\core.py:587: FutureWarning: Series.base is deprecated and will be removed in a future version\n",
      "  if getattr(data, 'base', None) is not None and \\\n",
      "F:\\Anaconda3\\lib\\site-packages\\xgboost\\core.py:587: FutureWarning: Series.base is deprecated and will be removed in a future version\n",
      "  if getattr(data, 'base', None) is not None and \\\n",
      "F:\\Anaconda3\\lib\\site-packages\\xgboost\\core.py:587: FutureWarning: Series.base is deprecated and will be removed in a future version\n",
      "  if getattr(data, 'base', None) is not None and \\\n",
      "F:\\Anaconda3\\lib\\site-packages\\xgboost\\core.py:587: FutureWarning: Series.base is deprecated and will be removed in a future version\n",
      "  if getattr(data, 'base', None) is not None and \\\n",
      "F:\\Anaconda3\\lib\\site-packages\\xgboost\\core.py:587: FutureWarning: Series.base is deprecated and will be removed in a future version\n",
      "  if getattr(data, 'base', None) is not None and \\\n",
      "F:\\Anaconda3\\lib\\site-packages\\xgboost\\core.py:587: FutureWarning: Series.base is deprecated and will be removed in a future version\n",
      "  if getattr(data, 'base', None) is not None and \\\n",
      "F:\\Anaconda3\\lib\\site-packages\\xgboost\\core.py:587: FutureWarning: Series.base is deprecated and will be removed in a future version\n",
      "  if getattr(data, 'base', None) is not None and \\\n",
      "F:\\Anaconda3\\lib\\site-packages\\xgboost\\core.py:587: FutureWarning: Series.base is deprecated and will be removed in a future version\n",
      "  if getattr(data, 'base', None) is not None and \\\n",
      "F:\\Anaconda3\\lib\\site-packages\\xgboost\\core.py:587: FutureWarning: Series.base is deprecated and will be removed in a future version\n",
      "  if getattr(data, 'base', None) is not None and \\\n",
      "F:\\Anaconda3\\lib\\site-packages\\xgboost\\core.py:587: FutureWarning: Series.base is deprecated and will be removed in a future version\n",
      "  if getattr(data, 'base', None) is not None and \\\n",
      "F:\\Anaconda3\\lib\\site-packages\\xgboost\\core.py:587: FutureWarning: Series.base is deprecated and will be removed in a future version\n",
      "  if getattr(data, 'base', None) is not None and \\\n",
      "F:\\Anaconda3\\lib\\site-packages\\xgboost\\core.py:587: FutureWarning: Series.base is deprecated and will be removed in a future version\n",
      "  if getattr(data, 'base', None) is not None and \\\n",
      "F:\\Anaconda3\\lib\\site-packages\\xgboost\\core.py:587: FutureWarning: Series.base is deprecated and will be removed in a future version\n",
      "  if getattr(data, 'base', None) is not None and \\\n",
      "F:\\Anaconda3\\lib\\site-packages\\xgboost\\core.py:587: FutureWarning: Series.base is deprecated and will be removed in a future version\n",
      "  if getattr(data, 'base', None) is not None and \\\n",
      "F:\\Anaconda3\\lib\\site-packages\\xgboost\\core.py:587: FutureWarning: Series.base is deprecated and will be removed in a future version\n",
      "  if getattr(data, 'base', None) is not None and \\\n",
      "F:\\Anaconda3\\lib\\site-packages\\xgboost\\core.py:587: FutureWarning: Series.base is deprecated and will be removed in a future version\n",
      "  if getattr(data, 'base', None) is not None and \\\n",
      "F:\\Anaconda3\\lib\\site-packages\\xgboost\\core.py:587: FutureWarning: Series.base is deprecated and will be removed in a future version\n",
      "  if getattr(data, 'base', None) is not None and \\\n",
      "F:\\Anaconda3\\lib\\site-packages\\xgboost\\core.py:587: FutureWarning: Series.base is deprecated and will be removed in a future version\n",
      "  if getattr(data, 'base', None) is not None and \\\n",
      "F:\\Anaconda3\\lib\\site-packages\\xgboost\\core.py:587: FutureWarning: Series.base is deprecated and will be removed in a future version\n",
      "  if getattr(data, 'base', None) is not None and \\\n",
      "F:\\Anaconda3\\lib\\site-packages\\xgboost\\core.py:587: FutureWarning: Series.base is deprecated and will be removed in a future version\n",
      "  if getattr(data, 'base', None) is not None and \\\n"
     ]
    },
    {
     "name": "stderr",
     "output_type": "stream",
     "text": [
      "F:\\Anaconda3\\lib\\site-packages\\xgboost\\core.py:587: FutureWarning: Series.base is deprecated and will be removed in a future version\n",
      "  if getattr(data, 'base', None) is not None and \\\n",
      "F:\\Anaconda3\\lib\\site-packages\\xgboost\\core.py:587: FutureWarning: Series.base is deprecated and will be removed in a future version\n",
      "  if getattr(data, 'base', None) is not None and \\\n",
      "F:\\Anaconda3\\lib\\site-packages\\xgboost\\core.py:587: FutureWarning: Series.base is deprecated and will be removed in a future version\n",
      "  if getattr(data, 'base', None) is not None and \\\n",
      "F:\\Anaconda3\\lib\\site-packages\\xgboost\\core.py:587: FutureWarning: Series.base is deprecated and will be removed in a future version\n",
      "  if getattr(data, 'base', None) is not None and \\\n",
      "F:\\Anaconda3\\lib\\site-packages\\xgboost\\core.py:587: FutureWarning: Series.base is deprecated and will be removed in a future version\n",
      "  if getattr(data, 'base', None) is not None and \\\n",
      "F:\\Anaconda3\\lib\\site-packages\\xgboost\\core.py:587: FutureWarning: Series.base is deprecated and will be removed in a future version\n",
      "  if getattr(data, 'base', None) is not None and \\\n",
      "F:\\Anaconda3\\lib\\site-packages\\xgboost\\core.py:587: FutureWarning: Series.base is deprecated and will be removed in a future version\n",
      "  if getattr(data, 'base', None) is not None and \\\n",
      "F:\\Anaconda3\\lib\\site-packages\\xgboost\\core.py:587: FutureWarning: Series.base is deprecated and will be removed in a future version\n",
      "  if getattr(data, 'base', None) is not None and \\\n",
      "F:\\Anaconda3\\lib\\site-packages\\xgboost\\core.py:587: FutureWarning: Series.base is deprecated and will be removed in a future version\n",
      "  if getattr(data, 'base', None) is not None and \\\n",
      "F:\\Anaconda3\\lib\\site-packages\\xgboost\\core.py:587: FutureWarning: Series.base is deprecated and will be removed in a future version\n",
      "  if getattr(data, 'base', None) is not None and \\\n",
      "F:\\Anaconda3\\lib\\site-packages\\xgboost\\core.py:587: FutureWarning: Series.base is deprecated and will be removed in a future version\n",
      "  if getattr(data, 'base', None) is not None and \\\n",
      "F:\\Anaconda3\\lib\\site-packages\\xgboost\\core.py:587: FutureWarning: Series.base is deprecated and will be removed in a future version\n",
      "  if getattr(data, 'base', None) is not None and \\\n",
      "F:\\Anaconda3\\lib\\site-packages\\xgboost\\core.py:587: FutureWarning: Series.base is deprecated and will be removed in a future version\n",
      "  if getattr(data, 'base', None) is not None and \\\n",
      "F:\\Anaconda3\\lib\\site-packages\\xgboost\\core.py:587: FutureWarning: Series.base is deprecated and will be removed in a future version\n",
      "  if getattr(data, 'base', None) is not None and \\\n",
      "F:\\Anaconda3\\lib\\site-packages\\xgboost\\core.py:587: FutureWarning: Series.base is deprecated and will be removed in a future version\n",
      "  if getattr(data, 'base', None) is not None and \\\n",
      "F:\\Anaconda3\\lib\\site-packages\\xgboost\\core.py:587: FutureWarning: Series.base is deprecated and will be removed in a future version\n",
      "  if getattr(data, 'base', None) is not None and \\\n",
      "F:\\Anaconda3\\lib\\site-packages\\xgboost\\core.py:587: FutureWarning: Series.base is deprecated and will be removed in a future version\n",
      "  if getattr(data, 'base', None) is not None and \\\n",
      "F:\\Anaconda3\\lib\\site-packages\\xgboost\\core.py:587: FutureWarning: Series.base is deprecated and will be removed in a future version\n",
      "  if getattr(data, 'base', None) is not None and \\\n",
      "F:\\Anaconda3\\lib\\site-packages\\xgboost\\core.py:587: FutureWarning: Series.base is deprecated and will be removed in a future version\n",
      "  if getattr(data, 'base', None) is not None and \\\n",
      "F:\\Anaconda3\\lib\\site-packages\\xgboost\\core.py:587: FutureWarning: Series.base is deprecated and will be removed in a future version\n",
      "  if getattr(data, 'base', None) is not None and \\\n",
      "F:\\Anaconda3\\lib\\site-packages\\xgboost\\core.py:587: FutureWarning: Series.base is deprecated and will be removed in a future version\n",
      "  if getattr(data, 'base', None) is not None and \\\n",
      "F:\\Anaconda3\\lib\\site-packages\\xgboost\\core.py:587: FutureWarning: Series.base is deprecated and will be removed in a future version\n",
      "  if getattr(data, 'base', None) is not None and \\\n",
      "F:\\Anaconda3\\lib\\site-packages\\xgboost\\core.py:587: FutureWarning: Series.base is deprecated and will be removed in a future version\n",
      "  if getattr(data, 'base', None) is not None and \\\n",
      "F:\\Anaconda3\\lib\\site-packages\\xgboost\\core.py:587: FutureWarning: Series.base is deprecated and will be removed in a future version\n",
      "  if getattr(data, 'base', None) is not None and \\\n",
      "F:\\Anaconda3\\lib\\site-packages\\xgboost\\core.py:587: FutureWarning: Series.base is deprecated and will be removed in a future version\n",
      "  if getattr(data, 'base', None) is not None and \\\n",
      "F:\\Anaconda3\\lib\\site-packages\\xgboost\\core.py:587: FutureWarning: Series.base is deprecated and will be removed in a future version\n",
      "  if getattr(data, 'base', None) is not None and \\\n",
      "F:\\Anaconda3\\lib\\site-packages\\xgboost\\core.py:587: FutureWarning: Series.base is deprecated and will be removed in a future version\n",
      "  if getattr(data, 'base', None) is not None and \\\n",
      "F:\\Anaconda3\\lib\\site-packages\\xgboost\\core.py:587: FutureWarning: Series.base is deprecated and will be removed in a future version\n",
      "  if getattr(data, 'base', None) is not None and \\\n",
      "F:\\Anaconda3\\lib\\site-packages\\xgboost\\core.py:587: FutureWarning: Series.base is deprecated and will be removed in a future version\n",
      "  if getattr(data, 'base', None) is not None and \\\n",
      "F:\\Anaconda3\\lib\\site-packages\\xgboost\\core.py:587: FutureWarning: Series.base is deprecated and will be removed in a future version\n",
      "  if getattr(data, 'base', None) is not None and \\\n",
      "F:\\Anaconda3\\lib\\site-packages\\xgboost\\core.py:587: FutureWarning: Series.base is deprecated and will be removed in a future version\n",
      "  if getattr(data, 'base', None) is not None and \\\n",
      "F:\\Anaconda3\\lib\\site-packages\\xgboost\\core.py:587: FutureWarning: Series.base is deprecated and will be removed in a future version\n",
      "  if getattr(data, 'base', None) is not None and \\\n",
      "F:\\Anaconda3\\lib\\site-packages\\xgboost\\core.py:587: FutureWarning: Series.base is deprecated and will be removed in a future version\n",
      "  if getattr(data, 'base', None) is not None and \\\n",
      "F:\\Anaconda3\\lib\\site-packages\\xgboost\\core.py:587: FutureWarning: Series.base is deprecated and will be removed in a future version\n",
      "  if getattr(data, 'base', None) is not None and \\\n",
      "F:\\Anaconda3\\lib\\site-packages\\xgboost\\core.py:587: FutureWarning: Series.base is deprecated and will be removed in a future version\n",
      "  if getattr(data, 'base', None) is not None and \\\n",
      "F:\\Anaconda3\\lib\\site-packages\\xgboost\\core.py:587: FutureWarning: Series.base is deprecated and will be removed in a future version\n",
      "  if getattr(data, 'base', None) is not None and \\\n",
      "F:\\Anaconda3\\lib\\site-packages\\xgboost\\core.py:587: FutureWarning: Series.base is deprecated and will be removed in a future version\n",
      "  if getattr(data, 'base', None) is not None and \\\n",
      "F:\\Anaconda3\\lib\\site-packages\\xgboost\\core.py:587: FutureWarning: Series.base is deprecated and will be removed in a future version\n",
      "  if getattr(data, 'base', None) is not None and \\\n",
      "F:\\Anaconda3\\lib\\site-packages\\xgboost\\core.py:587: FutureWarning: Series.base is deprecated and will be removed in a future version\n",
      "  if getattr(data, 'base', None) is not None and \\\n",
      "F:\\Anaconda3\\lib\\site-packages\\xgboost\\core.py:587: FutureWarning: Series.base is deprecated and will be removed in a future version\n",
      "  if getattr(data, 'base', None) is not None and \\\n",
      "F:\\Anaconda3\\lib\\site-packages\\xgboost\\core.py:587: FutureWarning: Series.base is deprecated and will be removed in a future version\n",
      "  if getattr(data, 'base', None) is not None and \\\n",
      "F:\\Anaconda3\\lib\\site-packages\\xgboost\\core.py:587: FutureWarning: Series.base is deprecated and will be removed in a future version\n",
      "  if getattr(data, 'base', None) is not None and \\\n",
      "F:\\Anaconda3\\lib\\site-packages\\xgboost\\core.py:587: FutureWarning: Series.base is deprecated and will be removed in a future version\n",
      "  if getattr(data, 'base', None) is not None and \\\n",
      "F:\\Anaconda3\\lib\\site-packages\\xgboost\\core.py:587: FutureWarning: Series.base is deprecated and will be removed in a future version\n",
      "  if getattr(data, 'base', None) is not None and \\\n",
      "F:\\Anaconda3\\lib\\site-packages\\xgboost\\core.py:587: FutureWarning: Series.base is deprecated and will be removed in a future version\n",
      "  if getattr(data, 'base', None) is not None and \\\n"
     ]
    },
    {
     "name": "stderr",
     "output_type": "stream",
     "text": [
      "F:\\Anaconda3\\lib\\site-packages\\xgboost\\core.py:587: FutureWarning: Series.base is deprecated and will be removed in a future version\n",
      "  if getattr(data, 'base', None) is not None and \\\n",
      "F:\\Anaconda3\\lib\\site-packages\\xgboost\\core.py:587: FutureWarning: Series.base is deprecated and will be removed in a future version\n",
      "  if getattr(data, 'base', None) is not None and \\\n",
      "F:\\Anaconda3\\lib\\site-packages\\xgboost\\core.py:587: FutureWarning: Series.base is deprecated and will be removed in a future version\n",
      "  if getattr(data, 'base', None) is not None and \\\n",
      "F:\\Anaconda3\\lib\\site-packages\\xgboost\\core.py:587: FutureWarning: Series.base is deprecated and will be removed in a future version\n",
      "  if getattr(data, 'base', None) is not None and \\\n",
      "F:\\Anaconda3\\lib\\site-packages\\xgboost\\core.py:587: FutureWarning: Series.base is deprecated and will be removed in a future version\n",
      "  if getattr(data, 'base', None) is not None and \\\n",
      "F:\\Anaconda3\\lib\\site-packages\\xgboost\\core.py:587: FutureWarning: Series.base is deprecated and will be removed in a future version\n",
      "  if getattr(data, 'base', None) is not None and \\\n",
      "F:\\Anaconda3\\lib\\site-packages\\xgboost\\core.py:587: FutureWarning: Series.base is deprecated and will be removed in a future version\n",
      "  if getattr(data, 'base', None) is not None and \\\n",
      "F:\\Anaconda3\\lib\\site-packages\\xgboost\\core.py:587: FutureWarning: Series.base is deprecated and will be removed in a future version\n",
      "  if getattr(data, 'base', None) is not None and \\\n",
      "F:\\Anaconda3\\lib\\site-packages\\xgboost\\core.py:587: FutureWarning: Series.base is deprecated and will be removed in a future version\n",
      "  if getattr(data, 'base', None) is not None and \\\n",
      "F:\\Anaconda3\\lib\\site-packages\\xgboost\\core.py:587: FutureWarning: Series.base is deprecated and will be removed in a future version\n",
      "  if getattr(data, 'base', None) is not None and \\\n",
      "F:\\Anaconda3\\lib\\site-packages\\xgboost\\core.py:587: FutureWarning: Series.base is deprecated and will be removed in a future version\n",
      "  if getattr(data, 'base', None) is not None and \\\n",
      "F:\\Anaconda3\\lib\\site-packages\\xgboost\\core.py:587: FutureWarning: Series.base is deprecated and will be removed in a future version\n",
      "  if getattr(data, 'base', None) is not None and \\\n",
      "F:\\Anaconda3\\lib\\site-packages\\xgboost\\core.py:587: FutureWarning: Series.base is deprecated and will be removed in a future version\n",
      "  if getattr(data, 'base', None) is not None and \\\n",
      "F:\\Anaconda3\\lib\\site-packages\\xgboost\\core.py:587: FutureWarning: Series.base is deprecated and will be removed in a future version\n",
      "  if getattr(data, 'base', None) is not None and \\\n",
      "F:\\Anaconda3\\lib\\site-packages\\xgboost\\core.py:587: FutureWarning: Series.base is deprecated and will be removed in a future version\n",
      "  if getattr(data, 'base', None) is not None and \\\n",
      "F:\\Anaconda3\\lib\\site-packages\\xgboost\\core.py:587: FutureWarning: Series.base is deprecated and will be removed in a future version\n",
      "  if getattr(data, 'base', None) is not None and \\\n",
      "F:\\Anaconda3\\lib\\site-packages\\xgboost\\core.py:587: FutureWarning: Series.base is deprecated and will be removed in a future version\n",
      "  if getattr(data, 'base', None) is not None and \\\n",
      "F:\\Anaconda3\\lib\\site-packages\\xgboost\\core.py:587: FutureWarning: Series.base is deprecated and will be removed in a future version\n",
      "  if getattr(data, 'base', None) is not None and \\\n",
      "F:\\Anaconda3\\lib\\site-packages\\xgboost\\core.py:587: FutureWarning: Series.base is deprecated and will be removed in a future version\n",
      "  if getattr(data, 'base', None) is not None and \\\n"
     ]
    },
    {
     "name": "stdout",
     "output_type": "stream",
     "text": [
      " best score: -63.990075 \n",
      " best model: XGBRegressor(base_score=0.5, booster='gbtree', colsample_bylevel=1,\n",
      "       colsample_bynode=1, colsample_bytree=0.6, eval_metric='rmse',\n",
      "       gamma=0.05, importance_type='gain', learning_rate=0.05,\n",
      "       max_delta_step=0, max_depth=5, min_child_weight=5, missing=-1,\n",
      "       n_estimators=145, n_jobs=1, nthread=None, objective='reg:linear',\n",
      "       random_state=0, reg_alpha=7, reg_lambda=5, scale_pos_weight=1,\n",
      "       seed=666, silent=True, subsample=0.8, verbosity=1)\n",
      "-----the best model eval info-----\n",
      " RMSE:7.980926680530203\n",
      " MAE:5.159998032482286\n",
      " evs:0.056221225090230864\n",
      " R2:0.05620270878098388\n",
      "\n",
      "model_score: 0.05620270878098388\n"
     ]
    }
   ],
   "source": [
    "param_grid = {\n",
    "    'booster':['gbtree','gblinear'],\n",
    "    'objective': ['reg:linear'], # multi:softmax multi:softprob reg:linear\n",
    "    'eval_metric':['rmse'],\n",
    "    'n_estimators':[145,80,100],\n",
    "    'max_depth':[3,4,5],\n",
    "    'learning_rate':[0.05,0.01],\n",
    "    'min_child_weight':[5],\n",
    "    'gamma':[0.05],\n",
    "    'subsample': [0.8],\n",
    "    'colsample_bytree': [0.6],\n",
    "    'reg_alpha': [7],\n",
    "    'reg_lambda': [5],\n",
    "#     'scale_pos_weight':[float(len(train_y)-sum(train_y))/float(sum(train_y))],\n",
    "    'random_state':[0],\n",
    "#     'n_jobs': [-1],\n",
    "    'missing': [-1],\n",
    "    'silent':[True],\n",
    "    'seed':[666],\n",
    "}\n",
    "\n",
    "XGBR = GridSearchCV(XGBRegressor(),param_grid,cv=sfk,scoring='neg_mean_squared_error')\n",
    "XGBR.fit(train_x,train_y)\n",
    "\n",
    "print(\" best score: %f \\n best model: %s\" % (XGBR.best_score_, XGBR.best_estimator_))\n",
    "\n",
    "\n",
    "XGBR_best = XGBR.best_estimator_\n",
    "y_pred =XGBR_best.predict(test_x)\n",
    "\n",
    "model_score = XGBR_best.score(test_x,test_y)\n",
    "\n",
    "eval_info(XGBR_best,test_y,y_pred)\n",
    "\n",
    "print(\"model_score:\",model_score)"
   ]
  },
  {
   "cell_type": "markdown",
   "metadata": {},
   "source": [
    "### save"
   ]
  },
  {
   "cell_type": "code",
   "execution_count": 10,
   "metadata": {},
   "outputs": [
    {
     "name": "stderr",
     "output_type": "stream",
     "text": [
      "F:\\Anaconda3\\lib\\site-packages\\sklearn\\cross_validation.py:41: DeprecationWarning: This module was deprecated in version 0.18 in favor of the model_selection module into which all the refactored classes and functions are moved. Also note that the interface of the new CV iterators are different from that of this module. This module will be removed in 0.20.\n",
      "  \"This module will be removed in 0.20.\", DeprecationWarning)\n",
      "F:\\Anaconda3\\lib\\site-packages\\xgboost\\core.py:587: FutureWarning: Series.base is deprecated and will be removed in a future version\n",
      "  if getattr(data, 'base', None) is not None and \\\n",
      "F:\\Anaconda3\\lib\\site-packages\\xgboost\\core.py:587: FutureWarning: Series.base is deprecated and will be removed in a future version\n",
      "  if getattr(data, 'base', None) is not None and \\\n",
      "F:\\Anaconda3\\lib\\site-packages\\xgboost\\core.py:587: FutureWarning: Series.base is deprecated and will be removed in a future version\n",
      "  if getattr(data, 'base', None) is not None and \\\n",
      "F:\\Anaconda3\\lib\\site-packages\\xgboost\\core.py:587: FutureWarning: Series.base is deprecated and will be removed in a future version\n",
      "  if getattr(data, 'base', None) is not None and \\\n",
      "F:\\Anaconda3\\lib\\site-packages\\xgboost\\core.py:587: FutureWarning: Series.base is deprecated and will be removed in a future version\n",
      "  if getattr(data, 'base', None) is not None and \\\n"
     ]
    },
    {
     "name": "stdout",
     "output_type": "stream",
     "text": [
      "mse [-51.52555227 -55.92811671 -61.62595741 -67.24877421 -86.36587775]\n"
     ]
    }
   ],
   "source": [
    "# save model\n",
    "with open(\"../save_models/XGBR.txt\",'wb') as f:\n",
    "    pickle.dump(XGBR_best,f)\n",
    "\n",
    "# cross-validation\n",
    "from sklearn.cross_validation import cross_val_score\n",
    "XGBR_cv_mse = cross_val_score(XGBR_best,X,y,cv=5,scoring=\"neg_mean_squared_error\")\n",
    "print(\"mse\",XGBR_cv_mse)"
   ]
  },
  {
   "cell_type": "markdown",
   "metadata": {},
   "source": [
    "### predict"
   ]
  },
  {
   "cell_type": "code",
   "execution_count": 86,
   "metadata": {
    "deletable": false,
    "editable": false,
    "run_control": {
     "frozen": true
    }
   },
   "outputs": [
    {
     "name": "stdout",
     "output_type": "stream",
     "text": [
      "0    9004\n",
      "1     996\n",
      "dtype: int64\n"
     ]
    },
    {
     "name": "stderr",
     "output_type": "stream",
     "text": [
      "F:\\Anaconda3\\lib\\site-packages\\sklearn\\preprocessing\\label.py:151: DeprecationWarning: The truth value of an empty array is ambiguous. Returning False, but in future this will result in an error. Use `array.size > 0` to check that an array is not empty.\n",
      "  if diff:\n"
     ]
    }
   ],
   "source": [
    "# predict\n",
    "test_all = pd.read_csv(\"./another data/test_all_clean.csv\",index_col=['cust_group','cust_id'])\n",
    "y_pred = XGB_best.predict(test_all)\n",
    "y_pred_prob = XGB_best.predict_proba(test_all)[:,1]\n",
    "\n",
    "print(pd.Series(y_pred).value_counts())\n",
    "pred_result = pd.Series(y_pred_prob,index=test_all.index.get_level_values(level=1),name=\"pred_prob\")\n",
    "pred_result.index.name = \"cust_id\"\n",
    "pred_result.sort_index().to_csv(\"./predict/pred_result_XGB.csv\",header=True)"
   ]
  },
  {
   "cell_type": "markdown",
   "metadata": {},
   "source": [
    "## xgb:raw interface"
   ]
  },
  {
   "cell_type": "markdown",
   "metadata": {},
   "source": [
    "### train"
   ]
  },
  {
   "cell_type": "code",
   "execution_count": 65,
   "metadata": {
    "scrolled": true
   },
   "outputs": [
    {
     "name": "stderr",
     "output_type": "stream",
     "text": [
      "F:\\Anaconda3\\lib\\site-packages\\xgboost\\core.py:587: FutureWarning: Series.base is deprecated and will be removed in a future version\n",
      "  if getattr(data, 'base', None) is not None and \\\n"
     ]
    },
    {
     "name": "stdout",
     "output_type": "stream",
     "text": [
      "[0]\ttrain-rmse:28.3582\n",
      "Will train until train-rmse hasn't improved in 1500 rounds.\n",
      "[20]\ttrain-rmse:23.6533\n",
      "[40]\ttrain-rmse:19.893\n",
      "[60]\ttrain-rmse:16.9159\n",
      "[80]\ttrain-rmse:14.5871\n",
      "[100]\ttrain-rmse:12.7935\n",
      "[120]\ttrain-rmse:11.4362\n",
      "[140]\ttrain-rmse:10.4287\n",
      "[160]\ttrain-rmse:9.69563\n",
      "[180]\ttrain-rmse:9.17096\n",
      "[200]\ttrain-rmse:8.80137\n",
      "[220]\ttrain-rmse:8.54382\n",
      "[240]\ttrain-rmse:8.36647\n",
      "[260]\ttrain-rmse:8.24449\n",
      "[280]\ttrain-rmse:8.16109\n",
      "[300]\ttrain-rmse:8.10377\n",
      "[320]\ttrain-rmse:8.06468\n",
      "[340]\ttrain-rmse:8.03744\n",
      "[360]\ttrain-rmse:8.01831\n",
      "[380]\ttrain-rmse:8.00476\n",
      "[400]\ttrain-rmse:7.99512\n",
      "[420]\ttrain-rmse:7.98803\n",
      "[440]\ttrain-rmse:7.98264\n",
      "[460]\ttrain-rmse:7.97857\n",
      "[480]\ttrain-rmse:7.97529\n",
      "[500]\ttrain-rmse:7.97255\n",
      "[520]\ttrain-rmse:7.97016\n",
      "[540]\ttrain-rmse:7.96808\n",
      "[560]\ttrain-rmse:7.96619\n",
      "[580]\ttrain-rmse:7.96451\n",
      "[600]\ttrain-rmse:7.96298\n",
      "[620]\ttrain-rmse:7.9614\n",
      "[640]\ttrain-rmse:7.96007\n",
      "[660]\ttrain-rmse:7.9587\n",
      "[680]\ttrain-rmse:7.95747\n",
      "[700]\ttrain-rmse:7.95616\n",
      "[720]\ttrain-rmse:7.95489\n",
      "[740]\ttrain-rmse:7.95371\n",
      "[760]\ttrain-rmse:7.95261\n",
      "[780]\ttrain-rmse:7.95151\n",
      "[800]\ttrain-rmse:7.95045\n",
      "[820]\ttrain-rmse:7.94942\n",
      "[840]\ttrain-rmse:7.94834\n",
      "[860]\ttrain-rmse:7.94717\n",
      "[880]\ttrain-rmse:7.94583\n",
      "[900]\ttrain-rmse:7.94467\n",
      "[920]\ttrain-rmse:7.9435\n",
      "[940]\ttrain-rmse:7.9423\n",
      "[960]\ttrain-rmse:7.94115\n",
      "[980]\ttrain-rmse:7.94012\n",
      "[1000]\ttrain-rmse:7.93912\n",
      "[1020]\ttrain-rmse:7.93818\n",
      "[1040]\ttrain-rmse:7.93719\n",
      "[1060]\ttrain-rmse:7.93618\n",
      "[1080]\ttrain-rmse:7.93522\n",
      "[1100]\ttrain-rmse:7.93432\n",
      "[1120]\ttrain-rmse:7.93339\n",
      "[1140]\ttrain-rmse:7.93247\n",
      "[1160]\ttrain-rmse:7.93166\n",
      "[1180]\ttrain-rmse:7.93095\n",
      "[1200]\ttrain-rmse:7.93021\n",
      "[1220]\ttrain-rmse:7.92943\n",
      "[1240]\ttrain-rmse:7.92868\n",
      "[1260]\ttrain-rmse:7.92791\n",
      "[1280]\ttrain-rmse:7.92715\n",
      "[1300]\ttrain-rmse:7.92641\n",
      "[1320]\ttrain-rmse:7.92563\n",
      "[1340]\ttrain-rmse:7.9249\n",
      "[1360]\ttrain-rmse:7.92422\n",
      "[1380]\ttrain-rmse:7.92356\n",
      "[1400]\ttrain-rmse:7.92292\n",
      "[1420]\ttrain-rmse:7.92221\n",
      "[1440]\ttrain-rmse:7.92163\n",
      "[1460]\ttrain-rmse:7.92091\n",
      "[1480]\ttrain-rmse:7.92023\n",
      "[1500]\ttrain-rmse:7.91955\n",
      "[1520]\ttrain-rmse:7.91887\n",
      "[1540]\ttrain-rmse:7.91822\n",
      "[1560]\ttrain-rmse:7.9174\n",
      "[1580]\ttrain-rmse:7.91664\n",
      "[1600]\ttrain-rmse:7.91589\n",
      "[1620]\ttrain-rmse:7.91523\n",
      "[1640]\ttrain-rmse:7.91451\n",
      "[1660]\ttrain-rmse:7.91378\n",
      "[1680]\ttrain-rmse:7.91296\n",
      "[1700]\ttrain-rmse:7.91222\n",
      "[1720]\ttrain-rmse:7.91159\n",
      "[1740]\ttrain-rmse:7.91102\n",
      "[1760]\ttrain-rmse:7.91029\n",
      "[1780]\ttrain-rmse:7.90958\n",
      "[1800]\ttrain-rmse:7.90885\n",
      "[1820]\ttrain-rmse:7.90813\n",
      "[1840]\ttrain-rmse:7.90754\n",
      "[1860]\ttrain-rmse:7.90686\n",
      "[1880]\ttrain-rmse:7.90623\n",
      "[1900]\ttrain-rmse:7.90557\n",
      "[1920]\ttrain-rmse:7.90492\n",
      "[1940]\ttrain-rmse:7.90439\n",
      "[1960]\ttrain-rmse:7.90382\n",
      "[1980]\ttrain-rmse:7.90326\n",
      "[2000]\ttrain-rmse:7.90255\n",
      "[2020]\ttrain-rmse:7.90198\n",
      "[2040]\ttrain-rmse:7.90131\n",
      "[2060]\ttrain-rmse:7.90062\n",
      "[2080]\ttrain-rmse:7.89996\n",
      "[2100]\ttrain-rmse:7.89933\n",
      "[2120]\ttrain-rmse:7.8987\n",
      "[2140]\ttrain-rmse:7.89801\n",
      "[2160]\ttrain-rmse:7.89743\n",
      "[2180]\ttrain-rmse:7.89681\n",
      "[2200]\ttrain-rmse:7.89623\n",
      "[2220]\ttrain-rmse:7.8957\n",
      "[2240]\ttrain-rmse:7.89509\n",
      "[2260]\ttrain-rmse:7.8943\n",
      "[2280]\ttrain-rmse:7.89359\n",
      "[2300]\ttrain-rmse:7.89294\n",
      "[2320]\ttrain-rmse:7.89225\n",
      "[2340]\ttrain-rmse:7.89166\n",
      "[2360]\ttrain-rmse:7.89084\n",
      "[2380]\ttrain-rmse:7.89009\n",
      "[2400]\ttrain-rmse:7.88949\n",
      "[2420]\ttrain-rmse:7.88904\n",
      "[2440]\ttrain-rmse:7.8885\n",
      "[2460]\ttrain-rmse:7.8878\n",
      "[2480]\ttrain-rmse:7.88722\n",
      "[2499]\ttrain-rmse:7.88667\n",
      "-----the best model eval info-----\n",
      " RMSE:7.963016685734195\n",
      " MAE:5.1431259380714085\n",
      " evs:0.06043947865025301\n",
      " R2:0.060433906181465824\n",
      "\n"
     ]
    },
    {
     "data": {
      "text/plain": [
       "<module 'matplotlib.pyplot' from 'F:\\\\Anaconda3\\\\lib\\\\site-packages\\\\matplotlib\\\\pyplot.py'>"
      ]
     },
     "execution_count": 65,
     "metadata": {},
     "output_type": "execute_result"
    },
    {
     "data": {
      "image/png": "[encoded data removed]",
      "text/plain": [
       "<Figure size 1440x1440 with 1 Axes>"
      ]
     },
     "metadata": {
      "needs_background": "dark"
     },
     "output_type": "display_data"
    }
   ],
   "source": [
    "import xgboost as xgb\n",
    "dtrain = xgb.DMatrix(train_x,label=train_y)\n",
    "dtest = xgb.DMatrix(test_x)\n",
    "\n",
    "params = {\n",
    "            'booster':'gbtree',\n",
    "            'objective':'reg:squarederror',\n",
    "#             'scale_pos_weight': float(len(train_y)-sum(train_y))/float(sum(train_y)),\n",
    "            'eval_metric': 'rmse',\n",
    "            'gamma':0.08,\n",
    "            'max_depth':6,\n",
    "            'alpha':0.9,\n",
    "            'lambda':0.9,\n",
    "#             'subsample':0.6,\n",
    "            'colsample_bytree':0.7,\n",
    "            'min_child_weight':6, \n",
    "            'eta': 0.01,\n",
    "            'seed':666,\n",
    "            'silent':1,\n",
    "            'missing':-1,\n",
    "        }\n",
    "# xgb_cv = xgb.cv(params, dtrain, \n",
    "#            num_boost_round=1000, \n",
    "#            nfold=3, stratified=True,#folds=sfk\n",
    "#            metrics='auc', maximize=True, \n",
    "#            early_stopping_rounds=500, \n",
    "#            as_pandas=True, verbose_eval=1, \n",
    "#            show_stdv=False, seed=0, shuffle=True)\n",
    "xgb_model = xgb.train(params,dtrain,num_boost_round=2500,early_stopping_rounds=1500,\n",
    "                       evals=[(dtrain,\"train\")],verbose_eval=20)#,maximize=True)\n",
    "y_pred = xgb_model.predict(dtest)#,ntree_limit=304)\n",
    "\n",
    "eval_info(xgb_model,test_y,y_pred)\n",
    "\n",
    "# xgb.plot_importance(xgb_model,max_num_features=20)\n",
    "plt.figure(figsize=(20,20))\n",
    "xgb.plot_tree(xgb_model,ax=plt,num_trees=5)\n",
    "\n",
    "# [1480]\ttrain-rmse:7.87024\n",
    "# [1499]\ttrain-rmse:7.86934\n",
    "# -----the best model eval info-----\n",
    "#  RMSE:7.964367117168188"
   ]
  },
  {
   "cell_type": "markdown",
   "metadata": {},
   "source": [
    "### save"
   ]
  },
  {
   "cell_type": "code",
   "execution_count": 66,
   "metadata": {},
   "outputs": [],
   "source": [
    "# save model\n",
    "with open(\"../save_models/xgb2.txt\",'wb') as f:\n",
    "    pickle.dump(xgb_model,f)"
   ]
  },
  {
   "cell_type": "markdown",
   "metadata": {},
   "source": [
    "### predict"
   ]
  },
  {
   "cell_type": "code",
   "execution_count": 67,
   "metadata": {},
   "outputs": [],
   "source": [
    "test_set = pd.read_csv('../data_preprocess/test_set_nobehavior.csv',parse_dates=['reg_mon','auditing_date','due_date'])\n",
    "test_set.loc[:,date_cols] = test_set[date_cols].apply(lambda s: [t.timestamp() for t in s] )\n",
    "dtest_set = xgb.DMatrix(test_set)\n",
    "test_set_pred_y = xgb_model.predict(dtest_set)"
   ]
  },
  {
   "cell_type": "code",
   "execution_count": 68,
   "metadata": {},
   "outputs": [],
   "source": [
    "test_set_ = pd.read_csv('../data_preprocess/test_set_nobehavior.csv',parse_dates=['reg_mon','auditing_date','due_date'])"
   ]
  },
  {
   "cell_type": "code",
   "execution_count": 69,
   "metadata": {},
   "outputs": [],
   "source": [
    "import math\n",
    "pred_df = pd.concat([test_set_[['listing_id','due_amt','due_date','auditing_date']],\n",
    "           pd.Series(test_set_pred_y,name='repay_date',index=test_set.index).apply(lambda v:math.ceil(v))],axis=1)"
   ]
  },
  {
   "cell_type": "code",
   "execution_count": 70,
   "metadata": {},
   "outputs": [
    {
     "name": "stderr",
     "output_type": "stream",
     "text": [
      "F:\\Anaconda3\\lib\\site-packages\\pandas\\core\\arrays\\datetimelike.py:1129: PerformanceWarning: Adding/subtracting array of DateOffsets to DatetimeArray not vectorized\n",
      "  .format(cls=type(self).__name__), PerformanceWarning)\n"
     ]
    }
   ],
   "source": [
    "pred_df[pred_df['repay_date']>=32]\n",
    "from pandas.tseries.offsets import Day\n",
    "pred_df['repay_date']  = pred_df['repay_date'].apply(lambda x:Day(x))\n",
    "pred_df['repay_date'] = pred_df['auditing_date']+pred_df['repay_date']"
   ]
  },
  {
   "cell_type": "code",
   "execution_count": 71,
   "metadata": {},
   "outputs": [
    {
     "data": {
      "text/html": [
       "<div>\n",
       "<style scoped>\n",
       "    .dataframe tbody tr th:only-of-type {\n",
       "        vertical-align: middle;\n",
       "    }\n",
       "\n",
       "    .dataframe tbody tr th {\n",
       "        vertical-align: top;\n",
       "    }\n",
       "\n",
       "    .dataframe thead th {\n",
       "        text-align: right;\n",
       "    }\n",
       "</style>\n",
       "<table border=\"1\" class=\"dataframe\">\n",
       "  <thead>\n",
       "    <tr style=\"text-align: right;\">\n",
       "      <th></th>\n",
       "      <th>listing_id</th>\n",
       "      <th>repay_amt</th>\n",
       "      <th>repay_date</th>\n",
       "    </tr>\n",
       "  </thead>\n",
       "  <tbody>\n",
       "    <tr>\n",
       "      <th>0</th>\n",
       "      <td>5348580</td>\n",
       "      <td>NaN</td>\n",
       "      <td>NaT</td>\n",
       "    </tr>\n",
       "    <tr>\n",
       "      <th>1</th>\n",
       "      <td>5288930</td>\n",
       "      <td>NaN</td>\n",
       "      <td>NaT</td>\n",
       "    </tr>\n",
       "    <tr>\n",
       "      <th>2</th>\n",
       "      <td>5335952</td>\n",
       "      <td>NaN</td>\n",
       "      <td>NaT</td>\n",
       "    </tr>\n",
       "    <tr>\n",
       "      <th>3</th>\n",
       "      <td>5382105</td>\n",
       "      <td>NaN</td>\n",
       "      <td>NaT</td>\n",
       "    </tr>\n",
       "    <tr>\n",
       "      <th>4</th>\n",
       "      <td>5433181</td>\n",
       "      <td>560.4247</td>\n",
       "      <td>2019-04-12</td>\n",
       "    </tr>\n",
       "    <tr>\n",
       "      <th>5</th>\n",
       "      <td>5422932</td>\n",
       "      <td>467.6095</td>\n",
       "      <td>2019-04-08</td>\n",
       "    </tr>\n",
       "    <tr>\n",
       "      <th>6</th>\n",
       "      <td>5414862</td>\n",
       "      <td>226.9417</td>\n",
       "      <td>2019-04-04</td>\n",
       "    </tr>\n",
       "    <tr>\n",
       "      <th>7</th>\n",
       "      <td>5462399</td>\n",
       "      <td>1450.8678</td>\n",
       "      <td>2019-04-22</td>\n",
       "    </tr>\n",
       "    <tr>\n",
       "      <th>8</th>\n",
       "      <td>5480102</td>\n",
       "      <td>220.6568</td>\n",
       "      <td>2019-04-29</td>\n",
       "    </tr>\n",
       "    <tr>\n",
       "      <th>9</th>\n",
       "      <td>5424428</td>\n",
       "      <td>290.1735</td>\n",
       "      <td>2019-04-07</td>\n",
       "    </tr>\n",
       "    <tr>\n",
       "      <th>10</th>\n",
       "      <td>5390172</td>\n",
       "      <td>NaN</td>\n",
       "      <td>NaT</td>\n",
       "    </tr>\n",
       "    <tr>\n",
       "      <th>11</th>\n",
       "      <td>5435162</td>\n",
       "      <td>455.1781</td>\n",
       "      <td>2019-04-12</td>\n",
       "    </tr>\n",
       "    <tr>\n",
       "      <th>12</th>\n",
       "      <td>5406052</td>\n",
       "      <td>346.4790</td>\n",
       "      <td>2019-04-04</td>\n",
       "    </tr>\n",
       "    <tr>\n",
       "      <th>13</th>\n",
       "      <td>5311792</td>\n",
       "      <td>NaN</td>\n",
       "      <td>NaT</td>\n",
       "    </tr>\n",
       "    <tr>\n",
       "      <th>14</th>\n",
       "      <td>5466148</td>\n",
       "      <td>NaN</td>\n",
       "      <td>NaT</td>\n",
       "    </tr>\n",
       "    <tr>\n",
       "      <th>15</th>\n",
       "      <td>5318405</td>\n",
       "      <td>NaN</td>\n",
       "      <td>NaT</td>\n",
       "    </tr>\n",
       "    <tr>\n",
       "      <th>16</th>\n",
       "      <td>5411415</td>\n",
       "      <td>NaN</td>\n",
       "      <td>NaT</td>\n",
       "    </tr>\n",
       "    <tr>\n",
       "      <th>17</th>\n",
       "      <td>5444740</td>\n",
       "      <td>NaN</td>\n",
       "      <td>NaT</td>\n",
       "    </tr>\n",
       "    <tr>\n",
       "      <th>18</th>\n",
       "      <td>5374946</td>\n",
       "      <td>NaN</td>\n",
       "      <td>NaT</td>\n",
       "    </tr>\n",
       "    <tr>\n",
       "      <th>19</th>\n",
       "      <td>5376694</td>\n",
       "      <td>NaN</td>\n",
       "      <td>NaT</td>\n",
       "    </tr>\n",
       "    <tr>\n",
       "      <th>20</th>\n",
       "      <td>5432417</td>\n",
       "      <td>101.3441</td>\n",
       "      <td>2019-04-09</td>\n",
       "    </tr>\n",
       "    <tr>\n",
       "      <th>21</th>\n",
       "      <td>5447535</td>\n",
       "      <td>1129.4536</td>\n",
       "      <td>2019-04-17</td>\n",
       "    </tr>\n",
       "    <tr>\n",
       "      <th>22</th>\n",
       "      <td>5443331</td>\n",
       "      <td>89.1773</td>\n",
       "      <td>2019-04-12</td>\n",
       "    </tr>\n",
       "    <tr>\n",
       "      <th>23</th>\n",
       "      <td>5284763</td>\n",
       "      <td>NaN</td>\n",
       "      <td>NaT</td>\n",
       "    </tr>\n",
       "    <tr>\n",
       "      <th>24</th>\n",
       "      <td>5471014</td>\n",
       "      <td>383.8442</td>\n",
       "      <td>2019-04-23</td>\n",
       "    </tr>\n",
       "    <tr>\n",
       "      <th>25</th>\n",
       "      <td>5327789</td>\n",
       "      <td>NaN</td>\n",
       "      <td>NaT</td>\n",
       "    </tr>\n",
       "    <tr>\n",
       "      <th>26</th>\n",
       "      <td>5413621</td>\n",
       "      <td>375.9263</td>\n",
       "      <td>2019-04-04</td>\n",
       "    </tr>\n",
       "    <tr>\n",
       "      <th>27</th>\n",
       "      <td>5304636</td>\n",
       "      <td>NaN</td>\n",
       "      <td>NaT</td>\n",
       "    </tr>\n",
       "    <tr>\n",
       "      <th>28</th>\n",
       "      <td>5405415</td>\n",
       "      <td>236.6630</td>\n",
       "      <td>2019-04-03</td>\n",
       "    </tr>\n",
       "    <tr>\n",
       "      <th>29</th>\n",
       "      <td>5421627</td>\n",
       "      <td>940.9282</td>\n",
       "      <td>2019-04-05</td>\n",
       "    </tr>\n",
       "    <tr>\n",
       "      <th>...</th>\n",
       "      <td>...</td>\n",
       "      <td>...</td>\n",
       "      <td>...</td>\n",
       "    </tr>\n",
       "    <tr>\n",
       "      <th>129970</th>\n",
       "      <td>5472427</td>\n",
       "      <td>568.9728</td>\n",
       "      <td>2019-04-18</td>\n",
       "    </tr>\n",
       "    <tr>\n",
       "      <th>129971</th>\n",
       "      <td>5480699</td>\n",
       "      <td>940.9282</td>\n",
       "      <td>2019-04-21</td>\n",
       "    </tr>\n",
       "    <tr>\n",
       "      <th>129972</th>\n",
       "      <td>5473447</td>\n",
       "      <td>163.0489</td>\n",
       "      <td>2019-04-13</td>\n",
       "    </tr>\n",
       "    <tr>\n",
       "      <th>129973</th>\n",
       "      <td>5473104</td>\n",
       "      <td>671.2970</td>\n",
       "      <td>2019-04-21</td>\n",
       "    </tr>\n",
       "    <tr>\n",
       "      <th>129974</th>\n",
       "      <td>5471936</td>\n",
       "      <td>72.0278</td>\n",
       "      <td>2019-04-16</td>\n",
       "    </tr>\n",
       "    <tr>\n",
       "      <th>129975</th>\n",
       "      <td>5480569</td>\n",
       "      <td>97.1804</td>\n",
       "      <td>2019-04-22</td>\n",
       "    </tr>\n",
       "    <tr>\n",
       "      <th>129976</th>\n",
       "      <td>5471552</td>\n",
       "      <td>383.8442</td>\n",
       "      <td>2019-04-15</td>\n",
       "    </tr>\n",
       "    <tr>\n",
       "      <th>129977</th>\n",
       "      <td>5472825</td>\n",
       "      <td>107.0008</td>\n",
       "      <td>2019-04-16</td>\n",
       "    </tr>\n",
       "    <tr>\n",
       "      <th>129978</th>\n",
       "      <td>5471541</td>\n",
       "      <td>236.6630</td>\n",
       "      <td>2019-04-13</td>\n",
       "    </tr>\n",
       "    <tr>\n",
       "      <th>129979</th>\n",
       "      <td>5472002</td>\n",
       "      <td>131.6608</td>\n",
       "      <td>2019-04-14</td>\n",
       "    </tr>\n",
       "    <tr>\n",
       "      <th>129980</th>\n",
       "      <td>5484670</td>\n",
       "      <td>195.5042</td>\n",
       "      <td>2019-04-20</td>\n",
       "    </tr>\n",
       "    <tr>\n",
       "      <th>129981</th>\n",
       "      <td>5476799</td>\n",
       "      <td>258.3857</td>\n",
       "      <td>2019-04-22</td>\n",
       "    </tr>\n",
       "    <tr>\n",
       "      <th>129982</th>\n",
       "      <td>5480384</td>\n",
       "      <td>1503.1075</td>\n",
       "      <td>2019-04-26</td>\n",
       "    </tr>\n",
       "    <tr>\n",
       "      <th>129983</th>\n",
       "      <td>5484026</td>\n",
       "      <td>337.9866</td>\n",
       "      <td>2019-04-18</td>\n",
       "    </tr>\n",
       "    <tr>\n",
       "      <th>129984</th>\n",
       "      <td>5474926</td>\n",
       "      <td>195.5042</td>\n",
       "      <td>2019-04-14</td>\n",
       "    </tr>\n",
       "    <tr>\n",
       "      <th>129985</th>\n",
       "      <td>5478804</td>\n",
       "      <td>375.3521</td>\n",
       "      <td>2019-04-18</td>\n",
       "    </tr>\n",
       "    <tr>\n",
       "      <th>129986</th>\n",
       "      <td>5484533</td>\n",
       "      <td>940.9282</td>\n",
       "      <td>2019-04-23</td>\n",
       "    </tr>\n",
       "    <tr>\n",
       "      <th>129987</th>\n",
       "      <td>5476811</td>\n",
       "      <td>337.8139</td>\n",
       "      <td>2019-04-26</td>\n",
       "    </tr>\n",
       "    <tr>\n",
       "      <th>129988</th>\n",
       "      <td>5479043</td>\n",
       "      <td>212.2816</td>\n",
       "      <td>2019-04-15</td>\n",
       "    </tr>\n",
       "    <tr>\n",
       "      <th>129989</th>\n",
       "      <td>5477873</td>\n",
       "      <td>755.7996</td>\n",
       "      <td>2019-04-22</td>\n",
       "    </tr>\n",
       "    <tr>\n",
       "      <th>129990</th>\n",
       "      <td>5478547</td>\n",
       "      <td>283.5383</td>\n",
       "      <td>2019-04-19</td>\n",
       "    </tr>\n",
       "    <tr>\n",
       "      <th>129991</th>\n",
       "      <td>5477266</td>\n",
       "      <td>2463.1412</td>\n",
       "      <td>2019-04-23</td>\n",
       "    </tr>\n",
       "    <tr>\n",
       "      <th>129992</th>\n",
       "      <td>5484268</td>\n",
       "      <td>54.5699</td>\n",
       "      <td>2019-04-23</td>\n",
       "    </tr>\n",
       "    <tr>\n",
       "      <th>129993</th>\n",
       "      <td>5482120</td>\n",
       "      <td>1518.3020</td>\n",
       "      <td>2019-04-27</td>\n",
       "    </tr>\n",
       "    <tr>\n",
       "      <th>129994</th>\n",
       "      <td>5484061</td>\n",
       "      <td>255.5259</td>\n",
       "      <td>2019-04-26</td>\n",
       "    </tr>\n",
       "    <tr>\n",
       "      <th>129995</th>\n",
       "      <td>5481531</td>\n",
       "      <td>847.5146</td>\n",
       "      <td>2019-04-24</td>\n",
       "    </tr>\n",
       "    <tr>\n",
       "      <th>129996</th>\n",
       "      <td>5481629</td>\n",
       "      <td>568.9728</td>\n",
       "      <td>2019-04-24</td>\n",
       "    </tr>\n",
       "    <tr>\n",
       "      <th>129997</th>\n",
       "      <td>5481681</td>\n",
       "      <td>832.3222</td>\n",
       "      <td>2019-04-25</td>\n",
       "    </tr>\n",
       "    <tr>\n",
       "      <th>129998</th>\n",
       "      <td>5482233</td>\n",
       "      <td>133.7660</td>\n",
       "      <td>2019-04-21</td>\n",
       "    </tr>\n",
       "    <tr>\n",
       "      <th>129999</th>\n",
       "      <td>5483655</td>\n",
       "      <td>940.9282</td>\n",
       "      <td>2019-04-18</td>\n",
       "    </tr>\n",
       "  </tbody>\n",
       "</table>\n",
       "<p>130000 rows × 3 columns</p>\n",
       "</div>"
      ],
      "text/plain": [
       "        listing_id  repay_amt repay_date\n",
       "0          5348580        NaN        NaT\n",
       "1          5288930        NaN        NaT\n",
       "2          5335952        NaN        NaT\n",
       "3          5382105        NaN        NaT\n",
       "4          5433181   560.4247 2019-04-12\n",
       "5          5422932   467.6095 2019-04-08\n",
       "6          5414862   226.9417 2019-04-04\n",
       "7          5462399  1450.8678 2019-04-22\n",
       "8          5480102   220.6568 2019-04-29\n",
       "9          5424428   290.1735 2019-04-07\n",
       "10         5390172        NaN        NaT\n",
       "11         5435162   455.1781 2019-04-12\n",
       "12         5406052   346.4790 2019-04-04\n",
       "13         5311792        NaN        NaT\n",
       "14         5466148        NaN        NaT\n",
       "15         5318405        NaN        NaT\n",
       "16         5411415        NaN        NaT\n",
       "17         5444740        NaN        NaT\n",
       "18         5374946        NaN        NaT\n",
       "19         5376694        NaN        NaT\n",
       "20         5432417   101.3441 2019-04-09\n",
       "21         5447535  1129.4536 2019-04-17\n",
       "22         5443331    89.1773 2019-04-12\n",
       "23         5284763        NaN        NaT\n",
       "24         5471014   383.8442 2019-04-23\n",
       "25         5327789        NaN        NaT\n",
       "26         5413621   375.9263 2019-04-04\n",
       "27         5304636        NaN        NaT\n",
       "28         5405415   236.6630 2019-04-03\n",
       "29         5421627   940.9282 2019-04-05\n",
       "...            ...        ...        ...\n",
       "129970     5472427   568.9728 2019-04-18\n",
       "129971     5480699   940.9282 2019-04-21\n",
       "129972     5473447   163.0489 2019-04-13\n",
       "129973     5473104   671.2970 2019-04-21\n",
       "129974     5471936    72.0278 2019-04-16\n",
       "129975     5480569    97.1804 2019-04-22\n",
       "129976     5471552   383.8442 2019-04-15\n",
       "129977     5472825   107.0008 2019-04-16\n",
       "129978     5471541   236.6630 2019-04-13\n",
       "129979     5472002   131.6608 2019-04-14\n",
       "129980     5484670   195.5042 2019-04-20\n",
       "129981     5476799   258.3857 2019-04-22\n",
       "129982     5480384  1503.1075 2019-04-26\n",
       "129983     5484026   337.9866 2019-04-18\n",
       "129984     5474926   195.5042 2019-04-14\n",
       "129985     5478804   375.3521 2019-04-18\n",
       "129986     5484533   940.9282 2019-04-23\n",
       "129987     5476811   337.8139 2019-04-26\n",
       "129988     5479043   212.2816 2019-04-15\n",
       "129989     5477873   755.7996 2019-04-22\n",
       "129990     5478547   283.5383 2019-04-19\n",
       "129991     5477266  2463.1412 2019-04-23\n",
       "129992     5484268    54.5699 2019-04-23\n",
       "129993     5482120  1518.3020 2019-04-27\n",
       "129994     5484061   255.5259 2019-04-26\n",
       "129995     5481531   847.5146 2019-04-24\n",
       "129996     5481629   568.9728 2019-04-24\n",
       "129997     5481681   832.3222 2019-04-25\n",
       "129998     5482233   133.7660 2019-04-21\n",
       "129999     5483655   940.9282 2019-04-18\n",
       "\n",
       "[130000 rows x 3 columns]"
      ]
     },
     "execution_count": 71,
     "metadata": {},
     "output_type": "execute_result"
    }
   ],
   "source": [
    "pred_df.loc[(pred_df['repay_date']>pred_df['due_date']),['due_amt','repay_date']] = None\n",
    "pred_df = pred_df.rename(columns={\"due_amt\":'repay_amt'}).drop(['due_date','auditing_date'],axis=1)\n",
    "pred_df"
   ]
  },
  {
   "cell_type": "code",
   "execution_count": 72,
   "metadata": {},
   "outputs": [],
   "source": [
    "pred_df.to_csv(\"./pred_df_first2.csv\",index=False)"
   ]
  },
  {
   "cell_type": "markdown",
   "metadata": {},
   "source": [
    "## GBDT"
   ]
  },
  {
   "cell_type": "code",
   "execution_count": 13,
   "metadata": {},
   "outputs": [
    {
     "name": "stderr",
     "output_type": "stream",
     "text": [
      "F:\\Anaconda3\\lib\\site-packages\\sklearn\\ensemble\\weight_boosting.py:29: DeprecationWarning: numpy.core.umath_tests is an internal NumPy module and should not be imported. It will be removed in a future NumPy release.\n",
      "  from numpy.core.umath_tests import inner1d\n"
     ]
    }
   ],
   "source": [
    "from sklearn.model_selection import GridSearchCV\n",
    "from sklearn.ensemble import GradientBoostingRegressor"
   ]
  },
  {
   "cell_type": "markdown",
   "metadata": {},
   "source": [
    "### train"
   ]
  },
  {
   "cell_type": "code",
   "execution_count": 14,
   "metadata": {},
   "outputs": [
    {
     "ename": "NameError",
     "evalue": "name 'GBDTegressor' is not defined",
     "output_type": "error",
     "traceback": [
      "\u001b[1;31m---------------------------------------------------------------------------\u001b[0m",
      "\u001b[1;31mNameError\u001b[0m                                 Traceback (most recent call last)",
      "\u001b[1;32m<ipython-input-14-9da77bf7e551>\u001b[0m in \u001b[0;36m<module>\u001b[1;34m\u001b[0m\n\u001b[0;32m     12\u001b[0m }\n\u001b[0;32m     13\u001b[0m \u001b[1;33m\u001b[0m\u001b[0m\n\u001b[1;32m---> 14\u001b[1;33m \u001b[0mGBDT\u001b[0m \u001b[1;33m=\u001b[0m \u001b[0mGridSearchCV\u001b[0m\u001b[1;33m(\u001b[0m\u001b[0mGBDTegressor\u001b[0m\u001b[1;33m(\u001b[0m\u001b[1;33m)\u001b[0m\u001b[1;33m,\u001b[0m\u001b[0mparam_grid\u001b[0m\u001b[1;33m,\u001b[0m\u001b[0mcv\u001b[0m\u001b[1;33m=\u001b[0m\u001b[0msfk\u001b[0m\u001b[1;33m,\u001b[0m\u001b[0mscoring\u001b[0m\u001b[1;33m=\u001b[0m\u001b[1;34m'neg_mean_squared_error'\u001b[0m\u001b[1;33m)\u001b[0m\u001b[1;33m\u001b[0m\u001b[1;33m\u001b[0m\u001b[0m\n\u001b[0m\u001b[0;32m     15\u001b[0m \u001b[0mGBDT\u001b[0m\u001b[1;33m.\u001b[0m\u001b[0mfit\u001b[0m\u001b[1;33m(\u001b[0m\u001b[0mtrain_x\u001b[0m\u001b[1;33m,\u001b[0m\u001b[0mtrain_y\u001b[0m\u001b[1;33m)\u001b[0m\u001b[1;33m\u001b[0m\u001b[1;33m\u001b[0m\u001b[0m\n\u001b[0;32m     16\u001b[0m \u001b[1;33m\u001b[0m\u001b[0m\n",
      "\u001b[1;31mNameError\u001b[0m: name 'GBDTegressor' is not defined"
     ]
    }
   ],
   "source": [
    "param_grid = {\n",
    "#         'loss':['deviance'],\n",
    "        'n_estimators':[145,100,80],\n",
    "        'max_depth':[4,3,5],\n",
    "        'learning_rate':[0.03,0.01],\n",
    "#         'criterion':['friedman_mse'],#默认\n",
    "        'subsample': [0.8],\n",
    "        'max_features':[0.7],\n",
    "#         \"max_leaf_nodes\":[8],\n",
    "#         'min_impurity_decrease':[0],\n",
    "        'random_state':[666],\n",
    "}\n",
    "\n",
    "GBDT = GridSearchCV(GradientBoostingRegressor(),param_grid,cv=sfk,scoring='neg_mean_squared_error')\n",
    "GBDT.fit(train_x,train_y)\n",
    "\n",
    "print(\" best score: %f \\n best model: %s\" % (GBDT.best_score_, GBDT.best_estimator_))\n",
    "\n",
    "\n",
    "GBDT_best = GBDT.best_estimator_\n",
    "y_pred =GBDT_best.predict(test_x)\n",
    "\n",
    "model_score = GBDT_best.score(test_x,test_y)\n",
    "\n",
    "eval_info(GBDT_best,test_y,y_pred)\n",
    "\n",
    "print(\"model_score:\",model_score)"
   ]
  },
  {
   "cell_type": "markdown",
   "metadata": {},
   "source": [
    "### save"
   ]
  },
  {
   "cell_type": "code",
   "execution_count": null,
   "metadata": {},
   "outputs": [],
   "source": [
    "# save model\n",
    "with open(\"../save_models/GBDT.txt\",'wb') as f:\n",
    "    pickle.dump(GBDT_best,f)\n",
    "\n",
    "# cross-validation\n",
    "from sklearn.cross_validation import cross_val_score\n",
    "GBDT_cv_mse = cross_val_score(GBDT_best,X,y,cv=5,scoring=\"neg_mean_squared_error\")\n",
    "print(\"mse\",GBDT_cv_mse)"
   ]
  },
  {
   "cell_type": "markdown",
   "metadata": {},
   "source": [
    "### predict"
   ]
  },
  {
   "cell_type": "code",
   "execution_count": 89,
   "metadata": {
    "deletable": false,
    "editable": false,
    "run_control": {
     "frozen": true
    }
   },
   "outputs": [
    {
     "name": "stdout",
     "output_type": "stream",
     "text": [
      "0    9995\n",
      "1       5\n",
      "dtype: int64\n"
     ]
    }
   ],
   "source": [
    "# predict\n",
    "test_all = pd.read_csv(\"./another data/test_all_clean.csv\",index_col=['cust_group','cust_id'])\n",
    "y_pred = GBDT_best.predict(test_all)\n",
    "y_pred_prob = GBDT_best.predict_proba(test_all)[:,1]\n",
    "\n",
    "print(pd.Series(y_pred).value_counts())\n",
    "pred_result = pd.Series(y_pred_prob,index=test_all.index.get_level_values(level=1),name=\"pred_prob\")\n",
    "pred_result.index.name = \"cust_id\"\n",
    "pred_result.sort_index().to_csv(\"./predict/pred_result_GBDT.csv\",header=True)"
   ]
  },
  {
   "cell_type": "markdown",
   "metadata": {},
   "source": [
    "## MLP"
   ]
  },
  {
   "cell_type": "code",
   "execution_count": null,
   "metadata": {},
   "outputs": [],
   "source": [
    "from sklearn.neural_network import MLPRegressor\n",
    "from sklearn.model_selection import GridSearchCV"
   ]
  },
  {
   "cell_type": "markdown",
   "metadata": {},
   "source": [
    "### train"
   ]
  },
  {
   "cell_type": "code",
   "execution_count": null,
   "metadata": {},
   "outputs": [],
   "source": [
    "param_grid = {\n",
    "    'hidden_layer_sizes':[(300,),(100,),(200,)],\n",
    "    'activation':['logistic','relu'],\n",
    "#     'solver':['adam'],\n",
    "#     'Note':\n",
    "    'alpha':[0.012,0.05],\n",
    "#     'batch_size':\n",
    "    'learning_rate':['constant',0.01],\n",
    "#     'learning_rate_init':\n",
    "#     'power_t':\n",
    "#     'max_iter':\n",
    "#     'shuffle':\n",
    "    'random_state':[666],\n",
    "#     'tol':\n",
    "#     'verbose':\n",
    "#     'warm_start':\n",
    "#     'momentum':[0.9,0.7],\n",
    "#     'nesterovs_momentum':\n",
    "#     'early_stopping':\n",
    "#     'validation_fraction':\n",
    "#     'beta_1':\n",
    "#     'beta_2':\n",
    "#     'epsilon':\n",
    "}\n",
    "\n",
    "MLP = GridSearchCV(MLPRegressor(),param_grid,cv=sfk,scoring='neg_mean_squared_error')\n",
    "MLP.fit(train_x,train_y)\n",
    "\n",
    "print(\" best score: %f \\n best model: %s\" % (MLP.best_score_, MLP.best_estimator_))\n",
    "\n",
    "\n",
    "MLP_best = MLP.best_estimator_\n",
    "y_pred =MLP_best.predict(test_x)\n",
    "\n",
    "model_score = MLP_best.score(test_x,test_y)\n",
    "\n",
    "eval_info(MLP_best,test_y,y_pred)\n",
    "\n",
    "print(\"model_score:\",model_score)"
   ]
  },
  {
   "cell_type": "markdown",
   "metadata": {},
   "source": [
    "### save"
   ]
  },
  {
   "cell_type": "code",
   "execution_count": null,
   "metadata": {},
   "outputs": [],
   "source": [
    "# save model\n",
    "with open(\"../save_models/MLP.txt\",'wb') as f:\n",
    "    pickle.dump(MLP_best,f)\n",
    "\n",
    "# cross-validation\n",
    "from sklearn.cross_validation import cross_val_score\n",
    "MLP_cv_mse = cross_val_score(MLP_best,X,y,cv=5,scoring=\"neg_mean_squared_error\")\n",
    "print(\"mse\",MLP_cv_mse)"
   ]
  },
  {
   "cell_type": "markdown",
   "metadata": {},
   "source": [
    "### predict"
   ]
  },
  {
   "cell_type": "code",
   "execution_count": 92,
   "metadata": {
    "deletable": false,
    "editable": false,
    "run_control": {
     "frozen": true
    }
   },
   "outputs": [
    {
     "name": "stdout",
     "output_type": "stream",
     "text": [
      "0    10000\n",
      "dtype: int64\n"
     ]
    }
   ],
   "source": [
    "# predict\n",
    "test_all = pd.read_csv(\"./another data/test_all_clean.csv\",index_col=['cust_group','cust_id'])\n",
    "y_pred = MLP_best.predict(test_all)\n",
    "y_pred_prob = MLP_best.predict_proba(test_all)[:,1]\n",
    "\n",
    "print(pd.Series(y_pred).value_counts())\n",
    "pred_result = pd.Series(y_pred_prob,index=test_all.index.get_level_values(level=1),name=\"pred_prob\")\n",
    "pred_result.index.name = \"cust_id\"\n",
    "pred_result.sort_index().to_csv(\"./predict/pred_result_MLP.csv\",header=True)"
   ]
  },
  {
   "cell_type": "markdown",
   "metadata": {},
   "source": [
    "## adaboost"
   ]
  },
  {
   "cell_type": "markdown",
   "metadata": {},
   "source": [
    "### train"
   ]
  },
  {
   "cell_type": "code",
   "execution_count": 141,
   "metadata": {
    "deletable": false,
    "editable": false,
    "run_control": {
     "frozen": true
    }
   },
   "outputs": [
    {
     "name": "stdout",
     "output_type": "stream",
     "text": [
      "best score: 0.797058 \n",
      " best model: AdaBoostClassifier(algorithm='SAMME.R',\n",
      "          base_estimator=RandomForestClassifier(bootstrap=True, class_weight='balanced',\n",
      "            criterion='entropy', max_depth=4, max_features='auto',\n",
      "            max_leaf_nodes=None, min_impurity_decrease=0.0,\n",
      "            min_impurity_split=None, min_samples_leaf=1,\n",
      "            min_samples_split=2, min_weight_fraction_leaf=0.0,\n",
      "            n_estimators=140, n_jobs=1, oob_score=False, random_state=222,\n",
      "            verbose=0, warm_start=False),\n",
      "          learning_rate=0.05, n_estimators=270, random_state=999)\n",
      "------AdaBoostClassifier classification_report------\n",
      "              precision    recall  f1-score   support\n",
      "\n",
      "          0       0.98      0.83      0.90      3541\n",
      "          1       0.15      0.62      0.24       172\n",
      "\n",
      "avg / total       0.94      0.82      0.87      3713\n",
      "\n",
      "auc: 0.8046669249916264\n",
      "train_score: 0.8442475757212977 \n",
      " test_score: 0.8168596821976838\n"
     ]
    },
    {
     "data": {
      "image/png": "[encoded data removed]",
      "text/plain": [
       "<Figure size 374.4x288 with 2 Axes>"
      ]
     },
     "metadata": {},
     "output_type": "display_data"
    },
    {
     "data": {
      "image/png": "[encoded data removed]",
      "text/plain": [
       "<Figure size 374.4x288 with 1 Axes>"
      ]
     },
     "metadata": {},
     "output_type": "display_data"
    }
   ],
   "source": [
    "from sklearn.ensemble import AdaBoostClassifier\n",
    "from sklearn.model_selection import GridSearchCV\n",
    "\n",
    "param_grid = {\n",
    "    'base_estimator':[RF_best],\n",
    "    'n_estimators':[270],\n",
    "    'learning_rate':[0.05],\n",
    "    'random_state':[999],\n",
    "}\n",
    "\n",
    "ADAB = GridSearchCV(AdaBoostClassifier(),param_grid,cv=sfk,scoring=\"roc_auc\")\n",
    "ADAB.fit(train_x,train_y)\n",
    "\n",
    "print(\"best score: %f \\n best model: %s\" % (ADAB.best_score_,ADAB.best_estimator_))\n",
    "\n",
    "ADAB_best = ADAB.best_estimator_\n",
    "train_score = ADAB_best.score(train_x,train_y)\n",
    "test_score = ADAB_best.score(test_x,test_y)\n",
    "y_pred = ADAB_best.predict(test_x)\n",
    "y_pred_prob = ADAB_best.predict_proba(test_x)[:,1]\n",
    "cm = confusion_matrix(test_y,y_pred)\n",
    "\n",
    "eval_info(ADAB_best,test_y,y_pred_prob,cm)\n",
    "print(\"train_score:\",train_score,\"\\n\",\"test_score:\",test_score)"
   ]
  },
  {
   "cell_type": "markdown",
   "metadata": {},
   "source": [
    "### save"
   ]
  },
  {
   "cell_type": "code",
   "execution_count": 142,
   "metadata": {
    "deletable": false,
    "editable": false,
    "run_control": {
     "frozen": true
    }
   },
   "outputs": [
    {
     "name": "stdout",
     "output_type": "stream",
     "text": [
      "best_ADAB_cv_auc: [0.8104355  0.82646391 0.82957119 0.7907972  0.81782743]\n"
     ]
    }
   ],
   "source": [
    "# save model\n",
    "import pickle\n",
    "with open(\"./best_models/ADAB_RF_pkl.txt\",'wb') as f:\n",
    "    pickle.dump(ADAB_best,f)\n",
    "\n",
    "# cross-validation\n",
    "from sklearn.cross_validation import cross_val_score\n",
    "ADAB_cv_auc = cross_val_score(ADAB_best,X,y,cv=5,scoring=\"roc_auc\")\n",
    "print(\"best_ADAB_cv_auc:\",ADAB_cv_auc)"
   ]
  },
  {
   "cell_type": "markdown",
   "metadata": {},
   "source": [
    "### predict"
   ]
  },
  {
   "cell_type": "code",
   "execution_count": 143,
   "metadata": {
    "deletable": false,
    "editable": false,
    "run_control": {
     "frozen": true
    }
   },
   "outputs": [
    {
     "name": "stdout",
     "output_type": "stream",
     "text": [
      "0    9448\n",
      "1     552\n",
      "dtype: int64\n"
     ]
    }
   ],
   "source": [
    "# predict\n",
    "test_all = pd.read_csv(\"./another data/test_all_clean.csv\",index_col=['cust_group','cust_id'])\n",
    "y_pred = ADAB_best.predict(test_all)\n",
    "y_pred_prob = ADAB_best.predict_proba(test_all)[:,1]\n",
    "\n",
    "print(pd.Series(y_pred).value_counts())\n",
    "pred_result = pd.Series(y_pred_prob,index=test_all.index.get_level_values(level=1),name=\"pred_prob\")\n",
    "pred_result.index.name = \"cust_id\"\n",
    "pred_result.sort_index().to_csv(\"./predict/pred_result_ADAB_RF.csv\",header=True)"
   ]
  },
  {
   "cell_type": "markdown",
   "metadata": {},
   "source": [
    "## SVM"
   ]
  },
  {
   "cell_type": "code",
   "execution_count": null,
   "metadata": {},
   "outputs": [],
   "source": [
    "# svm_train_xy = pd.read_csv(\"F:./resample data/under_resample1.csv\",index_col=['cust_id'])\n",
    "# svm_y = svm_train_xy.y\n",
    "# svm_X = svm_train_xy.drop('y',axis=1)\n",
    "# svm_train_x,svm_test_x,svm_train_y,svm_test_y = train_test_split(svm_X,svm_y,stratify=svm_y)\n",
    "# sfk = StratifiedKFold(n_splits=3)"
   ]
  },
  {
   "cell_type": "code",
   "execution_count": null,
   "metadata": {},
   "outputs": [],
   "source": [
    "from sklearn.model_selection import GridSearchCV\n",
    "from sklearn.svm import SVR"
   ]
  },
  {
   "cell_type": "markdown",
   "metadata": {},
   "source": [
    "### train"
   ]
  },
  {
   "cell_type": "code",
   "execution_count": null,
   "metadata": {},
   "outputs": [],
   "source": [
    "param_grid = {\n",
    "            'C':[0.5,0.1,1],\n",
    "            'kernel':['rbf'],\n",
    "#             'class_weight':[\"balanced\"],\n",
    "            'gamma':[0.03,0.01,0.1],\n",
    "#             'shrinking':[True],\n",
    "             }\n",
    "# SVR(C=0.5, cache_size=200, coef0=0.0, degree=3, epsilon=0.1, gamma=0.03,\n",
    "#   kernel='rbf', max_iter=-1, shrinking=True, tol=0.001, verbose=False)\n",
    "\n",
    "SVR = GridSearchCV(SVR(),param_grid,cv=sfk,scoring='neg_mean_squared_error')\n",
    "SVR.fit(train_x,train_y)\n",
    "\n",
    "print(\" best score: %f \\n best model: %s\" % (SVR.best_score_, SVR.best_estimator_))\n",
    "\n",
    "\n",
    "SVR_best = SVR.best_estimator_\n",
    "y_pred =SVR_best.predict(test_x)\n",
    "\n",
    "model_score = SVR_best.score(test_x,test_y)\n",
    "\n",
    "eval_info(SVR_best,test_y,y_pred)\n",
    "\n",
    "print(\"model_score:\",model_score)"
   ]
  },
  {
   "cell_type": "markdown",
   "metadata": {},
   "source": [
    "### save "
   ]
  },
  {
   "cell_type": "code",
   "execution_count": null,
   "metadata": {},
   "outputs": [],
   "source": [
    "# save model\n",
    "with open(\"../save_models/SVR.txt\",'wb') as f:\n",
    "    pickle.dump(SVR_best,f)\n",
    "\n",
    "# cross-validation\n",
    "from sklearn.cross_validation import cross_val_score\n",
    "SVR_cv_mse = cross_val_score(SVR_best,X,y,cv=5,scoring=\"neg_mean_squared_error\")\n",
    "print(\"mse\",SVR_cv_mse)"
   ]
  },
  {
   "cell_type": "markdown",
   "metadata": {},
   "source": [
    "### predict"
   ]
  },
  {
   "cell_type": "markdown",
   "metadata": {},
   "source": [
    "# bagging xgb_best"
   ]
  },
  {
   "cell_type": "code",
   "execution_count": null,
   "metadata": {},
   "outputs": [],
   "source": [
    "from sklearn.ensemble import BaggingRegressor"
   ]
  },
  {
   "cell_type": "markdown",
   "metadata": {},
   "source": [
    "## train"
   ]
  },
  {
   "cell_type": "code",
   "execution_count": null,
   "metadata": {},
   "outputs": [],
   "source": [
    "bagging_xgb = BaggingRegressor(XGBR_best,n_estimators=10)\n",
    "\n",
    "bagging_xgb.fit(train_x,train_y)\n",
    "y_pred = bagging_xgb.predict(test_x)\n",
    "\n",
    "model_score = bagging_xgb.score(test_x,test_y)\n",
    "eval_info(bagging_xgb,test_y,y_pred)\n",
    "\n",
    "print(\"model score: \",model_score)"
   ]
  },
  {
   "cell_type": "markdown",
   "metadata": {},
   "source": [
    "## save"
   ]
  },
  {
   "cell_type": "code",
   "execution_count": null,
   "metadata": {},
   "outputs": [],
   "source": [
    "# save model\n",
    "with open(\"../save_models/bagging_xgb.txt\",'wb') as f:\n",
    "    pickle.dump(bagging_xgb,f)\n",
    "\n",
    "# cross-validation\n",
    "from sklearn.cross_validation import cross_val_score\n",
    "bagging_xgb_cv_mse = cross_val_score(bagging_xgb_best,X,y,cv=5,scoring=\"neg_mean_squared_error\")\n",
    "print(\"mse\",bagging_xgb_cv_mse)"
   ]
  },
  {
   "cell_type": "markdown",
   "metadata": {},
   "source": [
    "## predict"
   ]
  },
  {
   "cell_type": "markdown",
   "metadata": {},
   "source": [
    "# bagging xgb:sklearn(vary params)"
   ]
  },
  {
   "cell_type": "code",
   "execution_count": null,
   "metadata": {},
   "outputs": [],
   "source": [
    "n_estimators = [142,145,148] \n",
    "max_depth = [2,3,4] \n",
    "learning_rate = np.linspace(0.045,0.055,10) \n",
    "min_child_weight= [5,4,6] \n",
    "gamma = np.linspace(0.045,0.055,10)\n",
    "subsample = [0.7,0.75,0.8,0.85]\n",
    "colsample_bytree = [0.6,0.65,0.7,0.75]\n",
    "reg_alpha =[6,7,8]\n",
    "reg_lambda = [4,5,6]\n",
    "random_state = np.arange(1000,10000,100)\n",
    "\n",
    "np.random.shuffle(n_estimators)\n",
    "np.random.shuffle(max_depth)\n",
    "np.random.shuffle(learning_rate)\n",
    "np.random.shuffle(min_child_weight)\n",
    "np.random.shuffle(gamma)\n",
    "np.random.shuffle(subsample)\n",
    "np.random.shuffle(colsample_bytree)\n",
    "np.random.shuffle(reg_alpha)\n",
    "np.random.shuffle(reg_lambda)\n",
    "np.random.shuffle(random_state)\n",
    "\n",
    "prob_df = pd.DataFrame([],index=test_x.index)\n",
    "for i in range(30):\n",
    "    param_grid = {\n",
    "        'booster':'gbtree',\n",
    "        'objective': 'reg:linear',\n",
    "        'n_estimators':n_estimators[i%3],\n",
    "        'max_depth':max_depth[i%3],\n",
    "        'learning_rate':learning_rate[i%10],\n",
    "        'min_child_weight':min_child_weight[i%3],\n",
    "        'gamma':gamma[i%10],\n",
    "        'subsample':subsample[i%4],\n",
    "        'colsample_bytree': colsample_bytree[i%4],\n",
    "        'reg_alpha':reg_alpha[i%3],\n",
    "        'reg_lambda': reg_lambda[i%3],\n",
    "#         'scale_pos_weight':float(len(train_y)-sum(train_y))/float(sum(train_y)),\n",
    "        'random_state':random_state[i],\n",
    "#     'n_jobs': [-1],\n",
    "        'missing': -1,\n",
    "        'silent':True,\n",
    "    }\n",
    "\n",
    "#     bagging_xgb = BaggingClassifier(XGBClassifier().set_params(**param_grid),n_estimators=10)\n",
    "    # bagging_xgb = BaggingClassifier(XGB_best,n_estimators=10)\n",
    "#     bagging_xgb.fit(train_x,train_y)\n",
    "    xgb_ = XGBClassifier().set_params(**param_grid)\n",
    "    xgb_.fit(train_x,train_y)\n",
    "    y_pred = xgb_.predict(test_x)\n",
    "    y_prob_s = pd.Series(y_pred,index=test_x.index)\n",
    "    prob_df = pd.concat([prob_df,y_prob_s],axis=1)\n",
    "\n",
    "y_pred_mean = prob_df.mean(axis=1)\n",
    "eval_info(xgb_,test_y,y_pred_mean)\n"
   ]
  },
  {
   "cell_type": "markdown",
   "metadata": {},
   "source": [
    "# xgb+lr"
   ]
  },
  {
   "cell_type": "code",
   "execution_count": 133,
   "metadata": {
    "deletable": false,
    "editable": false,
    "run_control": {
     "frozen": true
    }
   },
   "outputs": [
    {
     "name": "stdout",
     "output_type": "stream",
     "text": [
      "[0]\ttrain-auc:0.75003\n",
      "Will train until train-auc hasn't improved in 304 rounds.\n",
      "[20]\ttrain-auc:0.825611\n",
      "[40]\ttrain-auc:0.833463\n",
      "[60]\ttrain-auc:0.837016\n",
      "[80]\ttrain-auc:0.840613\n",
      "[100]\ttrain-auc:0.843919\n",
      "[120]\ttrain-auc:0.84783\n",
      "[140]\ttrain-auc:0.851898\n",
      "[160]\ttrain-auc:0.855635\n",
      "[180]\ttrain-auc:0.859144\n",
      "[200]\ttrain-auc:0.862247\n",
      "[220]\ttrain-auc:0.866045\n",
      "[240]\ttrain-auc:0.868845\n",
      "[260]\ttrain-auc:0.871496\n",
      "[280]\ttrain-auc:0.874424\n",
      "[300]\ttrain-auc:0.87775\n",
      "[320]\ttrain-auc:0.880032\n",
      "[340]\ttrain-auc:0.883009\n",
      "[360]\ttrain-auc:0.885558\n",
      "[380]\ttrain-auc:0.888023\n",
      "[400]\ttrain-auc:0.890347\n",
      "[420]\ttrain-auc:0.892764\n",
      "[440]\ttrain-auc:0.895291\n",
      "[460]\ttrain-auc:0.897798\n",
      "[480]\ttrain-auc:0.90019\n",
      "[499]\ttrain-auc:0.90214\n",
      "best score: 0.899969 \n",
      " best model: LogisticRegression(C=0.06, class_weight='balanced', dual=False,\n",
      "          fit_intercept=True, intercept_scaling=1, max_iter=80,\n",
      "          multi_class='ovr', n_jobs=1, penalty='l2', random_state=666,\n",
      "          solver='lbfgs', tol=0.0001, verbose=0, warm_start=False)\n",
      "------LogisticRegression classification_report------\n",
      "              precision    recall  f1-score   support\n",
      "\n",
      "          0       0.97      0.87      0.92      3541\n",
      "          1       0.16      0.49      0.24       172\n",
      "\n",
      "avg / total       0.93      0.86      0.89      3713\n",
      "\n",
      "auc: 0.7817542672875223\n",
      "train_score: 0.8935176871969833 \n",
      " test_score: 0.8556423377322919\n"
     ]
    },
    {
     "data": {
      "image/png": "[encoded data removed]",
      "text/plain": [
       "<Figure size 432x288 with 2 Axes>"
      ]
     },
     "metadata": {},
     "output_type": "display_data"
    },
    {
     "data": {
      "image/png": "[encoded data removed]",
      "text/plain": [
       "<Figure size 432x288 with 1 Axes>"
      ]
     },
     "metadata": {},
     "output_type": "display_data"
    }
   ],
   "source": [
    "import xgboost as xgb\n",
    "from sklearn.preprocessing import OneHotEncoder\n",
    "\n",
    "dtrain = xgb.DMatrix(train_x,label=train_y)\n",
    "dtest = xgb.DMatrix(test_x)\n",
    "one_hot = OneHotEncoder()\n",
    "\n",
    "params = {\n",
    "            'booster':'gbtree',\n",
    "            'objective': 'binary:logistic',\n",
    "            'scale_pos_weight': float(len(train_y)-sum(train_y))/float(sum(train_y)),\n",
    "            'eval_metric': 'auc',\n",
    "            'gamma':0.05,\n",
    "            'max_depth':3,\n",
    "            'alpha':7,\n",
    "            'lambda':5,\n",
    "            'subsample':0.8,\n",
    "            'colsample_bytree':0.6,\n",
    "            'min_child_weight':5, \n",
    "            'eta': 0.02,\n",
    "            'seed':0,\n",
    "            'silent':1,\n",
    "            'missing':-1,\n",
    "        }\n",
    "\n",
    "xgb_model = xgb.train(params,dtrain,num_boost_round=500,early_stopping_rounds=304,\n",
    "                       evals=[(dtrain,\"train\")],verbose_eval=20,maximize=True)\n",
    "\n",
    "train_leaf = xgb_model.predict(dtrain,ntree_limit=304,pred_leaf=True)\n",
    "test_leaf = xgb_model.predict(dtest,ntree_limit=304,pred_leaf=True)\n",
    "\n",
    "train_leaf_hot = one_hot.fit_transform(train_leaf)\n",
    "test_leaf_hot = one_hot.transform(test_leaf)\n",
    "     \n",
    "\n",
    "param_grid =  {\n",
    "            'penalty':['l2'],\n",
    "            'C':[0.06],\n",
    "            'solver':['lbfgs'],#['newton-cg','sag'],#l2\n",
    "#             'solver':['liblinear'],#,'saga',],#l1\n",
    "            'max_iter':[80],\n",
    "            'class_weight':['balanced'],\n",
    "#             'fit_intercept':[True],\n",
    "            'random_state':[666],      \n",
    "}\n",
    "\n",
    "xgbLR = GridSearchCV(LogisticRegression(),param_grid,cv=sfk,scoring='roc_auc')\n",
    "xgbLR.fit(train_leaf_hot,train_y)\n",
    "\n",
    "print(\"best score: %f \\n best model: %s\" % (xgbLR.best_score_,xgbLR.best_estimator_))\n",
    "xgbLR_best = xgbLR.best_estimator_\n",
    "\n",
    "train_score = xgbLR_best.score(train_leaf_hot,train_y)\n",
    "test_score = xgbLR_best.score(test_leaf_hot,test_y)\n",
    "y_pred = xgbLR_best.predict(test_leaf_hot)\n",
    "y_pred_prob = xgbLR_best.predict_proba(test_leaf_hot)[:,1]\n",
    "cm = confusion_matrix(test_y,y_pred)\n",
    "\n",
    "eval_info(xgbLR_best,test_y,y_pred_prob,cm)\n",
    "print( \"train_score:\",train_score,\"\\n\",\"test_score:\",test_score)"
   ]
  },
  {
   "cell_type": "markdown",
   "metadata": {},
   "source": [
    "# bagging dt"
   ]
  },
  {
   "cell_type": "code",
   "execution_count": 110,
   "metadata": {
    "deletable": false,
    "editable": false,
    "run_control": {
     "frozen": true
    }
   },
   "outputs": [
    {
     "name": "stdout",
     "output_type": "stream",
     "text": [
      "best score: 0.789294 \n",
      " best model: BaggingClassifier(base_estimator=DecisionTreeClassifier(class_weight='balanced', criterion='gini', max_depth=4,\n",
      "            max_features=0.8, max_leaf_nodes=None,\n",
      "            min_impurity_decrease=0.0, min_impurity_split=None,\n",
      "            min_samples_leaf=1, min_samples_split=2,\n",
      "            min_weight_fraction_leaf=0.04, presort=False, random_state=233,\n",
      "            splitter='best'),\n",
      "         bootstrap=True, bootstrap_features=False, max_features=0.7,\n",
      "         max_samples=0.8, n_estimators=80, n_jobs=1, oob_score=False,\n",
      "         random_state=777, verbose=0, warm_start=False)\n",
      "------BaggingClassifier classification_report------\n",
      "              precision    recall  f1-score   support\n",
      "\n",
      "          0       0.98      0.69      0.81      3541\n",
      "          1       0.11      0.76      0.19       172\n",
      "\n",
      "avg / total       0.94      0.70      0.79      3713\n",
      "\n",
      "auc: 0.794160432935119\n",
      "train_score: 0.7131569495989465 \n",
      " test_score: 0.6978184756261783\n"
     ]
    },
    {
     "data": {
      "image/png": "[encoded data removed]",
      "text/plain": [
       "<Figure size 374.4x288 with 2 Axes>"
      ]
     },
     "metadata": {},
     "output_type": "display_data"
    },
    {
     "data": {
      "image/png": "[encoded data removed]",
      "text/plain": [
       "<Figure size 374.4x288 with 1 Axes>"
      ]
     },
     "metadata": {},
     "output_type": "display_data"
    }
   ],
   "source": [
    "from sklearn.ensemble import BaggingClassifier\n",
    "param_grid = {\n",
    "    'base_estimator':[DT_best],#LR_best,SVC_best,GBDT_best],\n",
    "    'n_estimators':[80],\n",
    "    'max_samples':[0.8],\n",
    "    'max_features':[0.7],\n",
    "    'random_state':[777],\n",
    "}\n",
    "\n",
    "BAGG = GridSearchCV(BaggingClassifier(),param_grid,cv=sfk,scoring=\"roc_auc\")\n",
    "BAGG.fit(train_x,train_y)\n",
    "\n",
    "print(\"best score: %f \\n best model: %s\" % (BAGG.best_score_,BAGG.best_estimator_))\n",
    "BAGG_best = BAGG.best_estimator_\n",
    "train_score = BAGG_best.score(train_x,train_y)\n",
    "test_score = BAGG_best.score(test_x,test_y)\n",
    "y_pred = BAGG_best.predict(test_x)\n",
    "y_pred_prob = BAGG_best.predict_proba(test_x)[:,1]\n",
    "cm = confusion_matrix(test_y,y_pred)\n",
    "\n",
    "eval_info(BAGG_best,test_y,y_pred_prob,cm)\n",
    "print(\"train_score:\",train_score,\"\\n\",\"test_score:\",test_score)"
   ]
  },
  {
   "cell_type": "markdown",
   "metadata": {},
   "source": [
    "# bagging lr"
   ]
  },
  {
   "cell_type": "code",
   "execution_count": 96,
   "metadata": {
    "deletable": false,
    "editable": false,
    "run_control": {
     "frozen": true
    }
   },
   "outputs": [
    {
     "name": "stderr",
     "output_type": "stream",
     "text": [
      "F:\\Anaconda3\\lib\\site-packages\\sklearn\\linear_model\\sag.py:326: ConvergenceWarning: The max_iter was reached which means the coef_ did not converge\n",
      "  \"the coef_ did not converge\", ConvergenceWarning)\n",
      "F:\\Anaconda3\\lib\\site-packages\\sklearn\\linear_model\\sag.py:326: ConvergenceWarning: The max_iter was reached which means the coef_ did not converge\n",
      "  \"the coef_ did not converge\", ConvergenceWarning)\n",
      "F:\\Anaconda3\\lib\\site-packages\\sklearn\\linear_model\\sag.py:326: ConvergenceWarning: The max_iter was reached which means the coef_ did not converge\n",
      "  \"the coef_ did not converge\", ConvergenceWarning)\n",
      "F:\\Anaconda3\\lib\\site-packages\\sklearn\\linear_model\\sag.py:326: ConvergenceWarning: The max_iter was reached which means the coef_ did not converge\n",
      "  \"the coef_ did not converge\", ConvergenceWarning)\n",
      "F:\\Anaconda3\\lib\\site-packages\\sklearn\\linear_model\\sag.py:326: ConvergenceWarning: The max_iter was reached which means the coef_ did not converge\n",
      "  \"the coef_ did not converge\", ConvergenceWarning)\n",
      "F:\\Anaconda3\\lib\\site-packages\\sklearn\\linear_model\\sag.py:326: ConvergenceWarning: The max_iter was reached which means the coef_ did not converge\n",
      "  \"the coef_ did not converge\", ConvergenceWarning)\n",
      "F:\\Anaconda3\\lib\\site-packages\\sklearn\\linear_model\\sag.py:326: ConvergenceWarning: The max_iter was reached which means the coef_ did not converge\n",
      "  \"the coef_ did not converge\", ConvergenceWarning)\n",
      "F:\\Anaconda3\\lib\\site-packages\\sklearn\\linear_model\\sag.py:326: ConvergenceWarning: The max_iter was reached which means the coef_ did not converge\n",
      "  \"the coef_ did not converge\", ConvergenceWarning)\n",
      "F:\\Anaconda3\\lib\\site-packages\\sklearn\\linear_model\\sag.py:326: ConvergenceWarning: The max_iter was reached which means the coef_ did not converge\n",
      "  \"the coef_ did not converge\", ConvergenceWarning)\n",
      "F:\\Anaconda3\\lib\\site-packages\\sklearn\\linear_model\\sag.py:326: ConvergenceWarning: The max_iter was reached which means the coef_ did not converge\n",
      "  \"the coef_ did not converge\", ConvergenceWarning)\n",
      "F:\\Anaconda3\\lib\\site-packages\\sklearn\\linear_model\\sag.py:326: ConvergenceWarning: The max_iter was reached which means the coef_ did not converge\n",
      "  \"the coef_ did not converge\", ConvergenceWarning)\n",
      "F:\\Anaconda3\\lib\\site-packages\\sklearn\\linear_model\\sag.py:326: ConvergenceWarning: The max_iter was reached which means the coef_ did not converge\n",
      "  \"the coef_ did not converge\", ConvergenceWarning)\n",
      "F:\\Anaconda3\\lib\\site-packages\\sklearn\\linear_model\\sag.py:326: ConvergenceWarning: The max_iter was reached which means the coef_ did not converge\n",
      "  \"the coef_ did not converge\", ConvergenceWarning)\n",
      "F:\\Anaconda3\\lib\\site-packages\\sklearn\\linear_model\\sag.py:326: ConvergenceWarning: The max_iter was reached which means the coef_ did not converge\n",
      "  \"the coef_ did not converge\", ConvergenceWarning)\n",
      "F:\\Anaconda3\\lib\\site-packages\\sklearn\\linear_model\\sag.py:326: ConvergenceWarning: The max_iter was reached which means the coef_ did not converge\n",
      "  \"the coef_ did not converge\", ConvergenceWarning)\n",
      "F:\\Anaconda3\\lib\\site-packages\\sklearn\\linear_model\\sag.py:326: ConvergenceWarning: The max_iter was reached which means the coef_ did not converge\n",
      "  \"the coef_ did not converge\", ConvergenceWarning)\n",
      "F:\\Anaconda3\\lib\\site-packages\\sklearn\\linear_model\\sag.py:326: ConvergenceWarning: The max_iter was reached which means the coef_ did not converge\n",
      "  \"the coef_ did not converge\", ConvergenceWarning)\n",
      "F:\\Anaconda3\\lib\\site-packages\\sklearn\\linear_model\\sag.py:326: ConvergenceWarning: The max_iter was reached which means the coef_ did not converge\n",
      "  \"the coef_ did not converge\", ConvergenceWarning)\n",
      "F:\\Anaconda3\\lib\\site-packages\\sklearn\\linear_model\\sag.py:326: ConvergenceWarning: The max_iter was reached which means the coef_ did not converge\n",
      "  \"the coef_ did not converge\", ConvergenceWarning)\n",
      "F:\\Anaconda3\\lib\\site-packages\\sklearn\\linear_model\\sag.py:326: ConvergenceWarning: The max_iter was reached which means the coef_ did not converge\n",
      "  \"the coef_ did not converge\", ConvergenceWarning)\n",
      "F:\\Anaconda3\\lib\\site-packages\\sklearn\\linear_model\\sag.py:326: ConvergenceWarning: The max_iter was reached which means the coef_ did not converge\n",
      "  \"the coef_ did not converge\", ConvergenceWarning)\n",
      "F:\\Anaconda3\\lib\\site-packages\\sklearn\\linear_model\\sag.py:326: ConvergenceWarning: The max_iter was reached which means the coef_ did not converge\n",
      "  \"the coef_ did not converge\", ConvergenceWarning)\n",
      "F:\\Anaconda3\\lib\\site-packages\\sklearn\\linear_model\\sag.py:326: ConvergenceWarning: The max_iter was reached which means the coef_ did not converge\n",
      "  \"the coef_ did not converge\", ConvergenceWarning)\n",
      "F:\\Anaconda3\\lib\\site-packages\\sklearn\\linear_model\\sag.py:326: ConvergenceWarning: The max_iter was reached which means the coef_ did not converge\n",
      "  \"the coef_ did not converge\", ConvergenceWarning)\n",
      "F:\\Anaconda3\\lib\\site-packages\\sklearn\\linear_model\\sag.py:326: ConvergenceWarning: The max_iter was reached which means the coef_ did not converge\n",
      "  \"the coef_ did not converge\", ConvergenceWarning)\n",
      "F:\\Anaconda3\\lib\\site-packages\\sklearn\\linear_model\\sag.py:326: ConvergenceWarning: The max_iter was reached which means the coef_ did not converge\n",
      "  \"the coef_ did not converge\", ConvergenceWarning)\n",
      "F:\\Anaconda3\\lib\\site-packages\\sklearn\\linear_model\\sag.py:326: ConvergenceWarning: The max_iter was reached which means the coef_ did not converge\n",
      "  \"the coef_ did not converge\", ConvergenceWarning)\n",
      "F:\\Anaconda3\\lib\\site-packages\\sklearn\\linear_model\\sag.py:326: ConvergenceWarning: The max_iter was reached which means the coef_ did not converge\n",
      "  \"the coef_ did not converge\", ConvergenceWarning)\n",
      "F:\\Anaconda3\\lib\\site-packages\\sklearn\\linear_model\\sag.py:326: ConvergenceWarning: The max_iter was reached which means the coef_ did not converge\n",
      "  \"the coef_ did not converge\", ConvergenceWarning)\n",
      "F:\\Anaconda3\\lib\\site-packages\\sklearn\\linear_model\\sag.py:326: ConvergenceWarning: The max_iter was reached which means the coef_ did not converge\n",
      "  \"the coef_ did not converge\", ConvergenceWarning)\n",
      "F:\\Anaconda3\\lib\\site-packages\\sklearn\\linear_model\\sag.py:326: ConvergenceWarning: The max_iter was reached which means the coef_ did not converge\n",
      "  \"the coef_ did not converge\", ConvergenceWarning)\n",
      "F:\\Anaconda3\\lib\\site-packages\\sklearn\\linear_model\\sag.py:326: ConvergenceWarning: The max_iter was reached which means the coef_ did not converge\n",
      "  \"the coef_ did not converge\", ConvergenceWarning)\n",
      "F:\\Anaconda3\\lib\\site-packages\\sklearn\\linear_model\\sag.py:326: ConvergenceWarning: The max_iter was reached which means the coef_ did not converge\n",
      "  \"the coef_ did not converge\", ConvergenceWarning)\n",
      "F:\\Anaconda3\\lib\\site-packages\\sklearn\\linear_model\\sag.py:326: ConvergenceWarning: The max_iter was reached which means the coef_ did not converge\n",
      "  \"the coef_ did not converge\", ConvergenceWarning)\n",
      "F:\\Anaconda3\\lib\\site-packages\\sklearn\\linear_model\\sag.py:326: ConvergenceWarning: The max_iter was reached which means the coef_ did not converge\n",
      "  \"the coef_ did not converge\", ConvergenceWarning)\n",
      "F:\\Anaconda3\\lib\\site-packages\\sklearn\\linear_model\\sag.py:326: ConvergenceWarning: The max_iter was reached which means the coef_ did not converge\n",
      "  \"the coef_ did not converge\", ConvergenceWarning)\n",
      "F:\\Anaconda3\\lib\\site-packages\\sklearn\\linear_model\\sag.py:326: ConvergenceWarning: The max_iter was reached which means the coef_ did not converge\n",
      "  \"the coef_ did not converge\", ConvergenceWarning)\n",
      "F:\\Anaconda3\\lib\\site-packages\\sklearn\\linear_model\\sag.py:326: ConvergenceWarning: The max_iter was reached which means the coef_ did not converge\n",
      "  \"the coef_ did not converge\", ConvergenceWarning)\n",
      "F:\\Anaconda3\\lib\\site-packages\\sklearn\\linear_model\\sag.py:326: ConvergenceWarning: The max_iter was reached which means the coef_ did not converge\n",
      "  \"the coef_ did not converge\", ConvergenceWarning)\n",
      "F:\\Anaconda3\\lib\\site-packages\\sklearn\\linear_model\\sag.py:326: ConvergenceWarning: The max_iter was reached which means the coef_ did not converge\n",
      "  \"the coef_ did not converge\", ConvergenceWarning)\n"
     ]
    },
    {
     "name": "stdout",
     "output_type": "stream",
     "text": [
      "best score: 0.801813 \n",
      " best model: BaggingClassifier(base_estimator=LogisticRegression(C=0.035, class_weight='balanced', dual=False,\n",
      "          fit_intercept=True, intercept_scaling=1, max_iter=350,\n",
      "          multi_class='ovr', n_jobs=1, penalty='l1', random_state=666,\n",
      "          solver='saga', tol=0.0001, verbose=0, warm_start=False),\n",
      "         bootstrap=True, bootstrap_features=False, max_features=1.0,\n",
      "         max_samples=1.0, n_estimators=10, n_jobs=1, oob_score=False,\n",
      "         random_state=777, verbose=0, warm_start=False)\n",
      "------BaggingClassifier classification_report------\n",
      "              precision    recall  f1-score   support\n",
      "\n",
      "          0       0.99      0.73      0.84      3541\n",
      "          1       0.12      0.77      0.21       172\n",
      "\n",
      "avg / total       0.95      0.73      0.81      3713\n",
      "\n",
      "auc: 0.8116696111333679\n",
      "train_score: 0.7323576943796014 \n",
      " test_score: 0.7322919472124967\n"
     ]
    },
    {
     "data": {
      "image/png": "[encoded data removed]",
      "text/plain": [
       "<Figure size 374.4x288 with 2 Axes>"
      ]
     },
     "metadata": {},
     "output_type": "display_data"
    },
    {
     "data": {
      "image/png": "[encoded data removed]",
      "text/plain": [
       "<Figure size 374.4x288 with 1 Axes>"
      ]
     },
     "metadata": {},
     "output_type": "display_data"
    }
   ],
   "source": [
    "from sklearn.ensemble import BaggingClassifier\n",
    "param_grid = {\n",
    "    'base_estimator':[LR_best],#SVC_best,GBDT_best],\n",
    "#     'n_estimators':[80],\n",
    "#     'max_samples':[0.8],\n",
    "#     'max_features':[0.7],\n",
    "    'random_state':[777],\n",
    "}\n",
    "\n",
    "BAGG = GridSearchCV(BaggingClassifier(),param_grid,cv=sfk,scoring=\"roc_auc\")\n",
    "BAGG.fit(train_x,train_y)\n",
    "\n",
    "print(\"best score: %f \\n best model: %s\" % (BAGG.best_score_,BAGG.best_estimator_))\n",
    "BAGG_best = BAGG.best_estimator_\n",
    "train_score = BAGG_best.score(train_x,train_y)\n",
    "test_score = BAGG_best.score(test_x,test_y)\n",
    "y_pred = BAGG_best.predict(test_x)\n",
    "y_pred_prob = BAGG_best.predict_proba(test_x)[:,1]\n",
    "cm = confusion_matrix(test_y,y_pred)\n",
    "\n",
    "eval_info(BAGG_best,test_y,y_pred_prob,cm)\n",
    "print(\"train_score:\",train_score,\"\\n\",\"test_score:\",test_score)"
   ]
  },
  {
   "cell_type": "markdown",
   "metadata": {},
   "source": [
    "# voting "
   ]
  },
  {
   "cell_type": "code",
   "execution_count": 97,
   "metadata": {
    "deletable": false,
    "editable": false,
    "run_control": {
     "frozen": true
    }
   },
   "outputs": [
    {
     "name": "stderr",
     "output_type": "stream",
     "text": [
      "F:\\Anaconda3\\lib\\site-packages\\sklearn\\linear_model\\sag.py:326: ConvergenceWarning: The max_iter was reached which means the coef_ did not converge\n",
      "  \"the coef_ did not converge\", ConvergenceWarning)\n",
      "F:\\Anaconda3\\lib\\site-packages\\sklearn\\linear_model\\sag.py:326: ConvergenceWarning: The max_iter was reached which means the coef_ did not converge\n",
      "  \"the coef_ did not converge\", ConvergenceWarning)\n",
      "F:\\Anaconda3\\lib\\site-packages\\sklearn\\linear_model\\sag.py:326: ConvergenceWarning: The max_iter was reached which means the coef_ did not converge\n",
      "  \"the coef_ did not converge\", ConvergenceWarning)\n",
      "F:\\Anaconda3\\lib\\site-packages\\sklearn\\linear_model\\sag.py:326: ConvergenceWarning: The max_iter was reached which means the coef_ did not converge\n",
      "  \"the coef_ did not converge\", ConvergenceWarning)\n"
     ]
    },
    {
     "name": "stdout",
     "output_type": "stream",
     "text": [
      "best score: 0.810093 \n",
      " best model: VotingClassifier(estimators=[('lr', LogisticRegression(C=0.035, class_weight='balanced', dual=False,\n",
      "          fit_intercept=True, intercept_scaling=1, max_iter=350,\n",
      "          multi_class='ovr', n_jobs=1, penalty='l1', random_state=666,\n",
      "          solver='saga', tol=0.0001, verbose=0, warm_start=False)), ('mlp', MLPC...         presort='auto', random_state=1, subsample=0.8, verbose=0,\n",
      "              warm_start=False))],\n",
      "         flatten_transform=None, n_jobs=1, voting='soft',\n",
      "         weights=[2, 5, 1, 1, 6, 5])\n"
     ]
    },
    {
     "name": "stderr",
     "output_type": "stream",
     "text": [
      "F:\\Anaconda3\\lib\\site-packages\\sklearn\\preprocessing\\label.py:151: DeprecationWarning: The truth value of an empty array is ambiguous. Returning False, but in future this will result in an error. Use `array.size > 0` to check that an array is not empty.\n",
      "  if diff:\n",
      "F:\\Anaconda3\\lib\\site-packages\\sklearn\\preprocessing\\label.py:151: DeprecationWarning: The truth value of an empty array is ambiguous. Returning False, but in future this will result in an error. Use `array.size > 0` to check that an array is not empty.\n",
      "  if diff:\n",
      "F:\\Anaconda3\\lib\\site-packages\\sklearn\\preprocessing\\label.py:151: DeprecationWarning: The truth value of an empty array is ambiguous. Returning False, but in future this will result in an error. Use `array.size > 0` to check that an array is not empty.\n",
      "  if diff:\n"
     ]
    },
    {
     "name": "stdout",
     "output_type": "stream",
     "text": [
      "------VotingClassifier classification_report------\n",
      "              precision    recall  f1-score   support\n",
      "\n",
      "          0       0.96      0.98      0.97      3541\n",
      "          1       0.26      0.12      0.17       172\n",
      "\n",
      "avg / total       0.93      0.94      0.93      3713\n",
      "\n",
      "auc: 0.8318320931546075\n",
      "train_score: 0.9525947207757227 \n",
      " test_score: 0.9429033126851603\n"
     ]
    },
    {
     "data": {
      "image/png": "[encoded data removed]",
      "text/plain": [
       "<Figure size 374.4x288 with 2 Axes>"
      ]
     },
     "metadata": {},
     "output_type": "display_data"
    },
    {
     "data": {
      "image/png": "[encoded data removed]",
      "text/plain": [
       "<Figure size 374.4x288 with 1 Axes>"
      ]
     },
     "metadata": {},
     "output_type": "display_data"
    }
   ],
   "source": [
    "from sklearn.model_selection import GridSearchCV\n",
    "from sklearn.ensemble import VotingClassifier\n",
    "param_grid ={\n",
    "    'voting':['soft'],\n",
    "    'weights':[\n",
    "               [2,5,1,1,6,5],\n",
    "    ]\n",
    "}\n",
    "\n",
    "estimators = [ ('lr', LR_best),('mlp',MLP_best), \n",
    "               ('rf', RF_best),('et', ET_best) ,\n",
    "               ('xgb',XGB_best),('gbdt',GBDT_best)\n",
    "             ]\n",
    "\n",
    "voting =GridSearchCV(VotingClassifier(estimators),param_grid,cv=sfk,scoring=\"roc_auc\")\n",
    "voting.fit(train_x,train_y)\n",
    "\n",
    "print(\"best score: %f \\n best model: %s\" % (voting.best_score_,voting.best_estimator_))\n",
    "voting_best = voting.best_estimator_\n",
    "train_score = voting_best.score(train_x,train_y)\n",
    "test_score = voting_best.score(test_x,test_y)\n",
    "y_pred = voting_best.predict(test_x)\n",
    "y_pred_prob = voting_best.predict_proba(test_x)[:,1]\n",
    "cm = confusion_matrix(test_y,y_pred)\n",
    "\n",
    "eval_info(voting_best,test_y,y_pred_prob,cm)\n",
    "print(\"train_score:\",train_score,\"\\n\",\"test_score:\",test_score)"
   ]
  },
  {
   "cell_type": "code",
   "execution_count": 98,
   "metadata": {
    "deletable": false,
    "editable": false,
    "run_control": {
     "frozen": true
    }
   },
   "outputs": [
    {
     "name": "stderr",
     "output_type": "stream",
     "text": [
      "F:\\Anaconda3\\lib\\site-packages\\sklearn\\linear_model\\sag.py:326: ConvergenceWarning: The max_iter was reached which means the coef_ did not converge\n",
      "  \"the coef_ did not converge\", ConvergenceWarning)\n",
      "F:\\Anaconda3\\lib\\site-packages\\sklearn\\linear_model\\sag.py:326: ConvergenceWarning: The max_iter was reached which means the coef_ did not converge\n",
      "  \"the coef_ did not converge\", ConvergenceWarning)\n",
      "F:\\Anaconda3\\lib\\site-packages\\sklearn\\linear_model\\sag.py:326: ConvergenceWarning: The max_iter was reached which means the coef_ did not converge\n",
      "  \"the coef_ did not converge\", ConvergenceWarning)\n",
      "F:\\Anaconda3\\lib\\site-packages\\sklearn\\linear_model\\sag.py:326: ConvergenceWarning: The max_iter was reached which means the coef_ did not converge\n",
      "  \"the coef_ did not converge\", ConvergenceWarning)\n",
      "F:\\Anaconda3\\lib\\site-packages\\sklearn\\linear_model\\sag.py:326: ConvergenceWarning: The max_iter was reached which means the coef_ did not converge\n",
      "  \"the coef_ did not converge\", ConvergenceWarning)\n"
     ]
    },
    {
     "name": "stdout",
     "output_type": "stream",
     "text": [
      "best_voting_cv_auc: [0.81424925 0.83561827 0.82768003 0.80047202 0.82719307]\n"
     ]
    }
   ],
   "source": [
    "# save model\n",
    "import pickle\n",
    "with open(\"./best_models/voting_pkl.txt\",'wb') as f:\n",
    "    pickle.dump(voting_best,f)\n",
    "\n",
    "# cross-validation\n",
    "from sklearn.cross_validation import cross_val_score\n",
    "voting_cv_auc = cross_val_score(voting_best,X,y,cv=5,scoring=\"roc_auc\")\n",
    "print(\"best_voting_cv_auc:\",voting_cv_auc)"
   ]
  },
  {
   "cell_type": "code",
   "execution_count": 99,
   "metadata": {
    "deletable": false,
    "editable": false,
    "run_control": {
     "frozen": true
    }
   },
   "outputs": [
    {
     "name": "stderr",
     "output_type": "stream",
     "text": [
      "F:\\Anaconda3\\lib\\site-packages\\sklearn\\preprocessing\\label.py:151: DeprecationWarning: The truth value of an empty array is ambiguous. Returning False, but in future this will result in an error. Use `array.size > 0` to check that an array is not empty.\n",
      "  if diff:\n"
     ]
    },
    {
     "name": "stdout",
     "output_type": "stream",
     "text": [
      "0    9969\n",
      "1      31\n",
      "dtype: int64\n"
     ]
    }
   ],
   "source": [
    "# predict\n",
    "test_all = pd.read_csv(\"./another data/test_all_clean.csv\",index_col=['cust_group','cust_id'])\n",
    "y_pred = voting_best.predict(test_all)\n",
    "y_pred_prob = voting_best.predict_proba(test_all)[:,1]\n",
    "\n",
    "print(pd.Series(y_pred).value_counts())\n",
    "pred_result = pd.Series(y_pred_prob,index=test_all.index.get_level_values(level=1),name=\"pred_prob\")\n",
    "pred_result.index.name = \"cust_id\"\n",
    "pred_result.sort_index().to_csv(\"./predict/pred_result_voting.csv\",header=True)"
   ]
  },
  {
   "cell_type": "code",
   "execution_count": 154,
   "metadata": {
    "deletable": false,
    "editable": false,
    "run_control": {
     "frozen": true
    }
   },
   "outputs": [
    {
     "name": "stdout",
     "output_type": "stream",
     "text": [
      "best score: 0.810510 \n",
      " best model: VotingClassifier(estimators=[('xgb', XGBClassifier(base_score=0.5, booster='gbtree', colsample_bylevel=1,\n",
      "       colsample_bytree=0.6, gamma=0.05, learning_rate=0.05,\n",
      "       max_delta_step=0, max_depth=3, min_child_weight=5, missing=-1,\n",
      "       n_estimators=145, n_jobs=1, nthread=None,\n",
      "       objective='binary:logist...         presort='auto', random_state=1, subsample=0.8, verbose=0,\n",
      "              warm_start=False))],\n",
      "         flatten_transform=None, n_jobs=1, voting='soft',\n",
      "         weights=[1, 2, 4, 4])\n"
     ]
    },
    {
     "name": "stderr",
     "output_type": "stream",
     "text": [
      "F:\\Anaconda3\\lib\\site-packages\\sklearn\\preprocessing\\label.py:151: DeprecationWarning: The truth value of an empty array is ambiguous. Returning False, but in future this will result in an error. Use `array.size > 0` to check that an array is not empty.\n",
      "  if diff:\n",
      "F:\\Anaconda3\\lib\\site-packages\\sklearn\\preprocessing\\label.py:151: DeprecationWarning: The truth value of an empty array is ambiguous. Returning False, but in future this will result in an error. Use `array.size > 0` to check that an array is not empty.\n",
      "  if diff:\n",
      "F:\\Anaconda3\\lib\\site-packages\\sklearn\\preprocessing\\label.py:151: DeprecationWarning: The truth value of an empty array is ambiguous. Returning False, but in future this will result in an error. Use `array.size > 0` to check that an array is not empty.\n",
      "  if diff:\n"
     ]
    },
    {
     "name": "stdout",
     "output_type": "stream",
     "text": [
      "------VotingClassifier classification_report------\n",
      "              precision    recall  f1-score   support\n",
      "\n",
      "          0       0.96      0.99      0.98      3541\n",
      "          1       0.41      0.08      0.14       172\n",
      "\n",
      "avg / total       0.93      0.95      0.94      3713\n",
      "\n",
      "auc: 0.8195572791814163\n",
      "train_score: 0.9562758125336686 \n",
      " test_score: 0.952060328575276\n"
     ]
    },
    {
     "data": {
      "image/png": "[encoded data removed]",
      "text/plain": [
       "<Figure size 432x288 with 2 Axes>"
      ]
     },
     "metadata": {},
     "output_type": "display_data"
    },
    {
     "data": {
      "image/png": "[encoded data removed]",
      "text/plain": [
       "<Figure size 432x288 with 1 Axes>"
      ]
     },
     "metadata": {},
     "output_type": "display_data"
    }
   ],
   "source": [
    "from sklearn.model_selection import GridSearchCV\n",
    "from sklearn.ensemble import VotingClassifier\n",
    "param_grid ={\n",
    "    'voting':['soft'],\n",
    "    'weights':[\n",
    "               [1,2,4,4],\n",
    "    ]\n",
    "}\n",
    "\n",
    "estimators = [ ('xgb', XGB_best),('bagging_xgb', bagging_xgb),\n",
    "              ('mlp',MLP_best),('gbdt',GBDT_best)\n",
    "             ]\n",
    "\n",
    "voting =GridSearchCV(VotingClassifier(estimators),param_grid,cv=sfk,scoring=\"roc_auc\")\n",
    "voting.fit(train_x,train_y)\n",
    "\n",
    "print(\"best score: %f \\n best model: %s\" % (voting.best_score_,voting.best_estimator_))\n",
    "voting_best = voting.best_estimator_\n",
    "train_score = voting_best.score(train_x,train_y)\n",
    "test_score = voting_best.score(test_x,test_y)\n",
    "y_pred = voting_best.predict(test_x)\n",
    "y_pred_prob = voting_best.predict_proba(test_x)[:,1]\n",
    "cm = confusion_matrix(test_y,y_pred)\n",
    "\n",
    "eval_info(voting_best,test_y,y_pred_prob,cm)\n",
    "print(\"train_score:\",train_score,\"\\n\",\"test_score:\",test_score)"
   ]
  },
  {
   "cell_type": "markdown",
   "metadata": {},
   "source": [
    "# GBDT+LR"
   ]
  },
  {
   "cell_type": "code",
   "execution_count": 100,
   "metadata": {
    "deletable": false,
    "editable": false,
    "run_control": {
     "frozen": true
    }
   },
   "outputs": [
    {
     "name": "stderr",
     "output_type": "stream",
     "text": [
      "F:\\Anaconda3\\lib\\site-packages\\sklearn\\linear_model\\sag.py:326: ConvergenceWarning: The max_iter was reached which means the coef_ did not converge\n",
      "  \"the coef_ did not converge\", ConvergenceWarning)\n"
     ]
    },
    {
     "name": "stdout",
     "output_type": "stream",
     "text": [
      "------LogisticRegression classification_report------\n",
      "              precision    recall  f1-score   support\n",
      "\n",
      "          0       0.98      0.63      0.77      3541\n",
      "          1       0.09      0.70      0.15       172\n",
      "\n",
      "avg / total       0.94      0.64      0.74      3713\n",
      "\n",
      "auc: 0.7218874578853695\n",
      "train_score: 0.9525947207757227 \n",
      " test_score: 0.9429033126851603\n"
     ]
    },
    {
     "data": {
      "image/png": "[encoded data removed]",
      "text/plain": [
       "<Figure size 374.4x288 with 2 Axes>"
      ]
     },
     "metadata": {},
     "output_type": "display_data"
    },
    {
     "data": {
      "image/png": "[encoded data removed]",
      "text/plain": [
       "<Figure size 374.4x288 with 1 Axes>"
      ]
     },
     "metadata": {},
     "output_type": "display_data"
    }
   ],
   "source": [
    "train_x,test_x,train_y,test_y = train_test_split(X,y,stratify=y)\n",
    "train_x,train_x_lr,train_y,test_y_lr = train_test_split(train_x,train_y,stratify=train_y)\n",
    "\n",
    "from sklearn.preprocessing import OneHotEncoder\n",
    "one_hot = OneHotEncoder()\n",
    "\n",
    "GBDT_best.fit(train_x,train_y)\n",
    "one_hot.fit(GBDT_best.apply(train_x)[:,:,0])\n",
    "LR_best.fit(one_hot.transform(GBDT_best.apply(train_x_lr)[:,:,0]),test_y_lr)\n",
    "\n",
    "y_pred = LR_best.predict(one_hot.transform(GBDT_best.apply(test_x)[:,:,0]))\n",
    "y_pred_prob = LR_best.predict_proba(one_hot.transform(GBDT_best.apply(test_x)[:,:,0]))[:,1]\n",
    "cm = confusion_matrix(test_y,y_pred)\n",
    "\n",
    "eval_info(LR_best,test_y,y_pred_prob,cm)\n",
    "print( \"train_score:\",train_score,\"\\n\",\"test_score:\",test_score)"
   ]
  },
  {
   "cell_type": "code",
   "execution_count": null,
   "metadata": {},
   "outputs": [],
   "source": [
    "GBDT_best.apply(train_x)[:,:,0]"
   ]
  },
  {
   "cell_type": "code",
   "execution_count": 175,
   "metadata": {
    "deletable": false,
    "editable": false,
    "run_control": {
     "frozen": true
    }
   },
   "outputs": [
    {
     "name": "stdout",
     "output_type": "stream",
     "text": [
      "best score: 0.795128 \n",
      " best model: LogisticRegression(C=0.06, class_weight='balanced', dual=False,\n",
      "          fit_intercept=True, intercept_scaling=1, max_iter=50,\n",
      "          multi_class='ovr', n_jobs=1, penalty='l1', random_state=666,\n",
      "          solver='liblinear', tol=0.0001, verbose=0, warm_start=False)\n",
      "------LogisticRegression classification_report------\n",
      "              precision    recall  f1-score   support\n",
      "\n",
      "          0       0.98      0.74      0.84      3541\n",
      "          1       0.12      0.72      0.20       172\n",
      "\n",
      "avg / total       0.94      0.74      0.81      3713\n",
      "\n",
      "auc: 0.7910523239394994\n",
      "train_score: 0.7651705565529623 \n",
      " test_score: 0.7368704551575546\n"
     ]
    },
    {
     "data": {
      "image/png": "[encoded data removed]",
      "text/plain": [
       "<Figure size 374.4x288 with 2 Axes>"
      ]
     },
     "metadata": {},
     "output_type": "display_data"
    },
    {
     "data": {
      "image/png": "[encoded data removed]",
      "text/plain": [
       "<Figure size 374.4x288 with 1 Axes>"
      ]
     },
     "metadata": {},
     "output_type": "display_data"
    }
   ],
   "source": [
    "train_x,test_x,train_y,test_y = train_test_split(X,y,stratify=y)\n",
    "train_x,train_x_lr,train_y,train_y_lr = train_test_split(train_x,train_y,stratify=train_y)\n",
    "\n",
    "from sklearn.preprocessing import OneHotEncoder\n",
    "one_hot = OneHotEncoder()\n",
    "\n",
    "GBDT_best.fit(train_x,train_y)\n",
    "one_hot.fit(GBDT_best.apply(train_x)[:,:,0])\n",
    "train_x_lr = one_hot.transform(GBDT_best.apply(train_x_lr)[:,:,0])\n",
    "test_x_lr = one_hot.transform(GBDT_best.apply(test_x)[:,:,0])\n",
    "                               \n",
    "param_grid =  {\n",
    "            'penalty':['l1'],#'l2'],\n",
    "            'C':[0.06],\n",
    "#             'solver':['newton-cg','lbfgs','sag'],#l2\n",
    "            'solver':['liblinear'],#,'saga',],#l1\n",
    "            'max_iter':[50],\n",
    "            'class_weight':['balanced'],\n",
    "#             'fit_intercept':[True],\n",
    "            'random_state':[666],      \n",
    "}\n",
    "\n",
    "GBLR = GridSearchCV(LogisticRegression(),param_grid,cv=sfk,scoring='roc_auc')\n",
    "GBLR.fit(train_x_lr,train_y_lr)\n",
    "\n",
    "print(\"best score: %f \\n best model: %s\" % (GBLR.best_score_, GBLR.best_estimator_))\n",
    "GBLR_best = GBLR.best_estimator_\n",
    "\n",
    "train_score = GBLR_best.score(train_x_lr,train_y_lr)\n",
    "test_score = GBLR_best.score(test_x_lr,test_y)\n",
    "y_pred = GBLR_best.predict(test_x_lr)\n",
    "y_pred_prob = GBLR_best.predict_proba(test_x_lr)[:,1]\n",
    "cm = confusion_matrix(test_y,y_pred)\n",
    "\n",
    "eval_info(GBLR_best,test_y,y_pred_prob,cm)\n",
    "print( \"train_score:\",train_score,\"\\n\",\"test_score:\",test_score)"
   ]
  },
  {
   "cell_type": "markdown",
   "metadata": {},
   "source": [
    "# FM"
   ]
  },
  {
   "cell_type": "code",
   "execution_count": null,
   "metadata": {},
   "outputs": [],
   "source": [
    "# from fastFM import sgd\n",
    "# fm = sgd.FMClassification(n_iter=1000, init_stdev=0.1, l2_reg_w=0,\n",
    "#                               l2_reg_V=0, rank=2, step_size=0.1)\n",
    "# fm.fit(train_x,train_y)\n",
    "# y_pred = fm.predict(test_x)\n",
    "# y_pred_prob = fm.predict_proba(test_x)\n",
    "\n",
    "# cm = confusion_matrix(test_y,y_pred)\n",
    "\n",
    "# eval_info(fm,test_y,y_pred_prob,cm)\n",
    "# print( \"train_score:\",train_score,\"\\n\",\"test_score:\",test_score)\n"
   ]
  },
  {
   "cell_type": "markdown",
   "metadata": {},
   "source": [
    "# LDA"
   ]
  },
  {
   "cell_type": "code",
   "execution_count": 201,
   "metadata": {
    "deletable": false,
    "editable": false,
    "run_control": {
     "frozen": true
    }
   },
   "outputs": [
    {
     "name": "stderr",
     "output_type": "stream",
     "text": [
      "F:\\Anaconda3\\lib\\site-packages\\sklearn\\discriminant_analysis.py:682: UserWarning: Variables are collinear\n",
      "  warnings.warn(\"Variables are collinear\")\n",
      "F:\\Anaconda3\\lib\\site-packages\\sklearn\\discriminant_analysis.py:682: UserWarning: Variables are collinear\n",
      "  warnings.warn(\"Variables are collinear\")\n",
      "F:\\Anaconda3\\lib\\site-packages\\sklearn\\discriminant_analysis.py:682: UserWarning: Variables are collinear\n",
      "  warnings.warn(\"Variables are collinear\")\n",
      "F:\\Anaconda3\\lib\\site-packages\\sklearn\\discriminant_analysis.py:682: UserWarning: Variables are collinear\n",
      "  warnings.warn(\"Variables are collinear\")\n",
      "F:\\Anaconda3\\lib\\site-packages\\sklearn\\discriminant_analysis.py:682: UserWarning: Variables are collinear\n",
      "  warnings.warn(\"Variables are collinear\")\n",
      "F:\\Anaconda3\\lib\\site-packages\\sklearn\\discriminant_analysis.py:682: UserWarning: Variables are collinear\n",
      "  warnings.warn(\"Variables are collinear\")\n",
      "F:\\Anaconda3\\lib\\site-packages\\sklearn\\discriminant_analysis.py:682: UserWarning: Variables are collinear\n",
      "  warnings.warn(\"Variables are collinear\")\n",
      "F:\\Anaconda3\\lib\\site-packages\\sklearn\\discriminant_analysis.py:682: UserWarning: Variables are collinear\n",
      "  warnings.warn(\"Variables are collinear\")\n",
      "F:\\Anaconda3\\lib\\site-packages\\sklearn\\discriminant_analysis.py:682: UserWarning: Variables are collinear\n",
      "  warnings.warn(\"Variables are collinear\")\n",
      "F:\\Anaconda3\\lib\\site-packages\\sklearn\\discriminant_analysis.py:682: UserWarning: Variables are collinear\n",
      "  warnings.warn(\"Variables are collinear\")\n"
     ]
    },
    {
     "name": "stdout",
     "output_type": "stream",
     "text": [
      "best score: 0.779201 \n",
      " best model: QuadraticDiscriminantAnalysis(priors=2, reg_param=0.911,\n",
      "               store_covariance=False, store_covariances=None, tol=0.0001)\n",
      "------QuadraticDiscriminantAnalysis classification_report------\n",
      "              precision    recall  f1-score   support\n",
      "\n",
      "          0       0.98      0.71      0.83      3541\n",
      "          1       0.11      0.74      0.19       172\n",
      "\n",
      "avg / total       0.94      0.71      0.80      3713\n",
      "\n",
      "auc: 0.7943213387362655\n",
      "train_score: 0.7164661519123721 \n",
      " test_score: 0.713977915432265\n"
     ]
    },
    {
     "data": {
      "image/png": "[encoded data removed]",
      "text/plain": [
       "<Figure size 374.4x288 with 2 Axes>"
      ]
     },
     "metadata": {},
     "output_type": "display_data"
    },
    {
     "data": {
      "image/png": "[encoded data removed]",
      "text/plain": [
       "<Figure size 374.4x288 with 1 Axes>"
      ]
     },
     "metadata": {},
     "output_type": "display_data"
    }
   ],
   "source": [
    "from sklearn.discriminant_analysis import QuadraticDiscriminantAnalysis\n",
    "from sklearn.model_selection import GridSearchCV\n",
    "\n",
    "param_grid = {\n",
    "    'priors':[2], \n",
    "    'reg_param':[0.911],\n",
    "#     'tol':[0.0001]\n",
    "}\n",
    "\n",
    "\n",
    "LDA = GridSearchCV(QuadraticDiscriminantAnalysis(),param_grid,cv=sfk,scoring='roc_auc')\n",
    "LDA.fit(train_x,train_y)\n",
    "\n",
    "print(\"best score: %f \\n best model: %s\" % (LDA.best_score_, LDA.best_estimator_))\n",
    "\n",
    "LDA_best = LDA.best_estimator_\n",
    "train_score = LDA_best.score(train_x,train_y)\n",
    "test_score = LDA_best.score(test_x,test_y)\n",
    "y_pred = LDA_best.predict(test_x)\n",
    "y_pred_prob = LDA_best.predict_proba(test_x)[:,1]\n",
    "cm = confusion_matrix(test_y,y_pred)\n",
    "\n",
    "eval_info(LDA_best,test_y,y_pred_prob,cm)\n",
    "print( \"train_score:\",train_score,\"\\n\",\"test_score:\",test_score)\n"
   ]
  },
  {
   "cell_type": "code",
   "execution_count": 202,
   "metadata": {
    "deletable": false,
    "editable": false,
    "run_control": {
     "frozen": true
    }
   },
   "outputs": [
    {
     "name": "stderr",
     "output_type": "stream",
     "text": [
      "F:\\Anaconda3\\lib\\site-packages\\sklearn\\base.py:115: DeprecationWarning: Estimator QuadraticDiscriminantAnalysis modifies parameters in __init__. This behavior is deprecated as of 0.18 and support for this behavior will be removed in 0.20.\n",
      "  % type(estimator).__name__, DeprecationWarning)\n",
      "F:\\Anaconda3\\lib\\site-packages\\sklearn\\discriminant_analysis.py:682: UserWarning: Variables are collinear\n",
      "  warnings.warn(\"Variables are collinear\")\n",
      "F:\\Anaconda3\\lib\\site-packages\\sklearn\\base.py:115: DeprecationWarning: Estimator QuadraticDiscriminantAnalysis modifies parameters in __init__. This behavior is deprecated as of 0.18 and support for this behavior will be removed in 0.20.\n",
      "  % type(estimator).__name__, DeprecationWarning)\n",
      "F:\\Anaconda3\\lib\\site-packages\\sklearn\\discriminant_analysis.py:682: UserWarning: Variables are collinear\n",
      "  warnings.warn(\"Variables are collinear\")\n",
      "F:\\Anaconda3\\lib\\site-packages\\sklearn\\base.py:115: DeprecationWarning: Estimator QuadraticDiscriminantAnalysis modifies parameters in __init__. This behavior is deprecated as of 0.18 and support for this behavior will be removed in 0.20.\n",
      "  % type(estimator).__name__, DeprecationWarning)\n",
      "F:\\Anaconda3\\lib\\site-packages\\sklearn\\discriminant_analysis.py:682: UserWarning: Variables are collinear\n",
      "  warnings.warn(\"Variables are collinear\")\n",
      "F:\\Anaconda3\\lib\\site-packages\\sklearn\\base.py:115: DeprecationWarning: Estimator QuadraticDiscriminantAnalysis modifies parameters in __init__. This behavior is deprecated as of 0.18 and support for this behavior will be removed in 0.20.\n",
      "  % type(estimator).__name__, DeprecationWarning)\n",
      "F:\\Anaconda3\\lib\\site-packages\\sklearn\\discriminant_analysis.py:682: UserWarning: Variables are collinear\n",
      "  warnings.warn(\"Variables are collinear\")\n",
      "F:\\Anaconda3\\lib\\site-packages\\sklearn\\base.py:115: DeprecationWarning: Estimator QuadraticDiscriminantAnalysis modifies parameters in __init__. This behavior is deprecated as of 0.18 and support for this behavior will be removed in 0.20.\n",
      "  % type(estimator).__name__, DeprecationWarning)\n"
     ]
    },
    {
     "name": "stdout",
     "output_type": "stream",
     "text": [
      "best_LDA_cv_auc: [0.77966206 0.78624965 0.8102937  0.76345521 0.79018657]\n"
     ]
    },
    {
     "name": "stderr",
     "output_type": "stream",
     "text": [
      "F:\\Anaconda3\\lib\\site-packages\\sklearn\\discriminant_analysis.py:682: UserWarning: Variables are collinear\n",
      "  warnings.warn(\"Variables are collinear\")\n"
     ]
    }
   ],
   "source": [
    "# save model\n",
    "import pickle\n",
    "with open(\"./best_models/LDA_pkl.txt\",'wb') as f:\n",
    "    pickle.dump(LDA_best,f)\n",
    "\n",
    "# cross-validation\n",
    "from sklearn.cross_validation import cross_val_score\n",
    "LDA_cv_auc = cross_val_score(LDA_best,X,y,cv=5,scoring=\"roc_auc\")\n",
    "print(\"best_LDA_cv_auc:\",LDA_cv_auc)"
   ]
  },
  {
   "cell_type": "markdown",
   "metadata": {},
   "source": [
    "# label propagation"
   ]
  },
  {
   "cell_type": "code",
   "execution_count": null,
   "metadata": {
    "deletable": false,
    "editable": false,
    "run_control": {
     "frozen": true
    }
   },
   "outputs": [],
   "source": [
    "from sklearn.semi_supervised import LabelSpreading,LabelPropagation\n",
    "from sklearn.model_selection import GridSearchCV\n",
    "from sklearn.model_selection import train_test_split\n",
    "from sklearn.model_selection import StratifiedKFold\n",
    "y = y.replace(0,-1)\n",
    "train_x,test_x,train_y,test_y = train_test_split(X,y,stratify=y)\n",
    "sfk = StratifiedKFold(n_splits=3,shuffle=True,random_state=111)\n",
    "param_grid = {\n",
    "    'kernel':['rbf','knn'],\n",
    "#     'gamma':[20],\n",
    "#     'n_neighbors':[7],\n",
    "#     'alpha':[0.2],\n",
    "#     'max_iter':[30],\n",
    "}\n",
    "\n",
    "LPG = LabelSpreading(kernel ='rbf',gamma = 20, n_neighbors = 7,alpha = 0.2,max_iter = 30,tol = 0.001,n_jobs = 1)\n",
    "LPG.fit(train_x,train_y)\n",
    "train_score = LPG.score(train_x,train_y)\n",
    "test_score = LPG.score(test_x,test_y)\n",
    "y_pred = LPG.predict(test_x)"
   ]
  },
  {
   "cell_type": "code",
   "execution_count": null,
   "metadata": {},
   "outputs": [],
   "source": [
    "# y_pred_prob = LPG.predict_proba(test_x)\n",
    "# cm = confusion_matrix(test_y,y_pred)\n",
    "\n",
    "# eval_info(LPG,test_y,y_pred_prob,cm)\n",
    "# print( \"train_score:\",train_score,\"\\n\",\"test_score:\",test_score)"
   ]
  },
  {
   "cell_type": "markdown",
   "metadata": {},
   "source": [
    "# PCA"
   ]
  },
  {
   "cell_type": "code",
   "execution_count": 36,
   "metadata": {
    "deletable": false,
    "editable": false,
    "run_control": {
     "frozen": true
    }
   },
   "outputs": [
    {
     "data": {
      "image/png": "[encoded data removed]",
      "text/plain": [
       "<Figure size 864x576 with 1 Axes>"
      ]
     },
     "metadata": {},
     "output_type": "display_data"
    }
   ],
   "source": [
    "import matplotlib.pyplot as plt\n",
    "from sklearn.decomposition import PCA\n",
    "n_components = range(10,100,5)\n",
    "acc_explained_ratio = []\n",
    "\n",
    "for n in n_components:\n",
    "    pca = PCA(n_components=n)\n",
    "    pca.fit_transform(X)\n",
    "    acc_explained_ratio.append(np.sum(pca.explained_variance_ratio_))\n",
    "plt.figure(figsize=(6,4),dpi=144)\n",
    "plt.plot(n_components,acc_explained_ratio)\n",
    "plt.xlabel(\"Number of PCA Components\")\n",
    "plt.ylabel(\"Accumulative Explained Variance Ratio\")\n",
    "plt.yticks(np.arange(0.5,1.05,0.05))\n",
    "plt.xticks(np.arange(0,100,5))\n",
    "plt.plot((15,15),(0.4,0.99),\"g--\")\n",
    "plt.show()"
   ]
  },
  {
   "cell_type": "code",
   "execution_count": 39,
   "metadata": {
    "deletable": false,
    "editable": false,
    "run_control": {
     "frozen": true
    }
   },
   "outputs": [
    {
     "name": "stdout",
     "output_type": "stream",
     "text": [
      "Fitting 3 folds for each of 20 candidates, totalling 60 fits\n"
     ]
    },
    {
     "name": "stderr",
     "output_type": "stream",
     "text": [
      "[Parallel(n_jobs=4)]: Done  33 tasks      | elapsed:   54.7s\n",
      "[Parallel(n_jobs=4)]: Done  60 out of  60 | elapsed:  1.5min finished\n"
     ]
    },
    {
     "name": "stdout",
     "output_type": "stream",
     "text": [
      "-----SVM Classifier(PCA)------\n",
      " best param:{'C': 50, 'class_weight': 'balanced', 'gamma': 0.01, 'kernel': 'rbf'}\n",
      "best score:0.79575\n"
     ]
    }
   ],
   "source": [
    "n_components = 15\n",
    "pca_model = PCA(n_components=n_components).fit(train_x)\n",
    "pca_train_x = pca_model.transform(train_x)\n",
    "pca_test_x = pca_model.transform(test_x)\n",
    "param_grid = {\"C\":[1,5,10,50],\"gamma\":[0.0001,0.0005,0.001,0.005,0.01],\n",
    "              \"kernel\":[\"rbf\"],\"class_weight\":[\"balanced\"]}\n",
    "SVC_PCA_model = GridSearchCV(SVC(),param_grid,verbose=2,n_jobs=4)\n",
    "SVC_PCA_model.fit(pca_train_x,train_y)\n",
    "print(\"-----SVM Classifier(PCA)------\\n\",\n",
    "      \"best param:{0}\\nbest score:{1}\".format(SVC_PCA_model.best_params_,SVC_PCA_model.best_score_))"
   ]
  },
  {
   "cell_type": "code",
   "execution_count": 41,
   "metadata": {
    "deletable": false,
    "editable": false,
    "run_control": {
     "frozen": true
    }
   },
   "outputs": [
    {
     "name": "stdout",
     "output_type": "stream",
     "text": [
      "------Confusion Matrix------\n",
      " [[2281  585]\n",
      " [  78   56]]\n",
      "-----Classification_report-----\n",
      "              precision    recall  f1-score   support\n",
      "\n",
      "          0       0.97      0.80      0.87      2866\n",
      "          1       0.09      0.42      0.14       134\n",
      "\n",
      "avg / total       0.93      0.78      0.84      3000\n",
      "\n"
     ]
    }
   ],
   "source": [
    "y_pred = SVC_PCA_model.best_estimator_.predict(pca_test_x)\n",
    "print(\"------Confusion Matrix------\\n\",confusion_matrix(test_y,y_pred))\n",
    "print(\"-----Classification_report-----\\n\",classification_report(test_y,y_pred))"
   ]
  },
  {
   "cell_type": "markdown",
   "metadata": {},
   "source": [
    "# K-Means"
   ]
  },
  {
   "cell_type": "code",
   "execution_count": 39,
   "metadata": {
    "deletable": false,
    "editable": false,
    "run_control": {
     "frozen": true
    }
   },
   "outputs": [
    {
     "data": {
      "text/plain": [
       "<matplotlib.collections.PathCollection at 0x2a381e12d68>"
      ]
     },
     "execution_count": 39,
     "metadata": {},
     "output_type": "execute_result"
    },
    {
     "data": {
      "image/png": "[encoded data removed]",
      "text/plain": [
       "<Figure size 864x576 with 1 Axes>"
      ]
     },
     "metadata": {},
     "output_type": "display_data"
    }
   ],
   "source": [
    "from sklearn.cluster import KMeans\n",
    "kmean = KMeans(n_clusters=2)\n",
    "kmean.fit(X)\n",
    "kmean_score = kmean.score(X)\n",
    "\n",
    "labels = kmean.labels_\n",
    "centers = kmean.cluster_centers_\n",
    "plt.figure(figsize=(6,4),dpi=144)\n",
    "plt.xticks(())\n",
    "plt.yticks(())\n",
    "plt.scatter(X[labels==0].iloc[:,0],X[labels==0].iloc[:,1],marker=\"o\",s=20,c=\"red\")\n",
    "plt.scatter(X[labels==1].iloc[:,0],X[labels==1].iloc[:,1],marker=\"*\",s=20,c=\"yellow\")\n",
    "plt.scatter(centers[:,0],centers[:,1],marker=\"o\",c=\"white\",alpha=0.9,s=300)\n",
    "plt.scatter(centers[:,0],centers[:,1],marker=\"$1$\",c=\"red\",s=50)\n",
    "plt.scatter(centers[:,0],centers[:,1],marker=\"$2$\",c=\"yellow\",s=50)"
   ]
  },
  {
   "cell_type": "code",
   "execution_count": 40,
   "metadata": {
    "deletable": false,
    "editable": false,
    "run_control": {
     "frozen": true
    }
   },
   "outputs": [
    {
     "name": "stdout",
     "output_type": "stream",
     "text": [
      "Adjusted Rand-Index: 0.0027599712496652125 \n",
      " Homogeneity Score: 0.01662842545061333 \n",
      " Completeness Score: 0.004487396252852615 \n",
      " V-measure Score: 0.0070675283307278045\n"
     ]
    }
   ],
   "source": [
    "from sklearn.metrics import adjusted_rand_score,homogeneity_score,completeness_score,v_measure_score\n",
    "AR_score = adjusted_rand_score(y,labels)\n",
    "H_score = homogeneity_score(y,labels)\n",
    "C_score = completeness_score(y,labels)\n",
    "V_score = v_measure_score(y,labels)\n",
    "print(\"Adjusted Rand-Index:\",AR_score,\"\\n\",\n",
    "     \"Homogeneity Score:\",H_score,\"\\n\",\n",
    "     \"Completeness Score:\",C_score,\"\\n\",\n",
    "     \"V-measure Score:\",V_score)"
   ]
  },
  {
   "cell_type": "markdown",
   "metadata": {},
   "source": [
    "# KNN"
   ]
  },
  {
   "cell_type": "code",
   "execution_count": 29,
   "metadata": {
    "collapsed": true,
    "deletable": false,
    "editable": false,
    "run_control": {
     "frozen": true
    }
   },
   "outputs": [
    {
     "name": "stdout",
     "output_type": "stream",
     "text": [
      "------KNeighborsClassifier------\n",
      "elaspe: 305.2950389313734 \n",
      " train_score: 0.9540508947037137 \n",
      " test_score: 0.9538834951456311\n",
      "------classification_report------\n",
      "              precision    recall  f1-score   support\n",
      "\n",
      "          0       0.95      1.00      0.98      3537\n",
      "          1       0.00      0.00      0.00       171\n",
      "\n",
      "avg / total       0.91      0.95      0.93      3708\n",
      "\n",
      "auc: 0.5\n",
      "auc: 0.7692927068401377\n",
      "Confusion matrix, without normalization\n",
      "[[3537    0]\n",
      " [ 171    0]]\n"
     ]
    },
    {
     "name": "stderr",
     "output_type": "stream",
     "text": [
      "F:\\Anaconda3\\lib\\site-packages\\sklearn\\metrics\\classification.py:1135: UndefinedMetricWarning: Precision and F-score are ill-defined and being set to 0.0 in labels with no predicted samples.\n",
      "  'precision', 'predicted', average, warn_for)\n"
     ]
    },
    {
     "name": "stdout",
     "output_type": "stream",
     "text": [
      "------KNeighborsClassifier------\n",
      "elaspe: 305.5213248479308 \n",
      " train_score: 1.0 \n",
      " test_score: 0.953344120819849\n",
      "------classification_report------\n",
      "              precision    recall  f1-score   support\n",
      "\n",
      "          0       0.95      1.00      0.98      3537\n",
      "          1       0.25      0.01      0.01       171\n",
      "\n",
      "avg / total       0.92      0.95      0.93      3708\n",
      "\n",
      "auc: 0.5024998883978394\n",
      "auc: 0.7692927068401377\n",
      "Confusion matrix, without normalization\n",
      "[[3534    3]\n",
      " [ 170    1]]\n",
      "------RadiusNeighborsClassifier------\n",
      "elaspe: 436.63880084495827 \n",
      " train_score: 0.9538710547612624 \n",
      " test_score: 0.9538834951456311\n",
      "------classification_report------\n",
      "              precision    recall  f1-score   support\n",
      "\n",
      "          0       0.95      1.00      0.98      3537\n",
      "          1       0.00      0.00      0.00       171\n",
      "\n",
      "avg / total       0.91      0.95      0.93      3708\n",
      "\n",
      "auc: 0.5\n",
      "auc: 0.7692927068401377\n",
      "Confusion matrix, without normalization\n",
      "[[3537    0]\n",
      " [ 171    0]]\n"
     ]
    },
    {
     "data": {
      "image/png": "[encoded data removed]",
      "text/plain": [
       "<Figure size 374.4x288 with 2 Axes>"
      ]
     },
     "metadata": {},
     "output_type": "display_data"
    },
    {
     "data": {
      "image/png": "[encoded data removed]",
      "text/plain": [
       "<Figure size 374.4x288 with 2 Axes>"
      ]
     },
     "metadata": {},
     "output_type": "display_data"
    },
    {
     "data": {
      "image/png": "[encoded data removed]",
      "text/plain": [
       "<Figure size 374.4x288 with 2 Axes>"
      ]
     },
     "metadata": {},
     "output_type": "display_data"
    }
   ],
   "source": [
    "from sklearn.neighbors import KNeighborsClassifier,RadiusNeighborsClassifier\n",
    "knn_model1 = KNeighborsClassifier(n_neighbors=10)\n",
    "knn_model2 = KNeighborsClassifier(n_neighbors=10,weights=\"distance\")\n",
    "knn_model3 = RadiusNeighborsClassifier(n_neighbors=10,radius=1000.0)\n",
    "\n",
    "models = [knn_model1,knn_model2,knn_model3]\n",
    "for knn in models:\n",
    "    start = time.clock()\n",
    "    knn.fit(train_x,train_y)\n",
    "    train_score = knn.score(train_x,train_y)\n",
    "    test_score = knn.score(test_x,test_y)\n",
    "    y_pred = knn.predict(test_x)\n",
    "    print(\"------\"+knn.__class__.__name__+\"------\\n\"\n",
    "          \"elaspe:\",time.clock()-start,\"\\n\",\n",
    "          \"train_score:\",train_score,\"\\n\",\n",
    "          \"test_score:\",test_score)\n",
    "    cm = confusion_matrix(test_y,y_pred)\n",
    "    eval_info(test_y,y_pred,y_score,cm)"
   ]
  },
  {
   "cell_type": "markdown",
   "metadata": {},
   "source": [
    "# naive bayes"
   ]
  },
  {
   "cell_type": "code",
   "execution_count": null,
   "metadata": {
    "deletable": false,
    "editable": false,
    "run_control": {
     "frozen": true
    }
   },
   "outputs": [],
   "source": [
    "from sklearn.naive_bayes import GaussianNB,BernoulliNB\n",
    "import time\n",
    "\n",
    "GNB = GaussianNB()\n",
    "BNB = BernoulliNB()\n",
    "# models = [GNB,BNB]\n",
    "# for NB in models:\n",
    "start = time.clock()\n",
    "GNB.fit(train_x,train_y)\n",
    "train_score = GNB.score(train_x,train_y)\n",
    "test_score = GNB.score(test_x,test_y)\n",
    "print(\"elaspe:\",time.clock()-start,\"\\n\",\n",
    "          \"train_score:\",train_score,\"\\n\",\n",
    "          \"test_score:\",test_score)\n",
    "# y_pred = GNB.predict(test_x)\n",
    "y_pred_prob1 = GNB.predict_proba(test_x)[:,1]\n",
    "\n",
    "start = time.clock()\n",
    "BNB.fit(train_x,train_y)\n",
    "train_score = BNB.score(train_x,train_y)\n",
    "test_score = BNB.score(test_x,test_y)\n",
    "print(\"elaspe:\",time.clock()-start,\"\\n\",\n",
    "          \"train_score:\",train_score,\"\\n\",\n",
    "          \"test_score:\",test_score)\n",
    "# y_pred = GNB.predict(test_x)\n",
    "y_pred_prob2 = BNB.predict_proba(test_x)[:,1]\n",
    "\n",
    "y_pred_prob = y_pred_prob1 + y_pred_prob2\n",
    "y_pred = np.where(y_pred_prob>0.5,1,0)\n",
    "\n",
    "cm = confusion_matrix(test_y,y_pred)\n",
    "eval_info(NB,test_y,y_pred_prob,cm)"
   ]
  }
 ],
 "metadata": {
  "kernelspec": {
   "display_name": "Python 3",
   "language": "python",
   "name": "python3"
  },
  "language_info": {
   "codemirror_mode": {
    "name": "ipython",
    "version": 3
   },
   "file_extension": ".py",
   "mimetype": "text/x-python",
   "name": "python",
   "nbconvert_exporter": "python",
   "pygments_lexer": "ipython3",
   "version": "3.6.8"
  },
  "nbTranslate": {
   "displayLangs": [
    "*"
   ],
   "hotkey": "alt-t",
   "langInMainMenu": true,
   "sourceLang": "en",
   "targetLang": "fr",
   "useGoogleTranslate": true
  },
  "toc": {
   "base_numbering": 1,
   "nav_menu": {},
   "number_sections": true,
   "sideBar": true,
   "skip_h1_title": false,
   "title_cell": "Table of Contents",
   "title_sidebar": "Contents",
   "toc_cell": false,
   "toc_position": {
    "height": "calc(100% - 180px)",
    "left": "10px",
    "top": "150px",
    "width": "294.688px"
   },
   "toc_section_display": true,
   "toc_window_display": true
  },
  "varInspector": {
   "cols": {
    "lenName": 16,
    "lenType": 16,
    "lenVar": 40
   },
   "kernels_config": {
    "python": {
     "delete_cmd_postfix": "",
     "delete_cmd_prefix": "del ",
     "library": "var_list.py",
     "varRefreshCmd": "print(var_dic_list())"
    },
    "r": {
     "delete_cmd_postfix": ") ",
     "delete_cmd_prefix": "rm(",
     "library": "var_list.r",
     "varRefreshCmd": "cat(var_dic_list()) "
    }
   },
   "types_to_exclude": [
    "module",
    "function",
    "builtin_function_or_method",
    "instance",
    "_Feature"
   ],
   "window_display": false
  }
 },
 "nbformat": 4,
 "nbformat_minor": 2
}
