{
 "cells": [
  {
   "cell_type": "markdown",
   "metadata": {},
   "source": [
    "# load data"
   ]
  },
  {
   "cell_type": "code",
   "execution_count": 61,
   "metadata": {},
   "outputs": [],
   "source": [
    "import matplotlib.pyplot as plt\n",
    "%matplotlib inline\n",
    "from jupyterthemes import jtplot\n",
    "jtplot.style(theme='gruvboxd')\n",
    "jtplot.style(context='talk', fscale=1.4, spines=False, gridlines='--')\n",
    "jtplot.style(ticks=True, grid=False, figsize=(6.5, 5))\n",
    "\n",
    "import pandas as pd\n",
    "import numpy as np"
   ]
  },
  {
   "cell_type": "code",
   "execution_count": 62,
   "metadata": {},
   "outputs": [],
   "source": [
    "# train_data\n",
    "# 882808:117192\n",
    "train_data = pd.read_csv(\"./train.csv\",parse_dates=['auditing_date','due_date','repay_date']) #201801-20181231\n",
    "\n",
    "# test_data\n",
    "test_data = pd.read_csv(\"./test.csv\",parse_dates=['auditing_date','due_date']) #20190201-20190331\n",
    "\n",
    "# listing_info\n",
    "listing_info = pd.read_csv(\"./listing_info.csv\")\n",
    "\n",
    "# user_info:数据插入时间不同而有重复\n",
    "user_info = pd.read_csv(\"./user_info.csv\",parse_dates = ['reg_mon','insertdate']) #20171231-20190330\n",
    "\n",
    "# user_taglist:数据插入时间不同而有重复\n",
    "user_taglist = pd.read_csv(\"./user_taglist.csv\",parse_dates = ['insertdate']) #20171231-20190330\n",
    "\n",
    "# # user_behavior\n",
    "# user_behavior = pd.read_csv(\"./user_behavior.csv\",parse_dates=['behavior_time']) # 20170705-20190330\n",
    "\n",
    "# # user_repay\n",
    "# user_repay = pd.read_csv(\"./user_repay.csv\",parse_dates=['auditing_date','due_date','repay_date']) # 20170705-20200330"
   ]
  },
  {
   "cell_type": "code",
   "execution_count": 63,
   "metadata": {},
   "outputs": [],
   "source": [
    "# user_repay[(user_repay['auditing_date']<=\"20190201\")&(user_repay['auditing_date']>=\"20190101\")&(user_repay['order_id']==1)]\n",
    "# 62133\n",
    "# 57222:4911\n",
    "\n",
    "# user_repay[(user_repay['auditing_date']<=\"20181231\")&(user_repay['auditing_date']>=\"20170705\")&(user_repay['order_id']==1)] \n",
    "# 2665908\n",
    "# 2493623:173985\n",
    "\n",
    "# user_repay[(user_repay['auditing_date']<=\"20181231\")&(user_repay['auditing_date']>=\"20180101\")&(user_repay['order_id']==1)] \n",
    "# 1960867\n",
    "# 1854069:113358\n",
    "\n",
    "# user_repay[(user_repay['auditing_date']<=\"20181231\")&(user_repay['auditing_date']>=\"20180101\")&(user_repay['order_id']==1)]\\\n",
    "# .drop('order_id',axis=1).set_index(['user_id','listing_id']) \\.loc[train_data.set_index(['user_id','listing_id']).index]\n",
    "\n",
    "# user_repay:20190101-20190131 样本外验证\n",
    "# user_repay:20180101-20181231 暂留\n",
    "# user_repay:20170705-20171231 距离较远直接舍弃"
   ]
  },
  {
   "cell_type": "markdown",
   "metadata": {
    "deletable": false,
    "editable": false,
    "run_control": {
     "frozen": true
    }
   },
   "source": [
    "# concat train_set"
   ]
  },
  {
   "cell_type": "markdown",
   "metadata": {},
   "source": [
    "## concat listing_info"
   ]
  },
  {
   "cell_type": "code",
   "execution_count": 64,
   "metadata": {},
   "outputs": [
    {
     "name": "stdout",
     "output_type": "stream",
     "text": [
      "(1000000, 14)\n",
      "duplicated:\n",
      " False    1000000\n",
      "dtype: int64\n"
     ]
    }
   ],
   "source": [
    "train_set = pd.merge(train_data,listing_info,how='left',on=['user_id','listing_id'])\n",
    "print(train_set.shape)\n",
    "print(\"duplicated:\\n\",train_set.duplicated().value_counts())"
   ]
  },
  {
   "cell_type": "markdown",
   "metadata": {},
   "source": [
    "## concat user_info\n",
    "合并后根据insertdate排序，然后根据['user_id','listing_id','auditing_date']去重保留最后一条最新信息"
   ]
  },
  {
   "cell_type": "code",
   "execution_count": 65,
   "metadata": {},
   "outputs": [
    {
     "name": "stdout",
     "output_type": "stream",
     "text": [
      "(1034565, 26)\n",
      "duplicated:\n",
      " False    1034565\n",
      "dtype: int64\n"
     ]
    }
   ],
   "source": [
    "train_set = pd.merge(train_set,user_info,how='left',on=['user_id'])\n",
    "print(train_set.shape)\n",
    "print(\"duplicated:\\n\",train_set.duplicated().value_counts())"
   ]
  },
  {
   "cell_type": "code",
   "execution_count": 66,
   "metadata": {},
   "outputs": [
    {
     "data": {
      "text/plain": [
       "(1000590, 26)"
      ]
     },
     "execution_count": 66,
     "metadata": {},
     "output_type": "execute_result"
    }
   ],
   "source": [
    "# 用户信息获取时间必须在成交日之前\n",
    "# 注意：此步操作会将insertdate为NaT的记录排除掉而丢失样本\n",
    "before_auditing_date = ((train_set['insertdate'].isnull()) |\n",
    "                        (train_set['insertdate']<train_set['auditing_date']))\n",
    "train_set = train_set[before_auditing_date] \n",
    "train_set.shape"
   ]
  },
  {
   "cell_type": "code",
   "execution_count": 67,
   "metadata": {},
   "outputs": [
    {
     "data": {
      "text/plain": [
       "(1000000, 25)"
      ]
     },
     "execution_count": 67,
     "metadata": {},
     "output_type": "execute_result"
    }
   ],
   "source": [
    "train_set = train_set.sort_values(by=['user_id','listing_id','insertdate'])\n",
    "train_set = train_set.drop_duplicates(subset=['user_id','listing_id','auditing_date'],keep='last')\n",
    "train_set.drop('insertdate',axis=1,inplace=True)\n",
    "train_set.shape"
   ]
  },
  {
   "cell_type": "markdown",
   "metadata": {},
   "source": [
    "## concat user_taglist\n",
    "合并后根据insertdate排序，然后根据['user_id','listing_id','auditing_date']去重保留最后一条最新信息"
   ]
  },
  {
   "cell_type": "code",
   "execution_count": 68,
   "metadata": {},
   "outputs": [
    {
     "name": "stdout",
     "output_type": "stream",
     "text": [
      "(1182897, 37)\n",
      "duplicated:\n",
      " False    1182897\n",
      "dtype: int64\n"
     ]
    }
   ],
   "source": [
    "train_set = pd.merge(train_set,user_taglist,how='left',on=['user_id'])\n",
    "print(train_set.shape)\n",
    "print(\"duplicated:\\n\",train_set.duplicated().value_counts())"
   ]
  },
  {
   "cell_type": "code",
   "execution_count": 69,
   "metadata": {},
   "outputs": [
    {
     "data": {
      "text/plain": [
       "(1077835, 37)"
      ]
     },
     "execution_count": 69,
     "metadata": {},
     "output_type": "execute_result"
    }
   ],
   "source": [
    "#用户标签信息获取时间必须在成交日之前\n",
    "# 注意：此步操作会将insertdate为NaT的记录排除掉而丢失样本\n",
    "before_auditing_date = ((train_set['insertdate'].isnull()) |\n",
    "                        (train_set['insertdate']<train_set['auditing_date']))\n",
    "train_set = train_set[before_auditing_date] \n",
    "train_set.shape"
   ]
  },
  {
   "cell_type": "code",
   "execution_count": 70,
   "metadata": {},
   "outputs": [
    {
     "data": {
      "text/plain": [
       "(994095, 36)"
      ]
     },
     "execution_count": 70,
     "metadata": {},
     "output_type": "execute_result"
    }
   ],
   "source": [
    "train_set = train_set.sort_values(by=['user_id','listing_id','insertdate'])\n",
    "# 有可能同一个人同一标的同一成交日，分多次还款，所以须加上'repay_date','repay_amt'进行去重，测试集不需要\n",
    "train_set = train_set.drop_duplicates(subset=['user_id','listing_id','auditing_date','repay_date','repay_amt'],keep='last')\n",
    "train_set.drop('insertdate',axis=1,inplace=True)\n",
    "train_set.shape"
   ]
  },
  {
   "cell_type": "markdown",
   "metadata": {
    "deletable": false,
    "editable": false,
    "run_control": {
     "frozen": true
    }
   },
   "source": [
    "## concat user_behavior"
   ]
  },
  {
   "cell_type": "markdown",
   "metadata": {},
   "source": [
    "## data transform"
   ]
  },
  {
   "cell_type": "markdown",
   "metadata": {},
   "source": [
    "### audit_reg_delta"
   ]
  },
  {
   "cell_type": "code",
   "execution_count": 71,
   "metadata": {},
   "outputs": [],
   "source": [
    "train_set['audit_reg_delta'] = (train_set['auditing_date']-train_set['reg_mon']).dt.days #衡量用户新旧"
   ]
  },
  {
   "cell_type": "markdown",
   "metadata": {},
   "source": [
    "### dummy"
   ]
  },
  {
   "cell_type": "markdown",
   "metadata": {},
   "source": [
    "#### province"
   ]
  },
  {
   "cell_type": "markdown",
   "metadata": {},
   "source": [
    "##### cell_province"
   ]
  },
  {
   "cell_type": "code",
   "execution_count": 72,
   "metadata": {},
   "outputs": [
    {
     "data": {
      "text/plain": [
       "<matplotlib.axes._subplots.AxesSubplot at 0x1f238222f98>"
      ]
     },
     "execution_count": 72,
     "metadata": {},
     "output_type": "execute_result"
    },
    {
     "data": {
      "image/png": "[encoded data removed]",
      "text/plain": [
       "<Figure size 720x432 with 1 Axes>"
      ]
     },
     "metadata": {},
     "output_type": "display_data"
    }
   ],
   "source": [
    "plt.figure(figsize=(10,6))\n",
    "train_set['cell_province'].value_counts(dropna=False).plot(kind='bar')"
   ]
  },
  {
   "cell_type": "code",
   "execution_count": 73,
   "metadata": {},
   "outputs": [],
   "source": [
    "train_set = pd.concat([train_set,\n",
    "                       pd.get_dummies(train_set['cell_province'],prefix ='cell_province' ,dummy_na=True)],\n",
    "                      axis=1)"
   ]
  },
  {
   "cell_type": "markdown",
   "metadata": {},
   "source": [
    "##### id_province"
   ]
  },
  {
   "cell_type": "code",
   "execution_count": 74,
   "metadata": {},
   "outputs": [
    {
     "data": {
      "text/plain": [
       "<matplotlib.axes._subplots.AxesSubplot at 0x1f2382438d0>"
      ]
     },
     "execution_count": 74,
     "metadata": {},
     "output_type": "execute_result"
    },
    {
     "data": {
      "image/png": "[encoded data removed]",
      "text/plain": [
       "<Figure size 720x432 with 1 Axes>"
      ]
     },
     "metadata": {},
     "output_type": "display_data"
    }
   ],
   "source": [
    "plt.figure(figsize=(10,6))\n",
    "train_set['id_province'].value_counts(dropna=False).plot(kind='bar')"
   ]
  },
  {
   "cell_type": "code",
   "execution_count": 75,
   "metadata": {},
   "outputs": [],
   "source": [
    "# train_set = pd.concat([train_set,\n",
    "#                        pd.get_dummies(train_set['id_province'],prefix ='id_province' ,dummy_na=True)],\n",
    "#                       axis=1)"
   ]
  },
  {
   "cell_type": "code",
   "execution_count": 76,
   "metadata": {},
   "outputs": [],
   "source": [
    "# # c04\n",
    "# # c02 c20 \n",
    "# # c17 c08 c26 c31 c09 c25 c12 c05 c11 c27\n",
    "# # c01 c21 c29 c06 c14 c28 c22 c13 c19 c23 c07 c24\n",
    "# # c03  c30  c15  c16  c18  c10   \n",
    "# # nan\n",
    "\n",
    "# # train_set['cell_province'].value_counts(dropna=False)\n",
    "# cond_1 = (train_set['cell_province'] =='c04')\n",
    "\n",
    "# cond_2 = (train_set['cell_province'] =='c02')|(train_set['cell_province'] =='c20')\n",
    "\n",
    "# cond_3 = ((train_set['cell_province'] =='c17')|(train_set['cell_province'] =='c08')|\n",
    "#         (train_set['cell_province'] =='c26')|(train_set['cell_province'] =='c31')|\n",
    "#         (train_set['cell_province'] =='c09')|(train_set['cell_province'] =='c25')|\n",
    "#         (train_set['cell_province'] =='c12')|(train_set['cell_province'] =='c05')|\n",
    "#         (train_set['cell_province'] =='c11')|(train_set['cell_province'] =='c27'))\n",
    "\n",
    "# cond_4 = ((train_set['cell_province'] =='c01')|(train_set['cell_province'] =='c21')|\n",
    "#          (train_set['cell_province'] =='c29')|(train_set['cell_province'] =='c06')|\n",
    "#          (train_set['cell_province'] =='c14')|(train_set['cell_province'] =='c28')|\n",
    "#          (train_set['cell_province'] =='c22')|(train_set['cell_province'] =='c13')|\n",
    "#         (train_set['cell_province'] =='c19')|(train_set['cell_province'] =='c23')|\n",
    "#         (train_set['cell_province'] =='c07')|(train_set['cell_province'] =='c24'))\n",
    "\n",
    "# cond_5 = ((train_set['cell_province'] =='c03')|(train_set['cell_province'] =='c30')|\n",
    "#          (train_set['cell_province'] =='c15')|(train_set['cell_province'] =='c16')|\n",
    "#          (train_set['cell_province'] =='c18')|(train_set['cell_province'] =='c10'))\n",
    "\n",
    "# # cond_6 = (train_set['cell_province'].isnull())\n",
    "\n",
    "# train_set.loc[cond_1,'province_dummy'] = 1\n",
    "# train_set.loc[cond_2,'province_dummy'] = 2\n",
    "# train_set.loc[cond_3,'province_dummy'] = 3\n",
    "# train_set.loc[cond_4,'province_dummy'] = 4\n",
    "# train_set.loc[cond_5,'province_dummy'] = 5\n",
    "# # train_set.loc[cond_6,'cell_province'] = 6"
   ]
  },
  {
   "cell_type": "markdown",
   "metadata": {},
   "source": [
    "#### id_city[维度太高暂不处理]¶"
   ]
  },
  {
   "cell_type": "markdown",
   "metadata": {},
   "source": [
    "#### age"
   ]
  },
  {
   "cell_type": "code",
   "execution_count": 77,
   "metadata": {},
   "outputs": [],
   "source": [
    "train_set['age_dummy'] = pd.cut(train_set['age'],bins=[18,20,30,40,50,100],labels=[1,2,3,4,5])"
   ]
  },
  {
   "cell_type": "code",
   "execution_count": 78,
   "metadata": {},
   "outputs": [],
   "source": [
    "train_set = pd.concat([train_set,\n",
    "                       pd.get_dummies(train_set['age_dummy'],prefix ='age_dummy' ,dummy_na=True)],\n",
    "                      axis=1)"
   ]
  },
  {
   "cell_type": "markdown",
   "metadata": {},
   "source": [
    "### woe"
   ]
  },
  {
   "cell_type": "code",
   "execution_count": 107,
   "metadata": {},
   "outputs": [],
   "source": [
    "train_set['y'] = (train_set['repay_amt'].isnull())*1"
   ]
  },
  {
   "cell_type": "code",
   "execution_count": 108,
   "metadata": {},
   "outputs": [],
   "source": [
    "from woe import WOE\n",
    "\n",
    "woe = WOE()"
   ]
  },
  {
   "cell_type": "markdown",
   "metadata": {},
   "source": [
    "#### listing_cat"
   ]
  },
  {
   "cell_type": "code",
   "execution_count": 109,
   "metadata": {},
   "outputs": [
    {
     "name": "stderr",
     "output_type": "stream",
     "text": [
      "F:\\Anaconda3\\lib\\site-packages\\pandas\\core\\series.py:942: FutureWarning: \n",
      "Passing list-likes to .loc or [] with any missing label will raise\n",
      "KeyError in the future, you can use .reindex() as an alternative.\n",
      "\n",
      "See the documentation here:\n",
      "https://pandas.pydata.org/pandas-docs/stable/indexing.html#deprecate-loc-reindex-listlike\n",
      "  return self.loc[key]\n"
     ]
    }
   ],
   "source": [
    "listing_cat_woe_map = woe.woe_single_x(train_set['listing_cat'].astype(str),train_set['y'])[0]\n",
    "train_set['listing_cat'] = train_set['listing_cat'].astype(str).map(listing_cat_woe_map)"
   ]
  },
  {
   "cell_type": "markdown",
   "metadata": {},
   "source": [
    "#### id_city"
   ]
  },
  {
   "cell_type": "code",
   "execution_count": 110,
   "metadata": {},
   "outputs": [
    {
     "data": {
      "text/plain": [
       "c19058    24\n",
       "c10326    17\n",
       "c26178    10\n",
       "c25339     6\n",
       "c04339     1\n",
       "Name: id_city, dtype: int64"
      ]
     },
     "execution_count": 110,
     "metadata": {},
     "output_type": "execute_result"
    }
   ],
   "source": [
    "train_set['id_city'].value_counts(dropna=False).tail()#.to_dict()"
   ]
  },
  {
   "cell_type": "code",
   "execution_count": 111,
   "metadata": {},
   "outputs": [],
   "source": [
    "few_city_map = {#'c19058': 'c99999', \n",
    "                 'c25339':'c99999', \n",
    "                 'c04339':'c99999', \n",
    "                 'c26178':'c99999'}\n",
    "train_set['id_city'] = train_set['id_city'].replace(few_city_map)"
   ]
  },
  {
   "cell_type": "code",
   "execution_count": 112,
   "metadata": {},
   "outputs": [],
   "source": [
    "id_city_woe_map = woe.woe_single_x(train_set['id_city'].astype(str),train_set['y'])[0]\n",
    "train_set['id_city'] = train_set['id_city'].astype(str).map(id_city_woe_map)"
   ]
  },
  {
   "cell_type": "markdown",
   "metadata": {},
   "source": [
    "#### id_province"
   ]
  },
  {
   "cell_type": "code",
   "execution_count": 113,
   "metadata": {},
   "outputs": [],
   "source": [
    "id_province_woe_map = woe.woe_single_x(train_set['id_province'].astype(str),train_set['y'])[0]\n",
    "train_set['id_province'] = train_set['id_province'].astype(str).map(id_province_woe_map)"
   ]
  },
  {
   "cell_type": "markdown",
   "metadata": {},
   "source": [
    "#### cell_province"
   ]
  },
  {
   "cell_type": "code",
   "execution_count": 114,
   "metadata": {},
   "outputs": [],
   "source": [
    "cell_province_woe_map = woe.woe_single_x(train_set['cell_province'].astype(str),train_set['y'])[0]\n",
    "train_set['cell_province'] = train_set['cell_province'].astype(str).map(cell_province_woe_map)"
   ]
  },
  {
   "cell_type": "markdown",
   "metadata": {},
   "source": [
    "#### age_dummy"
   ]
  },
  {
   "cell_type": "code",
   "execution_count": 115,
   "metadata": {},
   "outputs": [],
   "source": [
    "age_dummy_woe_map = woe.woe_single_x(train_set['age_dummy'].astype(str),train_set['y'])[0]\n",
    "train_set['age_dummy'] = train_set['age_dummy'].astype(str).map(age_dummy_woe_map)"
   ]
  },
  {
   "cell_type": "markdown",
   "metadata": {},
   "source": [
    "### correlation"
   ]
  },
  {
   "cell_type": "code",
   "execution_count": 28,
   "metadata": {},
   "outputs": [
    {
     "data": {
      "text/html": [
       "<div>\n",
       "<style scoped>\n",
       "    .dataframe tbody tr th:only-of-type {\n",
       "        vertical-align: middle;\n",
       "    }\n",
       "\n",
       "    .dataframe tbody tr th {\n",
       "        vertical-align: top;\n",
       "    }\n",
       "\n",
       "    .dataframe thead th {\n",
       "        text-align: right;\n",
       "    }\n",
       "</style>\n",
       "<table border=\"1\" class=\"dataframe\">\n",
       "  <thead>\n",
       "    <tr style=\"text-align: right;\">\n",
       "      <th></th>\n",
       "      <th></th>\n",
       "      <th>corr</th>\n",
       "    </tr>\n",
       "  </thead>\n",
       "  <tbody>\n",
       "    <tr>\n",
       "      <th>repay_amt</th>\n",
       "      <th>due_amt</th>\n",
       "      <td>1.000000</td>\n",
       "    </tr>\n",
       "    <tr>\n",
       "      <th rowspan=\"2\" valign=\"top\">principal</th>\n",
       "      <th>due_amt</th>\n",
       "      <td>0.849301</td>\n",
       "    </tr>\n",
       "    <tr>\n",
       "      <th>repay_amt</th>\n",
       "      <td>0.848632</td>\n",
       "    </tr>\n",
       "    <tr>\n",
       "      <th>pvi</th>\n",
       "      <th>term</th>\n",
       "      <td>0.999857</td>\n",
       "    </tr>\n",
       "    <tr>\n",
       "      <th>gender_male</th>\n",
       "      <th>gender_female</th>\n",
       "      <td>-1.000000</td>\n",
       "    </tr>\n",
       "    <tr>\n",
       "      <th>same_province_True</th>\n",
       "      <th>same_province_False</th>\n",
       "      <td>-1.000000</td>\n",
       "    </tr>\n",
       "    <tr>\n",
       "      <th>tag_1</th>\n",
       "      <th>have_tags</th>\n",
       "      <td>1.000000</td>\n",
       "    </tr>\n",
       "    <tr>\n",
       "      <th>audit_reg_delta</th>\n",
       "      <th>user_id</th>\n",
       "      <td>-0.895671</td>\n",
       "    </tr>\n",
       "    <tr>\n",
       "      <th>age_dummy_3.0</th>\n",
       "      <th>age_dummy</th>\n",
       "      <td>0.813337</td>\n",
       "    </tr>\n",
       "  </tbody>\n",
       "</table>\n",
       "</div>"
      ],
      "text/plain": [
       "                                            corr\n",
       "repay_amt          due_amt              1.000000\n",
       "principal          due_amt              0.849301\n",
       "                   repay_amt            0.848632\n",
       "pvi                term                 0.999857\n",
       "gender_male        gender_female       -1.000000\n",
       "same_province_True same_province_False -1.000000\n",
       "tag_1              have_tags            1.000000\n",
       "audit_reg_delta    user_id             -0.895671\n",
       "age_dummy_3.0      age_dummy            0.813337"
      ]
     },
     "execution_count": 28,
     "metadata": {},
     "output_type": "execute_result"
    }
   ],
   "source": [
    "corr = train_set.corr()\n",
    "corr.loc[:,:] = np.tril(corr,k=-1)\n",
    "corr = corr.stack()\n",
    "pd.DataFrame(corr[corr.abs()>=0.80],columns=[\"corr\"])\n",
    "# train_set.corr()"
   ]
  },
  {
   "cell_type": "code",
   "execution_count": 29,
   "metadata": {},
   "outputs": [],
   "source": [
    "# id_province_c01\tcell_province_c01\t0.814935\n",
    "# id_province_c08\tcell_province_c08\t0.829896\n",
    "# id_province_c09\tcell_province_c09\t0.852767\n",
    "# id_province_c13\tcell_province_c13\t0.801062\n",
    "# id_province_c19\tcell_province_c19\t0.802721\n",
    "# id_province_c21\tcell_province_c21\t0.837004\n",
    "# id_province_c28\tcell_province_c28\t0.806356\n",
    "# id_province_c29\tcell_province_c29\t0.803051\n",
    "# id_province_c30\tcell_province_c30\t0.805563\n",
    "# id_province_c31\tcell_province_c31\t0.804709"
   ]
  },
  {
   "cell_type": "code",
   "execution_count": 30,
   "metadata": {},
   "outputs": [],
   "source": [
    "train_set = train_set.drop(['term','gender_female','same_province_False','have_tags'],axis=1)"
   ]
  },
  {
   "cell_type": "markdown",
   "metadata": {},
   "source": [
    "### missing rate"
   ]
  },
  {
   "cell_type": "code",
   "execution_count": 31,
   "metadata": {},
   "outputs": [],
   "source": [
    "# tag_num               0.428059\n",
    "# tag_1                 0.428059\n",
    "# tag_2                 0.428059\n",
    "# tag_3                 0.428059\n",
    "# tag_4                 0.428059\n",
    "# tag_5                 0.428059\n",
    "# tag_6                 0.428059\n",
    "# tag_7                 0.428059\n",
    "# tag_8                0.428059\n",
    "# tag_9                0.428059"
   ]
  },
  {
   "cell_type": "code",
   "execution_count": 32,
   "metadata": {},
   "outputs": [
    {
     "data": {
      "text/plain": [
       "user_id               0.000000\n",
       "listing_id            0.000000\n",
       "auditing_date         0.000000\n",
       "due_date              0.000000\n",
       "due_amt               0.000000\n",
       "repay_date            0.117483\n",
       "repay_amt             0.117483\n",
       "repay_date_delta      0.117483\n",
       "auditing_days         0.000000\n",
       "listing_cat           0.000000\n",
       "rate                  0.000000\n",
       "principal             0.000000\n",
       "pvi                   0.000000\n",
       "reg_mon               0.000000\n",
       "age                   0.000000\n",
       "cell_province         0.000000\n",
       "id_province           0.000000\n",
       "id_city               0.000000\n",
       "gender_male           0.000000\n",
       "gender_nan            0.000000\n",
       "same_province_True    0.000000\n",
       "same_province_nan     0.000000\n",
       "tag_num               0.428059\n",
       "tag_1                 0.428059\n",
       "tag_2                 0.428059\n",
       "tag_3                 0.428059\n",
       "tag_4                 0.428059\n",
       "tag_5                 0.428059\n",
       "tag_6                 0.428059\n",
       "tag_7                 0.428059\n",
       "                        ...   \n",
       "cell_province_c11     0.000000\n",
       "cell_province_c12     0.000000\n",
       "cell_province_c13     0.000000\n",
       "cell_province_c14     0.000000\n",
       "cell_province_c15     0.000000\n",
       "cell_province_c16     0.000000\n",
       "cell_province_c17     0.000000\n",
       "cell_province_c18     0.000000\n",
       "cell_province_c19     0.000000\n",
       "cell_province_c20     0.000000\n",
       "cell_province_c21     0.000000\n",
       "cell_province_c22     0.000000\n",
       "cell_province_c23     0.000000\n",
       "cell_province_c24     0.000000\n",
       "cell_province_c25     0.000000\n",
       "cell_province_c26     0.000000\n",
       "cell_province_c27     0.000000\n",
       "cell_province_c28     0.000000\n",
       "cell_province_c29     0.000000\n",
       "cell_province_c30     0.000000\n",
       "cell_province_c31     0.000000\n",
       "cell_province_nan     0.000000\n",
       "age_dummy             0.000000\n",
       "age_dummy_1.0         0.000000\n",
       "age_dummy_2.0         0.000000\n",
       "age_dummy_3.0         0.000000\n",
       "age_dummy_4.0         0.000000\n",
       "age_dummy_5.0         0.000000\n",
       "age_dummy_nan         0.000000\n",
       "y                     0.000000\n",
       "Length: 73, dtype: float64"
      ]
     },
     "execution_count": 32,
     "metadata": {},
     "output_type": "execute_result"
    }
   ],
   "source": [
    "train_set.apply(lambda x:x.isnull().sum()/len(x))"
   ]
  },
  {
   "cell_type": "code",
   "execution_count": 116,
   "metadata": {},
   "outputs": [],
   "source": [
    "train_set['tag_num'].fillna(0,inplace=True)\n",
    "for i in range(1,10):\n",
    "    train_set['tag_%s' % i].fillna(-1,inplace=True) # -1代表没有获得标签"
   ]
  },
  {
   "cell_type": "code",
   "execution_count": 34,
   "metadata": {},
   "outputs": [],
   "source": [
    "# train_set.drop_duplicates().to_csv(\"./train_set_nobehavior.csv\",index=False)"
   ]
  },
  {
   "cell_type": "markdown",
   "metadata": {},
   "source": [
    "# concat test_set"
   ]
  },
  {
   "cell_type": "markdown",
   "metadata": {},
   "source": [
    "## concat listing_info"
   ]
  },
  {
   "cell_type": "code",
   "execution_count": 79,
   "metadata": {},
   "outputs": [
    {
     "name": "stdout",
     "output_type": "stream",
     "text": [
      "(130000, 11)\n",
      "duplicated:\n",
      " False    130000\n",
      "dtype: int64\n"
     ]
    }
   ],
   "source": [
    "test_set = pd.merge(test_data,listing_info,how='left',on=['user_id','listing_id'])\n",
    "print(test_set.shape)\n",
    "print(\"duplicated:\\n\",test_set.duplicated().value_counts())"
   ]
  },
  {
   "cell_type": "markdown",
   "metadata": {},
   "source": [
    "## concat user_info\n",
    "合并后根据insertdate排序，然后根据['user_id','listing_id','auditing_date']去重保留最后一条最新信息"
   ]
  },
  {
   "cell_type": "code",
   "execution_count": 80,
   "metadata": {},
   "outputs": [
    {
     "name": "stdout",
     "output_type": "stream",
     "text": [
      "(155485, 23)\n",
      "duplicated:\n",
      " False    155485\n",
      "dtype: int64\n"
     ]
    }
   ],
   "source": [
    "test_set = pd.merge(test_set,user_info,how='left',on=['user_id'])\n",
    "print(test_set.shape)\n",
    "print(\"duplicated:\\n\",test_set.duplicated().value_counts())"
   ]
  },
  {
   "cell_type": "code",
   "execution_count": 81,
   "metadata": {},
   "outputs": [
    {
     "data": {
      "text/plain": [
       "(155485, 23)"
      ]
     },
     "execution_count": 81,
     "metadata": {},
     "output_type": "execute_result"
    }
   ],
   "source": [
    "# 用户信息获取时间必须在成交日之前\n",
    "# 注意：此步操作会将insertdate为NaT的记录排除掉而丢失样本\n",
    "before_auditing_date = ((test_set['insertdate'].isnull()) |\n",
    "                        (test_set['insertdate']<test_set['auditing_date']))\n",
    "test_set = test_set[before_auditing_date] \n",
    "test_set.shape"
   ]
  },
  {
   "cell_type": "code",
   "execution_count": 82,
   "metadata": {},
   "outputs": [
    {
     "data": {
      "text/plain": [
       "(130000, 22)"
      ]
     },
     "execution_count": 82,
     "metadata": {},
     "output_type": "execute_result"
    }
   ],
   "source": [
    "test_set = test_set.sort_values(by=['user_id','listing_id','insertdate'])\n",
    "test_set = test_set.drop_duplicates(subset=['user_id','listing_id','auditing_date'],keep='last')\n",
    "test_set.drop('insertdate',axis=1,inplace=True)\n",
    "test_set.shape"
   ]
  },
  {
   "cell_type": "markdown",
   "metadata": {},
   "source": [
    "## concat user_taglist\n",
    "合并后根据insertdate排序，然后根据['user_id','listing_id','auditing_date']去重保留最后一条最新信息"
   ]
  },
  {
   "cell_type": "code",
   "execution_count": 83,
   "metadata": {},
   "outputs": [
    {
     "name": "stdout",
     "output_type": "stream",
     "text": [
      "(144858, 34)\n",
      "duplicated:\n",
      " False    144858\n",
      "dtype: int64\n"
     ]
    }
   ],
   "source": [
    "test_set = pd.merge(test_set,user_taglist,how='left',on=['user_id'])\n",
    "print(test_set.shape)\n",
    "print(\"duplicated:\\n\",test_set.duplicated().value_counts())"
   ]
  },
  {
   "cell_type": "code",
   "execution_count": 84,
   "metadata": {},
   "outputs": [
    {
     "data": {
      "text/plain": [
       "(144858, 34)"
      ]
     },
     "execution_count": 84,
     "metadata": {},
     "output_type": "execute_result"
    }
   ],
   "source": [
    "#用户标签信息获取时间必须在成交日之前\n",
    "# 注意：此步操作会将insertdate为NaT的记录排除掉而丢失样本\n",
    "before_auditing_date = ((test_set['insertdate'].isnull()) |\n",
    "                        (test_set['insertdate']<test_set['auditing_date']))\n",
    "test_set = test_set[before_auditing_date] \n",
    "test_set.shape"
   ]
  },
  {
   "cell_type": "code",
   "execution_count": 85,
   "metadata": {},
   "outputs": [
    {
     "data": {
      "text/plain": [
       "(130000, 33)"
      ]
     },
     "execution_count": 85,
     "metadata": {},
     "output_type": "execute_result"
    }
   ],
   "source": [
    "test_set = test_set.sort_values(by=['user_id','listing_id','insertdate'])\n",
    "test_set = test_set.drop_duplicates(subset=['user_id','listing_id','auditing_date'],keep='last')\n",
    "test_set.drop('insertdate',axis=1,inplace=True)\n",
    "test_set.shape"
   ]
  },
  {
   "cell_type": "markdown",
   "metadata": {},
   "source": [
    "## concat user_behavior"
   ]
  },
  {
   "cell_type": "markdown",
   "metadata": {},
   "source": [
    "## data_transform"
   ]
  },
  {
   "cell_type": "markdown",
   "metadata": {},
   "source": [
    "### audit_reg_delta"
   ]
  },
  {
   "cell_type": "code",
   "execution_count": 86,
   "metadata": {},
   "outputs": [],
   "source": [
    "test_set['audit_reg_delta'] = (test_set['auditing_date']-test_set['reg_mon']).dt.days #衡量用户新旧"
   ]
  },
  {
   "cell_type": "markdown",
   "metadata": {},
   "source": [
    "### dummy"
   ]
  },
  {
   "cell_type": "markdown",
   "metadata": {},
   "source": [
    "#### province"
   ]
  },
  {
   "cell_type": "markdown",
   "metadata": {},
   "source": [
    "##### cell_province"
   ]
  },
  {
   "cell_type": "code",
   "execution_count": 87,
   "metadata": {},
   "outputs": [
    {
     "data": {
      "text/plain": [
       "<matplotlib.axes._subplots.AxesSubplot at 0x1f20d505b00>"
      ]
     },
     "execution_count": 87,
     "metadata": {},
     "output_type": "execute_result"
    },
    {
     "data": {
      "image/png": "[encoded data removed]",
      "text/plain": [
       "<Figure size 720x432 with 1 Axes>"
      ]
     },
     "metadata": {},
     "output_type": "display_data"
    }
   ],
   "source": [
    "plt.figure(figsize=(10,6))\n",
    "test_set['cell_province'].value_counts(dropna=False).plot(kind='bar')"
   ]
  },
  {
   "cell_type": "code",
   "execution_count": 88,
   "metadata": {},
   "outputs": [],
   "source": [
    "test_set = pd.concat([test_set,\n",
    "                       pd.get_dummies(test_set['cell_province'],prefix ='cell_province' ,dummy_na=True)],\n",
    "                      axis=1)"
   ]
  },
  {
   "cell_type": "markdown",
   "metadata": {},
   "source": [
    "##### id_province"
   ]
  },
  {
   "cell_type": "code",
   "execution_count": 89,
   "metadata": {},
   "outputs": [
    {
     "data": {
      "text/plain": [
       "<matplotlib.axes._subplots.AxesSubplot at 0x1f20f178ba8>"
      ]
     },
     "execution_count": 89,
     "metadata": {},
     "output_type": "execute_result"
    },
    {
     "data": {
      "image/png": "[encoded data removed]",
      "text/plain": [
       "<Figure size 720x432 with 1 Axes>"
      ]
     },
     "metadata": {},
     "output_type": "display_data"
    }
   ],
   "source": [
    "plt.figure(figsize=(10,6))\n",
    "test_set['id_province'].value_counts(dropna=False).plot(kind='bar')"
   ]
  },
  {
   "cell_type": "code",
   "execution_count": 90,
   "metadata": {},
   "outputs": [],
   "source": [
    "# test_set = pd.concat([test_set,\n",
    "#                        pd.get_dummies(test_set['id_province'],prefix ='id_province' ,dummy_na=True)],\n",
    "#                       axis=1)"
   ]
  },
  {
   "cell_type": "markdown",
   "metadata": {},
   "source": [
    "#### id_city[维度太高暂不处理]"
   ]
  },
  {
   "cell_type": "markdown",
   "metadata": {},
   "source": [
    "#### age"
   ]
  },
  {
   "cell_type": "code",
   "execution_count": 91,
   "metadata": {},
   "outputs": [],
   "source": [
    "test_set['age_dummy'] = pd.cut(test_set['age'],bins=[18,20,30,40,50,100],labels=[1,2,3,4,5])"
   ]
  },
  {
   "cell_type": "code",
   "execution_count": 92,
   "metadata": {},
   "outputs": [],
   "source": [
    "test_set = pd.concat([test_set,\n",
    "                       pd.get_dummies(test_set['age_dummy'],prefix ='age_dummy' ,dummy_na=True)],\n",
    "                      axis=1)"
   ]
  },
  {
   "cell_type": "markdown",
   "metadata": {},
   "source": [
    "### woe"
   ]
  },
  {
   "cell_type": "markdown",
   "metadata": {},
   "source": [
    "#### listing_cat"
   ]
  },
  {
   "cell_type": "code",
   "execution_count": 138,
   "metadata": {},
   "outputs": [],
   "source": [
    "listing_cat_woe_map['53'] = (listing_cat_woe_map['52']+listing_cat_woe_map['51'])/2\n",
    "listing_cat_woe_map['54'] = (listing_cat_woe_map['53']+listing_cat_woe_map['52']+listing_cat_woe_map['51'])/3\n",
    "\n",
    "test_set['listing_cat'] = test_set['listing_cat'].astype(str).map(listing_cat_woe_map)"
   ]
  },
  {
   "cell_type": "markdown",
   "metadata": {},
   "source": [
    "#### id_city"
   ]
  },
  {
   "cell_type": "code",
   "execution_count": 139,
   "metadata": {},
   "outputs": [
    {
     "data": {
      "text/plain": [
       "-0.062955     27\n",
       "-1.202389     26\n",
       " 0.407049     24\n",
       " 0.837832     17\n",
       "-20.000000    17\n",
       "Name: id_city, dtype: int64"
      ]
     },
     "execution_count": 139,
     "metadata": {},
     "output_type": "execute_result"
    }
   ],
   "source": [
    "train_set['id_city'].value_counts(dropna=False).tail()#.to_dict()"
   ]
  },
  {
   "cell_type": "code",
   "execution_count": 140,
   "metadata": {},
   "outputs": [
    {
     "data": {
      "text/plain": [
       "c19058    5\n",
       "c25113    3\n",
       "c26178    2\n",
       "c02339    1\n",
       "c27339    1\n",
       "Name: id_city, dtype: int64"
      ]
     },
     "execution_count": 140,
     "metadata": {},
     "output_type": "execute_result"
    }
   ],
   "source": [
    "test_set['id_city'].value_counts(dropna=False).tail()"
   ]
  },
  {
   "cell_type": "code",
   "execution_count": 141,
   "metadata": {},
   "outputs": [],
   "source": [
    "test_set['id_city'] = test_set['id_city'].replace(few_city_map)"
   ]
  },
  {
   "cell_type": "code",
   "execution_count": 142,
   "metadata": {},
   "outputs": [],
   "source": [
    "test_set['id_city'] = test_set['id_city'].astype(str).map(id_city_woe_map)"
   ]
  },
  {
   "cell_type": "markdown",
   "metadata": {},
   "source": [
    "#### id_province"
   ]
  },
  {
   "cell_type": "code",
   "execution_count": 143,
   "metadata": {},
   "outputs": [],
   "source": [
    "test_set['id_province'] = test_set['id_province'].astype(str).map(id_province_woe_map)"
   ]
  },
  {
   "cell_type": "markdown",
   "metadata": {},
   "source": [
    "#### cell_province"
   ]
  },
  {
   "cell_type": "code",
   "execution_count": 144,
   "metadata": {},
   "outputs": [],
   "source": [
    "test_set['cell_province'] = test_set['cell_province'].astype(str).map(cell_province_woe_map)"
   ]
  },
  {
   "cell_type": "markdown",
   "metadata": {},
   "source": [
    "#### age_dummy"
   ]
  },
  {
   "cell_type": "code",
   "execution_count": 145,
   "metadata": {},
   "outputs": [],
   "source": [
    "test_age_dummy_woe_map = {'1': -0.21276862727554233,\n",
    " '2': -0.18214160046836594,\n",
    " '3': -0.16250553887944788,\n",
    " '4': -0.19367804136771047,\n",
    " '5': -0.163618420877076,\n",
    " 'nan': -0.20671310333980789}\n",
    "test_set['age_dummy'] = test_set['age_dummy'].astype(str).map(test_age_dummy_woe_map)"
   ]
  },
  {
   "cell_type": "markdown",
   "metadata": {},
   "source": [
    "### correlation"
   ]
  },
  {
   "cell_type": "code",
   "execution_count": 146,
   "metadata": {},
   "outputs": [
    {
     "data": {
      "text/html": [
       "<div>\n",
       "<style scoped>\n",
       "    .dataframe tbody tr th:only-of-type {\n",
       "        vertical-align: middle;\n",
       "    }\n",
       "\n",
       "    .dataframe tbody tr th {\n",
       "        vertical-align: top;\n",
       "    }\n",
       "\n",
       "    .dataframe thead th {\n",
       "        text-align: right;\n",
       "    }\n",
       "</style>\n",
       "<table border=\"1\" class=\"dataframe\">\n",
       "  <thead>\n",
       "    <tr style=\"text-align: right;\">\n",
       "      <th></th>\n",
       "      <th></th>\n",
       "      <th>corr</th>\n",
       "    </tr>\n",
       "  </thead>\n",
       "  <tbody>\n",
       "    <tr>\n",
       "      <th>principal</th>\n",
       "      <th>due_amt</th>\n",
       "      <td>0.873441</td>\n",
       "    </tr>\n",
       "    <tr>\n",
       "      <th>pvi</th>\n",
       "      <th>term</th>\n",
       "      <td>0.999930</td>\n",
       "    </tr>\n",
       "    <tr>\n",
       "      <th>gender_male</th>\n",
       "      <th>gender_female</th>\n",
       "      <td>-1.000000</td>\n",
       "    </tr>\n",
       "    <tr>\n",
       "      <th>same_province_True</th>\n",
       "      <th>same_province_False</th>\n",
       "      <td>-1.000000</td>\n",
       "    </tr>\n",
       "    <tr>\n",
       "      <th>tag_1</th>\n",
       "      <th>have_tags</th>\n",
       "      <td>1.000000</td>\n",
       "    </tr>\n",
       "    <tr>\n",
       "      <th>audit_reg_delta</th>\n",
       "      <th>user_id</th>\n",
       "      <td>-0.966199</td>\n",
       "    </tr>\n",
       "    <tr>\n",
       "      <th>age_dummy_3.0</th>\n",
       "      <th>age_dummy</th>\n",
       "      <td>0.845353</td>\n",
       "    </tr>\n",
       "  </tbody>\n",
       "</table>\n",
       "</div>"
      ],
      "text/plain": [
       "                                            corr\n",
       "principal          due_amt              0.873441\n",
       "pvi                term                 0.999930\n",
       "gender_male        gender_female       -1.000000\n",
       "same_province_True same_province_False -1.000000\n",
       "tag_1              have_tags            1.000000\n",
       "audit_reg_delta    user_id             -0.966199\n",
       "age_dummy_3.0      age_dummy            0.845353"
      ]
     },
     "execution_count": 146,
     "metadata": {},
     "output_type": "execute_result"
    }
   ],
   "source": [
    "corr = test_set.corr()\n",
    "corr.loc[:,:] = np.tril(corr,k=-1)\n",
    "corr = corr.stack()\n",
    "pd.DataFrame(corr[corr.abs()>=0.8],columns=[\"corr\"])\n",
    "# train_set.corr()"
   ]
  },
  {
   "cell_type": "code",
   "execution_count": 147,
   "metadata": {},
   "outputs": [],
   "source": [
    "test_set = test_set.drop(['term','gender_female','same_province_False','have_tags'],axis=1)"
   ]
  },
  {
   "cell_type": "markdown",
   "metadata": {},
   "source": [
    "### missing rate"
   ]
  },
  {
   "cell_type": "code",
   "execution_count": 148,
   "metadata": {},
   "outputs": [
    {
     "data": {
      "text/plain": [
       "listing_cat    0.0\n",
       "age_dummy      0.0\n",
       "dtype: float64"
      ]
     },
     "execution_count": 148,
     "metadata": {},
     "output_type": "execute_result"
    }
   ],
   "source": [
    "test_set.apply(lambda x:x.isnull().sum()/len(x))[['listing_cat','age_dummy']]"
   ]
  },
  {
   "cell_type": "code",
   "execution_count": 149,
   "metadata": {},
   "outputs": [],
   "source": [
    "test_set['tag_num'].fillna(0,inplace=True)\n",
    "for i in range(1,10):\n",
    "    test_set['tag_%s' % i].fillna(-1,inplace=True) # -1代表没有获得标签"
   ]
  },
  {
   "cell_type": "code",
   "execution_count": 150,
   "metadata": {},
   "outputs": [],
   "source": [
    "test_set.drop_duplicates().to_csv(\"./test_set_nobehavior.csv\",index=False)"
   ]
  }
 ],
 "metadata": {
  "kernelspec": {
   "display_name": "Python 3",
   "language": "python",
   "name": "python3"
  },
  "language_info": {
   "codemirror_mode": {
    "name": "ipython",
    "version": 3
   },
   "file_extension": ".py",
   "mimetype": "text/x-python",
   "name": "python",
   "nbconvert_exporter": "python",
   "pygments_lexer": "ipython3",
   "version": "3.6.8"
  },
  "nbTranslate": {
   "displayLangs": [
    "*"
   ],
   "hotkey": "alt-t",
   "langInMainMenu": true,
   "sourceLang": "en",
   "targetLang": "fr",
   "useGoogleTranslate": true
  },
  "toc": {
   "base_numbering": 1,
   "nav_menu": {},
   "number_sections": true,
   "sideBar": true,
   "skip_h1_title": false,
   "title_cell": "Table of Contents",
   "title_sidebar": "Contents",
   "toc_cell": false,
   "toc_position": {
    "height": "calc(100% - 180px)",
    "left": "10px",
    "top": "150px",
    "width": "294.4px"
   },
   "toc_section_display": true,
   "toc_window_display": true
  },
  "varInspector": {
   "cols": {
    "lenName": 16,
    "lenType": 16,
    "lenVar": 40
   },
   "kernels_config": {
    "python": {
     "delete_cmd_postfix": "",
     "delete_cmd_prefix": "del ",
     "library": "var_list.py",
     "varRefreshCmd": "print(var_dic_list())"
    },
    "r": {
     "delete_cmd_postfix": ") ",
     "delete_cmd_prefix": "rm(",
     "library": "var_list.r",
     "varRefreshCmd": "cat(var_dic_list()) "
    }
   },
   "types_to_exclude": [
    "module",
    "function",
    "builtin_function_or_method",
    "instance",
    "_Feature"
   ],
   "window_display": false
  }
 },
 "nbformat": 4,
 "nbformat_minor": 2
}
