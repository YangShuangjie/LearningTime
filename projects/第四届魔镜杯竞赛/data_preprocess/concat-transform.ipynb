{
 "cells": [
  {
   "cell_type": "markdown",
   "metadata": {},
   "source": [
    "# load data"
   ]
  },
  {
   "cell_type": "code",
   "execution_count": 1,
   "metadata": {},
   "outputs": [],
   "source": [
    "# import matplotlib.pyplot as plt\n",
    "# %matplotlib inline\n",
    "# from jupyterthemes import jtplot\n",
    "# jtplot.style(theme='gruvboxd')\n",
    "# jtplot.style(context='talk', fscale=1.4, spines=False, gridlines='--')\n",
    "# jtplot.style(ticks=True, grid=False, figsize=(6.5, 5))\n",
    "\n",
    "import pandas as pd\n",
    "import numpy as np"
   ]
  },
  {
   "cell_type": "code",
   "execution_count": 2,
   "metadata": {},
   "outputs": [],
   "source": [
    "# # train_data\n",
    "# # 882808:117192\n",
    "# train_data = pd.read_csv(\"./train.csv\",parse_dates=['auditing_date','due_date','repay_date']) #201801-20181231\n",
    "\n",
    "# # test_data\n",
    "# test_data = pd.read_csv(\"./test.csv\",parse_dates=['auditing_date','due_date']) #20190201-20190331\n",
    "\n",
    "# # listing_info\n",
    "# listing_info = pd.read_csv(\"./listing_info.csv\")\n",
    "\n",
    "# # user_info\n",
    "user_info = pd.read_csv(\"./user_info.csv\",parse_dates = ['reg_mon','insertdate']) #20171231-20190330\n",
    "\n",
    "# # user_taglist\n",
    "# user_taglist = pd.read_csv(\"./user_taglist.csv\",parse_dates = ['insertdate']) #20171231-20190330\n",
    "\n",
    "# # user_behavior\n",
    "# user_behavior = pd.read_csv(\"./user_behavior.csv\",parse_dates=['behavior_time']) # 20170705-20190330\n",
    "\n",
    "# # user_repay\n",
    "# user_repay = pd.read_csv(\"./user_repay.csv\",parse_dates=['auditing_date','due_date','repay_date']) # 20170705-20200330"
   ]
  },
  {
   "cell_type": "code",
   "execution_count": 3,
   "metadata": {},
   "outputs": [],
   "source": [
    "# user_repay[(user_repay['auditing_date']<=\"20190201\")&(user_repay['auditing_date']>=\"20190101\")&(user_repay['order_id']==1)]\n",
    "# 62133\n",
    "# 57222:4911\n",
    "\n",
    "# user_repay[(user_repay['auditing_date']<=\"20181231\")&(user_repay['auditing_date']>=\"20170705\")&(user_repay['order_id']==1)] \n",
    "# 2665908\n",
    "# 2493623:173985\n",
    "\n",
    "# user_repay[(user_repay['auditing_date']<=\"20181231\")&(user_repay['auditing_date']>=\"20180101\")&(user_repay['order_id']==1)] \n",
    "# 1960867\n",
    "# 1854069:113358\n",
    "\n",
    "# user_repay[(user_repay['auditing_date']<=\"20181231\")&(user_repay['auditing_date']>=\"20180101\")&(user_repay['order_id']==1)]\\\n",
    "# .drop('order_id',axis=1).set_index(['user_id','listing_id']) \\.loc[train_data.set_index(['user_id','listing_id']).index]\n",
    "\n",
    "# user_repay:20190101-20190131 样本外验证\n",
    "# user_repay:20180101-20181231 暂留\n",
    "# user_repay:20170705-20171231 距离较远直接舍弃"
   ]
  },
  {
   "cell_type": "markdown",
   "metadata": {
    "deletable": false,
    "editable": false,
    "run_control": {
     "frozen": true
    }
   },
   "source": [
    "# concat train_set"
   ]
  },
  {
   "cell_type": "markdown",
   "metadata": {},
   "source": [
    "## concat listing_info"
   ]
  },
  {
   "cell_type": "code",
   "execution_count": 26,
   "metadata": {
    "deletable": false,
    "editable": false,
    "run_control": {
     "frozen": true
    }
   },
   "outputs": [
    {
     "name": "stdout",
     "output_type": "stream",
     "text": [
      "(1000000, 14)\n",
      "duplicated:\n",
      " False    1000000\n",
      "dtype: int64\n"
     ]
    }
   ],
   "source": [
    "train_set = pd.merge(train_data,listing_info,how='left',on=['user_id','listing_id'])\n",
    "print(train_set.shape)\n",
    "print(\"duplicated:\\n\",train_set.duplicated().value_counts())"
   ]
  },
  {
   "cell_type": "markdown",
   "metadata": {},
   "source": [
    "## concat user_info"
   ]
  },
  {
   "cell_type": "code",
   "execution_count": 27,
   "metadata": {
    "deletable": false,
    "editable": false,
    "run_control": {
     "frozen": true
    }
   },
   "outputs": [
    {
     "name": "stdout",
     "output_type": "stream",
     "text": [
      "(1034565, 26)\n",
      "duplicated:\n",
      " False    1034565\n",
      "dtype: int64\n"
     ]
    }
   ],
   "source": [
    "train_set = pd.merge(train_set,user_info,how='left',on=['user_id'])\n",
    "print(train_set.shape)\n",
    "print(\"duplicated:\\n\",train_set.duplicated().value_counts())"
   ]
  },
  {
   "cell_type": "code",
   "execution_count": 28,
   "metadata": {
    "deletable": false,
    "editable": false,
    "run_control": {
     "frozen": true
    }
   },
   "outputs": [
    {
     "data": {
      "text/plain": [
       "(1000594, 25)"
      ]
     },
     "execution_count": 28,
     "metadata": {},
     "output_type": "execute_result"
    }
   ],
   "source": [
    "train_set = train_set[train_set['insertdate']<=train_set['auditing_date']] #用户信息获取时间必须在成交日之前\n",
    "train_set.drop('insertdate',axis=1,inplace=True)\n",
    "train_set.shape"
   ]
  },
  {
   "cell_type": "markdown",
   "metadata": {},
   "source": [
    "## concat user_taglist"
   ]
  },
  {
   "cell_type": "code",
   "execution_count": 29,
   "metadata": {
    "deletable": false,
    "editable": false,
    "run_control": {
     "frozen": true
    }
   },
   "outputs": [
    {
     "name": "stdout",
     "output_type": "stream",
     "text": [
      "(1183850, 37)\n",
      "duplicated:\n",
      " False    1183850\n",
      "dtype: int64\n"
     ]
    }
   ],
   "source": [
    "train_set = pd.merge(train_set,user_taglist,how='left',on=['user_id'])\n",
    "print(train_set.shape)\n",
    "print(\"duplicated:\\n\",train_set.duplicated().value_counts())"
   ]
  },
  {
   "cell_type": "code",
   "execution_count": 33,
   "metadata": {
    "deletable": false,
    "editable": false,
    "run_control": {
     "frozen": true
    }
   },
   "outputs": [
    {
     "name": "stderr",
     "output_type": "stream",
     "text": [
      "F:\\Anaconda3\\lib\\site-packages\\pandas\\core\\frame.py:3940: SettingWithCopyWarning: \n",
      "A value is trying to be set on a copy of a slice from a DataFrame\n",
      "\n",
      "See the caveats in the documentation: http://pandas.pydata.org/pandas-docs/stable/indexing.html#indexing-view-versus-copy\n",
      "  errors=errors)\n"
     ]
    },
    {
     "data": {
      "text/plain": [
       "(653304, 36)"
      ]
     },
     "execution_count": 33,
     "metadata": {},
     "output_type": "execute_result"
    }
   ],
   "source": [
    "train_set = train_set[train_set['insertdate']<=train_set['auditing_date']] #用户标签信息获取时间必须在成交日之前\n",
    "train_set.drop('insertdate',axis=1,inplace=True)\n",
    "train_set.shape"
   ]
  },
  {
   "cell_type": "code",
   "execution_count": 34,
   "metadata": {
    "deletable": false,
    "editable": false,
    "run_control": {
     "frozen": true
    }
   },
   "outputs": [],
   "source": [
    "train_set.to_csv(\"./train_set_nobehavior_norepay.csv\",index=False)"
   ]
  },
  {
   "cell_type": "markdown",
   "metadata": {},
   "source": [
    "## concat user_behavior"
   ]
  },
  {
   "cell_type": "code",
   "execution_count": 3,
   "metadata": {},
   "outputs": [],
   "source": [
    "train_set = pd.read_csv(\"./train_set_nobehavior_norepay.csv\",\n",
    "                        parse_dates=['auditing_date','due_date','repay_date','reg_mon'])"
   ]
  },
  {
   "cell_type": "code",
   "execution_count": 4,
   "metadata": {},
   "outputs": [
    {
     "name": "stdout",
     "output_type": "stream",
     "text": [
      "(19157034, 44)\n",
      "duplicated:\n",
      " False    19155758\n",
      "True         1276\n",
      "dtype: int64\n"
     ]
    }
   ],
   "source": [
    "train_set = pd.merge(train_set,user_behavior,how='left',on=['user_id'])\n",
    "del user_behavior\n",
    "print(train_set.shape)\n",
    "print(\"duplicated:\\n\",train_set.duplicated().value_counts())"
   ]
  },
  {
   "cell_type": "code",
   "execution_count": 5,
   "metadata": {},
   "outputs": [
    {
     "data": {
      "text/plain": [
       "(7753422, 44)"
      ]
     },
     "execution_count": 5,
     "metadata": {},
     "output_type": "execute_result"
    }
   ],
   "source": [
    "cond1 = (train_set['behavior_time']<=train_set['auditing_date']) # 用户行为需发生在成交之前\n",
    "cond2 = ((train_set['auditing_date']-train_set['behavior_time']).dt.days<=90) # 把行为限定在成交前三个月内\n",
    "train_set = train_set[cond1&cond2] \n",
    "train_set.shape"
   ]
  },
  {
   "cell_type": "code",
   "execution_count": 6,
   "metadata": {},
   "outputs": [
    {
     "name": "stdout",
     "output_type": "stream",
     "text": [
      "(7752905, 44)\n"
     ]
    }
   ],
   "source": [
    "train_set = train_set.drop_duplicates()\n",
    "print(train_set.shape)"
   ]
  },
  {
   "cell_type": "code",
   "execution_count": 7,
   "metadata": {},
   "outputs": [
    {
     "data": {
      "text/plain": [
       "(7540885, 42)"
      ]
     },
     "execution_count": 7,
     "metadata": {},
     "output_type": "execute_result"
    }
   ],
   "source": [
    "train_set = train_set.drop(['behavior_time','same_behavior_count1d'],axis=1).drop_duplicates()\n",
    "train_set.shape"
   ]
  },
  {
   "cell_type": "markdown",
   "metadata": {},
   "source": [
    "## data transform"
   ]
  },
  {
   "cell_type": "markdown",
   "metadata": {},
   "source": [
    "### audit_reg_delta"
   ]
  },
  {
   "cell_type": "code",
   "execution_count": 8,
   "metadata": {},
   "outputs": [],
   "source": [
    "train_set['audit_reg_delta'] = (train_set['auditing_date']-train_set['reg_mon']).dt.days #衡量用户新旧"
   ]
  },
  {
   "cell_type": "markdown",
   "metadata": {},
   "source": [
    "### dummy"
   ]
  },
  {
   "cell_type": "markdown",
   "metadata": {},
   "source": [
    "#### province"
   ]
  },
  {
   "cell_type": "code",
   "execution_count": 12,
   "metadata": {},
   "outputs": [
    {
     "data": {
      "text/plain": [
       "<matplotlib.axes._subplots.AxesSubplot at 0x1a8fde3a2b0>"
      ]
     },
     "execution_count": 12,
     "metadata": {},
     "output_type": "execute_result"
    },
    {
     "data": {
      "image/png": "[encoded data removed]",
      "text/plain": [
       "<Figure size 720x432 with 1 Axes>"
      ]
     },
     "metadata": {
      "needs_background": "dark"
     },
     "output_type": "display_data"
    }
   ],
   "source": [
    "plt.figure(figsize=(10,6))\n",
    "train_set['cell_province'].value_counts(dropna=False).plot(kind='bar')"
   ]
  },
  {
   "cell_type": "code",
   "execution_count": 13,
   "metadata": {},
   "outputs": [
    {
     "data": {
      "text/plain": [
       "<matplotlib.axes._subplots.AxesSubplot at 0x1a8aed23ef0>"
      ]
     },
     "execution_count": 13,
     "metadata": {},
     "output_type": "execute_result"
    },
    {
     "data": {
      "image/png": "[encoded data removed]",
      "text/plain": [
       "<Figure size 720x432 with 1 Axes>"
      ]
     },
     "metadata": {
      "needs_background": "dark"
     },
     "output_type": "display_data"
    }
   ],
   "source": [
    "plt.figure(figsize=(10,6))\n",
    "train_set['id_province'].value_counts(dropna=False).plot(kind='bar')"
   ]
  },
  {
   "cell_type": "code",
   "execution_count": 38,
   "metadata": {},
   "outputs": [],
   "source": [
    "# c04\n",
    "# c02 c20 \n",
    "# c17 c08 c26 c31 c09 c25 c12 c05 c11 c27\n",
    "# c01 c21 c29 c06 c14 c28 c22 c13 c19 c23 c07 c24\n",
    "# c03  c30  c15  c16  c18  c10   \n",
    "# nan\n",
    "\n",
    "# train_set['cell_province'].value_counts(dropna=False)\n",
    "cond_1 = (train_set['cell_province'] =='c04')\n",
    "\n",
    "cond_2 = (train_set['cell_province'] =='c02')|(train_set['cell_province'] =='c20')\n",
    "\n",
    "cond_3 = ((train_set['cell_province'] =='c17')|(train_set['cell_province'] =='c08')|\n",
    "        (train_set['cell_province'] =='c26')|(train_set['cell_province'] =='c31')|\n",
    "        (train_set['cell_province'] =='c09')|(train_set['cell_province'] =='c25')|\n",
    "        (train_set['cell_province'] =='c12')|(train_set['cell_province'] =='c05')|\n",
    "        (train_set['cell_province'] =='c11')|(train_set['cell_province'] =='c27'))\n",
    "\n",
    "cond_4 = ((train_set['cell_province'] =='c01')|(train_set['cell_province'] =='c21')|\n",
    "         (train_set['cell_province'] =='c29')|(train_set['cell_province'] =='c06')|\n",
    "         (train_set['cell_province'] =='c14')|(train_set['cell_province'] =='c28')|\n",
    "         (train_set['cell_province'] =='c22')|(train_set['cell_province'] =='c13')|\n",
    "        (train_set['cell_province'] =='c19')|(train_set['cell_province'] =='c23')|\n",
    "        (train_set['cell_province'] =='c07')|(train_set['cell_province'] =='c24'))\n",
    "\n",
    "cond_5 = ((train_set['cell_province'] =='c03')|(train_set['cell_province'] =='c30')|\n",
    "         (train_set['cell_province'] =='c15')|(train_set['cell_province'] =='c16')|\n",
    "         (train_set['cell_province'] =='c18')|(train_set['cell_province'] =='c10'))\n",
    "\n",
    "# cond_6 = (train_set['cell_province'].isnull())\n",
    "\n",
    "train_set.loc[cond_1,'province_dummy'] = 1\n",
    "train_set.loc[cond_2,'province_dummy'] = 2\n",
    "train_set.loc[cond_3,'province_dummy'] = 3\n",
    "train_set.loc[cond_4,'province_dummy'] = 4\n",
    "train_set.loc[cond_5,'province_dummy'] = 5\n",
    "# train_set.loc[cond_6,'cell_province'] = 6"
   ]
  },
  {
   "cell_type": "code",
   "execution_count": 42,
   "metadata": {},
   "outputs": [],
   "source": [
    "train_set = pd.concat([train_set,\n",
    "                       pd.get_dummies(train_set['province_dummy'],prefix ='province_dummy' ,dummy_na=True)],\n",
    "                      axis=1)"
   ]
  },
  {
   "cell_type": "markdown",
   "metadata": {},
   "source": [
    "#### age"
   ]
  },
  {
   "cell_type": "code",
   "execution_count": 46,
   "metadata": {},
   "outputs": [],
   "source": [
    "train_set['age_dummy'] = pd.cut(train_set['age'],bins=[18,20,30,40,50,100],labels=[1,2,3,4,5])"
   ]
  },
  {
   "cell_type": "code",
   "execution_count": 47,
   "metadata": {},
   "outputs": [],
   "source": [
    "train_set = pd.concat([train_set,\n",
    "                       pd.get_dummies(train_set['age_dummy'],prefix ='age_dummy' ,dummy_na=True)],\n",
    "                      axis=1)"
   ]
  },
  {
   "cell_type": "markdown",
   "metadata": {},
   "source": [
    "### woe transform"
   ]
  },
  {
   "cell_type": "code",
   "execution_count": 54,
   "metadata": {},
   "outputs": [],
   "source": [
    "train_set['y'] = (train_set['repay_amt'].isnull())*1"
   ]
  },
  {
   "cell_type": "code",
   "execution_count": 8,
   "metadata": {},
   "outputs": [],
   "source": [
    "from woe import WOE\n",
    "\n",
    "woe = WOE()"
   ]
  },
  {
   "cell_type": "markdown",
   "metadata": {},
   "source": [
    "#### listing_cat"
   ]
  },
  {
   "cell_type": "code",
   "execution_count": 59,
   "metadata": {},
   "outputs": [],
   "source": [
    "listing_cat_woe_map = woe.woe_single_x(train_set['listing_cat'].astype(str),train_set['y'])[0]\n",
    "train_set['listing_cat'] = train_set['listing_cat'].astype(str).map(listing_cat_woe_map)"
   ]
  },
  {
   "cell_type": "markdown",
   "metadata": {},
   "source": [
    "#### id_city"
   ]
  },
  {
   "cell_type": "code",
   "execution_count": 71,
   "metadata": {},
   "outputs": [
    {
     "data": {
      "text/plain": [
       "c26033    121\n",
       "c19058     88\n",
       "c25339     46\n",
       "c04339      9\n",
       "c26178      3\n",
       "Name: id_city, dtype: int64"
      ]
     },
     "execution_count": 71,
     "metadata": {},
     "output_type": "execute_result"
    }
   ],
   "source": [
    "train_set['id_city'].value_counts(dropna=False).tail()#.to_dict()"
   ]
  },
  {
   "cell_type": "code",
   "execution_count": 74,
   "metadata": {},
   "outputs": [],
   "source": [
    "few_city_map = {'c19058': 'c99999', \n",
    "                 'c25339':'c99999', \n",
    "                 'c04339':'c99999', \n",
    "                 'c26178':'c99999'}\n",
    "train_set['id_city'] = train_set['id_city'].replace(few_city_map)"
   ]
  },
  {
   "cell_type": "code",
   "execution_count": 77,
   "metadata": {},
   "outputs": [
    {
     "name": "stderr",
     "output_type": "stream",
     "text": [
      "F:\\Anaconda3\\lib\\site-packages\\pandas\\core\\series.py:942: FutureWarning: \n",
      "Passing list-likes to .loc or [] with any missing label will raise\n",
      "KeyError in the future, you can use .reindex() as an alternative.\n",
      "\n",
      "See the documentation here:\n",
      "https://pandas.pydata.org/pandas-docs/stable/indexing.html#deprecate-loc-reindex-listlike\n",
      "  return self.loc[key]\n"
     ]
    }
   ],
   "source": [
    "id_city_woe_map = woe.woe_single_x(train_set['id_city'].astype(str),train_set['y'])[0]\n",
    "train_set['id_city'] = train_set['id_city'].astype(str).map(id_city_woe_map)"
   ]
  },
  {
   "cell_type": "markdown",
   "metadata": {},
   "source": [
    "#### id_province"
   ]
  },
  {
   "cell_type": "code",
   "execution_count": 63,
   "metadata": {},
   "outputs": [],
   "source": [
    "id_province_woe_map = woe.woe_single_x(train_set['id_province'].astype(str),train_set['y'])[0]\n",
    "train_set['id_province'] = train_set['id_province'].astype(str).map(id_province_woe_map)"
   ]
  },
  {
   "cell_type": "markdown",
   "metadata": {},
   "source": [
    "#### cell_province"
   ]
  },
  {
   "cell_type": "code",
   "execution_count": 66,
   "metadata": {},
   "outputs": [],
   "source": [
    "cell_province_woe_map = woe.woe_single_x(train_set['cell_province'].astype(str),train_set['y'])[0]\n",
    "train_set['cell_province'] = train_set['cell_province'].astype(str).map(cell_province_woe_map)"
   ]
  },
  {
   "cell_type": "code",
   "execution_count": 18,
   "metadata": {},
   "outputs": [],
   "source": [
    "# 2.5.3.5  age\n",
    "\n",
    "# age_woe_map = woe.woe_single_x(train_set['age'].astype(str),train_set['y'])[0]\n",
    "# train_set['age'] = train_set['age'].astype(str).map(age_woe_map)"
   ]
  },
  {
   "cell_type": "markdown",
   "metadata": {},
   "source": [
    "### correlation"
   ]
  },
  {
   "cell_type": "code",
   "execution_count": 78,
   "metadata": {},
   "outputs": [
    {
     "data": {
      "text/html": [
       "<div>\n",
       "<style scoped>\n",
       "    .dataframe tbody tr th:only-of-type {\n",
       "        vertical-align: middle;\n",
       "    }\n",
       "\n",
       "    .dataframe tbody tr th {\n",
       "        vertical-align: top;\n",
       "    }\n",
       "\n",
       "    .dataframe thead th {\n",
       "        text-align: right;\n",
       "    }\n",
       "</style>\n",
       "<table border=\"1\" class=\"dataframe\">\n",
       "  <thead>\n",
       "    <tr style=\"text-align: right;\">\n",
       "      <th></th>\n",
       "      <th></th>\n",
       "      <th>corr</th>\n",
       "    </tr>\n",
       "  </thead>\n",
       "  <tbody>\n",
       "    <tr>\n",
       "      <th>repay_amt</th>\n",
       "      <th>due_amt</th>\n",
       "      <td>1.000000</td>\n",
       "    </tr>\n",
       "    <tr>\n",
       "      <th rowspan=\"2\" valign=\"top\">principal</th>\n",
       "      <th>due_amt</th>\n",
       "      <td>0.848941</td>\n",
       "    </tr>\n",
       "    <tr>\n",
       "      <th>repay_amt</th>\n",
       "      <td>0.848027</td>\n",
       "    </tr>\n",
       "    <tr>\n",
       "      <th>pvi</th>\n",
       "      <th>term</th>\n",
       "      <td>0.999854</td>\n",
       "    </tr>\n",
       "    <tr>\n",
       "      <th>gender_male</th>\n",
       "      <th>gender_female</th>\n",
       "      <td>-1.000000</td>\n",
       "    </tr>\n",
       "    <tr>\n",
       "      <th>same_province_True</th>\n",
       "      <th>same_province_False</th>\n",
       "      <td>-1.000000</td>\n",
       "    </tr>\n",
       "    <tr>\n",
       "      <th>tag_1</th>\n",
       "      <th>have_tags</th>\n",
       "      <td>1.000000</td>\n",
       "    </tr>\n",
       "    <tr>\n",
       "      <th>behavior_type_3.0</th>\n",
       "      <th>behavior_type_1.0</th>\n",
       "      <td>-0.844355</td>\n",
       "    </tr>\n",
       "    <tr>\n",
       "      <th>audit_reg_delta</th>\n",
       "      <th>user_id</th>\n",
       "      <td>-0.887537</td>\n",
       "    </tr>\n",
       "  </tbody>\n",
       "</table>\n",
       "</div>"
      ],
      "text/plain": [
       "                                            corr\n",
       "repay_amt          due_amt              1.000000\n",
       "principal          due_amt              0.848941\n",
       "                   repay_amt            0.848027\n",
       "pvi                term                 0.999854\n",
       "gender_male        gender_female       -1.000000\n",
       "same_province_True same_province_False -1.000000\n",
       "tag_1              have_tags            1.000000\n",
       "behavior_type_3.0  behavior_type_1.0   -0.844355\n",
       "audit_reg_delta    user_id             -0.887537"
      ]
     },
     "execution_count": 78,
     "metadata": {},
     "output_type": "execute_result"
    }
   ],
   "source": [
    "corr = train_set.corr()\n",
    "corr.loc[:,:] = np.tril(corr,k=-1)\n",
    "corr = corr.stack()\n",
    "pd.DataFrame(corr[corr.abs()>=0.8],columns=[\"corr\"])\n",
    "# train_set.corr()"
   ]
  },
  {
   "cell_type": "code",
   "execution_count": 25,
   "metadata": {},
   "outputs": [],
   "source": [
    "# term gender_female same_province_False have_tags \n",
    "# train_set.columns\n",
    "# train_set['age']"
   ]
  },
  {
   "cell_type": "code",
   "execution_count": 26,
   "metadata": {},
   "outputs": [],
   "source": [
    "train_set = train_set.drop(['term','gender_female','same_province_False','have_tags',\n",
    "                           'province_dummy','age_dummy'],axis=1)"
   ]
  },
  {
   "cell_type": "markdown",
   "metadata": {},
   "source": [
    "### missing rate"
   ]
  },
  {
   "cell_type": "code",
   "execution_count": 27,
   "metadata": {},
   "outputs": [
    {
     "data": {
      "text/plain": [
       "user_id               0.000000\n",
       "listing_id            0.000000\n",
       "auditing_date         0.000000\n",
       "due_date              0.000000\n",
       "due_amt               0.000000\n",
       "repay_date            0.101894\n",
       "repay_amt             0.101894\n",
       "repay_date_delta      0.101894\n",
       "auditing_days         0.000000\n",
       "listing_cat           0.000000\n",
       "rate                  0.000000\n",
       "principal             0.000000\n",
       "pvi                   0.000000\n",
       "reg_mon               0.000000\n",
       "cell_province         0.017728\n",
       "id_province           0.000000\n",
       "id_city               0.008455\n",
       "gender_male           0.000000\n",
       "gender_nan            0.000000\n",
       "same_province_True    0.000000\n",
       "same_province_nan     0.000000\n",
       "tag_num               0.000000\n",
       "tag_1                 0.000000\n",
       "tag_2                 0.000000\n",
       "tag_3                 0.000000\n",
       "tag_4                 0.000000\n",
       "tag_5                 0.000000\n",
       "tag_6                 0.000000\n",
       "tag_7                 0.000000\n",
       "tag_8                 0.000000\n",
       "tag_9                 0.000000\n",
       "behavior_hour         0.000000\n",
       "behavior_days         0.000000\n",
       "behavior_type_1.0     0.000000\n",
       "behavior_type_2.0     0.000000\n",
       "behavior_type_3.0     0.000000\n",
       "behavior_type_nan     0.000000\n",
       "audit_reg_delta       0.000000\n",
       "y                     0.000000\n",
       "province_dummy_1.0    0.000000\n",
       "province_dummy_2.0    0.000000\n",
       "province_dummy_3.0    0.000000\n",
       "province_dummy_4.0    0.000000\n",
       "province_dummy_5.0    0.000000\n",
       "province_dummy_nan    0.000000\n",
       "age_dummy_1.0         0.000000\n",
       "age_dummy_2.0         0.000000\n",
       "age_dummy_3.0         0.000000\n",
       "age_dummy_4.0         0.000000\n",
       "age_dummy_5.0         0.000000\n",
       "age_dummy_nan         0.000000\n",
       "age                   0.000000\n",
       "dtype: float64"
      ]
     },
     "execution_count": 27,
     "metadata": {},
     "output_type": "execute_result"
    }
   ],
   "source": [
    "train_set.apply(lambda x:x.isnull().sum()/len(x))"
   ]
  },
  {
   "cell_type": "code",
   "execution_count": 28,
   "metadata": {},
   "outputs": [],
   "source": [
    "train_set.to_csv(\"./train_set.csv\",index=False)"
   ]
  }
 ],
 "metadata": {
  "kernelspec": {
   "display_name": "Python 3",
   "language": "python",
   "name": "python3"
  },
  "language_info": {
   "codemirror_mode": {
    "name": "ipython",
    "version": 3
   },
   "file_extension": ".py",
   "mimetype": "text/x-python",
   "name": "python",
   "nbconvert_exporter": "python",
   "pygments_lexer": "ipython3",
   "version": "3.6.8"
  },
  "nbTranslate": {
   "displayLangs": [
    "*"
   ],
   "hotkey": "alt-t",
   "langInMainMenu": true,
   "sourceLang": "en",
   "targetLang": "fr",
   "useGoogleTranslate": true
  },
  "toc": {
   "base_numbering": 1,
   "nav_menu": {},
   "number_sections": true,
   "sideBar": true,
   "skip_h1_title": false,
   "title_cell": "Table of Contents",
   "title_sidebar": "Contents",
   "toc_cell": false,
   "toc_position": {
    "height": "calc(100% - 180px)",
    "left": "10px",
    "top": "150px",
    "width": "294.4px"
   },
   "toc_section_display": true,
   "toc_window_display": true
  },
  "varInspector": {
   "cols": {
    "lenName": 16,
    "lenType": 16,
    "lenVar": 40
   },
   "kernels_config": {
    "python": {
     "delete_cmd_postfix": "",
     "delete_cmd_prefix": "del ",
     "library": "var_list.py",
     "varRefreshCmd": "print(var_dic_list())"
    },
    "r": {
     "delete_cmd_postfix": ") ",
     "delete_cmd_prefix": "rm(",
     "library": "var_list.r",
     "varRefreshCmd": "cat(var_dic_list()) "
    }
   },
   "types_to_exclude": [
    "module",
    "function",
    "builtin_function_or_method",
    "instance",
    "_Feature"
   ],
   "window_display": false
  }
 },
 "nbformat": 4,
 "nbformat_minor": 2
}
