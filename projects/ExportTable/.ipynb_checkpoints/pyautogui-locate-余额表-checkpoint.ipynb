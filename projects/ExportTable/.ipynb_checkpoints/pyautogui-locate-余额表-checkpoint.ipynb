{
 "cells": [
  {
   "cell_type": "code",
   "execution_count": 48,
   "metadata": {},
   "outputs": [],
   "source": [
    "import pandas as pd\n",
    "import pyautogui as aui\n",
    "from PIL import Image\n",
    "from pytesseract import image_to_string\n",
    "import win32clipboard\n",
    "import time\n",
    "import os"
   ]
  },
  {
   "cell_type": "markdown",
   "metadata": {},
   "source": [
    "# 读取文件"
   ]
  },
  {
   "cell_type": "code",
   "execution_count": 49,
   "metadata": {},
   "outputs": [],
   "source": [
    "firm_codes = pd.read_excel('审计数据范围（安永）(1).xls')"
   ]
  },
  {
   "cell_type": "code",
   "execution_count": 50,
   "metadata": {},
   "outputs": [],
   "source": [
    "firm_codes['编码'] = firm_codes['编码'].astype(str)\n",
    "firm_codes['code_length'] = firm_codes['编码'].apply(lambda x:len(x))"
   ]
  },
  {
   "cell_type": "markdown",
   "metadata": {},
   "source": [
    "# 创建文件夹"
   ]
  },
  {
   "cell_type": "code",
   "execution_count": 51,
   "metadata": {},
   "outputs": [],
   "source": [
    "cwd = os.getcwd()\n",
    "file_path = []\n",
    "for idx in firm_codes.index:\n",
    "    folder_name = firm_codes.loc[idx,'编码']+ '-' + firm_codes.loc[idx,'名称']\n",
    "    code0 = (firm_codes.loc[idx,'编码']=='0')\n",
    "    code1 = (firm_codes.loc[idx,'编码']=='1')\n",
    "    code3 = (firm_codes.loc[idx,'编码']=='3')\n",
    "    code5 = (firm_codes.loc[idx,'编码']=='5')\n",
    "    \n",
    "    cond1_1 = firm_codes.loc[idx,'编码'].startswith('1')\n",
    "    cond1_2 = (len(firm_codes.loc[idx,'编码'])==3)\n",
    "    cond1_3 = (len(firm_codes.loc[idx,'编码'])==5)\n",
    "    cond1_4 = (len(firm_codes.loc[idx,'编码'])==7)\n",
    "    cond1_5 = (firm_codes.loc[idx,'编码'].strip()=='1601')\n",
    "                    \n",
    "    cond2_1 = firm_codes.loc[idx,'编码'].startswith('3')\n",
    "    cond2_2 = len(firm_codes.loc[idx,'编码'])==3\n",
    "    \n",
    "    cond3_1 = firm_codes.loc[idx,'编码'].startswith('5')\n",
    "    cond3_2 = len(firm_codes.loc[idx,'编码'])==3\n",
    "    \n",
    "\n",
    "    if  code0: # 文件夹\n",
    "        grand_folder = cwd+'\\\\'+ folder_name\n",
    "        if not os.path.exists(grand_folder):\n",
    "            os.mkdir(grand_folder)\n",
    "                    \n",
    "    elif (code1 or code3 or code5): # 文件夹\n",
    "        parent_folder = grand_folder + '\\\\' + folder_name\n",
    "        if not os.path.exists(parent_folder):\n",
    "            os.mkdir(parent_folder)\n",
    "    \n",
    "    elif cond1_1 and (cond1_2 or cond1_3): # 文件夹\n",
    "        child_folder = parent_folder + '\\\\'+ folder_name\n",
    "        if not os.path.exists(child_folder):\n",
    "            os.mkdir(child_folder)    \n",
    "\n",
    "    if cond1_1 and (cond1_2 or cond1_4 or cond1_5): # 文件\n",
    "        file_path.append(child_folder + '\\\\'+ firm_codes.loc[idx,'编码'] + '-0002' + '\\\\' + firm_codes.loc[idx,'名称'])\n",
    "            \n",
    "    elif cond2_1 and cond2_2: # 文件\n",
    "        file_path.append(parent_folder+'\\\\' +firm_codes.loc[idx,'编码'] + '-0006' + '\\\\' + firm_codes.loc[idx,'名称'])\n",
    "\n",
    "    elif cond3_1 and cond3_2: # 文件\n",
    "        file_path.append(parent_folder + '\\\\' + firm_codes.loc[idx,'编码'] + '-0005' + '\\\\' + firm_codes.loc[idx,'名称'])"
   ]
  },
  {
   "cell_type": "code",
   "execution_count": 52,
   "metadata": {},
   "outputs": [
    {
     "name": "stdout",
     "output_type": "stream",
     "text": [
      "146\n"
     ]
    },
    {
     "data": {
      "text/plain": [
       "['D:\\\\Leadingworks\\\\ExportTable\\\\0-领地集团\\\\1-领地集团（房地产板块汇总）\\\\10210-领地集团（河南区域汇总）\\\\1021008-0002\\\\郑州领域房地产开发有限公司',\n",
       " 'D:\\\\Leadingworks\\\\ExportTable\\\\0-领地集团\\\\1-领地集团（房地产板块汇总）\\\\10210-领地集团（河南区域汇总）\\\\1021010-0002\\\\商丘川达房地产开发有限公司',\n",
       " 'D:\\\\Leadingworks\\\\ExportTable\\\\0-领地集团\\\\1-领地集团（房地产板块汇总）\\\\10210-领地集团（河南区域汇总）\\\\1021011-0002\\\\郑州川达房地产开发有限公司',\n",
       " 'D:\\\\Leadingworks\\\\ExportTable\\\\0-领地集团\\\\1-领地集团（房地产板块汇总）\\\\10210-领地集团（河南区域汇总）\\\\1021012-0002\\\\郑州泛达房地产开发有限公司',\n",
       " 'D:\\\\Leadingworks\\\\ExportTable\\\\0-领地集团\\\\1-领地集团（房地产板块汇总）\\\\10211-领地集团（其他区域汇总）\\\\1021102-0002\\\\广西领地房地产开发有限公司',\n",
       " 'D:\\\\Leadingworks\\\\ExportTable\\\\0-领地集团\\\\1-领地集团（房地产板块汇总）\\\\10211-领地集团（其他区域汇总）\\\\1021103-0002\\\\四川利保清大投资有限公司',\n",
       " 'D:\\\\Leadingworks\\\\ExportTable\\\\0-领地集团\\\\1-领地集团（房地产板块汇总）\\\\10211-领地集团（其他区域汇总）\\\\1021104-0002\\\\大连领地房地产开发有限公司',\n",
       " 'D:\\\\Leadingworks\\\\ExportTable\\\\0-领地集团\\\\1-领地集团（房地产板块汇总）\\\\10211-领地集团（其他区域汇总）\\\\1021105-0002\\\\武汉领地房地产开发有限公司',\n",
       " 'D:\\\\Leadingworks\\\\ExportTable\\\\0-领地集团\\\\1-领地集团（房地产板块汇总）\\\\10211-领地集团（其他区域汇总）\\\\1601-0002\\\\吉林省领地房地产开发有限公司',\n",
       " 'D:\\\\Leadingworks\\\\ExportTable\\\\0-领地集团\\\\1-领地集团（房地产板块汇总）\\\\10220-领地集团（南充区域汇总）\\\\1022001-0002\\\\南充领创房地产开发有限公司']"
      ]
     },
     "execution_count": 52,
     "metadata": {},
     "output_type": "execute_result"
    }
   ],
   "source": [
    "print(len(file_path))\n",
    "file_path[100:110]"
   ]
  },
  {
   "cell_type": "markdown",
   "metadata": {},
   "source": [
    "# 操作剪切板"
   ]
  },
  {
   "cell_type": "code",
   "execution_count": 53,
   "metadata": {},
   "outputs": [],
   "source": [
    "def set_clipboard_text(text):\n",
    "    win32clipboard.OpenClipboard()\n",
    "    win32clipboard.EmptyClipboard()\n",
    "    win32clipboard.SetClipboardText(text)\n",
    "    win32clipboard.CloseClipboard()\n",
    "\n",
    "\n",
    "def get_clipboard_text():\n",
    "    win32clipboard.OpenClipboard()\n",
    "    text = win32clipboard.GetClipboardData()\n",
    "    win32clipboard.CloseClipboard()\n",
    "    return text\n",
    "\n",
    "\n",
    "def paste_text(text):\n",
    "    aui.hotkey('ctrl','a')\n",
    "    set_clipboard_text(text)\n",
    "    aui.hotkey('ctrl','v')"
   ]
  },
  {
   "cell_type": "markdown",
   "metadata": {},
   "source": [
    "# hotkey"
   ]
  },
  {
   "cell_type": "code",
   "execution_count": 54,
   "metadata": {},
   "outputs": [],
   "source": [
    "def hotkey(key,n=1):\n",
    "    while n>0:\n",
    "        aui.hotkey(key)\n",
    "        n-=1"
   ]
  },
  {
   "cell_type": "markdown",
   "metadata": {},
   "source": [
    "# maximize用友窗口"
   ]
  },
  {
   "cell_type": "code",
   "execution_count": 8,
   "metadata": {},
   "outputs": [],
   "source": [
    "# yonyou = aui.getActiveWindow()\n",
    "yonyou = aui.getWindowsWithTitle('Yonyou UClient')[0] # [window]\n",
    "yonyou.maximize()"
   ]
  },
  {
   "cell_type": "markdown",
   "metadata": {},
   "source": [
    "# 打开NC"
   ]
  },
  {
   "cell_type": "code",
   "execution_count": 9,
   "metadata": {},
   "outputs": [],
   "source": [
    "aui.leftClick(300,419)"
   ]
  },
  {
   "cell_type": "markdown",
   "metadata": {},
   "source": [
    "# 登录"
   ]
  },
  {
   "cell_type": "code",
   "execution_count": 10,
   "metadata": {},
   "outputs": [],
   "source": [
    "while True:\n",
    "#     aui.screenshot('login.png',region=(160,120,666,430))\n",
    "    aui.screenshot('login.png',region=(625,210,666,430))\n",
    "    img_str = image_to_string(Image.open('login.png'))\n",
    "    if \"NC\" in img_str:\n",
    "#         aui.leftClick(482,380)\n",
    "        aui.leftClick(960,470)\n",
    "#         maxw,maxh = aui.size()\n",
    "#         yonyou.resizeTo(maxw,maxh)\n",
    "        \n",
    "        paste_text('yangsj1001')\n",
    "        aui.typewrite(['enter'])\n",
    "        \n",
    "        paste_text('leadingYSJ888')\n",
    "        aui.typewrite(['enter'])\n",
    "        \n",
    "        already_online = aui.getWindowsWithTitle('提示')\n",
    "        while already_online:\n",
    "            aui.hotkey('enter')\n",
    "            break\n",
    "        break"
   ]
  },
  {
   "cell_type": "markdown",
   "metadata": {},
   "source": [
    "# 科目辅助余额表"
   ]
  },
  {
   "cell_type": "code",
   "execution_count": 55,
   "metadata": {},
   "outputs": [],
   "source": [
    "while True:\n",
    "    aui.doubleClick(605,380) # 科目辅助余额表\n",
    "    aui.leftClick(30,180) #查询\n",
    "    try:\n",
    "        query_window = aui.getWindowsWithTitle('查询条件')[0]\n",
    "        if query_window.visible==1:\n",
    "            query_window.close()\n",
    "            break\n",
    "    except IndexError:\n",
    "        pass"
   ]
  },
  {
   "cell_type": "markdown",
   "metadata": {},
   "source": [
    "# 查询"
   ]
  },
  {
   "cell_type": "code",
   "execution_count": null,
   "metadata": {},
   "outputs": [],
   "source": [
    "def query(first_query=True):\n",
    "    aui.leftClick(30,180) #查询\n",
    "    \n",
    "    while True:\n",
    "        try:\n",
    "            window_visible = aui.getWindowsWithTitle('查询条件')[0].visible\n",
    "            if window_visible==1:\n",
    "                break\n",
    "        except IndexError:\n",
    "            aui.leftClick(30,180) #失败再次点击查询\n",
    "    \n",
    "    #选择账簿\n",
    "    aui.leftClick(1048,180)\n",
    "    #aui.hotkey('tab',duration=0.5)\n",
    "    paste_text(firm_code)\n",
    "    aui.hotkey('enter')\n",
    "    \n",
    "    #选择时间\n",
    "    # start\n",
    "    # aui.leftClick(810,322)\n",
    "    # time.sleep(0.5)\n",
    "    # aui.scroll(10,808,425)\n",
    "    # aui.leftClick(783,349)\n",
    "    \n",
    "    time.sleep(5)\n",
    "    aui.doubleClick(969,215)\n",
    "    aui.typewrite('01')\n",
    "    \n",
    "    #end\n",
    "    # aui.leftClick(988,322)\n",
    "    # aui.vscroll(-10,963,413)\n",
    "    # aui.leftClick(956,435)\n",
    "    time.sleep(1)\n",
    "    aui.doubleClick(1106,215)\n",
    "    aui.typewrite('09')    \n",
    "    \n",
    "    if first_query:\n",
    "        aui.leftClick(943,560,duration=2) #包含未记账\n",
    "    \n",
    "    aui.moveTo(1280,913)\n",
    "    time.sleep(1) # 等待确认\n",
    "    aui.leftClick(1280,913) # 确认\n",
    "    \n",
    "def check_error():\n",
    "    #确认查询,账簿选择错误\n",
    "    tips_w = aui.getWindowsWithTitle('提示')\n",
    "    error_w = aui.getWindowsWithTitle('错误')\n",
    "    while tips_w or error_w:\n",
    "        aui.hotkey('enter')\n",
    "        try:\n",
    "            if aui.getWindowsWithTitle('查询条件')[0].isActive:\n",
    "                query()\n",
    "                check_error()\n",
    "        except IndexError:\n",
    "            query(first_query=False)\n",
    "            check_error()\n",
    "        break"
   ]
  },
  {
   "cell_type": "code",
   "execution_count": null,
   "metadata": {},
   "outputs": [],
   "source": [
    "# aui.screenshot('查询已结束.png',region = (0,965,100,26))\n",
    "# image_to_string(Image.open('查询已结束.png'),lang='chi_sim')"
   ]
  },
  {
   "cell_type": "code",
   "execution_count": null,
   "metadata": {},
   "outputs": [],
   "source": [
    "first_file = True\n",
    "for path in file_path:\n",
    "    firm_name = os.path.basename(path)\n",
    "    firm_code = os.path.basename(os.path.dirname(path))\n",
    "    dirname = os.path.dirname(os.path.dirname(path))\n",
    "    target_file = dirname + '\\\\' + firm_name + ' 科目余额表19.1-19.9.xls'\n",
    "    \n",
    "    if first_file:\n",
    "        query()\n",
    "        check_error()\n",
    "    else:\n",
    "        query(first_query=False)\n",
    "\n",
    "    #打印设置\n",
    "    c = 0\n",
    "    while True:\n",
    "        aui.screenshot('查询已结束.png',region = (0,965,100,26))\n",
    "        query_finish_str = image_to_string(Image.open('查询已结束.png'),lang='chi_sim')\n",
    "        if query_finish_str!='':\n",
    "            aui.screenshot('time.png',region = (68,220,128,30))\n",
    "            time_str = image_to_string(Image.open('time.png'))\n",
    "            time_cond = (time_str.strip().strip('\\'').replace('-','').replace('—','') != \"201901201909\") #2019-01—2019-09\n",
    "            if time_cond and c<5:\n",
    "               # aui.hotkey('shift')\n",
    "                query(first_query=False)\n",
    "                check_error()\n",
    "                c +=1\n",
    "            elif time_cond and c==5:\n",
    "                break\n",
    "            else:\n",
    "                break\n",
    "                \n",
    "    aui.leftClick(422,180) #打印\n",
    "    while True:\n",
    "        try:\n",
    "            window_visible = aui.getWindowsWithTitle('打印')[0].visible\n",
    "            if window_visible==1:\n",
    "                break\n",
    "        except IndexError:\n",
    "            pass\n",
    "    \n",
    "    aui.leftClick(842,415) #按显示打印\n",
    "    hotkey('tab',2) #预览\n",
    "    aui.hotkey('enter')\n",
    "    \n",
    "    while True:\n",
    "        try:\n",
    "            window_visible = aui.getWindowsWithTitle('打印预览')[0].visible\n",
    "            if window_visible==1:\n",
    "                break\n",
    "        except IndexError:\n",
    "            pass\n",
    "    \n",
    "    aui.leftClick(1720,870) #输出\n",
    "    while True:\n",
    "        try:\n",
    "            window_visible = aui.getWindowsWithTitle('输出到文件')[0].visible\n",
    "            if window_visible==1:\n",
    "                break\n",
    "        except IndexError:\n",
    "            pass\n",
    "    \n",
    "    #选择目标文件\n",
    "    hotkey('tab',4) \n",
    "    aui.hotkey('enter')\n",
    "    paste_text(target_file)\n",
    "    aui.typewrite(['enter'])\n",
    "    \n",
    "    # 工作表前缀\n",
    "    time.sleep(0.5)\n",
    "    hotkey('tab',2)\n",
    "    paste_text(firm_name)\n",
    "    \n",
    "    # 行数\n",
    "    aui.hotkey('tab')\n",
    "    paste_text('200000')\n",
    "    # 确定\n",
    "    aui.hotkey('tab')\n",
    "    aui.hotkey('enter')\n",
    "\n",
    "#     print(aui.getAllTitles())\n",
    "    while True:\n",
    "        try:\n",
    "            window_active = aui.getWindowsWithTitle('文件已存在')[0].isActive\n",
    "            if window_active:\n",
    "                aui.leftClick(742,552) #覆盖\n",
    "                hotkey('enter',4)\n",
    "        except IndexError:\n",
    "            pass\n",
    "\n",
    "        try:\n",
    "            window_active = aui.getWindowsWithTitle('导出Excel')[0].isActive\n",
    "            if window_active:\n",
    "                aui.leftClick(801,486) # 打印完毕后关闭\n",
    "                break\n",
    "        except IndexError:\n",
    "            time.sleep(1)\n",
    "            pass\n",
    "\n",
    "    while True:\n",
    "        try:\n",
    "            aui.getWindowsWithTitle('打印预览')[0].close()\n",
    "        except IndexError:\n",
    "            break\n",
    "    \n",
    "    first_file = False"
   ]
  },
  {
   "cell_type": "code",
   "execution_count": null,
   "metadata": {},
   "outputs": [],
   "source": [
    "result_dict = {}\n",
    "\n",
    "for folder in os.listdir(grand_folder): #第二层\n",
    "    for file in os.listdir(grand_folder+ '\\\\'+folder): #第三层\n",
    "#         print(file)\n",
    "        if os.path.isdir(grand_folder+ '\\\\' + folder + '\\\\' +file):\n",
    "            for f in os.listdir(grand_folder+ '\\\\' + folder + '\\\\' +file):\n",
    "                f_path = grand_folder+ '\\\\' + folder + '\\\\' + file + '\\\\' +f\n",
    "#                 print(f_path)\n",
    "                result_df = pd.read_excel(f_path)\n",
    "                time_period = result_df.iloc[5,0]\n",
    "                if '2019-01--2019-09' in time_period:\n",
    "                    print('{0:<20}{1:<40}'.format(time_period+' 【 完成 】 ',f))\n",
    "                else:\n",
    "                    print('{0:<20}{1:<40}'.format(time_period+' 【 失败 】 ',f))\n",
    "                result_dict[f.strip(' 科目余额表19.1-19.9xls')] = time_period.strip('期间：')\n",
    "                \n",
    "        else:\n",
    "            f_path = grand_folder+ '\\\\' + folder + '\\\\' +file\n",
    "            result_df = pd.read_excel(f_path)\n",
    "            time_period = result_df.iloc[4,0]\n",
    "            if '2019-01--2019-09' in time_period:\n",
    "                print('{0:<20}{1:<40}'.format(time_period+' 【 完成 】 ',file))\n",
    "            else:\n",
    "                print('{0:<20}{1:<40}'.format(time_period+' 【 失败 】 ',file))\n",
    "            result_dict[file.strip(' 科目余额表19.1-19.9xls')] = time_period.strip('期间：')"
   ]
  },
  {
   "cell_type": "code",
   "execution_count": null,
   "metadata": {},
   "outputs": [],
   "source": [
    "\n",
    "# result_dict\n",
    "with open('科目余额表.txt',mode='w',encoding='utf8') as f:\n",
    "    for k,v in result_dict.items():\n",
    "        f.write('{0:<20}{1:<40}\\n'.format(v,k))"
   ]
  }
 ],
 "metadata": {
  "kernelspec": {
   "display_name": "Python 3",
   "language": "python",
   "name": "python3"
  },
  "language_info": {
   "codemirror_mode": {
    "name": "ipython",
    "version": 3
   },
   "file_extension": ".py",
   "mimetype": "text/x-python",
   "name": "python",
   "nbconvert_exporter": "python",
   "pygments_lexer": "ipython3",
   "version": "3.7.3"
  },
  "toc": {
   "base_numbering": 1,
   "nav_menu": {},
   "number_sections": true,
   "sideBar": true,
   "skip_h1_title": false,
   "title_cell": "Table of Contents",
   "title_sidebar": "Contents",
   "toc_cell": false,
   "toc_position": {
    "height": "574.4px",
    "left": "27px",
    "top": "91.6px",
    "width": "307.2px"
   },
   "toc_section_display": true,
   "toc_window_display": false
  }
 },
 "nbformat": 4,
 "nbformat_minor": 2
}
