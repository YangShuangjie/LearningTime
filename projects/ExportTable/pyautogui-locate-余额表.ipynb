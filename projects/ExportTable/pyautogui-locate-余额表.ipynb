{
 "cells": [
  {
   "cell_type": "code",
   "execution_count": 15,
   "metadata": {},
   "outputs": [],
   "source": [
    "import pandas as pd\n",
    "import pyautogui as aui\n",
    "from PIL import Image\n",
    "from pytesseract import image_to_string\n",
    "import win32clipboard\n",
    "import time\n",
    "import os"
   ]
  },
  {
   "cell_type": "markdown",
   "metadata": {},
   "source": [
    "# 读取文件"
   ]
  },
  {
   "cell_type": "code",
   "execution_count": 16,
   "metadata": {},
   "outputs": [],
   "source": [
    "firm_codes = pd.read_excel('审计数据范围（安永）(1).xls')"
   ]
  },
  {
   "cell_type": "code",
   "execution_count": 17,
   "metadata": {},
   "outputs": [],
   "source": [
    "firm_codes['编码'] = firm_codes['编码'].astype(str)\n",
    "firm_codes['code_length'] = firm_codes['编码'].apply(lambda x:len(x))"
   ]
  },
  {
   "cell_type": "markdown",
   "metadata": {},
   "source": [
    "# 创建文件夹"
   ]
  },
  {
   "cell_type": "code",
   "execution_count": 18,
   "metadata": {},
   "outputs": [],
   "source": [
    "cwd = os.getcwd()\n",
    "file_path = []\n",
    "for idx in firm_codes.index:\n",
    "    folder_name = firm_codes.loc[idx,'编码']+ '-' + firm_codes.loc[idx,'名称']\n",
    "    code0 = (firm_codes.loc[idx,'编码']=='0')\n",
    "    code1 = (firm_codes.loc[idx,'编码']=='1')\n",
    "    code3 = (firm_codes.loc[idx,'编码']=='3')\n",
    "    code5 = (firm_codes.loc[idx,'编码']=='5')\n",
    "    \n",
    "    cond1_1 = firm_codes.loc[idx,'编码'].startswith('1')\n",
    "    cond1_2 = (len(firm_codes.loc[idx,'编码'])==3)\n",
    "    cond1_3 = (len(firm_codes.loc[idx,'编码'])==5)\n",
    "    cond1_4 = (len(firm_codes.loc[idx,'编码'])==7)\n",
    "    cond1_5 = (firm_codes.loc[idx,'编码'].strip()=='1601')\n",
    "                    \n",
    "    cond2_1 = firm_codes.loc[idx,'编码'].startswith('3')\n",
    "    cond2_2 = len(firm_codes.loc[idx,'编码'])==3\n",
    "    \n",
    "    cond3_1 = firm_codes.loc[idx,'编码'].startswith('5')\n",
    "    cond3_2 = len(firm_codes.loc[idx,'编码'])==3\n",
    "    \n",
    "\n",
    "    if  code0: # 文件夹\n",
    "        grand_folder = cwd+'\\\\'+ folder_name\n",
    "        if not os.path.exists(grand_folder):\n",
    "            os.mkdir(grand_folder)\n",
    "                    \n",
    "    elif (code1 or code3 or code5): # 文件夹\n",
    "        parent_folder = grand_folder + '\\\\' + folder_name\n",
    "        if not os.path.exists(parent_folder):\n",
    "            os.mkdir(parent_folder)\n",
    "    \n",
    "    elif cond1_1 and (cond1_2 or cond1_3): # 文件夹\n",
    "        child_folder = parent_folder + '\\\\'+ folder_name\n",
    "        if not os.path.exists(child_folder):\n",
    "            os.mkdir(child_folder)    \n",
    "\n",
    "    if cond1_1 and (cond1_2 or cond1_4 or cond1_5): # 文件\n",
    "        file_path.append(child_folder + '\\\\'+ firm_codes.loc[idx,'编码'] + '-0002' + '\\\\' + firm_codes.loc[idx,'名称'])\n",
    "            \n",
    "    elif cond2_1 and cond2_2: # 文件\n",
    "        file_path.append(parent_folder+'\\\\' +firm_codes.loc[idx,'编码'] + '-0006' + '\\\\' + firm_codes.loc[idx,'名称'])\n",
    "\n",
    "    elif cond3_1 and cond3_2: # 文件\n",
    "        file_path.append(parent_folder + '\\\\' + firm_codes.loc[idx,'编码'] + '-0005' + '\\\\' + firm_codes.loc[idx,'名称'])"
   ]
  },
  {
   "cell_type": "code",
   "execution_count": 19,
   "metadata": {},
   "outputs": [
    {
     "name": "stdout",
     "output_type": "stream",
     "text": [
      "146\n"
     ]
    },
    {
     "data": {
      "text/plain": [
       "['D:\\\\Leadingworks\\\\ExportTable\\\\0-领地集团\\\\1-领地集团（房地产板块汇总）\\\\10210-领地集团（河南区域汇总）\\\\1021008-0002\\\\郑州领域房地产开发有限公司',\n",
       " 'D:\\\\Leadingworks\\\\ExportTable\\\\0-领地集团\\\\1-领地集团（房地产板块汇总）\\\\10210-领地集团（河南区域汇总）\\\\1021010-0002\\\\商丘川达房地产开发有限公司',\n",
       " 'D:\\\\Leadingworks\\\\ExportTable\\\\0-领地集团\\\\1-领地集团（房地产板块汇总）\\\\10210-领地集团（河南区域汇总）\\\\1021011-0002\\\\郑州川达房地产开发有限公司',\n",
       " 'D:\\\\Leadingworks\\\\ExportTable\\\\0-领地集团\\\\1-领地集团（房地产板块汇总）\\\\10210-领地集团（河南区域汇总）\\\\1021012-0002\\\\郑州泛达房地产开发有限公司',\n",
       " 'D:\\\\Leadingworks\\\\ExportTable\\\\0-领地集团\\\\1-领地集团（房地产板块汇总）\\\\10211-领地集团（其他区域汇总）\\\\1021102-0002\\\\广西领地房地产开发有限公司',\n",
       " 'D:\\\\Leadingworks\\\\ExportTable\\\\0-领地集团\\\\1-领地集团（房地产板块汇总）\\\\10211-领地集团（其他区域汇总）\\\\1021103-0002\\\\四川利保清大投资有限公司',\n",
       " 'D:\\\\Leadingworks\\\\ExportTable\\\\0-领地集团\\\\1-领地集团（房地产板块汇总）\\\\10211-领地集团（其他区域汇总）\\\\1021104-0002\\\\大连领地房地产开发有限公司',\n",
       " 'D:\\\\Leadingworks\\\\ExportTable\\\\0-领地集团\\\\1-领地集团（房地产板块汇总）\\\\10211-领地集团（其他区域汇总）\\\\1021105-0002\\\\武汉领地房地产开发有限公司',\n",
       " 'D:\\\\Leadingworks\\\\ExportTable\\\\0-领地集团\\\\1-领地集团（房地产板块汇总）\\\\10211-领地集团（其他区域汇总）\\\\1601-0002\\\\吉林省领地房地产开发有限公司',\n",
       " 'D:\\\\Leadingworks\\\\ExportTable\\\\0-领地集团\\\\1-领地集团（房地产板块汇总）\\\\10220-领地集团（南充区域汇总）\\\\1022001-0002\\\\南充领创房地产开发有限公司']"
      ]
     },
     "execution_count": 19,
     "metadata": {},
     "output_type": "execute_result"
    }
   ],
   "source": [
    "print(len(file_path))\n",
    "file_path[100:110]"
   ]
  },
  {
   "cell_type": "markdown",
   "metadata": {},
   "source": [
    "# 操作剪切板"
   ]
  },
  {
   "cell_type": "code",
   "execution_count": 20,
   "metadata": {},
   "outputs": [],
   "source": [
    "def set_clipboard_text(text):\n",
    "    win32clipboard.OpenClipboard()\n",
    "    win32clipboard.EmptyClipboard()\n",
    "    win32clipboard.SetClipboardText(text)\n",
    "    win32clipboard.CloseClipboard()\n",
    "\n",
    "\n",
    "def get_clipboard_text():\n",
    "    win32clipboard.OpenClipboard()\n",
    "    text = win32clipboard.GetClipboardData()\n",
    "    win32clipboard.CloseClipboard()\n",
    "    return text\n",
    "\n",
    "\n",
    "def paste_text(text):\n",
    "    aui.hotkey('ctrl','a')\n",
    "    set_clipboard_text(text)\n",
    "    aui.hotkey('ctrl','v')"
   ]
  },
  {
   "cell_type": "markdown",
   "metadata": {},
   "source": [
    "# hotkey"
   ]
  },
  {
   "cell_type": "code",
   "execution_count": 21,
   "metadata": {},
   "outputs": [],
   "source": [
    "def hotkey(key,n=1):\n",
    "    while n>0:\n",
    "        aui.hotkey(key)\n",
    "        n-=1"
   ]
  },
  {
   "cell_type": "markdown",
   "metadata": {},
   "source": [
    "# maximize用友窗口"
   ]
  },
  {
   "cell_type": "code",
   "execution_count": 22,
   "metadata": {},
   "outputs": [],
   "source": [
    "# yonyou = aui.getActiveWindow()\n",
    "yonyou = aui.getWindowsWithTitle('Yonyou UClient')[0] # [window]\n",
    "yonyou.maximize()"
   ]
  },
  {
   "cell_type": "markdown",
   "metadata": {},
   "source": [
    "# 打开NC"
   ]
  },
  {
   "cell_type": "code",
   "execution_count": 23,
   "metadata": {},
   "outputs": [],
   "source": [
    "aui.leftClick(300,419)"
   ]
  },
  {
   "cell_type": "markdown",
   "metadata": {},
   "source": [
    "# 登录"
   ]
  },
  {
   "cell_type": "code",
   "execution_count": 24,
   "metadata": {},
   "outputs": [],
   "source": [
    "while True:\n",
    "#     aui.screenshot('login.png',region=(160,120,666,430))\n",
    "    aui.screenshot('login.png',region=(625,210,666,430))\n",
    "    img_str = image_to_string(Image.open('login.png'))\n",
    "    if \"NC\" in img_str:\n",
    "#         aui.leftClick(482,380)\n",
    "        aui.leftClick(960,470)\n",
    "#         maxw,maxh = aui.size()\n",
    "#         yonyou.resizeTo(maxw,maxh)\n",
    "        \n",
    "        paste_text('yangsj1001')\n",
    "        aui.typewrite(['enter'])\n",
    "        \n",
    "        paste_text('leadingYSJ888')\n",
    "        aui.typewrite(['enter'])\n",
    "        \n",
    "        already_online = aui.getWindowsWithTitle('提示')\n",
    "        while already_online:\n",
    "            aui.hotkey('enter')\n",
    "            break\n",
    "        break"
   ]
  },
  {
   "cell_type": "markdown",
   "metadata": {},
   "source": [
    "# 科目辅助余额表"
   ]
  },
  {
   "cell_type": "code",
   "execution_count": 25,
   "metadata": {},
   "outputs": [],
   "source": [
    "while True:\n",
    "    aui.doubleClick(605,380) # 科目辅助余额表\n",
    "    aui.leftClick(30,180) #查询\n",
    "    try:\n",
    "        query_window = aui.getWindowsWithTitle('查询条件')[0]\n",
    "        if query_window.visible==1:\n",
    "            query_window.close()\n",
    "            break\n",
    "    except IndexError:\n",
    "        pass"
   ]
  },
  {
   "cell_type": "markdown",
   "metadata": {},
   "source": [
    "# 查询"
   ]
  },
  {
   "cell_type": "code",
   "execution_count": 26,
   "metadata": {},
   "outputs": [],
   "source": [
    "def query(first_query=True):\n",
    "    aui.leftClick(30,180) #查询\n",
    "    \n",
    "    while True:\n",
    "        try:\n",
    "            window_visible = aui.getWindowsWithTitle('查询条件')[0].visible\n",
    "            if window_visible==1:\n",
    "                break\n",
    "        except IndexError:\n",
    "            aui.leftClick(30,180) #失败再次点击查询\n",
    "    \n",
    "    #选择账簿\n",
    "    aui.leftClick(1048,180)\n",
    "    #aui.hotkey('tab',duration=0.5)\n",
    "    paste_text(firm_code)\n",
    "    aui.hotkey('enter')\n",
    "    \n",
    "    #选择时间\n",
    "    # start\n",
    "    # aui.leftClick(810,322)\n",
    "    # time.sleep(0.5)\n",
    "    # aui.scroll(10,808,425)\n",
    "    # aui.leftClick(783,349)\n",
    "    \n",
    "    time.sleep(5)\n",
    "    aui.doubleClick(969,215)\n",
    "    aui.typewrite('01')\n",
    "    \n",
    "    #end\n",
    "    # aui.leftClick(988,322)\n",
    "    # aui.vscroll(-10,963,413)\n",
    "    # aui.leftClick(956,435)\n",
    "    time.sleep(1)\n",
    "    aui.doubleClick(1106,215)\n",
    "    aui.typewrite('09')    \n",
    "    \n",
    "    if first_query:\n",
    "        aui.leftClick(943,560,duration=2) #包含未记账\n",
    "    \n",
    "    aui.moveTo(1280,913)\n",
    "    time.sleep(1) # 等待确认\n",
    "    aui.leftClick(1280,913) # 确认\n",
    "    \n",
    "def check_error():\n",
    "    #确认查询,账簿选择错误\n",
    "    tips_w = aui.getWindowsWithTitle('提示')\n",
    "    error_w = aui.getWindowsWithTitle('错误')\n",
    "    while tips_w or error_w:\n",
    "        aui.hotkey('enter')\n",
    "        try:\n",
    "            if aui.getWindowsWithTitle('查询条件')[0].isActive:\n",
    "                query()\n",
    "                check_error()\n",
    "        except IndexError:\n",
    "            query(first_query=False)\n",
    "            check_error()\n",
    "        break"
   ]
  },
  {
   "cell_type": "code",
   "execution_count": 27,
   "metadata": {},
   "outputs": [],
   "source": [
    "# aui.screenshot('查询已结束.png',region = (0,965,100,26))\n",
    "# image_to_string(Image.open('查询已结束.png'),lang='chi_sim')"
   ]
  },
  {
   "cell_type": "code",
   "execution_count": 28,
   "metadata": {},
   "outputs": [
    {
     "ename": "KeyboardInterrupt",
     "evalue": "",
     "output_type": "error",
     "traceback": [
      "\u001b[1;31m---------------------------------------------------------------------------\u001b[0m",
      "\u001b[1;31mKeyboardInterrupt\u001b[0m                         Traceback (most recent call last)",
      "\u001b[1;32m<ipython-input-28-b338f1814c54>\u001b[0m in \u001b[0;36m<module>\u001b[1;34m\u001b[0m\n\u001b[0;32m     16\u001b[0m     \u001b[1;32mwhile\u001b[0m \u001b[1;32mTrue\u001b[0m\u001b[1;33m:\u001b[0m\u001b[1;33m\u001b[0m\u001b[1;33m\u001b[0m\u001b[0m\n\u001b[0;32m     17\u001b[0m         \u001b[0maui\u001b[0m\u001b[1;33m.\u001b[0m\u001b[0mscreenshot\u001b[0m\u001b[1;33m(\u001b[0m\u001b[1;34m'查询已结束.png'\u001b[0m\u001b[1;33m,\u001b[0m\u001b[0mregion\u001b[0m \u001b[1;33m=\u001b[0m \u001b[1;33m(\u001b[0m\u001b[1;36m0\u001b[0m\u001b[1;33m,\u001b[0m\u001b[1;36m965\u001b[0m\u001b[1;33m,\u001b[0m\u001b[1;36m100\u001b[0m\u001b[1;33m,\u001b[0m\u001b[1;36m26\u001b[0m\u001b[1;33m)\u001b[0m\u001b[1;33m)\u001b[0m\u001b[1;33m\u001b[0m\u001b[1;33m\u001b[0m\u001b[0m\n\u001b[1;32m---> 18\u001b[1;33m         \u001b[0mquery_finish_str\u001b[0m \u001b[1;33m=\u001b[0m \u001b[0mimage_to_string\u001b[0m\u001b[1;33m(\u001b[0m\u001b[0mImage\u001b[0m\u001b[1;33m.\u001b[0m\u001b[0mopen\u001b[0m\u001b[1;33m(\u001b[0m\u001b[1;34m'查询已结束.png'\u001b[0m\u001b[1;33m)\u001b[0m\u001b[1;33m,\u001b[0m\u001b[0mlang\u001b[0m\u001b[1;33m=\u001b[0m\u001b[1;34m'chi_sim'\u001b[0m\u001b[1;33m)\u001b[0m\u001b[1;33m\u001b[0m\u001b[1;33m\u001b[0m\u001b[0m\n\u001b[0m\u001b[0;32m     19\u001b[0m         \u001b[1;32mif\u001b[0m \u001b[0mquery_finish_str\u001b[0m\u001b[1;33m!=\u001b[0m\u001b[1;34m''\u001b[0m\u001b[1;33m:\u001b[0m\u001b[1;33m\u001b[0m\u001b[1;33m\u001b[0m\u001b[0m\n\u001b[0;32m     20\u001b[0m             \u001b[0maui\u001b[0m\u001b[1;33m.\u001b[0m\u001b[0mscreenshot\u001b[0m\u001b[1;33m(\u001b[0m\u001b[1;34m'time.png'\u001b[0m\u001b[1;33m,\u001b[0m\u001b[0mregion\u001b[0m \u001b[1;33m=\u001b[0m \u001b[1;33m(\u001b[0m\u001b[1;36m68\u001b[0m\u001b[1;33m,\u001b[0m\u001b[1;36m220\u001b[0m\u001b[1;33m,\u001b[0m\u001b[1;36m128\u001b[0m\u001b[1;33m,\u001b[0m\u001b[1;36m30\u001b[0m\u001b[1;33m)\u001b[0m\u001b[1;33m)\u001b[0m\u001b[1;33m\u001b[0m\u001b[1;33m\u001b[0m\u001b[0m\n",
      "\u001b[1;32mF:\\Miniconda3\\lib\\site-packages\\pytesseract\\pytesseract.py\u001b[0m in \u001b[0;36mimage_to_string\u001b[1;34m(image, lang, config, nice, output_type, timeout)\u001b[0m\n\u001b[0;32m    343\u001b[0m         \u001b[0mOutput\u001b[0m\u001b[1;33m.\u001b[0m\u001b[0mDICT\u001b[0m\u001b[1;33m:\u001b[0m \u001b[1;32mlambda\u001b[0m\u001b[1;33m:\u001b[0m \u001b[1;33m{\u001b[0m\u001b[1;34m'text'\u001b[0m\u001b[1;33m:\u001b[0m \u001b[0mrun_and_get_output\u001b[0m\u001b[1;33m(\u001b[0m\u001b[1;33m*\u001b[0m\u001b[0margs\u001b[0m\u001b[1;33m)\u001b[0m\u001b[1;33m}\u001b[0m\u001b[1;33m,\u001b[0m\u001b[1;33m\u001b[0m\u001b[1;33m\u001b[0m\u001b[0m\n\u001b[0;32m    344\u001b[0m         \u001b[0mOutput\u001b[0m\u001b[1;33m.\u001b[0m\u001b[0mSTRING\u001b[0m\u001b[1;33m:\u001b[0m \u001b[1;32mlambda\u001b[0m\u001b[1;33m:\u001b[0m \u001b[0mrun_and_get_output\u001b[0m\u001b[1;33m(\u001b[0m\u001b[1;33m*\u001b[0m\u001b[0margs\u001b[0m\u001b[1;33m)\u001b[0m\u001b[1;33m,\u001b[0m\u001b[1;33m\u001b[0m\u001b[1;33m\u001b[0m\u001b[0m\n\u001b[1;32m--> 345\u001b[1;33m     }[output_type]()\n\u001b[0m\u001b[0;32m    346\u001b[0m \u001b[1;33m\u001b[0m\u001b[0m\n\u001b[0;32m    347\u001b[0m \u001b[1;33m\u001b[0m\u001b[0m\n",
      "\u001b[1;32mF:\\Miniconda3\\lib\\site-packages\\pytesseract\\pytesseract.py\u001b[0m in \u001b[0;36m<lambda>\u001b[1;34m()\u001b[0m\n\u001b[0;32m    342\u001b[0m         \u001b[0mOutput\u001b[0m\u001b[1;33m.\u001b[0m\u001b[0mBYTES\u001b[0m\u001b[1;33m:\u001b[0m \u001b[1;32mlambda\u001b[0m\u001b[1;33m:\u001b[0m \u001b[0mrun_and_get_output\u001b[0m\u001b[1;33m(\u001b[0m\u001b[1;33m*\u001b[0m\u001b[1;33m(\u001b[0m\u001b[0margs\u001b[0m \u001b[1;33m+\u001b[0m \u001b[1;33m[\u001b[0m\u001b[1;32mTrue\u001b[0m\u001b[1;33m]\u001b[0m\u001b[1;33m)\u001b[0m\u001b[1;33m)\u001b[0m\u001b[1;33m,\u001b[0m\u001b[1;33m\u001b[0m\u001b[1;33m\u001b[0m\u001b[0m\n\u001b[0;32m    343\u001b[0m         \u001b[0mOutput\u001b[0m\u001b[1;33m.\u001b[0m\u001b[0mDICT\u001b[0m\u001b[1;33m:\u001b[0m \u001b[1;32mlambda\u001b[0m\u001b[1;33m:\u001b[0m \u001b[1;33m{\u001b[0m\u001b[1;34m'text'\u001b[0m\u001b[1;33m:\u001b[0m \u001b[0mrun_and_get_output\u001b[0m\u001b[1;33m(\u001b[0m\u001b[1;33m*\u001b[0m\u001b[0margs\u001b[0m\u001b[1;33m)\u001b[0m\u001b[1;33m}\u001b[0m\u001b[1;33m,\u001b[0m\u001b[1;33m\u001b[0m\u001b[1;33m\u001b[0m\u001b[0m\n\u001b[1;32m--> 344\u001b[1;33m         \u001b[0mOutput\u001b[0m\u001b[1;33m.\u001b[0m\u001b[0mSTRING\u001b[0m\u001b[1;33m:\u001b[0m \u001b[1;32mlambda\u001b[0m\u001b[1;33m:\u001b[0m \u001b[0mrun_and_get_output\u001b[0m\u001b[1;33m(\u001b[0m\u001b[1;33m*\u001b[0m\u001b[0margs\u001b[0m\u001b[1;33m)\u001b[0m\u001b[1;33m,\u001b[0m\u001b[1;33m\u001b[0m\u001b[1;33m\u001b[0m\u001b[0m\n\u001b[0m\u001b[0;32m    345\u001b[0m     }[output_type]()\n\u001b[0;32m    346\u001b[0m \u001b[1;33m\u001b[0m\u001b[0m\n",
      "\u001b[1;32mF:\\Miniconda3\\lib\\site-packages\\pytesseract\\pytesseract.py\u001b[0m in \u001b[0;36mrun_and_get_output\u001b[1;34m(image, extension, lang, config, nice, timeout, return_bytes)\u001b[0m\n\u001b[0;32m    251\u001b[0m         }\n\u001b[0;32m    252\u001b[0m \u001b[1;33m\u001b[0m\u001b[0m\n\u001b[1;32m--> 253\u001b[1;33m         \u001b[0mrun_tesseract\u001b[0m\u001b[1;33m(\u001b[0m\u001b[1;33m**\u001b[0m\u001b[0mkwargs\u001b[0m\u001b[1;33m)\u001b[0m\u001b[1;33m\u001b[0m\u001b[1;33m\u001b[0m\u001b[0m\n\u001b[0m\u001b[0;32m    254\u001b[0m         \u001b[0mfilename\u001b[0m \u001b[1;33m=\u001b[0m \u001b[0mkwargs\u001b[0m\u001b[1;33m[\u001b[0m\u001b[1;34m'output_filename_base'\u001b[0m\u001b[1;33m]\u001b[0m \u001b[1;33m+\u001b[0m \u001b[0mos\u001b[0m\u001b[1;33m.\u001b[0m\u001b[0mextsep\u001b[0m \u001b[1;33m+\u001b[0m \u001b[0mextension\u001b[0m\u001b[1;33m\u001b[0m\u001b[1;33m\u001b[0m\u001b[0m\n\u001b[0;32m    255\u001b[0m         \u001b[1;32mwith\u001b[0m \u001b[0mopen\u001b[0m\u001b[1;33m(\u001b[0m\u001b[0mfilename\u001b[0m\u001b[1;33m,\u001b[0m \u001b[1;34m'rb'\u001b[0m\u001b[1;33m)\u001b[0m \u001b[1;32mas\u001b[0m \u001b[0moutput_file\u001b[0m\u001b[1;33m:\u001b[0m\u001b[1;33m\u001b[0m\u001b[1;33m\u001b[0m\u001b[0m\n",
      "\u001b[1;32mF:\\Miniconda3\\lib\\site-packages\\pytesseract\\pytesseract.py\u001b[0m in \u001b[0;36mrun_tesseract\u001b[1;34m(input_filename, output_filename_base, extension, lang, config, nice, timeout)\u001b[0m\n\u001b[0;32m    225\u001b[0m         \u001b[1;32mraise\u001b[0m \u001b[0mTesseractNotFoundError\u001b[0m\u001b[1;33m(\u001b[0m\u001b[1;33m)\u001b[0m\u001b[1;33m\u001b[0m\u001b[1;33m\u001b[0m\u001b[0m\n\u001b[0;32m    226\u001b[0m \u001b[1;33m\u001b[0m\u001b[0m\n\u001b[1;32m--> 227\u001b[1;33m     \u001b[1;32mwith\u001b[0m \u001b[0mtimeout_manager\u001b[0m\u001b[1;33m(\u001b[0m\u001b[0mproc\u001b[0m\u001b[1;33m,\u001b[0m \u001b[0mtimeout\u001b[0m\u001b[1;33m)\u001b[0m \u001b[1;32mas\u001b[0m \u001b[0merror_string\u001b[0m\u001b[1;33m:\u001b[0m\u001b[1;33m\u001b[0m\u001b[1;33m\u001b[0m\u001b[0m\n\u001b[0m\u001b[0;32m    228\u001b[0m         \u001b[1;32mif\u001b[0m \u001b[0mproc\u001b[0m\u001b[1;33m.\u001b[0m\u001b[0mreturncode\u001b[0m\u001b[1;33m:\u001b[0m\u001b[1;33m\u001b[0m\u001b[1;33m\u001b[0m\u001b[0m\n\u001b[0;32m    229\u001b[0m             \u001b[1;32mraise\u001b[0m \u001b[0mTesseractError\u001b[0m\u001b[1;33m(\u001b[0m\u001b[0mproc\u001b[0m\u001b[1;33m.\u001b[0m\u001b[0mreturncode\u001b[0m\u001b[1;33m,\u001b[0m \u001b[0mget_errors\u001b[0m\u001b[1;33m(\u001b[0m\u001b[0merror_string\u001b[0m\u001b[1;33m)\u001b[0m\u001b[1;33m)\u001b[0m\u001b[1;33m\u001b[0m\u001b[1;33m\u001b[0m\u001b[0m\n",
      "\u001b[1;32mF:\\Miniconda3\\lib\\contextlib.py\u001b[0m in \u001b[0;36m__enter__\u001b[1;34m(self)\u001b[0m\n\u001b[0;32m    110\u001b[0m         \u001b[1;32mdel\u001b[0m \u001b[0mself\u001b[0m\u001b[1;33m.\u001b[0m\u001b[0margs\u001b[0m\u001b[1;33m,\u001b[0m \u001b[0mself\u001b[0m\u001b[1;33m.\u001b[0m\u001b[0mkwds\u001b[0m\u001b[1;33m,\u001b[0m \u001b[0mself\u001b[0m\u001b[1;33m.\u001b[0m\u001b[0mfunc\u001b[0m\u001b[1;33m\u001b[0m\u001b[1;33m\u001b[0m\u001b[0m\n\u001b[0;32m    111\u001b[0m         \u001b[1;32mtry\u001b[0m\u001b[1;33m:\u001b[0m\u001b[1;33m\u001b[0m\u001b[1;33m\u001b[0m\u001b[0m\n\u001b[1;32m--> 112\u001b[1;33m             \u001b[1;32mreturn\u001b[0m \u001b[0mnext\u001b[0m\u001b[1;33m(\u001b[0m\u001b[0mself\u001b[0m\u001b[1;33m.\u001b[0m\u001b[0mgen\u001b[0m\u001b[1;33m)\u001b[0m\u001b[1;33m\u001b[0m\u001b[1;33m\u001b[0m\u001b[0m\n\u001b[0m\u001b[0;32m    113\u001b[0m         \u001b[1;32mexcept\u001b[0m \u001b[0mStopIteration\u001b[0m\u001b[1;33m:\u001b[0m\u001b[1;33m\u001b[0m\u001b[1;33m\u001b[0m\u001b[0m\n\u001b[0;32m    114\u001b[0m             \u001b[1;32mraise\u001b[0m \u001b[0mRuntimeError\u001b[0m\u001b[1;33m(\u001b[0m\u001b[1;34m\"generator didn't yield\"\u001b[0m\u001b[1;33m)\u001b[0m \u001b[1;32mfrom\u001b[0m \u001b[1;32mNone\u001b[0m\u001b[1;33m\u001b[0m\u001b[1;33m\u001b[0m\u001b[0m\n",
      "\u001b[1;32mF:\\Miniconda3\\lib\\site-packages\\pytesseract\\pytesseract.py\u001b[0m in \u001b[0;36mtimeout_manager\u001b[1;34m(proc, seconds)\u001b[0m\n\u001b[0;32m     93\u001b[0m     \u001b[1;32mtry\u001b[0m\u001b[1;33m:\u001b[0m\u001b[1;33m\u001b[0m\u001b[1;33m\u001b[0m\u001b[0m\n\u001b[0;32m     94\u001b[0m         \u001b[1;32mif\u001b[0m \u001b[1;32mnot\u001b[0m \u001b[0mseconds\u001b[0m\u001b[1;33m:\u001b[0m\u001b[1;33m\u001b[0m\u001b[1;33m\u001b[0m\u001b[0m\n\u001b[1;32m---> 95\u001b[1;33m             \u001b[1;32myield\u001b[0m \u001b[0mproc\u001b[0m\u001b[1;33m.\u001b[0m\u001b[0mcommunicate\u001b[0m\u001b[1;33m(\u001b[0m\u001b[1;33m)\u001b[0m\u001b[1;33m[\u001b[0m\u001b[1;36m1\u001b[0m\u001b[1;33m]\u001b[0m\u001b[1;33m\u001b[0m\u001b[1;33m\u001b[0m\u001b[0m\n\u001b[0m\u001b[0;32m     96\u001b[0m             \u001b[1;32mreturn\u001b[0m\u001b[1;33m\u001b[0m\u001b[1;33m\u001b[0m\u001b[0m\n\u001b[0;32m     97\u001b[0m \u001b[1;33m\u001b[0m\u001b[0m\n",
      "\u001b[1;32mF:\\Miniconda3\\lib\\subprocess.py\u001b[0m in \u001b[0;36mcommunicate\u001b[1;34m(self, input, timeout)\u001b[0m\n\u001b[0;32m    937\u001b[0m \u001b[1;33m\u001b[0m\u001b[0m\n\u001b[0;32m    938\u001b[0m             \u001b[1;32mtry\u001b[0m\u001b[1;33m:\u001b[0m\u001b[1;33m\u001b[0m\u001b[1;33m\u001b[0m\u001b[0m\n\u001b[1;32m--> 939\u001b[1;33m                 \u001b[0mstdout\u001b[0m\u001b[1;33m,\u001b[0m \u001b[0mstderr\u001b[0m \u001b[1;33m=\u001b[0m \u001b[0mself\u001b[0m\u001b[1;33m.\u001b[0m\u001b[0m_communicate\u001b[0m\u001b[1;33m(\u001b[0m\u001b[0minput\u001b[0m\u001b[1;33m,\u001b[0m \u001b[0mendtime\u001b[0m\u001b[1;33m,\u001b[0m \u001b[0mtimeout\u001b[0m\u001b[1;33m)\u001b[0m\u001b[1;33m\u001b[0m\u001b[1;33m\u001b[0m\u001b[0m\n\u001b[0m\u001b[0;32m    940\u001b[0m             \u001b[1;32mexcept\u001b[0m \u001b[0mKeyboardInterrupt\u001b[0m\u001b[1;33m:\u001b[0m\u001b[1;33m\u001b[0m\u001b[1;33m\u001b[0m\u001b[0m\n\u001b[0;32m    941\u001b[0m                 \u001b[1;31m# https://bugs.python.org/issue25942\u001b[0m\u001b[1;33m\u001b[0m\u001b[1;33m\u001b[0m\u001b[1;33m\u001b[0m\u001b[0m\n",
      "\u001b[1;32mF:\\Miniconda3\\lib\\subprocess.py\u001b[0m in \u001b[0;36m_communicate\u001b[1;34m(self, input, endtime, orig_timeout)\u001b[0m\n\u001b[0;32m   1265\u001b[0m             \u001b[1;31m# calls communicate again.\u001b[0m\u001b[1;33m\u001b[0m\u001b[1;33m\u001b[0m\u001b[1;33m\u001b[0m\u001b[0m\n\u001b[0;32m   1266\u001b[0m             \u001b[1;32mif\u001b[0m \u001b[0mself\u001b[0m\u001b[1;33m.\u001b[0m\u001b[0mstdout\u001b[0m \u001b[1;32mis\u001b[0m \u001b[1;32mnot\u001b[0m \u001b[1;32mNone\u001b[0m\u001b[1;33m:\u001b[0m\u001b[1;33m\u001b[0m\u001b[1;33m\u001b[0m\u001b[0m\n\u001b[1;32m-> 1267\u001b[1;33m                 \u001b[0mself\u001b[0m\u001b[1;33m.\u001b[0m\u001b[0mstdout_thread\u001b[0m\u001b[1;33m.\u001b[0m\u001b[0mjoin\u001b[0m\u001b[1;33m(\u001b[0m\u001b[0mself\u001b[0m\u001b[1;33m.\u001b[0m\u001b[0m_remaining_time\u001b[0m\u001b[1;33m(\u001b[0m\u001b[0mendtime\u001b[0m\u001b[1;33m)\u001b[0m\u001b[1;33m)\u001b[0m\u001b[1;33m\u001b[0m\u001b[1;33m\u001b[0m\u001b[0m\n\u001b[0m\u001b[0;32m   1268\u001b[0m                 \u001b[1;32mif\u001b[0m \u001b[0mself\u001b[0m\u001b[1;33m.\u001b[0m\u001b[0mstdout_thread\u001b[0m\u001b[1;33m.\u001b[0m\u001b[0mis_alive\u001b[0m\u001b[1;33m(\u001b[0m\u001b[1;33m)\u001b[0m\u001b[1;33m:\u001b[0m\u001b[1;33m\u001b[0m\u001b[1;33m\u001b[0m\u001b[0m\n\u001b[0;32m   1269\u001b[0m                     \u001b[1;32mraise\u001b[0m \u001b[0mTimeoutExpired\u001b[0m\u001b[1;33m(\u001b[0m\u001b[0mself\u001b[0m\u001b[1;33m.\u001b[0m\u001b[0margs\u001b[0m\u001b[1;33m,\u001b[0m \u001b[0morig_timeout\u001b[0m\u001b[1;33m)\u001b[0m\u001b[1;33m\u001b[0m\u001b[1;33m\u001b[0m\u001b[0m\n",
      "\u001b[1;32mF:\\Miniconda3\\lib\\threading.py\u001b[0m in \u001b[0;36mjoin\u001b[1;34m(self, timeout)\u001b[0m\n\u001b[0;32m   1030\u001b[0m \u001b[1;33m\u001b[0m\u001b[0m\n\u001b[0;32m   1031\u001b[0m         \u001b[1;32mif\u001b[0m \u001b[0mtimeout\u001b[0m \u001b[1;32mis\u001b[0m \u001b[1;32mNone\u001b[0m\u001b[1;33m:\u001b[0m\u001b[1;33m\u001b[0m\u001b[1;33m\u001b[0m\u001b[0m\n\u001b[1;32m-> 1032\u001b[1;33m             \u001b[0mself\u001b[0m\u001b[1;33m.\u001b[0m\u001b[0m_wait_for_tstate_lock\u001b[0m\u001b[1;33m(\u001b[0m\u001b[1;33m)\u001b[0m\u001b[1;33m\u001b[0m\u001b[1;33m\u001b[0m\u001b[0m\n\u001b[0m\u001b[0;32m   1033\u001b[0m         \u001b[1;32melse\u001b[0m\u001b[1;33m:\u001b[0m\u001b[1;33m\u001b[0m\u001b[1;33m\u001b[0m\u001b[0m\n\u001b[0;32m   1034\u001b[0m             \u001b[1;31m# the behavior of a negative timeout isn't documented, but\u001b[0m\u001b[1;33m\u001b[0m\u001b[1;33m\u001b[0m\u001b[1;33m\u001b[0m\u001b[0m\n",
      "\u001b[1;32mF:\\Miniconda3\\lib\\threading.py\u001b[0m in \u001b[0;36m_wait_for_tstate_lock\u001b[1;34m(self, block, timeout)\u001b[0m\n\u001b[0;32m   1046\u001b[0m         \u001b[1;32mif\u001b[0m \u001b[0mlock\u001b[0m \u001b[1;32mis\u001b[0m \u001b[1;32mNone\u001b[0m\u001b[1;33m:\u001b[0m  \u001b[1;31m# already determined that the C code is done\u001b[0m\u001b[1;33m\u001b[0m\u001b[1;33m\u001b[0m\u001b[0m\n\u001b[0;32m   1047\u001b[0m             \u001b[1;32massert\u001b[0m \u001b[0mself\u001b[0m\u001b[1;33m.\u001b[0m\u001b[0m_is_stopped\u001b[0m\u001b[1;33m\u001b[0m\u001b[1;33m\u001b[0m\u001b[0m\n\u001b[1;32m-> 1048\u001b[1;33m         \u001b[1;32melif\u001b[0m \u001b[0mlock\u001b[0m\u001b[1;33m.\u001b[0m\u001b[0macquire\u001b[0m\u001b[1;33m(\u001b[0m\u001b[0mblock\u001b[0m\u001b[1;33m,\u001b[0m \u001b[0mtimeout\u001b[0m\u001b[1;33m)\u001b[0m\u001b[1;33m:\u001b[0m\u001b[1;33m\u001b[0m\u001b[1;33m\u001b[0m\u001b[0m\n\u001b[0m\u001b[0;32m   1049\u001b[0m             \u001b[0mlock\u001b[0m\u001b[1;33m.\u001b[0m\u001b[0mrelease\u001b[0m\u001b[1;33m(\u001b[0m\u001b[1;33m)\u001b[0m\u001b[1;33m\u001b[0m\u001b[1;33m\u001b[0m\u001b[0m\n\u001b[0;32m   1050\u001b[0m             \u001b[0mself\u001b[0m\u001b[1;33m.\u001b[0m\u001b[0m_stop\u001b[0m\u001b[1;33m(\u001b[0m\u001b[1;33m)\u001b[0m\u001b[1;33m\u001b[0m\u001b[1;33m\u001b[0m\u001b[0m\n",
      "\u001b[1;31mKeyboardInterrupt\u001b[0m: "
     ]
    }
   ],
   "source": [
    "first_file = True\n",
    "for path in file_path:\n",
    "    firm_name = os.path.basename(path)\n",
    "    firm_code = os.path.basename(os.path.dirname(path))\n",
    "    dirname = os.path.dirname(os.path.dirname(path))\n",
    "    target_file = dirname + '\\\\' + firm_name + ' 科目余额表19.1-19.9.xls'\n",
    "    \n",
    "    if first_file:\n",
    "        query()\n",
    "        check_error()\n",
    "    else:\n",
    "        query(first_query=False)\n",
    "\n",
    "    #打印设置\n",
    "    c = 0\n",
    "    while True:\n",
    "        aui.screenshot('查询已结束.png',region = (0,965,100,26))\n",
    "        query_finish_str = image_to_string(Image.open('查询已结束.png'),lang='chi_sim')\n",
    "        if query_finish_str!='':\n",
    "            aui.screenshot('time.png',region = (68,220,128,30))\n",
    "            time_str = image_to_string(Image.open('time.png'))\n",
    "            time_cond = (time_str.strip().strip('\\'').replace('-','').replace('—','') != \"201901201909\") #2019-01—2019-09\n",
    "            if time_cond and c<5:\n",
    "               # aui.hotkey('shift')\n",
    "                query(first_query=False)\n",
    "                check_error()\n",
    "                c +=1\n",
    "            elif time_cond and c==5:\n",
    "                break\n",
    "            else:\n",
    "                break\n",
    "                \n",
    "    aui.leftClick(422,180) #打印\n",
    "    while True:\n",
    "        try:\n",
    "            window_visible = aui.getWindowsWithTitle('打印')[0].visible\n",
    "            if window_visible==1:\n",
    "                break\n",
    "        except IndexError:\n",
    "            pass\n",
    "    \n",
    "    aui.leftClick(842,415) #按显示打印\n",
    "    hotkey('tab',2) #预览\n",
    "    aui.hotkey('enter')\n",
    "    \n",
    "    while True:\n",
    "        try:\n",
    "            window_visible = aui.getWindowsWithTitle('打印预览')[0].visible\n",
    "            if window_visible==1:\n",
    "                break\n",
    "        except IndexError:\n",
    "            pass\n",
    "    \n",
    "    aui.leftClick(1720,870) #输出\n",
    "    while True:\n",
    "        try:\n",
    "            window_visible = aui.getWindowsWithTitle('输出到文件')[0].visible\n",
    "            if window_visible==1:\n",
    "                break\n",
    "        except IndexError:\n",
    "            pass\n",
    "    \n",
    "    #选择目标文件\n",
    "    hotkey('tab',4) \n",
    "    aui.hotkey('enter')\n",
    "    paste_text(target_file)\n",
    "    aui.typewrite(['enter'])\n",
    "    \n",
    "    # 工作表前缀\n",
    "    time.sleep(0.5)\n",
    "    hotkey('tab',2)\n",
    "    paste_text(firm_name)\n",
    "    \n",
    "    # 行数\n",
    "    aui.hotkey('tab')\n",
    "    paste_text('200000')\n",
    "    # 确定\n",
    "    aui.hotkey('tab')\n",
    "    aui.hotkey('enter')\n",
    "\n",
    "#     print(aui.getAllTitles())\n",
    "    while True:\n",
    "        try:\n",
    "            window_active = aui.getWindowsWithTitle('文件已存在')[0].isActive\n",
    "            if window_active:\n",
    "                aui.leftClick(742,552) #覆盖\n",
    "                hotkey('enter',4)\n",
    "        except IndexError:\n",
    "            pass\n",
    "\n",
    "        try:\n",
    "            window_active = aui.getWindowsWithTitle('导出Excel')[0].isActive\n",
    "            if window_active:\n",
    "                aui.leftClick(801,486) # 打印完毕后关闭\n",
    "                break\n",
    "        except IndexError:\n",
    "            time.sleep(1)\n",
    "            pass\n",
    "\n",
    "    while True:\n",
    "        try:\n",
    "            aui.getWindowsWithTitle('打印预览')[0].close()\n",
    "        except IndexError:\n",
    "            break\n",
    "    \n",
    "    first_file = False"
   ]
  },
  {
   "cell_type": "code",
   "execution_count": null,
   "metadata": {
    "scrolled": true
   },
   "outputs": [],
   "source": [
    "result_dict = {}\n",
    "\n",
    "for folder in os.listdir(grand_folder): #第二层\n",
    "    for file in os.listdir(grand_folder+ '\\\\'+folder): #第三层\n",
    "#         print(file)\n",
    "        if os.path.isdir(grand_folder+ '\\\\' + folder + '\\\\' +file):\n",
    "            for f in os.listdir(grand_folder+ '\\\\' + folder + '\\\\' +file):\n",
    "                f_path = grand_folder+ '\\\\' + folder + '\\\\' + file + '\\\\' +f\n",
    "#                 print(f_path)\n",
    "                result_df = pd.read_excel(f_path)\n",
    "                time_period = result_df.iloc[4,0]\n",
    "                if '2019-01--2019-09' in time_period:\n",
    "                    print('{0:<20}{1:<40}'.format(time_period+' 【 完成 】 ',f))\n",
    "                else:\n",
    "                    print('{0:<20}{1:<40}'.format(time_period+' 【 失败 】 ',f))\n",
    "                result_dict[f.strip(' 科目余额表19.1-19.9xls')] = time_period.strip('期间：')\n",
    "                \n",
    "        else:\n",
    "            f_path = grand_folder+ '\\\\' + folder + '\\\\' +file\n",
    "            result_df = pd.read_excel(f_path)\n",
    "            time_period = result_df.iloc[4,0]\n",
    "            if '2019-01--2019-09' in time_period:\n",
    "                print('{0:<20}{1:<40}'.format(time_period+' 【 完成 】 ',file))\n",
    "            else:\n",
    "                print('{0:<20}{1:<40}'.format(time_period+' 【 失败 】 ',file))\n",
    "            result_dict[file.strip(' 科目余额表19.1-19.9xls')] = time_period.strip('期间：')"
   ]
  },
  {
   "cell_type": "code",
   "execution_count": null,
   "metadata": {},
   "outputs": [],
   "source": [
    "# result_dict\n",
    "with open('科目余额表.txt',mode='w',encoding='utf8') as f:\n",
    "    for k,v in result_dict.items():\n",
    "        f.write('{0:<20}{1:<40}\\n'.format(v,k))"
   ]
  }
 ],
 "metadata": {
  "kernelspec": {
   "display_name": "Python 3",
   "language": "python",
   "name": "python3"
  },
  "language_info": {
   "codemirror_mode": {
    "name": "ipython",
    "version": 3
   },
   "file_extension": ".py",
   "mimetype": "text/x-python",
   "name": "python",
   "nbconvert_exporter": "python",
   "pygments_lexer": "ipython3",
   "version": "3.7.3"
  },
  "toc": {
   "base_numbering": 1,
   "nav_menu": {},
   "number_sections": true,
   "sideBar": true,
   "skip_h1_title": false,
   "title_cell": "Table of Contents",
   "title_sidebar": "Contents",
   "toc_cell": false,
   "toc_position": {
    "height": "574.4px",
    "left": "27px",
    "top": "91.6px",
    "width": "307.2px"
   },
   "toc_section_display": true,
   "toc_window_display": false
  }
 },
 "nbformat": 4,
 "nbformat_minor": 2
}
