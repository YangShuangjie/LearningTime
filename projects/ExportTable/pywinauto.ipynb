{
 "cells": [
  {
   "cell_type": "code",
   "execution_count": 1,
   "metadata": {},
   "outputs": [],
   "source": [
    "from pywinauto.application import Application"
   ]
  },
  {
   "cell_type": "code",
   "execution_count": 23,
   "metadata": {},
   "outputs": [],
   "source": [
    "yonyo_app = Application(backend='win32').connect(title='凭证查询')"
   ]
  },
  {
   "cell_type": "code",
   "execution_count": 24,
   "metadata": {},
   "outputs": [
    {
     "data": {
      "text/plain": [
       "[<hwndwrapper.DialogWrapper - '凭证查询', SunAwtDialog, 2425376>,\n",
       " <hwndwrapper.DialogWrapper - 'theAwtToolkitWindow', SunAwtToolkit, 5048280>,\n",
       " <hwndwrapper.DialogWrapper - 'M', MSCTFIME UI, 1835264>,\n",
       " <hwndwrapper.DialogWrapper - 'Default IME', IME, 3277990>]"
      ]
     },
     "execution_count": 24,
     "metadata": {},
     "output_type": "execute_result"
    }
   ],
   "source": [
    "yonyo_app.windows()\n",
    "# .print_control_identifiers()"
   ]
  },
  {
   "cell_type": "code",
   "execution_count": 25,
   "metadata": {},
   "outputs": [
    {
     "name": "stdout",
     "output_type": "stream",
     "text": [
      "Control Identifiers:\n",
      "\n",
      "SunAwtDialog - '凭证查询'    (L351, T70, R1109, B813)\n",
      "['凭证查询', 'SunAwtDialog', '凭证查询SunAwtDialog']\n",
      "child_window(title=\"凭证查询\", class_name=\"SunAwtDialog\")\n"
     ]
    }
   ],
   "source": [
    "yonyo_app.window(title='凭证查询').print_ctrl_ids()"
   ]
  },
  {
   "cell_type": "code",
   "execution_count": 26,
   "metadata": {},
   "outputs": [
    {
     "name": "stdout",
     "output_type": "stream",
     "text": [
      "Control Identifiers:\n",
      "\n",
      "SunAwtToolkit - 'theAwtToolkitWindow'    (L-1, T-1, R212, B58)\n",
      "['theAwtToolkitWindowSunAwtToolkit', 'SunAwtToolkit', 'theAwtToolkitWindow']\n",
      "child_window(title=\"theAwtToolkitWindow\", class_name=\"SunAwtToolkit\")\n"
     ]
    }
   ],
   "source": [
    "toolkit_window = yonyo_app.window(title='theAwtToolkitWindow')\n",
    "toolkit_window.exists()\n",
    "toolkit_window.print_ctrl_ids()"
   ]
  },
  {
   "cell_type": "code",
   "execution_count": null,
   "metadata": {},
   "outputs": [],
   "source": [
    "uclient.exists()\n",
    "# uclient.ready\n",
    "# uclient.print_ctrl_ids()\n",
    "uclient.print_control_identifiers()"
   ]
  },
  {
   "cell_type": "code",
   "execution_count": null,
   "metadata": {},
   "outputs": [],
   "source": [
    "uclient_child = uclient.child_window(class_name='YonyouUWnd')\n",
    "uclient_child.exists()\n",
    "uclient_child.print_ctrl_ids()"
   ]
  },
  {
   "cell_type": "code",
   "execution_count": null,
   "metadata": {},
   "outputs": [],
   "source": [
    "uclient_child2 = uclient_child.child_window(class_name='SunAwtFrame')\n",
    "uclient_child2.exists()\n",
    "uclient_child2.print_ctrl_ids()"
   ]
  },
  {
   "cell_type": "code",
   "execution_count": null,
   "metadata": {},
   "outputs": [],
   "source": [
    "uclient_child3 = uclient_child2.child_window(class_name='SunAwtCanvas')\n",
    "uclient_child3.exists()\n",
    "uclient_child3.print_ctrl_ids()"
   ]
  },
  {
   "cell_type": "code",
   "execution_count": null,
   "metadata": {},
   "outputs": [],
   "source": [
    "# app = Application().connect(path=\"explorer\")\n",
    "# taskbar = app.ShellTrayWnd.NotificationAreaToolbar\n",
    "\n",
    "# taskbar.ClickSystemTrayIcon('Yonyou UClient')"
   ]
  },
  {
   "cell_type": "code",
   "execution_count": 21,
   "metadata": {},
   "outputs": [],
   "source": [
    "from pyecharts.faker import Faker\n",
    "from pyecharts import options as opts\n",
    "from pyecharts.charts import Page, Pie\n",
    "\n",
    "data = [[\"不在NC核算\",6],\n",
    "        [\"集团总部\",1],\n",
    "        [\"酒店板块\",1],\n",
    "        [\"平台公司\",55],\n",
    "        [\"商管板块\",2],\n",
    "        [\"投资板块\",2],\n",
    "        [\"已交房\",13],\n",
    "        [\"在建项目\",69]]\n",
    "\n",
    "def pie_base() -> Pie:\n",
    "    c = (\n",
    "        Pie()\n",
    "        .add(\"\", data)\n",
    "        .set_global_opts(title_opts=opts.TitleOpts(title=\"Pie-基本示例\"))\n",
    "        .set_series_opts(label_opts=opts.LabelOpts(formatter=\"{b}: {c}\"))\n",
    "    )\n",
    "    return c"
   ]
  },
  {
   "cell_type": "code",
   "execution_count": 39,
   "metadata": {},
   "outputs": [
    {
     "data": {
      "text/plain": [
       "'D:\\\\Leadingworks\\\\ExportTable\\\\render.html'"
      ]
     },
     "execution_count": 39,
     "metadata": {},
     "output_type": "execute_result"
    }
   ],
   "source": [
    "\n",
    "pie = Pie.add(\"\", data) \\\n",
    "        .set_global_opts(title_opts=opts.TitleOpts(title=\"Pie-基本示例\")) \\\n",
    "        .set_series_opts(label_opts=opts.LabelOpts(formatter=\"{b}: {c}\")) \\\n",
    "        .set_global_opts(\n",
    "            title_opts=opts.TitleOpts(title=\"\"),\n",
    "            legend_opts=opts.LegendOpts(\n",
    "                orient=\"vertical\", pos_top=\"15%\", pos_left=\"8%\"\n",
    "            ))\n",
    "\n",
    "pie.render()"
   ]
  }
 ],
 "metadata": {
  "kernelspec": {
   "display_name": "Python 3",
   "language": "python",
   "name": "python3"
  },
  "language_info": {
   "codemirror_mode": {
    "name": "ipython",
    "version": 3
   },
   "file_extension": ".py",
   "mimetype": "text/x-python",
   "name": "python",
   "nbconvert_exporter": "python",
   "pygments_lexer": "ipython3",
   "version": "3.7.3"
  },
  "toc": {
   "base_numbering": 1,
   "nav_menu": {},
   "number_sections": true,
   "sideBar": true,
   "skip_h1_title": false,
   "title_cell": "Table of Contents",
   "title_sidebar": "Contents",
   "toc_cell": false,
   "toc_position": {},
   "toc_section_display": true,
   "toc_window_display": false
  }
 },
 "nbformat": 4,
 "nbformat_minor": 2
}
