{
 "cells": [
  {
   "cell_type": "markdown",
   "metadata": {},
   "source": [
    "# exampls\n",
    "## res_ols"
   ]
  },
  {
   "cell_type": "code",
   "execution_count": 6,
   "metadata": {},
   "outputs": [
    {
     "name": "stderr",
     "output_type": "stream",
     "text": [
      "F:\\Anaconda3\\lib\\site-packages\\statsmodels\\compat\\pandas.py:56: FutureWarning: The pandas.core.datetools module is deprecated and will be removed in a future version. Please use the pandas.tseries module instead.\n",
      "  from pandas.core import datetools\n"
     ]
    }
   ],
   "source": [
    "import numpy as np\n",
    "import statsmodels.api as sm\n",
    "import statsmodels.formula.api as smf\n",
    "dat = sm.datasets.get_rdataset(\"Guerry\", \"HistData\").data\n",
    "res_ols = smf.ols('Lottery ~ Literacy + np.log(Pop1831)', data=dat).fit()"
   ]
  },
  {
   "cell_type": "code",
   "execution_count": 7,
   "metadata": {},
   "outputs": [
    {
     "name": "stdout",
     "output_type": "stream",
     "text": [
      "<class 'statsmodels.iolib.summary.Summary'>\n",
      "<class 'statsmodels.iolib.summary2.Summary'>\n",
      "                            OLS Regression Results                            \n",
      "==============================================================================\n",
      "Dep. Variable:                Lottery   R-squared:                       0.348\n",
      "Model:                            OLS   Adj. R-squared:                  0.333\n",
      "Method:                 Least Squares   F-statistic:                     22.20\n",
      "Date:                Fri, 06 Jul 2018   Prob (F-statistic):           1.90e-08\n",
      "Time:                        22:56:18   Log-Likelihood:                -379.82\n",
      "No. Observations:                  86   AIC:                             765.6\n",
      "Df Residuals:                      83   BIC:                             773.0\n",
      "Df Model:                           2                                         \n",
      "Covariance Type:            nonrobust                                         \n",
      "===================================================================================\n",
      "                      coef    std err          t      P>|t|      [0.025      0.975]\n",
      "-----------------------------------------------------------------------------------\n",
      "Intercept         246.4341     35.233      6.995      0.000     176.358     316.510\n",
      "Literacy           -0.4889      0.128     -3.832      0.000      -0.743      -0.235\n",
      "np.log(Pop1831)   -31.3114      5.977     -5.239      0.000     -43.199     -19.424\n",
      "==============================================================================\n",
      "Omnibus:                        3.713   Durbin-Watson:                   2.019\n",
      "Prob(Omnibus):                  0.156   Jarque-Bera (JB):                3.394\n",
      "Skew:                          -0.487   Prob(JB):                        0.183\n",
      "Kurtosis:                       3.003   Cond. No.                         702.\n",
      "==============================================================================\n",
      "\n",
      "Warnings:\n",
      "[1] Standard Errors assume that the covariance matrix of the errors is correctly specified.\n"
     ]
    }
   ],
   "source": [
    "print(type(res_ols.summary()))\n",
    "print(type(res_ols.summary2()))\n",
    "print(res_ols.summary())"
   ]
  },
  {
   "cell_type": "markdown",
   "metadata": {},
   "source": [
    "## res_glm"
   ]
  },
  {
   "cell_type": "code",
   "execution_count": null,
   "metadata": {},
   "outputs": [
    {
     "name": "stdout",
     "output_type": "stream",
     "text": [
      "                  Generalized Linear Model Regression Results                   \n",
      "================================================================================\n",
      "Dep. Variable:                      y   No. Observations:                     32\n",
      "Model:                            GLM   Df Residuals:                         24\n",
      "Model Family:                   Gamma   Df Model:                              7\n",
      "Link Function:          inverse_power   Scale:              0.003584283173493356\n",
      "Method:                          IRLS   Log-Likelihood:                  -83.017\n",
      "Date:                Fri, 06 Jul 2018   Deviance:                       0.087389\n",
      "Time:                        22:56:18   Pearson chi2:                     0.0860\n",
      "No. Iterations:                     4                                           \n",
      "==============================================================================\n",
      "                 coef    std err          z      P>|z|      [0.025      0.975]\n",
      "------------------------------------------------------------------------------\n",
      "const         -0.0178      0.011     -1.548      0.122      -0.040       0.005\n",
      "x1          4.962e-05   1.62e-05      3.060      0.002    1.78e-05    8.14e-05\n",
      "x2             0.0020      0.001      3.824      0.000       0.001       0.003\n",
      "x3         -7.181e-05   2.71e-05     -2.648      0.008      -0.000   -1.87e-05\n",
      "x4             0.0001   4.06e-05      2.757      0.006    3.23e-05       0.000\n",
      "x5         -1.468e-07   1.24e-07     -1.187      0.235   -3.89e-07    9.56e-08\n",
      "x6            -0.0005      0.000     -2.159      0.031      -0.001   -4.78e-05\n",
      "x7         -2.427e-06   7.46e-07     -3.253      0.001   -3.89e-06   -9.65e-07\n",
      "==============================================================================\n"
     ]
    },
    {
     "name": "stderr",
     "output_type": "stream",
     "text": [
      "F:\\Anaconda3\\lib\\site-packages\\statsmodels\\genmod\\generalized_linear_model.py:244: DomainWarning: The inverse_power link function does not respect the domain of the Gamma family.\n",
      "  DomainWarning)\n"
     ]
    }
   ],
   "source": [
    "import statsmodels.api as sm\n",
    "data = sm.datasets.scotland.load()\n",
    "data.exog = sm.add_constant(data.exog)\n",
    "gamma_model = sm.GLM(data.endog, data.exog, family=sm.families.Gamma())\n",
    "res_glm = gamma_model.fit()\n",
    "print(res_glm.summary())"
   ]
  },
  {
   "cell_type": "markdown",
   "metadata": {},
   "source": [
    "## res_gee"
   ]
  },
  {
   "cell_type": "code",
   "execution_count": null,
   "metadata": {},
   "outputs": [],
   "source": [
    "import statsmodels.api as sm\n",
    "import statsmodels.formula.api as smf\n",
    "data = sm.datasets.get_rdataset('epil', package='MASS').data\n",
    "fam = sm.families.Poisson()\n",
    "ind = sm.cov_struct.Exchangeable()\n",
    "mod = smf.gee(\"y ~ age + trt + base\", \"subject\", data,\n",
    "              cov_struct=ind, family=fam)\n",
    "\n",
    "res_gee = mod.fit()\n",
    "print(res_gee.summary())"
   ]
  },
  {
   "cell_type": "markdown",
   "metadata": {
    "lang": "en"
   },
   "source": [
    "## res_logit"
   ]
  },
  {
   "cell_type": "code",
   "execution_count": null,
   "metadata": {},
   "outputs": [],
   "source": [
    "spector_data = sm.datasets.spector.load()\n",
    "spector_data.exog = sm.add_constant(spector_data.exog)\n",
    "logit_mod = sm.Logit(spector_data.endog, spector_data.exog)\n",
    "res_logit = logit_mod.fit()\n",
    "print(res_logit.summary2())"
   ]
  },
  {
   "cell_type": "markdown",
   "metadata": {},
   "source": [
    "## res_var"
   ]
  },
  {
   "cell_type": "code",
   "execution_count": null,
   "metadata": {},
   "outputs": [],
   "source": [
    "import numpy as np\n",
    "import pandas\n",
    "import statsmodels.api as sm\n",
    "from statsmodels.tsa.api import VAR, DynamicVAR\n",
    "mdata = sm.datasets.macrodata.load_pandas().data\n",
    "dates = mdata[['year', 'quarter']].astype(int).astype(str)\n",
    "quarterly = dates[\"year\"] + \"Q\" + dates[\"quarter\"]\n",
    "from statsmodels.tsa.base.datetools import dates_from_str\n",
    "quarterly = dates_from_str(quarterly)\n",
    "mdata = mdata[['realgdp','realcons','realinv']]\n",
    "mdata.index = pandas.DatetimeIndex(quarterly)\n",
    "data = np.log(mdata).diff().dropna()\n",
    "model = VAR(data)\n",
    "res_var = model.fit(2)\n",
    "res_var.summary()"
   ]
  },
  {
   "cell_type": "markdown",
   "metadata": {
    "heading_collapsed": true
   },
   "source": [
    "# summary\n",
    "## 函数关系\n",
    "\n",
    "func or methond|return or todo\n",
    ":--:|:---\n",
    "summary_top()| general_table\n",
    "add_table_2cols|self.tables.append()\n",
    "---|---\n",
    "summary_params()|parameter_table\n",
    "add_table_params()|self.tables.append()\n",
    "---|---\n",
    "add_extra_txt(str_list)|self.extra_txt='\\n'.join(etext)\n",
    "---|---\n",
    "summary()|general_table+parameter_table\n",
    "没用上的？|---\n",
    "summary_params_frame()|pd.DataFrame(parameter_table)\n",
    "用于多值模型？多方程模型？多维参数模型？|---\n",
    "summary_params_2d()|SimpleTable\n",
    "summary_params_2dflat()|SimpleTable\n",
    "table_extend()|SimpleTable\n",
    "似乎有错误|---\n",
    "summary_top()的default_items={}|改正：取消注释\n",
    "summary_params()的conf_int\\[i,0\\]|改正：conf_int.iloc\\[i,0\\]"
   ]
  },
  {
   "cell_type": "code",
   "execution_count": null,
   "metadata": {
    "hidden": true
   },
   "outputs": [],
   "source": [
    "from statsmodels.compat.python import range, lrange, lmap, lzip, zip_longest\n",
    "import numpy as np\n",
    "from statsmodels.iolib.table import SimpleTable\n",
    "from statsmodels.iolib.tableformatting import (gen_fmt, fmt_2,\n",
    "                                                fmt_params, fmt_base, fmt_2cols)"
   ]
  },
  {
   "cell_type": "markdown",
   "metadata": {
    "hidden": true
   },
   "source": [
    "## class Summary()"
   ]
  },
  {
   "cell_type": "code",
   "execution_count": null,
   "metadata": {
    "hidden": true
   },
   "outputs": [],
   "source": [
    "class Summary(object):\n",
    "    '''class to hold tables for result summary presentation\n",
    "    Construction does not take any parameters. Tables and text can be added\n",
    "    with the `add_` methods.\n",
    "    '''\n",
    "    def __init__(self):\n",
    "        self.tables = []\n",
    "        self.extra_txt = None\n",
    "\n",
    "    def __str__(self):\n",
    "        return self.as_text()\n",
    "\n",
    "    def __repr__(self):\n",
    "        #return '<' + str(type(self)) + '>\\n\"\"\"\\n' + self.__str__() + '\\n\"\"\"'\n",
    "        return str(type(self)) + '\\n\"\"\"\\n' + self.__str__() + '\\n\"\"\"'\n",
    "\n",
    "    def _repr_html_(self):\n",
    "        '''Display as HTML in IPython notebook.'''\n",
    "        return self.as_html()"
   ]
  },
  {
   "cell_type": "markdown",
   "metadata": {
    "hidden": true
   },
   "source": [
    "### add_table_2cols()\n",
    " '''add a double table, 2 tables with one column merged horizontally'''"
   ]
  },
  {
   "cell_type": "code",
   "execution_count": null,
   "metadata": {
    "hidden": true
   },
   "outputs": [],
   "source": [
    "def add_table_2cols(self, res,  title=None, gleft=None, gright=None,\n",
    "                            yname=None, xname=None):\n",
    "    table = summary_top(res, title=title, gleft=gleft, gright=gright,\n",
    "                            yname=yname, xname=xname)\n",
    "    self.tables.append(table)"
   ]
  },
  {
   "cell_type": "markdown",
   "metadata": {
    "hidden": true
   },
   "source": [
    "### add_table_params()\n",
    " '''create and add a table for the parameter estimates'''"
   ]
  },
  {
   "cell_type": "code",
   "execution_count": null,
   "metadata": {
    "hidden": true
   },
   "outputs": [],
   "source": [
    "def add_table_params(self, res, yname=None, xname=None, alpha=.05,\n",
    "                         use_t=True):\n",
    "    if res.params.ndim == 1:\n",
    "        table = summary_params(res, yname=yname, xname=xname, alpha=alpha,\n",
    "                                   use_t=use_t)\n",
    "    elif res.params.ndim == 2:\n",
    "#        _, table = summary_params_2dflat(res, yname=yname, xname=xname,\n",
    "#                                             alpha=alpha, use_t=use_t)\n",
    "        _, table = summary_params_2dflat(res, endog_names=yname,\n",
    "                                             exog_names=xname,\n",
    "                                             alpha=alpha, use_t=use_t)\n",
    "    else:\n",
    "        raise ValueError('params has to be 1d or 2d')\n",
    "    self.tables.append(table)\n"
   ]
  },
  {
   "cell_type": "markdown",
   "metadata": {
    "hidden": true
   },
   "source": [
    "### add_extra_txt()\n",
    " '''add additional text that will be added at the end in text format'''"
   ]
  },
  {
   "cell_type": "code",
   "execution_count": null,
   "metadata": {
    "hidden": true
   },
   "outputs": [],
   "source": [
    "def add_extra_txt(self, etext):\n",
    "    self.extra_txt = '\\n'.join(etext)"
   ]
  },
  {
   "cell_type": "markdown",
   "metadata": {
    "hidden": true
   },
   "source": [
    "### as_text()\n",
    "'''return tables as string'''"
   ]
  },
  {
   "cell_type": "code",
   "execution_count": null,
   "metadata": {
    "hidden": true
   },
   "outputs": [],
   "source": [
    "def as_text(self):\n",
    "    txt = summary_return(self.tables, return_fmt='text')\n",
    "    if not self.extra_txt is None:\n",
    "        txt = txt + '\\n\\n' + self.extra_txt\n",
    "    return txt"
   ]
  },
  {
   "cell_type": "markdown",
   "metadata": {
    "hidden": true
   },
   "source": [
    "### as_latex()\n",
    "'''return tables as string'''"
   ]
  },
  {
   "cell_type": "code",
   "execution_count": null,
   "metadata": {
    "hidden": true
   },
   "outputs": [],
   "source": [
    "def as_latex(self): \n",
    "    return summary_return(self.tables, return_fmt='latex')"
   ]
  },
  {
   "cell_type": "markdown",
   "metadata": {
    "hidden": true
   },
   "source": [
    "### as_csv()\n",
    "'''return tables as string'''"
   ]
  },
  {
   "cell_type": "code",
   "execution_count": null,
   "metadata": {
    "hidden": true
   },
   "outputs": [],
   "source": [
    "def as_csv(self):\n",
    "    return summary_return(self.tables, return_fmt='csv')"
   ]
  },
  {
   "cell_type": "markdown",
   "metadata": {
    "hidden": true
   },
   "source": [
    "### as_html()\n",
    "'''return tables as string'''"
   ]
  },
  {
   "cell_type": "code",
   "execution_count": null,
   "metadata": {
    "hidden": true
   },
   "outputs": [],
   "source": [
    "def as_html(self):\n",
    "    return summary_return(self.tables, return_fmt='html')"
   ]
  },
  {
   "cell_type": "markdown",
   "metadata": {
    "hidden": true
   },
   "source": [
    "##  _getnames()-实例方法\n",
    "'''extract names from model or construct names'''"
   ]
  },
  {
   "cell_type": "code",
   "execution_count": null,
   "metadata": {
    "hidden": true
   },
   "outputs": [],
   "source": [
    "def _getnames(self, yname=None, xname=None):\n",
    "    if yname is None:\n",
    "        if hasattr(self.model, 'endog_names') and (\n",
    "               not self.model.endog_names is None):\n",
    "            yname = self.model.endog_names\n",
    "        else:\n",
    "            yname = 'y'\n",
    "\n",
    "    if xname is None:\n",
    "        if hasattr(self.model, 'exog_names') and (\n",
    "               not self.model.exog_names is None):\n",
    "            xname = self.model.exog_names\n",
    "        else:\n",
    "            xname = ['var_%d' % i for i in range(len(self.params))]\n",
    "\n",
    "    return yname, xname"
   ]
  },
  {
   "cell_type": "markdown",
   "metadata": {
    "hidden": true
   },
   "source": [
    "## summary()-实例方法\n",
    "'''result.summary()'''"
   ]
  },
  {
   "cell_type": "code",
   "execution_count": null,
   "metadata": {
    "hidden": true
   },
   "outputs": [],
   "source": [
    "def summary(self, yname=None, xname=None, title=0, alpha=.05,\n",
    "            returns='text', model_info=None):\n",
    "    import time as time\n",
    "\n",
    "    #TODO Make sure all self.model.__class__.__name__ are listed\n",
    "    model_types = {'OLS' : 'Ordinary least squares',\n",
    "                   'GLS' : 'Generalized least squares',\n",
    "                   'GLSAR' : 'Generalized least squares with AR(p)',\n",
    "                   'WLS' : 'Weigthed least squares',\n",
    "                   'RLM' : 'Robust linear model',\n",
    "                   'GLM' : 'Generalized linear model'\n",
    "                   }\n",
    "    model_methods = {'OLS' : 'Least Squares',\n",
    "                   'GLS' : 'Least Squares',\n",
    "                   'GLSAR' : 'Least Squares',\n",
    "                   'WLS' : 'Least Squares',\n",
    "                   'RLM' : '?',\n",
    "                   'GLM' : '?'\n",
    "                   }\n",
    "    if title==0:\n",
    "        title = model_types[self.model.__class__.__name__]\n",
    "    if yname is None:\n",
    "        try:\n",
    "            yname = self.model.endog_names\n",
    "        except AttributeError:\n",
    "            yname = 'y'\n",
    "    if xname is None:\n",
    "        try:\n",
    "            xname = self.model.exog_names\n",
    "        except AttributeError:\n",
    "            xname = ['var_%d' % i for i in range(len(self.params))]\n",
    "    time_now = time.localtime()\n",
    "    time_of_day = [time.strftime(\"%H:%M:%S\", time_now)]\n",
    "    date = time.strftime(\"%a, %d %b %Y\", time_now)\n",
    "    modeltype = self.model.__class__.__name__\n",
    "    #dist_family = self.model.family.__class__.__name__\n",
    "    nobs = self.nobs\n",
    "    df_model = self.df_model\n",
    "    df_resid = self.df_resid\n",
    "\n",
    "    #General part of the summary table, Applicable to all? models\n",
    "    #------------------------------------------------------------\n",
    "    #TODO: define this generically, overwrite in model classes\n",
    "    #replace definition of stubs data by single list\n",
    "    #e.g.\n",
    "    gen_left =   [('Model type:', [modeltype]),\n",
    "                  ('Date:', [date]),\n",
    "                  ('Dependent Variable:', yname), #What happens with multiple names?\n",
    "                  ('df model', [df_model])\n",
    "                  ]\n",
    "    gen_stubs_left, gen_data_left = zip_longest(*gen_left) #transpose row col\n",
    "\n",
    "    gen_title = title\n",
    "    gen_header = None\n",
    "##    gen_stubs_left = ('Model type:',\n",
    "##                      'Date:',\n",
    "##                      'Dependent Variable:',\n",
    "##                      'df model'\n",
    "##                  )\n",
    "##    gen_data_left = [[modeltype],\n",
    "##                     [date],\n",
    "##                     yname, #What happens with multiple names?\n",
    "##                     [df_model]\n",
    "##                     ]\n",
    "    gen_table_left = SimpleTable(gen_data_left,\n",
    "                                 gen_header,\n",
    "                                 gen_stubs_left,\n",
    "                                 title = gen_title,\n",
    "                                 txt_fmt = gen_fmt\n",
    "                                 )\n",
    "\n",
    "    gen_stubs_right = ('Method:',\n",
    "                      'Time:',\n",
    "                      'Number of Obs:',\n",
    "                      'df resid'\n",
    "                      )\n",
    "    gen_data_right = ([modeltype], #was dist family need to look at more\n",
    "                      time_of_day,\n",
    "                      [nobs],\n",
    "                      [df_resid]\n",
    "                      )\n",
    "    gen_table_right = SimpleTable(gen_data_right,\n",
    "                                 gen_header,\n",
    "                                 gen_stubs_right,\n",
    "                                 title = gen_title,\n",
    "                                 txt_fmt = gen_fmt\n",
    "                                 )\n",
    "    gen_table_left.extend_right(gen_table_right)\n",
    "    general_table = gen_table_left\n",
    "\n",
    "    #Parameters part of the summary table\n",
    "    #------------------------------------\n",
    "    #Note: this is not necessary since we standardized names, only t versus normal\n",
    "    tstats = {'OLS' : self.t(),\n",
    "            'GLS' : self.t(),\n",
    "            'GLSAR' : self.t(),\n",
    "            'WLS' : self.t(),\n",
    "            'RLM' : self.t(),\n",
    "            'GLM' : self.t()\n",
    "            }\n",
    "    prob_stats = {'OLS' : self.pvalues,\n",
    "                 'GLS' : self.pvalues,\n",
    "                 'GLSAR' : self.pvalues,\n",
    "                 'WLS' : self.pvalues,\n",
    "                 'RLM' : self.pvalues,\n",
    "                 'GLM' : self.pvalues\n",
    "                }\n",
    "    #Dictionary to store the header names for the parameter part of the\n",
    "    #summary table. look up by modeltype\n",
    "    alp = str((1-alpha)*100)+'%'\n",
    "    param_header = {\n",
    "         'OLS'   : ['coef', 'std err', 't', 'P>|t|', alp + ' Conf. Interval'],\n",
    "         'GLS'   : ['coef', 'std err', 't', 'P>|t|', alp + ' Conf. Interval'],\n",
    "         'GLSAR' : ['coef', 'std err', 't', 'P>|t|', alp + ' Conf. Interval'],\n",
    "         'WLS'   : ['coef', 'std err', 't', 'P>|t|', alp + ' Conf. Interval'],\n",
    "         'GLM'   : ['coef', 'std err', 't', 'P>|t|', alp + ' Conf. Interval'], #glm uses t-distribution\n",
    "         'RLM'   : ['coef', 'std err', 'z', 'P>|z|', alp + ' Conf. Interval']  #checke z\n",
    "                   }\n",
    "    params_stubs = xname\n",
    "    params = self.params\n",
    "    conf_int = self.conf_int(alpha)\n",
    "    std_err = self.bse\n",
    "    exog_len = lrange(len(xname))\n",
    "    tstat = tstats[modeltype]\n",
    "    prob_stat = prob_stats[modeltype]\n",
    "\n",
    "    # Simpletable should be able to handle the formating\n",
    "    params_data = lzip([\"%#6.4g\" % (params[i]) for i in exog_len],\n",
    "                       [\"%#6.4f\" % (std_err[i]) for i in exog_len],\n",
    "                       [\"%#6.4f\" % (tstat[i]) for i in exog_len],\n",
    "                       [\"%#6.4f\" % (prob_stat[i]) for i in exog_len],\n",
    "                       [\"(%#5g, %#5g)\" % tuple(conf_int[i]) for i in \\\n",
    "                                                             exog_len]\n",
    "                      )\n",
    "    parameter_table = SimpleTable(params_data,\n",
    "                                  param_header[modeltype],\n",
    "                                  params_stubs,\n",
    "                                  title = None,\n",
    "                                  txt_fmt = fmt_2, #gen_fmt,\n",
    "                                  )"
   ]
  },
  {
   "cell_type": "markdown",
   "metadata": {
    "hidden": true
   },
   "source": [
    "### ols_printer()\n",
    " \"\"\" print summary table for ols models\"\"\""
   ]
  },
  {
   "cell_type": "code",
   "execution_count": null,
   "metadata": {
    "hidden": true
   },
   "outputs": [],
   "source": [
    "def ols_printer():\n",
    "    table = str(general_table)+'\\n'+str(parameter_table)\n",
    "    return table"
   ]
  },
  {
   "cell_type": "markdown",
   "metadata": {
    "hidden": true
   },
   "source": [
    "### ols_to_csv()\n",
    "'''exports ols summary data to csv'''"
   ]
  },
  {
   "cell_type": "code",
   "execution_count": null,
   "metadata": {
    "hidden": true
   },
   "outputs": [],
   "source": [
    "def ols_to_csv():\n",
    "    pass"
   ]
  },
  {
   "cell_type": "markdown",
   "metadata": {
    "hidden": true
   },
   "source": [
    "### glm_printer()"
   ]
  },
  {
   "cell_type": "code",
   "execution_count": null,
   "metadata": {
    "hidden": true
   },
   "outputs": [],
   "source": [
    "def glm_printer():\n",
    "    table = str(general_table)+'\\n'+str(parameter_table)\n",
    "    return table\n",
    "    pass\n",
    "printers  = {'OLS': ols_printer,\n",
    "            'GLM' : glm_printer\n",
    "            }\n",
    "\n",
    "if returns=='print':\n",
    "    try:\n",
    "        return printers[modeltype]()\n",
    "    except KeyError:\n",
    "        return printers['OLS']()"
   ]
  },
  {
   "cell_type": "markdown",
   "metadata": {
    "hidden": true
   },
   "source": [
    "## forg()--函数\n",
    " '''for 3 decimals'''"
   ]
  },
  {
   "cell_type": "code",
   "execution_count": null,
   "metadata": {
    "hidden": true
   },
   "outputs": [],
   "source": [
    "def forg(x, prec=3):\n",
    "    if prec == 3:\n",
    "    #for 3 decimals\n",
    "        if (abs(x) >= 1e4) or (abs(x) < 1e-4):\n",
    "            return '%9.3g' % x\n",
    "        else:\n",
    "            return '%9.3f' % x\n",
    "    elif prec == 4:\n",
    "        if (abs(x) >= 1e4) or (abs(x) < 1e-4):\n",
    "            return '%10.4g' % x\n",
    "        else:\n",
    "            return '%10.4f' % x\n",
    "    else:\n",
    "        raise NotImplementedError\n",
    "forg(34.4344434343)"
   ]
  },
  {
   "cell_type": "markdown",
   "metadata": {
    "hidden": true
   },
   "source": [
    "## summary_top()--函数\n",
    "'''generate top table(s)\n",
    "  TODO: this still uses predefined model_methods? allow gleft, gright to be 1 element tuples instead of filling with None?'''"
   ]
  },
  {
   "cell_type": "code",
   "execution_count": null,
   "metadata": {
    "hidden": true
   },
   "outputs": [],
   "source": [
    "def summary_top(results, title=None, gleft=None, \n",
    "                gright=None, yname=None, xname=None):\n",
    "    #change of names ?\n",
    "    gen_left, gen_right = gleft, gright\n",
    "\n",
    "    #time and names are always included\n",
    "    import time\n",
    "    time_now = time.localtime()\n",
    "    time_of_day = [time.strftime(\"%H:%M:%S\", time_now)]\n",
    "    date = time.strftime(\"%a, %d %b %Y\", time_now)\n",
    "\n",
    "    yname, xname = _getnames(results, yname=yname, xname=xname)\n",
    "\n",
    "    #create dictionary with default\n",
    "    #use lambdas because some values raise exception if they are not available\n",
    "    #alternate spellings are commented out to force unique labels\n",
    "    default_items = dict([\n",
    "          ('Dependent Variable:', lambda: [yname]),\n",
    "          ('Dep. Variable:', lambda: [yname]),\n",
    "          ('Model:', lambda: [results.model.__class__.__name__]),\n",
    "          #('Model type:', lambda: [results.model.__class__.__name__]),\n",
    "          ('Date:', lambda: [date]),\n",
    "          ('Time:', lambda: time_of_day),\n",
    "          ('Number of Obs:', lambda: [results.nobs]),\n",
    "          #('No. of Observations:', lambda: [\"%#6d\" % results.nobs]),\n",
    "          ('No. Observations:', lambda: [\"%#6d\" % results.nobs]),\n",
    "          #('Df model:', lambda: [results.df_model]),\n",
    "          ('Df Model:', lambda: [\"%#6d\" % results.df_model]),\n",
    "          #TODO: check when we have non-integer df\n",
    "          ('Df Residuals:', lambda: [\"%#6d\" % results.df_resid]),\n",
    "          #('Df resid:', lambda: [results.df_resid]),\n",
    "          #('df resid:', lambda: [results.df_resid]), #check capitalization\n",
    "          ('Log-Likelihood:', lambda: [\"%#8.5g\" % results.llf]) #doesn't exist for RLM - exception\n",
    "          #('Method:', lambda: [???]), #no default for this\n",
    "          ])\n",
    "\n",
    "    if title is None:\n",
    "        title = results.model.__class__.__name__ + 'Regression Results'\n",
    "\n",
    "    if gen_left is None:\n",
    "        #default: General part of the summary table, Applicable to all? models\n",
    "        gen_left = [('Dep. Variable:', None),\n",
    "                    ('Model type:', None),\n",
    "                    ('Date:', None),\n",
    "                    ('No. Observations:', None),\n",
    "                    ('Df model:', None),\n",
    "                    ('Df resid:', None)]\n",
    "\n",
    "        try:\n",
    "            llf = results.llf\n",
    "            gen_left.append(('Log-Likelihood', None))\n",
    "        except: #AttributeError, NotImplementedError\n",
    "            pass\n",
    "\n",
    "        gen_right = []\n",
    "\n",
    "\n",
    "    gen_title = title\n",
    "    gen_header = None\n",
    "\n",
    "    #needed_values = [k for k,v in gleft + gright if v is None] #not used anymore\n",
    "    #replace missing (None) values with default values\n",
    "    gen_left_ = []\n",
    "    for item, value in gen_left:\n",
    "        if value is None:\n",
    "            value = default_items[item]()  #let KeyErrors raise exception\n",
    "        gen_left_.append((item, value))\n",
    "    gen_left = gen_left_\n",
    "\n",
    "    if gen_right:\n",
    "        gen_right_ = []\n",
    "        for item, value in gen_right:\n",
    "            if value is None:\n",
    "                value = default_items[item]()  #let KeyErrors raise exception\n",
    "            gen_right_.append((item, value))\n",
    "        gen_right = gen_right_\n",
    "\n",
    "    #check\n",
    "    missing_values = [k for k,v in gen_left + gen_right if v is None]\n",
    "    assert missing_values == [], missing_values\n",
    "\n",
    "    #pad both tables to equal number of rows\n",
    "    if gen_right:\n",
    "        if len(gen_right) < len(gen_left):\n",
    "            #fill up with blank lines to same length\n",
    "            gen_right += [(' ', ' ')] * (len(gen_left) - len(gen_right))\n",
    "        elif len(gen_right) > len(gen_left):\n",
    "            #fill up with blank lines to same length, just to keep it symmetric\n",
    "            gen_left += [(' ', ' ')] * (len(gen_right) - len(gen_left))\n",
    "\n",
    "        #padding in SimpleTable doesn't work like I want\n",
    "        #force extra spacing and exact string length in right table\n",
    "        gen_right = [('%-21s' % ('  '+k), v) for k,v in gen_right]\n",
    "        gen_stubs_right, gen_data_right = zip_longest(*gen_right) #transpose row col\n",
    "        gen_table_right = SimpleTable(gen_data_right,\n",
    "                                      gen_header,\n",
    "                                      gen_stubs_right,\n",
    "                                      title = gen_title,\n",
    "                                      txt_fmt = fmt_2cols #gen_fmt\n",
    "                                      )\n",
    "    else:\n",
    "        gen_table_right = []  #because .extend_right seems works with []\n",
    "\n",
    "\n",
    "    #moved below so that we can pad if needed to match length of gen_right\n",
    "    #transpose rows and columns, `unzip`\n",
    "    gen_stubs_left, gen_data_left = zip_longest(*gen_left) #transpose row col\n",
    "\n",
    "    gen_table_left = SimpleTable(gen_data_left,\n",
    "                                 gen_header,\n",
    "                                 gen_stubs_left,\n",
    "                                 title = gen_title,\n",
    "                                 txt_fmt = fmt_2cols\n",
    "                                 )\n",
    "\n",
    "    gen_table_left.extend_right(gen_table_right)\n",
    "    general_table = gen_table_left\n",
    "\n",
    "    return general_table #, gen_table_left, gen_table_right"
   ]
  },
  {
   "cell_type": "markdown",
   "metadata": {
    "hidden": true
   },
   "source": [
    "## summary_params() --函数\n",
    "  '''create a summary table for the parameters'''"
   ]
  },
  {
   "cell_type": "code",
   "execution_count": null,
   "metadata": {
    "hidden": true
   },
   "outputs": [],
   "source": [
    "def summary_params(results, yname=None, xname=None, alpha=.05, use_t=True,\n",
    "                   skip_header=False, title=None):\n",
    "\n",
    "    #Parameters part of the summary table\n",
    "    #------------------------------------\n",
    "    #Note: this is not necessary since we standardized names, only t versus normal\n",
    "\n",
    "    if isinstance(results, tuple):\n",
    "        #for multivariate endog\n",
    "        #TODO: check whether I don't want to refactor this\n",
    "        #we need to give parameter alpha to conf_int\n",
    "        results, params, std_err, tvalues, pvalues, conf_int = results\n",
    "    else:\n",
    "        params = results.params\n",
    "        std_err = results.bse\n",
    "        tvalues = results.tvalues  #is this sometimes called zvalues\n",
    "        pvalues = results.pvalues\n",
    "        conf_int = results.conf_int(alpha)\n",
    "\n",
    "\n",
    "    #Dictionary to store the header names for the parameter part of the\n",
    "    #summary table. look up by modeltype\n",
    "    if use_t:\n",
    "        param_header = ['coef', 'std err', 't', 'P>|t|',\n",
    "                        '[' + str(alpha/2), str(1-alpha/2) + ']']\n",
    "    else:\n",
    "        param_header = ['coef', 'std err', 'z', 'P>|z|',\n",
    "                        '[' + str(alpha/2), str(1-alpha/2) + ']']\n",
    "\n",
    "    if skip_header:\n",
    "        param_header = None\n",
    "        \n",
    "\n",
    "    _, xname = _getnames(results, yname=yname, xname=xname)\n",
    "\n",
    "    params_stubs = xname\n",
    "\n",
    "    exog_idx = lrange(len(xname))\n",
    "\n",
    "    params_data = lzip([forg(params[i], prec=4) for i in exog_idx],\n",
    "                       [forg(std_err[i]) for i in exog_idx],\n",
    "                       [forg(tvalues[i]) for i in exog_idx],\n",
    "                       [\"%#6.3f\" % (pvalues[i]) for i in exog_idx],\n",
    "                       [forg(conf_int[i,0]) for i in exog_idx],\n",
    "                       [forg(conf_int[i,1]) for i in exog_idx]\n",
    "                      )\n",
    "    parameter_table = SimpleTable(params_data,\n",
    "                                  param_header,\n",
    "                                  params_stubs,\n",
    "                                  title = title,\n",
    "                                  txt_fmt = fmt_params #gen_fmt #fmt_2, #gen_fmt,\n",
    "                                  )\n",
    "\n",
    "    return parameter_table"
   ]
  },
  {
   "cell_type": "markdown",
   "metadata": {
    "hidden": true
   },
   "source": [
    "## summary_params_frame()--函数\n",
    " '''create a summary table for the parameters'''"
   ]
  },
  {
   "cell_type": "code",
   "execution_count": null,
   "metadata": {
    "hidden": true
   },
   "outputs": [],
   "source": [
    "def summary_params_frame(results, yname=None, xname=None, alpha=.05,\n",
    "                         use_t=True):\n",
    "    #Parameters part of the summary table\n",
    "    #------------------------------------\n",
    "    #Note: this is not necessary since we standardized names, only t versus normal\n",
    "\n",
    "    if isinstance(results, tuple):\n",
    "        #for multivariate endog\n",
    "        #TODO: check whether I don't want to refactor this\n",
    "        #we need to give parameter alpha to conf_int\n",
    "        results, params, std_err, tvalues, pvalues, conf_int = results\n",
    "    else:\n",
    "        params = results.params\n",
    "        std_err = results.bse\n",
    "        tvalues = results.tvalues  #is this sometimes called zvalues\n",
    "        pvalues = results.pvalues\n",
    "        conf_int = results.conf_int(alpha)\n",
    "\n",
    "\n",
    "    #Dictionary to store the header names for the parameter part of the\n",
    "    #summary table. look up by modeltype\n",
    "    alp = str((1-alpha)*100)+'%'\n",
    "    if use_t:\n",
    "        param_header = ['coef', 'std err', 't', 'P>|t|',\n",
    "                        'Conf. Int. Low', 'Conf. Int. Upp.']\n",
    "    else:\n",
    "        param_header = ['coef', 'std err', 'z', 'P>|z|',\n",
    "                        'Conf. Int. Low', 'Conf. Int. Upp.']\n",
    "\n",
    "    _, xname = _getnames(results, yname=yname, xname=xname)\n",
    "\n",
    "\n",
    "    #------------------\n",
    "\n",
    "    from pandas import DataFrame\n",
    "    table = np.column_stack((params, std_err, tvalues, pvalues, conf_int))\n",
    "    return DataFrame(table, columns=param_header, index=xname)"
   ]
  },
  {
   "cell_type": "markdown",
   "metadata": {
    "hidden": true
   },
   "source": [
    "## summary_params_2d()--函数\n",
    " '''create summary table of regression parameters with several equations This allows interleaving of parameters with bse and/or tvalues'''"
   ]
  },
  {
   "cell_type": "code",
   "execution_count": null,
   "metadata": {
    "hidden": true
   },
   "outputs": [],
   "source": [
    "def summary_params_2d(result, extras=None, endog_names=None, exog_names=None,\n",
    "                      title=None):\n",
    "    if endog_names is None:\n",
    "        #TODO: note the [1:] is specific to current MNLogit\n",
    "        endog_names = ['endog_%d' % i for i in\n",
    "                            np.unique(result.model.endog)[1:]]\n",
    "    if exog_names is None:\n",
    "        exog_names = ['var%d' %i for i in range(len(result.params))]\n",
    "\n",
    "    #TODO: check formatting options with different values\n",
    "    #res_params = [['%10.4f'%item for item in row] for row in result.params]\n",
    "    res_params = [[forg(item, prec=4) for item in row] for row in result.params]\n",
    "    if extras: #not None or non-empty\n",
    "        #maybe this should be a simple triple loop instead of list comprehension?\n",
    "        #below_list = [[['%10s' % ('('+('%10.3f'%v).strip()+')')\n",
    "        extras_list = [[['%10s' % ('(' + forg(v, prec=3).strip() + ')')\n",
    "                                for v in col]\n",
    "                                for col in getattr(result, what)]\n",
    "                                for what in extras\n",
    "                                ]\n",
    "        data = lzip(res_params, *extras_list)\n",
    "        data = [i for j in data for i in j]  #flatten\n",
    "        stubs = lzip(endog_names, *[['']*len(endog_names)]*len(extras))\n",
    "        stubs = [i for j in stubs for i in j] #flatten\n",
    "        #return SimpleTable(data, headers=exog_names, stubs=stubs)\n",
    "    else:\n",
    "        data = res_params\n",
    "        stubs = endog_names\n",
    "#        return SimpleTable(data, headers=exog_names, stubs=stubs,\n",
    "#                       data_fmts=['%10.4f'])\n",
    "\n",
    "    import copy\n",
    "    txt_fmt = copy.deepcopy(fmt_params)\n",
    "    txt_fmt.update(dict(data_fmts = [\"%s\"]*result.params.shape[1]))\n",
    "    return SimpleTable(data, headers=exog_names,\n",
    "                             stubs=stubs,\n",
    "                             title=title,\n",
    "#                             data_fmts = [\"%s\"]),\n",
    "                             txt_fmt = txt_fmt)"
   ]
  },
  {
   "cell_type": "markdown",
   "metadata": {
    "hidden": true
   },
   "source": [
    "## summary_params_2dflat()--函数\n",
    "'''summary table for parameters that are 2d, e.g. multi-equation models'''"
   ]
  },
  {
   "cell_type": "code",
   "execution_count": null,
   "metadata": {
    "hidden": true
   },
   "outputs": [],
   "source": [
    "def summary_params_2dflat(result, endog_names=None, exog_names=None, alpha=0.05,\n",
    "                          use_t=True, keep_headers=True, endog_cols=False):\n",
    "                          #skip_headers2=True):\n",
    "    res = result\n",
    "    params = res.params\n",
    "    if params.ndim == 2: # we've got multiple equations\n",
    "        n_equ = params.shape[1]\n",
    "        if not len(endog_names) == params.shape[1]:\n",
    "            raise ValueError('endog_names has wrong length')\n",
    "    else:\n",
    "        if not len(endog_names) == len(params):\n",
    "            raise ValueError('endog_names has wrong length')\n",
    "        n_equ = 1\n",
    "\n",
    "    #VAR doesn't have conf_int\n",
    "    #params = res.params.T # this is a convention for multi-eq models\n",
    "\n",
    "    if not isinstance(endog_names, list):\n",
    "        #this might be specific to multinomial logit type, move?\n",
    "        if endog_names is None:\n",
    "            endog_basename = 'endog'\n",
    "        else:\n",
    "            endog_basename = endog_names\n",
    "        #TODO: note, the [1:] is specific to current MNLogit\n",
    "        endog_names = res.model.endog_names[1:]\n",
    "\n",
    "    #check if we have the right length of names\n",
    "\n",
    "    tables = []\n",
    "    for eq in range(n_equ):\n",
    "        restup = (res, res.params[:,eq], res.bse[:,eq], res.tvalues[:,eq],\n",
    "                  res.pvalues[:,eq], res.conf_int(alpha)[eq])\n",
    "\n",
    "        #not used anymore in current version\n",
    "#        if skip_headers2:\n",
    "#            skiph = (row != 0)\n",
    "#        else:\n",
    "#            skiph = False\n",
    "        skiph = False\n",
    "        tble = summary_params(restup, yname=endog_names[eq],\n",
    "                              xname=exog_names, alpha=alpha, use_t=use_t,\n",
    "                              skip_header=skiph)\n",
    "\n",
    "        tables.append(tble)\n",
    "\n",
    "    #add titles, they will be moved to header lines in table_extend\n",
    "    for i in range(len(endog_names)):\n",
    "        tables[i].title = endog_names[i]\n",
    "\n",
    "    table_all = table_extend(tables, keep_headers=keep_headers)\n",
    "\n",
    "    return tables, table_all"
   ]
  },
  {
   "cell_type": "markdown",
   "metadata": {
    "hidden": true
   },
   "source": [
    "## table_extend()--函数\n",
    " '''extend a list of SimpleTables, adding titles to header of subtables\n",
    "    This function returns the merged table as a deepcopy, in contrast to     the SimpleTable extend method.\n",
    " '''"
   ]
  },
  {
   "cell_type": "code",
   "execution_count": null,
   "metadata": {
    "hidden": true
   },
   "outputs": [],
   "source": [
    "def table_extend(tables, keep_headers=True):\n",
    "    from copy import deepcopy\n",
    "    for ii, t in enumerate(tables[:]): #[1:]:\n",
    "        t = deepcopy(t)\n",
    "\n",
    "        #move title to first cell of header\n",
    "        #TODO: check if we have multiline headers\n",
    "        if t[0].datatype == 'header':\n",
    "            t[0][0].data = t.title\n",
    "            t[0][0]._datatype = None\n",
    "            t[0][0].row = t[0][1].row\n",
    "            if not keep_headers and (ii > 0):\n",
    "                for c in t[0][1:]:\n",
    "                    c.data = ''\n",
    "\n",
    "        #add separating line and extend tables\n",
    "        if ii == 0:\n",
    "            table_all = t\n",
    "        else:\n",
    "            r1 = table_all[-1]\n",
    "            r1.add_format('txt', row_dec_below='-')\n",
    "            table_all.extend(t)\n",
    "\n",
    "    table_all.title = None\n",
    "    return table_all"
   ]
  },
  {
   "cell_type": "markdown",
   "metadata": {
    "hidden": true
   },
   "source": [
    "## summary_return()--函数\n",
    " ########  Return Summary Tables ########"
   ]
  },
  {
   "cell_type": "code",
   "execution_count": null,
   "metadata": {
    "hidden": true
   },
   "outputs": [],
   "source": [
    "def summary_return(tables, return_fmt='text'):\n",
    "        # join table parts then print\n",
    "    if return_fmt == 'text':\n",
    "        strdrop = lambda x: str(x).rsplit('\\n',1)[0]\n",
    "        #convert to string drop last line\n",
    "        return '\\n'.join(lmap(strdrop, tables[:-1]) + [str(tables[-1])])\n",
    "    elif return_fmt == 'tables':\n",
    "        return tables\n",
    "    elif return_fmt == 'csv':\n",
    "        return '\\n'.join(map(lambda x: x.as_csv(), tables))\n",
    "    elif return_fmt == 'latex':\n",
    "        #TODO: insert \\hline after updating SimpleTable\n",
    "        import copy\n",
    "        table = copy.deepcopy(tables[0])\n",
    "        del table[-1]\n",
    "        for part in tables[1:]:\n",
    "            table.extend(part)\n",
    "        return table.as_latex_tabular()\n",
    "    elif return_fmt == 'html':\n",
    "        return \"\\n\".join(table.as_html() for table in tables)\n",
    "    else:\n",
    "        raise ValueError('available output formats are text, csv, latex, html')"
   ]
  },
  {
   "cell_type": "markdown",
   "metadata": {},
   "source": [
    "# summary2\n",
    "## 函数关系\n",
    "func or method|return or todo\n",
    "---|---\n",
    "as_text()|---\n",
    "L_measure_tables()|return pad_sep,pad_index,max(length)\n",
    "LL_simple_table()| return simpletables\n",
    "LLL_df_to_simpletable()|return simpletable\n",
    " | \n",
    "add_dict()|---\n",
    "L add_array()| \n",
    "LL add_df()|self.tables.append(df);self.settings.append(settings)\n",
    " | \n",
    "add_base()|self.add_dict();self.add_df();self.add(title)\n",
    "L summary_params()|return parameter DF\n",
    "L summary_model()|return OderedDict\n",
    " | \n",
    "_col_params()|return star table\n",
    "summary_col()|---\n",
    "L_col_params()|return star table\n",
    "LL summary_params()|return params DF\n",
    "L_make_unique()|return list_of_name\n",
    "L_col_info()|return model_info DF\n",
    "\n"
   ]
  },
  {
   "cell_type": "code",
   "execution_count": 19,
   "metadata": {},
   "outputs": [],
   "source": [
    "from statsmodels.compat.python import (lrange, iterkeys, iteritems, lzip,\n",
    "                                       reduce, itervalues, zip, string_types,\n",
    "                                       range)\n",
    "from statsmodels.compat.collections import OrderedDict\n",
    "import numpy as np\n",
    "import pandas as pd\n",
    "import datetime\n",
    "import textwrap\n",
    "from statsmodels.iolib.table import SimpleTable\n",
    "from statsmodels.iolib.tableformatting import fmt_latex, fmt_txt"
   ]
  },
  {
   "cell_type": "markdown",
   "metadata": {},
   "source": [
    "## classs Summary()"
   ]
  },
  {
   "cell_type": "code",
   "execution_count": null,
   "metadata": {},
   "outputs": [],
   "source": [
    "class Summary(object):\n",
    "    def __init__(self):\n",
    "        self.tables = []\n",
    "        self.settings = []\n",
    "        self.extra_txt = []\n",
    "        self.title = None\n",
    "\n",
    "    def __str__(self):\n",
    "        return self.as_text()\n",
    "\n",
    "    def __repr__(self):\n",
    "        return str(type(self)) + '\\n\"\"\"\\n' + self.__str__() + '\\n\"\"\"'\n",
    "\n",
    "    def _repr_html_(self):\n",
    "        '''Display as HTML in IPython notebook.'''\n",
    "        return self.as_html()"
   ]
  },
  {
   "cell_type": "markdown",
   "metadata": {},
   "source": [
    "### add_df()\n",
    "'''Add the contents of a DataFrame to summary table'''"
   ]
  },
  {
   "cell_type": "code",
   "execution_count": null,
   "metadata": {},
   "outputs": [],
   "source": [
    "def add_df(self, df, index=True, header=True, float_format='%.4f',align='r'):\n",
    "    settings = {'index': index, 'header': header,\n",
    "                    'float_format': float_format, 'align': align}\n",
    "    self.tables.append(df)\n",
    "    self.settings.append(settings)"
   ]
  },
  {
   "cell_type": "markdown",
   "metadata": {},
   "source": [
    "### add_array()\n",
    "'''Add the contents of a Numpy array to summary table'''"
   ]
  },
  {
   "cell_type": "code",
   "execution_count": null,
   "metadata": {},
   "outputs": [],
   "source": [
    "def add_array(self, array, align='r', float_format=\"%.4f\"):\n",
    "    table = pd.DataFrame(array)\n",
    "    self.add_df(table, index=False, header=False,\n",
    "                    float_format=float_format, align=align)"
   ]
  },
  {
   "cell_type": "markdown",
   "metadata": {},
   "source": [
    "### add_dict()\n",
    "'''Add the contents of a Dict to summary table'''"
   ]
  },
  {
   "cell_type": "code",
   "execution_count": null,
   "metadata": {},
   "outputs": [],
   "source": [
    "def add_dict(self, d, ncols=2, align='l', float_format=\"%.4f\"):\n",
    "    keys = [_formatter(x, float_format) for x in iterkeys(d)]\n",
    "    vals = [_formatter(x, float_format) for x in itervalues(d)]\n",
    "    data = np.array(lzip(keys, vals))\n",
    "\n",
    "    if data.shape[0] % ncols != 0:\n",
    "        pad = ncols - (data.shape[0] % ncols)\n",
    "        data = np.vstack([data, np.array(pad * [['', '']])])\n",
    "\n",
    "    data = np.split(data, ncols)\n",
    "    data = reduce(lambda x, y: np.hstack([x, y]), data)\n",
    "    self.add_array(data, align=align)"
   ]
  },
  {
   "cell_type": "markdown",
   "metadata": {},
   "source": [
    "### add_text()\n",
    "'''Append a note to the bottom of the summary table. In ASCII tables,\n",
    "   the note will be wrapped to table width. Notes are not indendented.\n",
    "'''"
   ]
  },
  {
   "cell_type": "code",
   "execution_count": null,
   "metadata": {},
   "outputs": [],
   "source": [
    "def add_text(self, string):\n",
    "    self.extra_txt.append(string)"
   ]
  },
  {
   "cell_type": "markdown",
   "metadata": {},
   "source": [
    "### add_title()\n",
    " '''Insert a title on top of the summary table. If a string is provided\n",
    "    in the title argument, that string is printed. If no title string is\n",
    "    provided but a results instance is provided, statsmodels attempts\n",
    "    to construct a useful title automatically.\n",
    " '''"
   ]
  },
  {
   "cell_type": "code",
   "execution_count": null,
   "metadata": {},
   "outputs": [],
   "source": [
    "def add_title(self, title=None, results=None):\n",
    "    if isinstance(title, string_types):\n",
    "        self.title = title\n",
    "    else:\n",
    "        try:\n",
    "            model = results.model.__class__.__name__\n",
    "            if model in _model_types:\n",
    "                model = _model_types[model]\n",
    "            self.title = 'Results: ' + model\n",
    "        except:\n",
    "            self.title = '' \n",
    "_model_types = {'OLS' : 'Ordinary least squares',\n",
    "                'GLS' : 'Generalized least squares',\n",
    "                'GLSAR' : 'Generalized least squares with AR(p)',\n",
    "                'WLS' : 'Weigthed least squares',\n",
    "                'RLM' : 'Robust linear model',\n",
    "                'NBin': 'Negative binomial model',\n",
    "                'GLM' : 'Generalized linear model'\n",
    "                }        "
   ]
  },
  {
   "cell_type": "markdown",
   "metadata": {},
   "source": [
    "### add_base()\n",
    "'''Try to construct a basic summary instance.'''"
   ]
  },
  {
   "cell_type": "code",
   "execution_count": null,
   "metadata": {},
   "outputs": [],
   "source": [
    "def add_base(self, results, alpha=0.05, float_format=\"%.4f\", title=None,\n",
    "                 xname=None, yname=None):\n",
    "    param = summary_params(results, alpha=alpha, use_t=results.use_t)\n",
    "    info = summary_model(results)\n",
    "    if xname is not None:\n",
    "        param.index = xname\n",
    "    if yname is not None:\n",
    "        info['Dependent Variable:'] = yname\n",
    "    self.add_dict(info, align='l')\n",
    "    self.add_df(param, float_format=float_format)\n",
    "    self.add_title(title=title, results=results)"
   ]
  },
  {
   "cell_type": "markdown",
   "metadata": {},
   "source": [
    "### as_text()\n",
    "'''Generate ASCII Summary Table'''"
   ]
  },
  {
   "cell_type": "code",
   "execution_count": null,
   "metadata": {},
   "outputs": [],
   "source": [
    "def as_text(self):\n",
    "    tables = self.tables\n",
    "    settings = self.settings\n",
    "    title = self.title\n",
    "    extra_txt = self.extra_txt\n",
    "\n",
    "    pad_col, pad_index, widest = _measure_tables(tables, settings)\n",
    "\n",
    "    rule_equal = widest * '='\n",
    "    #TODO: this isn't used anywhere?\n",
    "    rule_dash = widest * '-'\n",
    "\n",
    "    simple_tables = _simple_tables(tables, settings, pad_col, pad_index)\n",
    "    tab = [x.as_text() for x in simple_tables]\n",
    "\n",
    "    tab = '\\n'.join(tab) #str\n",
    "    tab = tab.split('\\n') # list\n",
    "    tab[0] = rule_equal\n",
    "    tab.append(rule_equal)\n",
    "    tab = '\\n'.join(tab)\n",
    "\n",
    "    if title is not None:\n",
    "        title = title\n",
    "        if len(title) < widest:\n",
    "            title = ' ' * int(widest/2 - len(title)/2) + title\n",
    "    else:\n",
    "        title = ''\n",
    "\n",
    "    txt = [textwrap.wrap(x, widest) for x in extra_txt]\n",
    "    txt = ['\\n'.join(x) for x in txt]\n",
    "    txt = '\\n'.join(txt)\n",
    "\n",
    "    out = '\\n'.join([title, tab, txt])\n",
    "\n",
    "    return out"
   ]
  },
  {
   "cell_type": "markdown",
   "metadata": {},
   "source": [
    "###  as_html()\n",
    "'''Generate HTML Summary Table'''"
   ]
  },
  {
   "cell_type": "code",
   "execution_count": null,
   "metadata": {},
   "outputs": [],
   "source": [
    "def as_html(self):\n",
    "    tables = self.tables\n",
    "    settings = self.settings\n",
    "    #TODO: this isn't used anywhere\n",
    "    title = self.title\n",
    "\n",
    "    simple_tables = _simple_tables(tables, settings)\n",
    "    tab = [x.as_html() for x in simple_tables]\n",
    "    tab = '\\n'.join(tab)\n",
    "\n",
    "    return tab"
   ]
  },
  {
   "cell_type": "markdown",
   "metadata": {},
   "source": [
    "### as_latex()\n",
    "'''Generate LaTeX Summary Table'''"
   ]
  },
  {
   "cell_type": "code",
   "execution_count": null,
   "metadata": {},
   "outputs": [],
   "source": [
    "def as_latex(self):\n",
    "        \n",
    "    tables = self.tables\n",
    "    settings = self.settings\n",
    "    title = self.title\n",
    "    if title is not None:\n",
    "        title = '\\\\caption{' + title + '} \\\\\\\\'\n",
    "    else:\n",
    "        title = '\\\\caption{}'\n",
    "\n",
    "    simple_tables = _simple_tables(tables, settings)\n",
    "    tab = [x.as_latex_tabular() for x in simple_tables]\n",
    "    tab = '\\n\\\\hline\\n'.join(tab)\n",
    "\n",
    "    out = '\\\\begin{table}', title, tab, '\\\\end{table}'\n",
    "    out = '\\n'.join(out)\n",
    "    return out"
   ]
  },
  {
   "cell_type": "markdown",
   "metadata": {},
   "source": [
    "## summary_model()-函数\n",
    "'''Create a dict with information about the model'''"
   ]
  },
  {
   "cell_type": "code",
   "execution_count": null,
   "metadata": {},
   "outputs": [],
   "source": [
    "def summary_model(results):\n",
    "    def time_now(*args, **kwds):\n",
    "        now = datetime.datetime.now()\n",
    "        return now.strftime('%Y-%m-%d %H:%M')\n",
    "    info = OrderedDict()\n",
    "    info['Model:'] = lambda x: x.model.__class__.__name__\n",
    "    info['Model Family:'] = lambda x: x.family.__class.__name__\n",
    "    info['Link Function:'] = lambda x: x.family.link.__class__.__name__\n",
    "    info['Dependent Variable:'] = lambda x: x.model.endog_names\n",
    "    info['Date:'] = time_now\n",
    "    info['No. Observations:'] = lambda x: \"%#6d\" % x.nobs\n",
    "    info['Df Model:'] = lambda x: \"%#6d\" % x.df_model\n",
    "    info['Df Residuals:'] = lambda x: \"%#6d\" % x.df_resid\n",
    "    info['Converged:'] = lambda x: x.mle_retvals['converged']\n",
    "    info['No. Iterations:'] = lambda x: x.mle_retvals['iterations']\n",
    "    info['Method:'] = lambda x: x.method\n",
    "    info['Norm:'] = lambda x: x.fit_options['norm']\n",
    "    info['Scale Est.:'] = lambda x: x.fit_options['scale_est']\n",
    "    info['Cov. Type:'] = lambda x: x.fit_options['cov']\n",
    "    info['Covariance Type:'] = lambda x: x.cov_type # I added the cov type.\n",
    "    info['R-squared:'] = lambda x: \"%#8.3f\" % x.rsquared\n",
    "    info['Adj. R-squared:'] = lambda x: \"%#8.3f\" % x.rsquared_adj\n",
    "    info['Pseudo R-squared:'] = lambda x: \"%#8.3f\" % x.prsquared\n",
    "    info['AIC:'] = lambda x: \"%8.4f\" % x.aic\n",
    "    info['BIC:'] = lambda x: \"%8.4f\" % x.bic\n",
    "    info['Log-Likelihood:'] = lambda x: \"%#8.5g\" % x.llf\n",
    "    info['LL-Null:'] = lambda x: \"%#8.5g\" % x.llnull\n",
    "    info['LLR p-value:'] = lambda x: \"%#8.5g\" % x.llr_pvalue\n",
    "    info['Deviance:'] = lambda x: \"%#8.5g\" % x.deviance\n",
    "    info['Pearson chi2:'] = lambda x: \"%#6.3g\" % x.pearson_chi2\n",
    "    info['F-statistic:'] = lambda x: \"%#8.4g\" % x.fvalue\n",
    "    info['Prob (F-statistic):'] = lambda x: \"%#6.3g\" % x.f_pvalue\n",
    "    info['Scale:'] = lambda x: \"%#8.5g\" % x.scale\n",
    "    out = OrderedDict()\n",
    "    for key, func in iteritems(info):\n",
    "        try:\n",
    "            out[key] = func(results)\n",
    "        # NOTE: some models don't have loglike defined (RLM), so that's NIE\n",
    "        except (AttributeError, KeyError, NotImplementedError):\n",
    "            pass\n",
    "    return out"
   ]
  },
  {
   "cell_type": "markdown",
   "metadata": {},
   "source": [
    "## summary_params()-函数\n",
    " '''create a summary table of parameters from results instance'''"
   ]
  },
  {
   "cell_type": "code",
   "execution_count": null,
   "metadata": {},
   "outputs": [],
   "source": [
    "def summary_params(results, yname=None, xname=None, alpha=.05, use_t=True,\n",
    "                   skip_header=False, float_format=\"%.4f\"):\n",
    "    if isinstance(results, tuple):\n",
    "        results, params, std_err, tvalues, pvalues, conf_int = results\n",
    "    else:\n",
    "        params = results.params\n",
    "        bse = results.bse\n",
    "        tvalues = results.tvalues\n",
    "        pvalues = results.pvalues\n",
    "        conf_int = results.conf_int(alpha)\n",
    "\n",
    "    data = np.array([params, bse, tvalues, pvalues]).T\n",
    "    data = np.hstack([data, conf_int])\n",
    "    data = pd.DataFrame(data)\n",
    "\n",
    "    if use_t:\n",
    "        data.columns = ['Coef.', 'Std.Err.', 't', 'P>|t|',\n",
    "                        '[' + str(alpha/2), str(1-alpha/2) + ']']\n",
    "    else:\n",
    "        data.columns = ['Coef.', 'Std.Err.', 'z', 'P>|z|',\n",
    "                        '[' + str(alpha/2), str(1-alpha/2) + ']']\n",
    "\n",
    "    if not xname:\n",
    "        data.index = results.model.exog_names\n",
    "    else:\n",
    "        data.index = xname\n",
    "\n",
    "    return data"
   ]
  },
  {
   "cell_type": "markdown",
   "metadata": {},
   "source": [
    "## _measure_tables()-函数\n",
    "   '''Compare width of ascii tables in a list and calculate padding values.\n",
    "   We add space to each col_sep to get us as close as possible to the\n",
    "   width of the largest table. Then, we add a few spaces to the first\n",
    "   column to pad the rest.\n",
    "   '''"
   ]
  },
  {
   "cell_type": "code",
   "execution_count": null,
   "metadata": {},
   "outputs": [],
   "source": [
    "def _measure_tables(tables, settings):\n",
    "    simple_tables = _simple_tables(tables, settings)\n",
    "    tab = [x.as_text() for x in simple_tables]\n",
    "\n",
    "    length = [len(x.splitlines()[0]) for x in tab]\n",
    "    len_max = max(length)\n",
    "    pad_sep = []\n",
    "    pad_index = []\n",
    "\n",
    "    for i in range(len(tab)):\n",
    "        nsep = tables[i].shape[1] - 1\n",
    "        pad = int((len_max - length[i]) / nsep)\n",
    "        pad_sep.append(pad)\n",
    "        len_new = length[i] + nsep * pad\n",
    "        pad_index.append(len_max - len_new)\n",
    "\n",
    "    return pad_sep, pad_index, max(length)"
   ]
  },
  {
   "cell_type": "markdown",
   "metadata": {},
   "source": [
    "## _simple_tables()-函数"
   ]
  },
  {
   "cell_type": "code",
   "execution_count": null,
   "metadata": {},
   "outputs": [],
   "source": [
    "def _simple_tables(tables, settings, pad_col=None, pad_index=None):\n",
    "    simple_tables = []\n",
    "    float_format = '%.4f'\n",
    "    if pad_col is None:\n",
    "        pad_col = [0] * len(tables)\n",
    "    if pad_index is None:\n",
    "        pad_index = [0] * len(tables)\n",
    "    for i, v in enumerate(tables):\n",
    "        index = settings[i]['index']\n",
    "        header = settings[i]['header']\n",
    "        align = settings[i]['align']\n",
    "        simple_tables.append(_df_to_simpletable(v, align=align,\n",
    "                                                float_format=float_format,\n",
    "                                                header=header, index=index,\n",
    "                                                pad_col=pad_col[i],\n",
    "                                                pad_index=pad_index[i]))\n",
    "    return simple_tables"
   ]
  },
  {
   "cell_type": "markdown",
   "metadata": {},
   "source": [
    "## _df_to_simpletable()-函数"
   ]
  },
  {
   "cell_type": "code",
   "execution_count": null,
   "metadata": {},
   "outputs": [],
   "source": [
    "def _df_to_simpletable(df, align='r', float_format=\"%.4f\", header=True,\n",
    "                       index=True, table_dec_above='-', table_dec_below=None,\n",
    "                       header_dec_below='-', pad_col=0, pad_index=0):\n",
    "    dat = df.copy()\n",
    "    dat = dat.applymap(lambda x: _formatter(x, float_format))\n",
    "    if header:\n",
    "        headers = [str(x) for x in dat.columns.tolist()]\n",
    "    else:\n",
    "        headers = None\n",
    "    if index:\n",
    "        stubs = [str(x) + int(pad_index) * ' ' for x in dat.index.tolist()]\n",
    "    else:\n",
    "        dat.ix[:, 0] = [str(x) + int(pad_index) * ' ' for x in dat.ix[:, 0]]\n",
    "        stubs = None\n",
    "    st = SimpleTable(np.array(dat), headers=headers, stubs=stubs,\n",
    "                     ltx_fmt=fmt_latex, txt_fmt=fmt_txt)\n",
    "    st.output_formats['latex']['data_aligns'] = align\n",
    "    st.output_formats['txt']['data_aligns'] = align\n",
    "    st.output_formats['txt']['table_dec_above'] = table_dec_above\n",
    "    st.output_formats['txt']['table_dec_below'] = table_dec_below\n",
    "    st.output_formats['txt']['header_dec_below'] = header_dec_below\n",
    "    st.output_formats['txt']['colsep'] = ' ' * int(pad_col + 1)\n",
    "    return st"
   ]
  },
  {
   "cell_type": "markdown",
   "metadata": {},
   "source": [
    "## _col_params()-函数\n",
    "'''Stack coefficients and standard errors in single column'''"
   ]
  },
  {
   "cell_type": "code",
   "execution_count": null,
   "metadata": {},
   "outputs": [],
   "source": [
    "def _col_params(result, float_format='%.4f', stars=True):\n",
    "    # Extract parameters\n",
    "    res = summary_params(result)\n",
    "    # Format float\n",
    "    for col in res.columns[:2]: #选取系数和标准误\n",
    "        res[col] = res[col].apply(lambda x: float_format % x)\n",
    "    # Std.Errors in parentheses\n",
    "    res.ix[:, 1] = '(' + res.ix[:, 1] + ')'\n",
    "    # Significance stars\n",
    "    if stars:\n",
    "        idx = res.ix[:, 3] < .1\n",
    "        res.ix[idx, 0] = res.ix[idx, 0] + '*'\n",
    "        idx = res.ix[:, 3] < .05\n",
    "        res.ix[idx, 0] = res.ix[idx, 0] + '*'\n",
    "        idx = res.ix[:, 3] < .01\n",
    "        res.ix[idx, 0] = res.ix[idx, 0] + '*'\n",
    "    # Stack Coefs and Std.Errors\n",
    "    res = res.ix[:, :2]\n",
    "    res = res.stack()\n",
    "    res = pd.DataFrame(res)\n",
    "    res.columns = [str(result.model.endog_names)]\n",
    "    return res"
   ]
  },
  {
   "cell_type": "markdown",
   "metadata": {},
   "source": [
    "## _col_info()-函数\n",
    "  '''Stack model info in a column'''"
   ]
  },
  {
   "cell_type": "code",
   "execution_count": null,
   "metadata": {},
   "outputs": [],
   "source": [
    "def _col_info(result, info_dict=None):\n",
    "    if info_dict is None:\n",
    "        info_dict = {}\n",
    "    out = []\n",
    "    index = []\n",
    "    for i in info_dict:\n",
    "        if isinstance(info_dict[i], dict):\n",
    "            # this is a specific model info_dict, but not for this result...\n",
    "            continue\n",
    "        try:\n",
    "            out.append(info_dict[i](result)) # 也有问题？？？\n",
    "        except:\n",
    "            out.append('')\n",
    "        index.append(i)\n",
    "    out = pd.DataFrame({str(result.model.endog_names): out}, index=index)\n",
    "    return out"
   ]
  },
  {
   "cell_type": "markdown",
   "metadata": {},
   "source": [
    "## _make_unique()-函数"
   ]
  },
  {
   "cell_type": "code",
   "execution_count": null,
   "metadata": {},
   "outputs": [],
   "source": [
    "def _make_unique(list_of_names):\n",
    "    if len(set(list_of_names)) == len(list_of_names):\n",
    "        return list_of_names\n",
    "    # pandas does not like it if multiple columns have the same names\n",
    "    from collections import defaultdict\n",
    "    name_counter = defaultdict(str)\n",
    "    header = []\n",
    "    for _name in list_of_names:\n",
    "        name_counter[_name] += \"I\"\n",
    "        header.append(_name+\" \" + name_counter[_name])\n",
    "    return header\n",
    "# modify the above function as follows:\n",
    "def _make_unique(list_of_names):\n",
    "    if len(set(list_of_names)) == len(list_of_names):\n",
    "        return list_of_names\n",
    "    # pandas does not like it if multiple columns have the same names\n",
    "    from collections import defaultdict\n",
    "#     name_counter = defaultdict(str)\n",
    "#     header = []\n",
    "#     for _name in list_of_names:\n",
    "#         name_counter[_name] += \"I\"\n",
    "#         header.append(_name+\" \" + name_counter[_name])\n",
    "#         return header\n",
    "    dic_of_names = defaultdict(list)\n",
    "    for i,v in enumerate(list_of_names):\n",
    "        dic_of_names[v].append(i)\n",
    "    for v in  dic_of_names.values():\n",
    "        if len(v)>1:\n",
    "            c = 0\n",
    "            for i in v:\n",
    "                c += 1\n",
    "                list_of_names[i] = list_of_names[i] +'_%i' % c\n",
    "    return list_of_names"
   ]
  },
  {
   "cell_type": "markdown",
   "metadata": {},
   "source": [
    "## summary_col()-函数\n",
    "'''Summarize multiple results instances side-by-side (coefs and SEs)'''"
   ]
  },
  {
   "cell_type": "code",
   "execution_count": null,
   "metadata": {},
   "outputs": [],
   "source": [
    "def summary_col(results, float_format='%.4f', model_names=[], stars=False,\n",
    "                info_dict=None, regressor_order=[]):\n",
    "    if not isinstance(results, list):\n",
    "        results = [results]\n",
    "\n",
    "    cols = [_col_params(x, stars=stars, float_format=float_format) for x in\n",
    "            results]\n",
    "\n",
    "    # Unique column names (pandas has problems merging otherwise)\n",
    "    if model_names:\n",
    "        colnames = _make_unique(model_names)\n",
    "    else:\n",
    "        colnames = _make_unique([x.columns[0] for x in cols])\n",
    "    for i in range(len(cols)):\n",
    "        cols[i].columns = [colnames[i]]\n",
    "\n",
    "    merg = lambda x, y: x.merge(y, how='outer', right_index=True,\n",
    "                                left_index=True)\n",
    "    summ = reduce(merg, cols)\n",
    "\n",
    "    if regressor_order:\n",
    "        varnames = summ.index.get_level_values(0).tolist()\n",
    "        ordered = [x for x in regressor_order if x in varnames]\n",
    "        unordered = [x for x in varnames if x not in regressor_order + ['']]\n",
    "        order = ordered + list(np.unique(unordered))\n",
    "\n",
    "        f = lambda idx: sum([[x + 'coef', x + 'stde'] for x in idx], [])\n",
    "        summ.index = f(np.unique(varnames))\n",
    "        summ = summ.reindex(f(order))\n",
    "        summ.index = [x[:-4] for x in summ.index] #提取出变量名字\n",
    "\n",
    "    idx = pd.Series(lrange(summ.shape[0])) % 2 == 1\n",
    "    summ.index = np.where(idx, '', summ.index.get_level_values(0))\n",
    "\n",
    "    # add infos about the models.\n",
    "    if info_dict:#有问题吧？？\n",
    "        cols = [_col_info(x, info_dict.get(x.model.__class__.__name__,\n",
    "                                           info_dict)) for x in results]\n",
    "    else:\n",
    "        cols = [_col_info(x, getattr(x, \"default_model_infos\", None)) for x in\n",
    "                results]\n",
    "    # use unique column names, otherwise the merge will not succeed\n",
    "    for df , name in zip(cols, _make_unique([df.columns[0] for df in cols])):\n",
    "        df.columns = [name]\n",
    "    merg = lambda x, y: x.merge(y, how='outer', right_index=True,\n",
    "                                left_index=True)\n",
    "    info = reduce(merg, cols)\n",
    "    dat = pd.DataFrame(np.vstack([summ, info]))  # pd.concat better, but error\n",
    "    dat.columns = summ.columns\n",
    "    dat.index = pd.Index(summ.index.tolist() + info.index.tolist())\n",
    "    summ = dat\n",
    "\n",
    "    summ = summ.fillna('')\n",
    "\n",
    "    smry = Summary()\n",
    "    smry.add_df(summ, header=True, align='l')\n",
    "    smry.add_text('Standard errors in parentheses.')\n",
    "    if stars:\n",
    "        smry.add_text('* p<.1, ** p<.05, ***p<.01')\n",
    "\n",
    "    return smry"
   ]
  }
 ],
 "metadata": {
  "celltoolbar": "Raw Cell Format",
  "kernelspec": {
   "display_name": "Python 3",
   "language": "python",
   "name": "python3"
  },
  "language_info": {
   "codemirror_mode": {
    "name": "ipython",
    "version": 3
   },
   "file_extension": ".py",
   "mimetype": "text/x-python",
   "name": "python",
   "nbconvert_exporter": "python",
   "pygments_lexer": "ipython3",
   "version": "3.6.4"
  },
  "nbTranslate": {
   "displayLangs": [
    "*"
   ],
   "hotkey": "alt-t",
   "langInMainMenu": true,
   "sourceLang": "en",
   "targetLang": "fr",
   "useGoogleTranslate": true
  },
  "toc": {
   "base_numbering": 1,
   "nav_menu": {},
   "number_sections": true,
   "sideBar": true,
   "skip_h1_title": false,
   "title_cell": "Table of Contents",
   "title_sidebar": "Contents",
   "toc_cell": false,
   "toc_position": {
    "height": "619px",
    "left": "41px",
    "top": "180.2px",
    "width": "294px"
   },
   "toc_section_display": true,
   "toc_window_display": true
  },
  "varInspector": {
   "cols": {
    "lenName": 16,
    "lenType": 16,
    "lenVar": 40
   },
   "kernels_config": {
    "python": {
     "delete_cmd_postfix": "",
     "delete_cmd_prefix": "del ",
     "library": "var_list.py",
     "varRefreshCmd": "print(var_dic_list())"
    },
    "r": {
     "delete_cmd_postfix": ") ",
     "delete_cmd_prefix": "rm(",
     "library": "var_list.r",
     "varRefreshCmd": "cat(var_dic_list()) "
    }
   },
   "types_to_exclude": [
    "module",
    "function",
    "builtin_function_or_method",
    "instance",
    "_Feature"
   ],
   "window_display": false
  }
 },
 "nbformat": 4,
 "nbformat_minor": 2
}
