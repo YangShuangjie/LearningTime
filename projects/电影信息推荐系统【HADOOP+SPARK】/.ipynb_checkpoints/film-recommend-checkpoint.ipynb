{
 "cells": [
  {
   "cell_type": "markdown",
   "metadata": {},
   "source": [
    "# 1.准备工作\n",
    "* 运行环境:\n",
    "    * hadoop-3.0.3\n",
    "    * spark-2.3.1\n",
    "    * ubuntu18.04"
   ]
  },
  {
   "cell_type": "markdown",
   "metadata": {},
   "source": [
    "## 1.1在Spark Standalone上启动Jupyter notebook\n",
    "```\n",
    "cd ~/eclipse-workspace/\n",
    "```\n",
    "```\n",
    "PYSPARK_DRIVER_PYTHON=jupyter PYSPARK_DRIVER_PYTHON_OPTS=\"notebook\" \n",
    "MASTER=spark://ubuntu:7077 pyspark --num-executors 1 \n",
    "--total-executor-cores 2 --executor-memory 512m \n",
    "```\n",
    "## 1.2下载并解压数据\n",
    "```\n",
    "wget http://files.grouplens.org/datasets/movielens/ml-latest-small.zip\n",
    "unzip ml-latest-small.zip \n",
    "rm ml-latest-small.zip\n",
    "mv ml-latest-small FilmRecommend/data/\n",
    "cd FilmRecommend/data\n",
    "```"
   ]
  },
  {
   "cell_type": "markdown",
   "metadata": {},
   "source": [
    "## 1.3查看数据"
   ]
  },
  {
   "cell_type": "code",
   "execution_count": 4,
   "metadata": {},
   "outputs": [
    {
     "name": "stdout",
     "output_type": "stream",
     "text": [
      "links.csv  movies.csv  ratings.csv  README.txt  tags.csv\r\n"
     ]
    }
   ],
   "source": [
    "%ls ml-latest-small/"
   ]
  },
  {
   "cell_type": "code",
   "execution_count": 20,
   "metadata": {},
   "outputs": [
    {
     "name": "stdout",
     "output_type": "stream",
     "text": [
      "movieId,imdbId,tmdbId\r",
      "\r\n",
      "1,0114709,862\r",
      "\r\n",
      "2,0113497,8844\r",
      "\r\n",
      "3,0113228,15602\r",
      "\r\n",
      "4,0114885,31357\r",
      "\r\n",
      "5,0113041,11862\r",
      "\r\n",
      "6,0113277,949\r",
      "\r\n",
      "7,0114319,11860\r",
      "\r\n",
      "8,0112302,45325\r",
      "\r\n",
      "9,0114576,9091\r",
      "\r\n",
      "cat: 写入错误: 断开的管道\r\n"
     ]
    }
   ],
   "source": [
    "# %cd ml-latest-small/\n",
    "%cat links.csv | head -10\n",
    "#links.csv 是电影的链接ID信息，对应不同网站里的不同ID"
   ]
  },
  {
   "cell_type": "code",
   "execution_count": 21,
   "metadata": {},
   "outputs": [
    {
     "name": "stdout",
     "output_type": "stream",
     "text": [
      "movieId,title,genres\r",
      "\r\n",
      "1,Toy Story (1995),Adventure|Animation|Children|Comedy|Fantasy\r",
      "\r\n",
      "2,Jumanji (1995),Adventure|Children|Fantasy\r",
      "\r\n",
      "3,Grumpier Old Men (1995),Comedy|Romance\r",
      "\r\n",
      "4,Waiting to Exhale (1995),Comedy|Drama|Romance\r",
      "\r\n",
      "5,Father of the Bride Part II (1995),Comedy\r",
      "\r\n",
      "6,Heat (1995),Action|Crime|Thriller\r",
      "\r\n",
      "7,Sabrina (1995),Comedy|Romance\r",
      "\r\n",
      "8,Tom and Huck (1995),Adventure|Children\r",
      "\r\n",
      "9,Sudden Death (1995),Action\r",
      "\r\n",
      "cat: 写入错误: 断开的管道\r\n"
     ]
    }
   ],
   "source": [
    "%cat movies.csv |head -10\n",
    "# movies.csv 是电影信息文件，包含电影ID、电影名、类型"
   ]
  },
  {
   "cell_type": "code",
   "execution_count": 22,
   "metadata": {},
   "outputs": [
    {
     "name": "stdout",
     "output_type": "stream",
     "text": [
      "userId,movieId,rating,timestamp\r",
      "\r\n",
      "1,31,2.5,1260759144\r",
      "\r\n",
      "1,1029,3.0,1260759179\r",
      "\r\n",
      "1,1061,3.0,1260759182\r",
      "\r\n",
      "1,1129,2.0,1260759185\r",
      "\r\n",
      "1,1172,4.0,1260759205\r",
      "\r\n",
      "1,1263,2.0,1260759151\r",
      "\r\n",
      "1,1287,2.0,1260759187\r",
      "\r\n",
      "1,1293,2.0,1260759148\r",
      "\r\n",
      "1,1339,3.5,1260759125\r",
      "\r\n",
      "cat: 写入错误: 断开的管道\r\n"
     ]
    }
   ],
   "source": [
    "%cat ratings.csv | head -10\n",
    "# ratings.csv是电影评分数据，包含用户ID，电影ID，用户评分，时间戳"
   ]
  },
  {
   "cell_type": "code",
   "execution_count": 24,
   "metadata": {},
   "outputs": [
    {
     "name": "stdout",
     "output_type": "stream",
     "text": [
      "userId,movieId,tag,timestamp\r",
      "\r\n",
      "15,339,sandra 'boring' bullock,1138537770\r",
      "\r\n",
      "15,1955,dentist,1193435061\r",
      "\r\n",
      "15,7478,Cambodia,1170560997\r",
      "\r\n",
      "15,32892,Russian,1170626366\r",
      "\r\n",
      "15,34162,forgettable,1141391765\r",
      "\r\n",
      "15,35957,short,1141391873\r",
      "\r\n",
      "15,37729,dull story,1141391806\r",
      "\r\n",
      "15,45950,powerpoint,1169616291\r",
      "\r\n",
      "15,100365,activist,1425876220\r",
      "\r\n"
     ]
    }
   ],
   "source": [
    "%cat tags.csv|head -10\n",
    "#tags.csv是标签数据文件，包含用户ID，电影ID，电影标签，时间戳"
   ]
  },
  {
   "cell_type": "markdown",
   "metadata": {},
   "source": [
    "# 2.基于Spark MLlib 的ALS算法推荐电影"
   ]
  },
  {
   "cell_type": "markdown",
   "metadata": {},
   "source": [
    "## 2.1 读取数据\n",
    "* 在hdfs上创建文件目录\n",
    "\n",
    "    ```hadoop fs -mkdir -p /sparkproject/FilmRecommend/data```\n",
    "\n",
    "\n",
    "* 将本地数据文件拷贝至hdfs\n",
    "\n",
    "    ```hadoop fs -copyFromLocal ml-latest-small /sparkproject/FilmRecommend/data/```"
   ]
  },
  {
   "cell_type": "code",
   "execution_count": 2,
   "metadata": {},
   "outputs": [],
   "source": [
    "#配置文件读取路径\n",
    "global Path\n",
    "if sc.master[0:5]=='local':\n",
    "    Path='file:/home/hadoop/eclipse-workspace/FilmRecommend/data/'\n",
    "else:\n",
    "    Path='hdfs://ubuntu:9000/sparkproject/FilmRecommend/data/'\n",
    "# sc.master"
   ]
  },
  {
   "cell_type": "code",
   "execution_count": 3,
   "metadata": {},
   "outputs": [
    {
     "data": {
      "text/plain": [
       "100005"
      ]
     },
     "execution_count": 3,
     "metadata": {},
     "output_type": "execute_result"
    }
   ],
   "source": [
    "# 读取所需的电影评分数据文件(共100005-1条,含字段名)\n",
    "ratData = sc.textFile(Path+'ml-latest-small/ratings.csv')\n",
    "ratData.count() "
   ]
  },
  {
   "cell_type": "code",
   "execution_count": 4,
   "metadata": {},
   "outputs": [
    {
     "data": {
      "text/plain": [
       "['userId,movieId,rating,timestamp', '1,31,2.5,1260759144']"
      ]
     },
     "execution_count": 4,
     "metadata": {},
     "output_type": "execute_result"
    }
   ],
   "source": [
    "ratData.take(2)"
   ]
  },
  {
   "cell_type": "markdown",
   "metadata": {},
   "source": [
    "## 2.2 导入模块"
   ]
  },
  {
   "cell_type": "code",
   "execution_count": 5,
   "metadata": {},
   "outputs": [],
   "source": [
    "from pyspark.mllib.recommendation import Rating"
   ]
  },
  {
   "cell_type": "markdown",
   "metadata": {},
   "source": [
    "## 2.3 把数据转换为ALS训练数据所要求的格式(userId,movieId,rating)"
   ]
  },
  {
   "cell_type": "code",
   "execution_count": 6,
   "metadata": {},
   "outputs": [
    {
     "name": "stdout",
     "output_type": "stream",
     "text": [
      "转换后的数据格式为：(userId,movieId,rating)\n"
     ]
    },
    {
     "data": {
      "text/plain": [
       "[('1', '31', '2.5'),\n",
       " ('1', '1029', '3.0'),\n",
       " ('1', '1061', '3.0'),\n",
       " ('1', '1129', '2.0'),\n",
       " ('1', '1172', '4.0')]"
      ]
     },
     "execution_count": 6,
     "metadata": {},
     "output_type": "execute_result"
    }
   ],
   "source": [
    "ratRDD = ratData.map(lambda line: line.split('\\t')) \\\n",
    "                .map(lambda x:(x[0].split(',')))  \\\n",
    "                .map(lambda y:(y[0],y[1],y[2])) \n",
    "                #.toDF().toPandas().drop(0,axis=0)\n",
    "header = ratRDD.first()\n",
    "ratRDD = ratRDD.filter(lambda x:x!=header)\n",
    "\n",
    "print('转换后的数据格式为：(userId,movieId,rating)')\n",
    "ratRDD.take(5)"
   ]
  },
  {
   "cell_type": "code",
   "execution_count": 7,
   "metadata": {},
   "outputs": [
    {
     "name": "stdout",
     "output_type": "stream",
     "text": [
      "参与评价的总人数为： 671 \n",
      "被评价的总电影数为： 9066\n"
     ]
    }
   ],
   "source": [
    "# 统计非重复用户和非重复电影\n",
    "numUsers = ratRDD.map(lambda x:x[0]).distinct().count()\n",
    "numMovies = ratRDD.map(lambda x:x[1]).distinct().count()\n",
    "print('参与评价的总人数为：',numUsers,'\\n被评价的总电影数为：',numMovies)"
   ]
  },
  {
   "cell_type": "markdown",
   "metadata": {},
   "source": [
    "## 2.4 训练模型"
   ]
  },
  {
   "cell_type": "code",
   "execution_count": 8,
   "metadata": {},
   "outputs": [
    {
     "data": {
      "text/plain": [
       "<pyspark.mllib.recommendation.MatrixFactorizationModel at 0x7faf049f2d68>"
      ]
     },
     "execution_count": 8,
     "metadata": {},
     "output_type": "execute_result"
    }
   ],
   "source": [
    "from pyspark.mllib.recommendation import ALS\n",
    "# ALS.train(ratings,rank,iterations=5,lambda_=0.01) #显式评分训练\n",
    "# ALS.trainImplicit(ratings,rank,iterations=5,lambda_=0.01 #隐式评分训练\n",
    "model = ALS.train(ratRDD,10,10,0.01)"
   ]
  },
  {
   "cell_type": "markdown",
   "metadata": {},
   "source": [
    "## 2.5 进行推荐"
   ]
  },
  {
   "cell_type": "markdown",
   "metadata": {},
   "source": [
    "### 2.5.1 针对用户推荐电影——基于人的协同过滤（向人推荐物）\n",
    "```model.recommendProducts(userId,nProducts)``` 向userId推荐几项产品"
   ]
  },
  {
   "cell_type": "code",
   "execution_count": 14,
   "metadata": {},
   "outputs": [
    {
     "data": {
      "text/plain": [
       "[Rating(user=666, product=3684, rating=7.875212404462965),\n",
       " Rating(user=666, product=6223, rating=7.626978985374312),\n",
       " Rating(user=666, product=4835, rating=7.620037603031445),\n",
       " Rating(user=666, product=6618, rating=7.425246691947353),\n",
       " Rating(user=666, product=71033, rating=7.109216173420328)]"
      ]
     },
     "execution_count": 14,
     "metadata": {},
     "output_type": "execute_result"
    }
   ],
   "source": [
    "model.recommendProducts(666,5)\n",
    "# model.predict(666,4835) #查看用户对电影id4835的评分"
   ]
  },
  {
   "cell_type": "markdown",
   "metadata": {},
   "source": [
    "### 2.5.2 针对电影向用户推荐——基于物的协同过滤（将物推荐给人）\n",
    "\n",
    "```model.recommendUsers(product,num)```将product推荐给n个users"
   ]
  },
  {
   "cell_type": "code",
   "execution_count": 18,
   "metadata": {},
   "outputs": [
    {
     "data": {
      "text/plain": [
       "[Rating(user=207, product=4835, rating=11.582046907051225),\n",
       " Rating(user=259, product=4835, rating=10.94243427958982),\n",
       " Rating(user=308, product=4835, rating=10.204406952908482),\n",
       " Rating(user=375, product=4835, rating=10.177399472876523),\n",
       " Rating(user=32, product=4835, rating=10.064223699901323)]"
      ]
     },
     "execution_count": 18,
     "metadata": {},
     "output_type": "execute_result"
    }
   ],
   "source": [
    "model.recommendUsers(4835,5)"
   ]
  },
  {
   "cell_type": "markdown",
   "metadata": {},
   "source": [
    "### 2.5.3 显示推荐电影的名称"
   ]
  },
  {
   "cell_type": "code",
   "execution_count": 25,
   "metadata": {},
   "outputs": [
    {
     "name": "stdout",
     "output_type": "stream",
     "text": [
      "共有9126部电影\n"
     ]
    },
    {
     "data": {
      "text/plain": [
       "['movieId,title,genres',\n",
       " '1,Toy Story (1995),Adventure|Animation|Children|Comedy|Fantasy',\n",
       " '2,Jumanji (1995),Adventure|Children|Fantasy',\n",
       " '3,Grumpier Old Men (1995),Comedy|Romance',\n",
       " '4,Waiting to Exhale (1995),Comedy|Drama|Romance']"
      ]
     },
     "execution_count": 25,
     "metadata": {},
     "output_type": "execute_result"
    }
   ],
   "source": [
    "# 读取电影信息文件movies.csv\n",
    "movData = sc.textFile(Path+'ml-latest-small/movies.csv')\n",
    "print('共有%i部电影' % movData.count())\n",
    "movData.take(5)"
   ]
  },
  {
   "cell_type": "code",
   "execution_count": 75,
   "metadata": {},
   "outputs": [],
   "source": [
    "# 电影ID与名称映射为字典\n",
    "movRDD = movData.map(lambda line:line.split('\\t')) \\\n",
    "                .map(lambda x :x[0].split(','))  \\\n",
    "                .map(lambda y:(y[0],y[1]))\n",
    "header = movRDD.first()\n",
    "movRDD = movRDD.filter(lambda z: z!=header).collectAsMap()\n",
    "# movRDD.take(5)"
   ]
  },
  {
   "cell_type": "code",
   "execution_count": 74,
   "metadata": {},
   "outputs": [
    {
     "name": "stdout",
     "output_type": "stream",
     "text": [
      "向用户666推荐: \"Fabulous Baker Boys\n",
      "     推荐评分: 7.875212404462965\n",
      "向用户666推荐: Spun (2001)\n",
      "     推荐评分: 7.626978985374312\n",
      "向用户666推荐: Coal Miner's Daughter (1980)\n",
      "     推荐评分: 7.620037603031445\n",
      "向用户666推荐: Shaolin Soccer (Siu lam juk kau) (2001)\n",
      "     推荐评分: 7.425246691947353\n",
      "向用户666推荐: \"Secret in Their Eyes\n",
      "     推荐评分: 7.109216173420328\n"
     ]
    }
   ],
   "source": [
    "recommendP = model.recommendProducts(666,5)\n",
    "for p in recommendP:\n",
    "    print(\"向用户%s推荐: %s\\n     推荐评分: %s\" % (p[0],movRDD[str(p[1])],p[2]))"
   ]
  }
 ],
 "metadata": {
  "kernelspec": {
   "display_name": "Python 3",
   "language": "python",
   "name": "python3"
  },
  "language_info": {
   "codemirror_mode": {
    "name": "ipython",
    "version": 3
   },
   "file_extension": ".py",
   "mimetype": "text/x-python",
   "name": "python",
   "nbconvert_exporter": "python",
   "pygments_lexer": "ipython3",
   "version": "3.6.5"
  }
 },
 "nbformat": 4,
 "nbformat_minor": 2
}
