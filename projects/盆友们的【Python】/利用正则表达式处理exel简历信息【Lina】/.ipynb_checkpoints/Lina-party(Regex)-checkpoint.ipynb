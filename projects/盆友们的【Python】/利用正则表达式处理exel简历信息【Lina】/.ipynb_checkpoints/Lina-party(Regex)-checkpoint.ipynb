{
 "cells": [
  {
   "cell_type": "markdown",
   "metadata": {},
   "source": [
    "# Load the data"
   ]
  },
  {
   "cell_type": "code",
   "execution_count": 171,
   "metadata": {},
   "outputs": [],
   "source": [
    "import pandas as pd\n",
    "import re\n",
    "data=pd.read_excel(\"C:\\\\Users\\\\win10\\\\Desktop\\\\宝哥数据\\\\CCP.xlsx\")"
   ]
  },
  {
   "cell_type": "markdown",
   "metadata": {},
   "source": [
    "# Replace Chinese numbers with Arabic numerals"
   ]
  },
  {
   "cell_type": "code",
   "execution_count": 172,
   "metadata": {},
   "outputs": [],
   "source": [
    "# 主要针对年份便于正则匹配,十及十以上的不正确也不影响,同时去掉空白\n",
    "repl_rule = {'零':0,'一':1,'二':2,'三':3,'四':4,'五':5,\n",
    "             '六':6,'七':7,'八':8,'九':9,'十':0,'\\s':''}\n",
    "\n",
    "def repl_num(s,rule=repl_rule):\n",
    "    sub = lambda s,kv:re.sub(kv[0],str(kv[1]),s)\n",
    "    from functools import reduce\n",
    "    new_s = reduce(sub,[s]+[*rule.items()])\n",
    "    return new_s\n",
    "\n",
    "data['Resume'] = pd.Series(map(repl_num,data['Resume']))"
   ]
  },
  {
   "cell_type": "markdown",
   "metadata": {},
   "source": [
    "# Whether to hold the league position"
   ]
  },
  {
   "cell_type": "code",
   "execution_count": 173,
   "metadata": {},
   "outputs": [
    {
     "name": "stderr",
     "output_type": "stream",
     "text": [
      "F:\\Anaconda3\\lib\\site-packages\\ipykernel_launcher.py:78: SettingWithCopyWarning: \n",
      "A value is trying to be set on a copy of a slice from a DataFrame\n",
      "\n",
      "See the caveats in the documentation: http://pandas.pydata.org/pandas-docs/stable/indexing.html#indexing-view-versus-copy\n"
     ]
    }
   ],
   "source": [
    "# 编写正则表达式\n",
    "\n",
    "#1. xxxx年至今,含有的[现任]信息优先于[任/历任/先后任]\n",
    "regex1=r'\\d{4}年.*至今.*[^曾]任.*(?<!集|兵|\\d)团(?!长).*(?<!秘)[书记|委员|科长|经理|主任]{1,2}.*' \n",
    "\n",
    "#2. '[任]...至今'优先级等价于[现任]\n",
    "regex2=r'(?<!至|\\-|—)\\d{4}年.*[^曾]任.*(?<!集|兵|\\d)团(?!长).*(?<!秘)[书记|委员|科长|经理|主任]{1,2}.*[^年月日][至今|。|\\.]{2}$' \n",
    "\n",
    "#3. xxxx年起,含有的[现任]信息优先于[任/历任/先后任]\n",
    "regex3=r'(?<!至|\\-|—)\\d{4}年.*[^至\\-—].*起.*(?<!曾|历|后)任.*(?<!集|兵|\\d)团(?!长).*(?<!秘)[书记|委员|科长|经理|主任]{1,2}.*'   \n",
    "\n",
    "#4. '[至/——]报告期末'优先级等价于[现任]\n",
    "regex4=r'(\\d{4}.{1,6})?[至\\-—]?报告期末.*[^曾]任.*(?<!集|兵|\\d)团(?!长).*(?<!秘)[书记|委员|科长|经理|主任]{1,2}' \n",
    "\n",
    "#5. 现任\n",
    "regex5=r'现任.*(?<!集|兵|\\d)团(?!长).*(?<!秘)[书记|委员|科长|经理|主任]{1,2}.*'\n",
    "#6. 排除匹配到[现任]'不相关职务',历任'相关职务'的特例\n",
    "regex5a=r'现任.*(?<!集|兵|\\d)团(?!长).*(?<!秘)[书记|委员|科长|经理|主任]{1,2}.*(?=历任|曾任|先后任)'\n",
    "\n",
    "# 编译正则表达式\n",
    "rec1 = re.compile(regex1)\n",
    "rec2 = re.compile(regex2)\n",
    "rec3 = re.compile(regex3)\n",
    "rec4 = re.compile(regex4)\n",
    "rec5 = re.compile(regex5)\n",
    "rec5a = re.compile(regex5a)\n",
    "\n",
    "# 根据正则表达式提取信息\n",
    "def extract_info(df,regex):\n",
    "    info = []\n",
    "    for i in df['Resume']:\n",
    "        j = re.split('。|；|;|\\.',i)\n",
    "        list_info = []\n",
    "        for ii in j:\n",
    "            regx = regex.search(ii)\n",
    "            if regx:\n",
    "                if regex==rec2 or regex==rec4:\n",
    "                    list_info.append(regx.group())\n",
    "                elif regex==rec1 or regex==rec3:\n",
    "                    search1 = re.search('现任',regx.group())\n",
    "                    if search1:\n",
    "                        search2=rec5.search(regx.group())\n",
    "                        if search2:\n",
    "                            search3=re.search('历任|曾任|先后任',search2.group())\n",
    "                            if search3:\n",
    "                                search4=rec5a.search(search2.group())\n",
    "                                if search4:\n",
    "                                    list_info.append(search4.group())\n",
    "                            else:\n",
    "                                list_info.append(search2.group())\n",
    "                    else:\n",
    "                        list_info.append(regx.group())     \n",
    "                elif regex==rec5:\n",
    "                    search5 = re.search('历任|曾任|先后任',regx.group())\n",
    "                    if search5:\n",
    "                        search5a = rec5a.search(regx.group())\n",
    "                        if search5a:\n",
    "                            list_info.append(search5a.group())\n",
    "                    else:\n",
    "                        list_info.append(regx.group())\n",
    "        if list_info==[]:\n",
    "            info.append('')\n",
    "        else:\n",
    "            info.append('。'.join(list_info))\n",
    "    info_series = pd.Series(info,index=df.index)\n",
    "    return info_series\n",
    "\n",
    "def league_data(df):    \n",
    "    s1 = extract_info(df,rec1)\n",
    "    s2 = extract_info(df,rec2)\n",
    "    s3 = extract_info(df,rec3)\n",
    "    s4 = extract_info(df,rec4)\n",
    "    s5 = extract_info(df,rec5)\n",
    "    info_s = s1+s2+s3+s4+s5\n",
    "    info_s.name = 'league_info'\n",
    "    df = pd.concat([df,info_s],axis=1)\n",
    "    df['CCYL'] = 1\n",
    "    df['CCYL'][df['league_info']==''] = 0\n",
    "    return df\n",
    "\n",
    "league_df = league_data(data)"
   ]
  },
  {
   "cell_type": "code",
   "execution_count": 174,
   "metadata": {},
   "outputs": [
    {
     "name": "stdout",
     "output_type": "stream",
     "text": [
      "0    142190\n",
      "1       220\n",
      "Name: CCYL, dtype: int64\n"
     ]
    }
   ],
   "source": [
    "print(league_df['CCYL'].value_counts())\n",
    "league_df[league_df['CCYL']==1].to_excel(\"C:\\\\Users\\\\win10\\\\Desktop\\\\宝哥数据\\\\league_info.xlsx\")"
   ]
  },
  {
   "cell_type": "markdown",
   "metadata": {},
   "source": [
    "# Whether to hold the party positon"
   ]
  },
  {
   "cell_type": "code",
   "execution_count": 175,
   "metadata": {},
   "outputs": [
    {
     "name": "stderr",
     "output_type": "stream",
     "text": [
      "F:\\Anaconda3\\lib\\site-packages\\ipykernel_launcher.py:39: SettingWithCopyWarning: \n",
      "A value is trying to be set on a copy of a slice from a DataFrame\n",
      "\n",
      "See the caveats in the documentation: http://pandas.pydata.org/pandas-docs/stable/indexing.html#indexing-view-versus-copy\n"
     ]
    }
   ],
   "source": [
    "# 编写正则表达式\n",
    "\n",
    "# 1. xxxx年至今,含有的[现任]信息优先于[任/历任/先后任]\n",
    "regex1=r'\\d{4}年.*至今.*[^曾]任.*((?:党)|(?:党群)|(?:政协)|(?:人大)).*(?<!秘)[书记|委员|科长|经理|主任]{1,2}.*'\n",
    "\n",
    "# 2. '[任]...至今'优先级等价于[现任]\n",
    "regex2=r'(?<!至|\\-|—)\\d{4}年.*[^曾]任.*((?:党)|(?:党群)|(?:政协)|(?:人大)).*(?<!秘)[书记|委员|科长|经理|主任]{1,2}.*[^年月日][至今|。|\\.]{2}$'  \n",
    "\n",
    "# 3. xxxx年起,含有的[现任]信息优先于[任/历任/先后任]\n",
    "regex3=r'(?<!至|\\-|—)\\d{4}年.*[^至\\-—].*起.*(?<!曾|历|后)任.*((?:党)|(?:党群)|(?:政协)|(?:人大)).*(?<!秘)[书记|委员|科长|经理|主任]{1,2}.*'  \n",
    "\n",
    "# 4. '[至/——]报告期末'优先级等价于[现任]\n",
    "regex4=r'(\\d{4}.{1,6})?[至\\-—]?报告期末.*[^曾]任.*((?:党)|(?:党群)|(?:政协)|(?:人大)).*(?<!秘)[书记|委员|科长|经理|主任]{1,2}'  \n",
    "\n",
    "# 5. 现任\n",
    "regex5=r'现任.*((?:党)|(?:党群)|(?:政协)|(?:人大)).*(?<!秘)[书记|委员|科长|经理|主任]{1,2}.*'\n",
    "# 6. 排除匹配到[现任]'不相关职务',历任'相关职务'的特例\n",
    "regex5a=r'现任.*((?:党)|(?:党群)|(?:政协)|(?:人大)).*(?<!秘)[书记|委员|科长|经理|主任]{1,2}.*(?=历任|曾任|先后任)' \n",
    "\n",
    "# 编译正则表达式\n",
    "rec1 = re.compile(regex1)\n",
    "rec2 = re.compile(regex2)\n",
    "rec3 = re.compile(regex3)\n",
    "rec4 = re.compile(regex4)\n",
    "rec5 = re.compile(regex5)\n",
    "rec5a = re.compile(regex5a)\n",
    "\n",
    "#调用用 extract_info()提取信息\n",
    "def party_data(df):\n",
    "    s1 = extract_info(df,rec1)\n",
    "    s2 = extract_info(df,rec2)\n",
    "    s3 = extract_info(df,rec3)\n",
    "    s4 = extract_info(df,rec4)\n",
    "    s5 = extract_info(df,rec5)\n",
    "    info_s = s1+s2+s3+s4+s5\n",
    "    info_s.name = 'party_info'\n",
    "    df = pd.concat([df,info_s],axis=1)\n",
    "    df['Party'] = 1\n",
    "    df['Party'][df['party_info']==''] = 0\n",
    "    return df\n",
    "\n",
    "party_df = party_data(league_df)"
   ]
  },
  {
   "cell_type": "code",
   "execution_count": 176,
   "metadata": {},
   "outputs": [
    {
     "name": "stdout",
     "output_type": "stream",
     "text": [
      "0    96094\n",
      "1    46316\n",
      "Name: Party, dtype: int64\n"
     ]
    }
   ],
   "source": [
    "print(party_df['Party'].value_counts())\n",
    "party_df[party_df['Party']==1].to_excel(\"C:\\\\Users\\\\win10\\\\Desktop\\\\宝哥数据\\\\party_info.xlsx\")"
   ]
  },
  {
   "cell_type": "markdown",
   "metadata": {},
   "source": [
    "# Whether to serve as a director"
   ]
  },
  {
   "cell_type": "code",
   "execution_count": 177,
   "metadata": {},
   "outputs": [
    {
     "name": "stderr",
     "output_type": "stream",
     "text": [
      "F:\\Anaconda3\\lib\\site-packages\\ipykernel_launcher.py:40: SettingWithCopyWarning: \n",
      "A value is trying to be set on a copy of a slice from a DataFrame\n",
      "\n",
      "See the caveats in the documentation: http://pandas.pydata.org/pandas-docs/stable/indexing.html#indexing-view-versus-copy\n"
     ]
    }
   ],
   "source": [
    "# 编写正则表达式\n",
    "\n",
    "# 1. xxxx年至今,含有的[现任]信息优先于[任/历任/先后任]\n",
    "regex1=r'\\d{4}年.*至今.*[^曾]任.*董事.*'\n",
    "\n",
    "# 2. '[任]...至今'优先级等价于[现任]\n",
    "regex2=r'(?<!至|\\-|—)\\d{4}年.*[^曾]任.*董事.*[至今|。|\\.]{2}$'  \n",
    "\n",
    "# 3. xxxx年起,含有的[现任]信息优先于[任/历任/先后任]\n",
    "regex3=r'(?<!至|\\-|—)\\d{4}年.*[^至\\-—].*起.*(?<!曾|历|后)任.*董事.*'  \n",
    "\n",
    "# 4. '[至/——]报告期末'优先级等价于[现任]\n",
    "regex4=r'(\\d{4}.{1,6})?[至\\-—]?报告期末.*[^曾]任.*董事.{,5}'  \n",
    "\n",
    "# 5. 现任\n",
    "regex5=r'现任.*董事.*'\n",
    "# 6. 排除匹配到[现任]'不相关职务',历任'相关职务'的特例\n",
    "regex5a=r'现任.*董事.*(?=历任|曾任|先后任)' \n",
    "\n",
    "# 编译正则表达式\n",
    "rec1 = re.compile(regex1)\n",
    "rec2 = re.compile(regex2)\n",
    "rec3 = re.compile(regex3)\n",
    "rec4 = re.compile(regex4)\n",
    "rec5 = re.compile(regex5)\n",
    "rec5a = re.compile(regex5a)\n",
    "\n",
    "# 在有党职的前提下提取董事信息\n",
    "def party_dir(df):\n",
    "    df_party = df[df['Party']==1]\n",
    "    s1 = extract_info(df_party,rec1)\n",
    "    s2 = extract_info(df_party,rec2)\n",
    "    s3 = extract_info(df_party,rec3)\n",
    "    s4 = extract_info(df_party,rec4)\n",
    "    s5 = extract_info(df_party,rec5)\n",
    "    info_s = s1+s2+s3+s4+s5\n",
    "    info_s.name = 'dir_info'\n",
    "    df_party = pd.concat([df_party,info_s],axis=1)\n",
    "    df_party['Party_Dir'] = 1\n",
    "    df_party['Party_Dir'][df_party['dir_info']==''] = 0\n",
    "    return df_party\n",
    "\n",
    "dir_df = party_dir(party_df)"
   ]
  },
  {
   "cell_type": "code",
   "execution_count": 178,
   "metadata": {},
   "outputs": [
    {
     "name": "stdout",
     "output_type": "stream",
     "text": [
      "1    27775\n",
      "0    18541\n",
      "Name: Party_Dir, dtype: int64\n"
     ]
    }
   ],
   "source": [
    "print(dir_df['Party_Dir'].value_counts())\n",
    "dir_df[dir_df['Party_Dir']==1].to_excel(\"C:\\\\Users\\\\win10\\\\Desktop\\\\宝哥数据\\\\dir_info.xlsx\")"
   ]
  },
  {
   "cell_type": "markdown",
   "metadata": {},
   "source": [
    "# Whether to serve as supervisor"
   ]
  },
  {
   "cell_type": "code",
   "execution_count": 179,
   "metadata": {},
   "outputs": [
    {
     "name": "stderr",
     "output_type": "stream",
     "text": [
      "F:\\Anaconda3\\lib\\site-packages\\ipykernel_launcher.py:40: SettingWithCopyWarning: \n",
      "A value is trying to be set on a copy of a slice from a DataFrame\n",
      "\n",
      "See the caveats in the documentation: http://pandas.pydata.org/pandas-docs/stable/indexing.html#indexing-view-versus-copy\n"
     ]
    }
   ],
   "source": [
    "# 编写正则表达式\n",
    "\n",
    "# 1. xxxx年至今,含有的[现任]信息优先于[任/历任/先后任]\n",
    "regex1=r'\\d{4}年.*至今.*[^曾]任.*监事.*'\n",
    "\n",
    "# 2. '[任]...至今'优先级等价于[现任]\n",
    "regex2=r'(?<!至|\\-|—)\\d{4}年.*[^曾]任.*监事.*[至今|。|\\.]{2}$'  \n",
    "\n",
    "# 3. xxxx年起,含有的[现任]信息优先于[任/历任/先后任]\n",
    "regex3=r'(?<!至|\\-|—)\\d{4}年.*[^至\\-—].*起.*(?<!曾|历|后)任.*监事.*'  \n",
    "\n",
    "# 4. '[至/——]报告期末'优先级等价于[现任]\n",
    "regex4=r'(\\d{4}.{1,6})?[至\\-—]?报告期末.*[^曾]任.*监事.{,5}'  \n",
    "\n",
    "# 5. 现任\n",
    "regex5=r'现任.*监事.*'\n",
    "# 6. 排除匹配到[现任]'不相关职务',历任'相关职务'的特例\n",
    "regex5a=r'现任.*监事.*(?=历任|曾任|先后任)' \n",
    "\n",
    "# 编译正则表达式\n",
    "rec1 = re.compile(regex1)\n",
    "rec2 = re.compile(regex2)\n",
    "rec3 = re.compile(regex3)\n",
    "rec4 = re.compile(regex4)\n",
    "rec5 = re.compile(regex5)\n",
    "rec5a = re.compile(regex5a)\n",
    "\n",
    "# 在有党职的前提下提取监事信息\n",
    "def party_sup(df):\n",
    "    df_party = df[df['Party']==1]\n",
    "    s1 = extract_info(df_party,rec1)\n",
    "    s2 = extract_info(df_party,rec2)\n",
    "    s3 = extract_info(df_party,rec3)\n",
    "    s4 = extract_info(df_party,rec4)\n",
    "    s5 = extract_info(df_party,rec5)\n",
    "    info_s = s1+s2+s3+s4+s5\n",
    "    info_s.name = 'sup_info'\n",
    "    df_party = pd.concat([df_party,info_s],axis=1)\n",
    "    df_party['Party_Sup'] = 1\n",
    "    df_party['Party_Sup'][df_party['sup_info']==''] = 0\n",
    "    return df_party\n",
    "\n",
    "sup_df = party_sup(party_df)"
   ]
  },
  {
   "cell_type": "code",
   "execution_count": 180,
   "metadata": {},
   "outputs": [
    {
     "name": "stdout",
     "output_type": "stream",
     "text": [
      "0    38652\n",
      "1     7664\n",
      "Name: Party_Sup, dtype: int64\n"
     ]
    }
   ],
   "source": [
    "print(sup_df['Party_Sup'].value_counts())\n",
    "sup_df[sup_df['Party_Sup']==1].to_excel(\"C:\\\\Users\\\\win10\\\\Desktop\\\\宝哥数据\\\\sup_info.xlsx\")"
   ]
  },
  {
   "cell_type": "markdown",
   "metadata": {},
   "source": [
    "# Whether to serve as top manager"
   ]
  },
  {
   "cell_type": "code",
   "execution_count": 181,
   "metadata": {},
   "outputs": [
    {
     "name": "stderr",
     "output_type": "stream",
     "text": [
      "F:\\Anaconda3\\lib\\site-packages\\ipykernel_launcher.py:40: SettingWithCopyWarning: \n",
      "A value is trying to be set on a copy of a slice from a DataFrame\n",
      "\n",
      "See the caveats in the documentation: http://pandas.pydata.org/pandas-docs/stable/indexing.html#indexing-view-versus-copy\n"
     ]
    }
   ],
   "source": [
    "# 编写正则表达式\n",
    "\n",
    "# 1. xxxx年至今,含有的[现任]信息优先于[任/历任/先后任]\n",
    "regex1=r'\\d{4}年.*至今.*[^曾]任.*((?:董事会秘书)|(?:总裁)|(?:总经理)|(?:总监)).*'\n",
    "\n",
    "# 2. '[任]...至今'优先级等价于[现任]\n",
    "regex2=r'(?<!至|\\-|—)\\d{4}年.*[^曾]任.*((?:董事会秘书)|(?:总裁)|(?:总经理)|(?:总监)).*[至今|。|\\.]{2}$'  \n",
    "\n",
    "# 3. xxxx年起,含有的[现任]信息优先于[任/历任/先后任]\n",
    "regex3=r'(?<!至|\\-|—)\\d{4}年.*[^至\\-—].*起.*(?<!曾|历|后)任.*((?:董事会秘书)|(?:总裁)|(?:总经理)|(?:总监)).*'  \n",
    "\n",
    "# 4. '[至/——]报告期末'优先级等价于[现任]\n",
    "regex4=r'(\\d{4}.{1,6})?[至\\-—]?报告期末.*[^曾]任.*((?:董事会秘书)|(?:总裁)|(?:总经理)|(?:总监)).{,5}'  \n",
    "\n",
    "# 5. 现任\n",
    "regex5=r'现任.*((?:董事会秘书)|(?:总裁)|(?:总经理)|(?:总监)).*'\n",
    "# 6. 排除匹配到[现任]'不相关职务',历任'相关职务'的特例\n",
    "regex5a=r'现任.*((?:董事会秘书)|(?:总裁)|(?:总经理)|(?:总监)).*(?=历任|曾任|先后任)' \n",
    "\n",
    "# 编译正则表达式\n",
    "rec1 = re.compile(regex1)\n",
    "rec2 = re.compile(regex2)\n",
    "rec3 = re.compile(regex3)\n",
    "rec4 = re.compile(regex4)\n",
    "rec5 = re.compile(regex5)\n",
    "rec5a = re.compile(regex5a)\n",
    "\n",
    "# 在有党职的前提下提取高管信息\n",
    "def party_mgr(df):\n",
    "    df_party = df[df['Party']==1]\n",
    "    s1 = extract_info(df_party,rec1)\n",
    "    s2 = extract_info(df_party,rec2)\n",
    "    s3 = extract_info(df_party,rec3)\n",
    "    s4 = extract_info(df_party,rec4)\n",
    "    s5 = extract_info(df_party,rec5)\n",
    "    info_s = s1+s2+s3+s4+s5\n",
    "    info_s.name = 'mgr_info'\n",
    "    df_party = pd.concat([df_party,info_s],axis=1)\n",
    "    df_party['Party_Mgr'] = 1\n",
    "    df_party['Party_Mgr'][df_party['mgr_info']==''] = 0\n",
    "    return df_party\n",
    "\n",
    "mgr_df = party_mgr(party_df)"
   ]
  },
  {
   "cell_type": "code",
   "execution_count": 182,
   "metadata": {},
   "outputs": [
    {
     "name": "stdout",
     "output_type": "stream",
     "text": [
      "1    23290\n",
      "0    23026\n",
      "Name: Party_Mgr, dtype: int64\n"
     ]
    }
   ],
   "source": [
    "print(mgr_df['Party_Mgr'].value_counts())\n",
    "mgr_df[mgr_df['Party_Mgr']==1].to_excel(\"C:\\\\Users\\\\win10\\\\Desktop\\\\宝哥数据\\\\dir_info.xlsx\")"
   ]
  },
  {
   "cell_type": "markdown",
   "metadata": {},
   "source": [
    "# Whether to hold concurrent posts in the party"
   ]
  },
  {
   "cell_type": "code",
   "execution_count": 183,
   "metadata": {},
   "outputs": [],
   "source": [
    "# 编写正则表达式\n",
    "\n",
    "# 1. xxxx年至今\n",
    "regex1=r'\\d{4}年.*至今.*兼任.*((?:党)|(?:党群)|(?:政协)|(?:人大)).*(?<!秘)[书记|委员|科长|经理|主任]{1,2}'\n",
    "\n",
    "# 2. 兼任...至今\n",
    "regex2=r'(?<!至|\\-|—)\\d{4}年.*兼任.*((?:党)|(?:党群)|(?:政协)|(?:人大)).*(?<!秘)[书记|委员|科长|经理|主任]{1,2}.*[^年月日][至今|。|\\.]{2}$'  \n",
    "\n",
    "# 3. xxxx年起,兼任...\n",
    "regex3=r'(?<!至|\\-|—)\\d{4}年.*[^至\\-—].*起.*兼任.*((?:党)|(?:党群)|(?:政协)|(?:人大)).*(?<!秘)[书记|委员|科长|经理|主任]{1,2}'  \n",
    "\n",
    "# 4. '[至/——]报告期末'优先级等价于[现任]\n",
    "regex4=r'(\\d{4}.{1,6})?[至\\-—]?报告期末.*兼任.*((?:党)|(?:党群)|(?:政协)|(?:人大)).*(?<!秘)[书记|委员|科长|经理|主任]{1,2}' \n",
    "\n",
    "# 5. 兼任...\n",
    "regex5=r'兼任.*((?:党)|(?:党群)|(?:政协)|(?:人大)).*(?<!秘)[书记|委员|科长|经理|主任]{1,2}.*'\n",
    "# 6. 排除匹配到[兼任]'不相关职务',历任'相关职务'的特例\n",
    "regex5a=r'兼任.*((?:党)|(?:党群)|(?:政协)|(?:人大)).*(?<!秘)[书记|委员|科长|经理|主任]{1,2}.*(?=历任|曾任|先后任)' \n",
    "\n",
    "# 编译正则表达式\n",
    "rec1 = re.compile(regex1)\n",
    "rec2 = re.compile(regex2)\n",
    "rec3 = re.compile(regex3)\n",
    "rec4 = re.compile(regex4)\n",
    "rec5 = re.compile(regex5)\n",
    "rec5a = re.compile(regex5a)\n",
    "\n",
    "# 根据正则表达式提取兼任信息\n",
    "def extract_dual_info(df,regex):\n",
    "    info = []\n",
    "    for i in df['Resume']:\n",
    "        j = re.split('。|；|;|\\.',i)\n",
    "        list_info = []\n",
    "        for ii in j:\n",
    "            regx = regex.search(ii)\n",
    "            if regx and regex!=rec5:\n",
    "                list_info.append(regx.group())\n",
    "            elif regx and regex==rec5:\n",
    "                search = re.search('历任|曾任|先后任',regx.group())\n",
    "                if search:\n",
    "                    search_=rec5a.search(regx.group())\n",
    "                    if search_:\n",
    "                        list_info.append(search_.group())\n",
    "                else:\n",
    "                    list_info.append(regx.group())\n",
    "        if list_info==[]:\n",
    "            info.append('')\n",
    "        else:\n",
    "            info.append('。'.join(list_info))\n",
    "    info_series = pd.Series(info,index=df.index)\n",
    "    return info_series\n",
    "\n",
    "# 根据公司名字字段是否出现在兼任信息中以判断是否属于同一集团——可能不准确\n",
    "def party_dual(df):\n",
    "    df_party = df[df['Party']==1]\n",
    "    s1 = extract_dual_info(df_party,rec1)\n",
    "    s2 = extract_dual_info(df_party,rec2)\n",
    "    s3 = extract_dual_info(df_party,rec3)\n",
    "    s4 = extract_dual_info(df_party,rec4)\n",
    "    s5 = extract_dual_info(df_party,rec5)\n",
    "    info_s = s1+s2+s3+s4+s5\n",
    "    info_s.name = 'party_dual_info'\n",
    "    df_party = pd.concat([df_party,info_s],axis=1)\n",
    "    may_dual=[]\n",
    "    for i in df_party.index:\n",
    "        #去掉公司名字中的无意义字段\n",
    "        firm_info = re.sub('集团|股份|公司','',df_party['Coname'][i])\n",
    "        # 根据公司名构造正则表达式——公司名中至少出现两个字\n",
    "        firm_re = '['+firm_info+']' + '{2,6}'\n",
    "        # 编译正则表达式并匹配\n",
    "        re_c = re.compile(firm_re)\n",
    "        match = re_c.search(str(df_party['party_dual_info'][i]))\n",
    "        if match:\n",
    "            may_dual.append(1)\n",
    "        else:\n",
    "            may_dual.append(0)\n",
    "    dual_s = pd.Series(may_dual,index=df_party.index,name='party_dual_may')\n",
    "    df_party = pd.concat([df_party,dual_s],axis=1)\n",
    "    return df_party\n",
    "\n",
    "party_dual_df = party_dual(party_df)"
   ]
  },
  {
   "cell_type": "code",
   "execution_count": 184,
   "metadata": {},
   "outputs": [
    {
     "name": "stdout",
     "output_type": "stream",
     "text": [
      "0    45122\n",
      "1     1194\n",
      "Name: party_dual_may, dtype: int64\n"
     ]
    }
   ],
   "source": [
    "print(party_dual_df['party_dual_may'].value_counts())\n",
    "party_dual_df[party_dual_df['party_dual_info']!=''].to_excel(\n",
    "    \"C:\\\\Users\\\\win10\\\\Desktop\\\\宝哥数据\\\\party_dual_info.xlsx\")"
   ]
  },
  {
   "cell_type": "markdown",
   "metadata": {},
   "source": [
    "# Merge the data"
   ]
  },
  {
   "cell_type": "code",
   "execution_count": 185,
   "metadata": {},
   "outputs": [],
   "source": [
    "from functools import reduce\n",
    "fill_value = lambda x,y: x.combine_first(y)\n",
    "final_data = reduce(fill_value,[party_df,dir_df,sup_df,mgr_df,party_dual_df])"
   ]
  },
  {
   "cell_type": "markdown",
   "metadata": {},
   "source": [
    "# Sort and export data"
   ]
  },
  {
   "cell_type": "code",
   "execution_count": 186,
   "metadata": {},
   "outputs": [],
   "source": [
    "columns = ['stkcd','Coname','Resume','year','league_info','party_info'] + \\\n",
    "          ['dir_info','sup_info','mgr_info','party_dual_info'] + \\\n",
    "         data.columns.tolist()[4:9] + ['party_dual_may'] + data.columns.tolist()[9:]\n",
    "final_data = final_data.reindex(columns=columns)\n",
    "final_data.to_excel(\"C:\\\\Users\\\\win10\\\\Desktop\\\\宝哥数据\\\\mayfinal.xlsx\",)"
   ]
  }
 ],
 "metadata": {
  "kernelspec": {
   "display_name": "Python 3",
   "language": "python",
   "name": "python3"
  },
  "language_info": {
   "codemirror_mode": {
    "name": "ipython",
    "version": 3
   },
   "file_extension": ".py",
   "mimetype": "text/x-python",
   "name": "python",
   "nbconvert_exporter": "python",
   "pygments_lexer": "ipython3",
   "version": "3.6.4"
  },
  "nbTranslate": {
   "displayLangs": [
    "*"
   ],
   "hotkey": "alt-t",
   "langInMainMenu": true,
   "sourceLang": "en",
   "targetLang": "fr",
   "useGoogleTranslate": true
  },
  "toc": {
   "base_numbering": 1,
   "nav_menu": {},
   "number_sections": true,
   "sideBar": true,
   "skip_h1_title": false,
   "title_cell": "Table of Contents",
   "title_sidebar": "Contents",
   "toc_cell": false,
   "toc_position": {},
   "toc_section_display": true,
   "toc_window_display": false
  },
  "varInspector": {
   "cols": {
    "lenName": 16,
    "lenType": 16,
    "lenVar": 40
   },
   "kernels_config": {
    "python": {
     "delete_cmd_postfix": "",
     "delete_cmd_prefix": "del ",
     "library": "var_list.py",
     "varRefreshCmd": "print(var_dic_list())"
    },
    "r": {
     "delete_cmd_postfix": ") ",
     "delete_cmd_prefix": "rm(",
     "library": "var_list.r",
     "varRefreshCmd": "cat(var_dic_list()) "
    }
   },
   "position": {
    "height": "136.2px",
    "left": "963.6px",
    "right": "20px",
    "top": "164px",
    "width": "370.2px"
   },
   "types_to_exclude": [
    "module",
    "function",
    "builtin_function_or_method",
    "instance",
    "_Feature"
   ],
   "window_display": false
  }
 },
 "nbformat": 4,
 "nbformat_minor": 2
}
