{
 "cells": [
  {
   "cell_type": "code",
   "execution_count": 1,
   "metadata": {},
   "outputs": [],
   "source": [
    "import re"
   ]
  },
  {
   "cell_type": "code",
   "execution_count": 125,
   "metadata": {},
   "outputs": [
    {
     "data": {
      "text/plain": [
       "'1984年起至今在本公司工作，历任团委副书记、书记等职，现任本公司工会主席、党委办公室。'"
      ]
     },
     "execution_count": 125,
     "metadata": {},
     "output_type": "execute_result"
    }
   ],
   "source": [
    "s = \"周美容，曾任广东省韶关市煤炭局二矿统计员、韶关市团市委主办科员，1984年起至今在本公司工作，历任团委副书记、书记、党办副主任、主任、办公室主任等职，现任本公司工会主席、党委办公室主任。\"\n",
    "regex = r'\\d{4}年.*至今.*[^曾]任.*[^集兵]团.*[^秘][书记|委员|科长|经理|主任]{1,2}.*'\n",
    "re_c = re.compile(regex)\n",
    "# re_c.search(s).group()\n",
    "# re_c.findall(s)\n",
    "ss = \"周美容，曾任广东省韶关市煤炭局二矿统计员、韶关市团市委主办科员，1984年起至今在本公司工作，历任团委副书记、书记等职，现任本公司工会主席、党委办公室。\"\n",
    "re.search(r'\\d{4}年.*至今.*[^曾]任.*(?<!集|兵)团.*[^秘][书记|委员|科长|经理|主任]{1,2}.*',ss).group()"
   ]
  },
  {
   "cell_type": "code",
   "execution_count": 235,
   "metadata": {},
   "outputs": [
    {
     "data": {
      "text/plain": [
       "['现任aldsjfla团委书记,',\n",
       " '现任本公司总经理，团纪律委员,公司团组织部副主任、主任、办公室主任等职',\n",
       " '',\n",
       " '现任本公司总经理，团纪律委员,',\n",
       " '']"
      ]
     },
     "execution_count": 235,
     "metadata": {},
     "output_type": "execute_result"
    }
   ],
   "source": [
    "st = \"现任aldsjfla团委书记,先后任任党办副主任、主任、办公室主任等职\"\n",
    "st1=\"现任本公司总经理，团纪律委员,公司团组织部副主任、主任、办公室主任等职\"\n",
    "st2 = \"现任本公司总经理,历任公司团组织部副主任、主任、办公室主任等职\"\n",
    "st3=\"现任本公司总经理，团纪律委员,历任公司团组织部副主任、主任、办公室主任等职\"\n",
    "string = st +'。'+ st1+'。' + st2+'。' + st3+'。'\n",
    "def present(string):\n",
    "    st_list = re.split('。',string)\n",
    "    list_info = []\n",
    "    for i in st_list:\n",
    "        re1=re.search(r'现任.*(?<!集|兵)团.*(?<!秘)[书记|委员|科长|经理|主任]{1,2}.*',i)\n",
    "        if re1:\n",
    "            re2 = re.search('历任|曾任|先后任',re1.group())\n",
    "            if re2:\n",
    "                re3 = re.search(r'现任.*(?<!集|兵)团.*(?<!秘)[书记|委员|科长|经理|主任]{1,2}.*(?=历任|曾任|先后任)',re1.group())\n",
    "                if re3:\n",
    "                    list_info.append(re3.group())\n",
    "                else:\n",
    "                    list_info.append('')\n",
    "            else:\n",
    "                list_info.append(re1.group())\n",
    "        else:\n",
    "            list_info.append('')\n",
    "    return list_info\n",
    "present(string)"
   ]
  },
  {
   "cell_type": "code",
   "execution_count": 251,
   "metadata": {},
   "outputs": [
    {
     "data": {
      "text/plain": [
       "',1960年11月出生,硕士研究生,高级经济师.历任陕西工商学院讲师,本公司证券    管理科科长,投资决策办主任,资产管理部经理,广东振业资产管理有限公司总经理,    董事会办公室主任,董事会秘书,总经理助理,副总经理,2006年6月起任本公司董事,总经理,党委副书记.'"
      ]
     },
     "execution_count": 251,
     "metadata": {},
     "output_type": "execute_result"
    }
   ],
   "source": [
    "s = \"男,1960年11月出生,硕士研究生,高级经济师.历任陕西工商学院讲师,本公司证券\\\n",
    "    管理科科长,投资决策办主任,资产管理部经理,广东振业资产管理有限公司总经理,\\\n",
    "    董事会办公室主任,董事会秘书,总经理助理,副总经理,2006年6月起任本公司董事,总经理,党委副书记.\"\n",
    "re2=r'[^至\\-—]\\d{4}年.*[^曾]任.*((?:党)|(?:党群)|(?:政协)|(?:人大)).*(?<!秘)[书记|委员|科长|经理|主任]{1,2}.*[^年月日][至今|。|\\.]{2}$'  \n",
    "re3=r'[^至\\-—]\\d{4}年.*[^至\\-—].*起.*(?<!曾|历|后)任.*((?:党)|(?:党群)|(?:政协)|(?:人大)).*(?<!秘)[书记|委员|科长|经理|主任]{1,2}.*'  \n",
    "r2 = re.compile(re2)\n",
    "r3 = re.compile(re3)\n",
    "# r2.search(s).group()\n",
    "r3.search(s).group()"
   ]
  },
  {
   "cell_type": "code",
   "execution_count": 260,
   "metadata": {},
   "outputs": [
    {
     "data": {
      "text/plain": [
       "['1995年起任公司党委书记至今']"
      ]
     },
     "execution_count": 260,
     "metadata": {},
     "output_type": "execute_result"
    }
   ],
   "source": [
    "sss = \"丁福源，男，1950年出生。大专学历。曾供职于广东省团委旅游部、中国南海石油联合服务总公司、\\\n",
    "南海石油深圳开发服务总公司、南海华信集团公司。1990年进入万科。1991年2月任万科总经理办公室副主任；\\\n",
    "1991年10月任万科人事管理部经理；1995年起任公司党委书记至今。1993年出任公司首届监事会监事。\\\n",
    "1995年出任公司监事会主席至今。\"\n",
    "regex2=r'(?<!至|\\-|—)\\d{4}年.*[^曾]任.*((?:党)|(?:党群)|(?:政协)|(?:人大)).*(?<!秘)[书记|委员|科长|经理|主任]{1,2}.*[^年月日][至今|。|\\.]{2}$'  \n",
    "re2 = re.compile(regex2)\n",
    "spt = re.split('。|；|;|\\.',sss)\n",
    "lst=[]\n",
    "for i in spt:\n",
    "    se = re2.search(i)\n",
    "    if se:\n",
    "        lst.append(se.group())\n",
    "# spt\n",
    "lst"
   ]
  },
  {
   "cell_type": "code",
   "execution_count": 290,
   "metadata": {},
   "outputs": [
    {
     "data": {
      "text/plain": [
       "['2006年6月起任本公司副总裁，2013年5月起任本公司总裁，2013年6月起任本公司董事、党委副书记']"
      ]
     },
     "execution_count": 290,
     "metadata": {},
     "output_type": "execute_result"
    }
   ],
   "source": [
    "ssss = \"蒋灿明：高级工程师。历任深圳市第5建筑工程公司项目经理、深圳市建设投资控股公司海外业务部项目经理、\\\n",
    "香港迅捷建筑有限公司项目经理、深圳市建设投资控股公司工程总承包部副经理、本公司策划设计部经理，\\\n",
    "湖南振业房地产开发有限公司董事长、广西振业房地产股份有限公司董事长，2006年6月起任本公司副总裁，\\\n",
    "2013年5月起任本公司总裁，2013年6月起任本公司董事、党委副书记。\"\n",
    "# 编写正则表达式\n",
    "\n",
    "# 1. xxxx年至今,含有的[现任]信息优先于[任/历任/先后任]\n",
    "regex1=r'\\d{4}年.*至今.*[^曾]任.*((?:党)|(?:党群)|(?:政协)|(?:人大)).*(?<!秘)[书记|委员|科长|经理|主任]{1,2}.*'\n",
    "\n",
    "# 2. '[任]...至今'优先级等价于[现任]\n",
    "regex2=r'(?<!至|\\-|—)\\d{4}年.*[^曾]任.*((?:党)|(?:党群)|(?:政协)|(?:人大)).*(?<!秘)[书记|委员|科长|经理|主任]{1,2}.*[^年月日][至今|。|\\.]{2}$'  \n",
    "\n",
    "# 3. xxxx年起,含有的[现任]信息优先于[任/历任/先后任]\n",
    "regex3=r'(?<!至|\\-|—)\\d{4}年.*[^至\\-—].*起.*(?<!曾|历|后)任.*((?:党)|(?:党群)|(?:政协)|(?:人大)).*(?<!秘)[书记|委员|科长|经理|主任]{1,2}.*'  \n",
    "\n",
    "# 4. '[至/——]报告期末'优先级等价于[现任]\n",
    "regex4=r'(\\d{4}.{1,6})?[至\\-—]?报告期末.*[^曾]任.*((?:党)|(?:党群)|(?:政协)|(?:人大)).*(?<!秘)[书记|委员|科长|经理|主任]{1,2}'  \n",
    "\n",
    "# 5. 现任\n",
    "regex5=r'现任.*((?:党)|(?:党群)|(?:政协)|(?:人大)).*(?<!秘)[书记|委员|科长|经理|主任]{1,2}.*'\n",
    "# 6. 排除匹配到[现任]'不相关职务',历任'相关职务'的特例\n",
    "regex5a=r'现任.*((?:党)|(?:党群)|(?:政协)|(?:人大)).*(?<!秘)[书记|委员|科长|经理|主任]{1,2}.*(?=历任|曾任|先后任)' \n",
    "\n",
    "\n",
    "# 编译正则表达式\n",
    "rec1 = re.compile(regex1)\n",
    "rec2 = re.compile(regex2)\n",
    "rec3 = re.compile(regex3)\n",
    "rec4 = re.compile(regex4)\n",
    "rec5 = re.compile(regex5)\n",
    "rec5a = re.compile(regex5a)\n",
    "spl = re.split('。|；|;|\\.',ssss)\n",
    "lst=[]\n",
    "for i in spl:\n",
    "    se = rec3.search(i)\n",
    "    if se:\n",
    "        lst.append(se.group())\n",
    "# spl\n",
    "lst"
   ]
  },
  {
   "cell_type": "code",
   "execution_count": 305,
   "metadata": {},
   "outputs": [
    {
     "name": "stdout",
     "output_type": "stream",
     "text": [
      "raw： 蒋灿明：高级工程师\n",
      "search:None\n",
      "raw： 历任深圳市第5建筑工程公司项目经理、深圳市建设投资控股公司海外业务部项目经理、香港迅捷建筑有限公司项目经理、深圳市建设投资控股公司工程总承包部副经理、本公司策划设计部经理，湖南振业房地产开发有限公司董事长、广西振业房地产股份有限公司董事长，2006年6月起任本公司副总裁，2013年5月起任本公司总裁，2013年6月起任本公司董事、党委副书记\n",
      "search: 2006年6月起任本公司副总裁，2013年5月起任本公司总裁，2013年6月起任本公司董事、党委副书记\n",
      "list_info: ['2006年6月起任本公司副总裁，2013年5月起任本公司总裁，2013年6月起任本公司董事、党委副书记']\n",
      "raw： \n",
      "search:None\n"
     ]
    },
    {
     "data": {
      "text/plain": [
       "['2006年6月起任本公司副总裁，2013年5月起任本公司总裁，2013年6月起任本公司董事、党委副书记']"
      ]
     },
     "execution_count": 305,
     "metadata": {},
     "output_type": "execute_result"
    }
   ],
   "source": [
    "def extract_inf(s,regex):\n",
    "    j = re.split('。|；|;|\\.',s)\n",
    "    list_info = []\n",
    "    for ii in j:\n",
    "        print('raw：',ii)\n",
    "        regx = regex.search(ii)\n",
    "        try:\n",
    "            print('search:',regx.group())\n",
    "        except:\n",
    "            print('search:None')\n",
    "        if regx:\n",
    "            if regex==rec2 or regex==rec4:\n",
    "                list_info.append(regx.group())\n",
    "            elif regex==rec1 or regex==rec3:\n",
    "                search1 = re.search('现任',regx.group())\n",
    "                if search1:\n",
    "                    search2=rec5.search(regx.group())\n",
    "                    if search2:\n",
    "                        search3=re.search('历任|曾任|先后任',search2.group())\n",
    "                        if search3:\n",
    "                            search4=rec5a.search(search2.group())\n",
    "                            if search4:\n",
    "                                list_info.append(search4.group())\n",
    "                        else:\n",
    "                            list_info.append(search2.group())\n",
    "                else:\n",
    "                    list_info.append(regx.group())\n",
    "                    print('list_info:',list_info)\n",
    "            elif regex==rec5:\n",
    "                search5 = re.search('历任|曾任|先后任',regx.group())\n",
    "                if search5:\n",
    "                    search5a = rec5a.search(regx.group())\n",
    "                    if search5a:\n",
    "                        list_info.append(search5a.group())\n",
    "                else:\n",
    "                    list_info.append(regx.group())\n",
    "    return list_info\n",
    "\n",
    "extract_inf(ssss,rec3)"
   ]
  }
 ],
 "metadata": {
  "kernelspec": {
   "display_name": "Python 3",
   "language": "python",
   "name": "python3"
  },
  "language_info": {
   "codemirror_mode": {
    "name": "ipython",
    "version": 3
   },
   "file_extension": ".py",
   "mimetype": "text/x-python",
   "name": "python",
   "nbconvert_exporter": "python",
   "pygments_lexer": "ipython3",
   "version": "3.6.4"
  },
  "nbTranslate": {
   "displayLangs": [
    "*"
   ],
   "hotkey": "alt-t",
   "langInMainMenu": true,
   "sourceLang": "en",
   "targetLang": "fr",
   "useGoogleTranslate": true
  },
  "toc": {
   "base_numbering": 1,
   "nav_menu": {},
   "number_sections": true,
   "sideBar": true,
   "skip_h1_title": false,
   "title_cell": "Table of Contents",
   "title_sidebar": "Contents",
   "toc_cell": false,
   "toc_position": {},
   "toc_section_display": true,
   "toc_window_display": false
  },
  "varInspector": {
   "cols": {
    "lenName": 16,
    "lenType": 16,
    "lenVar": 40
   },
   "kernels_config": {
    "python": {
     "delete_cmd_postfix": "",
     "delete_cmd_prefix": "del ",
     "library": "var_list.py",
     "varRefreshCmd": "print(var_dic_list())"
    },
    "r": {
     "delete_cmd_postfix": ") ",
     "delete_cmd_prefix": "rm(",
     "library": "var_list.r",
     "varRefreshCmd": "cat(var_dic_list()) "
    }
   },
   "types_to_exclude": [
    "module",
    "function",
    "builtin_function_or_method",
    "instance",
    "_Feature"
   ],
   "window_display": false
  }
 },
 "nbformat": 4,
 "nbformat_minor": 2
}
