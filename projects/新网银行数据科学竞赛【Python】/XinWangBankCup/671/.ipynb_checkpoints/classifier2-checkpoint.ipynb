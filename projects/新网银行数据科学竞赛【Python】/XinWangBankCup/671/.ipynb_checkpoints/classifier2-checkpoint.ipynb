{
 "cells": [
  {
   "cell_type": "markdown",
   "metadata": {},
   "source": [
    "# preprocess"
   ]
  },
  {
   "cell_type": "code",
   "execution_count": 90,
   "metadata": {},
   "outputs": [],
   "source": [
    "import matplotlib.pyplot as plt\n",
    "%matplotlib inline\n",
    "from jupyterthemes import jtplot\n",
    "jtplot.style(theme='gruvboxd')\n",
    "jtplot.style(context='talk', fscale=1.4, spines=False, gridlines='--')\n",
    "jtplot.style(ticks=True, grid=False, figsize=(6.5, 5))"
   ]
  },
  {
   "cell_type": "code",
   "execution_count": 91,
   "metadata": {},
   "outputs": [],
   "source": [
    "import pandas as pd\n",
    "train_xy = pd.read_csv(\"F:/Sublime Text 3/Files/Python/XinWangBankCup/train_xy_clean.csv\",\n",
    "                       index_col=[\"cust_group\",\"cust_id\"])\n",
    "X = train_xy.drop(\"y\",axis=1)\n",
    "y = train_xy.y"
   ]
  },
  {
   "cell_type": "code",
   "execution_count": 92,
   "metadata": {},
   "outputs": [],
   "source": [
    "from sklearn.model_selection import train_test_split\n",
    "from sklearn.model_selection import StratifiedKFold\n",
    "\n",
    "train_x,test_x,train_y,test_y = train_test_split(X,y,stratify=y)\n",
    "sfk = StratifiedKFold(n_splits=3,shuffle=True,random_state=111)"
   ]
  },
  {
   "cell_type": "markdown",
   "metadata": {},
   "source": [
    "# define metrics"
   ]
  },
  {
   "cell_type": "code",
   "execution_count": 93,
   "metadata": {},
   "outputs": [],
   "source": [
    "import itertools\n",
    "from sklearn.model_selection import learning_curve\n",
    "from sklearn.metrics import classification_report,roc_curve,roc_auc_score,confusion_matrix,auc"
   ]
  },
  {
   "cell_type": "markdown",
   "metadata": {},
   "source": [
    "## confusion matrix"
   ]
  },
  {
   "cell_type": "code",
   "execution_count": 94,
   "metadata": {},
   "outputs": [],
   "source": [
    "def plot_confusion_matrix(cm, classes,\n",
    "                          normalize=False,\n",
    "                          title='Confusion matrix',\n",
    "                          cmap=plt.cm.Blues):\n",
    "    \"\"\"\n",
    "    This function prints and plots the confusion matrix.\n",
    "    Normalization can be applied by setting `normalize=True`.\n",
    "    \"\"\"\n",
    "    if normalize:\n",
    "        cm = cm.astype('float') / cm.sum(axis=1)[:, np.newaxis]\n",
    "\n",
    "    plt.figure()\n",
    "    plt.imshow(cm, interpolation='nearest', cmap=cmap)\n",
    "    plt.title(title)\n",
    "    plt.colorbar()\n",
    "    tick_marks = np.arange(len(classes))\n",
    "    plt.xticks(tick_marks, classes, rotation=45)\n",
    "    plt.yticks(tick_marks, classes)\n",
    "\n",
    "    fmt = '.2f' if normalize else 'd'\n",
    "    thresh = cm.max() / 2.\n",
    "    for i, j in itertools.product(range(cm.shape[0]), range(cm.shape[1])):\n",
    "        plt.text(j, i, format(cm[i, j], fmt),\n",
    "                 horizontalalignment=\"center\",\n",
    "                 color=\"white\" if cm[i, j] > thresh else \"black\")\n",
    "\n",
    "    plt.tight_layout()\n",
    "    plt.ylabel('True label')\n",
    "    plt.xlabel('Predicted label')\n",
    "    return plt"
   ]
  },
  {
   "cell_type": "markdown",
   "metadata": {},
   "source": [
    "## learning_curve"
   ]
  },
  {
   "cell_type": "code",
   "execution_count": 95,
   "metadata": {},
   "outputs": [],
   "source": [
    "def plot_learning_curve(estimator,title,X,y,ylim=None,cv=None,\\\n",
    "\t\t\t\t\t\tn_jobs=-1,train_sizes=np.linspace(0.1,1.0, 5)):\n",
    "\tplt.title(title)\n",
    "\tif ylim is not None:\n",
    "\t\tplt.ylim(*ylim)\n",
    "\tplt.xlabel('Training Examples')\n",
    "\tplt.ylabel('Score')\n",
    "\ttrain_sizes,train_scores,test_scores = learning_curve(estimator, X, y,\\\n",
    "\t\t\t\t\t\t\t\t\tcv=cv,n_jobs=n_jobs,train_sizes=train_sizes) # key step\n",
    "\ttrain_scores_mean = np.mean(train_scores,axis=1)\n",
    "\ttrain_scores_std = np.std(train_scores,axis=1)\n",
    "\ttest_scores_mean = np.mean(test_scores,axis=1)\n",
    "\ttest_scores_std = np.std(test_scores,axis=1)\n",
    "\tplt.grid()\n",
    "\tplt.fill_between(train_sizes,train_scores_mean-train_scores_std,\\\n",
    "\t\t\t\t\ttrain_scores_mean+train_scores_std,alpha=0.1,color='r')\n",
    "\tplt.fill_between(train_sizes,test_scores_mean-test_scores_std,\\\n",
    "\t\t\t\t\ttest_scores_mean+test_scores_std,alpha=0.1,color='g')\n",
    "\tplt.plot(train_sizes,train_scores_mean,'o-',color='r',label='Training score')\n",
    "\tplt.plot(train_sizes,test_scores_mean,'o-',color='g',label='Cross-Validation score')\n",
    "\tplt.legend(loc='best')\n",
    "\treturn plt"
   ]
  },
  {
   "cell_type": "markdown",
   "metadata": {},
   "source": [
    "# model evaluation info"
   ]
  },
  {
   "cell_type": "code",
   "execution_count": 96,
   "metadata": {},
   "outputs": [],
   "source": [
    "def eval_info(model,test_y,y_pred_prob,\n",
    "                  cm,classes=y.unique(),normalize=False):\n",
    "    print(\"------%s classification_report------\\n\" % model.__class__.__name__,\n",
    "          classification_report(test_y,y_pred))\n",
    "    \n",
    "    plot_confusion_matrix(cm, classes,\n",
    "                          normalize=False,\n",
    "                          title='Confusion matrix',\n",
    "                          cmap=plt.cm.Blues)\n",
    "    \n",
    "    print(\"auc:\",roc_auc_score(test_y,y_pred_prob))\n",
    "#     print(\"auc(y_pred):\",roc_auc_score(test_y,y_pred))\n",
    "#     fpr, tpr, thresholds = roc_curve(test_y,y_pred_prob,pos_label=1)\n",
    "#     auc_ = auc(fpr, tpr)\n",
    "#     print(\"auc(fpr,tpr):\",auc_)"
   ]
  },
  {
   "cell_type": "markdown",
   "metadata": {},
   "source": [
    "# xgboost"
   ]
  },
  {
   "cell_type": "code",
   "execution_count": 97,
   "metadata": {},
   "outputs": [],
   "source": [
    "# import xgboost as xgb\n",
    "# dtrain = xgb.DMatrix(train_x,label=train_y)\n",
    "# dtest = xgb.DMatrix(test_x)"
   ]
  },
  {
   "cell_type": "code",
   "execution_count": 109,
   "metadata": {
    "deletable": false,
    "editable": false,
    "run_control": {
     "frozen": true
    }
   },
   "outputs": [
    {
     "name": "stdout",
     "output_type": "stream",
     "text": [
      "best score: 0.807741 \n",
      " best model: XGBClassifier(base_score=0.5, booster='gbtree', colsample_bylevel=1,\n",
      "       colsample_bytree=0.6, gamma=0.05, learning_rate=0.05,\n",
      "       max_delta_step=0, max_depth=3, min_child_weight=5, missing=-1,\n",
      "       n_estimators=145, n_jobs=1, nthread=None,\n",
      "       objective='binary:logistic', random_state=0, reg_alpha=7,\n",
      "       reg_lambda=5, scale_pos_weight=20.678362573099417, seed=None,\n",
      "       silent=True, subsample=0.8)\n"
     ]
    },
    {
     "name": "stderr",
     "output_type": "stream",
     "text": [
      "F:\\Anaconda3\\lib\\site-packages\\sklearn\\preprocessing\\label.py:151: DeprecationWarning: The truth value of an empty array is ambiguous. Returning False, but in future this will result in an error. Use `array.size > 0` to check that an array is not empty.\n",
      "  if diff:\n",
      "F:\\Anaconda3\\lib\\site-packages\\sklearn\\preprocessing\\label.py:151: DeprecationWarning: The truth value of an empty array is ambiguous. Returning False, but in future this will result in an error. Use `array.size > 0` to check that an array is not empty.\n",
      "  if diff:\n",
      "F:\\Anaconda3\\lib\\site-packages\\sklearn\\preprocessing\\label.py:151: DeprecationWarning: The truth value of an empty array is ambiguous. Returning False, but in future this will result in an error. Use `array.size > 0` to check that an array is not empty.\n",
      "  if diff:\n"
     ]
    },
    {
     "name": "stdout",
     "output_type": "stream",
     "text": [
      "------XGBClassifier classification_report------\n",
      "              precision    recall  f1-score   support\n",
      "\n",
      "          0       0.98      0.74      0.84      3537\n",
      "          1       0.11      0.68      0.19       171\n",
      "\n",
      "avg / total       0.94      0.74      0.81      3708\n",
      "\n",
      "auc: 0.8001659978803857\n",
      "train_score: 0.7582051973743369 \n",
      " test_score: 0.738403451995685\n"
     ]
    },
    {
     "data": {
      "image/png": "[encoded data removed]",
      "text/plain": [
       "<Figure size 374.4x288 with 2 Axes>"
      ]
     },
     "metadata": {},
     "output_type": "display_data"
    }
   ],
   "source": [
    "from xgboost.sklearn import XGBClassifier\n",
    "from sklearn.model_selection import GridSearchCV\n",
    "\n",
    "param_grid = {\n",
    "    'booster':['gbtree'],\n",
    "    'objective': ['binary:logistic'],\n",
    "    'n_estimators':[145],\n",
    "    'max_depth':[3],\n",
    "    'learning_rate':[0.05],\n",
    "    'min_child_weight':[5],\n",
    "    'gamma':[0.05],\n",
    "    'subsample': [0.8],\n",
    "    'colsample_bytree': [0.6],\n",
    "    'reg_alpha': [7],\n",
    "    'reg_lambda': [5],\n",
    "    'scale_pos_weight':[float(len(train_y)-sum(train_y))/float(sum(train_y))],\n",
    "    'random_state':[0],\n",
    "#     'n_jobs': [-1],\n",
    "    'missing': [-1],\n",
    "    'silent':[True],\n",
    "}\n",
    "\n",
    "XGB = GridSearchCV(XGBClassifier(),param_grid,cv=sfk,scoring='roc_auc')#,iid=False)\n",
    "XGB.fit(train_x,train_y)\n",
    "\n",
    "print(\"best score: %f \\n best model: %s\" % (XGB.best_score_, XGB.best_estimator_))\n",
    "\n",
    "XGB_best = XGB.best_estimator_\n",
    "y_pred = XGB_best.predict(test_x)\n",
    "y_pred_prob = XGB_best.predict_proba(test_x)[:,1]\n",
    "train_score = XGB_best.score(train_x,train_y)\n",
    "test_score = XGB_best.score(test_x,test_y)\n",
    "cm = confusion_matrix(test_y,y_pred)\n",
    "\n",
    "eval_info(XGB_best,test_y,y_pred_prob,cm)\n",
    "print( \"train_score:\",train_score,\"\\n\",\"test_score:\",test_score)"
   ]
  },
  {
   "cell_type": "code",
   "execution_count": 141,
   "metadata": {},
   "outputs": [
    {
     "name": "stdout",
     "output_type": "stream",
     "text": [
      "best_xgb_cv_auc: [0.82517874 0.82720417 0.7959636  0.78259579 0.80249984]\n"
     ]
    }
   ],
   "source": [
    "# save model\n",
    "import pickle\n",
    "XGB_best.save_model(\"./best_models/xgb.txt\")\n",
    "with open(\"./best_models/xgb_pkl.txt\",'wb') as f:\n",
    "    pickle.dump(XGB_best,f)\n",
    "\n",
    "# cross-validation\n",
    "from sklearn.cross_validation import cross_val_score\n",
    "xgb_cv_auc = cross_val_score(XGB_best,X,y,cv=5,scoring=\"roc_auc\")\n",
    "print(\"best_xgb_cv_auc:\",xgb_cv_auc)"
   ]
  },
  {
   "cell_type": "code",
   "execution_count": null,
   "metadata": {},
   "outputs": [],
   "source": [
    "# first predict\n",
    "test_all = pd.read_csv(\"test_all_clean.csv\",index_col=['cust_group','cust_id']).fillna(-1)\n",
    "y_pred = XGB_best.predict(test_all)\n",
    "y_pred_prob = XGB_best.predict_proba(test_all)[:,1]\n",
    "\n",
    "print(pd.Series(y_pred).value_counts())\n",
    "pred_result = pd.Series(y_pred_prob,index=test_all.index.get_level_values(level=1),name=\"pred_prob\")\n",
    "pred_result.index.name = \"cust_id\"\n",
    "pred_result.sort_index().to_csv(\"./pred_result.csv\",header=True)"
   ]
  },
  {
   "cell_type": "markdown",
   "metadata": {},
   "source": [
    "# bagging-xgb(无多样性)"
   ]
  },
  {
   "cell_type": "code",
   "execution_count": 110,
   "metadata": {
    "deletable": false,
    "editable": false,
    "run_control": {
     "frozen": true
    }
   },
   "outputs": [
    {
     "name": "stdout",
     "output_type": "stream",
     "text": [
      "------BaggingClassifier classification_report------\n",
      "              precision    recall  f1-score   support\n",
      "\n",
      "          0       0.98      0.78      0.87      3537\n",
      "          1       0.12      0.63      0.21       171\n",
      "\n",
      "avg / total       0.94      0.78      0.84      3708\n",
      "\n",
      "auc: 0.8008918252657372\n",
      "train_score: 0.7948925456343854 \n",
      " test_score: 0.7766990291262136\n"
     ]
    },
    {
     "data": {
      "image/png": "[encoded data removed]",
      "text/plain": [
       "<Figure size 374.4x288 with 2 Axes>"
      ]
     },
     "metadata": {},
     "output_type": "display_data"
    }
   ],
   "source": [
    "from sklearn.ensemble import BaggingClassifier\n",
    "\n",
    "param_grid = {\n",
    "    'booster':'gbtree',\n",
    "    'objective': 'binary:logistic',\n",
    "    'n_estimators':145,\n",
    "    'max_depth':3,\n",
    "    'learning_rate':0.05,\n",
    "    'min_child_weight':5,\n",
    "    'gamma':0.05,\n",
    "    'subsample': 0.8,\n",
    "    'colsample_bytree': 0.6,\n",
    "    'reg_alpha': 7,\n",
    "    'reg_lambda': 5,\n",
    "    'scale_pos_weight':float(len(train_y)-sum(train_y))/float(sum(train_y)),\n",
    "    'random_state':0,\n",
    "#     'n_jobs': [-1],\n",
    "    'missing': -1,\n",
    "    'silent':True,\n",
    "}\n",
    "\n",
    "bagging_xgb = BaggingClassifier(XGBClassifier().set_params(**param_grid),n_estimators=10)\n",
    "bagging_xgb.fit(train_x,train_y)\n",
    "train_score = bagging_xgb.score(train_x,train_y)\n",
    "test_score = bagging_xgb.score(test_x,test_y)\n",
    "y_pred = bagging_xgb.predict(test_x)\n",
    "y_pred_prob = bagging_xgb.predict_proba(test_x)[:,1]\n",
    "\n",
    "cm = confusion_matrix(test_y,y_pred)\n",
    "eval_info(bagging_xgb,test_y,y_pred_prob,cm)\n",
    "\n",
    "print( \"train_score:\",train_score,\"\\n\",\"test_score:\",test_score)"
   ]
  },
  {
   "cell_type": "markdown",
   "metadata": {},
   "source": [
    "# random forest"
   ]
  },
  {
   "cell_type": "code",
   "execution_count": 125,
   "metadata": {
    "deletable": false,
    "editable": false,
    "run_control": {
     "frozen": true
    }
   },
   "outputs": [
    {
     "name": "stdout",
     "output_type": "stream",
     "text": [
      "best score: 0.801000 \n",
      " best model: RandomForestClassifier(bootstrap=True, class_weight='balanced',\n",
      "            criterion='entropy', max_depth=6, max_features='auto',\n",
      "            max_leaf_nodes=None, min_impurity_decrease=0.0,\n",
      "            min_impurity_split=None, min_samples_leaf=1,\n",
      "            min_samples_split=2, min_weight_fraction_leaf=0.0,\n",
      "            n_estimators=100, n_jobs=1, oob_score=False, random_state=222,\n",
      "            verbose=0, warm_start=False)\n",
      "------RandomForestClassifier classification_report------\n",
      "              precision    recall  f1-score   support\n",
      "\n",
      "          0       0.98      0.79      0.87      3537\n",
      "          1       0.12      0.58      0.19       171\n",
      "\n",
      "avg / total       0.94      0.78      0.84      3708\n",
      "\n",
      "auc: 0.7889165000901084\n",
      "train_score: 0.7943530258070317 \n",
      " test_score: 0.7764293419633226\n"
     ]
    },
    {
     "data": {
      "image/png": "[encoded data removed]",
      "text/plain": [
       "<Figure size 374.4x288 with 2 Axes>"
      ]
     },
     "metadata": {},
     "output_type": "display_data"
    }
   ],
   "source": [
    "from sklearn.model_selection import GridSearchCV\n",
    "from sklearn.ensemble import RandomForestClassifier\n",
    "\n",
    "param_grid = {\n",
    "            'criterion':['entropy'],\n",
    "            'n_estimators':[100],\n",
    "            'class_weight':[\"balanced\"],\n",
    "#             'max_features':[\"sqrt\"],\n",
    "            'max_depth':[6],\n",
    "#              \"min_samples_split\":[], # 样本量不大不需管\n",
    "#               \"min_samples_leaf\":[], # 样本量不大不需管\n",
    "#             \"max_leaf_nodes\":[13,15,20],\n",
    "#             'min_impurity_decrease':[0],\n",
    "#             'n_jobs':[-1],\n",
    "            'random_state':[222],\n",
    "             }\n",
    "\n",
    "RF = GridSearchCV(RandomForestClassifier(),param_grid,cv=sfk,scoring='roc_auc')\n",
    "RF.fit(train_x,train_y)\n",
    "\n",
    "print(\"best score: %f \\n best model: %s\" % (RF.best_score_, RF.best_estimator_))\n",
    "RF_best = RF.best_estimator_\n",
    "train_score = RF_best.score(train_x,train_y)\n",
    "test_score = RF_best.score(test_x,test_y)\n",
    "y_pred = RF_best.predict(test_x)\n",
    "y_pred_prob = RF_best.predict_proba(test_x)[:,1]\n",
    "cm = confusion_matrix(test_y,y_pred)\n",
    "\n",
    "eval_info(RF_best,test_y,y_pred_prob,cm)\n",
    "print( \"train_score:\",train_score,\"\\n\",\"test_score:\",test_score)"
   ]
  },
  {
   "cell_type": "code",
   "execution_count": 142,
   "metadata": {},
   "outputs": [
    {
     "name": "stdout",
     "output_type": "stream",
     "text": [
      "best_RF_cv_auc: [0.80598494 0.81525545 0.78818184 0.78341887 0.78756264]\n"
     ]
    }
   ],
   "source": [
    "# save model\n",
    "import pickle\n",
    "with open(\"./best_models/RF_pkl.txt\",'wb') as f:\n",
    "    pickle.dump(RF_best,f)\n",
    "\n",
    "# cross-validation\n",
    "from sklearn.cross_validation import cross_val_score\n",
    "RF_cv_auc = cross_val_score(RF_best,X,y,cv=5,scoring=\"roc_auc\")\n",
    "print(\"best_RF_cv_auc:\",RF_cv_auc)"
   ]
  },
  {
   "cell_type": "markdown",
   "metadata": {},
   "source": [
    "# extra trees"
   ]
  },
  {
   "cell_type": "code",
   "execution_count": 135,
   "metadata": {
    "deletable": false,
    "editable": false,
    "run_control": {
     "frozen": true
    }
   },
   "outputs": [
    {
     "name": "stdout",
     "output_type": "stream",
     "text": [
      "best score: 0.785935 \n",
      " best model: ExtraTreesClassifier(bootstrap=False, class_weight='balanced',\n",
      "           criterion='entropy', max_depth=8, max_features='auto',\n",
      "           max_leaf_nodes=None, min_impurity_decrease=0.0,\n",
      "           min_impurity_split=None, min_samples_leaf=1,\n",
      "           min_samples_split=2, min_weight_fraction_leaf=0.0,\n",
      "           n_estimators=140, n_jobs=1, oob_score=False, random_state=222,\n",
      "           verbose=0, warm_start=False)\n",
      "------ExtraTreesClassifier classification_report------\n",
      "              precision    recall  f1-score   support\n",
      "\n",
      "          0       0.97      0.77      0.86      3537\n",
      "          1       0.11      0.58      0.18       171\n",
      "\n",
      "avg / total       0.93      0.76      0.83      3708\n",
      "\n",
      "auc: 0.7769064542422875\n",
      "train_score: 0.7862602283967269 \n",
      " test_score: 0.761326860841424\n"
     ]
    },
    {
     "data": {
      "image/png": "[encoded data removed]",
      "text/plain": [
       "<Figure size 374.4x288 with 2 Axes>"
      ]
     },
     "metadata": {},
     "output_type": "display_data"
    }
   ],
   "source": [
    "from sklearn.model_selection import GridSearchCV\n",
    "from sklearn.ensemble import ExtraTreesClassifier\n",
    "\n",
    "param_grid = {\n",
    "            'criterion':['entropy'],\n",
    "            'n_estimators':[140],\n",
    "            'class_weight':[\"balanced\"],\n",
    "#             'max_features':[\"sqrt\"],\n",
    "            'max_depth':[8],\n",
    "#              \"min_samples_split\":[], # 样本量不大不需管\n",
    "#               \"min_samples_leaf\":[], # 样本量不大不需管\n",
    "#             \"max_leaf_nodes\":[13,15,20],\n",
    "#             'min_impurity_decrease':[0],\n",
    "#             'n_jobs':[-1],\n",
    "            'random_state':[222],\n",
    "             }\n",
    "\n",
    "ET = GridSearchCV(ExtraTreesClassifier(),param_grid,cv=sfk,scoring='roc_auc')\n",
    "ET.fit(train_x,train_y)\n",
    "\n",
    "print(\"best score: %f \\n best model: %s\" % (ET.best_score_,ET.best_estimator_))\n",
    "\n",
    "ET_best = ET.best_estimator_\n",
    "train_score = ET_best.score(train_x,train_y)\n",
    "test_score = ET_best.score(test_x,test_y)\n",
    "y_pred = ET_best.predict(test_x)\n",
    "y_pred_prob = ET_best.predict_proba(test_x)[:,1]\n",
    "cm = confusion_matrix(test_y,y_pred)\n",
    "\n",
    "eval_info(ET_best,test_y,y_pred_prob,cm)\n",
    "print( \"train_score:\",train_score,\"\\n\",\"test_score:\",test_score)"
   ]
  },
  {
   "cell_type": "code",
   "execution_count": 143,
   "metadata": {},
   "outputs": [
    {
     "name": "stdout",
     "output_type": "stream",
     "text": [
      "best_RF_cv_auc [0.79962226 0.80839223 0.78126959 0.77786894 0.76878392]\n"
     ]
    }
   ],
   "source": [
    "# save model\n",
    "import pickle\n",
    "with open(\"./best_models/ET_pkl.txt\",'wb') as f:\n",
    "    pickle.dump(ET_best,f)\n",
    "\n",
    "# cross-validation\n",
    "from sklearn.cross_validation import cross_val_score\n",
    "ET_cv_auc = cross_val_score(ET_best,X,y,cv=5,scoring=\"roc_auc\")\n",
    "print(\"best_RF_cv_auc\",ET_cv_auc)"
   ]
  },
  {
   "cell_type": "code",
   "execution_count": 144,
   "metadata": {},
   "outputs": [
    {
     "name": "stdout",
     "output_type": "stream",
     "text": [
      "best score: 0.801306 \n",
      " best model: AdaBoostClassifier(algorithm='SAMME.R',\n",
      "          base_estimator=RandomForestClassifier(bootstrap=True, class_weight='balanced',\n",
      "            criterion='entropy', max_depth=6, max_features='auto',\n",
      "            max_leaf_nodes=None, min_impurity_decrease=0.0,\n",
      "            min_impurity_split=None, min_samples_leaf=1,\n",
      "            min_samples_split=2, min_weight_fraction_leaf=0.0,\n",
      "            n_estimators=100, n_jobs=1, oob_score=False, random_state=222,\n",
      "            verbose=0, warm_start=False),\n",
      "          learning_rate=0.03, n_estimators=40, random_state=999)\n",
      "------AdaBoostClassifier classification_report------\n",
      "              precision    recall  f1-score   support\n",
      "\n",
      "          0       0.98      0.78      0.87      3537\n",
      "          1       0.12      0.63      0.21       171\n",
      "\n",
      "avg / total       0.94      0.78      0.84      3708\n",
      "\n",
      "auc: 0.7952869167547084\n",
      "train_score: 0.7936336660372268 \n",
      " test_score: 0.7756202804746494\n"
     ]
    },
    {
     "data": {
      "image/png": "[encoded data removed]",
      "text/plain": [
       "<Figure size 374.4x288 with 2 Axes>"
      ]
     },
     "metadata": {},
     "output_type": "display_data"
    }
   ],
   "source": [
    "from sklearn.ensemble import AdaBoostClassifier\n",
    "from sklearn.model_selection import GridSearchCV\n",
    "\n",
    "param_grid = {\n",
    "    'base_estimator':[RF_best],#[DT_best],\n",
    "    'n_estimators':[40],\n",
    "    'learning_rate':[0.03],\n",
    "    'random_state':[999],\n",
    "}\n",
    "\n",
    "ADAB = GridSearchCV(AdaBoostClassifier(),param_grid,cv=sfk,scoring=\"roc_auc\")\n",
    "ADAB.fit(train_x,train_y)\n",
    "\n",
    "print(\"best score: %f \\n best model: %s\" % (ADAB.best_score_,ADAB.best_estimator_))\n",
    "\n",
    "ADAB_best = ADAB.best_estimator_\n",
    "train_score = ADAB_best.score(train_x,train_y)\n",
    "test_score = ADAB_best.score(test_x,test_y)\n",
    "y_pred = ADAB_best.predict(test_x)\n",
    "y_pred_prob = ADAB_best.predict_proba(test_x)[:,1]\n",
    "cm = confusion_matrix(test_y,y_pred)\n",
    "\n",
    "eval_info(ADAB_best,test_y,y_pred_prob,cm)\n",
    "print(\"train_score:\",train_score,\"\\n\",\"test_score:\",test_score)"
   ]
  }
 ],
 "metadata": {
  "kernelspec": {
   "display_name": "Python 3",
   "language": "python",
   "name": "python3"
  },
  "language_info": {
   "codemirror_mode": {
    "name": "ipython",
    "version": 3
   },
   "file_extension": ".py",
   "mimetype": "text/x-python",
   "name": "python",
   "nbconvert_exporter": "python",
   "pygments_lexer": "ipython3",
   "version": "3.6.4"
  },
  "nbTranslate": {
   "displayLangs": [
    "*"
   ],
   "hotkey": "alt-t",
   "langInMainMenu": true,
   "sourceLang": "en",
   "targetLang": "fr",
   "useGoogleTranslate": true
  },
  "toc": {
   "base_numbering": 1,
   "nav_menu": {},
   "number_sections": true,
   "sideBar": true,
   "skip_h1_title": false,
   "title_cell": "Table of Contents",
   "title_sidebar": "Contents",
   "toc_cell": false,
   "toc_position": {},
   "toc_section_display": true,
   "toc_window_display": true
  },
  "varInspector": {
   "cols": {
    "lenName": 16,
    "lenType": 16,
    "lenVar": 40
   },
   "kernels_config": {
    "python": {
     "delete_cmd_postfix": "",
     "delete_cmd_prefix": "del ",
     "library": "var_list.py",
     "varRefreshCmd": "print(var_dic_list())"
    },
    "r": {
     "delete_cmd_postfix": ") ",
     "delete_cmd_prefix": "rm(",
     "library": "var_list.r",
     "varRefreshCmd": "cat(var_dic_list()) "
    }
   },
   "types_to_exclude": [
    "module",
    "function",
    "builtin_function_or_method",
    "instance",
    "_Feature"
   ],
   "window_display": false
  }
 },
 "nbformat": 4,
 "nbformat_minor": 2
}
