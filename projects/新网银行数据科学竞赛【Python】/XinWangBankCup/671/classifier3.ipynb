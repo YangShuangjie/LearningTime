{
 "cells": [
  {
   "cell_type": "markdown",
   "metadata": {},
   "source": [
    "# preprocess"
   ]
  },
  {
   "cell_type": "code",
   "execution_count": 49,
   "metadata": {},
   "outputs": [],
   "source": [
    "import matplotlib.pyplot as plt\n",
    "%matplotlib inline\n",
    "from jupyterthemes import jtplot\n",
    "jtplot.style(theme='gruvboxd')\n",
    "jtplot.style(context='talk', fscale=1.4, spines=False, gridlines='--')\n",
    "jtplot.style(ticks=True, grid=False, figsize=(6.5, 5))"
   ]
  },
  {
   "cell_type": "code",
   "execution_count": 50,
   "metadata": {},
   "outputs": [],
   "source": [
    "import pandas as pd\n",
    "train_xy = pd.read_csv(\"F:/Sublime Text 3/Files/Python/XinWangBankCup/train_xy_clean.csv\",\n",
    "                       index_col=[\"cust_group\",\"cust_id\"])\n",
    "X = train_xy.drop(\"y\",axis=1)\n",
    "y = train_xy.y"
   ]
  },
  {
   "cell_type": "code",
   "execution_count": 78,
   "metadata": {},
   "outputs": [],
   "source": [
    "from sklearn.model_selection import train_test_split\n",
    "from sklearn.model_selection import StratifiedKFold\n",
    "\n",
    "train_x,test_x,train_y,test_y = train_test_split(X,y,stratify=y)\n",
    "sfk = StratifiedKFold(n_splits=3,shuffle=True, random_state=111)"
   ]
  },
  {
   "cell_type": "markdown",
   "metadata": {},
   "source": [
    "# define metrics"
   ]
  },
  {
   "cell_type": "code",
   "execution_count": 52,
   "metadata": {},
   "outputs": [],
   "source": [
    "import itertools\n",
    "from sklearn.model_selection import learning_curve\n",
    "from sklearn.metrics import classification_report,roc_curve,roc_auc_score,confusion_matrix,auc"
   ]
  },
  {
   "cell_type": "markdown",
   "metadata": {},
   "source": [
    "## confusion matrix"
   ]
  },
  {
   "cell_type": "code",
   "execution_count": 53,
   "metadata": {},
   "outputs": [],
   "source": [
    "def plot_confusion_matrix(cm, classes,\n",
    "                          normalize=False,\n",
    "                          title='Confusion matrix',\n",
    "                          cmap=plt.cm.Blues):\n",
    "    \"\"\"\n",
    "    This function prints and plots the confusion matrix.\n",
    "    Normalization can be applied by setting `normalize=True`.\n",
    "    \"\"\"\n",
    "    if normalize:\n",
    "        cm = cm.astype('float') / cm.sum(axis=1)[:, np.newaxis]\n",
    "\n",
    "    plt.figure()\n",
    "    plt.imshow(cm, interpolation='nearest', cmap=cmap)\n",
    "    plt.title(title)\n",
    "    plt.colorbar()\n",
    "    tick_marks = np.arange(len(classes))\n",
    "    plt.xticks(tick_marks, classes, rotation=45)\n",
    "    plt.yticks(tick_marks, classes)\n",
    "\n",
    "    fmt = '.2f' if normalize else 'd'\n",
    "    thresh = cm.max() / 2.\n",
    "    for i, j in itertools.product(range(cm.shape[0]), range(cm.shape[1])):\n",
    "        plt.text(j, i, format(cm[i, j], fmt),\n",
    "                 horizontalalignment=\"center\",\n",
    "                 color=\"white\" if cm[i, j] > thresh else \"black\")\n",
    "\n",
    "    plt.tight_layout()\n",
    "    plt.ylabel('True label')\n",
    "    plt.xlabel('Predicted label')\n",
    "    return plt"
   ]
  },
  {
   "cell_type": "markdown",
   "metadata": {},
   "source": [
    "## learning_curve"
   ]
  },
  {
   "cell_type": "code",
   "execution_count": 54,
   "metadata": {},
   "outputs": [],
   "source": [
    "def plot_learning_curve(estimator,title,X,y,ylim=None,cv=None,\\\n",
    "\t\t\t\t\t\tn_jobs=-1,train_sizes=np.linspace(0.1,1.0, 5)):\n",
    "\tplt.title(title)\n",
    "\tif ylim is not None:\n",
    "\t\tplt.ylim(*ylim)\n",
    "\tplt.xlabel('Training Examples')\n",
    "\tplt.ylabel('Score')\n",
    "\ttrain_sizes,train_scores,test_scores = learning_curve(estimator, X, y,\\\n",
    "\t\t\t\t\t\t\t\t\tcv=cv,n_jobs=n_jobs,train_sizes=train_sizes) # key step\n",
    "\ttrain_scores_mean = np.mean(train_scores,axis=1)\n",
    "\ttrain_scores_std = np.std(train_scores,axis=1)\n",
    "\ttest_scores_mean = np.mean(test_scores,axis=1)\n",
    "\ttest_scores_std = np.std(test_scores,axis=1)\n",
    "\tplt.grid()\n",
    "\tplt.fill_between(train_sizes,train_scores_mean-train_scores_std,\\\n",
    "\t\t\t\t\ttrain_scores_mean+train_scores_std,alpha=0.1,color='r')\n",
    "\tplt.fill_between(train_sizes,test_scores_mean-test_scores_std,\\\n",
    "\t\t\t\t\ttest_scores_mean+test_scores_std,alpha=0.1,color='g')\n",
    "\tplt.plot(train_sizes,train_scores_mean,'o-',color='r',label='Training score')\n",
    "\tplt.plot(train_sizes,test_scores_mean,'o-',color='g',label='Cross-Validation score')\n",
    "\tplt.legend(loc='best')\n",
    "\treturn plt"
   ]
  },
  {
   "cell_type": "markdown",
   "metadata": {},
   "source": [
    "# model evaluation info"
   ]
  },
  {
   "cell_type": "code",
   "execution_count": 65,
   "metadata": {},
   "outputs": [],
   "source": [
    "def eval_info(model,test_y,y_pred_prob,\n",
    "                  cm,classes=y.unique(),normalize=False):\n",
    "    print(\"------%s classification_report------\\n\" % model.__class__.__name__,\n",
    "          classification_report(test_y,y_pred))\n",
    "    \n",
    "    plot_confusion_matrix(cm, classes,\n",
    "                          normalize=False,\n",
    "                          title='Confusion matrix',\n",
    "                          cmap=plt.cm.Blues)\n",
    "    \n",
    "    print(\"auc:\",roc_auc_score(test_y,y_pred_prob))\n",
    "#     print(\"auc(y_pred):\",roc_auc_score(test_y,y_pred))\n",
    "#     fpr, tpr, thresholds = roc_curve(test_y,y_pred_prob,pos_label=1)\n",
    "#     auc_ = auc(fpr, tpr)\n",
    "#     print(\"auc(fpr,tpr):\",auc_)"
   ]
  },
  {
   "cell_type": "markdown",
   "metadata": {},
   "source": [
    "# GBDT"
   ]
  },
  {
   "cell_type": "code",
   "execution_count": 56,
   "metadata": {},
   "outputs": [],
   "source": [
    "from sklearn.model_selection import GridSearchCV\n",
    "from sklearn.ensemble import GradientBoostingClassifier"
   ]
  },
  {
   "cell_type": "code",
   "execution_count": 68,
   "metadata": {
    "deletable": false,
    "editable": false,
    "run_control": {
     "frozen": true
    }
   },
   "outputs": [
    {
     "name": "stdout",
     "output_type": "stream",
     "text": [
      "best score: 0.794060 \n",
      " best model: GradientBoostingClassifier(criterion='friedman_mse', init=None,\n",
      "              learning_rate=0.03, loss='deviance', max_depth=4,\n",
      "              max_features=0.7, max_leaf_nodes=None,\n",
      "              min_impurity_decrease=0.0, min_impurity_split=None,\n",
      "              min_samples_leaf=1, min_samples_split=2,\n",
      "              min_weight_fraction_leaf=0.0, n_estimators=145,\n",
      "              presort='auto', random_state=1, subsample=0.8, verbose=0,\n",
      "              warm_start=False)\n",
      "------GradientBoostingClassifier classification_report------\n",
      "              precision    recall  f1-score   support\n",
      "\n",
      "          0       0.95      1.00      0.98      3537\n",
      "          1       0.22      0.01      0.02       171\n",
      "\n",
      "avg / total       0.92      0.95      0.93      3708\n",
      "\n",
      "auc: 0.8310905432462506\n",
      "train_score: 0.9590864130923478 \n",
      " test_score: 0.9525350593311759\n"
     ]
    },
    {
     "data": {
      "image/png": "[encoded data removed]",
      "text/plain": [
       "<Figure size 374.4x288 with 2 Axes>"
      ]
     },
     "metadata": {},
     "output_type": "display_data"
    }
   ],
   "source": [
    "param_grid = {\n",
    "        'loss':['deviance'],\n",
    "        'n_estimators':[145],\n",
    "        'max_depth':[4],\n",
    "        'learning_rate':[0.03],\n",
    "#         'criterion':['friedman_mse'],#默认\n",
    "        'subsample': [0.8],\n",
    "        'max_features':[0.7],\n",
    "#         \"max_leaf_nodes\":[8],\n",
    "#         'min_impurity_decrease':[0],\n",
    "        'random_state':[1],\n",
    "}\n",
    "\n",
    "GBDT = GridSearchCV(GradientBoostingClassifier(),param_grid,cv=sfk,scoring='roc_auc')\n",
    "GBDT.fit(train_x,train_y)\n",
    "\n",
    "print(\"best score: %f \\n best model: %s\" % (GBDT.best_score_,GBDT.best_estimator_))\n",
    "\n",
    "GBDT_best = GBDT.best_estimator_\n",
    "\n",
    "train_score = GBDT_best.score(train_x,train_y)\n",
    "test_score = GBDT_best.score(test_x,test_y)\n",
    "y_pred = GBDT_best.predict(test_x)\n",
    "y_pred_prob = GBDT_best.predict_proba(test_x)[:,1]\n",
    "cm = confusion_matrix(test_y,y_pred)\n",
    "\n",
    "eval_info(GBDT_best,test_y,y_pred_prob,cm)\n",
    "print(\"train_score:\",train_score,\"\\n\",\"test_score:\",test_score)"
   ]
  },
  {
   "cell_type": "code",
   "execution_count": 80,
   "metadata": {},
   "outputs": [
    {
     "name": "stdout",
     "output_type": "stream",
     "text": [
      "best_gbdt_cv_auc: [0.82791629 0.81077887 0.804442   0.77399612 0.81078587]\n"
     ]
    }
   ],
   "source": [
    "# save model\n",
    "import pickle\n",
    "with open(\"./best_models/gbdt_pkl.txt\",'wb') as f:\n",
    "    pickle.dump(GBDT_best,f)\n",
    "\n",
    "# cross-validation\n",
    "from sklearn.cross_validation import cross_val_score\n",
    "gbdt_cv_auc = cross_val_score(GBDT_best,X,y,cv=5,scoring=\"roc_auc\")\n",
    "print(\"best_gbdt_cv_auc:\",gbdt_cv_auc)"
   ]
  },
  {
   "cell_type": "code",
   "execution_count": null,
   "metadata": {},
   "outputs": [],
   "source": [
    "# predict\n",
    "test_all = pd.read_csv(\"test_all_clean.csv\",index_col=['cust_group','cust_id']).fillna(-1)\n",
    "y_pred = GBDT_best.predict(test_all)\n",
    "y_pred_prob = GBDT_best.predict_proba(test_all)[:,1]\n",
    "\n",
    "print(pd.Series(y_pred).value_counts())\n",
    "pred_result = pd.Series(y_pred_prob,index=test_all.index.get_level_values(level=1),name=\"pred_prob\")\n",
    "pred_result.index.name = \"cust_id\"\n",
    "pred_result.sort_index().to_csv(\"./pred_result.csv\",header=True)"
   ]
  },
  {
   "cell_type": "code",
   "execution_count": null,
   "metadata": {},
   "outputs": [],
   "source": []
  }
 ],
 "metadata": {
  "kernelspec": {
   "display_name": "Python 3",
   "language": "python",
   "name": "python3"
  },
  "language_info": {
   "codemirror_mode": {
    "name": "ipython",
    "version": 3
   },
   "file_extension": ".py",
   "mimetype": "text/x-python",
   "name": "python",
   "nbconvert_exporter": "python",
   "pygments_lexer": "ipython3",
   "version": "3.6.4"
  },
  "nbTranslate": {
   "displayLangs": [
    "*"
   ],
   "hotkey": "alt-t",
   "langInMainMenu": true,
   "sourceLang": "en",
   "targetLang": "fr",
   "useGoogleTranslate": true
  },
  "toc": {
   "base_numbering": 1,
   "nav_menu": {},
   "number_sections": true,
   "sideBar": true,
   "skip_h1_title": false,
   "title_cell": "Table of Contents",
   "title_sidebar": "Contents",
   "toc_cell": false,
   "toc_position": {},
   "toc_section_display": true,
   "toc_window_display": true
  },
  "varInspector": {
   "cols": {
    "lenName": 16,
    "lenType": 16,
    "lenVar": 40
   },
   "kernels_config": {
    "python": {
     "delete_cmd_postfix": "",
     "delete_cmd_prefix": "del ",
     "library": "var_list.py",
     "varRefreshCmd": "print(var_dic_list())"
    },
    "r": {
     "delete_cmd_postfix": ") ",
     "delete_cmd_prefix": "rm(",
     "library": "var_list.r",
     "varRefreshCmd": "cat(var_dic_list()) "
    }
   },
   "types_to_exclude": [
    "module",
    "function",
    "builtin_function_or_method",
    "instance",
    "_Feature"
   ],
   "window_display": false
  }
 },
 "nbformat": 4,
 "nbformat_minor": 2
}
