{
 "cells": [
  {
   "cell_type": "code",
   "execution_count": 1,
   "metadata": {},
   "outputs": [],
   "source": [
    "import pandas as pd\n",
    "import numpy as np\n",
    "train_xy = pd.read_csv(\"./feature_clean_second/train_xy_poly45.csv\",index_col=[\"cust_group\",\"cust_id\"])\n",
    "\n",
    "# train_xy.replace({\"group_1\":1,\"group_2\":2,\"group_3\":3},inplace=True)\n",
    "X = train_xy.drop(\"y\",axis=1)\n",
    "y = train_xy.y"
   ]
  },
  {
   "cell_type": "code",
   "execution_count": 2,
   "metadata": {},
   "outputs": [
    {
     "data": {
      "text/plain": [
       "0    14165\n",
       "1      686\n",
       "Name: y, dtype: int64"
      ]
     },
     "execution_count": 2,
     "metadata": {},
     "output_type": "execute_result"
    }
   ],
   "source": [
    "y.value_counts()#[0]/y.value_counts()[1]"
   ]
  },
  {
   "cell_type": "markdown",
   "metadata": {},
   "source": [
    "# over-sampling"
   ]
  },
  {
   "cell_type": "code",
   "execution_count": 3,
   "metadata": {},
   "outputs": [],
   "source": [
    "from imblearn.over_sampling import SMOTE,ADASYN"
   ]
  },
  {
   "cell_type": "code",
   "execution_count": 4,
   "metadata": {},
   "outputs": [
    {
     "name": "stderr",
     "output_type": "stream",
     "text": [
      "F:\\Anaconda3\\lib\\site-packages\\sklearn\\utils\\deprecation.py:77: DeprecationWarning: Function _ratio_float is deprecated; Use a float for 'ratio' is deprecated from version 0.2. The support will be removed in 0.4. Use a dict, str, or a callable instead.\n",
      "  warnings.warn(msg, category=DeprecationWarning)\n"
     ]
    }
   ],
   "source": [
    "X_resampled_smote,y_resampled_smote = SMOTE(ratio=1/1.3,random_state=333).fit_sample(X,y)"
   ]
  },
  {
   "cell_type": "code",
   "execution_count": 9,
   "metadata": {},
   "outputs": [
    {
     "data": {
      "text/plain": [
       "0    14165\n",
       "1    10896\n",
       "dtype: int64"
      ]
     },
     "execution_count": 9,
     "metadata": {},
     "output_type": "execute_result"
    }
   ],
   "source": [
    "# len(y_resampled_smote)\n",
    "# len(X_resampled_smote)\n",
    "pd.Series(y_resampled_smote).value_counts()#[0]/y.value_counts()[1]"
   ]
  },
  {
   "cell_type": "code",
   "execution_count": 12,
   "metadata": {},
   "outputs": [],
   "source": [
    "ors= pd.concat([pd.Series(y_resampled_smote),pd.DataFrame(X_resampled_smote)],1)\n",
    "ors.columns = [\"y\"]+X.columns.tolist()\n",
    "ors = ors.sample(frac=1)\n",
    "\n",
    "ors.to_csv(\"./feature_clean_second/train_xy_poly45_oversample.csv\",index=False,header=True)"
   ]
  },
  {
   "cell_type": "code",
   "execution_count": 23,
   "metadata": {},
   "outputs": [],
   "source": [
    "# X_resampled_adasyn,y_resampled_adasyn = ADASYN().fit_sample(X,y)\n",
    "\n",
    "# pd.Series(y2_resampled_smote).value_counts()"
   ]
  },
  {
   "cell_type": "markdown",
   "metadata": {},
   "source": [
    "# under-sampling"
   ]
  },
  {
   "cell_type": "code",
   "execution_count": null,
   "metadata": {
    "deletable": false,
    "editable": false,
    "run_control": {
     "frozen": true
    }
   },
   "outputs": [],
   "source": [
    "from imblearn.ensemble import  EasyEnsemble\n",
    "ee = EasyEnsemble(n_subsets=5,ratio=0.25,return_indices=True)\n",
    "\n",
    "X_resampled_ee,y_resampled_ee,idx = ee.fit_sample(X,y)\n",
    "\n",
    "for i in range(len(X_resampled_ee)):\n",
    "    urs = pd.concat(\n",
    "                [pd.Series(y_resampled_ee[i],name=\"y\",index=idx[i]),\n",
    "                 pd.DataFrame(X_resampled_ee[i],index=idx[i])],1\n",
    "    )\n",
    "    urs.index.name = \"cust_id\"\n",
    "    urs.columns = [\"y\"]+X.columns.tolist()\n",
    "    urs=urs.sample(frac=1)\n",
    "    urs.to_csv(\"F:/Sublime Text 3/Files/Python/XinWangBankCup/resample data/under_resample%s.csv\" % (i+1),header=True)"
   ]
  }
 ],
 "metadata": {
  "kernelspec": {
   "display_name": "Python 3",
   "language": "python",
   "name": "python3"
  },
  "language_info": {
   "codemirror_mode": {
    "name": "ipython",
    "version": 3
   },
   "file_extension": ".py",
   "mimetype": "text/x-python",
   "name": "python",
   "nbconvert_exporter": "python",
   "pygments_lexer": "ipython3",
   "version": "3.6.4"
  },
  "nbTranslate": {
   "displayLangs": [
    "*"
   ],
   "hotkey": "alt-t",
   "langInMainMenu": true,
   "sourceLang": "en",
   "targetLang": "fr",
   "useGoogleTranslate": true
  },
  "toc": {
   "base_numbering": 1,
   "nav_menu": {},
   "number_sections": true,
   "sideBar": true,
   "skip_h1_title": false,
   "title_cell": "Table of Contents",
   "title_sidebar": "Contents",
   "toc_cell": false,
   "toc_position": {},
   "toc_section_display": true,
   "toc_window_display": false
  },
  "varInspector": {
   "cols": {
    "lenName": 16,
    "lenType": 16,
    "lenVar": 40
   },
   "kernels_config": {
    "python": {
     "delete_cmd_postfix": "",
     "delete_cmd_prefix": "del ",
     "library": "var_list.py",
     "varRefreshCmd": "print(var_dic_list())"
    },
    "r": {
     "delete_cmd_postfix": ") ",
     "delete_cmd_prefix": "rm(",
     "library": "var_list.r",
     "varRefreshCmd": "cat(var_dic_list()) "
    }
   },
   "types_to_exclude": [
    "module",
    "function",
    "builtin_function_or_method",
    "instance",
    "_Feature"
   ],
   "window_display": false
  }
 },
 "nbformat": 4,
 "nbformat_minor": 2
}
